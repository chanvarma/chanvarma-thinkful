{
 "cells": [
  {
   "cell_type": "code",
   "execution_count": 88,
   "metadata": {
    "ExecuteTime": {
     "end_time": "2019-07-15T16:41:25.243836Z",
     "start_time": "2019-07-15T16:41:25.235031Z"
    }
   },
   "outputs": [
    {
     "data": {
      "text/plain": [
       "['(2004)']"
      ]
     },
     "execution_count": 88,
     "metadata": {},
     "output_type": "execute_result"
    }
   ],
   "source": [
    "#re.findall('\\(.*?\\)',b1)\n",
    "re.findall('\\(.*?\\)',f1)"
   ]
  },
  {
   "cell_type": "code",
   "execution_count": 738,
   "metadata": {
    "ExecuteTime": {
     "end_time": "2019-07-16T04:06:52.979840Z",
     "start_time": "2019-07-16T04:06:52.863462Z"
    }
   },
   "outputs": [],
   "source": [
    "import pandas as pd\n",
    "import numpy as np\n",
    "from bs4 import BeautifulSoup\n",
    "import requests\n",
    "import re\n",
    "\n",
    "import isbn_hyphenate"
   ]
  },
  {
   "cell_type": "code",
   "execution_count": 655,
   "metadata": {
    "ExecuteTime": {
     "end_time": "2019-07-16T03:15:32.754974Z",
     "start_time": "2019-07-16T03:15:32.750889Z"
    }
   },
   "outputs": [],
   "source": [
    "wikipages = ['https://en.wikipedia.org/wiki/List_of_children%27s_books_made_into_feature_films?oldformat=true',\n",
    "             'https://en.wikipedia.org/wiki/List_of_fiction_works_made_into_feature_films_(0%E2%80%939,_A%E2%80%93C)?oldformat=true',\n",
    "             'https://en.wikipedia.org/wiki/List_of_fiction_works_made_into_feature_films_(D%E2%80%93J)?oldformat=true',\n",
    "             'https://en.wikipedia.org/wiki/List_of_fiction_works_made_into_feature_films_(K%E2%80%93R)?oldformat=true',\n",
    "             'https://en.wikipedia.org/wiki/List_of_fiction_works_made_into_feature_films_(S%E2%80%93Z)?oldformat=true'\n",
    "            ]"
   ]
  },
  {
   "cell_type": "code",
   "execution_count": 656,
   "metadata": {
    "ExecuteTime": {
     "end_time": "2019-07-16T03:15:34.018288Z",
     "start_time": "2019-07-16T03:15:34.008286Z"
    }
   },
   "outputs": [],
   "source": [
    "def add_to_rows(page_soup):\n",
    "    '''\n",
    "    Method extracts row elements from the soup tags of individual pages \n",
    "    and appends them to the `rows` list.\n",
    "    \n",
    "    '''\n",
    "    \n",
    "    global rows\n",
    "    \n",
    "    tables = page_soup.find_all('table', {'class': 'wikitable'})\n",
    "\n",
    "    for alphabet in tables:\n",
    "        rows += alphabet.findAll('tr')\n",
    "    \n",
    "    print(\"Tables added: {}, Rows added: {}\".format(len(tables), len(rows)))"
   ]
  },
  {
   "cell_type": "code",
   "execution_count": 663,
   "metadata": {
    "ExecuteTime": {
     "end_time": "2019-07-16T03:16:46.448044Z",
     "start_time": "2019-07-16T03:16:46.443382Z"
    }
   },
   "outputs": [],
   "source": [
    "def working_book_link(book_link):\n",
    "    if '/wiki/' in book_link:\n",
    "        return 'https://en.wikipedia.org' + book_link\n",
    "    return book_link"
   ]
  },
  {
   "cell_type": "code",
   "execution_count": 789,
   "metadata": {
    "ExecuteTime": {
     "end_time": "2019-07-16T04:31:31.456497Z",
     "start_time": "2019-07-16T04:31:31.442615Z"
    }
   },
   "outputs": [],
   "source": [
    "def add_to_book_film_dict():\n",
    "    '''\n",
    "    Method parses newly updated rows for book/film title, book author,\n",
    "    number of adaptions, and list of adaptations, and adds them to the\n",
    "    `book_film_dict` as a nested dictionary. \n",
    "    '''\n",
    "    global sum_adaptations\n",
    "    \n",
    "    for row in rows:\n",
    "        cols = row.findAll('td')\n",
    "\n",
    "        try:\n",
    "            if (len(cols[0].findAll('a')) == 2) and (cols[1].find('a') is not None):\n",
    "                series = cols[0].text.replace('\\n', '').split(',')[0]\n",
    "\n",
    "                book_title = cols[0].findAll('a')[0]['title']\n",
    "                author = cols[0].findAll('a')[-1]['title']\n",
    "\n",
    "                book_wiki_url = working_book_link(cols[0].findAll('a')[0]['href'])\n",
    "\n",
    "                try:\n",
    "                    adaptations = clean_adaptations(get_adaptations(cols[1].findAll('a')))\n",
    "                except KeyError:\n",
    "                    adaptations = []\n",
    "                    pass\n",
    "\n",
    "                sum_adaptations += len(adaptations)\n",
    "\n",
    "                book_film_dict[series] = {'author': author,\n",
    "                                            'book_title': book_title,\n",
    "                                           'book_wiki_url': book_wiki_url,\n",
    "                                           'count': len(adaptations),\n",
    "                                           'adaptations': adaptations,\n",
    "                                            'isbn': '', 'oclc':'', 'usable': False}\n",
    "\n",
    "        except IndexError or KeyError:\n",
    "            pass\n",
    "        \n",
    "    print(\"No. of rows/original books in dict: {}, No. of adaptations: {} \\n\"\n",
    "          .format(len(book_film_dict), sum_adaptations))"
   ]
  },
  {
   "cell_type": "code",
   "execution_count": 659,
   "metadata": {
    "ExecuteTime": {
     "end_time": "2019-07-16T03:15:39.283633Z",
     "start_time": "2019-07-16T03:15:39.274750Z"
    }
   },
   "outputs": [],
   "source": [
    "def get_adaptations(href_list):\n",
    "    adaptations = []\n",
    "    \n",
    "    if len(href_list) == 1:\n",
    "        adaptations.append(href_list[0]['title'])\n",
    "        return adaptations\n",
    "        \n",
    "    for index, tag in enumerate(href_list):\n",
    "        year_search = re.search(r'\\d\\d\\d\\d', tag['href'])\n",
    "        \n",
    "        if year_search is not None:  #There is a 4 digit number in the title\n",
    "            year_search = year_search.group()\n",
    "        \n",
    "            if year_search not in tag['title']:\n",
    "                version = tag['title'] + ' (' + year_search + ')'\n",
    "                adaptations.append(version)\n",
    "            else:\n",
    "                adaptations.append(tag['title'])\n",
    "        else:\n",
    "            adaptations.append(tag['title'])\n",
    "            \n",
    "    return adaptations\n",
    "\n",
    "def clean_adaptations(adaptations):\n",
    "    cleaned = []\n",
    "    \n",
    "    for title in adaptations:\n",
    "        if 'TV' in title or 'miniseries' in title:\n",
    "            continue\n",
    "        if 'page does not exist' in title:\n",
    "            continue\n",
    "        else:\n",
    "            cleaned.append(title)\n",
    "            \n",
    "    return cleaned"
   ]
  },
  {
   "cell_type": "code",
   "execution_count": 809,
   "metadata": {
    "ExecuteTime": {
     "end_time": "2019-07-16T04:42:15.838421Z",
     "start_time": "2019-07-16T04:42:12.858028Z"
    }
   },
   "outputs": [
    {
     "name": "stdout",
     "output_type": "stream",
     "text": [
      "Tables added: 25, Rows added: 376\n",
      "No. of rows/original books in dict: 259, No. of adaptations: 754 \n",
      "\n",
      "Tables added: 3, Rows added: 798\n",
      "No. of rows/original books in dict: 553, No. of adaptations: 2046 \n",
      "\n",
      "Tables added: 7, Rows added: 1245\n",
      "No. of rows/original books in dict: 813, No. of adaptations: 3917 \n",
      "\n",
      "Tables added: 8, Rows added: 1662\n",
      "No. of rows/original books in dict: 1056, No. of adaptations: 6426 \n",
      "\n",
      "Tables added: 7, Rows added: 2034\n",
      "No. of rows/original books in dict: 1237, No. of adaptations: 9466 \n",
      "\n",
      "Of the 2034 rows parsed, 1237 were added to the dictionary ~ 60.816125860373646%\n"
     ]
    }
   ],
   "source": [
    "rows = []\n",
    "book_film_dict = {}\n",
    "sum_adaptations = 0\n",
    "\n",
    "for url in wikipages:\n",
    "    page = requests.get(url).text\n",
    "    soup = BeautifulSoup(page, 'lxml')\n",
    "    \n",
    "    add_to_rows(soup)\n",
    "    add_to_book_film_dict()\n",
    "    \n",
    "print(\"Of the {} rows parsed, {} were added to the dictionary ~ {}%\"\n",
    "      .format(len(rows), len(book_film_dict), (len(book_film_dict) * 100/len(rows))))"
   ]
  },
  {
   "cell_type": "markdown",
   "metadata": {},
   "source": [
    "## Don't touch above"
   ]
  },
  {
   "cell_type": "code",
   "execution_count": 828,
   "metadata": {
    "ExecuteTime": {
     "end_time": "2019-07-16T05:00:30.546826Z",
     "start_time": "2019-07-16T05:00:30.234870Z"
    }
   },
   "outputs": [
    {
     "data": {
      "text/plain": [
       "['broken', 'broken']"
      ]
     },
     "execution_count": 828,
     "metadata": {},
     "output_type": "execute_result"
    }
   ],
   "source": [
    "get_isbn_oclc('https://en.wikipedia.org/wiki/Adventures_of_Huckleberry_Finn')"
   ]
  },
  {
   "cell_type": "code",
   "execution_count": 810,
   "metadata": {
    "ExecuteTime": {
     "end_time": "2019-07-16T04:42:18.476207Z",
     "start_time": "2019-07-16T04:42:18.466097Z"
    }
   },
   "outputs": [
    {
     "data": {
      "text/plain": [
       "{'author': 'Mark Twain',\n",
       " 'book_title': 'Adventures of Huckleberry Finn',\n",
       " 'book_wiki_url': 'https://en.wikipedia.org/wiki/Adventures_of_Huckleberry_Finn',\n",
       " 'count': 14,\n",
       " 'adaptations': ['Huck and Tom',\n",
       "  'Huckleberry Finn (1920 film)',\n",
       "  'Huckleberry Finn (1931 film)',\n",
       "  'The Adventures of Huckleberry Finn (1939 film)',\n",
       "  'The Adventures of Huckleberry Finn (1955 film)',\n",
       "  'The Adventures of Huckleberry Finn (1960 film)',\n",
       "  'Huckleberry Finn (1974 film)',\n",
       "  'Hopelessly Lost',\n",
       "  'Huckleberry Finn (1975 film)',\n",
       "  'The Adventures of Mark Twain (1985 film)',\n",
       "  'Back to Hannibal: The Return of Tom Sawyer and Huckleberry Finn',\n",
       "  'The Adventures of Huck Finn (1993 film)',\n",
       "  'Tom and Huck',\n",
       "  \"Tomato Sawyer and Huckleberry Larry's Big River Rescue\"],\n",
       " 'isbn': '',\n",
       " 'oclc': '',\n",
       " 'usable': False}"
      ]
     },
     "execution_count": 810,
     "metadata": {},
     "output_type": "execute_result"
    }
   ],
   "source": [
    "book_film_dict['Adventures of Huckleberry Finn (1884)']"
   ]
  },
  {
   "cell_type": "code",
   "execution_count": 837,
   "metadata": {
    "ExecuteTime": {
     "end_time": "2019-07-16T05:17:55.450954Z",
     "start_time": "2019-07-16T05:12:54.894050Z"
    },
    "scrolled": false
   },
   "outputs": [
    {
     "name": "stdout",
     "output_type": "stream",
     "text": [
      "Usable: 0, Broken: 0, Total: 0\n",
      "Usable: 22, Broken: 28, Total: 50\n",
      "Usable: 46, Broken: 54, Total: 100\n",
      "Usable: 69, Broken: 81, Total: 150\n",
      "Usable: 93, Broken: 107, Total: 200\n",
      "Usable: 114, Broken: 136, Total: 250\n",
      "Usable: 135, Broken: 165, Total: 300\n",
      "Usable: 155, Broken: 195, Total: 350\n",
      "Usable: 165, Broken: 235, Total: 400\n",
      "Usable: 178, Broken: 272, Total: 450\n",
      "Usable: 188, Broken: 312, Total: 500\n",
      "Usable: 204, Broken: 346, Total: 550\n",
      "Usable: 227, Broken: 373, Total: 600\n",
      "Usable: 248, Broken: 402, Total: 650\n",
      "Usable: 272, Broken: 428, Total: 700\n",
      "Usable: 287, Broken: 463, Total: 750\n",
      "Usable: 310, Broken: 490, Total: 800\n",
      "Usable: 328, Broken: 522, Total: 850\n",
      "Usable: 346, Broken: 554, Total: 900\n",
      "Usable: 363, Broken: 587, Total: 950\n",
      "Usable: 380, Broken: 620, Total: 1000\n",
      "Usable: 393, Broken: 657, Total: 1050\n",
      "Usable: 414, Broken: 686, Total: 1100\n",
      "Usable: 437, Broken: 713, Total: 1150\n",
      "Usable: 453, Broken: 747, Total: 1200\n"
     ]
    }
   ],
   "source": [
    "broken_count = 0\n",
    "usable_count = 0\n",
    "index = 0\n",
    "\n",
    "for key in book_film_dict.keys():\n",
    "    \n",
    "    link = book_film_dict[key]['book_wiki_url']\n",
    "    \n",
    "    try:\n",
    "        book_film_dict[key]['isbn'] = get_isbn(link)\n",
    "    \n",
    "        if book_film_dict[key]['isbn'] == 'broken':\n",
    "            book_film_dict[key]['oclc'] = get_oclc(link)\n",
    "            if book_film_dict[key]['oclc'] == 'broken':\n",
    "                book_film_dict[key]['usable'] = False\n",
    "                #Nothing changes, the book is unusable, and the 'usable' flag remains False\n",
    "        else:\n",
    "            book_film_dict[key]['usable'] = True\n",
    "            usable_count += 1\n",
    "    except NameError:\n",
    "        pass\n",
    "        \n",
    "    if (index % 50 == 0):\n",
    "        broken_count = index - usable_count\n",
    "        print(\"Usable: {}, Broken: {}, Total: {}\".format(usable_count, broken_count, index))\n",
    "    \n",
    "    index += 1\n",
    "        \n"
   ]
  },
  {
   "cell_type": "markdown",
   "metadata": {},
   "source": [
    "we lose a bunch of old books, but it's okay since inflation would have destroyed old movie sales as well. i guess it wokrs out"
   ]
  },
  {
   "cell_type": "code",
   "execution_count": 823,
   "metadata": {
    "ExecuteTime": {
     "end_time": "2019-07-16T04:53:47.300230Z",
     "start_time": "2019-07-16T04:53:47.291043Z"
    }
   },
   "outputs": [],
   "source": [
    "def get_isbn(wiki_url):\n",
    "    try:\n",
    "        page = requests.get(wiki_url).text\n",
    "        soup = BeautifulSoup(page, 'lxml')\n",
    "    except MissingSchema:\n",
    "        return 'broken'  \n",
    "    \n",
    "    infobox = soup.find('table', {'class': 'infobox vcard'})\n",
    "    \n",
    "    if infobox is None:\n",
    "        return 'broken'\n",
    "    \n",
    "    for row in infobox.findAll('tr'):\n",
    "        #ISBN directly available\n",
    "        if ('ISBN' in row.text):\n",
    "            isbn = re.sub('[^0-9]','', row.findAll('a')[-1].text)\n",
    "            try:\n",
    "                isbn = isbn_hyphenate.hyphenate(isbn)\n",
    "                return isbn\n",
    "            except:\n",
    "                return 'broken'\n",
    "        \n",
    "    #Nothing found directly on Infobox\n",
    "    return 'broken' "
   ]
  },
  {
   "cell_type": "code",
   "execution_count": 824,
   "metadata": {
    "ExecuteTime": {
     "end_time": "2019-07-16T04:53:50.357562Z",
     "start_time": "2019-07-16T04:53:50.349353Z"
    }
   },
   "outputs": [],
   "source": [
    "# Only to be used if get_isbn() returns 'not formatted correctly'\n",
    "def get_oclc(wiki_url):\n",
    "    try:\n",
    "        page = requests.get(wiki_url).text\n",
    "        soup = BeautifulSoup(page, 'lxml')\n",
    "    except MissingSchema:\n",
    "        return 'broken'\n",
    "\n",
    "    infobox = soup.find('table', {'class': 'infobox vcard'})\n",
    "    \n",
    "    if infobox is None:\n",
    "        return 'broken'\n",
    "    \n",
    "    for row in infobox.findAll('tr'):\n",
    "        #only OCLC available\n",
    "        if row.find('a', {'title': 'OCLC'}) is not None:\n",
    "            return (row.find('td').text)\n",
    "        \n",
    "    #Nothing found directly on Infobox\n",
    "    return 'broken'     "
   ]
  },
  {
   "cell_type": "code",
   "execution_count": null,
   "metadata": {},
   "outputs": [],
   "source": []
  }
 ],
 "metadata": {
  "hide_input": false,
  "kernelspec": {
   "display_name": "Python 3",
   "language": "python",
   "name": "python3"
  },
  "language_info": {
   "codemirror_mode": {
    "name": "ipython",
    "version": 3
   },
   "file_extension": ".py",
   "mimetype": "text/x-python",
   "name": "python",
   "nbconvert_exporter": "python",
   "pygments_lexer": "ipython3",
   "version": "3.7.1"
  },
  "toc": {
   "base_numbering": 1,
   "nav_menu": {},
   "number_sections": true,
   "sideBar": true,
   "skip_h1_title": false,
   "title_cell": "Table of Contents",
   "title_sidebar": "Contents",
   "toc_cell": false,
   "toc_position": {},
   "toc_section_display": true,
   "toc_window_display": false
  },
  "varInspector": {
   "cols": {
    "lenName": 16,
    "lenType": 16,
    "lenVar": 40
   },
   "kernels_config": {
    "python": {
     "delete_cmd_postfix": "",
     "delete_cmd_prefix": "del ",
     "library": "var_list.py",
     "varRefreshCmd": "print(var_dic_list())"
    },
    "r": {
     "delete_cmd_postfix": ") ",
     "delete_cmd_prefix": "rm(",
     "library": "var_list.r",
     "varRefreshCmd": "cat(var_dic_list()) "
    }
   },
   "types_to_exclude": [
    "module",
    "function",
    "builtin_function_or_method",
    "instance",
    "_Feature"
   ],
   "window_display": false
  }
 },
 "nbformat": 4,
 "nbformat_minor": 2
}
