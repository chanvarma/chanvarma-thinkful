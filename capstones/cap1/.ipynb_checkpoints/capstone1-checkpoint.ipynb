{
 "cells": [
  {
   "cell_type": "code",
   "execution_count": 48,
   "metadata": {
    "ExecuteTime": {
     "end_time": "2019-07-15T09:37:27.464823Z",
     "start_time": "2019-07-15T09:37:27.457346Z"
    }
   },
   "outputs": [],
   "source": [
    "import pandas as pd\n",
    "import numpy as np\n",
    "from bs4 import BeautifulSoup\n",
    "import requests\n",
    "import re"
   ]
  },
  {
   "cell_type": "code",
   "execution_count": 6,
   "metadata": {
    "ExecuteTime": {
     "end_time": "2019-07-15T09:12:57.308610Z",
     "start_time": "2019-07-15T09:12:57.303519Z"
    }
   },
   "outputs": [],
   "source": [
    "wikipages = ['https://en.wikipedia.org/wiki/List_of_fiction_works_made_into_feature_films_(0%E2%80%939,_A%E2%80%93C)?oldformat=true'] \n",
    "url = 'https://en.wikipedia.org/wiki/List_of_fiction_works_made_into_feature_films_(0%E2%80%939,_A%E2%80%93C)?oldformat=true'"
   ]
  },
  {
   "cell_type": "code",
   "execution_count": 9,
   "metadata": {
    "ExecuteTime": {
     "end_time": "2019-07-15T09:15:10.350459Z",
     "start_time": "2019-07-15T09:15:09.903231Z"
    }
   },
   "outputs": [],
   "source": [
    "page1 = requests.get(url).text\n",
    "soup = BeautifulSoup(page1, 'lxml')\n"
   ]
  },
  {
   "cell_type": "code",
   "execution_count": 37,
   "metadata": {
    "ExecuteTime": {
     "end_time": "2019-07-15T09:31:05.225964Z",
     "start_time": "2019-07-15T09:31:04.873470Z"
    }
   },
   "outputs": [
    {
     "data": {
      "text/html": [
       "<div>\n",
       "<style scoped>\n",
       "    .dataframe tbody tr th:only-of-type {\n",
       "        vertical-align: middle;\n",
       "    }\n",
       "\n",
       "    .dataframe tbody tr th {\n",
       "        vertical-align: top;\n",
       "    }\n",
       "\n",
       "    .dataframe thead th {\n",
       "        text-align: right;\n",
       "    }\n",
       "</style>\n",
       "<table border=\"1\" class=\"dataframe\">\n",
       "  <thead>\n",
       "    <tr style=\"text-align: right;\">\n",
       "      <th></th>\n",
       "      <th>book_name</th>\n",
       "      <th>author</th>\n",
       "      <th>year_of_writing</th>\n",
       "      <th>adaption</th>\n",
       "      <th>year_released</th>\n",
       "    </tr>\n",
       "  </thead>\n",
       "  <tbody>\n",
       "  </tbody>\n",
       "</table>\n",
       "</div>"
      ],
      "text/plain": [
       "Empty DataFrame\n",
       "Columns: [book_name, author, year_of_writing, adaption, year_released]\n",
       "Index: []"
      ]
     },
     "execution_count": 37,
     "metadata": {},
     "output_type": "execute_result"
    }
   ],
   "source": [
    "bm_pairs = pd.DataFrame(columns=['book_name', 'author', 'year_of_writing', 'adaption', 'year_released'])\n",
    "bm_pairs"
   ]
  },
  {
   "cell_type": "code",
   "execution_count": 43,
   "metadata": {
    "ExecuteTime": {
     "end_time": "2019-07-15T09:34:11.687711Z",
     "start_time": "2019-07-15T09:34:11.662884Z"
    },
    "scrolled": true
   },
   "outputs": [
    {
     "data": {
      "text/plain": [
       "[<tr>\n",
       " <td><i><a href=\"/wiki/The_A.B.C._Murders\" title=\"The A.B.C. Murders\">The A.B.C. Murders</a></i> (1936), <a href=\"/wiki/Agatha_Christie\" title=\"Agatha Christie\">Agatha Christie</a>\n",
       " </td>\n",
       " <td><i><a href=\"/wiki/The_Alphabet_Murders\" title=\"The Alphabet Murders\">The Alphabet Murders</a></i> (1966)<br/><i><a href=\"/wiki/List_of_Agatha_Christie%27s_Poirot_episodes#Series_Four_(1992)\" title=\"List of Agatha Christie's Poirot episodes\">The A.B.C. Murders</a></i> (1992) (TV)\n",
       " </td></tr>, <tr>\n",
       " <td><i>À ton image</i> (1998), <a href=\"/wiki/Louise_L._Lambrichs\" title=\"Louise L. Lambrichs\">Louise L. Lambrichs</a>\n",
       " </td>\n",
       " <td><i><a href=\"/wiki/%C3%80_ton_image\" title=\"À ton image\">À ton image</a></i> (2004)\n",
       " </td></tr>, <tr>\n",
       " <td><i><a class=\"mw-redirect\" href=\"/wiki/De_Aanslag\" title=\"De Aanslag\">De Aanslag</a></i> (<i>The Assault</i>) (1982), <a href=\"/wiki/Harry_Mulisch\" title=\"Harry Mulisch\">Harry Mulisch</a>\n",
       " </td>\n",
       " <td><i><a class=\"mw-redirect\" href=\"/wiki/The_Assault_(film)\" title=\"The Assault (film)\">The Assault</a></i> (1986)\n",
       " </td></tr>, <tr>\n",
       " <td><i><a href=\"/wiki/About_a_Boy_(novel)\" title=\"About a Boy (novel)\">About a Boy</a></i> (1998), <a href=\"/wiki/Nick_Hornby\" title=\"Nick Hornby\">Nick Hornby</a>\n",
       " </td>\n",
       " <td><i><a href=\"/wiki/About_a_Boy_(film)\" title=\"About a Boy (film)\">About a Boy</a></i> (2002)\n",
       " </td></tr>, <tr>\n",
       " <td><i>About Schmidt</i> (1996), <a href=\"/wiki/Louis_Begley\" title=\"Louis Begley\">Louis Begley</a>\n",
       " </td>\n",
       " <td><i><a href=\"/wiki/About_Schmidt\" title=\"About Schmidt\">About Schmidt</a></i> (2002)\n",
       " </td></tr>, <tr>\n",
       " <td><i><a href=\"/wiki/Absolute_Power_(novel)\" title=\"Absolute Power (novel)\">Absolute Power</a></i> (1996), <a href=\"/wiki/David_Baldacci\" title=\"David Baldacci\">David Baldacci</a>\n",
       " </td>\n",
       " <td><i><a href=\"/wiki/Absolute_Power_(film)\" title=\"Absolute Power (film)\">Absolute Power</a></i> (1997)\n",
       " </td></tr>, <tr>\n",
       " <td><i><a href=\"/wiki/The_Accidental_Tourist\" title=\"The Accidental Tourist\">The Accidental Tourist</a></i> (1985), <a href=\"/wiki/Anne_Tyler\" title=\"Anne Tyler\">Anne Tyler</a>\n",
       " </td>\n",
       " <td><i><a href=\"/wiki/The_Accidental_Tourist_(film)\" title=\"The Accidental Tourist (film)\">The Accidental Tourist</a></i> (1988)\n",
       " </td></tr>, <tr>\n",
       " <td><i>Across 110th</i> (1970), Wally Ferris\n",
       " </td>\n",
       " <td><i><a href=\"/wiki/Across_110th_Street\" title=\"Across 110th Street\">Across 110th Street</a></i> (1972)\n",
       " </td></tr>]"
      ]
     },
     "execution_count": 43,
     "metadata": {},
     "output_type": "execute_result"
    }
   ],
   "source": [
    "rows = soup.find('table', {'class': 'wikitable'}).findAll('tr')\n",
    "rows = rows[1:]\n",
    "rows[:8]"
   ]
  },
  {
   "cell_type": "code",
   "execution_count": 52,
   "metadata": {
    "ExecuteTime": {
     "end_time": "2019-07-15T09:40:35.347888Z",
     "start_time": "2019-07-15T09:40:35.336571Z"
    }
   },
   "outputs": [
    {
     "data": {
      "text/plain": [
       "[<td><i><a href=\"/wiki/The_A.B.C._Murders\" title=\"The A.B.C. Murders\">The A.B.C. Murders</a></i> (1936), <a href=\"/wiki/Agatha_Christie\" title=\"Agatha Christie\">Agatha Christie</a>\n",
       " </td>,\n",
       " <td><i><a href=\"/wiki/The_Alphabet_Murders\" title=\"The Alphabet Murders\">The Alphabet Murders</a></i> (1966)<br/><i><a href=\"/wiki/List_of_Agatha_Christie%27s_Poirot_episodes#Series_Four_(1992)\" title=\"List of Agatha Christie's Poirot episodes\">The A.B.C. Murders</a></i> (1992) (TV)\n",
       " </td>]"
      ]
     },
     "execution_count": 52,
     "metadata": {},
     "output_type": "execute_result"
    }
   ],
   "source": [
    "i = 0\n",
    "btitle = []\n",
    "y = []\n",
    "\n",
    "for row in rows:\n",
    "    cols = row.findAll('td')\n",
    "    \n",
    "    for col in cols:\n",
    "        btitle.append(row.find('i').text)\n",
    "        #y.append(row.)\n",
    "    \n",
    "    break\n",
    "    \n",
    "    \n",
    "    \n",
    "    \n",
    "    \n",
    "    \n",
    "    #i+=1\n",
    "    \n",
    "    #if (i > 16):\n",
    "       # break\n",
    "    \n",
    "cols"
   ]
  },
  {
   "cell_type": "code",
   "execution_count": 53,
   "metadata": {
    "ExecuteTime": {
     "end_time": "2019-07-15T09:40:43.892701Z",
     "start_time": "2019-07-15T09:40:43.885124Z"
    }
   },
   "outputs": [
    {
     "data": {
      "text/plain": [
       "['The A.B.C. Murders', 'The A.B.C. Murders']"
      ]
     },
     "execution_count": 53,
     "metadata": {},
     "output_type": "execute_result"
    }
   ],
   "source": [
    "btitle"
   ]
  },
  {
   "cell_type": "code",
   "execution_count": null,
   "metadata": {},
   "outputs": [],
   "source": []
  }
 ],
 "metadata": {
  "hide_input": false,
  "kernelspec": {
   "display_name": "Python 3",
   "language": "python",
   "name": "python3"
  },
  "language_info": {
   "codemirror_mode": {
    "name": "ipython",
    "version": 3
   },
   "file_extension": ".py",
   "mimetype": "text/x-python",
   "name": "python",
   "nbconvert_exporter": "python",
   "pygments_lexer": "ipython3",
   "version": "3.7.1"
  },
  "toc": {
   "base_numbering": 1,
   "nav_menu": {},
   "number_sections": true,
   "sideBar": true,
   "skip_h1_title": false,
   "title_cell": "Table of Contents",
   "title_sidebar": "Contents",
   "toc_cell": false,
   "toc_position": {},
   "toc_section_display": true,
   "toc_window_display": false
  },
  "varInspector": {
   "cols": {
    "lenName": 16,
    "lenType": 16,
    "lenVar": 40
   },
   "kernels_config": {
    "python": {
     "delete_cmd_postfix": "",
     "delete_cmd_prefix": "del ",
     "library": "var_list.py",
     "varRefreshCmd": "print(var_dic_list())"
    },
    "r": {
     "delete_cmd_postfix": ") ",
     "delete_cmd_prefix": "rm(",
     "library": "var_list.r",
     "varRefreshCmd": "cat(var_dic_list()) "
    }
   },
   "types_to_exclude": [
    "module",
    "function",
    "builtin_function_or_method",
    "instance",
    "_Feature"
   ],
   "window_display": false
  }
 },
 "nbformat": 4,
 "nbformat_minor": 2
}
