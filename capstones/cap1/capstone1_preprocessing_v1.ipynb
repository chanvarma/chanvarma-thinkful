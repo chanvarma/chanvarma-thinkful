{
 "cells": [
  {
   "cell_type": "code",
   "execution_count": 1,
   "metadata": {
    "ExecuteTime": {
     "end_time": "2019-07-16T22:00:34.599080Z",
     "start_time": "2019-07-16T22:00:34.594772Z"
    }
   },
   "outputs": [],
   "source": [
    "#re.findall('\\(.*?\\)',b1)\n",
    "#re.findall('\\(.*?\\)',f1)"
   ]
  },
  {
   "cell_type": "code",
   "execution_count": 300,
   "metadata": {
    "ExecuteTime": {
     "end_time": "2019-07-17T17:38:34.341080Z",
     "start_time": "2019-07-17T17:38:34.333027Z"
    }
   },
   "outputs": [
    {
     "name": "stdout",
     "output_type": "stream",
     "text": [
      "ha\n"
     ]
    }
   ],
   "source": [
    "print('ha')"
   ]
  },
  {
   "cell_type": "code",
   "execution_count": 199,
   "metadata": {
    "ExecuteTime": {
     "end_time": "2019-07-17T00:46:17.025490Z",
     "start_time": "2019-07-17T00:46:16.819798Z"
    }
   },
   "outputs": [],
   "source": [
    "import pandas as pd\n",
    "import numpy as np\n",
    "from bs4 import BeautifulSoup\n",
    "import requests\n",
    "import re\n",
    "import copy\n",
    "\n",
    "from goodreads import client\n",
    "gc = client.GoodreadsClient('9addHIFaPJmit7dzC5ZA', 'iDXvx13Rnt1iJkWOxRkSh9wLnbFWmMNgCUMFLJmLPo')\n",
    "\n",
    "from imdb import IMDb"
   ]
  },
  {
   "cell_type": "code",
   "execution_count": 3,
   "metadata": {
    "ExecuteTime": {
     "end_time": "2019-07-16T22:00:57.303190Z",
     "start_time": "2019-07-16T22:00:57.297382Z"
    }
   },
   "outputs": [],
   "source": [
    "wikipages = ['https://en.wikipedia.org/wiki/List_of_children%27s_books_made_into_feature_films?oldformat=true',\n",
    "             'https://en.wikipedia.org/wiki/List_of_fiction_works_made_into_feature_films_(0%E2%80%939,_A%E2%80%93C)?oldformat=true',\n",
    "             'https://en.wikipedia.org/wiki/List_of_fiction_works_made_into_feature_films_(D%E2%80%93J)?oldformat=true',\n",
    "             'https://en.wikipedia.org/wiki/List_of_fiction_works_made_into_feature_films_(K%E2%80%93R)?oldformat=true',\n",
    "             'https://en.wikipedia.org/wiki/List_of_fiction_works_made_into_feature_films_(S%E2%80%93Z)?oldformat=true'\n",
    "            ]"
   ]
  },
  {
   "cell_type": "code",
   "execution_count": 4,
   "metadata": {
    "ExecuteTime": {
     "end_time": "2019-07-16T22:00:57.317754Z",
     "start_time": "2019-07-16T22:00:57.306805Z"
    }
   },
   "outputs": [],
   "source": [
    "def add_to_rows(page_soup):\n",
    "    \"\"\"\n",
    "    Method extracts row elements from the soup tags of individual \n",
    "    list pages (A - F, H - J, etc.) and appends them to the `rows` \n",
    "    list.\n",
    "    \n",
    "    Args:\n",
    "        page_soup: (BeautifulSoup tag) soup for list page.\n",
    "    \"\"\"\n",
    "    \n",
    "    global rows\n",
    "    \n",
    "    tables = page_soup.find_all('table', {'class': 'wikitable'})\n",
    "\n",
    "    for alphabet in tables:\n",
    "        rows += alphabet.findAll('tr')\n",
    "    \n",
    "    print(\"Tables added: {}, Rows added: {}\".format(len(tables), len(rows)))"
   ]
  },
  {
   "cell_type": "code",
   "execution_count": 166,
   "metadata": {
    "ExecuteTime": {
     "end_time": "2019-07-17T00:10:43.029078Z",
     "start_time": "2019-07-17T00:10:43.025333Z"
    }
   },
   "outputs": [],
   "source": [
    "def working_wiki_link(wiki_link):\n",
    "    \"\"\"\n",
    "    Converts relative URLs to global URLs.\n",
    "    \"\"\"\n",
    "    if '/wiki/' in wiki_link:\n",
    "        return 'https://en.wikipedia.org' + wiki_link\n",
    "    return wiki_link"
   ]
  },
  {
   "cell_type": "code",
   "execution_count": 477,
   "metadata": {
    "ExecuteTime": {
     "end_time": "2019-07-17T20:38:47.068984Z",
     "start_time": "2019-07-17T20:38:47.052132Z"
    }
   },
   "outputs": [],
   "source": [
    "def get_adaptations(book_title, href_list):\n",
    "    \"\"\"\n",
    "    Parses through list of movies associated with a specific `book_title`,\n",
    "    adds movies to `movie_book_dict`, and returns list of movies.\n",
    "    Adds year to the movie title if information available. \n",
    "    \n",
    "    Args:\n",
    "        book_title: (str) name of original book.\n",
    "        href_list: (list) Result of findAll('a') on the movies column.\n",
    "        \n",
    "    Returns:\n",
    "        adaptations: List of movie title names.\n",
    "    \"\"\"\n",
    "    adaptations = []\n",
    "    \n",
    "    if len(href_list) == 1:\n",
    "        adaptations.append(href_list[0]['title'])\n",
    "        return adaptations\n",
    "        \n",
    "    for index, tag in enumerate(href_list):\n",
    "        year_search = re.search(r'\\d\\d\\d\\d', tag['href'])\n",
    "        \n",
    "        if year_search is not None:  #There is a 4 digit number in the title\n",
    "            year_search = year_search.group()\n",
    "        \n",
    "            if year_search not in tag['title']:\n",
    "                version = tag['title'] + ' (' + year_search + ')'\n",
    "            else:\n",
    "                version = tag['title']\n",
    "            \n",
    "            adaptations.append(version)\n",
    "            \n",
    "        \n",
    "        else:\n",
    "            version = tag['title']\n",
    "            adaptations.append(version)\n",
    "        \n",
    "        movie_book_dict[working_wiki_link(tag['href'])] = {'movie_title': version, \n",
    "                                                           'book_title': book_title,\n",
    "                                                           'imdb_no': '', 'usable': '',\n",
    "                                                           'isbn': '', 'oclc': ''}\n",
    "\n",
    "    \n",
    "    return adaptations\n",
    "\n",
    "def clean_adaptations(adaptations):\n",
    "    \"\"\"\n",
    "    Makes sure the list of adaptations doesn't contain TV series or miniseries.\n",
    "    \"\"\"\n",
    "    \n",
    "    cleaned = []\n",
    "    \n",
    "    for title in adaptations:\n",
    "        if 'TV' in title or 'miniseries' in title:\n",
    "            continue\n",
    "        if 'page does not exist' in title:\n",
    "            continue\n",
    "        else:\n",
    "            cleaned.append(title)\n",
    "            \n",
    "    return cleaned"
   ]
  },
  {
   "cell_type": "code",
   "execution_count": 296,
   "metadata": {
    "ExecuteTime": {
     "end_time": "2019-07-17T17:30:39.168354Z",
     "start_time": "2019-07-17T17:30:39.151769Z"
    }
   },
   "outputs": [],
   "source": [
    "def add_to_book_movie_dict():\n",
    "    \"\"\"\n",
    "    Method parses newly updated rows for book/film title, book author,\n",
    "    number of adaptions, and list of adaptations, and adds them to the\n",
    "    `book_movie_dict` as a nested dictionary. \n",
    "    global sum_adaptations\n",
    "    \"\"\"\n",
    "    global sum_adaptations\n",
    "    \n",
    "    for row in rows:\n",
    "        cols = row.findAll('td')\n",
    "\n",
    "        try:\n",
    "            if (len(cols[0].findAll('a')) == 2) and (cols[1].find('a') is not None):\n",
    "                series = cols[0].text.replace('\\n', '').split(',')[0]\n",
    "\n",
    "                book_title = cols[0].findAll('a')[0]['title']\n",
    "                author = cols[0].findAll('a')[-1]['title']\n",
    "\n",
    "                book_wiki_url = working_wiki_link(cols[0].findAll('a')[0]['href'])\n",
    "\n",
    "                try:\n",
    "                    adaptations = clean_adaptations(get_adaptations(book_title, cols[1].findAll('a')))\n",
    "                except KeyError:\n",
    "                    adaptations = []\n",
    "                    pass\n",
    "\n",
    "                sum_adaptations += len(adaptations)\n",
    "\n",
    "                book_movie_dict_all[series] = {'author': author,\n",
    "                                            'book_title': book_title,\n",
    "                                            'book_wiki_url': book_wiki_url,\n",
    "                                            'count': len(adaptations),\n",
    "                                            'adaptations': adaptations,\n",
    "                                            'isbn': '', 'oclc':'', 'valid_identifier': ''}\n",
    "\n",
    "        except IndexError or KeyError:\n",
    "            pass\n",
    "        \n",
    "    print(\"No. of rows/original books in dict: {}, No. of adaptations: {} \\n\"\n",
    "          .format(len(book_movie_dict_all), sum_adaptations))"
   ]
  },
  {
   "cell_type": "code",
   "execution_count": 153,
   "metadata": {
    "ExecuteTime": {
     "end_time": "2019-07-17T00:00:08.591348Z",
     "start_time": "2019-07-17T00:00:04.577098Z"
    }
   },
   "outputs": [
    {
     "name": "stdout",
     "output_type": "stream",
     "text": [
      "Tables added: 25, Rows added: 376\n",
      "No. of rows/original books in dict: 259, No. of adaptations: 754 \n",
      "\n",
      "Tables added: 3, Rows added: 798\n",
      "No. of rows/original books in dict: 553, No. of adaptations: 2046 \n",
      "\n",
      "Tables added: 7, Rows added: 1245\n",
      "No. of rows/original books in dict: 813, No. of adaptations: 3917 \n",
      "\n",
      "Tables added: 8, Rows added: 1662\n",
      "No. of rows/original books in dict: 1056, No. of adaptations: 6426 \n",
      "\n",
      "Tables added: 7, Rows added: 2034\n",
      "No. of rows/original books in dict: 1237, No. of adaptations: 9466 \n",
      "\n"
     ]
    }
   ],
   "source": [
    "rows = []\n",
    "book_movie_dict_all = {}\n",
    "movie_book_dict = {}\n",
    "sum_adaptations = 0\n",
    "\n",
    "for url in wikipages:\n",
    "    page = requests.get(url).text\n",
    "    soup = BeautifulSoup(page, 'lxml')\n",
    "    \n",
    "    add_to_rows(soup)\n",
    "    add_to_book_movie_dict()"
   ]
  },
  {
   "cell_type": "code",
   "execution_count": 28,
   "metadata": {
    "ExecuteTime": {
     "end_time": "2019-07-16T22:13:08.195928Z",
     "start_time": "2019-07-16T22:13:08.187229Z"
    }
   },
   "outputs": [
    {
     "data": {
      "text/plain": [
       "1237"
      ]
     },
     "execution_count": 28,
     "metadata": {},
     "output_type": "execute_result"
    }
   ],
   "source": [
    "len_initial = len(book_movie_dict_all)\n",
    "len_initial"
   ]
  },
  {
   "cell_type": "code",
   "execution_count": 30,
   "metadata": {
    "ExecuteTime": {
     "end_time": "2019-07-16T22:13:22.347684Z",
     "start_time": "2019-07-16T22:13:22.338345Z"
    }
   },
   "outputs": [
    {
     "data": {
      "text/plain": [
       "({'movie_title': '102 Dalmatians', 'book': 'The Hundred and One Dalmatians'},\n",
       " {'movie_title': '3 Godfathers', 'book': 'Three Godfathers'})"
      ]
     },
     "execution_count": 30,
     "metadata": {},
     "output_type": "execute_result"
    }
   ],
   "source": [
    "movie_book_dict['https://en.wikipedia.org/wiki/102_Dalmatians'], movie_book_dict['https://en.wikipedia.org/wiki/3_Godfathers']"
   ]
  },
  {
   "cell_type": "markdown",
   "metadata": {},
   "source": [
    "## Don't touch above"
   ]
  },
  {
   "cell_type": "code",
   "execution_count": 428,
   "metadata": {
    "ExecuteTime": {
     "end_time": "2019-07-17T19:52:17.640544Z",
     "start_time": "2019-07-17T19:52:17.630941Z"
    }
   },
   "outputs": [],
   "source": [
    "def get_isbn_oclc(wiki_url):\n",
    "    \"\"\"\n",
    "    Parses the `infobox vcard` element of the wikipedia page of a book, \n",
    "    and returns the 10-digit or 13-digit ISBN number (if found). \n",
    "    \n",
    "    Args:\n",
    "        wiki_url (str): Valid (not local) wikipedia link.\n",
    "\n",
    "    Returns:\n",
    "        isbn: Returns ISBN code is parsed correctly, 'broken' if formmated \n",
    "        incorrectly or otherwise. The code is de-hyphentated for later pipeline\n",
    "        efficiency. \n",
    " \n",
    "    \"\"\"\n",
    "    try:\n",
    "        page = requests.get(wiki_url).text\n",
    "        soup = BeautifulSoup(page, 'lxml')\n",
    "    except MissingSchema:\n",
    "        return 'broken'  \n",
    "    \n",
    "    infobox = soup.find('table', {'class': 'infobox vcard'})\n",
    "    isbn, oclc = '', ''\n",
    "    \n",
    "    if infobox is None:\n",
    "        isbn, oclc = 'broken', 'broken'\n",
    "    \n",
    "    else:\n",
    "        isbn_found, oclc_found = False, False\n",
    "    \n",
    "        for row in infobox.findAll('tr'):\n",
    "        #ISBN directly available\n",
    "            if 'ISBN' in row.text and isbn_found is False:\n",
    "                isbn = re.sub('[^0-9]','', row.findAll('a')[-1].text)\n",
    "                isbn_found = True\n",
    "        \n",
    "            if row.find('a', {'title': 'OCLC'}) is not None and oclc_found is False:\n",
    "                oclc = row.find('td').text\n",
    "                oclc = oclc.split()[0]\n",
    "                oclc_found = True\n",
    "    \n",
    "        if isbn_found is False and oclc_found is False:\n",
    "            isbn, oclc = 'broken', 'broken' \n",
    "        \n",
    "    return {'isbn': isbn, 'oclc': oclc}    "
   ]
  },
  {
   "cell_type": "code",
   "execution_count": null,
   "metadata": {
    "ExecuteTime": {
     "start_time": "2019-07-17T17:30:43.328Z"
    },
    "scrolled": false
   },
   "outputs": [
    {
     "name": "stdout",
     "output_type": "stream",
     "text": [
      "Usable books: 0, Broken books: 0, Total books: 0\n",
      "Usable books: 50, Broken books: 50, Total books: 100\n"
     ]
    }
   ],
   "source": [
    "broken_count = 0\n",
    "usable_count = 0\n",
    "index = 0\n",
    "book_movie_dict = {}\n",
    "\n",
    "for key in book_movie_dict_all.keys():\n",
    "    \n",
    "    link = book_movie_dict_all[key]['book_wiki_url']\n",
    "    \n",
    "    try:\n",
    "        isbn_oclc = get_isbn_oclc(link)\n",
    "        \n",
    "        book_movie_dict_all[key]['isbn'] = isbn_oclc['isbn']\n",
    "        book_movie_dict_all[key]['oclc'] = isbn_oclc['oclc']\n",
    "    \n",
    "        if book_movie_dict_all[key]['isbn'] == 'broken' and book_movie_dict_all[key]['oclc'] == 'broken':\n",
    "            book_movie_dict_all[key]['valid_identifier'] = False\n",
    "                #Nothing changes, the book is unusable, and the 'usable' flag remains False\n",
    "        else:\n",
    "            book_movie_dict_all[key]['valid_identifier'] = True\n",
    "            \n",
    "            \n",
    "            \n",
    "            book_movie_dict[key] = copy.deepcopy(book_movie_dict_all[key]) #Deepcopy 'true' values to another dictionary\n",
    "            usable_count += 1\n",
    "    except NameError:\n",
    "        pass\n",
    "        \n",
    "    if (index % 100 == 0):\n",
    "        broken_count = index - usable_count\n",
    "        print(\"Usable books: {}, Broken books: {}, Total books: {}\".format(usable_count, broken_count, index))\n",
    "    \n",
    "    index += 1\n",
    "    \n",
    "print(\"Usable books: {}, Broken books: {}, Total books: {}\".format(usable_count, broken_count, len_initial))"
   ]
  },
  {
   "cell_type": "code",
   "execution_count": 155,
   "metadata": {
    "ExecuteTime": {
     "end_time": "2019-07-17T00:05:38.916043Z",
     "start_time": "2019-07-17T00:05:38.908237Z"
    }
   },
   "outputs": [
    {
     "data": {
      "text/plain": [
       "(501, 1435)"
      ]
     },
     "execution_count": 155,
     "metadata": {},
     "output_type": "execute_result"
    }
   ],
   "source": [
    "len(book_movie_dict), len(movie_book_dict)"
   ]
  },
  {
   "cell_type": "code",
   "execution_count": 157,
   "metadata": {
    "ExecuteTime": {
     "end_time": "2019-07-17T00:07:18.026976Z",
     "start_time": "2019-07-17T00:07:17.879245Z"
    }
   },
   "outputs": [
    {
     "data": {
      "text/plain": [
       "(4900115728, 4847924352)"
      ]
     },
     "execution_count": 157,
     "metadata": {},
     "output_type": "execute_result"
    }
   ],
   "source": [
    "safe_movie_book_dict = copy.deepcopy(movie_book_dict)\n",
    "id(safe_movie_book_dict), id(movie_book_dict)"
   ]
  },
  {
   "cell_type": "markdown",
   "metadata": {},
   "source": [
    "we lose a bunch of old books, but it's okay since inflation would have destroyed old movie sales as well. i guess it wokrs out"
   ]
  },
  {
   "cell_type": "markdown",
   "metadata": {},
   "source": [
    "## Don't touch above"
   ]
  },
  {
   "cell_type": "code",
   "execution_count": 62,
   "metadata": {
    "ExecuteTime": {
     "end_time": "2019-07-16T22:31:57.182499Z",
     "start_time": "2019-07-16T22:31:57.173957Z"
    }
   },
   "outputs": [
    {
     "data": {
      "text/plain": [
       "{'author': 'Stephen King',\n",
       " 'book_title': 'Dreamcatcher (novel)',\n",
       " 'book_wiki_url': 'https://en.wikipedia.org/wiki/Dreamcatcher_(novel)',\n",
       " 'count': 1,\n",
       " 'adaptations': ['Dreamcatcher (2003 film)'],\n",
       " 'isbn': '9780743211383',\n",
       " 'oclc': '',\n",
       " 'valid_identifier': '',\n",
       " 'valid_identifer': True}"
      ]
     },
     "execution_count": 62,
     "metadata": {},
     "output_type": "execute_result"
    }
   ],
   "source": [
    "book_movie_dict['Dreamcatcher (2001)']"
   ]
  },
  {
   "cell_type": "code",
   "execution_count": 63,
   "metadata": {
    "ExecuteTime": {
     "end_time": "2019-07-16T22:32:01.067545Z",
     "start_time": "2019-07-16T22:32:01.052734Z"
    }
   },
   "outputs": [
    {
     "ename": "KeyError",
     "evalue": "\"Gulliver's Travels (1726)\"",
     "output_type": "error",
     "traceback": [
      "\u001b[0;31m---------------------------------------------------------------------------\u001b[0m",
      "\u001b[0;31mKeyError\u001b[0m                                  Traceback (most recent call last)",
      "\u001b[0;32m<ipython-input-63-f4f1c0154470>\u001b[0m in \u001b[0;36m<module>\u001b[0;34m\u001b[0m\n\u001b[0;32m----> 1\u001b[0;31m \u001b[0mbook_film_dict\u001b[0m\u001b[0;34m[\u001b[0m\u001b[0;34m\"Gulliver's Travels (1726)\"\u001b[0m\u001b[0;34m]\u001b[0m\u001b[0;34m\u001b[0m\u001b[0;34m\u001b[0m\u001b[0m\n\u001b[0m",
      "\u001b[0;31mKeyError\u001b[0m: \"Gulliver's Travels (1726)\""
     ]
    }
   ],
   "source": [
    "book_movie_dict[\"Gulliver's Travels (1726)\"]"
   ]
  },
  {
   "cell_type": "code",
   "execution_count": 64,
   "metadata": {
    "ExecuteTime": {
     "end_time": "2019-07-16T22:32:24.379419Z",
     "start_time": "2019-07-16T22:32:24.365960Z"
    }
   },
   "outputs": [
    {
     "data": {
      "text/plain": [
       "{'author': 'Jonathan Swift',\n",
       " 'book_title': \"Gulliver's Travels\",\n",
       " 'book_wiki_url': 'https://en.wikipedia.org/wiki/Gulliver%27s_Travels',\n",
       " 'count': 7,\n",
       " 'adaptations': ['Le Voyage de Gulliver à Lilliput et chez les géants (1902 film)',\n",
       "  'The New Gulliver',\n",
       "  \"Gulliver's Travels (1939 film)\",\n",
       "  'The Three Worlds of Gulliver',\n",
       "  \"Gulliver's Travels Beyond the Moon\",\n",
       "  \"Gulliver's Travels (1977 film)\",\n",
       "  \"Gulliver's Travels (2010 film)\"],\n",
       " 'isbn': 'broken',\n",
       " 'oclc': 'broken',\n",
       " 'valid_identifier': '',\n",
       " 'valid_identifer': False}"
      ]
     },
     "execution_count": 64,
     "metadata": {},
     "output_type": "execute_result"
    }
   ],
   "source": [
    "book_movie_dict_all[\"Gulliver\\'s Travels (1726)\"]"
   ]
  },
  {
   "cell_type": "code",
   "execution_count": 65,
   "metadata": {
    "ExecuteTime": {
     "end_time": "2019-07-16T22:32:33.198510Z",
     "start_time": "2019-07-16T22:32:33.186040Z"
    }
   },
   "outputs": [],
   "source": [
    "desired_metadata = ['average_rating', \n",
    "                    'publication_date',\n",
    "                    'rating_dist',\n",
    "                    'ratings_count', 'format',\n",
    "                    'text_reviews_count',\n",
    "                    'title', 'language_code']\n",
    "\n",
    "def get_goodreads_data(gc_code):\n",
    "    \"\"\"\n",
    "    Add additional review and ratings related meta_data from the GoodReads API.\n",
    "    \n",
    "    Args:\n",
    "        gc_code: Strictly Goodreads code. Can be 10-digit or 13-digit.\n",
    "        \n",
    "    Returns:\n",
    "        gr_metadata: Dict with additional metadata.\n",
    "    \"\"\"\n",
    "    \n",
    "    gr_metadata = {}\n",
    "    try:\n",
    "        book = gc.book(gc_code)\n",
    "    except NameError:\n",
    "        return gr_metadata\n",
    "    except ExpatError:\n",
    "        return gr_metadata\n",
    "    \n",
    "    for attrs in book.__dict__['_book_dict']:\n",
    "        if attrs in desired_metadata:\n",
    "            gr_metadata['gc_' + attrs] = book.__dict__['_book_dict'][attrs]\n",
    "            \n",
    "    return gr_metadata"
   ]
  },
  {
   "cell_type": "code",
   "execution_count": 478,
   "metadata": {
    "ExecuteTime": {
     "end_time": "2019-07-17T20:43:55.723295Z",
     "start_time": "2019-07-17T20:43:55.703120Z"
    },
    "scrolled": false
   },
   "outputs": [],
   "source": [
    "book_metadata_wanted = ['identifiers', 'number_of_pages', 'subject_places', \n",
    "                        'subjects', 'publish_date', 'publish_places']\n",
    "\n",
    "def update_book_metadata(book_title):\n",
    "    \"\"\"\n",
    "    Uses the OpenLibrary and Goodreads APIs (when possible) to \n",
    "    add metadata about the books to the `book_movie_dict`.\n",
    "    \n",
    "    Args: \n",
    "        book_title: (str) used when merging back into `book_movie_dict`.\n",
    "    \n",
    "    Returns:\n",
    "        updated: (bool) True if metadata updated, False otherwise.\n",
    "    \n",
    "    \n",
    "    \"\"\"\n",
    "    metadata = {}\n",
    "    all_metadata = {}\n",
    "    \n",
    "    \n",
    "    if book_movie_dict[book_title]['valid_identifier'] is False:\n",
    "        #API can't be accessed\n",
    "        metadata['metadata_updated'] = False\n",
    "        book_movie_dict[book_title].update(metadata)\n",
    "        return\n",
    "    \n",
    "    elif book_movie_dict[book_title]['isbn'] != '':\n",
    "        code = book_movie_dict[book_title]['isbn']\n",
    "        curl = 'https://openlibrary.org/api/books?bibkeys=ISBN:{}&jscmd=data&format=json'.format(code)\n",
    "        all_metadata = requests.get(curl).json()\n",
    "    else:\n",
    "        code = book_movie_dict[book_title]['oclc']\n",
    "        curl = 'https://openlibrary.org/api/books?bibkeys=OCLC:{}&jscmd=data&format=json'.format(code)\n",
    "        all_metadata = requests.get(curl).json()\n",
    "        \n",
    "    if len(all_metadata) > 0:\n",
    "        key = list(all_metadata.keys())[0]\n",
    "        nested_keys = list(all_metadata[key].keys())\n",
    "        \n",
    "        for data_point in book_metadata_wanted:\n",
    "            if data_point in nested_keys:\n",
    "                metadata[data_point] = all_metadata[key][data_point]\n",
    "    \n",
    "        if 'subject_places' in nested_keys:\n",
    "            metadata['subject_places'] = [place['name'][:30] for place in metadata['subject_places']]\n",
    "        if 'subjects' in nested_keys:\n",
    "            metadata['subjects'] = [subject['name'][:30] for subject in metadata['subjects']]\n",
    "        if 'publish_places' in nested_keys:\n",
    "            metadata['publish_places'] = [place['name'][:30] for place in metadata['publish_places']]            \n",
    "        \n",
    "        if 'identifiers' in nested_keys:\n",
    "            if 'goodreads' in list(metadata['identifiers'].keys()):\n",
    "                metadata['goodreads'] = metadata['identifiers']['goodreads'][0]\n",
    "            metadata.pop('identifiers')\n",
    "            \n",
    "        if 'goodreads' in metadata.keys():\n",
    "            metadata.update(get_goodreads_data(metadata['goodreads']))\n",
    "            \n",
    "        metadata['metadata_updated'] = True\n",
    "        book_movie_dict[book_title].update(metadata)\n",
    "        return\n",
    "    \n",
    "    else:\n",
    "        metadata['metadata_updated'] = False\n",
    "        book_movie_dict[book_title].update(metadata)\n",
    "        return\n"
   ]
  },
  {
   "cell_type": "code",
   "execution_count": 67,
   "metadata": {
    "ExecuteTime": {
     "end_time": "2019-07-16T22:32:44.333476Z",
     "start_time": "2019-07-16T22:32:43.182607Z"
    }
   },
   "outputs": [
    {
     "data": {
      "text/plain": [
       "{'author': 'Stephen King',\n",
       " 'book_title': 'Dreamcatcher (novel)',\n",
       " 'book_wiki_url': 'https://en.wikipedia.org/wiki/Dreamcatcher_(novel)',\n",
       " 'count': 1,\n",
       " 'adaptations': ['Dreamcatcher (2003 film)'],\n",
       " 'isbn': '9780743211383',\n",
       " 'oclc': '',\n",
       " 'valid_identifier': '',\n",
       " 'valid_identifer': True,\n",
       " 'number_of_pages': 620,\n",
       " 'subject_places': ['Maine', 'Derry', 'Hole-in-the-Wall', 'Jefferson Tract'],\n",
       " 'subjects': ['Internet Archive Wishlist',\n",
       "  'male friendship',\n",
       "  'life on other planets',\n",
       "  'telepathy',\n",
       "  'Down Syndrome',\n",
       "  'psychological fiction',\n",
       "  'extraterrestrial beings',\n",
       "  'hunting',\n",
       "  'friendship',\n",
       "  'In library',\n",
       "  'Accessible book',\n",
       "  'Fiction',\n",
       "  'Human-alien encounters',\n",
       "  'Protected DAISY',\n",
       "  'Fear',\n",
       "  'Fantasy Fiction',\n",
       "  'Roman fantastique',\n",
       "  'Audiobooks',\n",
       "  'hunting stories',\n",
       "  'camping',\n",
       "  'Male friendship'],\n",
       " 'publish_date': '2001',\n",
       " 'publish_places': ['New York, USA'],\n",
       " 'goodreads': '441240',\n",
       " 'gc_title': 'Dreamcatcher',\n",
       " 'gc_language_code': 'eng',\n",
       " 'gc_average_rating': '3.62',\n",
       " 'gc_format': 'Hardcover',\n",
       " 'gc_ratings_count': '2021',\n",
       " 'gc_text_reviews_count': '188',\n",
       " 'metadata_updated': True}"
      ]
     },
     "execution_count": 67,
     "metadata": {},
     "output_type": "execute_result"
    }
   ],
   "source": [
    "update_book_metadata('Dreamcatcher (2001)')\n",
    "book_movie_dict['Dreamcatcher (2001)']"
   ]
  },
  {
   "cell_type": "markdown",
   "metadata": {},
   "source": [
    "don't run below till the end"
   ]
  },
  {
   "cell_type": "code",
   "execution_count": 68,
   "metadata": {
    "ExecuteTime": {
     "end_time": "2019-07-16T22:39:56.323149Z",
     "start_time": "2019-07-16T22:32:52.903565Z"
    },
    "scrolled": false
   },
   "outputs": [
    {
     "name": "stdout",
     "output_type": "stream",
     "text": [
      "Indexed: 75, Updated: 59, Usable: 78.667%\n",
      "Indexed: 150, Updated: 125, Usable: 83.333%\n",
      "Indexed: 225, Updated: 186, Usable: 82.667%\n",
      "Indexed: 300, Updated: 250, Usable: 83.333%\n",
      "Indexed: 375, Updated: 319, Usable: 85.067%\n",
      "Indexed: 450, Updated: 383, Usable: 85.111%\n"
     ]
    }
   ],
   "source": [
    "from xml.parsers.expat import ExpatError\n",
    "\n",
    "metadata_update_count = 0\n",
    "\n",
    "for index, key in enumerate(book_film_dict.keys()):\n",
    "    \n",
    "    if book_film_dict[key]['metadata_updated'] is True:\n",
    "        metadata_update_count += 1\n",
    "    \n",
    "    if index % 75 == 0 and index != 0:\n",
    "        print(\"Indexed: {}, Updated: {}, Usable: {}%\"\n",
    "              .format(index, metadata_update_count, round(100*metadata_update_count/index, 3)))"
   ]
  },
  {
   "cell_type": "code",
   "execution_count": 69,
   "metadata": {
    "ExecuteTime": {
     "end_time": "2019-07-16T22:40:24.064698Z",
     "start_time": "2019-07-16T22:40:24.056126Z"
    }
   },
   "outputs": [
    {
     "name": "stdout",
     "output_type": "stream",
     "text": [
      "Done. Started with 1237 rows; now 429 are usable: ~34.681%.\n"
     ]
    }
   ],
   "source": [
    "print(\"Done. Started with {} rows; now {} are usable: ~{}%.\"\n",
    "    .format(len_initial, metadata_update_count, round(100*metadata_update_count/len_initial, 3)))"
   ]
  },
  {
   "cell_type": "code",
   "execution_count": 72,
   "metadata": {
    "ExecuteTime": {
     "end_time": "2019-07-16T22:41:41.106797Z",
     "start_time": "2019-07-16T22:41:41.097976Z"
    }
   },
   "outputs": [
    {
     "data": {
      "text/plain": [
       "{'author': 'A. J. Cronin',\n",
       " 'book_title': 'Grand Canary (novel)',\n",
       " 'book_wiki_url': 'https://en.wikipedia.org/wiki/Grand_Canary_(novel)',\n",
       " 'count': 1,\n",
       " 'adaptations': ['Grand Canary (film)'],\n",
       " 'isbn': '0450020479',\n",
       " 'oclc': '',\n",
       " 'valid_identifier': '',\n",
       " 'valid_identifer': True,\n",
       " 'number_of_pages': 223,\n",
       " 'subject_places': ['Canary Islands',\n",
       "  'Gran Canaria',\n",
       "  'Gran Canaria (Canary Islands)'],\n",
       " 'subjects': ['Fiction', 'Physicians', 'Fiction in English'],\n",
       " 'publish_date': '1975',\n",
       " 'publish_places': ['London'],\n",
       " 'goodreads': '184807',\n",
       " 'metadata_updated': True}"
      ]
     },
     "execution_count": 72,
     "metadata": {},
     "output_type": "execute_result"
    }
   ],
   "source": [
    "book_movie_dict['Grand Canary (1933)']"
   ]
  },
  {
   "cell_type": "markdown",
   "metadata": {
    "ExecuteTime": {
     "end_time": "2019-07-16T22:42:25.602808Z",
     "start_time": "2019-07-16T22:42:25.598856Z"
    }
   },
   "source": [
    "## Moving on to movies"
   ]
  },
  {
   "cell_type": "code",
   "execution_count": 438,
   "metadata": {
    "ExecuteTime": {
     "end_time": "2019-07-17T19:59:07.469989Z",
     "start_time": "2019-07-17T19:59:07.449737Z"
    }
   },
   "outputs": [],
   "source": [
    "imdb_lists = [#'https://www.imdb.com/list/ls073821013/', 'https://www.imdb.com/list/ls050071819/',\n",
    "             'https://www.imdb.com/list/ls068298300/']"
   ]
  },
  {
   "cell_type": "code",
   "execution_count": 472,
   "metadata": {
    "ExecuteTime": {
     "end_time": "2019-07-17T20:17:55.130322Z",
     "start_time": "2019-07-17T20:17:53.441640Z"
    }
   },
   "outputs": [
    {
     "data": {
      "text/plain": [
       "{'author': '',\n",
       " 'book_title': 'Sea of Monsters',\n",
       " 'book_wiki_url': 'https://en.wikipedia.org/wiki/The Sea of Monsters',\n",
       " 'count': 1,\n",
       " 'adaptations': ['Percy Jackson: Sea of Monsters'],\n",
       " 'isbn': '0786856866',\n",
       " 'oclc': '64664383',\n",
       " 'valid_identifier': True}"
      ]
     },
     "execution_count": 472,
     "metadata": {},
     "output_type": "execute_result"
    }
   ],
   "source": [
    "def get_book_essentials_from_movie_title(movie_title):\n",
    "    \n",
    "    book_essentials = {}\n",
    "    possible_wiki_combos = []\n",
    "    isbn, oclc = '', ''\n",
    "    valid_identifier = False\n",
    "    \n",
    "    # Assume that movie title is the book title\n",
    "    book_title = movie_title\n",
    "    wiki_link = 'https://en.wikipedia.org/wiki/' + book_title\n",
    "    \n",
    "    isbn_oclc = get_isbn_oclc(wiki_link)\n",
    "    isbn = isbn_oclc['isbn']\n",
    "    oclc = isbn_oclc['oclc']\n",
    "               \n",
    "    if isbn == 'broken' and oclc == 'broken':\n",
    "        possible_wiki_combos.append(movie_title.replace('&', 'and'))\n",
    "        possible_wiki_combos.append(movie_title + '_(novel)')\n",
    "        possible_wiki_combos.append(movie_title + '_(book)')\n",
    " \n",
    "        try:\n",
    "            possible_wiki_combos.append(movie_title.split(':')[1].strip()) #Removes :\n",
    "            possible_wiki_combos.append(movie_title.split(':')[1].split('-')[0].strip()) #Removes :\n",
    "        except IndexError:\n",
    "            pass\n",
    "        \n",
    "        for possible_title in possible_wiki_combos:\n",
    "            wiki_link = 'https://en.wikipedia.org/wiki/' + possible_title\n",
    "            isbn_oclc = get_isbn_oclc(wiki_link)\n",
    "            isbn = isbn_oclc['isbn']\n",
    "            oclc = isbn_oclc['oclc']\n",
    "        \n",
    "            if isbn != 'broken' or oclc != 'broken':\n",
    "                book_title = possible_title\n",
    "                valid_identifier = True\n",
    "                break\n",
    "            else:\n",
    "                wiki_link = 'https://en.wikipedia.org/wiki/The ' + possible_title\n",
    "                isbn_oclc = get_isbn_oclc(wiki_link)\n",
    "                isbn = isbn_oclc['isbn']\n",
    "                oclc = isbn_oclc['oclc']\n",
    "        \n",
    "                if isbn != 'broken' or oclc != 'broken':\n",
    "                    book_title = possible_title\n",
    "                    valid_identifier = True\n",
    "                    break\n",
    "    else:\n",
    "        valid_identifier = True\n",
    "                \n",
    "    if valid_identifier is False:\n",
    "        wiki_link, book_title = '', 'unknown'\n",
    "\n",
    "    book_essentials = {'author': '',\n",
    "                       'book_title': book_title,\n",
    "                       'book_wiki_url': wiki_link,\n",
    "                       'count': 1,\n",
    "                       'adaptations': [movie_title],\n",
    "                       'isbn': isbn,\n",
    "                       'oclc': oclc,\n",
    "                       'valid_identifier': valid_identifier} \n",
    "    \n",
    "    return (book_essentials)\n",
    "    \n",
    "get_book_essentials_from_movie_title(\"Percy Jackson: Sea of Monsters\")"
   ]
  },
  {
   "cell_type": "code",
   "execution_count": 489,
   "metadata": {
    "ExecuteTime": {
     "end_time": "2019-07-17T21:10:00.694249Z",
     "start_time": "2019-07-17T21:10:00.686166Z"
    },
    "scrolled": true
   },
   "outputs": [],
   "source": [
    "def add_imdb_lists(imdb_list):\n",
    "    new_books = {}\n",
    "    new_movies = {}\n",
    "    \n",
    "    page = requests.get(imdb_list).text\n",
    "    soup = BeautifulSoup(page, 'lxml')\n",
    "    \n",
    "    list_elements = soup.findAll('h3', {'class': 'lister-item-header'})\n",
    "    list_elements = [l.find('a') for l in list_elements]\n",
    "    \n",
    "    for l in list_elements:\n",
    "        imdb_no = l['href'].split('/')[2]\n",
    "        imdb_link = 'https://imdb.com' + l['href']\n",
    "        \n",
    "        movie_title = l.text\n",
    "        \n",
    "        #Get details about new books\n",
    "        book_essentials = get_book_essentials_from_movie_title(movie_title)\n",
    "        new_books[book_essentials['book_title']] = book_essentials\n",
    "        \n",
    "        movie_essentials = {'movie_title': movie_title, \n",
    "                            'book_title': book_essentials['book_title'],\n",
    "                            'imdb_no': imdb_no,\n",
    "                            'isbn': book_essentials['isbn'],\n",
    "                            'oclc': book_essentials['oclc'],\n",
    "                            'usable': True}\n",
    "        \n",
    "        new_movies[imdb_link] = movie_essentials\n",
    "    #add new books to book_film dict\n",
    "    #add new movies to movie_film dict\n",
    "    \n",
    "    return new_movies\n",
    "    #return movie_list"
   ]
  },
  {
   "cell_type": "code",
   "execution_count": 491,
   "metadata": {
    "ExecuteTime": {
     "end_time": "2019-07-17T21:11:21.949769Z",
     "start_time": "2019-07-17T21:11:05.746368Z"
    },
    "scrolled": false
   },
   "outputs": [
    {
     "data": {
      "text/plain": [
       "{'https://imdb.com/title/tt0814255/': {'movie_title': 'Percy Jackson & the Olympians: The Lightning Thief',\n",
       "  'book_title': 'The Lightning Thief',\n",
       "  'imdb_no': 'tt0814255',\n",
       "  'isbn': '0786856297',\n",
       "  'oclc': '60786141',\n",
       "  'usable': True},\n",
       " 'https://imdb.com/title/tt1790864/': {'movie_title': 'The Maze Runner',\n",
       "  'book_title': 'The Maze Runner',\n",
       "  'imdb_no': 'tt1790864',\n",
       "  'isbn': '9780385737944',\n",
       "  'oclc': '299381315',\n",
       "  'usable': True},\n",
       " 'https://imdb.com/title/tt0120338/': {'movie_title': 'Titanic',\n",
       "  'book_title': 'unknown',\n",
       "  'imdb_no': 'tt0120338',\n",
       "  'isbn': 'broken',\n",
       "  'oclc': 'broken',\n",
       "  'usable': True},\n",
       " 'https://imdb.com/title/tt0454876/': {'movie_title': 'Life of Pi',\n",
       "  'book_title': 'Life of Pi',\n",
       "  'imdb_no': 'tt0454876',\n",
       "  'isbn': '0676973760',\n",
       "  'oclc': '46624335',\n",
       "  'usable': True},\n",
       " 'https://imdb.com/title/tt8772262/': {'movie_title': 'Midsommar',\n",
       "  'book_title': 'unknown',\n",
       "  'imdb_no': 'tt8772262',\n",
       "  'isbn': 'broken',\n",
       "  'oclc': 'broken',\n",
       "  'usable': True},\n",
       " 'https://imdb.com/title/tt0068646/': {'movie_title': 'The Godfather',\n",
       "  'book_title': 'unknown',\n",
       "  'imdb_no': 'tt0068646',\n",
       "  'isbn': 'broken',\n",
       "  'oclc': 'broken',\n",
       "  'usable': True}}"
      ]
     },
     "execution_count": 491,
     "metadata": {},
     "output_type": "execute_result"
    }
   ],
   "source": [
    "test  = 'https://www.imdb.com/list/ls048749162/'\n",
    "x = add_imdb_lists(test)\n",
    "x"
   ]
  },
  {
   "cell_type": "code",
   "execution_count": null,
   "metadata": {},
   "outputs": [],
   "source": []
  },
  {
   "cell_type": "code",
   "execution_count": null,
   "metadata": {},
   "outputs": [],
   "source": []
  },
  {
   "cell_type": "code",
   "execution_count": null,
   "metadata": {},
   "outputs": [],
   "source": []
  },
  {
   "cell_type": "code",
   "execution_count": null,
   "metadata": {},
   "outputs": [],
   "source": []
  },
  {
   "cell_type": "code",
   "execution_count": null,
   "metadata": {},
   "outputs": [],
   "source": []
  },
  {
   "cell_type": "code",
   "execution_count": 134,
   "metadata": {
    "ExecuteTime": {
     "end_time": "2019-07-16T23:44:23.252840Z",
     "start_time": "2019-07-16T23:44:22.987768Z"
    }
   },
   "outputs": [
    {
     "data": {
      "text/plain": [
       "'tt0413895'"
      ]
     },
     "execution_count": 134,
     "metadata": {},
     "output_type": "execute_result"
    }
   ],
   "source": [
    "def get_imdb_no(wiki_movie):\n",
    "    \"\"\"\n",
    "    Returns movie's respective IMDB no (if found). \n",
    "    \n",
    "    Args: \n",
    "        wiki_movie: (str) Wikipedia link of movie's article.\n",
    "        \n",
    "    Returns:\n",
    "        imdb_no: (str) IMDB no. if found, 'broken' otherwise.\n",
    "    \"\"\"\n",
    "    imdb_no = ''   \n",
    "   \n",
    "    try:\n",
    "        page = requests.get(wiki_movie).text\n",
    "        soup = BeautifulSoup(page, 'lxml')\n",
    "    except errors:\n",
    "        return 'broken'\n",
    "    \n",
    "    external_links = soup.find('a', href=re.compile(\"imdb.com/title\"))\n",
    "    \n",
    "    try:\n",
    "        imdb_no = external_links['href'].split('/')[4]\n",
    "    except TypeError:\n",
    "        return 'broken'\n",
    "    \n",
    "    return imdb_no\n",
    "    \n",
    "get_imdb_no('https://en.wikipedia.org/wiki/Charlotte%27s_Web_(2006_film)')\n",
    "    "
   ]
  },
  {
   "cell_type": "code",
   "execution_count": 256,
   "metadata": {
    "ExecuteTime": {
     "end_time": "2019-07-17T16:23:29.869057Z",
     "start_time": "2019-07-17T16:18:37.375171Z"
    },
    "scrolled": false
   },
   "outputs": [
    {
     "name": "stdout",
     "output_type": "stream",
     "text": [
      "Index: 150, Usable: 142 --> 94.667%\n",
      "Index: 300, Usable: 283 --> 94.333%\n",
      "Index: 450, Usable: 427 --> 94.889%\n",
      "Index: 600, Usable: 567 --> 94.5%\n",
      "Index: 750, Usable: 712 --> 94.933%\n",
      "Index: 900, Usable: 855 --> 95.0%\n",
      "Index: 1050, Usable: 995 --> 94.762%\n",
      "Index: 1200, Usable: 1139 --> 94.917%\n",
      "Index: 1350, Usable: 1269 --> 94.0%\n"
     ]
    }
   ],
   "source": [
    "from socket import gaierror\n",
    "\n",
    "usable_count = 0\n",
    "errors = (requests.exceptions.MissingSchema or \n",
    "          socket.gaierror or \n",
    "          KeyError or \n",
    "          requests.exceptions.ConnectionError or \n",
    "          requests.exceptions.NewConnectionError or \n",
    "          requests.exceptions.MaxRetryError)\n",
    "\n",
    "for index, key in enumerate(movie_book_dict.keys()):\n",
    "    movie_book_dict[key]['usable'] = False #default is false\n",
    "    \n",
    "    try:\n",
    "        movie_book_dict[key]['imdb_no'] = get_imdb_no(key)\n",
    "    except errors: \n",
    "        movie_book_dict[key]['imdb_no'] = 'broken'\n",
    "    \n",
    "    if movie_book_dict[key]['imdb_no'] != 'broken':\n",
    "        movie_book_dict[key]['usable'] = True\n",
    "        usable_count += 1\n",
    "           \n",
    "    if (index + 1) % 150 == 0:\n",
    "        print('Index: {}, Usable: {} --> {}%'\n",
    "              .format(index + 1, usable_count, round(usable_count*100/(index+1), 3)))    "
   ]
  },
  {
   "cell_type": "code",
   "execution_count": 257,
   "metadata": {
    "ExecuteTime": {
     "end_time": "2019-07-17T16:44:09.481830Z",
     "start_time": "2019-07-17T16:44:09.459919Z"
    },
    "scrolled": true
   },
   "outputs": [
    {
     "data": {
      "text/plain": [
       "{'movie_title': '1984 (1956 film)',\n",
       " 'book': 'Nineteen Eighty-Four',\n",
       " 'imdb_no': 'tt0048918',\n",
       " 'usable': True}"
      ]
     },
     "execution_count": 257,
     "metadata": {},
     "output_type": "execute_result"
    }
   ],
   "source": [
    "movie_book_dict['https://en.wikipedia.org/wiki/1984_(1956_film)']"
   ]
  },
  {
   "cell_type": "code",
   "execution_count": 258,
   "metadata": {
    "ExecuteTime": {
     "end_time": "2019-07-17T16:44:39.406326Z",
     "start_time": "2019-07-17T16:44:39.384506Z"
    }
   },
   "outputs": [
    {
     "data": {
      "text/plain": [
       "(5045470408, 5007270824)"
      ]
     },
     "execution_count": 258,
     "metadata": {},
     "output_type": "execute_result"
    }
   ],
   "source": [
    "#DON'T RUN AGAIN\n",
    "safe_movie_book_dict = copy.deepcopy(movie_book_dict)\n",
    "id(safe_movie_book_dict), id(movie_book_dict)"
   ]
  },
  {
   "cell_type": "code",
   "execution_count": 268,
   "metadata": {
    "ExecuteTime": {
     "end_time": "2019-07-17T16:46:49.230609Z",
     "start_time": "2019-07-17T16:46:49.189387Z"
    }
   },
   "outputs": [
    {
     "data": {
      "text/plain": [
       "(5045470408, 4875746040)"
      ]
     },
     "execution_count": 268,
     "metadata": {},
     "output_type": "execute_result"
    }
   ],
   "source": [
    "#fail safe\n",
    "movie_book_dict = copy.deepcopy(safe_movie_book_dict)\n",
    "id(safe_movie_book_dict), id(movie_book_dict)"
   ]
  },
  {
   "cell_type": "code",
   "execution_count": 523,
   "metadata": {
    "ExecuteTime": {
     "end_time": "2019-07-17T21:36:41.928572Z",
     "start_time": "2019-07-17T21:36:41.917090Z"
    }
   },
   "outputs": [],
   "source": [
    "movie_metadata_wanted = ['Title', 'Year', 'Rated', 'Released', 'Runtime', \n",
    "                         'English', 'imdbRating', 'imdbVotes']\n",
    "\n",
    "def add_imdb_metadata(movie_wiki_url):\n",
    "    \"\"\"\n",
    "    \n",
    "    \"\"\"\n",
    "    metadata = {}\n",
    "    all_metadata = {}\n",
    "    imdb_no = movie_book_dict[movie_wiki_url]['imdb_no']\n",
    "    \n",
    "    all_metadata = requests.get('http://www.omdbapi.com/?i={}&apikey=2cb213a7'.format(imdb_no)).json()\n",
    "    \n",
    "    for key in all_metadata.keys():\n",
    "        if key in movie_metadata_wanted:\n",
    "            metadata['imdb_' + key.lower()] = all_metadata[key]\n",
    "            \n",
    "        if 'Actors' in all_metadata.keys():\n",
    "            metadata['imdb_actors'] = get_imdb_actors(all_metadata['Actors'])\n",
    "        if 'Writer' in all_metadata.keys():\n",
    "            metadata['imdb_writers'] = get_imdb_writers(all_metadata['Writer'])\n",
    "        if 'Genre' in all_metadata.keys():\n",
    "            metadata['imdb_genres'] = get_imdb_genres(all_metadata['Genre'])\n",
    "            \n",
    "    metadata.update(get_box_office(imdb_no))\n",
    "            \n",
    "    metadata['metadata_updated'] = True\n",
    "    movie_book_dict[movie_wiki_url].update(metadata)"
   ]
  },
  {
   "cell_type": "code",
   "execution_count": 527,
   "metadata": {
    "ExecuteTime": {
     "end_time": "2019-07-17T21:38:10.088850Z",
     "start_time": "2019-07-17T21:38:08.830510Z"
    },
    "scrolled": false
   },
   "outputs": [
    {
     "data": {
      "text/plain": [
       "{'budget': '120000000',\n",
       " 'opening_weekend_usa': '22451514',\n",
       " 'gross_usa': '124987023',\n",
       " 'cumulative_worldwide_gross': '609016565'}"
      ]
     },
     "execution_count": 527,
     "metadata": {},
     "output_type": "execute_result"
    }
   ],
   "source": [
    "def get_box_office(imdb_no):\n",
    "    \n",
    "    imdb_page = 'https://www.imdb.com/title/' + imdb_no\n",
    "    page = requests.get(imdb_page).text\n",
    "    soup = BeautifulSoup(page, 'lxml')\n",
    "    \n",
    "    wanted = ['Budget', 'Opening Weekend USA', 'Gross USA', 'Cumulative Worldwide Gross']\n",
    "    box_office_stats = {}\n",
    "    \n",
    "    for div in soup.findAll('div', {'class': 'txt-block'}):\n",
    "        try:\n",
    "            subheading = div.find('h4').text.split(':')[0]\n",
    "        except AttributeError:\n",
    "            subheading = None\n",
    "            pass\n",
    "        \n",
    "        if subheading in wanted:\n",
    "            money = div.text.split(':')[1].split('\\n')[0]\n",
    "            money = money.replace(',', '').split()[0].split('$')[1]\n",
    "            \n",
    "            subheading = subheading.lower().replace(' ', '_')\n",
    "            box_office_stats[subheading] = money\n",
    "    \n",
    "    return box_office_stats\n",
    "\n",
    "get_box_office('tt0454876')\n",
    "    "
   ]
  },
  {
   "cell_type": "code",
   "execution_count": 270,
   "metadata": {
    "ExecuteTime": {
     "end_time": "2019-07-17T16:46:52.017342Z",
     "start_time": "2019-07-17T16:46:51.988940Z"
    }
   },
   "outputs": [],
   "source": [
    "def get_imdb_actors(actor_string):\n",
    "    actors = actor_string.rstrip('.').split(',')\n",
    "    actors = [a.lower().strip() for a in actors]    \n",
    "    return actors\n",
    "\n",
    "def get_imdb_writers(writer_string):\n",
    "    writers = writer_string.rstrip('.').split(',')\n",
    "    writers = [re.sub(r'\\([^()]*\\)', '', w) for w in writers]\n",
    "    writers = [w.lower().strip() for w in writers] \n",
    "    return writers\n",
    "\n",
    "def get_imdb_genres(genre_string):\n",
    "    genres = genre_string.rstrip('.').split(',')\n",
    "    genres = [g.lower().strip() for g in genres]    \n",
    "    return genres"
   ]
  },
  {
   "cell_type": "code",
   "execution_count": 271,
   "metadata": {
    "ExecuteTime": {
     "end_time": "2019-07-17T16:46:53.560746Z",
     "start_time": "2019-07-17T16:46:53.551208Z"
    }
   },
   "outputs": [
    {
     "data": {
      "text/plain": [
       "{'movie_title': 'Jaws (film)',\n",
       " 'book': 'Jaws (novel)',\n",
       " 'imdb_no': 'tt0073195',\n",
       " 'usable': True}"
      ]
     },
     "execution_count": 271,
     "metadata": {},
     "output_type": "execute_result"
    }
   ],
   "source": [
    "movie_book_dict['https://en.wikipedia.org/wiki/Jaws_(film)']"
   ]
  },
  {
   "cell_type": "code",
   "execution_count": 528,
   "metadata": {
    "ExecuteTime": {
     "end_time": "2019-07-17T21:38:23.108639Z",
     "start_time": "2019-07-17T21:38:22.262159Z"
    }
   },
   "outputs": [
    {
     "data": {
      "text/plain": [
       "{'movie_title': 'Jaws (film)',\n",
       " 'book': 'Jaws (novel)',\n",
       " 'imdb_no': 'tt0073195',\n",
       " 'usable': True,\n",
       " 'imdb_title': 'Jaws',\n",
       " 'imdb_actors': ['roy scheider',\n",
       "  'robert shaw',\n",
       "  'richard dreyfuss',\n",
       "  'lorraine gary'],\n",
       " 'imdb_writers': ['peter benchley', 'carl gottlieb', 'peter benchley'],\n",
       " 'imdb_genres': ['adventure', 'drama', 'thriller'],\n",
       " 'imdb_year': '1975',\n",
       " 'imdb_rated': 'PG',\n",
       " 'imdb_released': '20 Jun 1975',\n",
       " 'imdb_runtime': '124 min',\n",
       " 'imdb_imdbrating': '8.0',\n",
       " 'imdb_imdbvotes': '511,159',\n",
       " 'metadata_updated': True,\n",
       " 'imdb_boxoffice': 'N/A',\n",
       " 'Budget': '8000000',\n",
       " 'Opening Weekend USA': '7061513',\n",
       " 'Gross USA': '260000000',\n",
       " 'Cumulative Worldwide Gross': '470653000',\n",
       " 'budget': '8000000',\n",
       " 'opening_weekend_usa': '7061513',\n",
       " 'gross_usa': '260000000',\n",
       " 'cumulative_worldwide_gross': '470653000'}"
      ]
     },
     "execution_count": 528,
     "metadata": {},
     "output_type": "execute_result"
    }
   ],
   "source": [
    "add_imdb_metadata('https://en.wikipedia.org/wiki/Jaws_(film)')\n",
    "movie_book_dict['https://en.wikipedia.org/wiki/Jaws_(film)']"
   ]
  },
  {
   "cell_type": "code",
   "execution_count": 273,
   "metadata": {
    "ExecuteTime": {
     "end_time": "2019-07-17T16:49:42.557784Z",
     "start_time": "2019-07-17T16:47:50.097537Z"
    }
   },
   "outputs": [
    {
     "name": "stdout",
     "output_type": "stream",
     "text": [
      "Index: 150, Updated: 143 --> 95%\n",
      "Index: 300, Updated: 284 --> 95%\n",
      "Index: 450, Updated: 428 --> 95%\n",
      "Index: 600, Updated: 568 --> 95%\n",
      "Index: 750, Updated: 713 --> 95%\n",
      "Index: 900, Updated: 856 --> 95%\n",
      "Index: 1050, Updated: 996 --> 95%\n",
      "Index: 1200, Updated: 1139 --> 95%\n",
      "Index: 1350, Updated: 1269 --> 94%\n",
      "Index: 1434, Updated: 1351 --> 94%\n"
     ]
    }
   ],
   "source": [
    "updated_count = 0\n",
    "for index, key in enumerate(movie_book_dict.keys()):\n",
    "    \n",
    "    if movie_book_dict[key]['usable'] is True:\n",
    "        try:\n",
    "            add_imdb_metadata(key)\n",
    "        except json.JSONDecodeError:\n",
    "            movie_book_dict[key]['usable'] = False\n",
    "            movie_book_dict[key]['imdb_no'] = 'broken'\n",
    "            updated_count -= 1\n",
    "            pass\n",
    "        \n",
    "        updated_count += 1\n",
    "        \n",
    "    if index % 150 == 0 and index != 0:\n",
    "        print('Index: {}, Updated: {} --> {}%'.format(index, updated_count, round(updated_count * 100/index), 3))\n",
    "        \n",
    "print('Index: {}, Updated: {} --> {}%'.format(index, updated_count, round(updated_count * 100/index), 3))"
   ]
  },
  {
   "cell_type": "code",
   "execution_count": 274,
   "metadata": {
    "ExecuteTime": {
     "end_time": "2019-07-17T16:56:25.769935Z",
     "start_time": "2019-07-17T16:56:25.759984Z"
    }
   },
   "outputs": [
    {
     "data": {
      "text/plain": [
       "{'movie_title': 'It (2017 film)',\n",
       " 'book': 'It (novel)',\n",
       " 'imdb_no': 'tt1396484?d=inprod',\n",
       " 'usable': True,\n",
       " 'metadata_updated': True}"
      ]
     },
     "execution_count": 274,
     "metadata": {},
     "output_type": "execute_result"
    }
   ],
   "source": [
    "movie_book_dict['https://en.wikipedia.org/wiki/It_(2017_film)']"
   ]
  },
  {
   "cell_type": "code",
   "execution_count": 499,
   "metadata": {
    "ExecuteTime": {
     "end_time": "2019-07-17T21:17:05.093969Z",
     "start_time": "2019-07-17T21:17:05.085551Z"
    }
   },
   "outputs": [
    {
     "data": {
      "text/plain": [
       "{'movie_title': '102 Dalmatians',\n",
       " 'book': 'The Hundred and One Dalmatians',\n",
       " 'imdb_no': 'tt0211181',\n",
       " 'usable': True,\n",
       " 'imdb_title': '102 Dalmatians',\n",
       " 'imdb_actors': ['glenn close',\n",
       "  'gérard depardieu',\n",
       "  'ioan gruffudd',\n",
       "  'alice evans'],\n",
       " 'imdb_writers': ['dodie smith',\n",
       "  'kristen buckley',\n",
       "  'brian regan',\n",
       "  'kristen buckley',\n",
       "  'brian regan',\n",
       "  'bob tzudiker',\n",
       "  'noni white'],\n",
       " 'imdb_genres': ['adventure', 'comedy', 'family'],\n",
       " 'imdb_year': '2000',\n",
       " 'imdb_rated': 'G',\n",
       " 'imdb_released': '22 Nov 2000',\n",
       " 'imdb_runtime': '100 min',\n",
       " 'imdb_imdbrating': '4.9',\n",
       " 'imdb_imdbvotes': '31,929',\n",
       " 'metadata_updated': True}"
      ]
     },
     "execution_count": 499,
     "metadata": {},
     "output_type": "execute_result"
    }
   ],
   "source": [
    "movie_book_dict['https://en.wikipedia.org/wiki/102_Dalmatians']"
   ]
  },
  {
   "cell_type": "code",
   "execution_count": 301,
   "metadata": {
    "ExecuteTime": {
     "end_time": "2019-07-17T17:38:46.932957Z",
     "start_time": "2019-07-17T17:38:46.924585Z"
    }
   },
   "outputs": [
    {
     "data": {
      "text/plain": [
       "(1435, 500)"
      ]
     },
     "execution_count": 301,
     "metadata": {},
     "output_type": "execute_result"
    }
   ],
   "source": [
    "len(movie_book_dict), len(book_movie_dict)"
   ]
  },
  {
   "cell_type": "markdown",
   "metadata": {},
   "source": [
    "## Bringing in to pandas"
   ]
  },
  {
   "cell_type": "code",
   "execution_count": 306,
   "metadata": {
    "ExecuteTime": {
     "end_time": "2019-07-17T17:40:18.107134Z",
     "start_time": "2019-07-17T17:40:18.094331Z"
    }
   },
   "outputs": [
    {
     "data": {
      "text/plain": [
       "({'adaptations',\n",
       "  'author',\n",
       "  'book_title',\n",
       "  'book_wiki_url',\n",
       "  'count',\n",
       "  'isbn',\n",
       "  'oclc',\n",
       "  'valid_identifer',\n",
       "  'valid_identifier'},\n",
       " {'book',\n",
       "  'imdb_actors',\n",
       "  'imdb_genres',\n",
       "  'imdb_imdbrating',\n",
       "  'imdb_imdbvotes',\n",
       "  'imdb_no',\n",
       "  'imdb_rated',\n",
       "  'imdb_released',\n",
       "  'imdb_runtime',\n",
       "  'imdb_title',\n",
       "  'imdb_writers',\n",
       "  'imdb_year',\n",
       "  'metadata_updated',\n",
       "  'movie_title',\n",
       "  'usable'})"
      ]
     },
     "execution_count": 306,
     "metadata": {},
     "output_type": "execute_result"
    }
   ],
   "source": [
    "book_film_cols = set()\n",
    "movie_book_cols = set()\n",
    "\n",
    "for index, key in enumerate(book_movie_dict.keys()):\n",
    "    for nested_key in book_movie_dict[key].keys():\n",
    "        book_film_cols.add(nested_key)\n",
    "    \n",
    "    if (index > 50):\n",
    "        break\n",
    "        \n",
    "for index, key in enumerate(movie_book_dict.keys()):\n",
    "    for nested_key in movie_book_dict[key].keys():\n",
    "        movie_book_cols.add(nested_key)\n",
    "    \n",
    "    if (index > 50):\n",
    "        break\n",
    "        \n",
    "book_film_cols, movie_book_cols"
   ]
  },
  {
   "cell_type": "code",
   "execution_count": 316,
   "metadata": {
    "ExecuteTime": {
     "end_time": "2019-07-17T17:44:21.791970Z",
     "start_time": "2019-07-17T17:44:21.760820Z"
    }
   },
   "outputs": [
    {
     "data": {
      "text/html": [
       "<div>\n",
       "<style scoped>\n",
       "    .dataframe tbody tr th:only-of-type {\n",
       "        vertical-align: middle;\n",
       "    }\n",
       "\n",
       "    .dataframe tbody tr th {\n",
       "        vertical-align: top;\n",
       "    }\n",
       "\n",
       "    .dataframe thead th {\n",
       "        text-align: right;\n",
       "    }\n",
       "</style>\n",
       "<table border=\"1\" class=\"dataframe\">\n",
       "  <thead>\n",
       "    <tr style=\"text-align: right;\">\n",
       "      <th></th>\n",
       "      <th>author</th>\n",
       "      <th>book_title</th>\n",
       "      <th>book_wiki_url</th>\n",
       "      <th>count</th>\n",
       "      <th>adaptations</th>\n",
       "      <th>isbn</th>\n",
       "      <th>oclc</th>\n",
       "      <th>valid_identifier</th>\n",
       "      <th>valid_identifer</th>\n",
       "    </tr>\n",
       "  </thead>\n",
       "  <tbody>\n",
       "    <tr>\n",
       "      <th>'Salem's Lot (1975)</th>\n",
       "      <td>Stephen King</td>\n",
       "      <td>'Salem's Lot</td>\n",
       "      <td>https://en.wikipedia.org/wiki/%27Salem%27s_Lot</td>\n",
       "      <td>1</td>\n",
       "      <td>[A Return to Salem's Lot]</td>\n",
       "      <td>9780385007511</td>\n",
       "      <td></td>\n",
       "      <td>True</td>\n",
       "      <td>True</td>\n",
       "    </tr>\n",
       "    <tr>\n",
       "      <th>A Clockwork Orange (1962)</th>\n",
       "      <td>Anthony Burgess</td>\n",
       "      <td>A Clockwork Orange (novel)</td>\n",
       "      <td>https://en.wikipedia.org/wiki/A_Clockwork_Oran...</td>\n",
       "      <td>2</td>\n",
       "      <td>[Vinyl (1965 film), A Clockwork Orange (film)]</td>\n",
       "      <td>0434098000</td>\n",
       "      <td></td>\n",
       "      <td>True</td>\n",
       "      <td>True</td>\n",
       "    </tr>\n",
       "    <tr>\n",
       "      <th>A Day with Wilbur Robinson (1990)</th>\n",
       "      <td>William Joyce (writer)</td>\n",
       "      <td>A Day with Wilbur Robinson</td>\n",
       "      <td>https://en.wikipedia.org/wiki/A_Day_with_Wilbu...</td>\n",
       "      <td>1</td>\n",
       "      <td>[Meet the Robinsons]</td>\n",
       "      <td>0064433390</td>\n",
       "      <td></td>\n",
       "      <td>True</td>\n",
       "      <td>True</td>\n",
       "    </tr>\n",
       "    <tr>\n",
       "      <th>A Judgement in Stone (1977)</th>\n",
       "      <td>Ruth Rendell</td>\n",
       "      <td>A Judgement in Stone</td>\n",
       "      <td>https://en.wikipedia.org/wiki/A_Judgement_in_S...</td>\n",
       "      <td>1</td>\n",
       "      <td>[La Cérémonie]</td>\n",
       "      <td>0091290708</td>\n",
       "      <td></td>\n",
       "      <td>True</td>\n",
       "      <td>True</td>\n",
       "    </tr>\n",
       "    <tr>\n",
       "      <th>A Monster Calls (2011)</th>\n",
       "      <td>Patrick Ness</td>\n",
       "      <td>A Monster Calls</td>\n",
       "      <td>https://en.wikipedia.org/wiki/A_Monster_Calls</td>\n",
       "      <td>1</td>\n",
       "      <td>[A Monster Calls (film)]</td>\n",
       "      <td>9781406311525</td>\n",
       "      <td></td>\n",
       "      <td>True</td>\n",
       "      <td>True</td>\n",
       "    </tr>\n",
       "  </tbody>\n",
       "</table>\n",
       "</div>"
      ],
      "text/plain": [
       "                                                   author  \\\n",
       "'Salem's Lot (1975)                          Stephen King   \n",
       "A Clockwork Orange (1962)                 Anthony Burgess   \n",
       "A Day with Wilbur Robinson (1990)  William Joyce (writer)   \n",
       "A Judgement in Stone (1977)                  Ruth Rendell   \n",
       "A Monster Calls (2011)                       Patrick Ness   \n",
       "\n",
       "                                                   book_title  \\\n",
       "'Salem's Lot (1975)                              'Salem's Lot   \n",
       "A Clockwork Orange (1962)          A Clockwork Orange (novel)   \n",
       "A Day with Wilbur Robinson (1990)  A Day with Wilbur Robinson   \n",
       "A Judgement in Stone (1977)              A Judgement in Stone   \n",
       "A Monster Calls (2011)                        A Monster Calls   \n",
       "\n",
       "                                                                       book_wiki_url  \\\n",
       "'Salem's Lot (1975)                   https://en.wikipedia.org/wiki/%27Salem%27s_Lot   \n",
       "A Clockwork Orange (1962)          https://en.wikipedia.org/wiki/A_Clockwork_Oran...   \n",
       "A Day with Wilbur Robinson (1990)  https://en.wikipedia.org/wiki/A_Day_with_Wilbu...   \n",
       "A Judgement in Stone (1977)        https://en.wikipedia.org/wiki/A_Judgement_in_S...   \n",
       "A Monster Calls (2011)                 https://en.wikipedia.org/wiki/A_Monster_Calls   \n",
       "\n",
       "                                   count  \\\n",
       "'Salem's Lot (1975)                    1   \n",
       "A Clockwork Orange (1962)              2   \n",
       "A Day with Wilbur Robinson (1990)      1   \n",
       "A Judgement in Stone (1977)            1   \n",
       "A Monster Calls (2011)                 1   \n",
       "\n",
       "                                                                      adaptations  \\\n",
       "'Salem's Lot (1975)                                     [A Return to Salem's Lot]   \n",
       "A Clockwork Orange (1962)          [Vinyl (1965 film), A Clockwork Orange (film)]   \n",
       "A Day with Wilbur Robinson (1990)                            [Meet the Robinsons]   \n",
       "A Judgement in Stone (1977)                                        [La Cérémonie]   \n",
       "A Monster Calls (2011)                                   [A Monster Calls (film)]   \n",
       "\n",
       "                                            isbn oclc  valid_identifier  \\\n",
       "'Salem's Lot (1975)                9780385007511                   True   \n",
       "A Clockwork Orange (1962)             0434098000                   True   \n",
       "A Day with Wilbur Robinson (1990)     0064433390                   True   \n",
       "A Judgement in Stone (1977)           0091290708                   True   \n",
       "A Monster Calls (2011)             9781406311525                   True   \n",
       "\n",
       "                                   valid_identifer  \n",
       "'Salem's Lot (1975)                           True  \n",
       "A Clockwork Orange (1962)                     True  \n",
       "A Day with Wilbur Robinson (1990)             True  \n",
       "A Judgement in Stone (1977)                   True  \n",
       "A Monster Calls (2011)                        True  "
      ]
     },
     "execution_count": 316,
     "metadata": {},
     "output_type": "execute_result"
    }
   ],
   "source": [
    "book_movie = pd.DataFrame.from_dict(book_movie_dict, orient='index')\n",
    "book_movie.head(5)"
   ]
  },
  {
   "cell_type": "code",
   "execution_count": 531,
   "metadata": {
    "ExecuteTime": {
     "end_time": "2019-07-17T22:04:51.569608Z",
     "start_time": "2019-07-17T22:04:51.474373Z"
    }
   },
   "outputs": [
    {
     "data": {
      "text/html": [
       "<div>\n",
       "<style scoped>\n",
       "    .dataframe tbody tr th:only-of-type {\n",
       "        vertical-align: middle;\n",
       "    }\n",
       "\n",
       "    .dataframe tbody tr th {\n",
       "        vertical-align: top;\n",
       "    }\n",
       "\n",
       "    .dataframe thead th {\n",
       "        text-align: right;\n",
       "    }\n",
       "</style>\n",
       "<table border=\"1\" class=\"dataframe\">\n",
       "  <thead>\n",
       "    <tr style=\"text-align: right;\">\n",
       "      <th></th>\n",
       "      <th>movie_title</th>\n",
       "      <th>book</th>\n",
       "      <th>imdb_no</th>\n",
       "      <th>usable</th>\n",
       "      <th>imdb_title</th>\n",
       "      <th>imdb_actors</th>\n",
       "      <th>imdb_writers</th>\n",
       "      <th>imdb_genres</th>\n",
       "      <th>imdb_year</th>\n",
       "      <th>imdb_rated</th>\n",
       "      <th>...</th>\n",
       "      <th>metadata_updated</th>\n",
       "      <th>imdb_boxoffice</th>\n",
       "      <th>Budget</th>\n",
       "      <th>Opening Weekend USA</th>\n",
       "      <th>Gross USA</th>\n",
       "      <th>Cumulative Worldwide Gross</th>\n",
       "      <th>budget</th>\n",
       "      <th>opening_weekend_usa</th>\n",
       "      <th>gross_usa</th>\n",
       "      <th>cumulative_worldwide_gross</th>\n",
       "    </tr>\n",
       "  </thead>\n",
       "  <tbody>\n",
       "    <tr>\n",
       "      <th>https://en.wikipedia.org/wiki/Psycho_IV:_The_Beginning</th>\n",
       "      <td>Psycho IV: The Beginning</td>\n",
       "      <td>Psycho (novel)</td>\n",
       "      <td>tt0102724</td>\n",
       "      <td>True</td>\n",
       "      <td>Psycho IV: The Beginning</td>\n",
       "      <td>[anthony perkins, henry thomas, olivia hussey,...</td>\n",
       "      <td>[joseph stefano, robert bloch]</td>\n",
       "      <td>[horror, mystery, thriller]</td>\n",
       "      <td>1990</td>\n",
       "      <td>R</td>\n",
       "      <td>...</td>\n",
       "      <td>True</td>\n",
       "      <td>NaN</td>\n",
       "      <td>NaN</td>\n",
       "      <td>NaN</td>\n",
       "      <td>NaN</td>\n",
       "      <td>NaN</td>\n",
       "      <td>NaN</td>\n",
       "      <td>NaN</td>\n",
       "      <td>NaN</td>\n",
       "      <td>NaN</td>\n",
       "    </tr>\n",
       "    <tr>\n",
       "      <th>https://en.wikipedia.org/wiki/Puss_in_Boots_(2011_film)</th>\n",
       "      <td>Puss in Boots (2011 film)</td>\n",
       "      <td>Shrek!</td>\n",
       "      <td>tt0448694</td>\n",
       "      <td>True</td>\n",
       "      <td>Puss in Boots</td>\n",
       "      <td>[antonio banderas, salma hayek, zach galifiana...</td>\n",
       "      <td>[tom wheeler, brian lynch, william davies, tom...</td>\n",
       "      <td>[animation, action, adventure, comedy, family,...</td>\n",
       "      <td>2011</td>\n",
       "      <td>PG</td>\n",
       "      <td>...</td>\n",
       "      <td>True</td>\n",
       "      <td>NaN</td>\n",
       "      <td>NaN</td>\n",
       "      <td>NaN</td>\n",
       "      <td>NaN</td>\n",
       "      <td>NaN</td>\n",
       "      <td>NaN</td>\n",
       "      <td>NaN</td>\n",
       "      <td>NaN</td>\n",
       "      <td>NaN</td>\n",
       "    </tr>\n",
       "    <tr>\n",
       "      <th>https://en.wikipedia.org/wiki/Quasimodo_d%27El_Paris</th>\n",
       "      <td>Quasimodo d'El Paris</td>\n",
       "      <td>The Hunchback of Notre-Dame</td>\n",
       "      <td>tt0163166</td>\n",
       "      <td>True</td>\n",
       "      <td>Quasimodo d'El Paris</td>\n",
       "      <td>[patrick timsit, richard berry, mélanie thierr...</td>\n",
       "      <td>[jean-françois halin, victor hugo, raffy shart...</td>\n",
       "      <td>[comedy, crime]</td>\n",
       "      <td>1999</td>\n",
       "      <td>N/A</td>\n",
       "      <td>...</td>\n",
       "      <td>True</td>\n",
       "      <td>NaN</td>\n",
       "      <td>NaN</td>\n",
       "      <td>NaN</td>\n",
       "      <td>NaN</td>\n",
       "      <td>NaN</td>\n",
       "      <td>NaN</td>\n",
       "      <td>NaN</td>\n",
       "      <td>NaN</td>\n",
       "      <td>NaN</td>\n",
       "    </tr>\n",
       "    <tr>\n",
       "      <th>https://en.wikipedia.org/wiki/Que_la_b%C3%AAte_meure</th>\n",
       "      <td>Que la bête meure</td>\n",
       "      <td>The Beast Must Die (novel) (page does not exist)</td>\n",
       "      <td>tt0064861</td>\n",
       "      <td>True</td>\n",
       "      <td>This Man Must Die</td>\n",
       "      <td>[michel duchaussoy, caroline cellier, jean yan...</td>\n",
       "      <td>[nicholas blake, claude chabrol, paul gégauff,...</td>\n",
       "      <td>[drama, thriller]</td>\n",
       "      <td>1969</td>\n",
       "      <td>GP</td>\n",
       "      <td>...</td>\n",
       "      <td>True</td>\n",
       "      <td>NaN</td>\n",
       "      <td>NaN</td>\n",
       "      <td>NaN</td>\n",
       "      <td>NaN</td>\n",
       "      <td>NaN</td>\n",
       "      <td>NaN</td>\n",
       "      <td>NaN</td>\n",
       "      <td>NaN</td>\n",
       "      <td>NaN</td>\n",
       "    </tr>\n",
       "    <tr>\n",
       "      <th>https://en.wikipedia.org/wiki/Race_to_Witch_Mountain</th>\n",
       "      <td>Race to Witch Mountain</td>\n",
       "      <td>Escape to Witch Mountain</td>\n",
       "      <td>tt1075417</td>\n",
       "      <td>True</td>\n",
       "      <td>Race to Witch Mountain</td>\n",
       "      <td>[dwayne johnson, annasophia robb, alexander lu...</td>\n",
       "      <td>[matt lopez, mark bomback, matt lopez, alexand...</td>\n",
       "      <td>[action, adventure, family, fantasy, sci-fi, t...</td>\n",
       "      <td>2009</td>\n",
       "      <td>PG</td>\n",
       "      <td>...</td>\n",
       "      <td>True</td>\n",
       "      <td>NaN</td>\n",
       "      <td>NaN</td>\n",
       "      <td>NaN</td>\n",
       "      <td>NaN</td>\n",
       "      <td>NaN</td>\n",
       "      <td>NaN</td>\n",
       "      <td>NaN</td>\n",
       "      <td>NaN</td>\n",
       "      <td>NaN</td>\n",
       "    </tr>\n",
       "    <tr>\n",
       "      <th>https://en.wikipedia.org/wiki/Raja_Aur_Runk</th>\n",
       "      <td>Raja Aur Runk</td>\n",
       "      <td>The Prince and the Pauper</td>\n",
       "      <td>tt0214037</td>\n",
       "      <td>True</td>\n",
       "      <td>Raja Aur Runk</td>\n",
       "      <td>[sanjeev kumar, ajit, mukri, mohan choti]</td>\n",
       "      <td>[kolli pratyagatma, r.v. sastri, mukhram sharma]</td>\n",
       "      <td>[drama, family, musical]</td>\n",
       "      <td>1968</td>\n",
       "      <td>N/A</td>\n",
       "      <td>...</td>\n",
       "      <td>True</td>\n",
       "      <td>NaN</td>\n",
       "      <td>NaN</td>\n",
       "      <td>NaN</td>\n",
       "      <td>NaN</td>\n",
       "      <td>NaN</td>\n",
       "      <td>NaN</td>\n",
       "      <td>NaN</td>\n",
       "      <td>NaN</td>\n",
       "      <td>NaN</td>\n",
       "    </tr>\n",
       "  </tbody>\n",
       "</table>\n",
       "<p>6 rows × 24 columns</p>\n",
       "</div>"
      ],
      "text/plain": [
       "                                                                  movie_title  \\\n",
       "https://en.wikipedia.org/wiki/Psycho_IV:_The_Be...   Psycho IV: The Beginning   \n",
       "https://en.wikipedia.org/wiki/Puss_in_Boots_(20...  Puss in Boots (2011 film)   \n",
       "https://en.wikipedia.org/wiki/Quasimodo_d%27El_...       Quasimodo d'El Paris   \n",
       "https://en.wikipedia.org/wiki/Que_la_b%C3%AAte_...          Que la bête meure   \n",
       "https://en.wikipedia.org/wiki/Race_to_Witch_Mou...     Race to Witch Mountain   \n",
       "https://en.wikipedia.org/wiki/Raja_Aur_Runk                     Raja Aur Runk   \n",
       "\n",
       "                                                                                                book  \\\n",
       "https://en.wikipedia.org/wiki/Psycho_IV:_The_Be...                                    Psycho (novel)   \n",
       "https://en.wikipedia.org/wiki/Puss_in_Boots_(20...                                            Shrek!   \n",
       "https://en.wikipedia.org/wiki/Quasimodo_d%27El_...                       The Hunchback of Notre-Dame   \n",
       "https://en.wikipedia.org/wiki/Que_la_b%C3%AAte_...  The Beast Must Die (novel) (page does not exist)   \n",
       "https://en.wikipedia.org/wiki/Race_to_Witch_Mou...                          Escape to Witch Mountain   \n",
       "https://en.wikipedia.org/wiki/Raja_Aur_Runk                                The Prince and the Pauper   \n",
       "\n",
       "                                                      imdb_no  usable  \\\n",
       "https://en.wikipedia.org/wiki/Psycho_IV:_The_Be...  tt0102724    True   \n",
       "https://en.wikipedia.org/wiki/Puss_in_Boots_(20...  tt0448694    True   \n",
       "https://en.wikipedia.org/wiki/Quasimodo_d%27El_...  tt0163166    True   \n",
       "https://en.wikipedia.org/wiki/Que_la_b%C3%AAte_...  tt0064861    True   \n",
       "https://en.wikipedia.org/wiki/Race_to_Witch_Mou...  tt1075417    True   \n",
       "https://en.wikipedia.org/wiki/Raja_Aur_Runk         tt0214037    True   \n",
       "\n",
       "                                                                  imdb_title  \\\n",
       "https://en.wikipedia.org/wiki/Psycho_IV:_The_Be...  Psycho IV: The Beginning   \n",
       "https://en.wikipedia.org/wiki/Puss_in_Boots_(20...             Puss in Boots   \n",
       "https://en.wikipedia.org/wiki/Quasimodo_d%27El_...      Quasimodo d'El Paris   \n",
       "https://en.wikipedia.org/wiki/Que_la_b%C3%AAte_...         This Man Must Die   \n",
       "https://en.wikipedia.org/wiki/Race_to_Witch_Mou...    Race to Witch Mountain   \n",
       "https://en.wikipedia.org/wiki/Raja_Aur_Runk                    Raja Aur Runk   \n",
       "\n",
       "                                                                                          imdb_actors  \\\n",
       "https://en.wikipedia.org/wiki/Psycho_IV:_The_Be...  [anthony perkins, henry thomas, olivia hussey,...   \n",
       "https://en.wikipedia.org/wiki/Puss_in_Boots_(20...  [antonio banderas, salma hayek, zach galifiana...   \n",
       "https://en.wikipedia.org/wiki/Quasimodo_d%27El_...  [patrick timsit, richard berry, mélanie thierr...   \n",
       "https://en.wikipedia.org/wiki/Que_la_b%C3%AAte_...  [michel duchaussoy, caroline cellier, jean yan...   \n",
       "https://en.wikipedia.org/wiki/Race_to_Witch_Mou...  [dwayne johnson, annasophia robb, alexander lu...   \n",
       "https://en.wikipedia.org/wiki/Raja_Aur_Runk                 [sanjeev kumar, ajit, mukri, mohan choti]   \n",
       "\n",
       "                                                                                         imdb_writers  \\\n",
       "https://en.wikipedia.org/wiki/Psycho_IV:_The_Be...                     [joseph stefano, robert bloch]   \n",
       "https://en.wikipedia.org/wiki/Puss_in_Boots_(20...  [tom wheeler, brian lynch, william davies, tom...   \n",
       "https://en.wikipedia.org/wiki/Quasimodo_d%27El_...  [jean-françois halin, victor hugo, raffy shart...   \n",
       "https://en.wikipedia.org/wiki/Que_la_b%C3%AAte_...  [nicholas blake, claude chabrol, paul gégauff,...   \n",
       "https://en.wikipedia.org/wiki/Race_to_Witch_Mou...  [matt lopez, mark bomback, matt lopez, alexand...   \n",
       "https://en.wikipedia.org/wiki/Raja_Aur_Runk          [kolli pratyagatma, r.v. sastri, mukhram sharma]   \n",
       "\n",
       "                                                                                          imdb_genres  \\\n",
       "https://en.wikipedia.org/wiki/Psycho_IV:_The_Be...                        [horror, mystery, thriller]   \n",
       "https://en.wikipedia.org/wiki/Puss_in_Boots_(20...  [animation, action, adventure, comedy, family,...   \n",
       "https://en.wikipedia.org/wiki/Quasimodo_d%27El_...                                    [comedy, crime]   \n",
       "https://en.wikipedia.org/wiki/Que_la_b%C3%AAte_...                                  [drama, thriller]   \n",
       "https://en.wikipedia.org/wiki/Race_to_Witch_Mou...  [action, adventure, family, fantasy, sci-fi, t...   \n",
       "https://en.wikipedia.org/wiki/Raja_Aur_Runk                                  [drama, family, musical]   \n",
       "\n",
       "                                                   imdb_year imdb_rated  ...  \\\n",
       "https://en.wikipedia.org/wiki/Psycho_IV:_The_Be...      1990          R  ...   \n",
       "https://en.wikipedia.org/wiki/Puss_in_Boots_(20...      2011         PG  ...   \n",
       "https://en.wikipedia.org/wiki/Quasimodo_d%27El_...      1999        N/A  ...   \n",
       "https://en.wikipedia.org/wiki/Que_la_b%C3%AAte_...      1969         GP  ...   \n",
       "https://en.wikipedia.org/wiki/Race_to_Witch_Mou...      2009         PG  ...   \n",
       "https://en.wikipedia.org/wiki/Raja_Aur_Runk             1968        N/A  ...   \n",
       "\n",
       "                                                   metadata_updated  \\\n",
       "https://en.wikipedia.org/wiki/Psycho_IV:_The_Be...             True   \n",
       "https://en.wikipedia.org/wiki/Puss_in_Boots_(20...             True   \n",
       "https://en.wikipedia.org/wiki/Quasimodo_d%27El_...             True   \n",
       "https://en.wikipedia.org/wiki/Que_la_b%C3%AAte_...             True   \n",
       "https://en.wikipedia.org/wiki/Race_to_Witch_Mou...             True   \n",
       "https://en.wikipedia.org/wiki/Raja_Aur_Runk                    True   \n",
       "\n",
       "                                                   imdb_boxoffice Budget  \\\n",
       "https://en.wikipedia.org/wiki/Psycho_IV:_The_Be...            NaN    NaN   \n",
       "https://en.wikipedia.org/wiki/Puss_in_Boots_(20...            NaN    NaN   \n",
       "https://en.wikipedia.org/wiki/Quasimodo_d%27El_...            NaN    NaN   \n",
       "https://en.wikipedia.org/wiki/Que_la_b%C3%AAte_...            NaN    NaN   \n",
       "https://en.wikipedia.org/wiki/Race_to_Witch_Mou...            NaN    NaN   \n",
       "https://en.wikipedia.org/wiki/Raja_Aur_Runk                   NaN    NaN   \n",
       "\n",
       "                                                   Opening Weekend USA  \\\n",
       "https://en.wikipedia.org/wiki/Psycho_IV:_The_Be...                 NaN   \n",
       "https://en.wikipedia.org/wiki/Puss_in_Boots_(20...                 NaN   \n",
       "https://en.wikipedia.org/wiki/Quasimodo_d%27El_...                 NaN   \n",
       "https://en.wikipedia.org/wiki/Que_la_b%C3%AAte_...                 NaN   \n",
       "https://en.wikipedia.org/wiki/Race_to_Witch_Mou...                 NaN   \n",
       "https://en.wikipedia.org/wiki/Raja_Aur_Runk                        NaN   \n",
       "\n",
       "                                                   Gross USA  \\\n",
       "https://en.wikipedia.org/wiki/Psycho_IV:_The_Be...       NaN   \n",
       "https://en.wikipedia.org/wiki/Puss_in_Boots_(20...       NaN   \n",
       "https://en.wikipedia.org/wiki/Quasimodo_d%27El_...       NaN   \n",
       "https://en.wikipedia.org/wiki/Que_la_b%C3%AAte_...       NaN   \n",
       "https://en.wikipedia.org/wiki/Race_to_Witch_Mou...       NaN   \n",
       "https://en.wikipedia.org/wiki/Raja_Aur_Runk              NaN   \n",
       "\n",
       "                                                   Cumulative Worldwide Gross  \\\n",
       "https://en.wikipedia.org/wiki/Psycho_IV:_The_Be...                        NaN   \n",
       "https://en.wikipedia.org/wiki/Puss_in_Boots_(20...                        NaN   \n",
       "https://en.wikipedia.org/wiki/Quasimodo_d%27El_...                        NaN   \n",
       "https://en.wikipedia.org/wiki/Que_la_b%C3%AAte_...                        NaN   \n",
       "https://en.wikipedia.org/wiki/Race_to_Witch_Mou...                        NaN   \n",
       "https://en.wikipedia.org/wiki/Raja_Aur_Runk                               NaN   \n",
       "\n",
       "                                                   budget opening_weekend_usa  \\\n",
       "https://en.wikipedia.org/wiki/Psycho_IV:_The_Be...    NaN                 NaN   \n",
       "https://en.wikipedia.org/wiki/Puss_in_Boots_(20...    NaN                 NaN   \n",
       "https://en.wikipedia.org/wiki/Quasimodo_d%27El_...    NaN                 NaN   \n",
       "https://en.wikipedia.org/wiki/Que_la_b%C3%AAte_...    NaN                 NaN   \n",
       "https://en.wikipedia.org/wiki/Race_to_Witch_Mou...    NaN                 NaN   \n",
       "https://en.wikipedia.org/wiki/Raja_Aur_Runk           NaN                 NaN   \n",
       "\n",
       "                                                   gross_usa  \\\n",
       "https://en.wikipedia.org/wiki/Psycho_IV:_The_Be...       NaN   \n",
       "https://en.wikipedia.org/wiki/Puss_in_Boots_(20...       NaN   \n",
       "https://en.wikipedia.org/wiki/Quasimodo_d%27El_...       NaN   \n",
       "https://en.wikipedia.org/wiki/Que_la_b%C3%AAte_...       NaN   \n",
       "https://en.wikipedia.org/wiki/Race_to_Witch_Mou...       NaN   \n",
       "https://en.wikipedia.org/wiki/Raja_Aur_Runk              NaN   \n",
       "\n",
       "                                                   cumulative_worldwide_gross  \n",
       "https://en.wikipedia.org/wiki/Psycho_IV:_The_Be...                        NaN  \n",
       "https://en.wikipedia.org/wiki/Puss_in_Boots_(20...                        NaN  \n",
       "https://en.wikipedia.org/wiki/Quasimodo_d%27El_...                        NaN  \n",
       "https://en.wikipedia.org/wiki/Que_la_b%C3%AAte_...                        NaN  \n",
       "https://en.wikipedia.org/wiki/Race_to_Witch_Mou...                        NaN  \n",
       "https://en.wikipedia.org/wiki/Raja_Aur_Runk                               NaN  \n",
       "\n",
       "[6 rows x 24 columns]"
      ]
     },
     "execution_count": 531,
     "metadata": {},
     "output_type": "execute_result"
    }
   ],
   "source": [
    "movie_book = pd.DataFrame.from_dict(movie_book_dict, orient='index')\n",
    "movie_book[744:750]"
   ]
  },
  {
   "cell_type": "code",
   "execution_count": 532,
   "metadata": {
    "ExecuteTime": {
     "end_time": "2019-07-17T22:05:08.456596Z",
     "start_time": "2019-07-17T22:05:08.379600Z"
    }
   },
   "outputs": [
    {
     "data": {
      "text/plain": [
       "{'movie_title': 'Race to Witch Mountain',\n",
       " 'book': 'Escape to Witch Mountain',\n",
       " 'imdb_no': 'tt1075417',\n",
       " 'usable': True,\n",
       " 'imdb_title': 'Race to Witch Mountain',\n",
       " 'imdb_actors': ['dwayne johnson',\n",
       "  'annasophia robb',\n",
       "  'alexander ludwig',\n",
       "  'carla gugino'],\n",
       " 'imdb_writers': ['matt lopez', 'mark bomback', 'matt lopez', 'alexander key'],\n",
       " 'imdb_genres': ['action',\n",
       "  'adventure',\n",
       "  'family',\n",
       "  'fantasy',\n",
       "  'sci-fi',\n",
       "  'thriller'],\n",
       " 'imdb_year': '2009',\n",
       " 'imdb_rated': 'PG',\n",
       " 'imdb_released': '13 Mar 2009',\n",
       " 'imdb_runtime': '98 min',\n",
       " 'imdb_imdbrating': '5.7',\n",
       " 'imdb_imdbvotes': '51,151',\n",
       " 'metadata_updated': True}"
      ]
     },
     "execution_count": 532,
     "metadata": {},
     "output_type": "execute_result"
    }
   ],
   "source": [
    "movie_book_dict['https://en.wikipedia.org/wiki/Race_to_Witch_Mountain']"
   ]
  },
  {
   "cell_type": "code",
   "execution_count": 538,
   "metadata": {
    "ExecuteTime": {
     "end_time": "2019-07-17T22:09:26.105324Z",
     "start_time": "2019-07-17T22:09:26.095239Z"
    },
    "scrolled": false
   },
   "outputs": [
    {
     "data": {
      "text/plain": [
       "{'author': 'Anthony Burgess',\n",
       " 'book_title': 'A Clockwork Orange (novel)',\n",
       " 'book_wiki_url': 'https://en.wikipedia.org/wiki/A_Clockwork_Orange_(novel)',\n",
       " 'count': 2,\n",
       " 'adaptations': ['Vinyl (1965 film)', 'A Clockwork Orange (film)'],\n",
       " 'isbn': '0434098000',\n",
       " 'oclc': '',\n",
       " 'valid_identifier': True,\n",
       " 'valid_identifer': True}"
      ]
     },
     "execution_count": 538,
     "metadata": {},
     "output_type": "execute_result"
    }
   ],
   "source": [
    "book_film_dict['A Clockwork Orange (1962)']"
   ]
  },
  {
   "cell_type": "code",
   "execution_count": 539,
   "metadata": {
    "ExecuteTime": {
     "end_time": "2019-07-17T22:10:15.169477Z",
     "start_time": "2019-07-17T22:10:15.160729Z"
    },
    "scrolled": false
   },
   "outputs": [
    {
     "data": {
      "text/plain": [
       "{'movie_title': 'A Clockwork Orange (film)',\n",
       " 'book': 'A Clockwork Orange (novel)',\n",
       " 'imdb_no': 'tt0066921',\n",
       " 'usable': True,\n",
       " 'imdb_title': 'A Clockwork Orange',\n",
       " 'imdb_actors': ['malcolm mcdowell',\n",
       "  'patrick magee',\n",
       "  'michael bates',\n",
       "  'warren clarke'],\n",
       " 'imdb_writers': ['stanley kubrick', 'anthony burgess'],\n",
       " 'imdb_genres': ['crime', 'drama', 'sci-fi'],\n",
       " 'imdb_year': '1971',\n",
       " 'imdb_rated': 'R',\n",
       " 'imdb_released': '02 Feb 1972',\n",
       " 'imdb_runtime': '136 min',\n",
       " 'imdb_imdbrating': '8.3',\n",
       " 'imdb_imdbvotes': '691,997',\n",
       " 'metadata_updated': True}"
      ]
     },
     "execution_count": 539,
     "metadata": {},
     "output_type": "execute_result"
    }
   ],
   "source": [
    "movie_book_dict['https://en.wikipedia.org/wiki/A_Clockwork_Orange_(film)']"
   ]
  },
  {
   "cell_type": "code",
   "execution_count": null,
   "metadata": {},
   "outputs": [],
   "source": []
  }
 ],
 "metadata": {
  "hide_input": false,
  "kernelspec": {
   "display_name": "Python 3",
   "language": "python",
   "name": "python3"
  },
  "language_info": {
   "codemirror_mode": {
    "name": "ipython",
    "version": 3
   },
   "file_extension": ".py",
   "mimetype": "text/x-python",
   "name": "python",
   "nbconvert_exporter": "python",
   "pygments_lexer": "ipython3",
   "version": "3.7.1"
  },
  "toc": {
   "base_numbering": 1,
   "nav_menu": {},
   "number_sections": true,
   "sideBar": true,
   "skip_h1_title": false,
   "title_cell": "Table of Contents",
   "title_sidebar": "Contents",
   "toc_cell": false,
   "toc_position": {},
   "toc_section_display": true,
   "toc_window_display": false
  },
  "varInspector": {
   "cols": {
    "lenName": 16,
    "lenType": 16,
    "lenVar": 40
   },
   "kernels_config": {
    "python": {
     "delete_cmd_postfix": "",
     "delete_cmd_prefix": "del ",
     "library": "var_list.py",
     "varRefreshCmd": "print(var_dic_list())"
    },
    "r": {
     "delete_cmd_postfix": ") ",
     "delete_cmd_prefix": "rm(",
     "library": "var_list.r",
     "varRefreshCmd": "cat(var_dic_list()) "
    }
   },
   "types_to_exclude": [
    "module",
    "function",
    "builtin_function_or_method",
    "instance",
    "_Feature"
   ],
   "window_display": false
  }
 },
 "nbformat": 4,
 "nbformat_minor": 2
}
