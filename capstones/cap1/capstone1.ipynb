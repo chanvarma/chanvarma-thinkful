{
 "cells": [
  {
   "cell_type": "code",
   "execution_count": 88,
   "metadata": {
    "ExecuteTime": {
     "end_time": "2019-07-15T16:41:25.243836Z",
     "start_time": "2019-07-15T16:41:25.235031Z"
    }
   },
   "outputs": [
    {
     "data": {
      "text/plain": [
       "['(2004)']"
      ]
     },
     "execution_count": 88,
     "metadata": {},
     "output_type": "execute_result"
    }
   ],
   "source": [
    "#re.findall('\\(.*?\\)',b1)\n",
    "re.findall('\\(.*?\\)',f1)"
   ]
  },
  {
   "cell_type": "code",
   "execution_count": 296,
   "metadata": {
    "ExecuteTime": {
     "end_time": "2019-07-15T19:36:29.255530Z",
     "start_time": "2019-07-15T19:36:29.250839Z"
    }
   },
   "outputs": [],
   "source": [
    "import pandas as pd\n",
    "import numpy as np\n",
    "from bs4 import BeautifulSoup\n",
    "import requests\n",
    "import re"
   ]
  },
  {
   "cell_type": "code",
   "execution_count": 308,
   "metadata": {
    "ExecuteTime": {
     "end_time": "2019-07-15T19:40:58.163183Z",
     "start_time": "2019-07-15T19:40:58.152603Z"
    }
   },
   "outputs": [],
   "source": [
    "wikipages = ['https://en.wikipedia.org/wiki/List_of_children%27s_books_made_into_feature_films?oldformat=true',\n",
    "             'https://en.wikipedia.org/wiki/List_of_fiction_works_made_into_feature_films_(0%E2%80%939,_A%E2%80%93C)?oldformat=true',\n",
    "             'https://en.wikipedia.org/wiki/List_of_fiction_works_made_into_feature_films_(D%E2%80%93J)?oldformat=true',\n",
    "             'https://en.wikipedia.org/wiki/List_of_fiction_works_made_into_feature_films_(K%E2%80%93R)?oldformat=true',\n",
    "             'https://en.wikipedia.org/wiki/List_of_fiction_works_made_into_feature_films_(S%E2%80%93Z)?oldformat=true'\n",
    "            ]"
   ]
  },
  {
   "cell_type": "code",
   "execution_count": 303,
   "metadata": {
    "ExecuteTime": {
     "end_time": "2019-07-15T19:40:14.393742Z",
     "start_time": "2019-07-15T19:40:14.356735Z"
    }
   },
   "outputs": [],
   "source": [
    "def add_to_rows(page_soup):\n",
    "    '''\n",
    "    Method extracts row elements from the soup tags of individual pages \n",
    "    and appends them to the `rows` list.\n",
    "    \n",
    "    '''\n",
    "    \n",
    "    global rows\n",
    "    \n",
    "    tables = page_soup.find_all('table', {'class': 'wikitable'})\n",
    "\n",
    "    for alphabet in tables:\n",
    "        rows += alphabet.findAll('tr')\n",
    "    \n",
    "    print(\"Tables added: {}, Rows added: {}\".format(len(tables), len(rows)))"
   ]
  },
  {
   "cell_type": "code",
   "execution_count": 404,
   "metadata": {
    "ExecuteTime": {
     "end_time": "2019-07-15T21:15:46.364497Z",
     "start_time": "2019-07-15T21:15:46.360110Z"
    }
   },
   "outputs": [],
   "source": [
    "def working_book_link(book_link):\n",
    "    if '/wiki/' in book_link:\n",
    "        return 'www.wikipedia.com' + book_link\n",
    "    return book_link"
   ]
  },
  {
   "cell_type": "code",
   "execution_count": 631,
   "metadata": {
    "ExecuteTime": {
     "end_time": "2019-07-15T23:41:24.558692Z",
     "start_time": "2019-07-15T23:41:24.547309Z"
    }
   },
   "outputs": [],
   "source": [
    "def add_to_book_film_dict():\n",
    "    '''\n",
    "    Method parses newly updated rows for book/film title, book author,\n",
    "    number of adaptions, and list of adaptations, and adds them to the\n",
    "    `book_film_dict` as a nested dictionary. \n",
    "    '''\n",
    "    global sum_adaptations\n",
    "    \n",
    "    for row in rows:\n",
    "        cols = row.findAll('td')\n",
    "\n",
    "        try:\n",
    "            if (len(cols[0].findAll('a')) == 2) and (cols[1].find('a') is not None):\n",
    "                series = cols[0].text.replace('\\n', '').split(',')[0]\n",
    "\n",
    "                book_title = cols[0].findAll('a')[0]['title']\n",
    "                author = cols[0].findAll('a')[-1]['title']\n",
    "\n",
    "                book_wiki_url = working_book_link(cols[0].findAll('a')[0]['href'])\n",
    "\n",
    "                try:\n",
    "                    adaptations = clean_adaptations(get_adaptations(cols[1].findAll('a')))\n",
    "                except KeyError:\n",
    "                    adaptations = []\n",
    "                    pass\n",
    "\n",
    "                sum_adaptations += len(adaptations)\n",
    "\n",
    "                book_film_dict[series] = {'author': author,\n",
    "                                               'book_title': book_title,\n",
    "                                               'book_wiki_url': book_wiki_url,\n",
    "                                               'count': len(adaptations),\n",
    "                                               'adaptations': adaptations}\n",
    "\n",
    "        except IndexError or KeyError:\n",
    "            pass\n",
    "        \n",
    "    print(\"No. of rows/original books in dict: {}, No. of adaptations: {} \\n\"\n",
    "          .format(len(book_film_dict), sum_adaptations))"
   ]
  },
  {
   "cell_type": "code",
   "execution_count": 634,
   "metadata": {
    "ExecuteTime": {
     "end_time": "2019-07-15T23:42:38.239798Z",
     "start_time": "2019-07-15T23:42:38.214291Z"
    }
   },
   "outputs": [],
   "source": [
    "def get_adaptations(href_list):\n",
    "    adaptations = []\n",
    "    \n",
    "    if len(href_list) == 1:\n",
    "        adaptations.append(href_list[0]['title'])\n",
    "        return adaptations\n",
    "        \n",
    "    for index, tag in enumerate(href_list):\n",
    "        year_search = re.search(r'\\d\\d\\d\\d', tag['href'])\n",
    "        \n",
    "        if year_search is not None:  #There is a 4 digit number in the title\n",
    "            year_search = year_search.group()\n",
    "        \n",
    "            if year_search not in tag['title']:\n",
    "                version = tag['title'] + ' (' + year_search + ')'\n",
    "                adaptations.append(version)\n",
    "            else:\n",
    "                adaptations.append(tag['title'])\n",
    "        else:\n",
    "            adaptations.append(tag['title'])\n",
    "            \n",
    "    return adaptations\n",
    "\n",
    "def clean_adaptations(adaptations):\n",
    "    cleaned = []\n",
    "    \n",
    "    for title in adaptations:\n",
    "        if 'TV' in title or 'miniseries' in title:\n",
    "            continue\n",
    "        if 'page does not exist' in title:\n",
    "            continue\n",
    "        else:\n",
    "            cleaned.append(title)\n",
    "            \n",
    "    return cleaned"
   ]
  },
  {
   "cell_type": "code",
   "execution_count": 635,
   "metadata": {
    "ExecuteTime": {
     "end_time": "2019-07-15T23:42:43.010417Z",
     "start_time": "2019-07-15T23:42:39.611667Z"
    }
   },
   "outputs": [
    {
     "name": "stdout",
     "output_type": "stream",
     "text": [
      "Tables added: 25, Rows added: 376\n",
      "No. of rows/original books in dict: 259, No. of adaptations: 754 \n",
      "\n",
      "Tables added: 3, Rows added: 798\n",
      "No. of rows/original books in dict: 553, No. of adaptations: 2046 \n",
      "\n",
      "Tables added: 7, Rows added: 1245\n",
      "No. of rows/original books in dict: 813, No. of adaptations: 3917 \n",
      "\n",
      "Tables added: 8, Rows added: 1662\n",
      "No. of rows/original books in dict: 1056, No. of adaptations: 6426 \n",
      "\n",
      "Tables added: 7, Rows added: 2034\n",
      "No. of rows/original books in dict: 1237, No. of adaptations: 9466 \n",
      "\n",
      "Of the 2034 rows parsed, 1237 were added to the dictionary ~ 60.816125860373646%\n"
     ]
    }
   ],
   "source": [
    "rows = []\n",
    "book_film_dict = {}\n",
    "sum_adaptations = 0\n",
    "\n",
    "for url in wikipages:\n",
    "    page = requests.get(url).text\n",
    "    soup = BeautifulSoup(page, 'lxml')\n",
    "    \n",
    "    add_to_rows(soup)\n",
    "    add_to_book_film_dict()\n",
    "    \n",
    "print(\"Of the {} rows parsed, {} were added to the dictionary ~ {}%\"\n",
    "      .format(len(rows), len(book_film_dict), (len(book_film_dict) * 100/len(rows))))"
   ]
  },
  {
   "cell_type": "code",
   "execution_count": null,
   "metadata": {},
   "outputs": [],
   "source": []
  }
 ],
 "metadata": {
  "hide_input": false,
  "kernelspec": {
   "display_name": "Python 3",
   "language": "python",
   "name": "python3"
  },
  "language_info": {
   "codemirror_mode": {
    "name": "ipython",
    "version": 3
   },
   "file_extension": ".py",
   "mimetype": "text/x-python",
   "name": "python",
   "nbconvert_exporter": "python",
   "pygments_lexer": "ipython3",
   "version": "3.7.1"
  },
  "toc": {
   "base_numbering": 1,
   "nav_menu": {},
   "number_sections": true,
   "sideBar": true,
   "skip_h1_title": false,
   "title_cell": "Table of Contents",
   "title_sidebar": "Contents",
   "toc_cell": false,
   "toc_position": {},
   "toc_section_display": true,
   "toc_window_display": false
  },
  "varInspector": {
   "cols": {
    "lenName": 16,
    "lenType": 16,
    "lenVar": 40
   },
   "kernels_config": {
    "python": {
     "delete_cmd_postfix": "",
     "delete_cmd_prefix": "del ",
     "library": "var_list.py",
     "varRefreshCmd": "print(var_dic_list())"
    },
    "r": {
     "delete_cmd_postfix": ") ",
     "delete_cmd_prefix": "rm(",
     "library": "var_list.r",
     "varRefreshCmd": "cat(var_dic_list()) "
    }
   },
   "types_to_exclude": [
    "module",
    "function",
    "builtin_function_or_method",
    "instance",
    "_Feature"
   ],
   "window_display": false
  }
 },
 "nbformat": 4,
 "nbformat_minor": 2
}
