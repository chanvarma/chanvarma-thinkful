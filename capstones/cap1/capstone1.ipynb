{
 "cells": [
  {
   "cell_type": "code",
   "execution_count": 88,
   "metadata": {
    "ExecuteTime": {
     "end_time": "2019-07-15T16:41:25.243836Z",
     "start_time": "2019-07-15T16:41:25.235031Z"
    }
   },
   "outputs": [
    {
     "data": {
      "text/plain": [
       "['(2004)']"
      ]
     },
     "execution_count": 88,
     "metadata": {},
     "output_type": "execute_result"
    }
   ],
   "source": [
    "#re.findall('\\(.*?\\)',b1)\n",
    "re.findall('\\(.*?\\)',f1)"
   ]
  },
  {
   "cell_type": "code",
   "execution_count": 738,
   "metadata": {
    "ExecuteTime": {
     "end_time": "2019-07-16T04:06:52.979840Z",
     "start_time": "2019-07-16T04:06:52.863462Z"
    }
   },
   "outputs": [],
   "source": [
    "import pandas as pd\n",
    "import numpy as np\n",
    "from bs4 import BeautifulSoup\n",
    "import requests\n",
    "import re\n",
    "\n",
    "import isbn_hyphenate"
   ]
  },
  {
   "cell_type": "code",
   "execution_count": 655,
   "metadata": {
    "ExecuteTime": {
     "end_time": "2019-07-16T03:15:32.754974Z",
     "start_time": "2019-07-16T03:15:32.750889Z"
    }
   },
   "outputs": [],
   "source": [
    "wikipages = ['https://en.wikipedia.org/wiki/List_of_children%27s_books_made_into_feature_films?oldformat=true',\n",
    "             'https://en.wikipedia.org/wiki/List_of_fiction_works_made_into_feature_films_(0%E2%80%939,_A%E2%80%93C)?oldformat=true',\n",
    "             'https://en.wikipedia.org/wiki/List_of_fiction_works_made_into_feature_films_(D%E2%80%93J)?oldformat=true',\n",
    "             'https://en.wikipedia.org/wiki/List_of_fiction_works_made_into_feature_films_(K%E2%80%93R)?oldformat=true',\n",
    "             'https://en.wikipedia.org/wiki/List_of_fiction_works_made_into_feature_films_(S%E2%80%93Z)?oldformat=true'\n",
    "            ]"
   ]
  },
  {
   "cell_type": "code",
   "execution_count": 656,
   "metadata": {
    "ExecuteTime": {
     "end_time": "2019-07-16T03:15:34.018288Z",
     "start_time": "2019-07-16T03:15:34.008286Z"
    }
   },
   "outputs": [],
   "source": [
    "def add_to_rows(page_soup):\n",
    "    '''\n",
    "    Method extracts row elements from the soup tags of individual pages \n",
    "    and appends them to the `rows` list.\n",
    "    \n",
    "    '''\n",
    "    \n",
    "    global rows\n",
    "    \n",
    "    tables = page_soup.find_all('table', {'class': 'wikitable'})\n",
    "\n",
    "    for alphabet in tables:\n",
    "        rows += alphabet.findAll('tr')\n",
    "    \n",
    "    print(\"Tables added: {}, Rows added: {}\".format(len(tables), len(rows)))"
   ]
  },
  {
   "cell_type": "code",
   "execution_count": 663,
   "metadata": {
    "ExecuteTime": {
     "end_time": "2019-07-16T03:16:46.448044Z",
     "start_time": "2019-07-16T03:16:46.443382Z"
    }
   },
   "outputs": [],
   "source": [
    "def working_book_link(book_link):\n",
    "    if '/wiki/' in book_link:\n",
    "        return 'https://en.wikipedia.org' + book_link\n",
    "    return book_link"
   ]
  },
  {
   "cell_type": "code",
   "execution_count": 789,
   "metadata": {
    "ExecuteTime": {
     "end_time": "2019-07-16T04:31:31.456497Z",
     "start_time": "2019-07-16T04:31:31.442615Z"
    }
   },
   "outputs": [],
   "source": [
    "def add_to_book_film_dict():\n",
    "    '''\n",
    "    Method parses newly updated rows for book/film title, book author,\n",
    "    number of adaptions, and list of adaptations, and adds them to the\n",
    "    `book_film_dict` as a nested dictionary. \n",
    "    '''\n",
    "    global sum_adaptations\n",
    "    \n",
    "    for row in rows:\n",
    "        cols = row.findAll('td')\n",
    "\n",
    "        try:\n",
    "            if (len(cols[0].findAll('a')) == 2) and (cols[1].find('a') is not None):\n",
    "                series = cols[0].text.replace('\\n', '').split(',')[0]\n",
    "\n",
    "                book_title = cols[0].findAll('a')[0]['title']\n",
    "                author = cols[0].findAll('a')[-1]['title']\n",
    "\n",
    "                book_wiki_url = working_book_link(cols[0].findAll('a')[0]['href'])\n",
    "\n",
    "                try:\n",
    "                    adaptations = clean_adaptations(get_adaptations(cols[1].findAll('a')))\n",
    "                except KeyError:\n",
    "                    adaptations = []\n",
    "                    pass\n",
    "\n",
    "                sum_adaptations += len(adaptations)\n",
    "\n",
    "                book_film_dict[series] = {'author': author,\n",
    "                                            'book_title': book_title,\n",
    "                                           'book_wiki_url': book_wiki_url,\n",
    "                                           'count': len(adaptations),\n",
    "                                           'adaptations': adaptations,\n",
    "                                            'isbn': '', 'oclc':'', 'usable': False}\n",
    "\n",
    "        except IndexError or KeyError:\n",
    "            pass\n",
    "        \n",
    "    print(\"No. of rows/original books in dict: {}, No. of adaptations: {} \\n\"\n",
    "          .format(len(book_film_dict), sum_adaptations))"
   ]
  },
  {
   "cell_type": "code",
   "execution_count": 659,
   "metadata": {
    "ExecuteTime": {
     "end_time": "2019-07-16T03:15:39.283633Z",
     "start_time": "2019-07-16T03:15:39.274750Z"
    }
   },
   "outputs": [],
   "source": [
    "def get_adaptations(href_list):\n",
    "    adaptations = []\n",
    "    \n",
    "    if len(href_list) == 1:\n",
    "        adaptations.append(href_list[0]['title'])\n",
    "        return adaptations\n",
    "        \n",
    "    for index, tag in enumerate(href_list):\n",
    "        year_search = re.search(r'\\d\\d\\d\\d', tag['href'])\n",
    "        \n",
    "        if year_search is not None:  #There is a 4 digit number in the title\n",
    "            year_search = year_search.group()\n",
    "        \n",
    "            if year_search not in tag['title']:\n",
    "                version = tag['title'] + ' (' + year_search + ')'\n",
    "                adaptations.append(version)\n",
    "            else:\n",
    "                adaptations.append(tag['title'])\n",
    "        else:\n",
    "            adaptations.append(tag['title'])\n",
    "            \n",
    "    return adaptations\n",
    "\n",
    "def clean_adaptations(adaptations):\n",
    "    cleaned = []\n",
    "    \n",
    "    for title in adaptations:\n",
    "        if 'TV' in title or 'miniseries' in title:\n",
    "            continue\n",
    "        if 'page does not exist' in title:\n",
    "            continue\n",
    "        else:\n",
    "            cleaned.append(title)\n",
    "            \n",
    "    return cleaned"
   ]
  },
  {
   "cell_type": "code",
   "execution_count": 809,
   "metadata": {
    "ExecuteTime": {
     "end_time": "2019-07-16T04:42:15.838421Z",
     "start_time": "2019-07-16T04:42:12.858028Z"
    }
   },
   "outputs": [
    {
     "name": "stdout",
     "output_type": "stream",
     "text": [
      "Tables added: 25, Rows added: 376\n",
      "No. of rows/original books in dict: 259, No. of adaptations: 754 \n",
      "\n",
      "Tables added: 3, Rows added: 798\n",
      "No. of rows/original books in dict: 553, No. of adaptations: 2046 \n",
      "\n",
      "Tables added: 7, Rows added: 1245\n",
      "No. of rows/original books in dict: 813, No. of adaptations: 3917 \n",
      "\n",
      "Tables added: 8, Rows added: 1662\n",
      "No. of rows/original books in dict: 1056, No. of adaptations: 6426 \n",
      "\n",
      "Tables added: 7, Rows added: 2034\n",
      "No. of rows/original books in dict: 1237, No. of adaptations: 9466 \n",
      "\n",
      "Of the 2034 rows parsed, 1237 were added to the dictionary ~ 60.816125860373646%\n"
     ]
    }
   ],
   "source": [
    "rows = []\n",
    "book_film_dict = {}\n",
    "sum_adaptations = 0\n",
    "\n",
    "for url in wikipages:\n",
    "    page = requests.get(url).text\n",
    "    soup = BeautifulSoup(page, 'lxml')\n",
    "    \n",
    "    add_to_rows(soup)\n",
    "    add_to_book_film_dict()\n",
    "    \n",
    "print(\"Of the {} rows parsed, {} were added to the dictionary ~ {}%\"\n",
    "      .format(len(rows), len(book_film_dict), (len(book_film_dict) * 100/len(rows))))"
   ]
  },
  {
   "cell_type": "markdown",
   "metadata": {},
   "source": [
    "## Don't touch above"
   ]
  },
  {
   "cell_type": "code",
   "execution_count": 828,
   "metadata": {
    "ExecuteTime": {
     "end_time": "2019-07-16T05:00:30.546826Z",
     "start_time": "2019-07-16T05:00:30.234870Z"
    }
   },
   "outputs": [
    {
     "data": {
      "text/plain": [
       "['broken', 'broken']"
      ]
     },
     "execution_count": 828,
     "metadata": {},
     "output_type": "execute_result"
    }
   ],
   "source": [
    "get_isbn_oclc('https://en.wikipedia.org/wiki/Adventures_of_Huckleberry_Finn')"
   ]
  },
  {
   "cell_type": "code",
   "execution_count": 837,
   "metadata": {
    "ExecuteTime": {
     "end_time": "2019-07-16T05:17:55.450954Z",
     "start_time": "2019-07-16T05:12:54.894050Z"
    },
    "scrolled": false
   },
   "outputs": [
    {
     "name": "stdout",
     "output_type": "stream",
     "text": [
      "Usable: 0, Broken: 0, Total: 0\n",
      "Usable: 22, Broken: 28, Total: 50\n",
      "Usable: 46, Broken: 54, Total: 100\n",
      "Usable: 69, Broken: 81, Total: 150\n",
      "Usable: 93, Broken: 107, Total: 200\n",
      "Usable: 114, Broken: 136, Total: 250\n",
      "Usable: 135, Broken: 165, Total: 300\n",
      "Usable: 155, Broken: 195, Total: 350\n",
      "Usable: 165, Broken: 235, Total: 400\n",
      "Usable: 178, Broken: 272, Total: 450\n",
      "Usable: 188, Broken: 312, Total: 500\n",
      "Usable: 204, Broken: 346, Total: 550\n",
      "Usable: 227, Broken: 373, Total: 600\n",
      "Usable: 248, Broken: 402, Total: 650\n",
      "Usable: 272, Broken: 428, Total: 700\n",
      "Usable: 287, Broken: 463, Total: 750\n",
      "Usable: 310, Broken: 490, Total: 800\n",
      "Usable: 328, Broken: 522, Total: 850\n",
      "Usable: 346, Broken: 554, Total: 900\n",
      "Usable: 363, Broken: 587, Total: 950\n",
      "Usable: 380, Broken: 620, Total: 1000\n",
      "Usable: 393, Broken: 657, Total: 1050\n",
      "Usable: 414, Broken: 686, Total: 1100\n",
      "Usable: 437, Broken: 713, Total: 1150\n",
      "Usable: 453, Broken: 747, Total: 1200\n"
     ]
    }
   ],
   "source": [
    "broken_count = 0\n",
    "usable_count = 0\n",
    "index = 0\n",
    "\n",
    "for key in book_film_dict.keys():\n",
    "    \n",
    "    link = book_film_dict[key]['book_wiki_url']\n",
    "    \n",
    "    try:\n",
    "        book_film_dict[key]['isbn'] = get_isbn(link)\n",
    "    \n",
    "        if book_film_dict[key]['isbn'] == 'broken':\n",
    "            book_film_dict[key]['oclc'] = get_oclc(link)\n",
    "            if book_film_dict[key]['oclc'] == 'broken':\n",
    "                book_film_dict[key]['usable'] = False\n",
    "                #Nothing changes, the book is unusable, and the 'usable' flag remains False\n",
    "        else:\n",
    "            book_film_dict[key]['usable'] = True\n",
    "            usable_count += 1\n",
    "    except NameError:\n",
    "        pass\n",
    "        \n",
    "    if (index % 50 == 0):\n",
    "        broken_count = index - usable_count\n",
    "        print(\"Usable: {}, Broken: {}, Total: {}\".format(usable_count, broken_count, index))\n",
    "    \n",
    "    index += 1\n",
    "        \n"
   ]
  },
  {
   "cell_type": "markdown",
   "metadata": {},
   "source": [
    "we lose a bunch of old books, but it's okay since inflation would have destroyed old movie sales as well. i guess it wokrs out"
   ]
  },
  {
   "cell_type": "code",
   "execution_count": 823,
   "metadata": {
    "ExecuteTime": {
     "end_time": "2019-07-16T04:53:47.300230Z",
     "start_time": "2019-07-16T04:53:47.291043Z"
    }
   },
   "outputs": [],
   "source": [
    "def get_isbn(wiki_url):\n",
    "    try:\n",
    "        page = requests.get(wiki_url).text\n",
    "        soup = BeautifulSoup(page, 'lxml')\n",
    "    except MissingSchema:\n",
    "        return 'broken'  \n",
    "    \n",
    "    infobox = soup.find('table', {'class': 'infobox vcard'})\n",
    "    \n",
    "    if infobox is None:\n",
    "        return 'broken'\n",
    "    \n",
    "    for row in infobox.findAll('tr'):\n",
    "        #ISBN directly available\n",
    "        if ('ISBN' in row.text):\n",
    "            isbn = re.sub('[^0-9]','', row.findAll('a')[-1].text)\n",
    "            try:\n",
    "                isbn = isbn_hyphenate.hyphenate(isbn)\n",
    "                return isbn\n",
    "            except:\n",
    "                return 'broken'\n",
    "        \n",
    "    #Nothing found directly on Infobox\n",
    "    return 'broken' "
   ]
  },
  {
   "cell_type": "code",
   "execution_count": 824,
   "metadata": {
    "ExecuteTime": {
     "end_time": "2019-07-16T04:53:50.357562Z",
     "start_time": "2019-07-16T04:53:50.349353Z"
    }
   },
   "outputs": [],
   "source": [
    "# Only to be used if get_isbn() returns 'not formatted correctly'\n",
    "def get_oclc(wiki_url):\n",
    "    try:\n",
    "        page = requests.get(wiki_url).text\n",
    "        soup = BeautifulSoup(page, 'lxml')\n",
    "    except MissingSchema:\n",
    "        return 'broken'\n",
    "\n",
    "    infobox = soup.find('table', {'class': 'infobox vcard'})\n",
    "    \n",
    "    if infobox is None:\n",
    "        return 'broken'\n",
    "    \n",
    "    for row in infobox.findAll('tr'):\n",
    "        #only OCLC available\n",
    "        if row.find('a', {'title': 'OCLC'}) is not None:\n",
    "            return (row.find('td').text)\n",
    "        \n",
    "    #Nothing found directly on Infobox\n",
    "    return 'broken'     "
   ]
  },
  {
   "cell_type": "markdown",
   "metadata": {},
   "source": [
    "## Don't touch above"
   ]
  },
  {
   "cell_type": "code",
   "execution_count": 850,
   "metadata": {
    "ExecuteTime": {
     "end_time": "2019-07-16T05:53:08.393161Z",
     "start_time": "2019-07-16T05:53:08.380168Z"
    }
   },
   "outputs": [
    {
     "data": {
      "text/plain": [
       "{'author': 'Mark Twain',\n",
       " 'book_title': 'Adventures of Huckleberry Finn',\n",
       " 'book_wiki_url': 'https://en.wikipedia.org/wiki/Adventures_of_Huckleberry_Finn',\n",
       " 'count': 14,\n",
       " 'adaptations': ['Huck and Tom',\n",
       "  'Huckleberry Finn (1920 film)',\n",
       "  'Huckleberry Finn (1931 film)',\n",
       "  'The Adventures of Huckleberry Finn (1939 film)',\n",
       "  'The Adventures of Huckleberry Finn (1955 film)',\n",
       "  'The Adventures of Huckleberry Finn (1960 film)',\n",
       "  'Huckleberry Finn (1974 film)',\n",
       "  'Hopelessly Lost',\n",
       "  'Huckleberry Finn (1975 film)',\n",
       "  'The Adventures of Mark Twain (1985 film)',\n",
       "  'Back to Hannibal: The Return of Tom Sawyer and Huckleberry Finn',\n",
       "  'The Adventures of Huck Finn (1993 film)',\n",
       "  'Tom and Huck',\n",
       "  \"Tomato Sawyer and Huckleberry Larry's Big River Rescue\"],\n",
       " 'isbn': 'broken',\n",
       " 'oclc': '29489461',\n",
       " 'usable': True}"
      ]
     },
     "execution_count": 850,
     "metadata": {},
     "output_type": "execute_result"
    }
   ],
   "source": [
    "book_film_dict['Adventures of Huckleberry Finn (1884)']"
   ]
  },
  {
   "cell_type": "code",
   "execution_count": 874,
   "metadata": {
    "ExecuteTime": {
     "end_time": "2019-07-16T06:02:53.390740Z",
     "start_time": "2019-07-16T06:02:53.351751Z"
    },
    "scrolled": false
   },
   "outputs": [
    {
     "data": {
      "text/html": [
       "<div>\n",
       "<style scoped>\n",
       "    .dataframe tbody tr th:only-of-type {\n",
       "        vertical-align: middle;\n",
       "    }\n",
       "\n",
       "    .dataframe tbody tr th {\n",
       "        vertical-align: top;\n",
       "    }\n",
       "\n",
       "    .dataframe thead th {\n",
       "        text-align: right;\n",
       "    }\n",
       "</style>\n",
       "<table border=\"1\" class=\"dataframe\">\n",
       "  <thead>\n",
       "    <tr style=\"text-align: right;\">\n",
       "      <th></th>\n",
       "      <th>book_title</th>\n",
       "      <th>author</th>\n",
       "      <th>movie</th>\n",
       "      <th>total_ad_count</th>\n",
       "      <th>isbn</th>\n",
       "      <th>oclc</th>\n",
       "      <th>usable</th>\n",
       "    </tr>\n",
       "  </thead>\n",
       "  <tbody>\n",
       "    <tr>\n",
       "      <th>74</th>\n",
       "      <td>Beastly (2007)</td>\n",
       "      <td>Alex Flinn</td>\n",
       "      <td>Beastly</td>\n",
       "      <td>1</td>\n",
       "      <td>1-4178-2861-7</td>\n",
       "      <td>broken</td>\n",
       "      <td>True</td>\n",
       "    </tr>\n",
       "    <tr>\n",
       "      <th>75</th>\n",
       "      <td>Because of Winn-Dixie (2000)</td>\n",
       "      <td>Kate DiCamillo</td>\n",
       "      <td>Because of Winn-Dixie (film)</td>\n",
       "      <td>1</td>\n",
       "      <td>0-7636-0776-2</td>\n",
       "      <td>41601218</td>\n",
       "      <td>True</td>\n",
       "    </tr>\n",
       "    <tr>\n",
       "      <th>80</th>\n",
       "      <td>The BFG (1982)</td>\n",
       "      <td>Roald Dahl</td>\n",
       "      <td>The BFG (1989 film)</td>\n",
       "      <td>2</td>\n",
       "      <td>0-224-02040-4</td>\n",
       "      <td>broken</td>\n",
       "      <td>True</td>\n",
       "    </tr>\n",
       "    <tr>\n",
       "      <th>81</th>\n",
       "      <td>The BFG (1982)</td>\n",
       "      <td>Roald Dahl</td>\n",
       "      <td>The BFG (2016 film)</td>\n",
       "      <td>2</td>\n",
       "      <td>0-224-02040-4</td>\n",
       "      <td>broken</td>\n",
       "      <td>True</td>\n",
       "    </tr>\n",
       "    <tr>\n",
       "      <th>82</th>\n",
       "      <td>Big Fish: A Novel of Mythic Proportions (1998)</td>\n",
       "      <td>Daniel Wallace (author)</td>\n",
       "      <td>Big Fish</td>\n",
       "      <td>1</td>\n",
       "      <td>1-56512-217-8</td>\n",
       "      <td>39269578</td>\n",
       "      <td>True</td>\n",
       "    </tr>\n",
       "    <tr>\n",
       "      <th>83</th>\n",
       "      <td>The Big Six (1940)</td>\n",
       "      <td>Arthur Ransome</td>\n",
       "      <td>Swallows and Amazons Forever!</td>\n",
       "      <td>1</td>\n",
       "      <td>broken</td>\n",
       "      <td>9647950</td>\n",
       "      <td>True</td>\n",
       "    </tr>\n",
       "    <tr>\n",
       "      <th>93</th>\n",
       "      <td>Blood and Chocolate (1997)</td>\n",
       "      <td>Annette Curtis Klause</td>\n",
       "      <td>Blood &amp; Chocolate (film)</td>\n",
       "      <td>1</td>\n",
       "      <td>0-440-22668-6</td>\n",
       "      <td>42412510</td>\n",
       "      <td>True</td>\n",
       "    </tr>\n",
       "    <tr>\n",
       "      <th>94</th>\n",
       "      <td>The Book Thief (2005)</td>\n",
       "      <td>Markus Zusak</td>\n",
       "      <td>The Book Thief (film)</td>\n",
       "      <td>1</td>\n",
       "      <td>broken</td>\n",
       "      <td>183612599</td>\n",
       "      <td>True</td>\n",
       "    </tr>\n",
       "    <tr>\n",
       "      <th>95</th>\n",
       "      <td>The Borrowers (1952)</td>\n",
       "      <td>Mary Norton (author)</td>\n",
       "      <td>The Borrowers (1973 film)</td>\n",
       "      <td>3</td>\n",
       "      <td>broken</td>\n",
       "      <td>7557055</td>\n",
       "      <td>True</td>\n",
       "    </tr>\n",
       "    <tr>\n",
       "      <th>96</th>\n",
       "      <td>The Borrowers (1952)</td>\n",
       "      <td>Mary Norton (author)</td>\n",
       "      <td>The Borrowers (1997 film)</td>\n",
       "      <td>3</td>\n",
       "      <td>broken</td>\n",
       "      <td>7557055</td>\n",
       "      <td>True</td>\n",
       "    </tr>\n",
       "    <tr>\n",
       "      <th>97</th>\n",
       "      <td>The Borrowers (1952)</td>\n",
       "      <td>Mary Norton (author)</td>\n",
       "      <td>The Borrower Arrietty</td>\n",
       "      <td>3</td>\n",
       "      <td>broken</td>\n",
       "      <td>7557055</td>\n",
       "      <td>True</td>\n",
       "    </tr>\n",
       "    <tr>\n",
       "      <th>98</th>\n",
       "      <td>The Breadwinner (2000)</td>\n",
       "      <td>Deborah Ellis</td>\n",
       "      <td>The Breadwinner (film)</td>\n",
       "      <td>1</td>\n",
       "      <td>978-0-88899-416-5</td>\n",
       "      <td>47120972</td>\n",
       "      <td>True</td>\n",
       "    </tr>\n",
       "    <tr>\n",
       "      <th>99</th>\n",
       "      <td>Bridge to Terabithia (1977)</td>\n",
       "      <td>Katherine Paterson</td>\n",
       "      <td>Bridge to Terabithia (1985 film)</td>\n",
       "      <td>2</td>\n",
       "      <td>0-690-01359-0</td>\n",
       "      <td>2818232</td>\n",
       "      <td>True</td>\n",
       "    </tr>\n",
       "    <tr>\n",
       "      <th>100</th>\n",
       "      <td>Bridge to Terabithia (1977)</td>\n",
       "      <td>Katherine Paterson</td>\n",
       "      <td>Bridge to Terabithia (2007 film)</td>\n",
       "      <td>2</td>\n",
       "      <td>0-690-01359-0</td>\n",
       "      <td>2818232</td>\n",
       "      <td>True</td>\n",
       "    </tr>\n",
       "    <tr>\n",
       "      <th>102</th>\n",
       "      <td>The Brothers Lionheart (1973)</td>\n",
       "      <td>Astrid Lindgren</td>\n",
       "      <td>The Brothers Lionheart (film)</td>\n",
       "      <td>1</td>\n",
       "      <td>91-29-40865-2</td>\n",
       "      <td>2012524</td>\n",
       "      <td>True</td>\n",
       "    </tr>\n",
       "    <tr>\n",
       "      <th>103</th>\n",
       "      <td>The Butter Battle Book (1984)</td>\n",
       "      <td>Dr. Seuss</td>\n",
       "      <td>The Butter Battle Book</td>\n",
       "      <td>1</td>\n",
       "      <td>0-394-86716-5</td>\n",
       "      <td>10046060</td>\n",
       "      <td>True</td>\n",
       "    </tr>\n",
       "    <tr>\n",
       "      <th>105</th>\n",
       "      <td>The Call of the Wild (1903)</td>\n",
       "      <td>Jack London</td>\n",
       "      <td>The Call of the Wild (1935 film)</td>\n",
       "      <td>7</td>\n",
       "      <td>broken</td>\n",
       "      <td>28228581</td>\n",
       "      <td>True</td>\n",
       "    </tr>\n",
       "    <tr>\n",
       "      <th>106</th>\n",
       "      <td>The Call of the Wild (1903)</td>\n",
       "      <td>Jack London</td>\n",
       "      <td>The Call of the Wild (1972 film)</td>\n",
       "      <td>7</td>\n",
       "      <td>broken</td>\n",
       "      <td>28228581</td>\n",
       "      <td>True</td>\n",
       "    </tr>\n",
       "    <tr>\n",
       "      <th>107</th>\n",
       "      <td>The Call of the Wild (1903)</td>\n",
       "      <td>Jack London</td>\n",
       "      <td>What a Nightmare, Charlie Brown!</td>\n",
       "      <td>7</td>\n",
       "      <td>broken</td>\n",
       "      <td>28228581</td>\n",
       "      <td>True</td>\n",
       "    </tr>\n",
       "    <tr>\n",
       "      <th>108</th>\n",
       "      <td>The Call of the Wild (1903)</td>\n",
       "      <td>Jack London</td>\n",
       "      <td>The Call of the Wild (1993)</td>\n",
       "      <td>7</td>\n",
       "      <td>broken</td>\n",
       "      <td>28228581</td>\n",
       "      <td>True</td>\n",
       "    </tr>\n",
       "    <tr>\n",
       "      <th>109</th>\n",
       "      <td>The Call of the Wild (1903)</td>\n",
       "      <td>Jack London</td>\n",
       "      <td>The Call of the Wild: Dog of the Yukon</td>\n",
       "      <td>7</td>\n",
       "      <td>broken</td>\n",
       "      <td>28228581</td>\n",
       "      <td>True</td>\n",
       "    </tr>\n",
       "    <tr>\n",
       "      <th>110</th>\n",
       "      <td>The Call of the Wild (1903)</td>\n",
       "      <td>Jack London</td>\n",
       "      <td>Call of the Wild (2009 film)</td>\n",
       "      <td>7</td>\n",
       "      <td>broken</td>\n",
       "      <td>28228581</td>\n",
       "      <td>True</td>\n",
       "    </tr>\n",
       "    <tr>\n",
       "      <th>111</th>\n",
       "      <td>The Call of the Wild (1903)</td>\n",
       "      <td>Jack London</td>\n",
       "      <td>The Call of the Wild</td>\n",
       "      <td>7</td>\n",
       "      <td>broken</td>\n",
       "      <td>28228581</td>\n",
       "      <td>True</td>\n",
       "    </tr>\n",
       "    <tr>\n",
       "      <th>112</th>\n",
       "      <td>The Cat in the Hat (1957)</td>\n",
       "      <td>Dr. Seuss</td>\n",
       "      <td>The Grinch Grinches the Cat in the Hat</td>\n",
       "      <td>2</td>\n",
       "      <td>978-0-7172-6059-1</td>\n",
       "      <td>304833</td>\n",
       "      <td>True</td>\n",
       "    </tr>\n",
       "    <tr>\n",
       "      <th>113</th>\n",
       "      <td>The Cat in the Hat (1957)</td>\n",
       "      <td>Dr. Seuss</td>\n",
       "      <td>The Cat in the Hat (film)</td>\n",
       "      <td>2</td>\n",
       "      <td>978-0-7172-6059-1</td>\n",
       "      <td>304833</td>\n",
       "      <td>True</td>\n",
       "    </tr>\n",
       "  </tbody>\n",
       "</table>\n",
       "</div>"
      ],
      "text/plain": [
       "                                         book_title                   author  \\\n",
       "74                                   Beastly (2007)               Alex Flinn   \n",
       "75                     Because of Winn-Dixie (2000)           Kate DiCamillo   \n",
       "80                                   The BFG (1982)               Roald Dahl   \n",
       "81                                   The BFG (1982)               Roald Dahl   \n",
       "82   Big Fish: A Novel of Mythic Proportions (1998)  Daniel Wallace (author)   \n",
       "83                               The Big Six (1940)           Arthur Ransome   \n",
       "93                       Blood and Chocolate (1997)    Annette Curtis Klause   \n",
       "94                            The Book Thief (2005)             Markus Zusak   \n",
       "95                             The Borrowers (1952)     Mary Norton (author)   \n",
       "96                             The Borrowers (1952)     Mary Norton (author)   \n",
       "97                             The Borrowers (1952)     Mary Norton (author)   \n",
       "98                           The Breadwinner (2000)            Deborah Ellis   \n",
       "99                      Bridge to Terabithia (1977)       Katherine Paterson   \n",
       "100                     Bridge to Terabithia (1977)       Katherine Paterson   \n",
       "102                   The Brothers Lionheart (1973)          Astrid Lindgren   \n",
       "103                   The Butter Battle Book (1984)                Dr. Seuss   \n",
       "105                     The Call of the Wild (1903)              Jack London   \n",
       "106                     The Call of the Wild (1903)              Jack London   \n",
       "107                     The Call of the Wild (1903)              Jack London   \n",
       "108                     The Call of the Wild (1903)              Jack London   \n",
       "109                     The Call of the Wild (1903)              Jack London   \n",
       "110                     The Call of the Wild (1903)              Jack London   \n",
       "111                     The Call of the Wild (1903)              Jack London   \n",
       "112                       The Cat in the Hat (1957)                Dr. Seuss   \n",
       "113                       The Cat in the Hat (1957)                Dr. Seuss   \n",
       "\n",
       "                                      movie  total_ad_count  \\\n",
       "74                                  Beastly               1   \n",
       "75             Because of Winn-Dixie (film)               1   \n",
       "80                      The BFG (1989 film)               2   \n",
       "81                      The BFG (2016 film)               2   \n",
       "82                                 Big Fish               1   \n",
       "83            Swallows and Amazons Forever!               1   \n",
       "93                 Blood & Chocolate (film)               1   \n",
       "94                    The Book Thief (film)               1   \n",
       "95                The Borrowers (1973 film)               3   \n",
       "96                The Borrowers (1997 film)               3   \n",
       "97                    The Borrower Arrietty               3   \n",
       "98                   The Breadwinner (film)               1   \n",
       "99         Bridge to Terabithia (1985 film)               2   \n",
       "100        Bridge to Terabithia (2007 film)               2   \n",
       "102           The Brothers Lionheart (film)               1   \n",
       "103                  The Butter Battle Book               1   \n",
       "105        The Call of the Wild (1935 film)               7   \n",
       "106        The Call of the Wild (1972 film)               7   \n",
       "107        What a Nightmare, Charlie Brown!               7   \n",
       "108             The Call of the Wild (1993)               7   \n",
       "109  The Call of the Wild: Dog of the Yukon               7   \n",
       "110            Call of the Wild (2009 film)               7   \n",
       "111                    The Call of the Wild               7   \n",
       "112  The Grinch Grinches the Cat in the Hat               2   \n",
       "113               The Cat in the Hat (film)               2   \n",
       "\n",
       "                  isbn       oclc  usable  \n",
       "74       1-4178-2861-7     broken    True  \n",
       "75       0-7636-0776-2   41601218    True  \n",
       "80       0-224-02040-4     broken    True  \n",
       "81       0-224-02040-4     broken    True  \n",
       "82       1-56512-217-8   39269578    True  \n",
       "83              broken    9647950    True  \n",
       "93       0-440-22668-6   42412510    True  \n",
       "94              broken  183612599    True  \n",
       "95              broken    7557055    True  \n",
       "96              broken    7557055    True  \n",
       "97              broken    7557055    True  \n",
       "98   978-0-88899-416-5   47120972    True  \n",
       "99       0-690-01359-0    2818232    True  \n",
       "100      0-690-01359-0    2818232    True  \n",
       "102      91-29-40865-2    2012524    True  \n",
       "103      0-394-86716-5   10046060    True  \n",
       "105             broken   28228581    True  \n",
       "106             broken   28228581    True  \n",
       "107             broken   28228581    True  \n",
       "108             broken   28228581    True  \n",
       "109             broken   28228581    True  \n",
       "110             broken   28228581    True  \n",
       "111             broken   28228581    True  \n",
       "112  978-0-7172-6059-1     304833    True  \n",
       "113  978-0-7172-6059-1     304833    True  "
      ]
     },
     "execution_count": 874,
     "metadata": {},
     "output_type": "execute_result"
    }
   ],
   "source": [
    "book_film = pd.DataFrame()\n",
    "rows = []\n",
    "\n",
    "for key in book_film_dict.keys():\n",
    "    for movie in book_film_dict[key]['adaptations']:\n",
    "        row = [key, book_film_dict[key]['author'], \n",
    "               movie, \n",
    "               book_film_dict[key]['count'], \n",
    "               book_film_dict[key]['isbn'],\n",
    "               book_film_dict[key]['oclc'],\n",
    "               book_film_dict[key]['usable']]\n",
    "        rows.append(row)\n",
    "    \n",
    "book_film = pd.DataFrame(data=rows)\n",
    "book_film.rename(columns={0: 'book_title', \n",
    "                          1: 'author', \n",
    "                          2: 'movie', \n",
    "                          3: 'total_ad_count', \n",
    "                          4: 'isbn', 5: 'oclc', \n",
    "                          6: 'usable'},\n",
    "                inplace = True)\n",
    "\n",
    "book_film.loc[book_film['usable'] == True][35:60]"
   ]
  },
  {
   "cell_type": "code",
   "execution_count": null,
   "metadata": {},
   "outputs": [],
   "source": []
  }
 ],
 "metadata": {
  "hide_input": false,
  "kernelspec": {
   "display_name": "Python 3",
   "language": "python",
   "name": "python3"
  },
  "language_info": {
   "codemirror_mode": {
    "name": "ipython",
    "version": 3
   },
   "file_extension": ".py",
   "mimetype": "text/x-python",
   "name": "python",
   "nbconvert_exporter": "python",
   "pygments_lexer": "ipython3",
   "version": "3.7.1"
  },
  "toc": {
   "base_numbering": 1,
   "nav_menu": {},
   "number_sections": true,
   "sideBar": true,
   "skip_h1_title": false,
   "title_cell": "Table of Contents",
   "title_sidebar": "Contents",
   "toc_cell": false,
   "toc_position": {},
   "toc_section_display": true,
   "toc_window_display": false
  },
  "varInspector": {
   "cols": {
    "lenName": 16,
    "lenType": 16,
    "lenVar": 40
   },
   "kernels_config": {
    "python": {
     "delete_cmd_postfix": "",
     "delete_cmd_prefix": "del ",
     "library": "var_list.py",
     "varRefreshCmd": "print(var_dic_list())"
    },
    "r": {
     "delete_cmd_postfix": ") ",
     "delete_cmd_prefix": "rm(",
     "library": "var_list.r",
     "varRefreshCmd": "cat(var_dic_list()) "
    }
   },
   "types_to_exclude": [
    "module",
    "function",
    "builtin_function_or_method",
    "instance",
    "_Feature"
   ],
   "window_display": false
  }
 },
 "nbformat": 4,
 "nbformat_minor": 2
}
