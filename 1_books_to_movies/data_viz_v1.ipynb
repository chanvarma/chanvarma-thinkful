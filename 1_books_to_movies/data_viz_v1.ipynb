{
 "cells": [
  {
   "cell_type": "markdown",
   "metadata": {
    "toc": true
   },
   "source": [
    "<h1>Table of Contents<span class=\"tocSkip\"></span></h1>\n",
    "<div class=\"toc\"><ul class=\"toc-item\"><li><span><a href=\"#Data-cleaning\" data-toc-modified-id=\"Data-cleaning-1\"><span class=\"toc-item-num\">1&nbsp;&nbsp;</span>Data cleaning</a></span><ul class=\"toc-item\"><li><span><a href=\"#Merge-rows-with-same-book_id-and-movie_id.\" data-toc-modified-id=\"Merge-rows-with-same-book_id-and-movie_id.-1.1\"><span class=\"toc-item-num\">1.1&nbsp;&nbsp;</span>Merge rows with same <code>book_id</code> and <code>movie_id</code>.</a></span></li></ul></li><li><span><a href=\"#EDA\" data-toc-modified-id=\"EDA-2\"><span class=\"toc-item-num\">2&nbsp;&nbsp;</span>EDA</a></span><ul class=\"toc-item\"><li><span><a href=\"#Books-explorations\" data-toc-modified-id=\"Books-explorations-2.1\"><span class=\"toc-item-num\">2.1&nbsp;&nbsp;</span>Books explorations</a></span></li><li><span><a href=\"#Movies-EDA\" data-toc-modified-id=\"Movies-EDA-2.2\"><span class=\"toc-item-num\">2.2&nbsp;&nbsp;</span>Movies EDA</a></span></li></ul></li></ul></div>"
   ]
  },
  {
   "cell_type": "code",
   "execution_count": 1,
   "metadata": {
    "ExecuteTime": {
     "end_time": "2019-07-31T06:08:00.374752Z",
     "start_time": "2019-07-31T06:07:53.489346Z"
    },
    "init_cell": true
   },
   "outputs": [],
   "source": [
    "import matplotlib.pyplot as plt\n",
    "import missingno as msno\n",
    "import numpy as np\n",
    "import pandas as pd\n",
    "import seaborn as sns\n",
    "import requests\n",
    "\n",
    "from collections import Counter"
   ]
  },
  {
   "cell_type": "code",
   "execution_count": 2,
   "metadata": {
    "ExecuteTime": {
     "end_time": "2019-07-31T06:08:00.399760Z",
     "start_time": "2019-07-31T06:08:00.377718Z"
    },
    "init_cell": true
   },
   "outputs": [
    {
     "data": {
      "text/plain": [
       "'0.25.0'"
      ]
     },
     "execution_count": 2,
     "metadata": {},
     "output_type": "execute_result"
    }
   ],
   "source": [
    "pd.__version__"
   ]
  },
  {
   "cell_type": "code",
   "execution_count": 3,
   "metadata": {
    "ExecuteTime": {
     "end_time": "2019-07-31T06:08:00.452828Z",
     "start_time": "2019-07-31T06:08:00.411330Z"
    },
    "init_cell": true
   },
   "outputs": [],
   "source": [
    "pd.set_option('display.max_rows', 100)\n",
    "pd.set_option('display.max_columns', 100)\n",
    "pd.set_option('display.width', 1000)\n",
    "\n",
    "%matplotlib inline\n",
    "plt.style.use('fivethirtyeight')\n",
    "\n",
    "from IPython.core.interactiveshell import InteractiveShell\n",
    "\n",
    "InteractiveShell.ast_node_interactivity = \"last_expr\"\n",
    "\n",
    "%config InlineBackend.figure_format ='retina'"
   ]
  },
  {
   "cell_type": "code",
   "execution_count": 4,
   "metadata": {
    "ExecuteTime": {
     "end_time": "2019-07-31T06:08:00.566294Z",
     "start_time": "2019-07-31T06:08:00.458890Z"
    },
    "init_cell": true
   },
   "outputs": [],
   "source": [
    "books = pd.DataFrame()\n",
    "movies = pd.DataFrame()\n",
    "books_s1 = pd.DataFrame()\n",
    "movies_s1 = pd.DataFrame()\n",
    "\n",
    "def read():\n",
    "    global books\n",
    "    global movies\n",
    "    \n",
    "    books = pd.read_csv('data/books.csv')\n",
    "    movies = pd.read_csv('data/movies.csv')\n",
    "    \n",
    "read()"
   ]
  },
  {
   "cell_type": "code",
   "execution_count": 36,
   "metadata": {
    "ExecuteTime": {
     "end_time": "2019-07-28T22:30:38.063223Z",
     "start_time": "2019-07-28T22:30:38.034409Z"
    }
   },
   "outputs": [
    {
     "data": {
      "text/html": [
       "<div>\n",
       "<style scoped>\n",
       "    .dataframe tbody tr th:only-of-type {\n",
       "        vertical-align: middle;\n",
       "    }\n",
       "\n",
       "    .dataframe tbody tr th {\n",
       "        vertical-align: top;\n",
       "    }\n",
       "\n",
       "    .dataframe thead th {\n",
       "        text-align: right;\n",
       "    }\n",
       "</style>\n",
       "<table border=\"1\" class=\"dataframe\">\n",
       "  <thead>\n",
       "    <tr style=\"text-align: right;\">\n",
       "      <th></th>\n",
       "      <th>book_id</th>\n",
       "      <th>author</th>\n",
       "      <th>book_title</th>\n",
       "      <th>book_wiki_url</th>\n",
       "      <th>count</th>\n",
       "      <th>adaptations</th>\n",
       "      <th>isbn</th>\n",
       "      <th>oclc</th>\n",
       "      <th>valid_identifier</th>\n",
       "      <th>metadata_updated</th>\n",
       "      <th>number_of_pages</th>\n",
       "      <th>subject_places</th>\n",
       "      <th>subjects</th>\n",
       "      <th>publish_date</th>\n",
       "      <th>publish_places</th>\n",
       "      <th>goodreads</th>\n",
       "      <th>gc_title</th>\n",
       "      <th>gc_language_code</th>\n",
       "      <th>gc_average_rating</th>\n",
       "      <th>gc_format</th>\n",
       "      <th>gc_ratings_count</th>\n",
       "      <th>gc_text_reviews_count</th>\n",
       "      <th>title</th>\n",
       "      <th>gc_authors</th>\n",
       "    </tr>\n",
       "  </thead>\n",
       "  <tbody>\n",
       "    <tr>\n",
       "      <th>0</th>\n",
       "      <td>b_9780385007511_848489</td>\n",
       "      <td>Stephen King</td>\n",
       "      <td>'Salem's Lot</td>\n",
       "      <td>https://en.wikipedia.org/wiki/%27Salem%27s_Lot</td>\n",
       "      <td>0</td>\n",
       "      <td>[]</td>\n",
       "      <td>9780385007511</td>\n",
       "      <td>848489</td>\n",
       "      <td>True</td>\n",
       "      <td>True</td>\n",
       "      <td>427.0</td>\n",
       "      <td>['Maine', 'U.S.A.', \"Jerusalem's Lot\", 'Marste...</td>\n",
       "      <td>['Catholic Church', 'arson', 'Great Depression...</td>\n",
       "      <td>1976</td>\n",
       "      <td>['New York']</td>\n",
       "      <td>1589604.0</td>\n",
       "      <td>Salem's Lot</td>\n",
       "      <td>en-US</td>\n",
       "      <td>4.01</td>\n",
       "      <td>Hardcover</td>\n",
       "      <td>443.0</td>\n",
       "      <td>65.0</td>\n",
       "      <td>'salem's Lot</td>\n",
       "      <td>NaN</td>\n",
       "    </tr>\n",
       "    <tr>\n",
       "      <th>1</th>\n",
       "      <td>b_0684819066_38377745</td>\n",
       "      <td>NaN</td>\n",
       "      <td>A Beautiful Mind_(book)</td>\n",
       "      <td>https://en.wikipedia.org/wiki/A Beautiful Mind...</td>\n",
       "      <td>1</td>\n",
       "      <td>['A Beautiful Mind']</td>\n",
       "      <td>0684819066</td>\n",
       "      <td>38377745</td>\n",
       "      <td>True</td>\n",
       "      <td>True</td>\n",
       "      <td>459.0</td>\n",
       "      <td>['United States']</td>\n",
       "      <td>['Mathematicians', 'Biography']</td>\n",
       "      <td>1998</td>\n",
       "      <td>['New York']</td>\n",
       "      <td>NaN</td>\n",
       "      <td>NaN</td>\n",
       "      <td>NaN</td>\n",
       "      <td>NaN</td>\n",
       "      <td>NaN</td>\n",
       "      <td>NaN</td>\n",
       "      <td>NaN</td>\n",
       "      <td>A beautiful mind</td>\n",
       "      <td>NaN</td>\n",
       "    </tr>\n",
       "    <tr>\n",
       "      <th>2</th>\n",
       "      <td>b_0434098000_4205836</td>\n",
       "      <td>Anthony Burgess</td>\n",
       "      <td>A Clockwork Orange (novel)</td>\n",
       "      <td>https://en.wikipedia.org/wiki/A_Clockwork_Oran...</td>\n",
       "      <td>0</td>\n",
       "      <td>[]</td>\n",
       "      <td>0434098000</td>\n",
       "      <td>4205836</td>\n",
       "      <td>True</td>\n",
       "      <td>True</td>\n",
       "      <td>195.0</td>\n",
       "      <td>['England', 'Korova Milk Bar']</td>\n",
       "      <td>['Internet Archive Wishlist', 'bible', 'aversi...</td>\n",
       "      <td>1962</td>\n",
       "      <td>['London']</td>\n",
       "      <td>101194.0</td>\n",
       "      <td>A Clockwork Orange</td>\n",
       "      <td>eng</td>\n",
       "      <td>3.99</td>\n",
       "      <td>Hardcover</td>\n",
       "      <td>142.0</td>\n",
       "      <td>17.0</td>\n",
       "      <td>A clockwork orange</td>\n",
       "      <td>NaN</td>\n",
       "    </tr>\n",
       "    <tr>\n",
       "      <th>3</th>\n",
       "      <td>b_0434098000_4205836</td>\n",
       "      <td>Anthony Burgess</td>\n",
       "      <td>A Clockwork Orange_(novel)</td>\n",
       "      <td>https://en.wikipedia.org/wiki/A Clockwork Oran...</td>\n",
       "      <td>1</td>\n",
       "      <td>['A Clockwork Orange']</td>\n",
       "      <td>0434098000</td>\n",
       "      <td>4205836</td>\n",
       "      <td>True</td>\n",
       "      <td>True</td>\n",
       "      <td>195.0</td>\n",
       "      <td>['England', 'Korova Milk Bar']</td>\n",
       "      <td>['Internet Archive Wishlist', 'bible', 'aversi...</td>\n",
       "      <td>1962</td>\n",
       "      <td>['London']</td>\n",
       "      <td>101194.0</td>\n",
       "      <td>A Clockwork Orange</td>\n",
       "      <td>eng</td>\n",
       "      <td>3.99</td>\n",
       "      <td>Hardcover</td>\n",
       "      <td>142.0</td>\n",
       "      <td>17.0</td>\n",
       "      <td>A clockwork orange</td>\n",
       "      <td>NaN</td>\n",
       "    </tr>\n",
       "    <tr>\n",
       "      <th>4</th>\n",
       "      <td>b_0064433390_30559641</td>\n",
       "      <td>William Joyce</td>\n",
       "      <td>A Day with Wilbur Robinson</td>\n",
       "      <td>https://en.wikipedia.org/wiki/A_Day_with_Wilbu...</td>\n",
       "      <td>0</td>\n",
       "      <td>[]</td>\n",
       "      <td>0064433390</td>\n",
       "      <td>30559641</td>\n",
       "      <td>True</td>\n",
       "      <td>True</td>\n",
       "      <td>32.0</td>\n",
       "      <td>NaN</td>\n",
       "      <td>['In library', 'Humorous stories']</td>\n",
       "      <td>September 30, 1993</td>\n",
       "      <td>NaN</td>\n",
       "      <td>566625.0</td>\n",
       "      <td>A Day with Wilbur Robinson</td>\n",
       "      <td>NaN</td>\n",
       "      <td>4.03</td>\n",
       "      <td>Paperback</td>\n",
       "      <td>647.0</td>\n",
       "      <td>81.0</td>\n",
       "      <td>A Day with Wilbur Robinson</td>\n",
       "      <td>NaN</td>\n",
       "    </tr>\n",
       "  </tbody>\n",
       "</table>\n",
       "</div>"
      ],
      "text/plain": [
       "                  book_id           author                  book_title                                      book_wiki_url  count             adaptations           isbn      oclc  valid_identifier  metadata_updated  number_of_pages                                     subject_places                                           subjects        publish_date publish_places  goodreads                    gc_title gc_language_code  gc_average_rating  gc_format  gc_ratings_count  gc_text_reviews_count                       title gc_authors\n",
       "0  b_9780385007511_848489     Stephen King                'Salem's Lot     https://en.wikipedia.org/wiki/%27Salem%27s_Lot      0                      []  9780385007511    848489              True              True            427.0  ['Maine', 'U.S.A.', \"Jerusalem's Lot\", 'Marste...  ['Catholic Church', 'arson', 'Great Depression...                1976   ['New York']  1589604.0                 Salem's Lot            en-US               4.01  Hardcover             443.0                   65.0                'salem's Lot        NaN\n",
       "1   b_0684819066_38377745              NaN     A Beautiful Mind_(book)  https://en.wikipedia.org/wiki/A Beautiful Mind...      1    ['A Beautiful Mind']     0684819066  38377745              True              True            459.0                                  ['United States']                    ['Mathematicians', 'Biography']                1998   ['New York']        NaN                         NaN              NaN                NaN        NaN               NaN                    NaN            A beautiful mind        NaN\n",
       "2    b_0434098000_4205836  Anthony Burgess  A Clockwork Orange (novel)  https://en.wikipedia.org/wiki/A_Clockwork_Oran...      0                      []     0434098000   4205836              True              True            195.0                     ['England', 'Korova Milk Bar']  ['Internet Archive Wishlist', 'bible', 'aversi...                1962     ['London']   101194.0          A Clockwork Orange              eng               3.99  Hardcover             142.0                   17.0          A clockwork orange        NaN\n",
       "3    b_0434098000_4205836  Anthony Burgess  A Clockwork Orange_(novel)  https://en.wikipedia.org/wiki/A Clockwork Oran...      1  ['A Clockwork Orange']     0434098000   4205836              True              True            195.0                     ['England', 'Korova Milk Bar']  ['Internet Archive Wishlist', 'bible', 'aversi...                1962     ['London']   101194.0          A Clockwork Orange              eng               3.99  Hardcover             142.0                   17.0          A clockwork orange        NaN\n",
       "4   b_0064433390_30559641    William Joyce  A Day with Wilbur Robinson  https://en.wikipedia.org/wiki/A_Day_with_Wilbu...      0                      []     0064433390  30559641              True              True             32.0                                                NaN                 ['In library', 'Humorous stories']  September 30, 1993            NaN   566625.0  A Day with Wilbur Robinson              NaN               4.03  Paperback             647.0                   81.0  A Day with Wilbur Robinson        NaN"
      ]
     },
     "execution_count": 36,
     "metadata": {},
     "output_type": "execute_result"
    }
   ],
   "source": [
    "books.head()"
   ]
  },
  {
   "cell_type": "code",
   "execution_count": null,
   "metadata": {
    "ExecuteTime": {
     "end_time": "2019-07-28T11:25:23.246312Z",
     "start_time": "2019-07-28T11:25:23.201370Z"
    }
   },
   "outputs": [],
   "source": [
    "movies.head()"
   ]
  },
  {
   "cell_type": "markdown",
   "metadata": {},
   "source": [
    "## Data cleaning"
   ]
  },
  {
   "cell_type": "code",
   "execution_count": 5,
   "metadata": {
    "ExecuteTime": {
     "end_time": "2019-07-31T06:08:00.582070Z",
     "start_time": "2019-07-31T06:08:00.571375Z"
    },
    "init_cell": true
   },
   "outputs": [],
   "source": [
    "def lower():\n",
    "    global books\n",
    "    global movies\n",
    "    \n",
    "    books = books.applymap(lambda c:c.lower().strip() if type(c) == str else c)\n",
    "    movies = movies.applymap(lambda c:c.lower().strip() if type(c) == str else c)\n",
    "    \n",
    "    nan_to_string = ['author', 'isbn', 'oclc', 'title', 'imdb_rated', 'imdb_runtime']\n",
    "\n",
    "    for col_name in nan_to_string:\n",
    "        try:\n",
    "            books[col_name][books[col_name].isnull()] = ''\n",
    "            movies[col_name][movies[col_name].isnull()] = ''\n",
    "        except KeyError:\n",
    "            pass"
   ]
  },
  {
   "cell_type": "code",
   "execution_count": null,
   "metadata": {
    "ExecuteTime": {
     "end_time": "2019-07-28T11:25:26.808301Z",
     "start_time": "2019-07-28T11:25:26.799124Z"
    }
   },
   "outputs": [],
   "source": [
    "books.shape, movies.shape"
   ]
  },
  {
   "cell_type": "code",
   "execution_count": null,
   "metadata": {
    "ExecuteTime": {
     "end_time": "2019-07-25T13:47:13.549694Z",
     "start_time": "2019-07-25T13:47:09.705375Z"
    },
    "scrolled": false
   },
   "outputs": [],
   "source": [
    "msno.matrix(books.sample(250))"
   ]
  },
  {
   "cell_type": "code",
   "execution_count": null,
   "metadata": {
    "ExecuteTime": {
     "end_time": "2019-07-25T13:47:21.835040Z",
     "start_time": "2019-07-25T13:47:18.204955Z"
    }
   },
   "outputs": [],
   "source": [
    "msno.matrix(movies.sample(250))"
   ]
  },
  {
   "cell_type": "code",
   "execution_count": null,
   "metadata": {
    "ExecuteTime": {
     "end_time": "2019-07-28T11:25:29.093073Z",
     "start_time": "2019-07-28T11:25:29.087348Z"
    }
   },
   "outputs": [],
   "source": [
    "def get_dtype_summary(df):\n",
    "    x = pd.DataFrame(df.dtypes, columns=['dtype']).rename_axis('keys')\n",
    "    y = pd.DataFrame(df.isnull().sum(), columns= ['null_count']).rename_axis('keys')\n",
    "    z = pd.DataFrame(df.count(), columns = ['non_null_count']).rename_axis('keys')\n",
    "    x = x.merge(y.merge(z, on = 'keys'), on = 'keys')\n",
    "    print(x)"
   ]
  },
  {
   "cell_type": "code",
   "execution_count": null,
   "metadata": {
    "ExecuteTime": {
     "end_time": "2019-07-28T11:13:30.290134Z",
     "start_time": "2019-07-28T11:13:30.255570Z"
    }
   },
   "outputs": [],
   "source": [
    "get_dtype_summary(books)"
   ]
  },
  {
   "cell_type": "code",
   "execution_count": null,
   "metadata": {
    "ExecuteTime": {
     "end_time": "2019-07-28T11:13:32.387704Z",
     "start_time": "2019-07-28T11:13:32.349910Z"
    }
   },
   "outputs": [],
   "source": [
    "get_dtype_summary(movies)"
   ]
  },
  {
   "cell_type": "code",
   "execution_count": null,
   "metadata": {
    "ExecuteTime": {
     "end_time": "2019-07-28T22:31:12.004413Z",
     "start_time": "2019-07-28T22:31:11.979503Z"
    },
    "init_cell": true
   },
   "outputs": [],
   "source": []
  },
  {
   "cell_type": "markdown",
   "metadata": {
    "ExecuteTime": {
     "end_time": "2019-07-21T07:36:51.818437Z",
     "start_time": "2019-07-21T07:36:51.810542Z"
    }
   },
   "source": [
    "### Merge rows with same `book_id` and `movie_id`."
   ]
  },
  {
   "cell_type": "code",
   "execution_count": null,
   "metadata": {
    "ExecuteTime": {
     "end_time": "2019-07-28T11:25:33.673716Z",
     "start_time": "2019-07-28T11:25:33.660987Z"
    }
   },
   "outputs": [],
   "source": [
    "sum(books['book_id'].value_counts() > 1), sum(\n",
    "    movies['movie_id'].value_counts() > 1)"
   ]
  },
  {
   "cell_type": "code",
   "execution_count": null,
   "metadata": {
    "ExecuteTime": {
     "end_time": "2019-07-28T11:25:35.128283Z",
     "start_time": "2019-07-28T11:25:35.113824Z"
    }
   },
   "outputs": [],
   "source": [
    "books['book_id'].value_counts()[:7]\n",
    "movies['movie_id'].value_counts()[:7]"
   ]
  },
  {
   "cell_type": "code",
   "execution_count": null,
   "metadata": {
    "ExecuteTime": {
     "end_time": "2019-07-28T11:14:05.441311Z",
     "start_time": "2019-07-28T11:14:05.412504Z"
    }
   },
   "outputs": [],
   "source": [
    "books.loc[books['book_id'] == 'b_9780307931894_972369283']"
   ]
  },
  {
   "cell_type": "code",
   "execution_count": null,
   "metadata": {
    "ExecuteTime": {
     "end_time": "2019-07-28T11:14:11.453257Z",
     "start_time": "2019-07-28T11:14:11.410824Z"
    }
   },
   "outputs": [],
   "source": [
    "movies.loc[movies['movie_id'] == 'm__53071567_tt0857480'][:4]"
   ]
  },
  {
   "cell_type": "code",
   "execution_count": null,
   "metadata": {},
   "outputs": [],
   "source": []
  },
  {
   "cell_type": "markdown",
   "metadata": {},
   "source": [
    "Row merge"
   ]
  },
  {
   "cell_type": "code",
   "execution_count": null,
   "metadata": {
    "ExecuteTime": {
     "end_time": "2019-07-28T11:25:38.458050Z",
     "start_time": "2019-07-28T11:25:38.447826Z"
    }
   },
   "outputs": [],
   "source": [
    "books = books[books['book_id'] != 'b_broken_broken']"
   ]
  },
  {
   "cell_type": "code",
   "execution_count": 6,
   "metadata": {
    "ExecuteTime": {
     "end_time": "2019-07-31T06:08:00.603358Z",
     "start_time": "2019-07-31T06:08:00.589391Z"
    },
    "init_cell": true
   },
   "outputs": [],
   "source": [
    "subjects_to_exclude = ['protected daisy', 'fiction', 'in library', 'accessible book',\n",
    "                       'fiction', 'internet archive wishlist', 'large type books', 'in library',\n",
    "                       'popular print disabled books', 'open library staff picks', 'ficción',\n",
    "                       'fiction in english', 'accessible book', 'ficción juvenil', 'open_syllabus_project',\n",
    "                       'overdrive']\n",
    "\n",
    "def remove_books_subs():\n",
    "    global books_ex\n",
    "    books_ex = books_ex[books_ex['subjects'].isin(subjects_to_exclude)]\n",
    "    \n",
    "    print('Books_ex', books_ex.shape)"
   ]
  },
  {
   "cell_type": "code",
   "execution_count": 7,
   "metadata": {
    "ExecuteTime": {
     "end_time": "2019-07-31T06:08:00.644075Z",
     "start_time": "2019-07-31T06:08:00.614931Z"
    },
    "init_cell": true
   },
   "outputs": [
    {
     "ename": "IndentationError",
     "evalue": "unexpected indent (<ipython-input-7-58add2be7592>, line 4)",
     "output_type": "error",
     "traceback": [
      "\u001b[0;36m  File \u001b[0;32m\"<ipython-input-7-58add2be7592>\"\u001b[0;36m, line \u001b[0;32m4\u001b[0m\n\u001b[0;31m    return df[df[col] == query]\u001b[0m\n\u001b[0m    ^\u001b[0m\n\u001b[0;31mIndentationError\u001b[0m\u001b[0;31m:\u001b[0m unexpected indent\n"
     ]
    }
   ],
   "source": [
    "def row_search(df, col, query, condensed = False):\n",
    "    \n",
    "    if condensed is False:zip\n",
    "        return df[df[col] == query]\n",
    "    else:\n",
    "        if id(df) == id(books):\n",
    "            book_id = df[df[col] == query]['book_id'][1]\n",
    "            title = df[df[col] == query]['book_title'][1]\n",
    "            author = df[df[col] == query]['author'][1]\n",
    "            \n",
    "            return {'book_id': book_id, 'title': title, 'author': author}\n",
    "        else:\n",
    "            movie_id = df[df[col] == query]['movie_id'][1]\n",
    "            movie_title = df[df[col] == query]['movie_title'][1]\n",
    "            book_title = df[df[col] == query]['book_title'][1]\n",
    "            \n",
    "            return {'movie_id': movie_id, 'movie_title': movie_title, 'book_title': book_title}"
   ]
  },
  {
   "cell_type": "code",
   "execution_count": null,
   "metadata": {
    "ExecuteTime": {
     "end_time": "2019-07-28T11:14:38.004074Z",
     "start_time": "2019-07-28T11:14:37.986772Z"
    }
   },
   "outputs": [],
   "source": [
    "books.columns"
   ]
  },
  {
   "cell_type": "code",
   "execution_count": null,
   "metadata": {
    "ExecuteTime": {
     "end_time": "2019-07-28T11:14:39.227033Z",
     "start_time": "2019-07-28T11:14:39.213313Z"
    }
   },
   "outputs": [],
   "source": [
    "x = row_search(books, 'book_id', 'b_0684819066_38377745', True)\n",
    "x"
   ]
  },
  {
   "cell_type": "code",
   "execution_count": null,
   "metadata": {
    "ExecuteTime": {
     "end_time": "2019-07-31T06:08:00.655902Z",
     "start_time": "2019-07-31T06:07:53.506Z"
    },
    "init_cell": true
   },
   "outputs": [],
   "source": [
    "def clean_dates():\n",
    "    try:\n",
    "        books['gc_text_reviews_count'] = books['gc_text_reviews_count'] + 1\n",
    "        books['publish_date'] = pd.to_datetime(books['publish_date'])\n",
    "        books['publish_year'] = books['publish_date'].dt.year\n",
    "        \n",
    "        movies['imdb_released'] = pd.to_datetime(movies['imdb_released'])\n",
    "    except ValueError or AttributeError:\n",
    "        pass\n",
    "\n",
    "    try:\n",
    "        books.drop(columns=['book_wiki_url', 'adaptations', 'title', 'gc_title'], inplace = True)\n",
    "    except KeyError:\n",
    "        pass\n",
    "\n",
    "    print('Books:', books.shape, ', Movies:', movies.shape)"
   ]
  },
  {
   "cell_type": "code",
   "execution_count": null,
   "metadata": {
    "ExecuteTime": {
     "end_time": "2019-07-31T06:08:00.657229Z",
     "start_time": "2019-07-31T06:07:53.510Z"
    },
    "init_cell": true
   },
   "outputs": [],
   "source": [
    "books_ex = pd.DataFrame()\n",
    "movies_ex = pd.DataFrame()\n",
    "merge_ex = pd.DataFrame()\n",
    "\n",
    "books_ex_save = pd.DataFrame()\n",
    "movies_ex_save = pd.DataFrame()\n",
    "merge_ex_save = pd.DataFrame()\n",
    "\n"
   ]
  },
  {
   "cell_type": "code",
   "execution_count": null,
   "metadata": {
    "ExecuteTime": {
     "end_time": "2019-07-31T06:08:00.658443Z",
     "start_time": "2019-07-31T06:07:53.513Z"
    },
    "init_cell": true
   },
   "outputs": [],
   "source": [
    "def save():\n",
    "    global books_s1\n",
    "    global movies_s1\n",
    "    global books_ex_save\n",
    "    global movies_ex_save\n",
    "    global merge_ex_save\n",
    "    \n",
    "    books_s1 = books.copy(deep=True)\n",
    "    movies_s1 = movies.copy(deep=True)\n",
    "    \n",
    "    books_ex_save = books_ex.copy(deep=True)\n",
    "    movies_ex_save = movies_ex.copy(deep=True)\n",
    "    merge_ex_save = merge_ex.copy(deep=True)\n",
    "    \n",
    "\n",
    "def restore():\n",
    "    global books\n",
    "    global movies\n",
    "    global books_ex\n",
    "    global movies_ex\n",
    "    global merge_ex\n",
    "    \n",
    "    books = books_s1.copy(deep=True)\n",
    "    movies = movies_s1.copy(deep=True)\n",
    "    \n",
    "    books_ex = books_ex_save.copy(deep=True)\n",
    "    movies_ex = movies_ex_save.copy(deep=True)\n",
    "    merge_ex = merge_ex_save.copy(deep=True)\n",
    "    \n",
    "    "
   ]
  },
  {
   "cell_type": "code",
   "execution_count": null,
   "metadata": {
    "ExecuteTime": {
     "end_time": "2019-07-31T06:08:00.659580Z",
     "start_time": "2019-07-31T06:07:53.516Z"
    },
    "init_cell": true
   },
   "outputs": [],
   "source": [
    "def col_clean(df, list_of_columns):\n",
    "    for col in list_of_columns:\n",
    "        df[col] = df[col].apply(list_clean, convert_dtype = True)\n",
    "    print(df.shape)\n",
    "\n",
    "def list_clean(str_list):\n",
    "    str_list = str(str_list)\n",
    "    cleaned_list = str_list.replace(\"'\", '').replace('[', '').replace(']', '').replace('\"', '')\n",
    "    cleaned_list = [element.strip() for element in cleaned_list.split(',')]\n",
    "    \n",
    "    if len(cleaned_list) == 1:\n",
    "        if 'nan' in cleaned_list:\n",
    "            cleaned_list = None\n",
    "        else:\n",
    "            cleaned_list = cleaned_list[0]\n",
    "    \n",
    "    return cleaned_list\n",
    "\n",
    "list_clean(\"['secret service', 'world war, 1939-1945', 'fiction']\")"
   ]
  },
  {
   "cell_type": "code",
   "execution_count": null,
   "metadata": {
    "ExecuteTime": {
     "end_time": "2019-07-31T06:08:00.660751Z",
     "start_time": "2019-07-31T06:07:53.519Z"
    },
    "init_cell": true
   },
   "outputs": [],
   "source": [
    "read()\n",
    "lower()\n",
    "books = books.groupby(['book_id']).agg('max').reset_index()\n",
    "movies = movies.groupby(['movie_id']).agg('max').reset_index()\n",
    "col_clean(books, ['subjects', 'subject_places', 'publish_places'])\n",
    "col_clean(movies, ['imdb_actors', 'imdb_writers', 'imdb_genres'])\n",
    "clean_dates()\n"
   ]
  },
  {
   "cell_type": "code",
   "execution_count": 41,
   "metadata": {
    "ExecuteTime": {
     "end_time": "2019-07-28T22:32:06.237142Z",
     "start_time": "2019-07-28T22:32:06.205770Z"
    },
    "scrolled": false
   },
   "outputs": [
    {
     "data": {
      "text/html": [
       "<div>\n",
       "<style scoped>\n",
       "    .dataframe tbody tr th:only-of-type {\n",
       "        vertical-align: middle;\n",
       "    }\n",
       "\n",
       "    .dataframe tbody tr th {\n",
       "        vertical-align: top;\n",
       "    }\n",
       "\n",
       "    .dataframe thead th {\n",
       "        text-align: right;\n",
       "    }\n",
       "</style>\n",
       "<table border=\"1\" class=\"dataframe\">\n",
       "  <thead>\n",
       "    <tr style=\"text-align: right;\">\n",
       "      <th></th>\n",
       "      <th>book_id</th>\n",
       "      <th>author</th>\n",
       "      <th>book_title</th>\n",
       "      <th>count</th>\n",
       "      <th>isbn</th>\n",
       "      <th>oclc</th>\n",
       "      <th>valid_identifier</th>\n",
       "      <th>metadata_updated</th>\n",
       "      <th>number_of_pages</th>\n",
       "      <th>subject_places</th>\n",
       "      <th>subjects</th>\n",
       "      <th>publish_date</th>\n",
       "      <th>publish_places</th>\n",
       "      <th>goodreads</th>\n",
       "      <th>gc_language_code</th>\n",
       "      <th>gc_average_rating</th>\n",
       "      <th>gc_format</th>\n",
       "      <th>gc_ratings_count</th>\n",
       "      <th>gc_text_reviews_count</th>\n",
       "      <th>gc_authors</th>\n",
       "      <th>publish_year</th>\n",
       "    </tr>\n",
       "  </thead>\n",
       "  <tbody>\n",
       "    <tr>\n",
       "      <th>0</th>\n",
       "      <td>b_0002212080_1993343</td>\n",
       "      <td>jack higgins</td>\n",
       "      <td>the eagle has landed (novel)</td>\n",
       "      <td>0</td>\n",
       "      <td>0002212080</td>\n",
       "      <td>1993343</td>\n",
       "      <td>True</td>\n",
       "      <td>True</td>\n",
       "      <td>361.0</td>\n",
       "      <td>germany</td>\n",
       "      <td>[secret service, world war, 1939-1945, fiction]</td>\n",
       "      <td>1976-01-01</td>\n",
       "      <td>toronto</td>\n",
       "      <td>1181359.0</td>\n",
       "      <td>eng</td>\n",
       "      <td>4.16</td>\n",
       "      <td>mass market paperback</td>\n",
       "      <td>94.0</td>\n",
       "      <td>9.0</td>\n",
       "      <td>NaN</td>\n",
       "      <td>1976.0</td>\n",
       "    </tr>\n",
       "    <tr>\n",
       "      <th>1</th>\n",
       "      <td>b_0002227118_31704568</td>\n",
       "      <td>patrick o'brian</td>\n",
       "      <td>the far side of the world</td>\n",
       "      <td>1</td>\n",
       "      <td>0002227118</td>\n",
       "      <td>31704568</td>\n",
       "      <td>True</td>\n",
       "      <td>True</td>\n",
       "      <td>371.0</td>\n",
       "      <td>[great britain, oceania, united states]</td>\n",
       "      <td>[british naval operations, fiction, history, j...</td>\n",
       "      <td>1984-01-01</td>\n",
       "      <td>london</td>\n",
       "      <td>2771584.0</td>\n",
       "      <td>eng</td>\n",
       "      <td>4.45</td>\n",
       "      <td>hardcover</td>\n",
       "      <td>3.0</td>\n",
       "      <td>1.0</td>\n",
       "      <td>NaN</td>\n",
       "      <td>1984.0</td>\n",
       "    </tr>\n",
       "    <tr>\n",
       "      <th>2</th>\n",
       "      <td>b_0002239728_60115623</td>\n",
       "      <td>robert ludlum</td>\n",
       "      <td>the apocalypse watch</td>\n",
       "      <td>0</td>\n",
       "      <td>0002239728</td>\n",
       "      <td>60115623</td>\n",
       "      <td>True</td>\n",
       "      <td>True</td>\n",
       "      <td>645.0</td>\n",
       "      <td>[united states, europe]</td>\n",
       "      <td>[fiction, brothers, conspiracies, intelligence...</td>\n",
       "      <td>1995-01-01</td>\n",
       "      <td>london</td>\n",
       "      <td>275759.0</td>\n",
       "      <td>NaN</td>\n",
       "      <td>3.88</td>\n",
       "      <td>NaN</td>\n",
       "      <td>6.0</td>\n",
       "      <td>1.0</td>\n",
       "      <td>NaN</td>\n",
       "      <td>1995.0</td>\n",
       "    </tr>\n",
       "    <tr>\n",
       "      <th>3</th>\n",
       "      <td>b_0002240262_30814041</td>\n",
       "      <td></td>\n",
       "      <td>ring_(book)</td>\n",
       "      <td>1</td>\n",
       "      <td>0002240262</td>\n",
       "      <td>30814041</td>\n",
       "      <td>True</td>\n",
       "      <td>True</td>\n",
       "      <td>336.0</td>\n",
       "      <td>None</td>\n",
       "      <td>None</td>\n",
       "      <td>1994-07-12</td>\n",
       "      <td>None</td>\n",
       "      <td>NaN</td>\n",
       "      <td>NaN</td>\n",
       "      <td>NaN</td>\n",
       "      <td>NaN</td>\n",
       "      <td>NaN</td>\n",
       "      <td>NaN</td>\n",
       "      <td>NaN</td>\n",
       "      <td>1994.0</td>\n",
       "    </tr>\n",
       "    <tr>\n",
       "      <th>4</th>\n",
       "      <td>b_0006158056_16481828</td>\n",
       "      <td>alistair maclean</td>\n",
       "      <td>breakheart pass (novel)</td>\n",
       "      <td>0</td>\n",
       "      <td>0006158056</td>\n",
       "      <td>16481828</td>\n",
       "      <td>True</td>\n",
       "      <td>True</td>\n",
       "      <td>192.0</td>\n",
       "      <td>None</td>\n",
       "      <td>[in library, fiction in english, protected daisy]</td>\n",
       "      <td>1980-01-01</td>\n",
       "      <td>(london)</td>\n",
       "      <td>149607.0</td>\n",
       "      <td>eng</td>\n",
       "      <td>3.66</td>\n",
       "      <td>paperback</td>\n",
       "      <td>2123.0</td>\n",
       "      <td>59.0</td>\n",
       "      <td>NaN</td>\n",
       "      <td>1980.0</td>\n",
       "    </tr>\n",
       "  </tbody>\n",
       "</table>\n",
       "</div>"
      ],
      "text/plain": [
       "                 book_id            author                    book_title  count        isbn      oclc  valid_identifier  metadata_updated  number_of_pages                           subject_places                                           subjects publish_date publish_places  goodreads gc_language_code  gc_average_rating              gc_format  gc_ratings_count  gc_text_reviews_count gc_authors  publish_year\n",
       "0   b_0002212080_1993343      jack higgins  the eagle has landed (novel)      0  0002212080   1993343              True              True            361.0                                  germany    [secret service, world war, 1939-1945, fiction]   1976-01-01        toronto  1181359.0              eng               4.16  mass market paperback              94.0                    9.0        NaN        1976.0\n",
       "1  b_0002227118_31704568   patrick o'brian     the far side of the world      1  0002227118  31704568              True              True            371.0  [great britain, oceania, united states]  [british naval operations, fiction, history, j...   1984-01-01         london  2771584.0              eng               4.45              hardcover               3.0                    1.0        NaN        1984.0\n",
       "2  b_0002239728_60115623     robert ludlum          the apocalypse watch      0  0002239728  60115623              True              True            645.0                  [united states, europe]  [fiction, brothers, conspiracies, intelligence...   1995-01-01         london   275759.0              NaN               3.88                    NaN               6.0                    1.0        NaN        1995.0\n",
       "3  b_0002240262_30814041                                     ring_(book)      1  0002240262  30814041              True              True            336.0                                     None                                               None   1994-07-12           None        NaN              NaN                NaN                    NaN               NaN                    NaN        NaN        1994.0\n",
       "4  b_0006158056_16481828  alistair maclean       breakheart pass (novel)      0  0006158056  16481828              True              True            192.0                                     None  [in library, fiction in english, protected daisy]   1980-01-01       (london)   149607.0              eng               3.66              paperback            2123.0                   59.0        NaN        1980.0"
      ]
     },
     "execution_count": 41,
     "metadata": {},
     "output_type": "execute_result"
    }
   ],
   "source": [
    "books.head(5)"
   ]
  },
  {
   "cell_type": "code",
   "execution_count": null,
   "metadata": {},
   "outputs": [],
   "source": []
  },
  {
   "cell_type": "code",
   "execution_count": null,
   "metadata": {
    "ExecuteTime": {
     "end_time": "2019-07-31T06:08:00.664602Z",
     "start_time": "2019-07-31T06:07:53.522Z"
    },
    "init_cell": true
   },
   "outputs": [],
   "source": [
    "books_ex = books.explode('subject_places').explode('subjects')\n",
    "movies_ex = movies.explode('imdb_genres').explode('imdb_actors').explode('imdb_writers')\n",
    "\n",
    "books_ex.drop_duplicates(subset = ['subject_places', 'subjects'], inplace = True)\n",
    "movies_ex.drop_duplicates(subset = ['imdb_actors', 'imdb_genres', 'imdb_writers'], inplace = True)\n",
    "\n",
    "remove_books_subs()\n",
    "save()\n",
    "\n",
    "books_ex.shape, movies_ex.shape"
   ]
  },
  {
   "cell_type": "code",
   "execution_count": 45,
   "metadata": {
    "ExecuteTime": {
     "end_time": "2019-07-28T22:33:33.733924Z",
     "start_time": "2019-07-28T22:33:33.676900Z"
    }
   },
   "outputs": [
    {
     "data": {
      "text/html": [
       "<div>\n",
       "<style scoped>\n",
       "    .dataframe tbody tr th:only-of-type {\n",
       "        vertical-align: middle;\n",
       "    }\n",
       "\n",
       "    .dataframe tbody tr th {\n",
       "        vertical-align: top;\n",
       "    }\n",
       "\n",
       "    .dataframe thead th {\n",
       "        text-align: right;\n",
       "    }\n",
       "</style>\n",
       "<table border=\"1\" class=\"dataframe\">\n",
       "  <thead>\n",
       "    <tr style=\"text-align: right;\">\n",
       "      <th></th>\n",
       "      <th>book_id</th>\n",
       "      <th>author</th>\n",
       "      <th>book_title</th>\n",
       "      <th>count</th>\n",
       "      <th>isbn</th>\n",
       "      <th>oclc</th>\n",
       "      <th>valid_identifier</th>\n",
       "      <th>metadata_updated</th>\n",
       "      <th>number_of_pages</th>\n",
       "      <th>subject_places</th>\n",
       "      <th>subjects</th>\n",
       "      <th>publish_date</th>\n",
       "      <th>publish_places</th>\n",
       "      <th>goodreads</th>\n",
       "      <th>gc_language_code</th>\n",
       "      <th>gc_average_rating</th>\n",
       "      <th>gc_format</th>\n",
       "      <th>gc_ratings_count</th>\n",
       "      <th>gc_text_reviews_count</th>\n",
       "      <th>gc_authors</th>\n",
       "      <th>publish_year</th>\n",
       "    </tr>\n",
       "  </thead>\n",
       "  <tbody>\n",
       "    <tr>\n",
       "      <th>3</th>\n",
       "      <td>b_0002240262_30814041</td>\n",
       "      <td></td>\n",
       "      <td>ring_(book)</td>\n",
       "      <td>1</td>\n",
       "      <td>0002240262</td>\n",
       "      <td>30814041</td>\n",
       "      <td>True</td>\n",
       "      <td>True</td>\n",
       "      <td>336.0</td>\n",
       "      <td>None</td>\n",
       "      <td>None</td>\n",
       "      <td>1994-07-12</td>\n",
       "      <td>None</td>\n",
       "      <td>NaN</td>\n",
       "      <td>NaN</td>\n",
       "      <td>NaN</td>\n",
       "      <td>NaN</td>\n",
       "      <td>NaN</td>\n",
       "      <td>NaN</td>\n",
       "      <td>NaN</td>\n",
       "      <td>1994.0</td>\n",
       "    </tr>\n",
       "    <tr>\n",
       "      <th>13</th>\n",
       "      <td>b_0060817089_58431841</td>\n",
       "      <td></td>\n",
       "      <td>marley &amp; me</td>\n",
       "      <td>1</td>\n",
       "      <td>0060817089</td>\n",
       "      <td>58431841</td>\n",
       "      <td>True</td>\n",
       "      <td>True</td>\n",
       "      <td>NaN</td>\n",
       "      <td>florida</td>\n",
       "      <td>[anecdotes, labrador retriever, puppies, human...</td>\n",
       "      <td>2005-10-18</td>\n",
       "      <td>None</td>\n",
       "      <td>NaN</td>\n",
       "      <td>NaN</td>\n",
       "      <td>NaN</td>\n",
       "      <td>NaN</td>\n",
       "      <td>NaN</td>\n",
       "      <td>NaN</td>\n",
       "      <td>NaN</td>\n",
       "      <td>2005.0</td>\n",
       "    </tr>\n",
       "    <tr>\n",
       "      <th>18</th>\n",
       "      <td>b_0062024027_769412945</td>\n",
       "      <td></td>\n",
       "      <td>divergent_(novel)</td>\n",
       "      <td>1</td>\n",
       "      <td>0062024027</td>\n",
       "      <td>769412945</td>\n",
       "      <td>True</td>\n",
       "      <td>True</td>\n",
       "      <td>NaN</td>\n",
       "      <td>chicago</td>\n",
       "      <td>[new york times bestseller, nyt:paperback_book...</td>\n",
       "      <td>2011-01-01</td>\n",
       "      <td>new york</td>\n",
       "      <td>NaN</td>\n",
       "      <td>NaN</td>\n",
       "      <td>NaN</td>\n",
       "      <td>NaN</td>\n",
       "      <td>NaN</td>\n",
       "      <td>NaN</td>\n",
       "      <td>NaN</td>\n",
       "      <td>2011.0</td>\n",
       "    </tr>\n",
       "    <tr>\n",
       "      <th>19</th>\n",
       "      <td>b_0062234935_794210765</td>\n",
       "      <td></td>\n",
       "      <td>insurgent_(novel)</td>\n",
       "      <td>1</td>\n",
       "      <td>0062234935</td>\n",
       "      <td>794210765</td>\n",
       "      <td>True</td>\n",
       "      <td>False</td>\n",
       "      <td>NaN</td>\n",
       "      <td>None</td>\n",
       "      <td>None</td>\n",
       "      <td>NaT</td>\n",
       "      <td>None</td>\n",
       "      <td>NaN</td>\n",
       "      <td>NaN</td>\n",
       "      <td>NaN</td>\n",
       "      <td>NaN</td>\n",
       "      <td>NaN</td>\n",
       "      <td>NaN</td>\n",
       "      <td>NaN</td>\n",
       "      <td>NaN</td>\n",
       "    </tr>\n",
       "    <tr>\n",
       "      <th>71</th>\n",
       "      <td>b_0312930194_16268967</td>\n",
       "      <td></td>\n",
       "      <td>seventh son_(novel)</td>\n",
       "      <td>1</td>\n",
       "      <td>0312930194</td>\n",
       "      <td>16268967</td>\n",
       "      <td>True</td>\n",
       "      <td>False</td>\n",
       "      <td>NaN</td>\n",
       "      <td>None</td>\n",
       "      <td>None</td>\n",
       "      <td>NaT</td>\n",
       "      <td>None</td>\n",
       "      <td>NaN</td>\n",
       "      <td>NaN</td>\n",
       "      <td>NaN</td>\n",
       "      <td>NaN</td>\n",
       "      <td>NaN</td>\n",
       "      <td>NaN</td>\n",
       "      <td>NaN</td>\n",
       "      <td>NaN</td>\n",
       "    </tr>\n",
       "    <tr>\n",
       "      <th>99</th>\n",
       "      <td>b_0374299218_66463617</td>\n",
       "      <td></td>\n",
       "      <td>call me by your name_(novel)</td>\n",
       "      <td>1</td>\n",
       "      <td>0374299218</td>\n",
       "      <td>66463617</td>\n",
       "      <td>True</td>\n",
       "      <td>True</td>\n",
       "      <td>248.0</td>\n",
       "      <td>italy</td>\n",
       "      <td>[teenage boys, accessible book, authors, in li...</td>\n",
       "      <td>2007-01-01</td>\n",
       "      <td>new york</td>\n",
       "      <td>NaN</td>\n",
       "      <td>NaN</td>\n",
       "      <td>NaN</td>\n",
       "      <td>NaN</td>\n",
       "      <td>NaN</td>\n",
       "      <td>NaN</td>\n",
       "      <td>NaN</td>\n",
       "      <td>2007.0</td>\n",
       "    </tr>\n",
       "    <tr>\n",
       "      <th>189</th>\n",
       "      <td>b_0399116974_1975222</td>\n",
       "      <td></td>\n",
       "      <td>children of dune</td>\n",
       "      <td>1</td>\n",
       "      <td>0399116974</td>\n",
       "      <td>1975222</td>\n",
       "      <td>True</td>\n",
       "      <td>True</td>\n",
       "      <td>444.0</td>\n",
       "      <td>None</td>\n",
       "      <td>[dune (imaginary place), fiction, fiction in e...</td>\n",
       "      <td>1976-01-01</td>\n",
       "      <td>new york</td>\n",
       "      <td>NaN</td>\n",
       "      <td>NaN</td>\n",
       "      <td>NaN</td>\n",
       "      <td>NaN</td>\n",
       "      <td>NaN</td>\n",
       "      <td>NaN</td>\n",
       "      <td>NaN</td>\n",
       "      <td>1976.0</td>\n",
       "    </tr>\n",
       "    <tr>\n",
       "      <th>296</th>\n",
       "      <td>b_067940211_25632732</td>\n",
       "      <td></td>\n",
       "      <td>primal fear_(novel)</td>\n",
       "      <td>1</td>\n",
       "      <td>067940211</td>\n",
       "      <td>25632732</td>\n",
       "      <td>True</td>\n",
       "      <td>False</td>\n",
       "      <td>NaN</td>\n",
       "      <td>None</td>\n",
       "      <td>None</td>\n",
       "      <td>NaT</td>\n",
       "      <td>None</td>\n",
       "      <td>NaN</td>\n",
       "      <td>NaN</td>\n",
       "      <td>NaN</td>\n",
       "      <td>NaN</td>\n",
       "      <td>NaN</td>\n",
       "      <td>NaN</td>\n",
       "      <td>NaN</td>\n",
       "      <td>NaN</td>\n",
       "    </tr>\n",
       "    <tr>\n",
       "      <th>318</th>\n",
       "      <td>b_0684819066_38377745</td>\n",
       "      <td></td>\n",
       "      <td>a beautiful mind_(book)</td>\n",
       "      <td>1</td>\n",
       "      <td>0684819066</td>\n",
       "      <td>38377745</td>\n",
       "      <td>True</td>\n",
       "      <td>True</td>\n",
       "      <td>459.0</td>\n",
       "      <td>united states</td>\n",
       "      <td>[mathematicians, biography]</td>\n",
       "      <td>1998-01-01</td>\n",
       "      <td>new york</td>\n",
       "      <td>NaN</td>\n",
       "      <td>NaN</td>\n",
       "      <td>NaN</td>\n",
       "      <td>NaN</td>\n",
       "      <td>NaN</td>\n",
       "      <td>NaN</td>\n",
       "      <td>NaN</td>\n",
       "      <td>1998.0</td>\n",
       "    </tr>\n",
       "    <tr>\n",
       "      <th>344</th>\n",
       "      <td>b_074754624_</td>\n",
       "      <td></td>\n",
       "      <td>harry potter and the goblet of fire</td>\n",
       "      <td>1</td>\n",
       "      <td>074754624</td>\n",
       "      <td></td>\n",
       "      <td>True</td>\n",
       "      <td>False</td>\n",
       "      <td>NaN</td>\n",
       "      <td>None</td>\n",
       "      <td>None</td>\n",
       "      <td>NaT</td>\n",
       "      <td>None</td>\n",
       "      <td>NaN</td>\n",
       "      <td>NaN</td>\n",
       "      <td>NaN</td>\n",
       "      <td>NaN</td>\n",
       "      <td>NaN</td>\n",
       "      <td>NaN</td>\n",
       "      <td>NaN</td>\n",
       "      <td>NaN</td>\n",
       "    </tr>\n",
       "    <tr>\n",
       "      <th>345</th>\n",
       "      <td>b_0747551006_</td>\n",
       "      <td></td>\n",
       "      <td>harry potter and the order of the phoenix</td>\n",
       "      <td>1</td>\n",
       "      <td>0747551006</td>\n",
       "      <td></td>\n",
       "      <td>True</td>\n",
       "      <td>True</td>\n",
       "      <td>772.0</td>\n",
       "      <td>[england, hogwarts schools of witchcraft, grim...</td>\n",
       "      <td>[childrens books/ages 9-12 fic, witches and wa...</td>\n",
       "      <td>2003-01-01</td>\n",
       "      <td>[london, england]</td>\n",
       "      <td>NaN</td>\n",
       "      <td>NaN</td>\n",
       "      <td>NaN</td>\n",
       "      <td>NaN</td>\n",
       "      <td>NaN</td>\n",
       "      <td>NaN</td>\n",
       "      <td>NaN</td>\n",
       "      <td>2003.0</td>\n",
       "    </tr>\n",
       "    <tr>\n",
       "      <th>347</th>\n",
       "      <td>b_0747581088_</td>\n",
       "      <td></td>\n",
       "      <td>harry potter and the half-blood prince</td>\n",
       "      <td>1</td>\n",
       "      <td>0747581088</td>\n",
       "      <td></td>\n",
       "      <td>True</td>\n",
       "      <td>False</td>\n",
       "      <td>NaN</td>\n",
       "      <td>None</td>\n",
       "      <td>None</td>\n",
       "      <td>NaT</td>\n",
       "      <td>None</td>\n",
       "      <td>NaN</td>\n",
       "      <td>NaN</td>\n",
       "      <td>NaN</td>\n",
       "      <td>NaN</td>\n",
       "      <td>NaN</td>\n",
       "      <td>NaN</td>\n",
       "      <td>NaN</td>\n",
       "      <td>NaN</td>\n",
       "    </tr>\n",
       "    <tr>\n",
       "      <th>386</th>\n",
       "      <td>b_0930289528_</td>\n",
       "      <td></td>\n",
       "      <td>v for vendetta</td>\n",
       "      <td>1</td>\n",
       "      <td>0930289528</td>\n",
       "      <td></td>\n",
       "      <td>True</td>\n",
       "      <td>True</td>\n",
       "      <td>286.0</td>\n",
       "      <td>[london, great britain, england]</td>\n",
       "      <td>[science fiction, fascism, fiction, graphic no...</td>\n",
       "      <td>1989-01-01</td>\n",
       "      <td>new york</td>\n",
       "      <td>403459.0</td>\n",
       "      <td>eng</td>\n",
       "      <td>4.25</td>\n",
       "      <td>paperback</td>\n",
       "      <td>4110.0</td>\n",
       "      <td>351.0</td>\n",
       "      <td>ordereddict([('author', [ordereddict([('id', '...</td>\n",
       "      <td>1989.0</td>\n",
       "    </tr>\n",
       "    <tr>\n",
       "      <th>424</th>\n",
       "      <td>b_9780007286249_310154424</td>\n",
       "      <td></td>\n",
       "      <td>chicago_(novel)</td>\n",
       "      <td>1</td>\n",
       "      <td>9780007286249</td>\n",
       "      <td>310154424</td>\n",
       "      <td>True</td>\n",
       "      <td>False</td>\n",
       "      <td>NaN</td>\n",
       "      <td>None</td>\n",
       "      <td>None</td>\n",
       "      <td>NaT</td>\n",
       "      <td>None</td>\n",
       "      <td>NaN</td>\n",
       "      <td>NaN</td>\n",
       "      <td>NaN</td>\n",
       "      <td>NaN</td>\n",
       "      <td>NaN</td>\n",
       "      <td>NaN</td>\n",
       "      <td>NaN</td>\n",
       "      <td>NaN</td>\n",
       "    </tr>\n",
       "    <tr>\n",
       "      <th>426</th>\n",
       "      <td>b_9780060530921_179806700</td>\n",
       "      <td></td>\n",
       "      <td>the graveyard book</td>\n",
       "      <td>1</td>\n",
       "      <td>9780060530921</td>\n",
       "      <td>179806700</td>\n",
       "      <td>True</td>\n",
       "      <td>True</td>\n",
       "      <td>312.0</td>\n",
       "      <td>None</td>\n",
       "      <td>[fiction, cemeteries, supernatural, dead, orph...</td>\n",
       "      <td>2008-01-01</td>\n",
       "      <td>new york</td>\n",
       "      <td>2213661.0</td>\n",
       "      <td>eng</td>\n",
       "      <td>4.13</td>\n",
       "      <td>hardcover</td>\n",
       "      <td>359271.0</td>\n",
       "      <td>23457.0</td>\n",
       "      <td>ordereddict([('author', [ordereddict([('id', '...</td>\n",
       "      <td>2008.0</td>\n",
       "    </tr>\n",
       "    <tr>\n",
       "      <th>441</th>\n",
       "      <td>b_9780142419779_712116974</td>\n",
       "      <td></td>\n",
       "      <td>matched</td>\n",
       "      <td>1</td>\n",
       "      <td>9780142419779</td>\n",
       "      <td>712116974</td>\n",
       "      <td>True</td>\n",
       "      <td>True</td>\n",
       "      <td>NaN</td>\n",
       "      <td>None</td>\n",
       "      <td>[in library, young adult fiction, fantasy, juv...</td>\n",
       "      <td>2011-01-01</td>\n",
       "      <td>None</td>\n",
       "      <td>NaN</td>\n",
       "      <td>NaN</td>\n",
       "      <td>NaN</td>\n",
       "      <td>NaN</td>\n",
       "      <td>NaN</td>\n",
       "      <td>NaN</td>\n",
       "      <td>NaN</td>\n",
       "      <td>2011.0</td>\n",
       "    </tr>\n",
       "    <tr>\n",
       "      <th>468</th>\n",
       "      <td>b_9780385738750_502029786</td>\n",
       "      <td></td>\n",
       "      <td>the scorch trials</td>\n",
       "      <td>1</td>\n",
       "      <td>9780385738750</td>\n",
       "      <td>502029786</td>\n",
       "      <td>True</td>\n",
       "      <td>True</td>\n",
       "      <td>NaN</td>\n",
       "      <td>None</td>\n",
       "      <td>[science fiction, survival, fiction]</td>\n",
       "      <td>2010-01-01</td>\n",
       "      <td>new york</td>\n",
       "      <td>NaN</td>\n",
       "      <td>NaN</td>\n",
       "      <td>NaN</td>\n",
       "      <td>NaN</td>\n",
       "      <td>NaN</td>\n",
       "      <td>NaN</td>\n",
       "      <td>NaN</td>\n",
       "      <td>2010.0</td>\n",
       "    </tr>\n",
       "    <tr>\n",
       "      <th>480</th>\n",
       "      <td>b_9780399162411_999590913</td>\n",
       "      <td></td>\n",
       "      <td>the 5th wave_(novel)</td>\n",
       "      <td>1</td>\n",
       "      <td>9780399162411</td>\n",
       "      <td>999590913</td>\n",
       "      <td>True</td>\n",
       "      <td>True</td>\n",
       "      <td>457.0</td>\n",
       "      <td>None</td>\n",
       "      <td>[science fiction, war stories, survival, extra...</td>\n",
       "      <td>2013-01-01</td>\n",
       "      <td>new york</td>\n",
       "      <td>NaN</td>\n",
       "      <td>NaN</td>\n",
       "      <td>NaN</td>\n",
       "      <td>NaN</td>\n",
       "      <td>NaN</td>\n",
       "      <td>NaN</td>\n",
       "      <td>NaN</td>\n",
       "      <td>2013.0</td>\n",
       "    </tr>\n",
       "    <tr>\n",
       "      <th>484</th>\n",
       "      <td>b_9780439023528_181516677</td>\n",
       "      <td></td>\n",
       "      <td>the hunger games_(novel)</td>\n",
       "      <td>1</td>\n",
       "      <td>9780439023528</td>\n",
       "      <td>181516677</td>\n",
       "      <td>True</td>\n",
       "      <td>True</td>\n",
       "      <td>384.0</td>\n",
       "      <td>[panem, the capitol, the pentagon, district 12]</td>\n",
       "      <td>[severe poverty, starvation, oppression, effec...</td>\n",
       "      <td>2010-07-06</td>\n",
       "      <td>None</td>\n",
       "      <td>NaN</td>\n",
       "      <td>NaN</td>\n",
       "      <td>NaN</td>\n",
       "      <td>NaN</td>\n",
       "      <td>NaN</td>\n",
       "      <td>NaN</td>\n",
       "      <td>NaN</td>\n",
       "      <td>2010.0</td>\n",
       "    </tr>\n",
       "    <tr>\n",
       "      <th>493</th>\n",
       "      <td>b_9780545227247_288932790</td>\n",
       "      <td></td>\n",
       "      <td>catching fire</td>\n",
       "      <td>1</td>\n",
       "      <td>9780545227247</td>\n",
       "      <td>288932790</td>\n",
       "      <td>True</td>\n",
       "      <td>False</td>\n",
       "      <td>NaN</td>\n",
       "      <td>None</td>\n",
       "      <td>None</td>\n",
       "      <td>NaT</td>\n",
       "      <td>None</td>\n",
       "      <td>NaN</td>\n",
       "      <td>NaN</td>\n",
       "      <td>NaN</td>\n",
       "      <td>NaN</td>\n",
       "      <td>NaN</td>\n",
       "      <td>NaN</td>\n",
       "      <td>NaN</td>\n",
       "      <td>NaN</td>\n",
       "    </tr>\n",
       "    <tr>\n",
       "      <th>540</th>\n",
       "      <td>b_9781407124261_</td>\n",
       "      <td></td>\n",
       "      <td>blood red road</td>\n",
       "      <td>1</td>\n",
       "      <td>9781407124261</td>\n",
       "      <td></td>\n",
       "      <td>True</td>\n",
       "      <td>False</td>\n",
       "      <td>NaN</td>\n",
       "      <td>None</td>\n",
       "      <td>None</td>\n",
       "      <td>NaT</td>\n",
       "      <td>None</td>\n",
       "      <td>NaN</td>\n",
       "      <td>NaN</td>\n",
       "      <td>NaN</td>\n",
       "      <td>NaN</td>\n",
       "      <td>NaN</td>\n",
       "      <td>NaN</td>\n",
       "      <td>NaN</td>\n",
       "      <td>NaN</td>\n",
       "    </tr>\n",
       "    <tr>\n",
       "      <th>542</th>\n",
       "      <td>b_9781416975861_</td>\n",
       "      <td></td>\n",
       "      <td>clockwork angel</td>\n",
       "      <td>1</td>\n",
       "      <td>9781416975861</td>\n",
       "      <td></td>\n",
       "      <td>True</td>\n",
       "      <td>True</td>\n",
       "      <td>NaN</td>\n",
       "      <td>None</td>\n",
       "      <td>[new york times bestseller, nyt:paperback_book...</td>\n",
       "      <td>2010-01-01</td>\n",
       "      <td>None</td>\n",
       "      <td>NaN</td>\n",
       "      <td>NaN</td>\n",
       "      <td>NaN</td>\n",
       "      <td>NaN</td>\n",
       "      <td>NaN</td>\n",
       "      <td>NaN</td>\n",
       "      <td>NaN</td>\n",
       "      <td>2010.0</td>\n",
       "    </tr>\n",
       "    <tr>\n",
       "      <th>544</th>\n",
       "      <td>b_9781442426719_</td>\n",
       "      <td></td>\n",
       "      <td>to all the boys i've loved before</td>\n",
       "      <td>1</td>\n",
       "      <td>9781442426719</td>\n",
       "      <td></td>\n",
       "      <td>True</td>\n",
       "      <td>True</td>\n",
       "      <td>384.0</td>\n",
       "      <td>None</td>\n",
       "      <td>None</td>\n",
       "      <td>2016-01-26</td>\n",
       "      <td>None</td>\n",
       "      <td>NaN</td>\n",
       "      <td>NaN</td>\n",
       "      <td>NaN</td>\n",
       "      <td>NaN</td>\n",
       "      <td>NaN</td>\n",
       "      <td>NaN</td>\n",
       "      <td>NaN</td>\n",
       "      <td>2016.0</td>\n",
       "    </tr>\n",
       "    <tr>\n",
       "      <th>547</th>\n",
       "      <td>b_9781558801196_1801693</td>\n",
       "      <td></td>\n",
       "      <td>scarface_(novel)</td>\n",
       "      <td>1</td>\n",
       "      <td>9781558801196</td>\n",
       "      <td>1801693</td>\n",
       "      <td>True</td>\n",
       "      <td>False</td>\n",
       "      <td>NaN</td>\n",
       "      <td>None</td>\n",
       "      <td>None</td>\n",
       "      <td>NaT</td>\n",
       "      <td>None</td>\n",
       "      <td>NaN</td>\n",
       "      <td>NaN</td>\n",
       "      <td>NaN</td>\n",
       "      <td>NaN</td>\n",
       "      <td>NaN</td>\n",
       "      <td>NaN</td>\n",
       "      <td>NaN</td>\n",
       "      <td>NaN</td>\n",
       "    </tr>\n",
       "    <tr>\n",
       "      <th>553</th>\n",
       "      <td>b_9781612130286_780307033</td>\n",
       "      <td></td>\n",
       "      <td>fifty shades of grey</td>\n",
       "      <td>1</td>\n",
       "      <td>9781612130286</td>\n",
       "      <td>780307033</td>\n",
       "      <td>True</td>\n",
       "      <td>True</td>\n",
       "      <td>514.0</td>\n",
       "      <td>None</td>\n",
       "      <td>None</td>\n",
       "      <td>2011-06-20</td>\n",
       "      <td>united kingdom</td>\n",
       "      <td>NaN</td>\n",
       "      <td>NaN</td>\n",
       "      <td>NaN</td>\n",
       "      <td>NaN</td>\n",
       "      <td>NaN</td>\n",
       "      <td>NaN</td>\n",
       "      <td>NaN</td>\n",
       "      <td>2011.0</td>\n",
       "    </tr>\n",
       "    <tr>\n",
       "      <th>554</th>\n",
       "      <td>b_9781846057151_</td>\n",
       "      <td></td>\n",
       "      <td>the confession_(novel)</td>\n",
       "      <td>1</td>\n",
       "      <td>9781846057151</td>\n",
       "      <td></td>\n",
       "      <td>True</td>\n",
       "      <td>False</td>\n",
       "      <td>NaN</td>\n",
       "      <td>None</td>\n",
       "      <td>None</td>\n",
       "      <td>NaT</td>\n",
       "      <td>None</td>\n",
       "      <td>NaN</td>\n",
       "      <td>NaN</td>\n",
       "      <td>NaN</td>\n",
       "      <td>NaN</td>\n",
       "      <td>NaN</td>\n",
       "      <td>NaN</td>\n",
       "      <td>NaN</td>\n",
       "      <td>NaN</td>\n",
       "    </tr>\n",
       "    <tr>\n",
       "      <th>555</th>\n",
       "      <td>b_9781847242532_186764078</td>\n",
       "      <td></td>\n",
       "      <td>the girl with the dragon tattoo</td>\n",
       "      <td>1</td>\n",
       "      <td>9781847242532</td>\n",
       "      <td>186764078</td>\n",
       "      <td>True</td>\n",
       "      <td>True</td>\n",
       "      <td>NaN</td>\n",
       "      <td>None</td>\n",
       "      <td>protected daisy</td>\n",
       "      <td>2005-01-01</td>\n",
       "      <td>None</td>\n",
       "      <td>NaN</td>\n",
       "      <td>NaN</td>\n",
       "      <td>NaN</td>\n",
       "      <td>NaN</td>\n",
       "      <td>NaN</td>\n",
       "      <td>NaN</td>\n",
       "      <td>NaN</td>\n",
       "      <td>2005.0</td>\n",
       "    </tr>\n",
       "    <tr>\n",
       "      <th>667</th>\n",
       "      <td>b__7207376</td>\n",
       "      <td></td>\n",
       "      <td>the lion, the witch, &amp; the wardrobe</td>\n",
       "      <td>1</td>\n",
       "      <td></td>\n",
       "      <td>7207376</td>\n",
       "      <td>True</td>\n",
       "      <td>True</td>\n",
       "      <td>172.0</td>\n",
       "      <td>[england, narnia, narnia (imaginary place), na...</td>\n",
       "      <td>[the blitz, fauns, turkish delight, lions, eng...</td>\n",
       "      <td>1950-01-01</td>\n",
       "      <td>london</td>\n",
       "      <td>NaN</td>\n",
       "      <td>NaN</td>\n",
       "      <td>NaN</td>\n",
       "      <td>NaN</td>\n",
       "      <td>NaN</td>\n",
       "      <td>NaN</td>\n",
       "      <td>NaN</td>\n",
       "      <td>1950.0</td>\n",
       "    </tr>\n",
       "    <tr>\n",
       "      <th>682</th>\n",
       "      <td>b__964700</td>\n",
       "      <td></td>\n",
       "      <td>breakfast at tiffany's_(novel)</td>\n",
       "      <td>1</td>\n",
       "      <td></td>\n",
       "      <td>964700</td>\n",
       "      <td>True</td>\n",
       "      <td>False</td>\n",
       "      <td>NaN</td>\n",
       "      <td>None</td>\n",
       "      <td>None</td>\n",
       "      <td>NaT</td>\n",
       "      <td>None</td>\n",
       "      <td>NaN</td>\n",
       "      <td>NaN</td>\n",
       "      <td>NaN</td>\n",
       "      <td>NaN</td>\n",
       "      <td>NaN</td>\n",
       "      <td>NaN</td>\n",
       "      <td>NaN</td>\n",
       "      <td>NaN</td>\n",
       "    </tr>\n",
       "    <tr>\n",
       "      <th>684</th>\n",
       "      <td>b_broken_broken</td>\n",
       "      <td></td>\n",
       "      <td>unknown</td>\n",
       "      <td>1</td>\n",
       "      <td>broken</td>\n",
       "      <td>broken</td>\n",
       "      <td>False</td>\n",
       "      <td>False</td>\n",
       "      <td>NaN</td>\n",
       "      <td>None</td>\n",
       "      <td>None</td>\n",
       "      <td>NaT</td>\n",
       "      <td>None</td>\n",
       "      <td>NaN</td>\n",
       "      <td>NaN</td>\n",
       "      <td>NaN</td>\n",
       "      <td>NaN</td>\n",
       "      <td>NaN</td>\n",
       "      <td>NaN</td>\n",
       "      <td>NaN</td>\n",
       "      <td>NaN</td>\n",
       "    </tr>\n",
       "  </tbody>\n",
       "</table>\n",
       "</div>"
      ],
      "text/plain": [
       "                       book_id author                                 book_title  count           isbn       oclc  valid_identifier  metadata_updated  number_of_pages                                     subject_places                                           subjects publish_date     publish_places  goodreads gc_language_code  gc_average_rating  gc_format  gc_ratings_count  gc_text_reviews_count                                         gc_authors  publish_year\n",
       "3        b_0002240262_30814041                                       ring_(book)      1     0002240262   30814041              True              True            336.0                                               None                                               None   1994-07-12               None        NaN              NaN                NaN        NaN               NaN                    NaN                                                NaN        1994.0\n",
       "13       b_0060817089_58431841                                       marley & me      1     0060817089   58431841              True              True              NaN                                            florida  [anecdotes, labrador retriever, puppies, human...   2005-10-18               None        NaN              NaN                NaN        NaN               NaN                    NaN                                                NaN        2005.0\n",
       "18      b_0062024027_769412945                                 divergent_(novel)      1     0062024027  769412945              True              True              NaN                                            chicago  [new york times bestseller, nyt:paperback_book...   2011-01-01           new york        NaN              NaN                NaN        NaN               NaN                    NaN                                                NaN        2011.0\n",
       "19      b_0062234935_794210765                                 insurgent_(novel)      1     0062234935  794210765              True             False              NaN                                               None                                               None          NaT               None        NaN              NaN                NaN        NaN               NaN                    NaN                                                NaN           NaN\n",
       "71       b_0312930194_16268967                               seventh son_(novel)      1     0312930194   16268967              True             False              NaN                                               None                                               None          NaT               None        NaN              NaN                NaN        NaN               NaN                    NaN                                                NaN           NaN\n",
       "99       b_0374299218_66463617                      call me by your name_(novel)      1     0374299218   66463617              True              True            248.0                                              italy  [teenage boys, accessible book, authors, in li...   2007-01-01           new york        NaN              NaN                NaN        NaN               NaN                    NaN                                                NaN        2007.0\n",
       "189       b_0399116974_1975222                                  children of dune      1     0399116974    1975222              True              True            444.0                                               None  [dune (imaginary place), fiction, fiction in e...   1976-01-01           new york        NaN              NaN                NaN        NaN               NaN                    NaN                                                NaN        1976.0\n",
       "296       b_067940211_25632732                               primal fear_(novel)      1      067940211   25632732              True             False              NaN                                               None                                               None          NaT               None        NaN              NaN                NaN        NaN               NaN                    NaN                                                NaN           NaN\n",
       "318      b_0684819066_38377745                           a beautiful mind_(book)      1     0684819066   38377745              True              True            459.0                                      united states                        [mathematicians, biography]   1998-01-01           new york        NaN              NaN                NaN        NaN               NaN                    NaN                                                NaN        1998.0\n",
       "344               b_074754624_               harry potter and the goblet of fire      1      074754624                         True             False              NaN                                               None                                               None          NaT               None        NaN              NaN                NaN        NaN               NaN                    NaN                                                NaN           NaN\n",
       "345              b_0747551006_         harry potter and the order of the phoenix      1     0747551006                         True              True            772.0  [england, hogwarts schools of witchcraft, grim...  [childrens books/ages 9-12 fic, witches and wa...   2003-01-01  [london, england]        NaN              NaN                NaN        NaN               NaN                    NaN                                                NaN        2003.0\n",
       "347              b_0747581088_            harry potter and the half-blood prince      1     0747581088                         True             False              NaN                                               None                                               None          NaT               None        NaN              NaN                NaN        NaN               NaN                    NaN                                                NaN           NaN\n",
       "386              b_0930289528_                                    v for vendetta      1     0930289528                         True              True            286.0                   [london, great britain, england]  [science fiction, fascism, fiction, graphic no...   1989-01-01           new york   403459.0              eng               4.25  paperback            4110.0                  351.0  ordereddict([('author', [ordereddict([('id', '...        1989.0\n",
       "424  b_9780007286249_310154424                                   chicago_(novel)      1  9780007286249  310154424              True             False              NaN                                               None                                               None          NaT               None        NaN              NaN                NaN        NaN               NaN                    NaN                                                NaN           NaN\n",
       "426  b_9780060530921_179806700                                the graveyard book      1  9780060530921  179806700              True              True            312.0                                               None  [fiction, cemeteries, supernatural, dead, orph...   2008-01-01           new york  2213661.0              eng               4.13  hardcover          359271.0                23457.0  ordereddict([('author', [ordereddict([('id', '...        2008.0\n",
       "441  b_9780142419779_712116974                                           matched      1  9780142419779  712116974              True              True              NaN                                               None  [in library, young adult fiction, fantasy, juv...   2011-01-01               None        NaN              NaN                NaN        NaN               NaN                    NaN                                                NaN        2011.0\n",
       "468  b_9780385738750_502029786                                 the scorch trials      1  9780385738750  502029786              True              True              NaN                                               None               [science fiction, survival, fiction]   2010-01-01           new york        NaN              NaN                NaN        NaN               NaN                    NaN                                                NaN        2010.0\n",
       "480  b_9780399162411_999590913                              the 5th wave_(novel)      1  9780399162411  999590913              True              True            457.0                                               None  [science fiction, war stories, survival, extra...   2013-01-01           new york        NaN              NaN                NaN        NaN               NaN                    NaN                                                NaN        2013.0\n",
       "484  b_9780439023528_181516677                          the hunger games_(novel)      1  9780439023528  181516677              True              True            384.0    [panem, the capitol, the pentagon, district 12]  [severe poverty, starvation, oppression, effec...   2010-07-06               None        NaN              NaN                NaN        NaN               NaN                    NaN                                                NaN        2010.0\n",
       "493  b_9780545227247_288932790                                     catching fire      1  9780545227247  288932790              True             False              NaN                                               None                                               None          NaT               None        NaN              NaN                NaN        NaN               NaN                    NaN                                                NaN           NaN\n",
       "540           b_9781407124261_                                    blood red road      1  9781407124261                         True             False              NaN                                               None                                               None          NaT               None        NaN              NaN                NaN        NaN               NaN                    NaN                                                NaN           NaN\n",
       "542           b_9781416975861_                                   clockwork angel      1  9781416975861                         True              True              NaN                                               None  [new york times bestseller, nyt:paperback_book...   2010-01-01               None        NaN              NaN                NaN        NaN               NaN                    NaN                                                NaN        2010.0\n",
       "544           b_9781442426719_                 to all the boys i've loved before      1  9781442426719                         True              True            384.0                                               None                                               None   2016-01-26               None        NaN              NaN                NaN        NaN               NaN                    NaN                                                NaN        2016.0\n",
       "547    b_9781558801196_1801693                                  scarface_(novel)      1  9781558801196    1801693              True             False              NaN                                               None                                               None          NaT               None        NaN              NaN                NaN        NaN               NaN                    NaN                                                NaN           NaN\n",
       "553  b_9781612130286_780307033                              fifty shades of grey      1  9781612130286  780307033              True              True            514.0                                               None                                               None   2011-06-20     united kingdom        NaN              NaN                NaN        NaN               NaN                    NaN                                                NaN        2011.0\n",
       "554           b_9781846057151_                            the confession_(novel)      1  9781846057151                         True             False              NaN                                               None                                               None          NaT               None        NaN              NaN                NaN        NaN               NaN                    NaN                                                NaN           NaN\n",
       "555  b_9781847242532_186764078                   the girl with the dragon tattoo      1  9781847242532  186764078              True              True              NaN                                               None                                    protected daisy   2005-01-01               None        NaN              NaN                NaN        NaN               NaN                    NaN                                                NaN        2005.0\n",
       "667                 b__7207376               the lion, the witch, & the wardrobe      1                   7207376              True              True            172.0  [england, narnia, narnia (imaginary place), na...  [the blitz, fauns, turkish delight, lions, eng...   1950-01-01             london        NaN              NaN                NaN        NaN               NaN                    NaN                                                NaN        1950.0\n",
       "682                  b__964700                    breakfast at tiffany's_(novel)      1                    964700              True             False              NaN                                               None                                               None          NaT               None        NaN              NaN                NaN        NaN               NaN                    NaN                                                NaN           NaN\n",
       "684            b_broken_broken                                           unknown      1         broken     broken             False             False              NaN                                               None                                               None          NaT               None        NaN              NaN                NaN        NaN               NaN                    NaN                                                NaN           NaN"
      ]
     },
     "execution_count": 45,
     "metadata": {},
     "output_type": "execute_result"
    }
   ],
   "source": [
    "books.loc[books['author'] == '']"
   ]
  },
  {
   "cell_type": "code",
   "execution_count": null,
   "metadata": {
    "ExecuteTime": {
     "end_time": "2019-07-28T14:24:50.718185Z",
     "start_time": "2019-07-28T14:24:50.708780Z"
    },
    "scrolled": false
   },
   "outputs": [],
   "source": [
    "x = movies.loc[movies['movie_title'] == 'oliver & company']\n",
    "x['imdb_actors'][395]"
   ]
  },
  {
   "cell_type": "code",
   "execution_count": null,
   "metadata": {
    "ExecuteTime": {
     "end_time": "2019-07-28T13:57:09.057299Z",
     "start_time": "2019-07-28T13:57:08.995477Z"
    },
    "scrolled": false
   },
   "outputs": [],
   "source": [
    "movies_ex['imdb_genres'].value_counts(normalize = True)"
   ]
  },
  {
   "cell_type": "code",
   "execution_count": null,
   "metadata": {
    "ExecuteTime": {
     "end_time": "2019-07-28T13:48:44.818301Z",
     "start_time": "2019-07-28T13:48:44.714739Z"
    },
    "scrolled": false
   },
   "outputs": [],
   "source": [
    "movies_ex.loc[movies_ex['movie_id'] == 'm__185812519_tt0095776']"
   ]
  },
  {
   "cell_type": "markdown",
   "metadata": {},
   "source": [
    "## EDA"
   ]
  },
  {
   "cell_type": "markdown",
   "metadata": {},
   "source": [
    "### Books explorations"
   ]
  },
  {
   "cell_type": "code",
   "execution_count": null,
   "metadata": {
    "ExecuteTime": {
     "end_time": "2019-07-22T15:12:23.432361Z",
     "start_time": "2019-07-22T15:12:23.424570Z"
    }
   },
   "outputs": [],
   "source": [
    "books.columns"
   ]
  },
  {
   "cell_type": "code",
   "execution_count": 31,
   "metadata": {
    "ExecuteTime": {
     "end_time": "2019-07-28T22:28:59.010768Z",
     "start_time": "2019-07-28T22:28:58.678230Z"
    }
   },
   "outputs": [
    {
     "ename": "KeyError",
     "evalue": "'author'",
     "output_type": "error",
     "traceback": [
      "\u001b[0;31m---------------------------------------------------------------------------\u001b[0m",
      "\u001b[0;31mKeyError\u001b[0m                                  Traceback (most recent call last)",
      "\u001b[0;32m~/anaconda3/lib/python3.7/site-packages/pandas/core/indexes/base.py\u001b[0m in \u001b[0;36mget_loc\u001b[0;34m(self, key, method, tolerance)\u001b[0m\n\u001b[1;32m   2889\u001b[0m             \u001b[0;32mtry\u001b[0m\u001b[0;34m:\u001b[0m\u001b[0;34m\u001b[0m\u001b[0;34m\u001b[0m\u001b[0m\n\u001b[0;32m-> 2890\u001b[0;31m                 \u001b[0;32mreturn\u001b[0m \u001b[0mself\u001b[0m\u001b[0;34m.\u001b[0m\u001b[0m_engine\u001b[0m\u001b[0;34m.\u001b[0m\u001b[0mget_loc\u001b[0m\u001b[0;34m(\u001b[0m\u001b[0mkey\u001b[0m\u001b[0;34m)\u001b[0m\u001b[0;34m\u001b[0m\u001b[0;34m\u001b[0m\u001b[0m\n\u001b[0m\u001b[1;32m   2891\u001b[0m             \u001b[0;32mexcept\u001b[0m \u001b[0mKeyError\u001b[0m\u001b[0;34m:\u001b[0m\u001b[0;34m\u001b[0m\u001b[0;34m\u001b[0m\u001b[0m\n",
      "\u001b[0;32mpandas/_libs/index.pyx\u001b[0m in \u001b[0;36mpandas._libs.index.IndexEngine.get_loc\u001b[0;34m()\u001b[0m\n",
      "\u001b[0;32mpandas/_libs/index.pyx\u001b[0m in \u001b[0;36mpandas._libs.index.IndexEngine.get_loc\u001b[0;34m()\u001b[0m\n",
      "\u001b[0;32mpandas/_libs/hashtable_class_helper.pxi\u001b[0m in \u001b[0;36mpandas._libs.hashtable.PyObjectHashTable.get_item\u001b[0;34m()\u001b[0m\n",
      "\u001b[0;32mpandas/_libs/hashtable_class_helper.pxi\u001b[0m in \u001b[0;36mpandas._libs.hashtable.PyObjectHashTable.get_item\u001b[0;34m()\u001b[0m\n",
      "\u001b[0;31mKeyError\u001b[0m: 'author'",
      "\nDuring handling of the above exception, another exception occurred:\n",
      "\u001b[0;31mKeyError\u001b[0m                                  Traceback (most recent call last)",
      "\u001b[0;32m<ipython-input-31-29ff1c8383bb>\u001b[0m in \u001b[0;36m<module>\u001b[0;34m\u001b[0m\n\u001b[0;32m----> 1\u001b[0;31m \u001b[0mbooks\u001b[0m\u001b[0;34m[\u001b[0m\u001b[0;34m'author'\u001b[0m\u001b[0;34m]\u001b[0m\u001b[0;34m.\u001b[0m\u001b[0mvalue_counts\u001b[0m\u001b[0;34m(\u001b[0m\u001b[0;34m)\u001b[0m\u001b[0;34m[\u001b[0m\u001b[0;36m1\u001b[0m\u001b[0;34m:\u001b[0m\u001b[0;36m25\u001b[0m\u001b[0;34m]\u001b[0m\u001b[0;34m.\u001b[0m\u001b[0mplot\u001b[0m\u001b[0;34m(\u001b[0m\u001b[0mkind\u001b[0m \u001b[0;34m=\u001b[0m \u001b[0;34m'bar'\u001b[0m\u001b[0;34m,\u001b[0m \u001b[0mfigsize\u001b[0m \u001b[0;34m=\u001b[0m \u001b[0;34m(\u001b[0m\u001b[0;36m15\u001b[0m\u001b[0;34m,\u001b[0m \u001b[0;36m8\u001b[0m\u001b[0;34m)\u001b[0m\u001b[0;34m)\u001b[0m\u001b[0;34m\u001b[0m\u001b[0;34m\u001b[0m\u001b[0m\n\u001b[0m\u001b[1;32m      2\u001b[0m \u001b[0mnp\u001b[0m\u001b[0;34m.\u001b[0m\u001b[0mmean\u001b[0m\u001b[0;34m(\u001b[0m\u001b[0mbooks\u001b[0m\u001b[0;34m[\u001b[0m\u001b[0;34m'author'\u001b[0m\u001b[0;34m]\u001b[0m\u001b[0;34m.\u001b[0m\u001b[0mvalue_counts\u001b[0m\u001b[0;34m(\u001b[0m\u001b[0;34m)\u001b[0m\u001b[0;34m)\u001b[0m\u001b[0;34m\u001b[0m\u001b[0;34m\u001b[0m\u001b[0m\n",
      "\u001b[0;32m~/anaconda3/lib/python3.7/site-packages/pandas/core/frame.py\u001b[0m in \u001b[0;36m__getitem__\u001b[0;34m(self, key)\u001b[0m\n\u001b[1;32m   2973\u001b[0m             \u001b[0;32mif\u001b[0m \u001b[0mself\u001b[0m\u001b[0;34m.\u001b[0m\u001b[0mcolumns\u001b[0m\u001b[0;34m.\u001b[0m\u001b[0mnlevels\u001b[0m \u001b[0;34m>\u001b[0m \u001b[0;36m1\u001b[0m\u001b[0;34m:\u001b[0m\u001b[0;34m\u001b[0m\u001b[0;34m\u001b[0m\u001b[0m\n\u001b[1;32m   2974\u001b[0m                 \u001b[0;32mreturn\u001b[0m \u001b[0mself\u001b[0m\u001b[0;34m.\u001b[0m\u001b[0m_getitem_multilevel\u001b[0m\u001b[0;34m(\u001b[0m\u001b[0mkey\u001b[0m\u001b[0;34m)\u001b[0m\u001b[0;34m\u001b[0m\u001b[0;34m\u001b[0m\u001b[0m\n\u001b[0;32m-> 2975\u001b[0;31m             \u001b[0mindexer\u001b[0m \u001b[0;34m=\u001b[0m \u001b[0mself\u001b[0m\u001b[0;34m.\u001b[0m\u001b[0mcolumns\u001b[0m\u001b[0;34m.\u001b[0m\u001b[0mget_loc\u001b[0m\u001b[0;34m(\u001b[0m\u001b[0mkey\u001b[0m\u001b[0;34m)\u001b[0m\u001b[0;34m\u001b[0m\u001b[0;34m\u001b[0m\u001b[0m\n\u001b[0m\u001b[1;32m   2976\u001b[0m             \u001b[0;32mif\u001b[0m \u001b[0mis_integer\u001b[0m\u001b[0;34m(\u001b[0m\u001b[0mindexer\u001b[0m\u001b[0;34m)\u001b[0m\u001b[0;34m:\u001b[0m\u001b[0;34m\u001b[0m\u001b[0;34m\u001b[0m\u001b[0m\n\u001b[1;32m   2977\u001b[0m                 \u001b[0mindexer\u001b[0m \u001b[0;34m=\u001b[0m \u001b[0;34m[\u001b[0m\u001b[0mindexer\u001b[0m\u001b[0;34m]\u001b[0m\u001b[0;34m\u001b[0m\u001b[0;34m\u001b[0m\u001b[0m\n",
      "\u001b[0;32m~/anaconda3/lib/python3.7/site-packages/pandas/core/indexes/base.py\u001b[0m in \u001b[0;36mget_loc\u001b[0;34m(self, key, method, tolerance)\u001b[0m\n\u001b[1;32m   2890\u001b[0m                 \u001b[0;32mreturn\u001b[0m \u001b[0mself\u001b[0m\u001b[0;34m.\u001b[0m\u001b[0m_engine\u001b[0m\u001b[0;34m.\u001b[0m\u001b[0mget_loc\u001b[0m\u001b[0;34m(\u001b[0m\u001b[0mkey\u001b[0m\u001b[0;34m)\u001b[0m\u001b[0;34m\u001b[0m\u001b[0;34m\u001b[0m\u001b[0m\n\u001b[1;32m   2891\u001b[0m             \u001b[0;32mexcept\u001b[0m \u001b[0mKeyError\u001b[0m\u001b[0;34m:\u001b[0m\u001b[0;34m\u001b[0m\u001b[0;34m\u001b[0m\u001b[0m\n\u001b[0;32m-> 2892\u001b[0;31m                 \u001b[0;32mreturn\u001b[0m \u001b[0mself\u001b[0m\u001b[0;34m.\u001b[0m\u001b[0m_engine\u001b[0m\u001b[0;34m.\u001b[0m\u001b[0mget_loc\u001b[0m\u001b[0;34m(\u001b[0m\u001b[0mself\u001b[0m\u001b[0;34m.\u001b[0m\u001b[0m_maybe_cast_indexer\u001b[0m\u001b[0;34m(\u001b[0m\u001b[0mkey\u001b[0m\u001b[0;34m)\u001b[0m\u001b[0;34m)\u001b[0m\u001b[0;34m\u001b[0m\u001b[0;34m\u001b[0m\u001b[0m\n\u001b[0m\u001b[1;32m   2893\u001b[0m         \u001b[0mindexer\u001b[0m \u001b[0;34m=\u001b[0m \u001b[0mself\u001b[0m\u001b[0;34m.\u001b[0m\u001b[0mget_indexer\u001b[0m\u001b[0;34m(\u001b[0m\u001b[0;34m[\u001b[0m\u001b[0mkey\u001b[0m\u001b[0;34m]\u001b[0m\u001b[0;34m,\u001b[0m \u001b[0mmethod\u001b[0m\u001b[0;34m=\u001b[0m\u001b[0mmethod\u001b[0m\u001b[0;34m,\u001b[0m \u001b[0mtolerance\u001b[0m\u001b[0;34m=\u001b[0m\u001b[0mtolerance\u001b[0m\u001b[0;34m)\u001b[0m\u001b[0;34m\u001b[0m\u001b[0;34m\u001b[0m\u001b[0m\n\u001b[1;32m   2894\u001b[0m         \u001b[0;32mif\u001b[0m \u001b[0mindexer\u001b[0m\u001b[0;34m.\u001b[0m\u001b[0mndim\u001b[0m \u001b[0;34m>\u001b[0m \u001b[0;36m1\u001b[0m \u001b[0;32mor\u001b[0m \u001b[0mindexer\u001b[0m\u001b[0;34m.\u001b[0m\u001b[0msize\u001b[0m \u001b[0;34m>\u001b[0m \u001b[0;36m1\u001b[0m\u001b[0;34m:\u001b[0m\u001b[0;34m\u001b[0m\u001b[0;34m\u001b[0m\u001b[0m\n",
      "\u001b[0;32mpandas/_libs/index.pyx\u001b[0m in \u001b[0;36mpandas._libs.index.IndexEngine.get_loc\u001b[0;34m()\u001b[0m\n",
      "\u001b[0;32mpandas/_libs/index.pyx\u001b[0m in \u001b[0;36mpandas._libs.index.IndexEngine.get_loc\u001b[0;34m()\u001b[0m\n",
      "\u001b[0;32mpandas/_libs/hashtable_class_helper.pxi\u001b[0m in \u001b[0;36mpandas._libs.hashtable.PyObjectHashTable.get_item\u001b[0;34m()\u001b[0m\n",
      "\u001b[0;32mpandas/_libs/hashtable_class_helper.pxi\u001b[0m in \u001b[0;36mpandas._libs.hashtable.PyObjectHashTable.get_item\u001b[0;34m()\u001b[0m\n",
      "\u001b[0;31mKeyError\u001b[0m: 'author'"
     ]
    }
   ],
   "source": [
    "books['author'].value_counts()[1:25].plot(kind = 'bar', figsize = (15, 8))\n",
    "np.mean(books['author'].value_counts())"
   ]
  },
  {
   "cell_type": "code",
   "execution_count": null,
   "metadata": {
    "ExecuteTime": {
     "end_time": "2019-07-22T15:14:02.679132Z",
     "start_time": "2019-07-22T15:14:01.906643Z"
    }
   },
   "outputs": [],
   "source": [
    "books['number_of_pages'].plot.hist(bins = 25, figsize = (10, 6))\n",
    "np.nanmean(books['number_of_pages'])\n",
    "np.nanstd([books['number_of_pages']])"
   ]
  },
  {
   "cell_type": "code",
   "execution_count": null,
   "metadata": {
    "ExecuteTime": {
     "end_time": "2019-07-22T15:14:38.075154Z",
     "start_time": "2019-07-22T15:14:37.149059Z"
    }
   },
   "outputs": [],
   "source": [
    "books['publish_year'].plot.hist(bins = 50, figsize = (10, 6))\n",
    "np.nanmean(books['publish_year'])\n",
    "np.nanstd(books['publish_year'])"
   ]
  },
  {
   "cell_type": "code",
   "execution_count": null,
   "metadata": {
    "ExecuteTime": {
     "end_time": "2019-07-22T13:54:39.032192Z",
     "start_time": "2019-07-22T13:54:39.015643Z"
    }
   },
   "outputs": [],
   "source": [
    "books['gc_language_code'].value_counts()\n",
    "books['gc_format'].value_counts()"
   ]
  },
  {
   "cell_type": "code",
   "execution_count": null,
   "metadata": {
    "ExecuteTime": {
     "end_time": "2019-07-22T13:44:39.186036Z",
     "start_time": "2019-07-22T13:44:39.180860Z"
    }
   },
   "outputs": [],
   "source": [
    "#TODO: find average good reads book rating"
   ]
  },
  {
   "cell_type": "code",
   "execution_count": null,
   "metadata": {
    "ExecuteTime": {
     "end_time": "2019-07-22T15:14:56.223543Z",
     "start_time": "2019-07-22T15:14:55.494103Z"
    }
   },
   "outputs": [],
   "source": [
    "books['gc_average_rating'].plot.hist(bins = 20, figsize = (10, 5), xlim = [0, 5])\n",
    "np.nanmean(books['gc_average_rating'])\n",
    "np.nanstd(books['gc_average_rating'])"
   ]
  },
  {
   "cell_type": "code",
   "execution_count": null,
   "metadata": {
    "ExecuteTime": {
     "end_time": "2019-07-22T13:53:51.113849Z",
     "start_time": "2019-07-22T13:53:50.535238Z"
    },
    "scrolled": false
   },
   "outputs": [],
   "source": [
    "mean_rating = np.mean(books['gc_average_rating'])\n",
    "\n",
    "plt.figure(figsize=(10, 5))\n",
    "plt.scatter(x=books['publish_year'],\n",
    "            y=books['gc_average_rating'],  alpha=0.5, c='blue')\n",
    "plt.ylim(2, 5.5)\n",
    "plt.show()"
   ]
  },
  {
   "cell_type": "code",
   "execution_count": null,
   "metadata": {
    "ExecuteTime": {
     "end_time": "2019-07-22T15:15:07.205418Z",
     "start_time": "2019-07-22T15:15:06.549421Z"
    }
   },
   "outputs": [],
   "source": [
    "plt.figure(figsize=(10, 5))\n",
    "plt.scatter(x=books['publish_year'],\n",
    "            y=np.log(books['gc_text_reviews_count']),  alpha=0.5, c='blue')\n",
    "plt.ylabel('Log of text reviews count')\n",
    "plt.axhline(y = np.log(np.nanmean(books['gc_text_reviews_count'])), c = 'red')\n",
    "plt.axhline(y = np.log(np.nanmedian(books['gc_text_reviews_count'])), c = 'green')\n",
    "plt.title('Relationaship between log(text reviews) and publish year')\n",
    "plt.show()\n"
   ]
  },
  {
   "cell_type": "markdown",
   "metadata": {},
   "source": [
    "it seems that only the recent books are tagged, but there doesn't seem to be any sort of upwards trends in book ratings. --> people enjoy older books as much as newer books"
   ]
  },
  {
   "cell_type": "code",
   "execution_count": null,
   "metadata": {
    "ExecuteTime": {
     "end_time": "2019-07-22T15:17:00.688661Z",
     "start_time": "2019-07-22T15:17:00.047134Z"
    }
   },
   "outputs": [],
   "source": [
    "plt.figure(figsize=(10, 5))\n",
    "plt.scatter(x=books['gc_average_rating'],\n",
    "            y=np.log(books['gc_text_reviews_count']),  alpha=0.5, c='blue')\n",
    "plt.axhline(y = np.nanmedian(books['gc_average_rating']), c = 'green')\n",
    "plt.ylabel('Log of text reviews count')\n",
    "plt.xlim(2, 5)\n",
    "plt.show()"
   ]
  },
  {
   "cell_type": "code",
   "execution_count": null,
   "metadata": {
    "ExecuteTime": {
     "end_time": "2019-07-22T15:17:05.040415Z",
     "start_time": "2019-07-22T15:17:05.032804Z"
    }
   },
   "outputs": [],
   "source": [
    "books.columns"
   ]
  },
  {
   "cell_type": "code",
   "execution_count": null,
   "metadata": {
    "ExecuteTime": {
     "end_time": "2019-07-22T15:12:03.829908Z",
     "start_time": "2019-07-22T15:12:03.803038Z"
    }
   },
   "outputs": [],
   "source": [
    "sample = books.iloc[343]\n",
    "sample\n",
    "sample.subjects\n",
    "sample.subject_places"
   ]
  },
  {
   "cell_type": "code",
   "execution_count": null,
   "metadata": {
    "ExecuteTime": {
     "end_time": "2019-07-22T14:55:19.633689Z",
     "start_time": "2019-07-22T14:55:19.555474Z"
    }
   },
   "outputs": [],
   "source": [
    "books_subjects = []\n",
    "subject_places = []\n",
    "publish_places = []\n",
    "books_subjects_count = None\n",
    "\n",
    "subjects_to_exclude = ['protected daisy', 'fiction', 'in library', 'accessible book',\n",
    "                       'fiction', 'internet archive wishlist', 'large type books', 'in library',\n",
    "                       'popular print disabled books', 'open library staff picks', 'ficción',\n",
    "                       'fiction in english', 'accessible book', 'ficción juvenil', 'open_syllabus_project',\n",
    "                       'overdrive']\n",
    "\n",
    "for index in books[['publish_year', 'subjects', 'subject_places', 'publish_places']].itertuples():\n",
    "    subjects = index.subjects\n",
    "    if subjects is not None and isinstance(subjects, str):\n",
    "        x = subjects.replace(\"'\", '').replace('[', '').replace(']', '').replace('\"', '')\n",
    "        x = x.split(',')\n",
    "        books_subjects += [subject.strip()\n",
    "                           for subject in x if subject.strip() not in subjects_to_exclude]\n",
    "        \n",
    "    s_places = index.subject_places\n",
    "    if s_places is not None and isinstance(s_places, str):\n",
    "        x = s_places.replace(\"'\", '').replace('[', '').replace(']', '').replace('\"', '').replace('u.s.a.', 'usa')\n",
    "        x = x.split(',')\n",
    "        subject_places += [place.strip() for place in x]\n",
    "        \n",
    "    p_places = index.publish_places\n",
    "    if p_places is not None and isinstance(p_places, str):\n",
    "        x = p_places.replace(\"'\", '').replace('[', '').replace(']', '').replace('\"', '').replace('u.s.a.', 'usa')\n",
    "        x = x.split(',')\n",
    "        publish_places += [place.strip() for place in x]\n",
    "\n",
    "books_subjects_count = Counter(books_subjects)\n",
    "subject_places_count = Counter(subject_places)\n",
    "publish_places_count = Counter(publish_places)\n",
    "\n",
    "books_subjects_count.most_common(20)\n",
    "subject_places_count.most_common(20)\n",
    "publish_places_count.most_common(20)"
   ]
  },
  {
   "cell_type": "markdown",
   "metadata": {},
   "source": [
    "### Movies EDA"
   ]
  },
  {
   "cell_type": "code",
   "execution_count": null,
   "metadata": {
    "ExecuteTime": {
     "end_time": "2019-07-22T15:18:23.945721Z",
     "start_time": "2019-07-22T15:18:23.938685Z"
    }
   },
   "outputs": [],
   "source": [
    "movies.columns"
   ]
  },
  {
   "cell_type": "code",
   "execution_count": null,
   "metadata": {
    "ExecuteTime": {
     "end_time": "2019-07-22T15:43:56.105864Z",
     "start_time": "2019-07-22T15:43:56.093255Z"
    },
    "scrolled": false
   },
   "outputs": [],
   "source": [
    "x = pd.DataFrame(data=movies['imdb_year'].value_counts())\n",
    "x['year'] = x.index\n",
    "x = x[pd.to_numeric(x['year'], errors='coerce').notnull()]\n",
    "x.set_index('year', inplace = True)\n",
    "x.sort_index(inplace = True)\n",
    "x.rename(columns = {'imdb_year': 'count'})\n",
    "x.columns"
   ]
  },
  {
   "cell_type": "code",
   "execution_count": null,
   "metadata": {
    "ExecuteTime": {
     "end_time": "2019-07-22T15:45:50.647271Z",
     "start_time": "2019-07-22T15:45:50.632046Z"
    }
   },
   "outputs": [],
   "source": [
    "print('ha')"
   ]
  },
  {
   "cell_type": "code",
   "execution_count": null,
   "metadata": {},
   "outputs": [],
   "source": []
  }
 ],
 "metadata": {
  "celltoolbar": "Initialization Cell",
  "hide_input": false,
  "kernelspec": {
   "display_name": "Python 3",
   "language": "python",
   "name": "python3"
  },
  "language_info": {
   "codemirror_mode": {
    "name": "ipython",
    "version": 3
   },
   "file_extension": ".py",
   "mimetype": "text/x-python",
   "name": "python",
   "nbconvert_exporter": "python",
   "pygments_lexer": "ipython3",
   "version": "3.7.1"
  },
  "toc": {
   "base_numbering": 1,
   "nav_menu": {},
   "number_sections": true,
   "sideBar": true,
   "skip_h1_title": true,
   "title_cell": "Table of Contents",
   "title_sidebar": "Contents",
   "toc_cell": true,
   "toc_position": {
    "height": "calc(100% - 180px)",
    "left": "10px",
    "top": "150px",
    "width": "165px"
   },
   "toc_section_display": true,
   "toc_window_display": false
  },
  "varInspector": {
   "cols": {
    "lenName": 16,
    "lenType": 16,
    "lenVar": 40
   },
   "kernels_config": {
    "python": {
     "delete_cmd_postfix": "",
     "delete_cmd_prefix": "del ",
     "library": "var_list.py",
     "varRefreshCmd": "print(var_dic_list())"
    },
    "r": {
     "delete_cmd_postfix": ") ",
     "delete_cmd_prefix": "rm(",
     "library": "var_list.r",
     "varRefreshCmd": "cat(var_dic_list()) "
    }
   },
   "position": {
    "height": "519.219px",
    "left": "1060.22px",
    "right": "20px",
    "top": "119px",
    "width": "316.771px"
   },
   "types_to_exclude": [
    "module",
    "function",
    "builtin_function_or_method",
    "instance",
    "_Feature"
   ],
   "window_display": false
  }
 },
 "nbformat": 4,
 "nbformat_minor": 2
}
