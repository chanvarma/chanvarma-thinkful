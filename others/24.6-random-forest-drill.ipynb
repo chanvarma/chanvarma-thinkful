{
 "cells": [
  {
   "cell_type": "markdown",
   "metadata": {},
   "source": [
    "# Checkpoint 24.6 | Supervised learning: random forest models"
   ]
  },
  {
   "cell_type": "markdown",
   "metadata": {},
   "source": [
    "# Assignment\n",
    "\n",
    "We've talked about Random Forests. Now it's time to build one.\n",
    "\n",
    "Here we'll use data from Lending Club (2015) to predict the state of a loan given some information about it. You can download the dataset [here](https://www.dropbox.com/s/0so14yudedjmm5m/LoanStats3d.csv?dl=1).\n",
    "\n",
    "Get rid of as much data as possible without dropping below an average of 90% accuracy in a 10-fold cross validation.\n",
    "\n",
    "You'll want to do a few things in this process. First, dive into the data that we have and see which features are most important. This can be the raw features or the generated dummies. You may want to use PCA or correlation matrices.\n",
    "\n",
    "Can you do it without using anything related to payment amount or outstanding principal? How do you know?"
   ]
  },
  {
   "cell_type": "markdown",
   "metadata": {
    "toc": true
   },
   "source": [
    "<h1>Table of Contents<span class=\"tocSkip\"></span></h1>\n",
    "<div class=\"toc\"><ul class=\"toc-item\"><li><span><a href=\"#Set-up\" data-toc-modified-id=\"Set-up-0\"><span class=\"toc-item-num\">0&nbsp;&nbsp;</span>Set up</a></span></li><li><span><a href=\"#Loading-the-dataset\" data-toc-modified-id=\"Loading-the-dataset-1\"><span class=\"toc-item-num\">1&nbsp;&nbsp;</span>Loading the dataset</a></span></li><li><span><a href=\"#Data-cleaning\" data-toc-modified-id=\"Data-cleaning-2\"><span class=\"toc-item-num\">2&nbsp;&nbsp;</span>Data cleaning</a></span></li><li><span><a href=\"#Creating-dummies-and-splitting-data\" data-toc-modified-id=\"Creating-dummies-and-splitting-data-3\"><span class=\"toc-item-num\">3&nbsp;&nbsp;</span>Creating dummies and splitting data</a></span></li><li><span><a href=\"#Establish-baseline-RFM-scores\" data-toc-modified-id=\"Establish-baseline-RFM-scores-4\"><span class=\"toc-item-num\">4&nbsp;&nbsp;</span>Establish baseline RFM scores</a></span></li><li><span><a href=\"#Removing-features\" data-toc-modified-id=\"Removing-features-5\"><span class=\"toc-item-num\">5&nbsp;&nbsp;</span>Removing features</a></span></li></ul></div>"
   ]
  },
  {
   "cell_type": "markdown",
   "metadata": {},
   "source": [
    "## Set up"
   ]
  },
  {
   "cell_type": "code",
   "execution_count": 2,
   "metadata": {
    "ExecuteTime": {
     "end_time": "2020-01-14T17:40:29.850970Z",
     "start_time": "2020-01-14T17:40:29.120753Z"
    }
   },
   "outputs": [],
   "source": [
    "import pandas as pd\n",
    "import numpy as np\n",
    "import matplotlib.pyplot as plt\n",
    "import pickle\n",
    "\n",
    "%matplotlib inline"
   ]
  },
  {
   "cell_type": "markdown",
   "metadata": {},
   "source": [
    "## Loading the dataset"
   ]
  },
  {
   "cell_type": "code",
   "execution_count": 63,
   "metadata": {
    "ExecuteTime": {
     "end_time": "2020-01-14T18:06:38.148317Z",
     "start_time": "2020-01-14T18:06:33.072846Z"
    }
   },
   "outputs": [
    {
     "name": "stderr",
     "output_type": "stream",
     "text": [
      "/usr/local/lib/python3.7/site-packages/IPython/core/interactiveshell.py:3051: DtypeWarning: Columns (0,19,55) have mixed types. Specify dtype option on import or set low_memory=False.\n",
      "  interactivity=interactivity, compiler=compiler, result=result)\n"
     ]
    }
   ],
   "source": [
    "raw = pd.read_csv('/Users/chanvarma/Box/datasets-chanvarma/thinkful/lending-club-data/LoanStats3d.csv', \n",
    "                 skipinitialspace=True, header=1)"
   ]
  },
  {
   "cell_type": "code",
   "execution_count": 64,
   "metadata": {
    "ExecuteTime": {
     "end_time": "2020-01-14T18:06:38.465308Z",
     "start_time": "2020-01-14T18:06:38.150712Z"
    }
   },
   "outputs": [],
   "source": [
    "data = raw.copy()"
   ]
  },
  {
   "cell_type": "code",
   "execution_count": 65,
   "metadata": {
    "ExecuteTime": {
     "end_time": "2020-01-14T18:06:38.504736Z",
     "start_time": "2020-01-14T18:06:38.467288Z"
    }
   },
   "outputs": [
    {
     "data": {
      "text/html": [
       "<div>\n",
       "<style scoped>\n",
       "    .dataframe tbody tr th:only-of-type {\n",
       "        vertical-align: middle;\n",
       "    }\n",
       "\n",
       "    .dataframe tbody tr th {\n",
       "        vertical-align: top;\n",
       "    }\n",
       "\n",
       "    .dataframe thead th {\n",
       "        text-align: right;\n",
       "    }\n",
       "</style>\n",
       "<table border=\"1\" class=\"dataframe\">\n",
       "  <thead>\n",
       "    <tr style=\"text-align: right;\">\n",
       "      <th></th>\n",
       "      <th>id</th>\n",
       "      <th>member_id</th>\n",
       "      <th>loan_amnt</th>\n",
       "      <th>funded_amnt</th>\n",
       "      <th>funded_amnt_inv</th>\n",
       "      <th>term</th>\n",
       "      <th>int_rate</th>\n",
       "      <th>installment</th>\n",
       "      <th>grade</th>\n",
       "      <th>sub_grade</th>\n",
       "      <th>...</th>\n",
       "      <th>num_tl_90g_dpd_24m</th>\n",
       "      <th>num_tl_op_past_12m</th>\n",
       "      <th>pct_tl_nvr_dlq</th>\n",
       "      <th>percent_bc_gt_75</th>\n",
       "      <th>pub_rec_bankruptcies</th>\n",
       "      <th>tax_liens</th>\n",
       "      <th>tot_hi_cred_lim</th>\n",
       "      <th>total_bal_ex_mort</th>\n",
       "      <th>total_bc_limit</th>\n",
       "      <th>total_il_high_credit_limit</th>\n",
       "    </tr>\n",
       "  </thead>\n",
       "  <tbody>\n",
       "    <tr>\n",
       "      <th>0</th>\n",
       "      <td>68009401</td>\n",
       "      <td>72868139.0</td>\n",
       "      <td>16000.0</td>\n",
       "      <td>16000.0</td>\n",
       "      <td>16000.0</td>\n",
       "      <td>60 months</td>\n",
       "      <td>14.85%</td>\n",
       "      <td>379.39</td>\n",
       "      <td>C</td>\n",
       "      <td>C5</td>\n",
       "      <td>...</td>\n",
       "      <td>0.0</td>\n",
       "      <td>2.0</td>\n",
       "      <td>78.9</td>\n",
       "      <td>0.0</td>\n",
       "      <td>0.0</td>\n",
       "      <td>2.0</td>\n",
       "      <td>298100.0</td>\n",
       "      <td>31329.0</td>\n",
       "      <td>281300.0</td>\n",
       "      <td>13400.0</td>\n",
       "    </tr>\n",
       "    <tr>\n",
       "      <th>1</th>\n",
       "      <td>68354783</td>\n",
       "      <td>73244544.0</td>\n",
       "      <td>9600.0</td>\n",
       "      <td>9600.0</td>\n",
       "      <td>9600.0</td>\n",
       "      <td>36 months</td>\n",
       "      <td>7.49%</td>\n",
       "      <td>298.58</td>\n",
       "      <td>A</td>\n",
       "      <td>A4</td>\n",
       "      <td>...</td>\n",
       "      <td>0.0</td>\n",
       "      <td>2.0</td>\n",
       "      <td>100.0</td>\n",
       "      <td>66.7</td>\n",
       "      <td>0.0</td>\n",
       "      <td>0.0</td>\n",
       "      <td>88635.0</td>\n",
       "      <td>55387.0</td>\n",
       "      <td>12500.0</td>\n",
       "      <td>75635.0</td>\n",
       "    </tr>\n",
       "    <tr>\n",
       "      <th>2</th>\n",
       "      <td>68466916</td>\n",
       "      <td>73356753.0</td>\n",
       "      <td>25000.0</td>\n",
       "      <td>25000.0</td>\n",
       "      <td>25000.0</td>\n",
       "      <td>36 months</td>\n",
       "      <td>7.49%</td>\n",
       "      <td>777.55</td>\n",
       "      <td>A</td>\n",
       "      <td>A4</td>\n",
       "      <td>...</td>\n",
       "      <td>0.0</td>\n",
       "      <td>0.0</td>\n",
       "      <td>100.0</td>\n",
       "      <td>20.0</td>\n",
       "      <td>0.0</td>\n",
       "      <td>0.0</td>\n",
       "      <td>373572.0</td>\n",
       "      <td>68056.0</td>\n",
       "      <td>38400.0</td>\n",
       "      <td>82117.0</td>\n",
       "    </tr>\n",
       "    <tr>\n",
       "      <th>3</th>\n",
       "      <td>68466961</td>\n",
       "      <td>73356799.0</td>\n",
       "      <td>28000.0</td>\n",
       "      <td>28000.0</td>\n",
       "      <td>28000.0</td>\n",
       "      <td>36 months</td>\n",
       "      <td>6.49%</td>\n",
       "      <td>858.05</td>\n",
       "      <td>A</td>\n",
       "      <td>A2</td>\n",
       "      <td>...</td>\n",
       "      <td>0.0</td>\n",
       "      <td>0.0</td>\n",
       "      <td>91.7</td>\n",
       "      <td>22.2</td>\n",
       "      <td>0.0</td>\n",
       "      <td>0.0</td>\n",
       "      <td>304003.0</td>\n",
       "      <td>74920.0</td>\n",
       "      <td>41500.0</td>\n",
       "      <td>42503.0</td>\n",
       "    </tr>\n",
       "    <tr>\n",
       "      <th>4</th>\n",
       "      <td>68495092</td>\n",
       "      <td>73384866.0</td>\n",
       "      <td>8650.0</td>\n",
       "      <td>8650.0</td>\n",
       "      <td>8650.0</td>\n",
       "      <td>36 months</td>\n",
       "      <td>19.89%</td>\n",
       "      <td>320.99</td>\n",
       "      <td>E</td>\n",
       "      <td>E3</td>\n",
       "      <td>...</td>\n",
       "      <td>0.0</td>\n",
       "      <td>12.0</td>\n",
       "      <td>100.0</td>\n",
       "      <td>50.0</td>\n",
       "      <td>1.0</td>\n",
       "      <td>0.0</td>\n",
       "      <td>38998.0</td>\n",
       "      <td>18926.0</td>\n",
       "      <td>2750.0</td>\n",
       "      <td>18248.0</td>\n",
       "    </tr>\n",
       "  </tbody>\n",
       "</table>\n",
       "<p>5 rows × 111 columns</p>\n",
       "</div>"
      ],
      "text/plain": [
       "         id   member_id  loan_amnt  funded_amnt  funded_amnt_inv        term  \\\n",
       "0  68009401  72868139.0    16000.0      16000.0          16000.0   60 months   \n",
       "1  68354783  73244544.0     9600.0       9600.0           9600.0   36 months   \n",
       "2  68466916  73356753.0    25000.0      25000.0          25000.0   36 months   \n",
       "3  68466961  73356799.0    28000.0      28000.0          28000.0   36 months   \n",
       "4  68495092  73384866.0     8650.0       8650.0           8650.0   36 months   \n",
       "\n",
       "  int_rate  installment grade sub_grade  ... num_tl_90g_dpd_24m  \\\n",
       "0   14.85%       379.39     C        C5  ...                0.0   \n",
       "1    7.49%       298.58     A        A4  ...                0.0   \n",
       "2    7.49%       777.55     A        A4  ...                0.0   \n",
       "3    6.49%       858.05     A        A2  ...                0.0   \n",
       "4   19.89%       320.99     E        E3  ...                0.0   \n",
       "\n",
       "  num_tl_op_past_12m pct_tl_nvr_dlq  percent_bc_gt_75 pub_rec_bankruptcies  \\\n",
       "0                2.0           78.9               0.0                  0.0   \n",
       "1                2.0          100.0              66.7                  0.0   \n",
       "2                0.0          100.0              20.0                  0.0   \n",
       "3                0.0           91.7              22.2                  0.0   \n",
       "4               12.0          100.0              50.0                  1.0   \n",
       "\n",
       "  tax_liens tot_hi_cred_lim total_bal_ex_mort total_bc_limit  \\\n",
       "0       2.0        298100.0           31329.0       281300.0   \n",
       "1       0.0         88635.0           55387.0        12500.0   \n",
       "2       0.0        373572.0           68056.0        38400.0   \n",
       "3       0.0        304003.0           74920.0        41500.0   \n",
       "4       0.0         38998.0           18926.0         2750.0   \n",
       "\n",
       "  total_il_high_credit_limit  \n",
       "0                    13400.0  \n",
       "1                    75635.0  \n",
       "2                    82117.0  \n",
       "3                    42503.0  \n",
       "4                    18248.0  \n",
       "\n",
       "[5 rows x 111 columns]"
      ]
     },
     "execution_count": 65,
     "metadata": {},
     "output_type": "execute_result"
    }
   ],
   "source": [
    "data.head()"
   ]
  },
  {
   "cell_type": "markdown",
   "metadata": {},
   "source": [
    "## Data cleaning\n",
    "\n",
    "Since pd.get_dummies() is a very memory intensive function, we must first clean our categorical data and and understanding if some categorical variables are essentially unique at the scale of the df's length."
   ]
  },
  {
   "cell_type": "code",
   "execution_count": 66,
   "metadata": {
    "ExecuteTime": {
     "end_time": "2020-01-14T18:06:39.707082Z",
     "start_time": "2020-01-14T18:06:38.507065Z"
    }
   },
   "outputs": [
    {
     "data": {
      "text/plain": [
       "{'id': 421097,\n",
       " 'url': 421095,\n",
       " 'emp_title': 120812,\n",
       " 'revol_util': 1211,\n",
       " 'zip_code': 914,\n",
       " 'earliest_cr_line': 668,\n",
       " 'int_rate': 110,\n",
       " 'addr_state': 49,\n",
       " 'sub_grade': 35,\n",
       " 'desc': 34,\n",
       " 'title': 27,\n",
       " 'last_credit_pull_d': 26,\n",
       " 'last_pymnt_d': 25,\n",
       " 'purpose': 14,\n",
       " 'issue_d': 12,\n",
       " 'emp_length': 11,\n",
       " 'grade': 7,\n",
       " 'loan_status': 7,\n",
       " 'home_ownership': 4,\n",
       " 'next_pymnt_d': 4,\n",
       " 'verification_status': 3,\n",
       " 'verification_status_joint': 3,\n",
       " 'term': 2,\n",
       " 'initial_list_status': 2,\n",
       " 'application_type': 2,\n",
       " 'pymnt_plan': 1}"
      ]
     },
     "execution_count": 66,
     "metadata": {},
     "output_type": "execute_result"
    }
   ],
   "source": [
    "categorical = data.select_dtypes(include=['object'])\n",
    "unique_counts = {}\n",
    "\n",
    "for i in categorical:\n",
    "    unique_counts[i] = categorical[i].nunique()\n",
    "    \n",
    "unique_counts = {k: v for k, v in sorted(unique_counts.items(), key=lambda item: item[1], reverse = True)}\n",
    "unique_counts"
   ]
  },
  {
   "cell_type": "code",
   "execution_count": 67,
   "metadata": {
    "ExecuteTime": {
     "end_time": "2020-01-14T18:06:39.750207Z",
     "start_time": "2020-01-14T18:06:39.709012Z"
    }
   },
   "outputs": [
    {
     "data": {
      "text/html": [
       "<div>\n",
       "<style scoped>\n",
       "    .dataframe tbody tr th:only-of-type {\n",
       "        vertical-align: middle;\n",
       "    }\n",
       "\n",
       "    .dataframe tbody tr th {\n",
       "        vertical-align: top;\n",
       "    }\n",
       "\n",
       "    .dataframe thead th {\n",
       "        text-align: right;\n",
       "    }\n",
       "</style>\n",
       "<table border=\"1\" class=\"dataframe\">\n",
       "  <thead>\n",
       "    <tr style=\"text-align: right;\">\n",
       "      <th></th>\n",
       "      <th>id</th>\n",
       "      <th>emp_title</th>\n",
       "      <th>revol_util</th>\n",
       "      <th>url</th>\n",
       "      <th>earliest_cr_line</th>\n",
       "      <th>int_rate</th>\n",
       "      <th>addr_state</th>\n",
       "      <th>sub_grade</th>\n",
       "    </tr>\n",
       "  </thead>\n",
       "  <tbody>\n",
       "    <tr>\n",
       "      <th>0</th>\n",
       "      <td>68009401</td>\n",
       "      <td>Bookkeeper/Accounting</td>\n",
       "      <td>29.6%</td>\n",
       "      <td>https://lendingclub.com/browse/loanDetail.acti...</td>\n",
       "      <td>Jun-1991</td>\n",
       "      <td>14.85%</td>\n",
       "      <td>SC</td>\n",
       "      <td>C5</td>\n",
       "    </tr>\n",
       "    <tr>\n",
       "      <th>1</th>\n",
       "      <td>68354783</td>\n",
       "      <td>tech</td>\n",
       "      <td>59.4%</td>\n",
       "      <td>https://lendingclub.com/browse/loanDetail.acti...</td>\n",
       "      <td>Jun-1996</td>\n",
       "      <td>7.49%</td>\n",
       "      <td>SC</td>\n",
       "      <td>A4</td>\n",
       "    </tr>\n",
       "    <tr>\n",
       "      <th>2</th>\n",
       "      <td>68466916</td>\n",
       "      <td>Sales Manager</td>\n",
       "      <td>54.3%</td>\n",
       "      <td>https://lendingclub.com/browse/loanDetail.acti...</td>\n",
       "      <td>Dec-2001</td>\n",
       "      <td>7.49%</td>\n",
       "      <td>VA</td>\n",
       "      <td>A4</td>\n",
       "    </tr>\n",
       "    <tr>\n",
       "      <th>3</th>\n",
       "      <td>68466961</td>\n",
       "      <td>Senior Manager</td>\n",
       "      <td>64.5%</td>\n",
       "      <td>https://lendingclub.com/browse/loanDetail.acti...</td>\n",
       "      <td>May-1984</td>\n",
       "      <td>6.49%</td>\n",
       "      <td>NC</td>\n",
       "      <td>A2</td>\n",
       "    </tr>\n",
       "    <tr>\n",
       "      <th>4</th>\n",
       "      <td>68495092</td>\n",
       "      <td>Program Coordinator</td>\n",
       "      <td>46%</td>\n",
       "      <td>https://lendingclub.com/browse/loanDetail.acti...</td>\n",
       "      <td>Mar-2005</td>\n",
       "      <td>19.89%</td>\n",
       "      <td>IN</td>\n",
       "      <td>E3</td>\n",
       "    </tr>\n",
       "  </tbody>\n",
       "</table>\n",
       "</div>"
      ],
      "text/plain": [
       "         id              emp_title revol_util  \\\n",
       "0  68009401  Bookkeeper/Accounting      29.6%   \n",
       "1  68354783                   tech      59.4%   \n",
       "2  68466916          Sales Manager      54.3%   \n",
       "3  68466961         Senior Manager      64.5%   \n",
       "4  68495092   Program Coordinator         46%   \n",
       "\n",
       "                                                 url earliest_cr_line  \\\n",
       "0  https://lendingclub.com/browse/loanDetail.acti...         Jun-1991   \n",
       "1  https://lendingclub.com/browse/loanDetail.acti...         Jun-1996   \n",
       "2  https://lendingclub.com/browse/loanDetail.acti...         Dec-2001   \n",
       "3  https://lendingclub.com/browse/loanDetail.acti...         May-1984   \n",
       "4  https://lendingclub.com/browse/loanDetail.acti...         Mar-2005   \n",
       "\n",
       "  int_rate addr_state sub_grade  \n",
       "0   14.85%         SC        C5  \n",
       "1    7.49%         SC        A4  \n",
       "2    7.49%         VA        A4  \n",
       "3    6.49%         NC        A2  \n",
       "4   19.89%         IN        E3  "
      ]
     },
     "execution_count": 67,
     "metadata": {},
     "output_type": "execute_result"
    }
   ],
   "source": [
    "data[['id', 'emp_title', 'revol_util', 'url', 'earliest_cr_line', 'int_rate', 'addr_state', 'sub_grade']].head()"
   ]
  },
  {
   "cell_type": "code",
   "execution_count": 68,
   "metadata": {
    "ExecuteTime": {
     "end_time": "2020-01-14T18:06:39.782232Z",
     "start_time": "2020-01-14T18:06:39.754053Z"
    }
   },
   "outputs": [
    {
     "data": {
      "text/html": [
       "<div>\n",
       "<style scoped>\n",
       "    .dataframe tbody tr th:only-of-type {\n",
       "        vertical-align: middle;\n",
       "    }\n",
       "\n",
       "    .dataframe tbody tr th {\n",
       "        vertical-align: top;\n",
       "    }\n",
       "\n",
       "    .dataframe thead th {\n",
       "        text-align: right;\n",
       "    }\n",
       "</style>\n",
       "<table border=\"1\" class=\"dataframe\">\n",
       "  <thead>\n",
       "    <tr style=\"text-align: right;\">\n",
       "      <th></th>\n",
       "      <th>desc</th>\n",
       "      <th>title</th>\n",
       "      <th>last_credit_pull_d</th>\n",
       "      <th>last_pymnt_d</th>\n",
       "      <th>purpose</th>\n",
       "    </tr>\n",
       "  </thead>\n",
       "  <tbody>\n",
       "    <tr>\n",
       "      <th>0</th>\n",
       "      <td>NaN</td>\n",
       "      <td>Credit card refinancing</td>\n",
       "      <td>Jan-2017</td>\n",
       "      <td>Jan-2017</td>\n",
       "      <td>credit_card</td>\n",
       "    </tr>\n",
       "    <tr>\n",
       "      <th>1</th>\n",
       "      <td>NaN</td>\n",
       "      <td>Credit card refinancing</td>\n",
       "      <td>Jan-2017</td>\n",
       "      <td>Jan-2017</td>\n",
       "      <td>credit_card</td>\n",
       "    </tr>\n",
       "    <tr>\n",
       "      <th>2</th>\n",
       "      <td>NaN</td>\n",
       "      <td>Debt consolidation</td>\n",
       "      <td>Jan-2017</td>\n",
       "      <td>Sep-2016</td>\n",
       "      <td>debt_consolidation</td>\n",
       "    </tr>\n",
       "    <tr>\n",
       "      <th>3</th>\n",
       "      <td>NaN</td>\n",
       "      <td>Debt consolidation</td>\n",
       "      <td>Jan-2017</td>\n",
       "      <td>Jan-2017</td>\n",
       "      <td>debt_consolidation</td>\n",
       "    </tr>\n",
       "    <tr>\n",
       "      <th>4</th>\n",
       "      <td>NaN</td>\n",
       "      <td>Debt consolidation</td>\n",
       "      <td>Jun-2016</td>\n",
       "      <td>May-2016</td>\n",
       "      <td>debt_consolidation</td>\n",
       "    </tr>\n",
       "  </tbody>\n",
       "</table>\n",
       "</div>"
      ],
      "text/plain": [
       "  desc                    title last_credit_pull_d last_pymnt_d  \\\n",
       "0  NaN  Credit card refinancing           Jan-2017     Jan-2017   \n",
       "1  NaN  Credit card refinancing           Jan-2017     Jan-2017   \n",
       "2  NaN       Debt consolidation           Jan-2017     Sep-2016   \n",
       "3  NaN       Debt consolidation           Jan-2017     Jan-2017   \n",
       "4  NaN       Debt consolidation           Jun-2016     May-2016   \n",
       "\n",
       "              purpose  \n",
       "0         credit_card  \n",
       "1         credit_card  \n",
       "2  debt_consolidation  \n",
       "3  debt_consolidation  \n",
       "4  debt_consolidation  "
      ]
     },
     "execution_count": 68,
     "metadata": {},
     "output_type": "execute_result"
    }
   ],
   "source": [
    "data[['desc', 'title', 'last_credit_pull_d', 'last_pymnt_d', 'purpose']].head()"
   ]
  },
  {
   "cell_type": "code",
   "execution_count": 69,
   "metadata": {
    "ExecuteTime": {
     "end_time": "2020-01-14T18:06:40.798601Z",
     "start_time": "2020-01-14T18:06:39.784603Z"
    }
   },
   "outputs": [
    {
     "data": {
      "text/plain": [
       "id                            0.000000\n",
       "member_id                     0.000005\n",
       "loan_amnt                     0.000005\n",
       "funded_amnt                   0.000005\n",
       "funded_amnt_inv               0.000005\n",
       "                                ...   \n",
       "tax_liens                     0.000005\n",
       "tot_hi_cred_lim               0.000005\n",
       "total_bal_ex_mort             0.000005\n",
       "total_bc_limit                0.000005\n",
       "total_il_high_credit_limit    0.000005\n",
       "Length: 111, dtype: float64"
      ]
     },
     "execution_count": 69,
     "metadata": {},
     "output_type": "execute_result"
    }
   ],
   "source": [
    "data.isna().sum()/data.isna().count()"
   ]
  },
  {
   "cell_type": "markdown",
   "metadata": {},
   "source": [
    "Based on this: \n",
    "* we can drop the `url`, `desc`, `revol_util`, `zipcode`, `earliest_cr_line` and `emp_title` columnns because they are extremely unique\n",
    "* convert `id`, `int_rate` to numeric variables\n",
    "* drop all NaN rows\n",
    "* convert `last_credit_pull_d` and `last_pymnt_d` to quarters"
   ]
  },
  {
   "cell_type": "code",
   "execution_count": 70,
   "metadata": {
    "ExecuteTime": {
     "end_time": "2020-01-14T18:06:40.804576Z",
     "start_time": "2020-01-14T18:06:40.800411Z"
    }
   },
   "outputs": [
    {
     "data": {
      "text/plain": [
       "(421097, 111)"
      ]
     },
     "execution_count": 70,
     "metadata": {},
     "output_type": "execute_result"
    }
   ],
   "source": [
    "data.shape"
   ]
  },
  {
   "cell_type": "code",
   "execution_count": 71,
   "metadata": {
    "ExecuteTime": {
     "end_time": "2020-01-14T18:06:41.175375Z",
     "start_time": "2020-01-14T18:06:40.806427Z"
    }
   },
   "outputs": [],
   "source": [
    "data.drop(columns = ['url', 'desc', 'emp_title', 'revol_util', 'zip_code', 'earliest_cr_line'], inplace = True)"
   ]
  },
  {
   "cell_type": "code",
   "execution_count": 72,
   "metadata": {
    "ExecuteTime": {
     "end_time": "2020-01-14T18:06:41.671272Z",
     "start_time": "2020-01-14T18:06:41.180771Z"
    }
   },
   "outputs": [],
   "source": [
    "data['id'] = pd.to_numeric(data['id'], errors='coerce')\n",
    "data['int_rate'] = pd.to_numeric(data['int_rate'].str.strip('%'), errors='coerce')"
   ]
  },
  {
   "cell_type": "code",
   "execution_count": 73,
   "metadata": {
    "ExecuteTime": {
     "end_time": "2020-01-14T18:06:43.155695Z",
     "start_time": "2020-01-14T18:06:41.673380Z"
    },
    "scrolled": false
   },
   "outputs": [],
   "source": [
    "def date_to_quarter(date_row):\n",
    "    \n",
    "    date_row = str(date_row).lower()\n",
    "    \n",
    "    if ('jan' in date_row or 'feb' in date_row or 'mar' in date_row):\n",
    "        quarter = 'Q1'\n",
    "    elif ('apr' in date_row or 'jun' in date_row or 'may' in date_row):\n",
    "        quarter = 'Q2'\n",
    "    elif ('aug' in date_row or 'sep' in date_row or 'jul' in date_row):\n",
    "        quarter = 'Q3'\n",
    "    elif ('oct' in date_row or 'nov' in date_row or 'dec' in date_row):\n",
    "        quarter = 'Q4'\n",
    "    else:\n",
    "        return None\n",
    "             \n",
    "    year = date_row[-4:]\n",
    "    \n",
    "    return quarter + ' ' + year\n",
    "\n",
    "\n",
    "data['last_pymnt_d_quartered'] = data['last_pymnt_d'].apply(date_to_quarter)\n",
    "data['last_credit_pull_d_quartered'] = data['last_credit_pull_d'].apply(date_to_quarter)\n",
    "\n",
    "data.drop(columns = ['last_pymnt_d', 'last_credit_pull_d'], inplace = True)"
   ]
  },
  {
   "cell_type": "code",
   "execution_count": 74,
   "metadata": {
    "ExecuteTime": {
     "end_time": "2020-01-14T18:06:43.226006Z",
     "start_time": "2020-01-14T18:06:43.157653Z"
    }
   },
   "outputs": [
    {
     "data": {
      "text/plain": [
       "Q1 2017    261646\n",
       "Q4 2016     59800\n",
       "Q3 2016     26036\n",
       "Q2 2016     22573\n",
       "Q1 2016     21044\n",
       "Q4 2015     14735\n",
       "Q3 2015      9475\n",
       "Q2 2015      4411\n",
       "Q1 2015      1081\n",
       "Name: last_pymnt_d_quartered, dtype: int64"
      ]
     },
     "execution_count": 74,
     "metadata": {},
     "output_type": "execute_result"
    }
   ],
   "source": [
    "data['last_pymnt_d_quartered'].value_counts()"
   ]
  },
  {
   "cell_type": "code",
   "execution_count": 75,
   "metadata": {
    "ExecuteTime": {
     "end_time": "2020-01-14T18:06:43.888350Z",
     "start_time": "2020-01-14T18:06:43.227773Z"
    }
   },
   "outputs": [
    {
     "data": {
      "text/plain": [
       "(421095, 105)"
      ]
     },
     "execution_count": 75,
     "metadata": {},
     "output_type": "execute_result"
    }
   ],
   "source": [
    "data.dropna(how = 'all', inplace = True)\n",
    "data.shape"
   ]
  },
  {
   "cell_type": "markdown",
   "metadata": {},
   "source": [
    "As intended."
   ]
  },
  {
   "cell_type": "markdown",
   "metadata": {},
   "source": [
    "## Creating dummies and splitting data"
   ]
  },
  {
   "cell_type": "code",
   "execution_count": 76,
   "metadata": {
    "ExecuteTime": {
     "end_time": "2020-01-14T18:06:44.104822Z",
     "start_time": "2020-01-14T18:06:43.890729Z"
    }
   },
   "outputs": [],
   "source": [
    "safe = data.copy()"
   ]
  },
  {
   "cell_type": "code",
   "execution_count": 61,
   "metadata": {
    "ExecuteTime": {
     "end_time": "2020-01-14T18:05:49.806208Z",
     "start_time": "2020-01-14T18:05:47.656300Z"
    }
   },
   "outputs": [
    {
     "data": {
      "text/plain": [
       "((421095, 253), (421095,))"
      ]
     },
     "execution_count": 61,
     "metadata": {},
     "output_type": "execute_result"
    }
   ],
   "source": [
    "X = data.drop('loan_status', 1)\n",
    "Y = data['loan_status']\n",
    "X = pd.get_dummies(X)\n",
    "X = X.dropna(axis = 1)\n",
    "\n",
    "X.shape, Y.shape"
   ]
  },
  {
   "cell_type": "code",
   "execution_count": 62,
   "metadata": {
    "ExecuteTime": {
     "end_time": "2020-01-14T18:05:50.265655Z",
     "start_time": "2020-01-14T18:05:49.808202Z"
    }
   },
   "outputs": [
    {
     "data": {
      "text/plain": [
       "((315821, 253), (105274, 253), (315821,), (105274,))"
      ]
     },
     "execution_count": 62,
     "metadata": {},
     "output_type": "execute_result"
    }
   ],
   "source": [
    "from sklearn.model_selection import train_test_split\n",
    "\n",
    "X_train, X_test, Y_train, Y_test = train_test_split(X, Y, random_state = 13, test_size = .25)\n",
    "X_train.shape, X_test.shape, Y_train.shape, Y_test.shape"
   ]
  },
  {
   "cell_type": "markdown",
   "metadata": {},
   "source": [
    "## Establish baseline RFM scores"
   ]
  },
  {
   "cell_type": "code",
   "execution_count": 17,
   "metadata": {
    "ExecuteTime": {
     "end_time": "2020-01-14T17:40:51.224139Z",
     "start_time": "2020-01-14T17:40:51.221518Z"
    }
   },
   "outputs": [],
   "source": [
    "models = {}"
   ]
  },
  {
   "cell_type": "code",
   "execution_count": 29,
   "metadata": {
    "ExecuteTime": {
     "end_time": "2020-01-14T17:59:32.851583Z",
     "start_time": "2020-01-14T17:58:49.667108Z"
    },
    "scrolled": true
   },
   "outputs": [
    {
     "data": {
      "text/plain": [
       "RandomForestClassifier(bootstrap=True, ccp_alpha=0.0, class_weight=None,\n",
       "                       criterion='gini', max_depth=None, max_features='auto',\n",
       "                       max_leaf_nodes=None, max_samples=None,\n",
       "                       min_impurity_decrease=0.0, min_impurity_split=None,\n",
       "                       min_samples_leaf=1, min_samples_split=2,\n",
       "                       min_weight_fraction_leaf=0.0, n_estimators=100,\n",
       "                       n_jobs=-1, oob_score=False, random_state=None, verbose=0,\n",
       "                       warm_start=False)"
      ]
     },
     "execution_count": 29,
     "metadata": {},
     "output_type": "execute_result"
    }
   ],
   "source": [
    "from sklearn import ensemble\n",
    "from sklearn.model_selection import cross_val_score\n",
    "from math import sqrt\n",
    "\n",
    "rfc = ensemble.RandomForestClassifier(n_jobs=-1)\n",
    "rfc.fit(X_train, Y_train)"
   ]
  },
  {
   "cell_type": "code",
   "execution_count": 30,
   "metadata": {
    "ExecuteTime": {
     "end_time": "2020-01-14T17:59:41.161405Z",
     "start_time": "2020-01-14T17:59:37.929199Z"
    }
   },
   "outputs": [
    {
     "data": {
      "text/plain": [
       "0.9999873345977627"
      ]
     },
     "execution_count": 30,
     "metadata": {},
     "output_type": "execute_result"
    }
   ],
   "source": [
    "rfc.score(X_train, Y_train)"
   ]
  },
  {
   "cell_type": "code",
   "execution_count": 31,
   "metadata": {
    "ExecuteTime": {
     "end_time": "2020-01-14T17:59:44.060182Z",
     "start_time": "2020-01-14T17:59:42.989888Z"
    }
   },
   "outputs": [
    {
     "data": {
      "text/plain": [
       "0.9685867355662366"
      ]
     },
     "execution_count": 31,
     "metadata": {},
     "output_type": "execute_result"
    }
   ],
   "source": [
    "rfc.score(X_test, Y_test)"
   ]
  },
  {
   "cell_type": "markdown",
   "metadata": {},
   "source": [
    "...I'm really unsure how to proceed from here! My model seems to be extremely accurate!"
   ]
  },
  {
   "cell_type": "markdown",
   "metadata": {},
   "source": [
    "## Removing features"
   ]
  },
  {
   "cell_type": "markdown",
   "metadata": {},
   "source": [
    "We start by looking at the correlation between the features to highly correlated ones. We can start by using PCA."
   ]
  },
  {
   "cell_type": "code",
   "execution_count": 98,
   "metadata": {
    "ExecuteTime": {
     "end_time": "2020-01-14T18:33:20.268199Z",
     "start_time": "2020-01-14T18:33:16.507311Z"
    }
   },
   "outputs": [
    {
     "data": {
      "text/html": [
       "<div>\n",
       "<style scoped>\n",
       "    .dataframe tbody tr th:only-of-type {\n",
       "        vertical-align: middle;\n",
       "    }\n",
       "\n",
       "    .dataframe tbody tr th {\n",
       "        vertical-align: top;\n",
       "    }\n",
       "\n",
       "    .dataframe thead th {\n",
       "        text-align: right;\n",
       "    }\n",
       "</style>\n",
       "<table border=\"1\" class=\"dataframe\">\n",
       "  <thead>\n",
       "    <tr style=\"text-align: right;\">\n",
       "      <th></th>\n",
       "      <th>id</th>\n",
       "      <th>member_id</th>\n",
       "      <th>loan_amnt</th>\n",
       "      <th>funded_amnt</th>\n",
       "      <th>funded_amnt_inv</th>\n",
       "      <th>int_rate</th>\n",
       "      <th>installment</th>\n",
       "      <th>annual_inc</th>\n",
       "      <th>dti</th>\n",
       "      <th>delinq_2yrs</th>\n",
       "      <th>...</th>\n",
       "      <th>last_credit_pull_d_quartered_Q1 2015</th>\n",
       "      <th>last_credit_pull_d_quartered_Q1 2016</th>\n",
       "      <th>last_credit_pull_d_quartered_Q1 2017</th>\n",
       "      <th>last_credit_pull_d_quartered_Q2 2015</th>\n",
       "      <th>last_credit_pull_d_quartered_Q2 2016</th>\n",
       "      <th>last_credit_pull_d_quartered_Q3 2015</th>\n",
       "      <th>last_credit_pull_d_quartered_Q3 2016</th>\n",
       "      <th>last_credit_pull_d_quartered_Q4 2014</th>\n",
       "      <th>last_credit_pull_d_quartered_Q4 2015</th>\n",
       "      <th>last_credit_pull_d_quartered_Q4 2016</th>\n",
       "    </tr>\n",
       "  </thead>\n",
       "  <tbody>\n",
       "    <tr>\n",
       "      <th>0</th>\n",
       "      <td>1.485786</td>\n",
       "      <td>1.507108</td>\n",
       "      <td>0.088634</td>\n",
       "      <td>0.088634</td>\n",
       "      <td>0.089385</td>\n",
       "      <td>0.520931</td>\n",
       "      <td>-0.255135</td>\n",
       "      <td>-0.391692</td>\n",
       "      <td>0.594963</td>\n",
       "      <td>-0.374473</td>\n",
       "      <td>...</td>\n",
       "      <td>-0.02679</td>\n",
       "      <td>-0.131417</td>\n",
       "      <td>0.433710</td>\n",
       "      <td>-0.049997</td>\n",
       "      <td>-0.144656</td>\n",
       "      <td>-0.07362</td>\n",
       "      <td>-0.156237</td>\n",
       "      <td>-0.003446</td>\n",
       "      <td>-0.094715</td>\n",
       "      <td>-0.293876</td>\n",
       "    </tr>\n",
       "    <tr>\n",
       "      <th>1</th>\n",
       "      <td>1.522236</td>\n",
       "      <td>1.544253</td>\n",
       "      <td>-0.658042</td>\n",
       "      <td>-0.658042</td>\n",
       "      <td>-0.657587</td>\n",
       "      <td>-1.183385</td>\n",
       "      <td>-0.585173</td>\n",
       "      <td>-0.229420</td>\n",
       "      <td>0.138019</td>\n",
       "      <td>-0.374473</td>\n",
       "      <td>...</td>\n",
       "      <td>-0.02679</td>\n",
       "      <td>-0.131417</td>\n",
       "      <td>0.433710</td>\n",
       "      <td>-0.049997</td>\n",
       "      <td>-0.144656</td>\n",
       "      <td>-0.07362</td>\n",
       "      <td>-0.156237</td>\n",
       "      <td>-0.003446</td>\n",
       "      <td>-0.094715</td>\n",
       "      <td>-0.293876</td>\n",
       "    </tr>\n",
       "    <tr>\n",
       "      <th>2</th>\n",
       "      <td>1.534070</td>\n",
       "      <td>1.555326</td>\n",
       "      <td>1.138648</td>\n",
       "      <td>1.138648</td>\n",
       "      <td>1.139814</td>\n",
       "      <td>-1.183385</td>\n",
       "      <td>1.370997</td>\n",
       "      <td>0.433191</td>\n",
       "      <td>0.290334</td>\n",
       "      <td>-0.374473</td>\n",
       "      <td>...</td>\n",
       "      <td>-0.02679</td>\n",
       "      <td>-0.131417</td>\n",
       "      <td>0.433710</td>\n",
       "      <td>-0.049997</td>\n",
       "      <td>-0.144656</td>\n",
       "      <td>-0.07362</td>\n",
       "      <td>-0.156237</td>\n",
       "      <td>-0.003446</td>\n",
       "      <td>-0.094715</td>\n",
       "      <td>-0.293876</td>\n",
       "    </tr>\n",
       "    <tr>\n",
       "      <th>3</th>\n",
       "      <td>1.534075</td>\n",
       "      <td>1.555330</td>\n",
       "      <td>1.488653</td>\n",
       "      <td>1.488653</td>\n",
       "      <td>1.489957</td>\n",
       "      <td>-1.414950</td>\n",
       "      <td>1.699769</td>\n",
       "      <td>0.203305</td>\n",
       "      <td>0.102281</td>\n",
       "      <td>-0.374473</td>\n",
       "      <td>...</td>\n",
       "      <td>-0.02679</td>\n",
       "      <td>-0.131417</td>\n",
       "      <td>0.433710</td>\n",
       "      <td>-0.049997</td>\n",
       "      <td>-0.144656</td>\n",
       "      <td>-0.07362</td>\n",
       "      <td>-0.156237</td>\n",
       "      <td>-0.003446</td>\n",
       "      <td>-0.094715</td>\n",
       "      <td>-0.293876</td>\n",
       "    </tr>\n",
       "    <tr>\n",
       "      <th>4</th>\n",
       "      <td>1.537044</td>\n",
       "      <td>1.558100</td>\n",
       "      <td>-0.768877</td>\n",
       "      <td>-0.768877</td>\n",
       "      <td>-0.768466</td>\n",
       "      <td>1.688017</td>\n",
       "      <td>-0.493648</td>\n",
       "      <td>-0.297034</td>\n",
       "      <td>0.267785</td>\n",
       "      <td>-0.374473</td>\n",
       "      <td>...</td>\n",
       "      <td>-0.02679</td>\n",
       "      <td>-0.131417</td>\n",
       "      <td>-2.305689</td>\n",
       "      <td>-0.049997</td>\n",
       "      <td>6.912935</td>\n",
       "      <td>-0.07362</td>\n",
       "      <td>-0.156237</td>\n",
       "      <td>-0.003446</td>\n",
       "      <td>-0.094715</td>\n",
       "      <td>-0.293876</td>\n",
       "    </tr>\n",
       "  </tbody>\n",
       "</table>\n",
       "<p>5 rows × 253 columns</p>\n",
       "</div>"
      ],
      "text/plain": [
       "         id  member_id  loan_amnt  funded_amnt  funded_amnt_inv  int_rate  \\\n",
       "0  1.485786   1.507108   0.088634     0.088634         0.089385  0.520931   \n",
       "1  1.522236   1.544253  -0.658042    -0.658042        -0.657587 -1.183385   \n",
       "2  1.534070   1.555326   1.138648     1.138648         1.139814 -1.183385   \n",
       "3  1.534075   1.555330   1.488653     1.488653         1.489957 -1.414950   \n",
       "4  1.537044   1.558100  -0.768877    -0.768877        -0.768466  1.688017   \n",
       "\n",
       "   installment  annual_inc       dti  delinq_2yrs  ...  \\\n",
       "0    -0.255135   -0.391692  0.594963    -0.374473  ...   \n",
       "1    -0.585173   -0.229420  0.138019    -0.374473  ...   \n",
       "2     1.370997    0.433191  0.290334    -0.374473  ...   \n",
       "3     1.699769    0.203305  0.102281    -0.374473  ...   \n",
       "4    -0.493648   -0.297034  0.267785    -0.374473  ...   \n",
       "\n",
       "   last_credit_pull_d_quartered_Q1 2015  last_credit_pull_d_quartered_Q1 2016  \\\n",
       "0                              -0.02679                             -0.131417   \n",
       "1                              -0.02679                             -0.131417   \n",
       "2                              -0.02679                             -0.131417   \n",
       "3                              -0.02679                             -0.131417   \n",
       "4                              -0.02679                             -0.131417   \n",
       "\n",
       "   last_credit_pull_d_quartered_Q1 2017  last_credit_pull_d_quartered_Q2 2015  \\\n",
       "0                              0.433710                             -0.049997   \n",
       "1                              0.433710                             -0.049997   \n",
       "2                              0.433710                             -0.049997   \n",
       "3                              0.433710                             -0.049997   \n",
       "4                             -2.305689                             -0.049997   \n",
       "\n",
       "   last_credit_pull_d_quartered_Q2 2016  last_credit_pull_d_quartered_Q3 2015  \\\n",
       "0                             -0.144656                              -0.07362   \n",
       "1                             -0.144656                              -0.07362   \n",
       "2                             -0.144656                              -0.07362   \n",
       "3                             -0.144656                              -0.07362   \n",
       "4                              6.912935                              -0.07362   \n",
       "\n",
       "   last_credit_pull_d_quartered_Q3 2016  last_credit_pull_d_quartered_Q4 2014  \\\n",
       "0                             -0.156237                             -0.003446   \n",
       "1                             -0.156237                             -0.003446   \n",
       "2                             -0.156237                             -0.003446   \n",
       "3                             -0.156237                             -0.003446   \n",
       "4                             -0.156237                             -0.003446   \n",
       "\n",
       "   last_credit_pull_d_quartered_Q4 2015  last_credit_pull_d_quartered_Q4 2016  \n",
       "0                             -0.094715                             -0.293876  \n",
       "1                             -0.094715                             -0.293876  \n",
       "2                             -0.094715                             -0.293876  \n",
       "3                             -0.094715                             -0.293876  \n",
       "4                             -0.094715                             -0.293876  \n",
       "\n",
       "[5 rows x 253 columns]"
      ]
     },
     "execution_count": 98,
     "metadata": {},
     "output_type": "execute_result"
    }
   ],
   "source": [
    "from sklearn.decomposition import PCA\n",
    "from sklearn.preprocessing import StandardScaler\n",
    "\n",
    "scaler = StandardScaler()\n",
    "\n",
    "X_ft = pd.DataFrame(data = scaler.fit_transform(X), columns = X.columns)\n",
    "X_ft.head()"
   ]
  },
  {
   "cell_type": "code",
   "execution_count": 105,
   "metadata": {
    "ExecuteTime": {
     "end_time": "2020-01-14T18:52:08.455450Z",
     "start_time": "2020-01-14T18:51:58.219058Z"
    }
   },
   "outputs": [],
   "source": [
    "pca = PCA(n_components=20)\n",
    "pca.fit(X_ft) # do the math\n",
    "pca_data = pca.transform(X_ft) # get PCA coordinates for scaled_data"
   ]
  },
  {
   "cell_type": "code",
   "execution_count": 106,
   "metadata": {
    "ExecuteTime": {
     "end_time": "2020-01-14T18:52:13.702623Z",
     "start_time": "2020-01-14T18:52:13.313380Z"
    }
   },
   "outputs": [
    {
     "data": {
      "image/png": "[encoded data removed]",
      "text/plain": [
       "<Figure size 1440x576 with 1 Axes>"
      ]
     },
     "metadata": {
      "needs_background": "light"
     },
     "output_type": "display_data"
    }
   ],
   "source": [
    "#########################\n",
    "#\n",
    "# Draw a scree plot and a PCA plot\n",
    "#\n",
    "#########################\n",
    " \n",
    "#The following code constructs the Scree plot\n",
    "per_var = np.round(pca.explained_variance_ratio_* 100, decimals=1)\n",
    "labels = ['PC' + str(x) for x in range(1, len(per_var)+1)]\n",
    " \n",
    "plt.figure(figsize=(20, 8))\n",
    "plt.bar(x=range(1,len(per_var)+1), height=per_var, tick_label=labels)\n",
    "plt.ylabel('Percentage of Explained Variance')\n",
    "plt.xlabel('Principal Component')\n",
    "plt.title('Scree Plot')\n",
    "plt.show()"
   ]
  },
  {
   "cell_type": "code",
   "execution_count": null,
   "metadata": {},
   "outputs": [],
   "source": []
  }
 ],
 "metadata": {
  "kernelspec": {
   "display_name": "Python 3",
   "language": "python",
   "name": "python3"
  },
  "language_info": {
   "codemirror_mode": {
    "name": "ipython",
    "version": 3
   },
   "file_extension": ".py",
   "mimetype": "text/x-python",
   "name": "python",
   "nbconvert_exporter": "python",
   "pygments_lexer": "ipython3",
   "version": "3.7.6"
  },
  "toc": {
   "base_numbering": "0",
   "nav_menu": {},
   "number_sections": true,
   "sideBar": true,
   "skip_h1_title": true,
   "title_cell": "Table of Contents",
   "title_sidebar": "Contents",
   "toc_cell": true,
   "toc_position": {
    "height": "calc(100% - 180px)",
    "left": "10px",
    "top": "150px",
    "width": "267.5551452636719px"
   },
   "toc_section_display": true,
   "toc_window_display": true
  }
 },
 "nbformat": 4,
 "nbformat_minor": 4
}
