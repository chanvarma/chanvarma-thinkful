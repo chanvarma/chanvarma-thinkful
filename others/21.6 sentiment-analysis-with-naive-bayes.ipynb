{
 "cells": [
  {
   "cell_type": "code",
   "execution_count": 382,
   "metadata": {
    "ExecuteTime": {
     "end_time": "2019-12-31T08:54:04.943714Z",
     "start_time": "2019-12-31T08:54:04.937398Z"
    }
   },
   "outputs": [],
   "source": [
    "%matplotlib inline\n",
    "import numpy as np\n",
    "import pandas as pd\n",
    "import scipy\n",
    "import sklearn\n",
    "import matplotlib.pyplot as plt\n",
    "import seaborn as sns\n",
    "\n",
    "import nltk #for tokenize sentences"
   ]
  },
  {
   "cell_type": "code",
   "execution_count": 501,
   "metadata": {
    "ExecuteTime": {
     "end_time": "2019-12-31T09:58:59.948766Z",
     "start_time": "2019-12-31T09:58:59.945797Z"
    }
   },
   "outputs": [],
   "source": [
    "datasets_file = \"datasets/sentiment labelled sentences/\"\n",
    "imdb_t = datasets_file + 'imdb_labelled.txt'\n",
    "amazon_t = datasets_file + 'amazon_cells_labelled.txt'\n",
    "yelp_t = datasets_file + 'yelp_labelled.txt'"
   ]
  },
  {
   "cell_type": "markdown",
   "metadata": {},
   "source": [
    "## Setting up datasets"
   ]
  },
  {
   "cell_type": "code",
   "execution_count": 656,
   "metadata": {
    "ExecuteTime": {
     "end_time": "2019-12-31T11:41:56.509984Z",
     "start_time": "2019-12-31T11:41:56.492637Z"
    }
   },
   "outputs": [],
   "source": [
    "imdb = pd.read_csv(imdb_t, sep = '\\t', header = None)\n",
    "imdb.columns = ['comment', 'positive']\n",
    "\n",
    "amazon = pd.read_csv(amazon_t, sep = '\\t', header = None)\n",
    "amazon.columns = ['comment', 'positive']\n",
    "\n",
    "yelp = pd.read_csv(yelp_t, sep = '\\t', header = None)\n",
    "yelp.columns = ['comment', 'positive']\n",
    "\n",
    "datasets = [imdb, amazon, yelp]\n",
    "\n",
    "for website in datasets:\n",
    "    website['comment'] = website['comment'].str.lower()\n",
    "    "
   ]
  },
  {
   "cell_type": "code",
   "execution_count": 587,
   "metadata": {
    "ExecuteTime": {
     "end_time": "2019-12-31T11:23:57.745581Z",
     "start_time": "2019-12-31T11:23:57.738851Z"
    }
   },
   "outputs": [
    {
     "data": {
      "text/html": [
       "<div>\n",
       "<style scoped>\n",
       "    .dataframe tbody tr th:only-of-type {\n",
       "        vertical-align: middle;\n",
       "    }\n",
       "\n",
       "    .dataframe tbody tr th {\n",
       "        vertical-align: top;\n",
       "    }\n",
       "\n",
       "    .dataframe thead th {\n",
       "        text-align: right;\n",
       "    }\n",
       "</style>\n",
       "<table border=\"1\" class=\"dataframe\">\n",
       "  <thead>\n",
       "    <tr style=\"text-align: right;\">\n",
       "      <th></th>\n",
       "      <th>comment</th>\n",
       "      <th>positive</th>\n",
       "    </tr>\n",
       "  </thead>\n",
       "  <tbody>\n",
       "    <tr>\n",
       "      <th>0</th>\n",
       "      <td>so there is no way for me to plug it in here i...</td>\n",
       "      <td>0</td>\n",
       "    </tr>\n",
       "    <tr>\n",
       "      <th>1</th>\n",
       "      <td>good case, excellent value.</td>\n",
       "      <td>1</td>\n",
       "    </tr>\n",
       "    <tr>\n",
       "      <th>2</th>\n",
       "      <td>great for the jawbone.</td>\n",
       "      <td>1</td>\n",
       "    </tr>\n",
       "    <tr>\n",
       "      <th>3</th>\n",
       "      <td>tied to charger for conversations lasting more...</td>\n",
       "      <td>0</td>\n",
       "    </tr>\n",
       "    <tr>\n",
       "      <th>4</th>\n",
       "      <td>the mic is great.</td>\n",
       "      <td>1</td>\n",
       "    </tr>\n",
       "  </tbody>\n",
       "</table>\n",
       "</div>"
      ],
      "text/plain": [
       "                                             comment  positive\n",
       "0  so there is no way for me to plug it in here i...         0\n",
       "1                        good case, excellent value.         1\n",
       "2                             great for the jawbone.         1\n",
       "3  tied to charger for conversations lasting more...         0\n",
       "4                                  the mic is great.         1"
      ]
     },
     "execution_count": 587,
     "metadata": {},
     "output_type": "execute_result"
    }
   ],
   "source": [
    "amazon.head()"
   ]
  },
  {
   "cell_type": "markdown",
   "metadata": {},
   "source": [
    "## Feature engineering"
   ]
  },
  {
   "cell_type": "markdown",
   "metadata": {},
   "source": [
    "### Word agnostic features"
   ]
  },
  {
   "cell_type": "markdown",
   "metadata": {},
   "source": [
    "We start of with an extremely simple feature: the word count."
   ]
  },
  {
   "cell_type": "code",
   "execution_count": 657,
   "metadata": {
    "ExecuteTime": {
     "end_time": "2019-12-31T11:41:58.765590Z",
     "start_time": "2019-12-31T11:41:58.745105Z"
    }
   },
   "outputs": [
    {
     "data": {
      "text/html": [
       "<div>\n",
       "<style scoped>\n",
       "    .dataframe tbody tr th:only-of-type {\n",
       "        vertical-align: middle;\n",
       "    }\n",
       "\n",
       "    .dataframe tbody tr th {\n",
       "        vertical-align: top;\n",
       "    }\n",
       "\n",
       "    .dataframe thead th {\n",
       "        text-align: right;\n",
       "    }\n",
       "</style>\n",
       "<table border=\"1\" class=\"dataframe\">\n",
       "  <thead>\n",
       "    <tr style=\"text-align: right;\">\n",
       "      <th></th>\n",
       "      <th>comment</th>\n",
       "      <th>positive</th>\n",
       "      <th>word_count</th>\n",
       "    </tr>\n",
       "  </thead>\n",
       "  <tbody>\n",
       "    <tr>\n",
       "      <th>0</th>\n",
       "      <td>so there is no way for me to plug it in here i...</td>\n",
       "      <td>False</td>\n",
       "      <td>21</td>\n",
       "    </tr>\n",
       "    <tr>\n",
       "      <th>1</th>\n",
       "      <td>good case, excellent value.</td>\n",
       "      <td>True</td>\n",
       "      <td>4</td>\n",
       "    </tr>\n",
       "    <tr>\n",
       "      <th>2</th>\n",
       "      <td>great for the jawbone.</td>\n",
       "      <td>True</td>\n",
       "      <td>4</td>\n",
       "    </tr>\n",
       "    <tr>\n",
       "      <th>3</th>\n",
       "      <td>tied to charger for conversations lasting more...</td>\n",
       "      <td>False</td>\n",
       "      <td>11</td>\n",
       "    </tr>\n",
       "    <tr>\n",
       "      <th>4</th>\n",
       "      <td>the mic is great.</td>\n",
       "      <td>True</td>\n",
       "      <td>4</td>\n",
       "    </tr>\n",
       "    <tr>\n",
       "      <th>5</th>\n",
       "      <td>i have to jiggle the plug to get it to line up...</td>\n",
       "      <td>False</td>\n",
       "      <td>17</td>\n",
       "    </tr>\n",
       "    <tr>\n",
       "      <th>6</th>\n",
       "      <td>if you have several dozen or several hundred c...</td>\n",
       "      <td>False</td>\n",
       "      <td>21</td>\n",
       "    </tr>\n",
       "    <tr>\n",
       "      <th>7</th>\n",
       "      <td>if you are razr owner...you must have this!</td>\n",
       "      <td>True</td>\n",
       "      <td>8</td>\n",
       "    </tr>\n",
       "    <tr>\n",
       "      <th>8</th>\n",
       "      <td>needless to say, i wasted my money.</td>\n",
       "      <td>False</td>\n",
       "      <td>7</td>\n",
       "    </tr>\n",
       "    <tr>\n",
       "      <th>9</th>\n",
       "      <td>what a waste of money and time!.</td>\n",
       "      <td>False</td>\n",
       "      <td>7</td>\n",
       "    </tr>\n",
       "  </tbody>\n",
       "</table>\n",
       "</div>"
      ],
      "text/plain": [
       "                                             comment  positive  word_count\n",
       "0  so there is no way for me to plug it in here i...     False          21\n",
       "1                        good case, excellent value.      True           4\n",
       "2                             great for the jawbone.      True           4\n",
       "3  tied to charger for conversations lasting more...     False          11\n",
       "4                                  the mic is great.      True           4\n",
       "5  i have to jiggle the plug to get it to line up...     False          17\n",
       "6  if you have several dozen or several hundred c...     False          21\n",
       "7        if you are razr owner...you must have this!      True           8\n",
       "8                needless to say, i wasted my money.     False           7\n",
       "9                   what a waste of money and time!.     False           7"
      ]
     },
     "execution_count": 657,
     "metadata": {},
     "output_type": "execute_result"
    }
   ],
   "source": [
    "for website in datasets:\n",
    "    website['positive'] = (website['positive'] == 1)\n",
    "\n",
    "    website['word_count'] = website['comment'].str.split(' ').str.len()\n",
    "\n",
    "amazon.head(10)"
   ]
  },
  {
   "cell_type": "code",
   "execution_count": 661,
   "metadata": {
    "ExecuteTime": {
     "end_time": "2019-12-31T11:43:07.191657Z",
     "start_time": "2019-12-31T11:43:07.187412Z"
    }
   },
   "outputs": [
    {
     "data": {
      "text/plain": [
       "10.246"
      ]
     },
     "execution_count": 661,
     "metadata": {},
     "output_type": "execute_result"
    }
   ],
   "source": [
    "amazon['word_count'].mean()"
   ]
  },
  {
   "cell_type": "code",
   "execution_count": 639,
   "metadata": {
    "ExecuteTime": {
     "end_time": "2019-12-31T11:37:46.864689Z",
     "start_time": "2019-12-31T11:37:46.668221Z"
    }
   },
   "outputs": [
    {
     "data": {
      "image/png": "[encoded data removed]",
      "text/plain": [
       "<Figure size 432x288 with 1 Axes>"
      ]
     },
     "metadata": {
      "needs_background": "light"
     },
     "output_type": "display_data"
    }
   ],
   "source": [
    "plt.plot(amazon['word_count'].loc[amazon['positive'] == True].value_counts(sort = False), label = 'positive words')\n",
    "plt.plot(amazon['word_count'].loc[amazon['positive'] == False].value_counts(sort = False), label = 'negative words')\n",
    "plt.legend()\n",
    "plt.show()"
   ]
  },
  {
   "cell_type": "code",
   "execution_count": 659,
   "metadata": {
    "ExecuteTime": {
     "end_time": "2019-12-31T11:42:51.689048Z",
     "start_time": "2019-12-31T11:42:51.675035Z"
    }
   },
   "outputs": [
    {
     "data": {
      "text/plain": [
       "(0.97, 10.667]      309\n",
       "(10.667, 20.333]    141\n",
       "(20.333, 30.0]       50\n",
       "Name: word_count, dtype: int64"
      ]
     },
     "execution_count": 659,
     "metadata": {},
     "output_type": "execute_result"
    }
   ],
   "source": [
    "amazon['word_count'].loc[amazon['positive'] == True].value_counts(sort = False, bins = 3)"
   ]
  },
  {
   "cell_type": "code",
   "execution_count": 674,
   "metadata": {
    "ExecuteTime": {
     "end_time": "2019-12-31T11:47:10.903931Z",
     "start_time": "2019-12-31T11:47:10.882117Z"
    }
   },
   "outputs": [
    {
     "ename": "MergeError",
     "evalue": "No common columns to perform merge on. Merge options: left_on=None, right_on=None, left_index=False, right_index=False",
     "output_type": "error",
     "traceback": [
      "\u001b[0;31m---------------------------------------------------------------------------\u001b[0m",
      "\u001b[0;31mMergeError\u001b[0m                                Traceback (most recent call last)",
      "\u001b[0;32m<ipython-input-674-8af18607476b>\u001b[0m in \u001b[0;36m<module>\u001b[0;34m\u001b[0m\n\u001b[1;32m      2\u001b[0m                                'short_comment', 'mean_length_comment', 'long_comment'])\n\u001b[1;32m      3\u001b[0m \u001b[0;34m\u001b[0m\u001b[0m\n\u001b[0;32m----> 4\u001b[0;31m \u001b[0mamazon\u001b[0m \u001b[0;34m=\u001b[0m \u001b[0mamazon\u001b[0m\u001b[0;34m.\u001b[0m\u001b[0mmerge\u001b[0m\u001b[0;34m(\u001b[0m\u001b[0mpd\u001b[0m\u001b[0;34m.\u001b[0m\u001b[0mget_dummies\u001b[0m\u001b[0;34m(\u001b[0m\u001b[0mamazon\u001b[0m\u001b[0;34m[\u001b[0m\u001b[0;34m'sent_length'\u001b[0m\u001b[0;34m]\u001b[0m\u001b[0;34m)\u001b[0m\u001b[0;34m)\u001b[0m\u001b[0;34m\u001b[0m\u001b[0;34m\u001b[0m\u001b[0m\n\u001b[0m",
      "\u001b[0;32m/usr/local/lib/python3.7/site-packages/pandas/core/frame.py\u001b[0m in \u001b[0;36mmerge\u001b[0;34m(self, right, how, on, left_on, right_on, left_index, right_index, sort, suffixes, copy, indicator, validate)\u001b[0m\n\u001b[1;32m   7347\u001b[0m             \u001b[0mcopy\u001b[0m\u001b[0;34m=\u001b[0m\u001b[0mcopy\u001b[0m\u001b[0;34m,\u001b[0m\u001b[0;34m\u001b[0m\u001b[0;34m\u001b[0m\u001b[0m\n\u001b[1;32m   7348\u001b[0m             \u001b[0mindicator\u001b[0m\u001b[0;34m=\u001b[0m\u001b[0mindicator\u001b[0m\u001b[0;34m,\u001b[0m\u001b[0;34m\u001b[0m\u001b[0;34m\u001b[0m\u001b[0m\n\u001b[0;32m-> 7349\u001b[0;31m             \u001b[0mvalidate\u001b[0m\u001b[0;34m=\u001b[0m\u001b[0mvalidate\u001b[0m\u001b[0;34m,\u001b[0m\u001b[0;34m\u001b[0m\u001b[0;34m\u001b[0m\u001b[0m\n\u001b[0m\u001b[1;32m   7350\u001b[0m         )\n\u001b[1;32m   7351\u001b[0m \u001b[0;34m\u001b[0m\u001b[0m\n",
      "\u001b[0;32m/usr/local/lib/python3.7/site-packages/pandas/core/reshape/merge.py\u001b[0m in \u001b[0;36mmerge\u001b[0;34m(left, right, how, on, left_on, right_on, left_index, right_index, sort, suffixes, copy, indicator, validate)\u001b[0m\n\u001b[1;32m     79\u001b[0m         \u001b[0mcopy\u001b[0m\u001b[0;34m=\u001b[0m\u001b[0mcopy\u001b[0m\u001b[0;34m,\u001b[0m\u001b[0;34m\u001b[0m\u001b[0;34m\u001b[0m\u001b[0m\n\u001b[1;32m     80\u001b[0m         \u001b[0mindicator\u001b[0m\u001b[0;34m=\u001b[0m\u001b[0mindicator\u001b[0m\u001b[0;34m,\u001b[0m\u001b[0;34m\u001b[0m\u001b[0;34m\u001b[0m\u001b[0m\n\u001b[0;32m---> 81\u001b[0;31m         \u001b[0mvalidate\u001b[0m\u001b[0;34m=\u001b[0m\u001b[0mvalidate\u001b[0m\u001b[0;34m,\u001b[0m\u001b[0;34m\u001b[0m\u001b[0;34m\u001b[0m\u001b[0m\n\u001b[0m\u001b[1;32m     82\u001b[0m     )\n\u001b[1;32m     83\u001b[0m     \u001b[0;32mreturn\u001b[0m \u001b[0mop\u001b[0m\u001b[0;34m.\u001b[0m\u001b[0mget_result\u001b[0m\u001b[0;34m(\u001b[0m\u001b[0;34m)\u001b[0m\u001b[0;34m\u001b[0m\u001b[0;34m\u001b[0m\u001b[0m\n",
      "\u001b[0;32m/usr/local/lib/python3.7/site-packages/pandas/core/reshape/merge.py\u001b[0m in \u001b[0;36m__init__\u001b[0;34m(self, left, right, how, on, left_on, right_on, axis, left_index, right_index, sort, suffixes, copy, indicator, validate)\u001b[0m\n\u001b[1;32m    617\u001b[0m             \u001b[0mwarnings\u001b[0m\u001b[0;34m.\u001b[0m\u001b[0mwarn\u001b[0m\u001b[0;34m(\u001b[0m\u001b[0mmsg\u001b[0m\u001b[0;34m,\u001b[0m \u001b[0mUserWarning\u001b[0m\u001b[0;34m)\u001b[0m\u001b[0;34m\u001b[0m\u001b[0;34m\u001b[0m\u001b[0m\n\u001b[1;32m    618\u001b[0m \u001b[0;34m\u001b[0m\u001b[0m\n\u001b[0;32m--> 619\u001b[0;31m         \u001b[0mself\u001b[0m\u001b[0;34m.\u001b[0m\u001b[0m_validate_specification\u001b[0m\u001b[0;34m(\u001b[0m\u001b[0;34m)\u001b[0m\u001b[0;34m\u001b[0m\u001b[0;34m\u001b[0m\u001b[0m\n\u001b[0m\u001b[1;32m    620\u001b[0m \u001b[0;34m\u001b[0m\u001b[0m\n\u001b[1;32m    621\u001b[0m         \u001b[0;31m# note this function has side effects\u001b[0m\u001b[0;34m\u001b[0m\u001b[0;34m\u001b[0m\u001b[0;34m\u001b[0m\u001b[0m\n",
      "\u001b[0;32m/usr/local/lib/python3.7/site-packages/pandas/core/reshape/merge.py\u001b[0m in \u001b[0;36m_validate_specification\u001b[0;34m(self)\u001b[0m\n\u001b[1;32m   1188\u001b[0m                             \u001b[0mron\u001b[0m\u001b[0;34m=\u001b[0m\u001b[0mself\u001b[0m\u001b[0;34m.\u001b[0m\u001b[0mright_on\u001b[0m\u001b[0;34m,\u001b[0m\u001b[0;34m\u001b[0m\u001b[0;34m\u001b[0m\u001b[0m\n\u001b[1;32m   1189\u001b[0m                             \u001b[0mlidx\u001b[0m\u001b[0;34m=\u001b[0m\u001b[0mself\u001b[0m\u001b[0;34m.\u001b[0m\u001b[0mleft_index\u001b[0m\u001b[0;34m,\u001b[0m\u001b[0;34m\u001b[0m\u001b[0;34m\u001b[0m\u001b[0m\n\u001b[0;32m-> 1190\u001b[0;31m                             \u001b[0mridx\u001b[0m\u001b[0;34m=\u001b[0m\u001b[0mself\u001b[0m\u001b[0;34m.\u001b[0m\u001b[0mright_index\u001b[0m\u001b[0;34m,\u001b[0m\u001b[0;34m\u001b[0m\u001b[0;34m\u001b[0m\u001b[0m\n\u001b[0m\u001b[1;32m   1191\u001b[0m                         )\n\u001b[1;32m   1192\u001b[0m                     )\n",
      "\u001b[0;31mMergeError\u001b[0m: No common columns to perform merge on. Merge options: left_on=None, right_on=None, left_index=False, right_index=False"
     ]
    }
   ],
   "source": [
    "amazon['sent_length'] = pd.cut(amazon['word_count'], bins=3, labels=[\n",
    "                               'short_comment', 'mean_length_comment', 'long_comment'])\n",
    "\n",
    "amazon.merge(pd.get_dummies(amazon['sent_length'], on)"
   ]
  },
  {
   "cell_type": "code",
   "execution_count": 665,
   "metadata": {
    "ExecuteTime": {
     "end_time": "2019-12-31T11:44:22.270066Z",
     "start_time": "2019-12-31T11:44:22.264477Z"
    }
   },
   "outputs": [],
   "source": [
    "?pd.get_dummies"
   ]
  },
  {
   "cell_type": "code",
   "execution_count": null,
   "metadata": {},
   "outputs": [],
   "source": []
  },
  {
   "cell_type": "code",
   "execution_count": null,
   "metadata": {},
   "outputs": [],
   "source": []
  },
  {
   "cell_type": "code",
   "execution_count": null,
   "metadata": {},
   "outputs": [],
   "source": []
  },
  {
   "cell_type": "markdown",
   "metadata": {},
   "source": [
    "## Creating model v1"
   ]
  },
  {
   "cell_type": "markdown",
   "metadata": {
    "ExecuteTime": {
     "end_time": "2019-12-31T11:26:27.521103Z",
     "start_time": "2019-12-31T11:26:27.517409Z"
    }
   },
   "source": [
    "Let's start by focussing on the Amazon model."
   ]
  },
  {
   "cell_type": "code",
   "execution_count": 600,
   "metadata": {
    "ExecuteTime": {
     "end_time": "2019-12-31T11:26:45.287116Z",
     "start_time": "2019-12-31T11:26:45.276716Z"
    }
   },
   "outputs": [
    {
     "data": {
      "text/html": [
       "<div>\n",
       "<style scoped>\n",
       "    .dataframe tbody tr th:only-of-type {\n",
       "        vertical-align: middle;\n",
       "    }\n",
       "\n",
       "    .dataframe tbody tr th {\n",
       "        vertical-align: top;\n",
       "    }\n",
       "\n",
       "    .dataframe thead th {\n",
       "        text-align: right;\n",
       "    }\n",
       "</style>\n",
       "<table border=\"1\" class=\"dataframe\">\n",
       "  <thead>\n",
       "    <tr style=\"text-align: right;\">\n",
       "      <th></th>\n",
       "      <th>word_count</th>\n",
       "    </tr>\n",
       "  </thead>\n",
       "  <tbody>\n",
       "    <tr>\n",
       "      <th>0</th>\n",
       "      <td>21</td>\n",
       "    </tr>\n",
       "    <tr>\n",
       "      <th>1</th>\n",
       "      <td>4</td>\n",
       "    </tr>\n",
       "    <tr>\n",
       "      <th>2</th>\n",
       "      <td>4</td>\n",
       "    </tr>\n",
       "    <tr>\n",
       "      <th>3</th>\n",
       "      <td>11</td>\n",
       "    </tr>\n",
       "    <tr>\n",
       "      <th>4</th>\n",
       "      <td>4</td>\n",
       "    </tr>\n",
       "    <tr>\n",
       "      <th>...</th>\n",
       "      <td>...</td>\n",
       "    </tr>\n",
       "    <tr>\n",
       "      <th>995</th>\n",
       "      <td>13</td>\n",
       "    </tr>\n",
       "    <tr>\n",
       "      <th>996</th>\n",
       "      <td>12</td>\n",
       "    </tr>\n",
       "    <tr>\n",
       "      <th>997</th>\n",
       "      <td>5</td>\n",
       "    </tr>\n",
       "    <tr>\n",
       "      <th>998</th>\n",
       "      <td>12</td>\n",
       "    </tr>\n",
       "    <tr>\n",
       "      <th>999</th>\n",
       "      <td>11</td>\n",
       "    </tr>\n",
       "  </tbody>\n",
       "</table>\n",
       "<p>1000 rows × 1 columns</p>\n",
       "</div>"
      ],
      "text/plain": [
       "     word_count\n",
       "0            21\n",
       "1             4\n",
       "2             4\n",
       "3            11\n",
       "4             4\n",
       "..          ...\n",
       "995          13\n",
       "996          12\n",
       "997           5\n",
       "998          12\n",
       "999          11\n",
       "\n",
       "[1000 rows x 1 columns]"
      ]
     },
     "execution_count": 600,
     "metadata": {},
     "output_type": "execute_result"
    }
   ],
   "source": [
    "cols = list(amazon.columns)\n",
    "cols.remove('comment')\n",
    "cols.remove('positive')\n",
    "\n",
    "data_amazon = amazon[cols]\n",
    "target_amazon = amazon['positive']\n",
    "\n",
    "data_amazon"
   ]
  },
  {
   "cell_type": "code",
   "execution_count": 601,
   "metadata": {
    "ExecuteTime": {
     "end_time": "2019-12-31T11:26:48.088722Z",
     "start_time": "2019-12-31T11:26:48.079768Z"
    }
   },
   "outputs": [
    {
     "name": "stdout",
     "output_type": "stream",
     "text": [
      "Number of mislabeled points out of a total 1000 points : 500 or 0.5%\n"
     ]
    }
   ],
   "source": [
    "from sklearn.naive_bayes import BernoulliNB\n",
    "\n",
    "bnb_amazon = BernoulliNB()\n",
    "bnb_amazon.fit(data_amazon, target_amazon)\n",
    "y_pred_amazon = bnb_amazon.predict(data_amazon)\n",
    "\n",
    "print(\"Number of mislabeled points out of a total {} points : {} or {}%\".format(\n",
    "    data_amazon.shape[0], (target_amazon != y_pred_amazon).sum(\n",
    "    ), (target_amazon != y_pred_amazon).sum()/len(y_pred_amazon)\n",
    "))"
   ]
  },
  {
   "cell_type": "markdown",
   "metadata": {},
   "source": [
    "Not a bad start, but surely we can do better. We now do a 75/25 split on the data to get our training and test data."
   ]
  },
  {
   "cell_type": "code",
   "execution_count": 546,
   "metadata": {
    "ExecuteTime": {
     "end_time": "2019-12-31T10:50:58.302765Z",
     "start_time": "2019-12-31T10:50:58.294643Z"
    }
   },
   "outputs": [],
   "source": [
    "from sklearn.model_selection import train_test_split\n",
    "\n",
    "def create_fit_model(website, keywords = None, return_model = False):\n",
    "    \n",
    "    \n",
    "    data = website.copy()\n",
    "    \n",
    "    #Feature engineering\n",
    "    if keywords is not None:\n",
    "        keywords = np.unique(keywords)\n",
    "        for key in keywords:\n",
    "            data[str(key)] = data['comment'].str.contains(str(key) + ' ', case = False) \n",
    "            \n",
    "    #Creating comments\n",
    "    cols = list(data.columns)\n",
    "    cols.remove('comment')\n",
    "    cols.remove('positive')\n",
    "\n",
    "    X = data[cols]\n",
    "    Y = data['positive']\n",
    "    \n",
    "    X_train, X_test, Y_train, Y_test = train_test_split(X, Y, test_size=0.25, random_state = 13, shuffle = True)\n",
    "    \n",
    "    #Creating model\n",
    "    model = BernoulliNB()\n",
    "    model.fit(X_train, Y_train)\n",
    "    \n",
    "    pred = model.predict(X_test)\n",
    "    accuracy = sum(pred == Y_test)/len(Y_test)\n",
    "    \n",
    "    if return_model:\n",
    "        print('Model with {} accuracy is returned.'.format(accuracy))\n",
    "        return model\n",
    "    else:\n",
    "        return accuracy"
   ]
  },
  {
   "cell_type": "markdown",
   "metadata": {
    "ExecuteTime": {
     "end_time": "2019-12-31T07:44:10.694778Z",
     "start_time": "2019-12-31T07:44:10.690996Z"
    }
   },
   "source": [
    "And the original model is..."
   ]
  },
  {
   "cell_type": "code",
   "execution_count": 529,
   "metadata": {
    "ExecuteTime": {
     "end_time": "2019-12-31T10:47:08.128368Z",
     "start_time": "2019-12-31T10:47:08.118358Z"
    }
   },
   "outputs": [
    {
     "data": {
      "text/plain": [
       "0.452"
      ]
     },
     "execution_count": 529,
     "metadata": {},
     "output_type": "execute_result"
    }
   ],
   "source": [
    "create_fit_model(amazon)"
   ]
  },
  {
   "cell_type": "markdown",
   "metadata": {},
   "source": [
    "## Adding new features to the dataset "
   ]
  },
  {
   "cell_type": "markdown",
   "metadata": {},
   "source": [
    "We start out by getting the word counts of the most popular words for positive and negative sentences."
   ]
  },
  {
   "cell_type": "code",
   "execution_count": 538,
   "metadata": {
    "ExecuteTime": {
     "end_time": "2019-12-31T10:49:27.523273Z",
     "start_time": "2019-12-31T10:49:27.435749Z"
    }
   },
   "outputs": [
    {
     "data": {
      "text/html": [
       "<div>\n",
       "<style scoped>\n",
       "    .dataframe tbody tr th:only-of-type {\n",
       "        vertical-align: middle;\n",
       "    }\n",
       "\n",
       "    .dataframe tbody tr th {\n",
       "        vertical-align: top;\n",
       "    }\n",
       "\n",
       "    .dataframe thead th {\n",
       "        text-align: right;\n",
       "    }\n",
       "</style>\n",
       "<table border=\"1\" class=\"dataframe\">\n",
       "  <thead>\n",
       "    <tr style=\"text-align: right;\">\n",
       "      <th></th>\n",
       "      <th>word</th>\n",
       "      <th>pos_count</th>\n",
       "    </tr>\n",
       "  </thead>\n",
       "  <tbody>\n",
       "    <tr>\n",
       "      <th>936</th>\n",
       "      <td>the</td>\n",
       "      <td>237</td>\n",
       "    </tr>\n",
       "    <tr>\n",
       "      <th>53</th>\n",
       "      <td>and</td>\n",
       "      <td>188</td>\n",
       "    </tr>\n",
       "    <tr>\n",
       "      <th>948</th>\n",
       "      <td>this</td>\n",
       "      <td>105</td>\n",
       "    </tr>\n",
       "    <tr>\n",
       "      <th>412</th>\n",
       "      <td>great</td>\n",
       "      <td>93</td>\n",
       "    </tr>\n",
       "    <tr>\n",
       "      <th>678</th>\n",
       "      <td>phone</td>\n",
       "      <td>87</td>\n",
       "    </tr>\n",
       "    <tr>\n",
       "      <th>1013</th>\n",
       "      <td>very</td>\n",
       "      <td>69</td>\n",
       "    </tr>\n",
       "    <tr>\n",
       "      <th>371</th>\n",
       "      <td>for</td>\n",
       "      <td>66</td>\n",
       "    </tr>\n",
       "    <tr>\n",
       "      <th>1059</th>\n",
       "      <td>with</td>\n",
       "      <td>65</td>\n",
       "    </tr>\n",
       "    <tr>\n",
       "      <th>404</th>\n",
       "      <td>good</td>\n",
       "      <td>61</td>\n",
       "    </tr>\n",
       "    <tr>\n",
       "      <th>1067</th>\n",
       "      <td>works</td>\n",
       "      <td>45</td>\n",
       "    </tr>\n",
       "    <tr>\n",
       "      <th>432</th>\n",
       "      <td>have</td>\n",
       "      <td>39</td>\n",
       "    </tr>\n",
       "    <tr>\n",
       "      <th>1027</th>\n",
       "      <td>was</td>\n",
       "      <td>37</td>\n",
       "    </tr>\n",
       "    <tr>\n",
       "      <th>934</th>\n",
       "      <td>that</td>\n",
       "      <td>33</td>\n",
       "    </tr>\n",
       "    <tr>\n",
       "      <th>719</th>\n",
       "      <td>product</td>\n",
       "      <td>33</td>\n",
       "    </tr>\n",
       "    <tr>\n",
       "      <th>1035</th>\n",
       "      <td>well</td>\n",
       "      <td>32</td>\n",
       "    </tr>\n",
       "  </tbody>\n",
       "</table>\n",
       "</div>"
      ],
      "text/plain": [
       "         word  pos_count\n",
       "936       the        237\n",
       "53        and        188\n",
       "948      this        105\n",
       "412     great         93\n",
       "678     phone         87\n",
       "1013     very         69\n",
       "371       for         66\n",
       "1059     with         65\n",
       "404      good         61\n",
       "1067    works         45\n",
       "432      have         39\n",
       "1027      was         37\n",
       "934      that         33\n",
       "719   product         33\n",
       "1035     well         32"
      ]
     },
     "execution_count": 538,
     "metadata": {},
     "output_type": "execute_result"
    }
   ],
   "source": [
    "from collections import Counter\n",
    "from nltk.tokenize import word_tokenize\n",
    "import operator\n",
    "\n",
    "all_positive = ' '.join(amazon['comment'].loc[amazon['positive'] == True])\n",
    "positive_words = word_tokenize(all_positive)\n",
    "positive_words = [w for w in positive_words if len(w) > 2]\n",
    "\n",
    "positive_word_count = dict()\n",
    "counts = Counter(positive_words)\n",
    "\n",
    "for word in np.unique(positive_words):\n",
    "    positive_word_count[word] = sum(counts[i] for i in [word])\n",
    "\n",
    "positive_words_df = pd.DataFrame.from_dict(positive_word_count, orient='index', columns=['pos_count'])\n",
    "positive_words_df.index.rename('word', inplace = True)\n",
    "positive_words_df.reset_index(inplace = True)\n",
    "positive_words_df.sort_values(by = 'pos_count', ascending = False, inplace = True)\n",
    "positive_words_df[:15]"
   ]
  },
  {
   "cell_type": "markdown",
   "metadata": {},
   "source": [
    "And similarly do the same for negative words."
   ]
  },
  {
   "cell_type": "code",
   "execution_count": 539,
   "metadata": {
    "ExecuteTime": {
     "end_time": "2019-12-31T10:49:47.242166Z",
     "start_time": "2019-12-31T10:49:47.153854Z"
    }
   },
   "outputs": [
    {
     "data": {
      "text/html": [
       "<div>\n",
       "<style scoped>\n",
       "    .dataframe tbody tr th:only-of-type {\n",
       "        vertical-align: middle;\n",
       "    }\n",
       "\n",
       "    .dataframe tbody tr th {\n",
       "        vertical-align: top;\n",
       "    }\n",
       "\n",
       "    .dataframe thead th {\n",
       "        text-align: right;\n",
       "    }\n",
       "</style>\n",
       "<table border=\"1\" class=\"dataframe\">\n",
       "  <thead>\n",
       "    <tr style=\"text-align: right;\">\n",
       "      <th></th>\n",
       "      <th>word</th>\n",
       "      <th>neg_count</th>\n",
       "    </tr>\n",
       "  </thead>\n",
       "  <tbody>\n",
       "    <tr>\n",
       "      <th>1057</th>\n",
       "      <td>the</td>\n",
       "      <td>277</td>\n",
       "    </tr>\n",
       "    <tr>\n",
       "      <th>55</th>\n",
       "      <td>and</td>\n",
       "      <td>122</td>\n",
       "    </tr>\n",
       "    <tr>\n",
       "      <th>727</th>\n",
       "      <td>not</td>\n",
       "      <td>106</td>\n",
       "    </tr>\n",
       "    <tr>\n",
       "      <th>1071</th>\n",
       "      <td>this</td>\n",
       "      <td>102</td>\n",
       "    </tr>\n",
       "    <tr>\n",
       "      <th>780</th>\n",
       "      <td>phone</td>\n",
       "      <td>78</td>\n",
       "    </tr>\n",
       "    <tr>\n",
       "      <th>705</th>\n",
       "      <td>n't</td>\n",
       "      <td>58</td>\n",
       "    </tr>\n",
       "    <tr>\n",
       "      <th>1171</th>\n",
       "      <td>was</td>\n",
       "      <td>56</td>\n",
       "    </tr>\n",
       "    <tr>\n",
       "      <th>429</th>\n",
       "      <td>for</td>\n",
       "      <td>55</td>\n",
       "    </tr>\n",
       "    <tr>\n",
       "      <th>1055</th>\n",
       "      <td>that</td>\n",
       "      <td>49</td>\n",
       "    </tr>\n",
       "    <tr>\n",
       "      <th>1233</th>\n",
       "      <td>you</td>\n",
       "      <td>47</td>\n",
       "    </tr>\n",
       "    <tr>\n",
       "      <th>1210</th>\n",
       "      <td>with</td>\n",
       "      <td>47</td>\n",
       "    </tr>\n",
       "    <tr>\n",
       "      <th>489</th>\n",
       "      <td>have</td>\n",
       "      <td>35</td>\n",
       "    </tr>\n",
       "    <tr>\n",
       "      <th>1155</th>\n",
       "      <td>very</td>\n",
       "      <td>34</td>\n",
       "    </tr>\n",
       "    <tr>\n",
       "      <th>316</th>\n",
       "      <td>does</td>\n",
       "      <td>33</td>\n",
       "    </tr>\n",
       "    <tr>\n",
       "      <th>478</th>\n",
       "      <td>had</td>\n",
       "      <td>27</td>\n",
       "    </tr>\n",
       "  </tbody>\n",
       "</table>\n",
       "</div>"
      ],
      "text/plain": [
       "       word  neg_count\n",
       "1057    the        277\n",
       "55      and        122\n",
       "727     not        106\n",
       "1071   this        102\n",
       "780   phone         78\n",
       "705     n't         58\n",
       "1171    was         56\n",
       "429     for         55\n",
       "1055   that         49\n",
       "1233    you         47\n",
       "1210   with         47\n",
       "489    have         35\n",
       "1155   very         34\n",
       "316    does         33\n",
       "478     had         27"
      ]
     },
     "execution_count": 539,
     "metadata": {},
     "output_type": "execute_result"
    }
   ],
   "source": [
    "all_negative = ' '.join(amazon['comment'].loc[amazon['positive'] != True])\n",
    "negative_words = word_tokenize(all_negative)\n",
    "negative_words = [w for w in negative_words if len(w) > 2]\n",
    "\n",
    "negative_word_count = dict()\n",
    "counts = Counter(negative_words)\n",
    "\n",
    "for word in np.unique(negative_words):\n",
    "    negative_word_count[word] = sum(counts[i] for i in [word])\n",
    "\n",
    "negative_words_df = pd.DataFrame.from_dict(negative_word_count, orient='index', columns=['neg_count'])\n",
    "negative_words_df.index.rename('word', inplace = True)\n",
    "negative_words_df.reset_index(inplace = True)\n",
    "negative_words_df.sort_values(by = 'neg_count', ascending = False, inplace = True)\n",
    "negative_words_df[:15]"
   ]
  },
  {
   "cell_type": "markdown",
   "metadata": {},
   "source": [
    "We now outer merge these dfs to understand what are the unique words."
   ]
  },
  {
   "cell_type": "code",
   "execution_count": 559,
   "metadata": {
    "ExecuteTime": {
     "end_time": "2019-12-31T10:58:38.817747Z",
     "start_time": "2019-12-31T10:58:38.806678Z"
    }
   },
   "outputs": [],
   "source": [
    "all_words = positive_words_df.merge(negative_words_df, on='word', how='outer')\n",
    "all_words.fillna(0, inplace=True)\n",
    "all_words['sentiment_score'] = (all_words['pos_count'] - all_words['neg_count'])\n",
    "\n",
    "all_words.sort_values(by='sentiment_score', inplace=True)"
   ]
  },
  {
   "cell_type": "markdown",
   "metadata": {},
   "source": [
    "We build our keyword set using the top 'n' values of the words with the highest and lowest keywords."
   ]
  },
  {
   "cell_type": "code",
   "execution_count": 560,
   "metadata": {
    "ExecuteTime": {
     "end_time": "2019-12-31T10:58:41.751889Z",
     "start_time": "2019-12-31T10:58:41.740193Z"
    }
   },
   "outputs": [
    {
     "data": {
      "text/html": [
       "<div>\n",
       "<style scoped>\n",
       "    .dataframe tbody tr th:only-of-type {\n",
       "        vertical-align: middle;\n",
       "    }\n",
       "\n",
       "    .dataframe tbody tr th {\n",
       "        vertical-align: top;\n",
       "    }\n",
       "\n",
       "    .dataframe thead th {\n",
       "        text-align: right;\n",
       "    }\n",
       "</style>\n",
       "<table border=\"1\" class=\"dataframe\">\n",
       "  <thead>\n",
       "    <tr style=\"text-align: right;\">\n",
       "      <th></th>\n",
       "      <th>word</th>\n",
       "      <th>pos_count</th>\n",
       "      <th>neg_count</th>\n",
       "      <th>sentiment_score</th>\n",
       "    </tr>\n",
       "  </thead>\n",
       "  <tbody>\n",
       "    <tr>\n",
       "      <th>40</th>\n",
       "      <td>not</td>\n",
       "      <td>16.0</td>\n",
       "      <td>106.0</td>\n",
       "      <td>-90.0</td>\n",
       "    </tr>\n",
       "    <tr>\n",
       "      <th>0</th>\n",
       "      <td>the</td>\n",
       "      <td>237.0</td>\n",
       "      <td>277.0</td>\n",
       "      <td>-40.0</td>\n",
       "    </tr>\n",
       "    <tr>\n",
       "      <th>36</th>\n",
       "      <td>n't</td>\n",
       "      <td>18.0</td>\n",
       "      <td>58.0</td>\n",
       "      <td>-40.0</td>\n",
       "    </tr>\n",
       "    <tr>\n",
       "      <th>69</th>\n",
       "      <td>does</td>\n",
       "      <td>9.0</td>\n",
       "      <td>33.0</td>\n",
       "      <td>-24.0</td>\n",
       "    </tr>\n",
       "    <tr>\n",
       "      <th>20</th>\n",
       "      <td>you</td>\n",
       "      <td>24.0</td>\n",
       "      <td>47.0</td>\n",
       "      <td>-23.0</td>\n",
       "    </tr>\n",
       "    <tr>\n",
       "      <th>...</th>\n",
       "      <td>...</td>\n",
       "      <td>...</td>\n",
       "      <td>...</td>\n",
       "      <td>...</td>\n",
       "    </tr>\n",
       "    <tr>\n",
       "      <th>5</th>\n",
       "      <td>very</td>\n",
       "      <td>69.0</td>\n",
       "      <td>34.0</td>\n",
       "      <td>35.0</td>\n",
       "    </tr>\n",
       "    <tr>\n",
       "      <th>9</th>\n",
       "      <td>works</td>\n",
       "      <td>45.0</td>\n",
       "      <td>1.0</td>\n",
       "      <td>44.0</td>\n",
       "    </tr>\n",
       "    <tr>\n",
       "      <th>8</th>\n",
       "      <td>good</td>\n",
       "      <td>61.0</td>\n",
       "      <td>13.0</td>\n",
       "      <td>48.0</td>\n",
       "    </tr>\n",
       "    <tr>\n",
       "      <th>1</th>\n",
       "      <td>and</td>\n",
       "      <td>188.0</td>\n",
       "      <td>122.0</td>\n",
       "      <td>66.0</td>\n",
       "    </tr>\n",
       "    <tr>\n",
       "      <th>3</th>\n",
       "      <td>great</td>\n",
       "      <td>93.0</td>\n",
       "      <td>5.0</td>\n",
       "      <td>88.0</td>\n",
       "    </tr>\n",
       "  </tbody>\n",
       "</table>\n",
       "<p>1840 rows × 4 columns</p>\n",
       "</div>"
      ],
      "text/plain": [
       "     word  pos_count  neg_count  sentiment_score\n",
       "40    not       16.0      106.0            -90.0\n",
       "0     the      237.0      277.0            -40.0\n",
       "36    n't       18.0       58.0            -40.0\n",
       "69   does        9.0       33.0            -24.0\n",
       "20    you       24.0       47.0            -23.0\n",
       "..    ...        ...        ...              ...\n",
       "5    very       69.0       34.0             35.0\n",
       "9   works       45.0        1.0             44.0\n",
       "8    good       61.0       13.0             48.0\n",
       "1     and      188.0      122.0             66.0\n",
       "3   great       93.0        5.0             88.0\n",
       "\n",
       "[1840 rows x 4 columns]"
      ]
     },
     "execution_count": 560,
     "metadata": {},
     "output_type": "execute_result"
    }
   ],
   "source": [
    "all_words"
   ]
  },
  {
   "cell_type": "code",
   "execution_count": 561,
   "metadata": {
    "ExecuteTime": {
     "end_time": "2019-12-31T10:59:03.572242Z",
     "start_time": "2019-12-31T10:59:03.567237Z"
    }
   },
   "outputs": [
    {
     "data": {
      "text/plain": [
       "40        not\n",
       "0         the\n",
       "36        n't\n",
       "69       does\n",
       "20        you\n",
       "11        was\n",
       "898     money\n",
       "71       work\n",
       "88        ...\n",
       "12       that\n",
       "1082     poor\n",
       "116     after\n",
       "1085      bad\n",
       "1084    worst\n",
       "1083    waste\n",
       "Name: word, dtype: object"
      ]
     },
     "execution_count": 561,
     "metadata": {},
     "output_type": "execute_result"
    }
   ],
   "source": [
    "all_words['word'][:15]"
   ]
  },
  {
   "cell_type": "code",
   "execution_count": 562,
   "metadata": {
    "ExecuteTime": {
     "end_time": "2019-12-31T10:59:11.293646Z",
     "start_time": "2019-12-31T10:59:11.288395Z"
    }
   },
   "outputs": [
    {
     "data": {
      "text/plain": [
       "15      quality\n",
       "32    recommend\n",
       "21          has\n",
       "7          with\n",
       "28         best\n",
       "31         love\n",
       "24         nice\n",
       "19        price\n",
       "18    excellent\n",
       "14         well\n",
       "5          very\n",
       "9         works\n",
       "8          good\n",
       "1           and\n",
       "3         great\n",
       "Name: word, dtype: object"
      ]
     },
     "execution_count": 562,
     "metadata": {},
     "output_type": "execute_result"
    }
   ],
   "source": [
    "all_words['word'][-15:]"
   ]
  },
  {
   "cell_type": "code",
   "execution_count": 544,
   "metadata": {
    "ExecuteTime": {
     "end_time": "2019-12-31T10:50:37.567335Z",
     "start_time": "2019-12-31T10:50:37.562852Z"
    }
   },
   "outputs": [],
   "source": [
    "def keyword_builder(n_pos, n_neg):\n",
    "    \n",
    "    positive_key_words, negative_key_words = [], []\n",
    "    \n",
    "    if n_pos > 0:\n",
    "        positive_key_words = list(all_words['word'][-n_pos:].values)\n",
    "        \n",
    "    if n_neg > 0:\n",
    "        negative_key_words = list(all_words['word'][:n_neg].values)\n",
    "    \n",
    "    keywords = positive_key_words + negative_key_words\n",
    "    \n",
    "    return keywords"
   ]
  },
  {
   "cell_type": "code",
   "execution_count": 563,
   "metadata": {
    "ExecuteTime": {
     "end_time": "2019-12-31T10:59:19.619874Z",
     "start_time": "2019-12-31T10:59:19.566511Z"
    }
   },
   "outputs": [
    {
     "data": {
      "text/plain": [
       "0.624"
      ]
     },
     "execution_count": 563,
     "metadata": {},
     "output_type": "execute_result"
    }
   ],
   "source": [
    "keywords_amazon = keyword_builder(9, 9)\n",
    "\n",
    "create_fit_model(amazon, keywords_amazon)"
   ]
  },
  {
   "cell_type": "code",
   "execution_count": 564,
   "metadata": {
    "ExecuteTime": {
     "end_time": "2019-12-31T10:59:46.413347Z",
     "start_time": "2019-12-31T10:59:21.874532Z"
    }
   },
   "outputs": [
    {
     "name": "stdout",
     "output_type": "stream",
     "text": [
      "Accuracy: 0.656 (n_pos = 10, n_neg = 10)\n",
      "Accuracy: 0.728 (n_pos = 20, n_neg = 20)\n",
      "Accuracy: 0.724 (n_pos = 30, n_neg = 30)\n",
      "Accuracy: 0.728 (n_pos = 40, n_neg = 40)\n",
      "Accuracy: 0.748 (n_pos = 50, n_neg = 50)\n",
      "Accuracy: 0.764 (n_pos = 60, n_neg = 60)\n",
      "Accuracy: 0.768 (n_pos = 70, n_neg = 70)\n",
      "Accuracy: 0.768 (n_pos = 80, n_neg = 80)\n",
      "Accuracy: 0.768 (n_pos = 90, n_neg = 90)\n",
      "Accuracy: 0.776 (n_pos = 100, n_neg = 100)\n",
      "Accuracy: 0.776 (n_pos = 110, n_neg = 110)\n"
     ]
    }
   ],
   "source": [
    "accuracy_dict_all = dict()\n",
    "\n",
    "for i in range(1, 120):\n",
    "    accuracy_dict[i] = create_fit_model(amazon, keyword_builder(i, i))\n",
    "    \n",
    "    if i % 10 == 0:\n",
    "        print('Accuracy: {} (n_pos = {}, n_neg = {})'.format(accuracy_dict[i], i, i))"
   ]
  },
  {
   "cell_type": "code",
   "execution_count": 565,
   "metadata": {
    "ExecuteTime": {
     "end_time": "2019-12-31T11:00:02.103855Z",
     "start_time": "2019-12-31T10:59:49.694288Z"
    }
   },
   "outputs": [
    {
     "name": "stdout",
     "output_type": "stream",
     "text": [
      "Accuracy: 0.64 (n_pos = 10, n_neg = 0)\n",
      "Accuracy: 0.704 (n_pos = 20, n_neg = 0)\n",
      "Accuracy: 0.692 (n_pos = 30, n_neg = 0)\n",
      "Accuracy: 0.696 (n_pos = 40, n_neg = 0)\n",
      "Accuracy: 0.704 (n_pos = 50, n_neg = 0)\n",
      "Accuracy: 0.696 (n_pos = 60, n_neg = 0)\n",
      "Accuracy: 0.708 (n_pos = 70, n_neg = 0)\n",
      "Accuracy: 0.704 (n_pos = 80, n_neg = 0)\n",
      "Accuracy: 0.692 (n_pos = 90, n_neg = 0)\n",
      "Accuracy: 0.708 (n_pos = 100, n_neg = 0)\n",
      "Accuracy: 0.704 (n_pos = 110, n_neg = 0)\n"
     ]
    }
   ],
   "source": [
    "accuracy_dict_only_pos = dict()\n",
    "\n",
    "for i in range(1, 120):\n",
    "    accuracy_dict_only_pos[i] = create_fit_model(amazon, keyword_builder(i, 0))\n",
    "    \n",
    "    if i % 10 == 0:\n",
    "        print('Accuracy: {} (n_pos = {}, n_neg = {})'.format(accuracy_dict_only_pos[i], i, 0))"
   ]
  },
  {
   "cell_type": "code",
   "execution_count": 566,
   "metadata": {
    "ExecuteTime": {
     "end_time": "2019-12-31T11:00:17.161493Z",
     "start_time": "2019-12-31T11:00:04.067574Z"
    }
   },
   "outputs": [
    {
     "name": "stdout",
     "output_type": "stream",
     "text": [
      "Accuracy: 0.632 (n_pos = 0, n_neg = 10)\n",
      "Accuracy: 0.688 (n_pos = 0, n_neg = 20)\n",
      "Accuracy: 0.716 (n_pos = 0, n_neg = 30)\n",
      "Accuracy: 0.732 (n_pos = 0, n_neg = 40)\n",
      "Accuracy: 0.744 (n_pos = 0, n_neg = 50)\n",
      "Accuracy: 0.736 (n_pos = 0, n_neg = 60)\n",
      "Accuracy: 0.736 (n_pos = 0, n_neg = 70)\n",
      "Accuracy: 0.724 (n_pos = 0, n_neg = 80)\n",
      "Accuracy: 0.728 (n_pos = 0, n_neg = 90)\n",
      "Accuracy: 0.736 (n_pos = 0, n_neg = 100)\n",
      "Accuracy: 0.72 (n_pos = 0, n_neg = 110)\n"
     ]
    }
   ],
   "source": [
    "accuracy_dict_only_neg = dict()\n",
    "\n",
    "for i in range(1, 120):\n",
    "    accuracy_dict_only_neg[i] = create_fit_model(amazon, keyword_builder(0, i))\n",
    "    \n",
    "    if i % 10 == 0:\n",
    "        print('Accuracy: {} (n_pos = {}, n_neg = {})'.format(accuracy_dict_only_neg[i], 0, i))"
   ]
  },
  {
   "cell_type": "code",
   "execution_count": 567,
   "metadata": {
    "ExecuteTime": {
     "end_time": "2019-12-31T11:00:20.478641Z",
     "start_time": "2019-12-31T11:00:20.213306Z"
    }
   },
   "outputs": [
    {
     "data": {
      "image/png": "[encoded data removed]",
      "text/plain": [
       "<Figure size 576x360 with 1 Axes>"
      ]
     },
     "metadata": {
      "needs_background": "light"
     },
     "output_type": "display_data"
    }
   ],
   "source": [
    "plt.figure(figsize= (8, 5))\n",
    "\n",
    "x, y = zip(*accuracy_dict.items())\n",
    "plt.plot(x, y, label = 'positive and negative words')\n",
    "\n",
    "x_pos, y_pos = zip(*accuracy_dict_only_pos.items())\n",
    "plt.plot(x_pos, y_pos, label = 'only positive words')\n",
    "\n",
    "x_neg, y_neg = zip(*accuracy_dict_only_neg.items())\n",
    "plt.plot(x_neg, y_neg, label = 'only negative words')\n",
    "\n",
    "plt.legend()\n",
    "plt.grid()\n",
    "plt.ylabel('Accuracy on the test datasets')\n",
    "plt.xlabel('Number of words used')\n",
    "plt.show()"
   ]
  },
  {
   "cell_type": "markdown",
   "metadata": {},
   "source": [
    "We notice that the 75% accuracy is broken around the ~50 positive and 50 negative word mark, and as such, we will use that as our best model."
   ]
  },
  {
   "cell_type": "code",
   "execution_count": 568,
   "metadata": {
    "ExecuteTime": {
     "end_time": "2019-12-31T11:01:23.316233Z",
     "start_time": "2019-12-31T11:01:23.079706Z"
    }
   },
   "outputs": [
    {
     "name": "stdout",
     "output_type": "stream",
     "text": [
      "Model with 0.748 accuracy is returned.\n"
     ]
    }
   ],
   "source": [
    "model_v2 = create_fit_model(amazon, keyword_builder(50, 50), return_model=True)"
   ]
  },
  {
   "cell_type": "markdown",
   "metadata": {},
   "source": [
    "We now experiment with `n_pos` and `n_neg` values around i = 50 to further fine-tune the model. Our goal is to find the least number of words that provide at least 75% sentiment prediction."
   ]
  },
  {
   "cell_type": "code",
   "execution_count": 573,
   "metadata": {
    "ExecuteTime": {
     "end_time": "2019-12-31T11:09:44.620502Z",
     "start_time": "2019-12-31T11:08:07.573423Z"
    },
    "scrolled": true
   },
   "outputs": [
    {
     "name": "stdout",
     "output_type": "stream",
     "text": [
      "Accuracy: 0.752 (n_pos = 35, n_neg = 58, word_sum = 93) **\n",
      "Accuracy: 0.76 (n_pos = 36, n_neg = 58, word_sum = 94)\n",
      "Accuracy: 0.756 (n_pos = 36, n_neg = 59, word_sum = 95)\n",
      "Accuracy: 0.752 (n_pos = 37, n_neg = 58, word_sum = 95)\n",
      "Accuracy: 0.752 (n_pos = 37, n_neg = 59, word_sum = 96)\n",
      "Accuracy: 0.752 (n_pos = 46, n_neg = 47, word_sum = 93)\n",
      "Accuracy: 0.752 (n_pos = 49, n_neg = 37, word_sum = 86) **\n",
      "Accuracy: 0.752 (n_pos = 49, n_neg = 38, word_sum = 87)\n",
      "Accuracy: 0.752 (n_pos = 49, n_neg = 45, word_sum = 94)\n",
      "Accuracy: 0.752 (n_pos = 49, n_neg = 46, word_sum = 95)\n",
      "Accuracy: 0.756 (n_pos = 49, n_neg = 47, word_sum = 96)\n",
      "Accuracy: 0.752 (n_pos = 49, n_neg = 48, word_sum = 97)\n",
      "Accuracy: 0.752 (n_pos = 50, n_neg = 38, word_sum = 88)\n",
      "Accuracy: 0.752 (n_pos = 50, n_neg = 45, word_sum = 95)\n",
      "Accuracy: 0.752 (n_pos = 50, n_neg = 46, word_sum = 96)\n",
      "Accuracy: 0.756 (n_pos = 50, n_neg = 47, word_sum = 97)\n",
      "Accuracy: 0.752 (n_pos = 50, n_neg = 48, word_sum = 98)\n",
      "Accuracy: 0.752 (n_pos = 51, n_neg = 38, word_sum = 89)\n",
      "Accuracy: 0.752 (n_pos = 51, n_neg = 39, word_sum = 90)\n",
      "Accuracy: 0.752 (n_pos = 51, n_neg = 45, word_sum = 96)\n",
      "Accuracy: 0.752 (n_pos = 51, n_neg = 46, word_sum = 97)\n",
      "Accuracy: 0.756 (n_pos = 51, n_neg = 47, word_sum = 98)\n",
      "Accuracy: 0.752 (n_pos = 51, n_neg = 48, word_sum = 99)\n",
      "Accuracy: 0.752 (n_pos = 52, n_neg = 39, word_sum = 91)\n",
      "Accuracy: 0.756 (n_pos = 52, n_neg = 40, word_sum = 92)\n",
      "Accuracy: 0.752 (n_pos = 52, n_neg = 45, word_sum = 97)\n",
      "Accuracy: 0.752 (n_pos = 52, n_neg = 46, word_sum = 98)\n",
      "Accuracy: 0.756 (n_pos = 52, n_neg = 47, word_sum = 99)\n",
      "Accuracy: 0.756 (n_pos = 52, n_neg = 48, word_sum = 100)\n",
      "Accuracy: 0.752 (n_pos = 53, n_neg = 39, word_sum = 92)\n",
      "Accuracy: 0.756 (n_pos = 53, n_neg = 40, word_sum = 93)\n",
      "Accuracy: 0.752 (n_pos = 53, n_neg = 41, word_sum = 94)\n",
      "Accuracy: 0.752 (n_pos = 53, n_neg = 42, word_sum = 95)\n",
      "Accuracy: 0.752 (n_pos = 53, n_neg = 43, word_sum = 96)\n",
      "Accuracy: 0.752 (n_pos = 53, n_neg = 44, word_sum = 97)\n",
      "Accuracy: 0.756 (n_pos = 53, n_neg = 45, word_sum = 98)\n",
      "Accuracy: 0.756 (n_pos = 53, n_neg = 46, word_sum = 99)\n",
      "Accuracy: 0.756 (n_pos = 53, n_neg = 47, word_sum = 100)\n",
      "Accuracy: 0.752 (n_pos = 54, n_neg = 40, word_sum = 94)\n",
      "Accuracy: 0.752 (n_pos = 54, n_neg = 41, word_sum = 95)\n",
      "Accuracy: 0.752 (n_pos = 54, n_neg = 42, word_sum = 96)\n",
      "Accuracy: 0.752 (n_pos = 54, n_neg = 45, word_sum = 99)\n",
      "Accuracy: 0.752 (n_pos = 54, n_neg = 46, word_sum = 100)\n",
      "Accuracy: 0.752 (n_pos = 55, n_neg = 35, word_sum = 90)\n",
      "Accuracy: 0.752 (n_pos = 55, n_neg = 36, word_sum = 91)\n",
      "Accuracy: 0.756 (n_pos = 55, n_neg = 37, word_sum = 92)\n",
      "Accuracy: 0.752 (n_pos = 55, n_neg = 40, word_sum = 95)\n",
      "Accuracy: 0.756 (n_pos = 55, n_neg = 41, word_sum = 96)\n",
      "Accuracy: 0.756 (n_pos = 55, n_neg = 42, word_sum = 97)\n",
      "Accuracy: 0.756 (n_pos = 55, n_neg = 43, word_sum = 98)\n",
      "Accuracy: 0.752 (n_pos = 55, n_neg = 44, word_sum = 99)\n",
      "Accuracy: 0.756 (n_pos = 55, n_neg = 45, word_sum = 100)\n",
      "Accuracy: 0.756 (n_pos = 56, n_neg = 35, word_sum = 91)\n",
      "Accuracy: 0.756 (n_pos = 56, n_neg = 36, word_sum = 92)\n",
      "Accuracy: 0.76 (n_pos = 56, n_neg = 37, word_sum = 93)\n",
      "Accuracy: 0.756 (n_pos = 56, n_neg = 38, word_sum = 94)\n",
      "Accuracy: 0.752 (n_pos = 56, n_neg = 39, word_sum = 95)\n",
      "Accuracy: 0.756 (n_pos = 56, n_neg = 40, word_sum = 96)\n",
      "Accuracy: 0.76 (n_pos = 56, n_neg = 41, word_sum = 97)\n",
      "Accuracy: 0.76 (n_pos = 56, n_neg = 42, word_sum = 98)\n",
      "Accuracy: 0.76 (n_pos = 56, n_neg = 43, word_sum = 99)\n",
      "Accuracy: 0.76 (n_pos = 56, n_neg = 44, word_sum = 100)\n",
      "Accuracy: 0.756 (n_pos = 57, n_neg = 35, word_sum = 92)\n",
      "Accuracy: 0.756 (n_pos = 57, n_neg = 36, word_sum = 93)\n",
      "Accuracy: 0.76 (n_pos = 57, n_neg = 37, word_sum = 94)\n",
      "Accuracy: 0.76 (n_pos = 57, n_neg = 38, word_sum = 95)\n",
      "Accuracy: 0.756 (n_pos = 57, n_neg = 39, word_sum = 96)\n",
      "Accuracy: 0.756 (n_pos = 57, n_neg = 40, word_sum = 97)\n",
      "Accuracy: 0.756 (n_pos = 57, n_neg = 41, word_sum = 98)\n",
      "Accuracy: 0.76 (n_pos = 57, n_neg = 42, word_sum = 99)\n",
      "Accuracy: 0.76 (n_pos = 57, n_neg = 43, word_sum = 100)\n",
      "Accuracy: 0.76 (n_pos = 58, n_neg = 35, word_sum = 93)\n",
      "Accuracy: 0.76 (n_pos = 58, n_neg = 36, word_sum = 94)\n",
      "Accuracy: 0.764 (n_pos = 58, n_neg = 37, word_sum = 95)\n",
      "Accuracy: 0.764 (n_pos = 58, n_neg = 38, word_sum = 96)\n",
      "Accuracy: 0.76 (n_pos = 58, n_neg = 39, word_sum = 97)\n",
      "Accuracy: 0.76 (n_pos = 58, n_neg = 40, word_sum = 98)\n",
      "Accuracy: 0.76 (n_pos = 58, n_neg = 41, word_sum = 99)\n",
      "Accuracy: 0.764 (n_pos = 58, n_neg = 42, word_sum = 100)\n",
      "Accuracy: 0.756 (n_pos = 59, n_neg = 35, word_sum = 94)\n",
      "Accuracy: 0.76 (n_pos = 59, n_neg = 36, word_sum = 95)\n",
      "Accuracy: 0.764 (n_pos = 59, n_neg = 37, word_sum = 96)\n",
      "Accuracy: 0.764 (n_pos = 59, n_neg = 38, word_sum = 97)\n",
      "Accuracy: 0.764 (n_pos = 59, n_neg = 39, word_sum = 98)\n",
      "Accuracy: 0.76 (n_pos = 59, n_neg = 40, word_sum = 99)\n",
      "Accuracy: 0.76 (n_pos = 59, n_neg = 41, word_sum = 100)\n"
     ]
    }
   ],
   "source": [
    "accuracy_to_beat = 0.75\n",
    "\n",
    "sum_to_beat = 100\n",
    "lowest_so_far = 100\n",
    "\n",
    "accuracy_dict_fine_tune = dict()\n",
    "\n",
    "for i in range(35, 60):\n",
    "    for j in range(35, 60):\n",
    "        if i + j >= 90:\n",
    "            pass\n",
    "        \n",
    "        accuracy = create_fit_model(amazon, keyword_builder(i, j)) \n",
    "        word_sum = i + j\n",
    "        \n",
    "        if accuracy > accuracy_to_beat and word_sum <= sum_to_beat:    \n",
    "            accuracy_dict_fine_tune[i, j] = accuracy\n",
    "            \n",
    "            if word_sum < lowest_so_far:\n",
    "                lowest_so_far = word_sum\n",
    "                print('Accuracy: {} (n_pos = {}, n_neg = {}, word_sum = {}) **'.format(accuracy, i, j, word_sum))\n",
    "            else:\n",
    "                print('Accuracy: {} (n_pos = {}, n_neg = {}, word_sum = {})'.format(accuracy, i, j, word_sum))"
   ]
  },
  {
   "cell_type": "markdown",
   "metadata": {},
   "source": [
    "We notice that n_pos = 49 and n_neg = 37 are provide the lowest possible number of keywords that predict the sentiment with at least 75% prediction accuracy. These are the following words:"
   ]
  },
  {
   "cell_type": "code",
   "execution_count": 579,
   "metadata": {
    "ExecuteTime": {
     "end_time": "2019-12-31T11:11:09.763798Z",
     "start_time": "2019-12-31T11:11:09.745993Z"
    }
   },
   "outputs": [
    {
     "data": {
      "text/html": [
       "<div>\n",
       "<style scoped>\n",
       "    .dataframe tbody tr th:only-of-type {\n",
       "        vertical-align: middle;\n",
       "    }\n",
       "\n",
       "    .dataframe tbody tr th {\n",
       "        vertical-align: top;\n",
       "    }\n",
       "\n",
       "    .dataframe thead th {\n",
       "        text-align: right;\n",
       "    }\n",
       "</style>\n",
       "<table border=\"1\" class=\"dataframe\">\n",
       "  <thead>\n",
       "    <tr style=\"text-align: right;\">\n",
       "      <th></th>\n",
       "      <th>word</th>\n",
       "      <th>pos_count</th>\n",
       "      <th>neg_count</th>\n",
       "      <th>sentiment_score</th>\n",
       "    </tr>\n",
       "  </thead>\n",
       "  <tbody>\n",
       "    <tr>\n",
       "      <th>3</th>\n",
       "      <td>great</td>\n",
       "      <td>93.0</td>\n",
       "      <td>5.0</td>\n",
       "      <td>88.0</td>\n",
       "    </tr>\n",
       "    <tr>\n",
       "      <th>1</th>\n",
       "      <td>and</td>\n",
       "      <td>188.0</td>\n",
       "      <td>122.0</td>\n",
       "      <td>66.0</td>\n",
       "    </tr>\n",
       "    <tr>\n",
       "      <th>8</th>\n",
       "      <td>good</td>\n",
       "      <td>61.0</td>\n",
       "      <td>13.0</td>\n",
       "      <td>48.0</td>\n",
       "    </tr>\n",
       "    <tr>\n",
       "      <th>9</th>\n",
       "      <td>works</td>\n",
       "      <td>45.0</td>\n",
       "      <td>1.0</td>\n",
       "      <td>44.0</td>\n",
       "    </tr>\n",
       "    <tr>\n",
       "      <th>5</th>\n",
       "      <td>very</td>\n",
       "      <td>69.0</td>\n",
       "      <td>34.0</td>\n",
       "      <td>35.0</td>\n",
       "    </tr>\n",
       "    <tr>\n",
       "      <th>14</th>\n",
       "      <td>well</td>\n",
       "      <td>32.0</td>\n",
       "      <td>6.0</td>\n",
       "      <td>26.0</td>\n",
       "    </tr>\n",
       "    <tr>\n",
       "      <th>18</th>\n",
       "      <td>excellent</td>\n",
       "      <td>26.0</td>\n",
       "      <td>1.0</td>\n",
       "      <td>25.0</td>\n",
       "    </tr>\n",
       "    <tr>\n",
       "      <th>19</th>\n",
       "      <td>price</td>\n",
       "      <td>25.0</td>\n",
       "      <td>2.0</td>\n",
       "      <td>23.0</td>\n",
       "    </tr>\n",
       "    <tr>\n",
       "      <th>24</th>\n",
       "      <td>nice</td>\n",
       "      <td>22.0</td>\n",
       "      <td>0.0</td>\n",
       "      <td>22.0</td>\n",
       "    </tr>\n",
       "    <tr>\n",
       "      <th>31</th>\n",
       "      <td>love</td>\n",
       "      <td>20.0</td>\n",
       "      <td>0.0</td>\n",
       "      <td>20.0</td>\n",
       "    </tr>\n",
       "    <tr>\n",
       "      <th>28</th>\n",
       "      <td>best</td>\n",
       "      <td>21.0</td>\n",
       "      <td>2.0</td>\n",
       "      <td>19.0</td>\n",
       "    </tr>\n",
       "    <tr>\n",
       "      <th>7</th>\n",
       "      <td>with</td>\n",
       "      <td>65.0</td>\n",
       "      <td>47.0</td>\n",
       "      <td>18.0</td>\n",
       "    </tr>\n",
       "    <tr>\n",
       "      <th>21</th>\n",
       "      <td>has</td>\n",
       "      <td>24.0</td>\n",
       "      <td>10.0</td>\n",
       "      <td>14.0</td>\n",
       "    </tr>\n",
       "    <tr>\n",
       "      <th>32</th>\n",
       "      <td>recommend</td>\n",
       "      <td>20.0</td>\n",
       "      <td>6.0</td>\n",
       "      <td>14.0</td>\n",
       "    </tr>\n",
       "    <tr>\n",
       "      <th>15</th>\n",
       "      <td>quality</td>\n",
       "      <td>31.0</td>\n",
       "      <td>18.0</td>\n",
       "      <td>13.0</td>\n",
       "    </tr>\n",
       "    <tr>\n",
       "      <th>16</th>\n",
       "      <td>headset</td>\n",
       "      <td>30.0</td>\n",
       "      <td>17.0</td>\n",
       "      <td>13.0</td>\n",
       "    </tr>\n",
       "    <tr>\n",
       "      <th>17</th>\n",
       "      <td>sound</td>\n",
       "      <td>27.0</td>\n",
       "      <td>14.0</td>\n",
       "      <td>13.0</td>\n",
       "    </tr>\n",
       "    <tr>\n",
       "      <th>45</th>\n",
       "      <td>comfortable</td>\n",
       "      <td>14.0</td>\n",
       "      <td>3.0</td>\n",
       "      <td>11.0</td>\n",
       "    </tr>\n",
       "    <tr>\n",
       "      <th>46</th>\n",
       "      <td>easy</td>\n",
       "      <td>14.0</td>\n",
       "      <td>3.0</td>\n",
       "      <td>11.0</td>\n",
       "    </tr>\n",
       "    <tr>\n",
       "      <th>52</th>\n",
       "      <td>fine</td>\n",
       "      <td>12.0</td>\n",
       "      <td>1.0</td>\n",
       "      <td>11.0</td>\n",
       "    </tr>\n",
       "    <tr>\n",
       "      <th>49</th>\n",
       "      <td>happy</td>\n",
       "      <td>13.0</td>\n",
       "      <td>2.0</td>\n",
       "      <td>11.0</td>\n",
       "    </tr>\n",
       "    <tr>\n",
       "      <th>13</th>\n",
       "      <td>product</td>\n",
       "      <td>33.0</td>\n",
       "      <td>22.0</td>\n",
       "      <td>11.0</td>\n",
       "    </tr>\n",
       "    <tr>\n",
       "      <th>6</th>\n",
       "      <td>for</td>\n",
       "      <td>66.0</td>\n",
       "      <td>55.0</td>\n",
       "      <td>11.0</td>\n",
       "    </tr>\n",
       "    <tr>\n",
       "      <th>34</th>\n",
       "      <td>'ve</td>\n",
       "      <td>19.0</td>\n",
       "      <td>9.0</td>\n",
       "      <td>10.0</td>\n",
       "    </tr>\n",
       "    <tr>\n",
       "      <th>43</th>\n",
       "      <td>any</td>\n",
       "      <td>15.0</td>\n",
       "      <td>5.0</td>\n",
       "      <td>10.0</td>\n",
       "    </tr>\n",
       "    <tr>\n",
       "      <th>33</th>\n",
       "      <td>than</td>\n",
       "      <td>19.0</td>\n",
       "      <td>9.0</td>\n",
       "      <td>10.0</td>\n",
       "    </tr>\n",
       "    <tr>\n",
       "      <th>50</th>\n",
       "      <td>been</td>\n",
       "      <td>12.0</td>\n",
       "      <td>3.0</td>\n",
       "      <td>9.0</td>\n",
       "    </tr>\n",
       "    <tr>\n",
       "      <th>4</th>\n",
       "      <td>phone</td>\n",
       "      <td>87.0</td>\n",
       "      <td>78.0</td>\n",
       "      <td>9.0</td>\n",
       "    </tr>\n",
       "    <tr>\n",
       "      <th>64</th>\n",
       "      <td>fits</td>\n",
       "      <td>10.0</td>\n",
       "      <td>1.0</td>\n",
       "      <td>9.0</td>\n",
       "    </tr>\n",
       "    <tr>\n",
       "      <th>48</th>\n",
       "      <td>bluetooth</td>\n",
       "      <td>13.0</td>\n",
       "      <td>5.0</td>\n",
       "      <td>8.0</td>\n",
       "    </tr>\n",
       "    <tr>\n",
       "      <th>66</th>\n",
       "      <td>clear</td>\n",
       "      <td>10.0</td>\n",
       "      <td>2.0</td>\n",
       "      <td>8.0</td>\n",
       "    </tr>\n",
       "    <tr>\n",
       "      <th>86</th>\n",
       "      <td>highly</td>\n",
       "      <td>8.0</td>\n",
       "      <td>1.0</td>\n",
       "      <td>7.0</td>\n",
       "    </tr>\n",
       "    <tr>\n",
       "      <th>74</th>\n",
       "      <td>working</td>\n",
       "      <td>9.0</td>\n",
       "      <td>2.0</td>\n",
       "      <td>7.0</td>\n",
       "    </tr>\n",
       "    <tr>\n",
       "      <th>77</th>\n",
       "      <td>pretty</td>\n",
       "      <td>8.0</td>\n",
       "      <td>1.0</td>\n",
       "      <td>7.0</td>\n",
       "    </tr>\n",
       "    <tr>\n",
       "      <th>62</th>\n",
       "      <td>device</td>\n",
       "      <td>10.0</td>\n",
       "      <td>3.0</td>\n",
       "      <td>7.0</td>\n",
       "    </tr>\n",
       "    <tr>\n",
       "      <th>63</th>\n",
       "      <td>far</td>\n",
       "      <td>10.0</td>\n",
       "      <td>3.0</td>\n",
       "      <td>7.0</td>\n",
       "    </tr>\n",
       "    <tr>\n",
       "      <th>37</th>\n",
       "      <td>case</td>\n",
       "      <td>18.0</td>\n",
       "      <td>11.0</td>\n",
       "      <td>7.0</td>\n",
       "    </tr>\n",
       "    <tr>\n",
       "      <th>90</th>\n",
       "      <td>years</td>\n",
       "      <td>7.0</td>\n",
       "      <td>1.0</td>\n",
       "      <td>6.0</td>\n",
       "    </tr>\n",
       "    <tr>\n",
       "      <th>65</th>\n",
       "      <td>cell</td>\n",
       "      <td>10.0</td>\n",
       "      <td>4.0</td>\n",
       "      <td>6.0</td>\n",
       "    </tr>\n",
       "    <tr>\n",
       "      <th>97</th>\n",
       "      <td>without</td>\n",
       "      <td>7.0</td>\n",
       "      <td>1.0</td>\n",
       "      <td>6.0</td>\n",
       "    </tr>\n",
       "    <tr>\n",
       "      <th>67</th>\n",
       "      <td>camera</td>\n",
       "      <td>9.0</td>\n",
       "      <td>3.0</td>\n",
       "      <td>6.0</td>\n",
       "    </tr>\n",
       "    <tr>\n",
       "      <th>103</th>\n",
       "      <td>jabra</td>\n",
       "      <td>7.0</td>\n",
       "      <td>1.0</td>\n",
       "      <td>6.0</td>\n",
       "    </tr>\n",
       "    <tr>\n",
       "      <th>118</th>\n",
       "      <td>perfectly</td>\n",
       "      <td>6.0</td>\n",
       "      <td>0.0</td>\n",
       "      <td>6.0</td>\n",
       "    </tr>\n",
       "    <tr>\n",
       "      <th>35</th>\n",
       "      <td>like</td>\n",
       "      <td>18.0</td>\n",
       "      <td>12.0</td>\n",
       "      <td>6.0</td>\n",
       "    </tr>\n",
       "    <tr>\n",
       "      <th>47</th>\n",
       "      <td>these</td>\n",
       "      <td>13.0</td>\n",
       "      <td>7.0</td>\n",
       "      <td>6.0</td>\n",
       "    </tr>\n",
       "    <tr>\n",
       "      <th>22</th>\n",
       "      <td>one</td>\n",
       "      <td>23.0</td>\n",
       "      <td>18.0</td>\n",
       "      <td>5.0</td>\n",
       "    </tr>\n",
       "    <tr>\n",
       "      <th>141</th>\n",
       "      <td>value</td>\n",
       "      <td>5.0</td>\n",
       "      <td>0.0</td>\n",
       "      <td>5.0</td>\n",
       "    </tr>\n",
       "    <tr>\n",
       "      <th>51</th>\n",
       "      <td>better</td>\n",
       "      <td>12.0</td>\n",
       "      <td>7.0</td>\n",
       "      <td>5.0</td>\n",
       "    </tr>\n",
       "    <tr>\n",
       "      <th>137</th>\n",
       "      <td>definitely</td>\n",
       "      <td>5.0</td>\n",
       "      <td>0.0</td>\n",
       "      <td>5.0</td>\n",
       "    </tr>\n",
       "  </tbody>\n",
       "</table>\n",
       "</div>"
      ],
      "text/plain": [
       "            word  pos_count  neg_count  sentiment_score\n",
       "3          great       93.0        5.0             88.0\n",
       "1            and      188.0      122.0             66.0\n",
       "8           good       61.0       13.0             48.0\n",
       "9          works       45.0        1.0             44.0\n",
       "5           very       69.0       34.0             35.0\n",
       "14          well       32.0        6.0             26.0\n",
       "18     excellent       26.0        1.0             25.0\n",
       "19         price       25.0        2.0             23.0\n",
       "24          nice       22.0        0.0             22.0\n",
       "31          love       20.0        0.0             20.0\n",
       "28          best       21.0        2.0             19.0\n",
       "7           with       65.0       47.0             18.0\n",
       "21           has       24.0       10.0             14.0\n",
       "32     recommend       20.0        6.0             14.0\n",
       "15       quality       31.0       18.0             13.0\n",
       "16       headset       30.0       17.0             13.0\n",
       "17         sound       27.0       14.0             13.0\n",
       "45   comfortable       14.0        3.0             11.0\n",
       "46          easy       14.0        3.0             11.0\n",
       "52          fine       12.0        1.0             11.0\n",
       "49         happy       13.0        2.0             11.0\n",
       "13       product       33.0       22.0             11.0\n",
       "6            for       66.0       55.0             11.0\n",
       "34           've       19.0        9.0             10.0\n",
       "43           any       15.0        5.0             10.0\n",
       "33          than       19.0        9.0             10.0\n",
       "50          been       12.0        3.0              9.0\n",
       "4          phone       87.0       78.0              9.0\n",
       "64          fits       10.0        1.0              9.0\n",
       "48     bluetooth       13.0        5.0              8.0\n",
       "66         clear       10.0        2.0              8.0\n",
       "86        highly        8.0        1.0              7.0\n",
       "74       working        9.0        2.0              7.0\n",
       "77        pretty        8.0        1.0              7.0\n",
       "62        device       10.0        3.0              7.0\n",
       "63           far       10.0        3.0              7.0\n",
       "37          case       18.0       11.0              7.0\n",
       "90         years        7.0        1.0              6.0\n",
       "65          cell       10.0        4.0              6.0\n",
       "97       without        7.0        1.0              6.0\n",
       "67        camera        9.0        3.0              6.0\n",
       "103        jabra        7.0        1.0              6.0\n",
       "118    perfectly        6.0        0.0              6.0\n",
       "35          like       18.0       12.0              6.0\n",
       "47         these       13.0        7.0              6.0\n",
       "22           one       23.0       18.0              5.0\n",
       "141        value        5.0        0.0              5.0\n",
       "51        better       12.0        7.0              5.0\n",
       "137   definitely        5.0        0.0              5.0"
      ]
     },
     "execution_count": 579,
     "metadata": {},
     "output_type": "execute_result"
    }
   ],
   "source": [
    "all_words[-49:].sort_values(by = 'sentiment_score', ascending = False)"
   ]
  },
  {
   "cell_type": "code",
   "execution_count": 576,
   "metadata": {
    "ExecuteTime": {
     "end_time": "2019-12-31T11:10:29.820646Z",
     "start_time": "2019-12-31T11:10:29.805993Z"
    }
   },
   "outputs": [
    {
     "data": {
      "text/html": [
       "<div>\n",
       "<style scoped>\n",
       "    .dataframe tbody tr th:only-of-type {\n",
       "        vertical-align: middle;\n",
       "    }\n",
       "\n",
       "    .dataframe tbody tr th {\n",
       "        vertical-align: top;\n",
       "    }\n",
       "\n",
       "    .dataframe thead th {\n",
       "        text-align: right;\n",
       "    }\n",
       "</style>\n",
       "<table border=\"1\" class=\"dataframe\">\n",
       "  <thead>\n",
       "    <tr style=\"text-align: right;\">\n",
       "      <th></th>\n",
       "      <th>word</th>\n",
       "      <th>pos_count</th>\n",
       "      <th>neg_count</th>\n",
       "      <th>sentiment_score</th>\n",
       "    </tr>\n",
       "  </thead>\n",
       "  <tbody>\n",
       "    <tr>\n",
       "      <th>40</th>\n",
       "      <td>not</td>\n",
       "      <td>16.0</td>\n",
       "      <td>106.0</td>\n",
       "      <td>-90.0</td>\n",
       "    </tr>\n",
       "    <tr>\n",
       "      <th>0</th>\n",
       "      <td>the</td>\n",
       "      <td>237.0</td>\n",
       "      <td>277.0</td>\n",
       "      <td>-40.0</td>\n",
       "    </tr>\n",
       "    <tr>\n",
       "      <th>36</th>\n",
       "      <td>n't</td>\n",
       "      <td>18.0</td>\n",
       "      <td>58.0</td>\n",
       "      <td>-40.0</td>\n",
       "    </tr>\n",
       "    <tr>\n",
       "      <th>69</th>\n",
       "      <td>does</td>\n",
       "      <td>9.0</td>\n",
       "      <td>33.0</td>\n",
       "      <td>-24.0</td>\n",
       "    </tr>\n",
       "    <tr>\n",
       "      <th>20</th>\n",
       "      <td>you</td>\n",
       "      <td>24.0</td>\n",
       "      <td>47.0</td>\n",
       "      <td>-23.0</td>\n",
       "    </tr>\n",
       "    <tr>\n",
       "      <th>11</th>\n",
       "      <td>was</td>\n",
       "      <td>37.0</td>\n",
       "      <td>56.0</td>\n",
       "      <td>-19.0</td>\n",
       "    </tr>\n",
       "    <tr>\n",
       "      <th>898</th>\n",
       "      <td>money</td>\n",
       "      <td>1.0</td>\n",
       "      <td>18.0</td>\n",
       "      <td>-17.0</td>\n",
       "    </tr>\n",
       "    <tr>\n",
       "      <th>71</th>\n",
       "      <td>work</td>\n",
       "      <td>9.0</td>\n",
       "      <td>25.0</td>\n",
       "      <td>-16.0</td>\n",
       "    </tr>\n",
       "    <tr>\n",
       "      <th>88</th>\n",
       "      <td>...</td>\n",
       "      <td>7.0</td>\n",
       "      <td>23.0</td>\n",
       "      <td>-16.0</td>\n",
       "    </tr>\n",
       "    <tr>\n",
       "      <th>12</th>\n",
       "      <td>that</td>\n",
       "      <td>33.0</td>\n",
       "      <td>49.0</td>\n",
       "      <td>-16.0</td>\n",
       "    </tr>\n",
       "    <tr>\n",
       "      <th>1082</th>\n",
       "      <td>poor</td>\n",
       "      <td>0.0</td>\n",
       "      <td>15.0</td>\n",
       "      <td>-15.0</td>\n",
       "    </tr>\n",
       "    <tr>\n",
       "      <th>116</th>\n",
       "      <td>after</td>\n",
       "      <td>6.0</td>\n",
       "      <td>21.0</td>\n",
       "      <td>-15.0</td>\n",
       "    </tr>\n",
       "    <tr>\n",
       "      <th>1085</th>\n",
       "      <td>bad</td>\n",
       "      <td>0.0</td>\n",
       "      <td>14.0</td>\n",
       "      <td>-14.0</td>\n",
       "    </tr>\n",
       "    <tr>\n",
       "      <th>1084</th>\n",
       "      <td>worst</td>\n",
       "      <td>0.0</td>\n",
       "      <td>14.0</td>\n",
       "      <td>-14.0</td>\n",
       "    </tr>\n",
       "    <tr>\n",
       "      <th>1083</th>\n",
       "      <td>waste</td>\n",
       "      <td>0.0</td>\n",
       "      <td>14.0</td>\n",
       "      <td>-14.0</td>\n",
       "    </tr>\n",
       "    <tr>\n",
       "      <th>261</th>\n",
       "      <td>first</td>\n",
       "      <td>2.0</td>\n",
       "      <td>15.0</td>\n",
       "      <td>-13.0</td>\n",
       "    </tr>\n",
       "    <tr>\n",
       "      <th>383</th>\n",
       "      <td>then</td>\n",
       "      <td>2.0</td>\n",
       "      <td>15.0</td>\n",
       "      <td>-13.0</td>\n",
       "    </tr>\n",
       "    <tr>\n",
       "      <th>122</th>\n",
       "      <td>out</td>\n",
       "      <td>5.0</td>\n",
       "      <td>17.0</td>\n",
       "      <td>-12.0</td>\n",
       "    </tr>\n",
       "    <tr>\n",
       "      <th>130</th>\n",
       "      <td>only</td>\n",
       "      <td>5.0</td>\n",
       "      <td>17.0</td>\n",
       "      <td>-12.0</td>\n",
       "    </tr>\n",
       "    <tr>\n",
       "      <th>238</th>\n",
       "      <td>what</td>\n",
       "      <td>3.0</td>\n",
       "      <td>14.0</td>\n",
       "      <td>-11.0</td>\n",
       "    </tr>\n",
       "    <tr>\n",
       "      <th>111</th>\n",
       "      <td>did</td>\n",
       "      <td>6.0</td>\n",
       "      <td>17.0</td>\n",
       "      <td>-11.0</td>\n",
       "    </tr>\n",
       "    <tr>\n",
       "      <th>292</th>\n",
       "      <td>off</td>\n",
       "      <td>2.0</td>\n",
       "      <td>12.0</td>\n",
       "      <td>-10.0</td>\n",
       "    </tr>\n",
       "    <tr>\n",
       "      <th>85</th>\n",
       "      <td>could</td>\n",
       "      <td>8.0</td>\n",
       "      <td>18.0</td>\n",
       "      <td>-10.0</td>\n",
       "    </tr>\n",
       "    <tr>\n",
       "      <th>1086</th>\n",
       "      <td>disappointed</td>\n",
       "      <td>0.0</td>\n",
       "      <td>10.0</td>\n",
       "      <td>-10.0</td>\n",
       "    </tr>\n",
       "    <tr>\n",
       "      <th>173</th>\n",
       "      <td>buy</td>\n",
       "      <td>4.0</td>\n",
       "      <td>14.0</td>\n",
       "      <td>-10.0</td>\n",
       "    </tr>\n",
       "    <tr>\n",
       "      <th>297</th>\n",
       "      <td>piece</td>\n",
       "      <td>2.0</td>\n",
       "      <td>11.0</td>\n",
       "      <td>-9.0</td>\n",
       "    </tr>\n",
       "    <tr>\n",
       "      <th>1087</th>\n",
       "      <td>terrible</td>\n",
       "      <td>0.0</td>\n",
       "      <td>9.0</td>\n",
       "      <td>-9.0</td>\n",
       "    </tr>\n",
       "    <tr>\n",
       "      <th>369</th>\n",
       "      <td>calls</td>\n",
       "      <td>2.0</td>\n",
       "      <td>11.0</td>\n",
       "      <td>-9.0</td>\n",
       "    </tr>\n",
       "    <tr>\n",
       "      <th>321</th>\n",
       "      <td>same</td>\n",
       "      <td>2.0</td>\n",
       "      <td>11.0</td>\n",
       "      <td>-9.0</td>\n",
       "    </tr>\n",
       "    <tr>\n",
       "      <th>251</th>\n",
       "      <td>will</td>\n",
       "      <td>3.0</td>\n",
       "      <td>12.0</td>\n",
       "      <td>-9.0</td>\n",
       "    </tr>\n",
       "    <tr>\n",
       "      <th>104</th>\n",
       "      <td>when</td>\n",
       "      <td>7.0</td>\n",
       "      <td>15.0</td>\n",
       "      <td>-8.0</td>\n",
       "    </tr>\n",
       "    <tr>\n",
       "      <th>1090</th>\n",
       "      <td>broke</td>\n",
       "      <td>0.0</td>\n",
       "      <td>8.0</td>\n",
       "      <td>-8.0</td>\n",
       "    </tr>\n",
       "    <tr>\n",
       "      <th>313</th>\n",
       "      <td>hear</td>\n",
       "      <td>2.0</td>\n",
       "      <td>10.0</td>\n",
       "      <td>-8.0</td>\n",
       "    </tr>\n",
       "    <tr>\n",
       "      <th>1088</th>\n",
       "      <td>unit</td>\n",
       "      <td>0.0</td>\n",
       "      <td>8.0</td>\n",
       "      <td>-8.0</td>\n",
       "    </tr>\n",
       "    <tr>\n",
       "      <th>1089</th>\n",
       "      <td>horrible</td>\n",
       "      <td>0.0</td>\n",
       "      <td>8.0</td>\n",
       "      <td>-8.0</td>\n",
       "    </tr>\n",
       "    <tr>\n",
       "      <th>295</th>\n",
       "      <td>plug</td>\n",
       "      <td>2.0</td>\n",
       "      <td>9.0</td>\n",
       "      <td>-7.0</td>\n",
       "    </tr>\n",
       "    <tr>\n",
       "      <th>253</th>\n",
       "      <td>thing</td>\n",
       "      <td>3.0</td>\n",
       "      <td>10.0</td>\n",
       "      <td>-7.0</td>\n",
       "    </tr>\n",
       "  </tbody>\n",
       "</table>\n",
       "</div>"
      ],
      "text/plain": [
       "              word  pos_count  neg_count  sentiment_score\n",
       "40             not       16.0      106.0            -90.0\n",
       "0              the      237.0      277.0            -40.0\n",
       "36             n't       18.0       58.0            -40.0\n",
       "69            does        9.0       33.0            -24.0\n",
       "20             you       24.0       47.0            -23.0\n",
       "11             was       37.0       56.0            -19.0\n",
       "898          money        1.0       18.0            -17.0\n",
       "71            work        9.0       25.0            -16.0\n",
       "88             ...        7.0       23.0            -16.0\n",
       "12            that       33.0       49.0            -16.0\n",
       "1082          poor        0.0       15.0            -15.0\n",
       "116          after        6.0       21.0            -15.0\n",
       "1085           bad        0.0       14.0            -14.0\n",
       "1084         worst        0.0       14.0            -14.0\n",
       "1083         waste        0.0       14.0            -14.0\n",
       "261          first        2.0       15.0            -13.0\n",
       "383           then        2.0       15.0            -13.0\n",
       "122            out        5.0       17.0            -12.0\n",
       "130           only        5.0       17.0            -12.0\n",
       "238           what        3.0       14.0            -11.0\n",
       "111            did        6.0       17.0            -11.0\n",
       "292            off        2.0       12.0            -10.0\n",
       "85           could        8.0       18.0            -10.0\n",
       "1086  disappointed        0.0       10.0            -10.0\n",
       "173            buy        4.0       14.0            -10.0\n",
       "297          piece        2.0       11.0             -9.0\n",
       "1087      terrible        0.0        9.0             -9.0\n",
       "369          calls        2.0       11.0             -9.0\n",
       "321           same        2.0       11.0             -9.0\n",
       "251           will        3.0       12.0             -9.0\n",
       "104           when        7.0       15.0             -8.0\n",
       "1090         broke        0.0        8.0             -8.0\n",
       "313           hear        2.0       10.0             -8.0\n",
       "1088          unit        0.0        8.0             -8.0\n",
       "1089      horrible        0.0        8.0             -8.0\n",
       "295           plug        2.0        9.0             -7.0\n",
       "253          thing        3.0       10.0             -7.0"
      ]
     },
     "execution_count": 576,
     "metadata": {},
     "output_type": "execute_result"
    }
   ],
   "source": [
    "all_words[:37]"
   ]
  },
  {
   "cell_type": "markdown",
   "metadata": {},
   "source": [
    "## Saving the amazon model"
   ]
  },
  {
   "cell_type": "code",
   "execution_count": 581,
   "metadata": {
    "ExecuteTime": {
     "end_time": "2019-12-31T11:20:43.373419Z",
     "start_time": "2019-12-31T11:20:43.179568Z"
    }
   },
   "outputs": [
    {
     "name": "stdout",
     "output_type": "stream",
     "text": [
      "Model with 0.752 accuracy is returned.\n"
     ]
    }
   ],
   "source": [
    "keywords_amazon = keyword_builder(n_pos=49, n_neg=37)\n",
    "\n",
    "final_model_amazon = create_fit_model(\n",
    "    amazon, keywords_amazon, return_model=True)"
   ]
  },
  {
   "cell_type": "markdown",
   "metadata": {},
   "source": [
    "## Testing the Amazon model on the Yelp dataset"
   ]
  },
  {
   "cell_type": "code",
   "execution_count": 593,
   "metadata": {
    "ExecuteTime": {
     "end_time": "2019-12-31T11:24:48.658857Z",
     "start_time": "2019-12-31T11:24:48.458575Z"
    }
   },
   "outputs": [
    {
     "data": {
      "text/plain": [
       "0.498"
      ]
     },
     "execution_count": 593,
     "metadata": {},
     "output_type": "execute_result"
    }
   ],
   "source": [
    "data = yelp.copy()\n",
    "\n",
    "for key in keywords_amazon:\n",
    "    data[str(key)] = data['comment'].str.contains(str(key) + ' ', case = False) \n",
    "            \n",
    "#Creating comments\n",
    "cols = list(data.columns)\n",
    "cols.remove('comment')\n",
    "cols.remove('positive')\n",
    "\n",
    "X_yelp = data[cols]\n",
    "Y_yelp = data['positive']\n",
    "    \n",
    "\n",
    "pred = final_model_amazon.predict(X_yelp)\n",
    "accuracy = sum(pred == Y_yelp)/len(Y_yelp)\n",
    "accuracy"
   ]
  },
  {
   "cell_type": "code",
   "execution_count": null,
   "metadata": {},
   "outputs": [],
   "source": []
  }
 ],
 "metadata": {
  "kernelspec": {
   "display_name": "Python 3",
   "language": "python",
   "name": "python3"
  },
  "language_info": {
   "codemirror_mode": {
    "name": "ipython",
    "version": 3
   },
   "file_extension": ".py",
   "mimetype": "text/x-python",
   "name": "python",
   "nbconvert_exporter": "python",
   "pygments_lexer": "ipython3",
   "version": "3.7.5"
  },
  "toc": {
   "base_numbering": 1,
   "nav_menu": {},
   "number_sections": true,
   "sideBar": true,
   "skip_h1_title": false,
   "title_cell": "Table of Contents",
   "title_sidebar": "Contents",
   "toc_cell": false,
   "toc_position": {},
   "toc_section_display": true,
   "toc_window_display": false
  }
 },
 "nbformat": 4,
 "nbformat_minor": 2
}
