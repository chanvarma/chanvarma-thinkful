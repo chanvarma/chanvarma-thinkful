{
 "cells": [
  {
   "cell_type": "markdown",
   "metadata": {
    "toc": true
   },
   "source": [
    "<h1>Table of Contents<span class=\"tocSkip\"></span></h1>\n",
    "<div class=\"toc\"><ul class=\"toc-item\"></ul></div>"
   ]
  },
  {
   "cell_type": "code",
   "execution_count": 1,
   "metadata": {
    "ExecuteTime": {
     "end_time": "2019-08-19T23:34:15.559941Z",
     "start_time": "2019-08-19T23:34:06.424309Z"
    }
   },
   "outputs": [],
   "source": [
    "import pandas as pd\n",
    "import re"
   ]
  },
  {
   "cell_type": "code",
   "execution_count": 171,
   "metadata": {
    "ExecuteTime": {
     "end_time": "2019-08-20T00:28:50.547856Z",
     "start_time": "2019-08-20T00:28:50.544241Z"
    }
   },
   "outputs": [],
   "source": [
    "pd.set_option('display.max_rows', 100)"
   ]
  },
  {
   "cell_type": "markdown",
   "metadata": {},
   "source": [
    "Worth noting that default `utf-8` encoding didn't work. "
   ]
  },
  {
   "cell_type": "code",
   "execution_count": 172,
   "metadata": {
    "ExecuteTime": {
     "end_time": "2019-08-20T00:28:53.421067Z",
     "start_time": "2019-08-20T00:28:53.414576Z"
    }
   },
   "outputs": [],
   "source": [
    "data = pd.DataFrame()\n",
    "\n",
    "def read_and_rename():\n",
    "    global data\n",
    "    \n",
    "    data = pd.read_csv('../datasets/WELLCOME_APCspend2013_forThinkful.csv', encoding = 'latin-1')\n",
    "\n",
    "    rename = {'Publisher': 'publisher',\n",
    "          'Journal title': 'journal', 'Article title': 'article', \n",
    "         'COST (£) charged to Wellcome (inc VAT when charged)': 'cost_in_pounds'}\n",
    "\n",
    "    data.rename(columns=rename, inplace=True)"
   ]
  },
  {
   "cell_type": "code",
   "execution_count": 173,
   "metadata": {
    "ExecuteTime": {
     "end_time": "2019-08-20T00:28:55.049121Z",
     "start_time": "2019-08-20T00:28:55.015876Z"
    }
   },
   "outputs": [
    {
     "data": {
      "text/html": [
       "<div>\n",
       "<style scoped>\n",
       "    .dataframe tbody tr th:only-of-type {\n",
       "        vertical-align: middle;\n",
       "    }\n",
       "\n",
       "    .dataframe tbody tr th {\n",
       "        vertical-align: top;\n",
       "    }\n",
       "\n",
       "    .dataframe thead th {\n",
       "        text-align: right;\n",
       "    }\n",
       "</style>\n",
       "<table border=\"1\" class=\"dataframe\">\n",
       "  <thead>\n",
       "    <tr style=\"text-align: right;\">\n",
       "      <th></th>\n",
       "      <th>PMID/PMCID</th>\n",
       "      <th>publisher</th>\n",
       "      <th>journal</th>\n",
       "      <th>article</th>\n",
       "      <th>cost_in_pounds</th>\n",
       "    </tr>\n",
       "  </thead>\n",
       "  <tbody>\n",
       "    <tr>\n",
       "      <th>0</th>\n",
       "      <td>NaN</td>\n",
       "      <td>CUP</td>\n",
       "      <td>Psychological Medicine</td>\n",
       "      <td>Reduced parahippocampal cortical thickness in ...</td>\n",
       "      <td>£0.00</td>\n",
       "    </tr>\n",
       "    <tr>\n",
       "      <th>1</th>\n",
       "      <td>PMC3679557</td>\n",
       "      <td>ACS</td>\n",
       "      <td>Biomacromolecules</td>\n",
       "      <td>Structural characterization of a Model Gram-ne...</td>\n",
       "      <td>£2381.04</td>\n",
       "    </tr>\n",
       "    <tr>\n",
       "      <th>2</th>\n",
       "      <td>23043264  PMC3506128</td>\n",
       "      <td>ACS</td>\n",
       "      <td>J Med Chem</td>\n",
       "      <td>Fumaroylamino-4,5-epoxymorphinans and related ...</td>\n",
       "      <td>£642.56</td>\n",
       "    </tr>\n",
       "    <tr>\n",
       "      <th>3</th>\n",
       "      <td>23438330 PMC3646402</td>\n",
       "      <td>ACS</td>\n",
       "      <td>J Med Chem</td>\n",
       "      <td>Orvinols with mixed kappa/mu opioid receptor a...</td>\n",
       "      <td>£669.64</td>\n",
       "    </tr>\n",
       "    <tr>\n",
       "      <th>4</th>\n",
       "      <td>23438216 PMC3601604</td>\n",
       "      <td>ACS</td>\n",
       "      <td>J Org Chem</td>\n",
       "      <td>Regioselective opening of myo-inositol orthoes...</td>\n",
       "      <td>£685.88</td>\n",
       "    </tr>\n",
       "  </tbody>\n",
       "</table>\n",
       "</div>"
      ],
      "text/plain": [
       "              PMID/PMCID publisher                 journal  \\\n",
       "0                    NaN       CUP  Psychological Medicine   \n",
       "1             PMC3679557       ACS       Biomacromolecules   \n",
       "2  23043264  PMC3506128        ACS              J Med Chem   \n",
       "3    23438330 PMC3646402       ACS              J Med Chem   \n",
       "4   23438216 PMC3601604        ACS              J Org Chem   \n",
       "\n",
       "                                             article cost_in_pounds  \n",
       "0  Reduced parahippocampal cortical thickness in ...          £0.00  \n",
       "1  Structural characterization of a Model Gram-ne...       £2381.04  \n",
       "2  Fumaroylamino-4,5-epoxymorphinans and related ...        £642.56  \n",
       "3  Orvinols with mixed kappa/mu opioid receptor a...        £669.64  \n",
       "4  Regioselective opening of myo-inositol orthoes...        £685.88  "
      ]
     },
     "execution_count": 173,
     "metadata": {},
     "output_type": "execute_result"
    }
   ],
   "source": [
    "read_and_rename()\n",
    "data.head(5)"
   ]
  },
  {
   "cell_type": "code",
   "execution_count": 174,
   "metadata": {
    "ExecuteTime": {
     "end_time": "2019-08-20T00:28:57.215592Z",
     "start_time": "2019-08-20T00:28:57.207854Z"
    }
   },
   "outputs": [
    {
     "data": {
      "text/plain": [
       "PMID/PMCID        object\n",
       "publisher         object\n",
       "journal           object\n",
       "article           object\n",
       "cost_in_pounds    object\n",
       "dtype: object"
      ]
     },
     "execution_count": 174,
     "metadata": {},
     "output_type": "execute_result"
    }
   ],
   "source": [
    "data.dtypes"
   ]
  },
  {
   "cell_type": "code",
   "execution_count": 175,
   "metadata": {
    "ExecuteTime": {
     "end_time": "2019-08-20T00:28:59.562202Z",
     "start_time": "2019-08-20T00:28:59.551400Z"
    }
   },
   "outputs": [
    {
     "data": {
      "text/plain": [
       "PMID/PMCID        1928\n",
       "publisher         2127\n",
       "journal           2126\n",
       "article           2127\n",
       "cost_in_pounds    2127\n",
       "dtype: int64"
      ]
     },
     "execution_count": 175,
     "metadata": {},
     "output_type": "execute_result"
    }
   ],
   "source": [
    "data.count()"
   ]
  },
  {
   "cell_type": "code",
   "execution_count": 176,
   "metadata": {
    "ExecuteTime": {
     "end_time": "2019-08-20T00:29:01.841202Z",
     "start_time": "2019-08-20T00:29:01.823196Z"
    }
   },
   "outputs": [
    {
     "data": {
      "text/plain": [
       "PMID/PMCID        199\n",
       "publisher           0\n",
       "journal             1\n",
       "article             0\n",
       "cost_in_pounds      0\n",
       "dtype: int64"
      ]
     },
     "execution_count": 176,
     "metadata": {},
     "output_type": "execute_result"
    }
   ],
   "source": [
    "data.isnull().sum()"
   ]
  },
  {
   "cell_type": "code",
   "execution_count": 147,
   "metadata": {
    "ExecuteTime": {
     "end_time": "2019-08-20T00:23:13.860574Z",
     "start_time": "2019-08-20T00:23:13.839168Z"
    }
   },
   "outputs": [],
   "source": [
    "read_and_rename()"
   ]
  },
  {
   "cell_type": "code",
   "execution_count": 177,
   "metadata": {
    "ExecuteTime": {
     "end_time": "2019-08-20T00:29:05.122430Z",
     "start_time": "2019-08-20T00:29:05.116784Z"
    }
   },
   "outputs": [],
   "source": [
    "USD_TO_GBP_EXCH_RATE = 0.82\n",
    "\n",
    "def currency_formatter(row):\n",
    "    if '$' in row:\n",
    "        return round(float(row.replace('$', '')) * USD_TO_GBP_EXCH_RATE, 2)\n",
    "    if '£' in row:\n",
    "        return row.replace('£', '')"
   ]
  },
  {
   "cell_type": "code",
   "execution_count": 178,
   "metadata": {
    "ExecuteTime": {
     "end_time": "2019-08-20T00:29:07.363917Z",
     "start_time": "2019-08-20T00:29:07.349698Z"
    }
   },
   "outputs": [
    {
     "data": {
      "text/plain": [
       "PMID/PMCID         object\n",
       "publisher          object\n",
       "journal            object\n",
       "article            object\n",
       "cost_in_pounds    float64\n",
       "dtype: object"
      ]
     },
     "execution_count": 178,
     "metadata": {},
     "output_type": "execute_result"
    }
   ],
   "source": [
    "data['cost_in_pounds'] = data['cost_in_pounds'].apply(currency_formatter).astype(float)\n",
    "data.dtypes"
   ]
  },
  {
   "cell_type": "code",
   "execution_count": 214,
   "metadata": {
    "ExecuteTime": {
     "end_time": "2019-08-20T00:45:23.000412Z",
     "start_time": "2019-08-20T00:45:22.991846Z"
    }
   },
   "outputs": [],
   "source": [
    "def fix_typos(row):\n",
    "    row = row.replace('amercian', 'american')\n",
    "    row = row.replace('benthan', 'bentham')\n",
    "    \n",
    "    return row"
   ]
  },
  {
   "cell_type": "code",
   "execution_count": 216,
   "metadata": {
    "ExecuteTime": {
     "end_time": "2019-08-20T00:46:52.753623Z",
     "start_time": "2019-08-20T00:46:52.727644Z"
    }
   },
   "outputs": [],
   "source": [
    "read_and_rename()\n",
    "words = dict()\n",
    "\n",
    "def clean_publishers(row):\n",
    "    row = row.lower().strip()\n",
    "    \n",
    "    \"\"\"\n",
    "    row = fix_typos(row)\n",
    "    \n",
    "    replace_list = ['publications', 'ltd']\n",
    "    \n",
    "    for word in replace_list:\n",
    "        row = row.replace(word, '')\"\"\"\n",
    "    \n",
    "    for w in row.split():\n",
    "        if w in words:\n",
    "            words[w] += 1\n",
    "        else:\n",
    "            words[w] = 0\n",
    "    \n",
    "    return row\n",
    "\n",
    "data['publisher'] = data['publisher'].apply(clean_publishers)"
   ]
  },
  {
   "cell_type": "code",
   "execution_count": 213,
   "metadata": {
    "ExecuteTime": {
     "end_time": "2019-08-20T00:45:01.387333Z",
     "start_time": "2019-08-20T00:45:01.369655Z"
    }
   },
   "outputs": [
    {
     "data": {
      "text/html": [
       "<div>\n",
       "<style scoped>\n",
       "    .dataframe tbody tr th:only-of-type {\n",
       "        vertical-align: middle;\n",
       "    }\n",
       "\n",
       "    .dataframe tbody tr th {\n",
       "        vertical-align: top;\n",
       "    }\n",
       "\n",
       "    .dataframe thead th {\n",
       "        text-align: right;\n",
       "    }\n",
       "</style>\n",
       "<table border=\"1\" class=\"dataframe\">\n",
       "  <thead>\n",
       "    <tr style=\"text-align: right;\">\n",
       "      <th></th>\n",
       "      <th>PMID/PMCID</th>\n",
       "      <th>publisher</th>\n",
       "      <th>journal</th>\n",
       "      <th>article</th>\n",
       "      <th>cost_in_pounds</th>\n",
       "    </tr>\n",
       "  </thead>\n",
       "  <tbody>\n",
       "    <tr>\n",
       "      <th>170</th>\n",
       "      <td>23885220 PMC3706957</td>\n",
       "      <td>benthan science publishers</td>\n",
       "      <td>Current Analytical Chemistry</td>\n",
       "      <td>Ion mobility spectrometry-mass spectrometry of...</td>\n",
       "      <td>£2142.99</td>\n",
       "    </tr>\n",
       "  </tbody>\n",
       "</table>\n",
       "</div>"
      ],
      "text/plain": [
       "               PMID/PMCID                   publisher  \\\n",
       "170  23885220 PMC3706957   benthan science publishers   \n",
       "\n",
       "                          journal  \\\n",
       "170  Current Analytical Chemistry   \n",
       "\n",
       "                                               article cost_in_pounds  \n",
       "170  Ion mobility spectrometry-mass spectrometry of...       £2142.99  "
      ]
     },
     "execution_count": 213,
     "metadata": {},
     "output_type": "execute_result"
    }
   ],
   "source": [
    "query = 'benthan'\n",
    "\n",
    "data[data['publisher'].str.contains(query)]"
   ]
  },
  {
   "cell_type": "code",
   "execution_count": 218,
   "metadata": {
    "ExecuteTime": {
     "end_time": "2019-08-20T01:15:42.320677Z",
     "start_time": "2019-08-20T01:15:42.268404Z"
    },
    "scrolled": false
   },
   "outputs": [
    {
     "data": {
      "text/plain": [
       "{'cup': 7,\n",
       " 'acs': 13,\n",
       " '(amercian': 4,\n",
       " 'chemical': 24,\n",
       " 'society)': 4,\n",
       " 'publications': 13,\n",
       " 'aga': 0,\n",
       " 'institute': 2,\n",
       " 'ambsb': 0,\n",
       " 'american': 112,\n",
       " 'association': 19,\n",
       " 'of': 397,\n",
       " 'immunologists': 1,\n",
       " 'society': 175,\n",
       " 'college': 6,\n",
       " 'chest': 0,\n",
       " 'physicians': 0,\n",
       " 'physiological': 8,\n",
       " 'psychiatric': 1,\n",
       " 'publishing': 76,\n",
       " 'psychological': 13,\n",
       " 'public': 279,\n",
       " 'health': 3,\n",
       " 'soc': 0,\n",
       " 'for': 81,\n",
       " 'biochemistry': 22,\n",
       " 'and': 31,\n",
       " 'molecular': 22,\n",
       " 'biology': 28,\n",
       " 'biolgy': 0,\n",
       " 'investigative': 0,\n",
       " 'pathology': 0,\n",
       " 'microbiology': 36,\n",
       " 'nutrition': 0,\n",
       " 'haematology': 1,\n",
       " 'hamatology': 0,\n",
       " 'hematology': 5,\n",
       " 'human': 0,\n",
       " 'genetics': 0,\n",
       " '(elsevier)': 0,\n",
       " 'speech-language-hearing': 0,\n",
       " 'asbmb': 46,\n",
       " 'cadmus': 10,\n",
       " 'asbmb/cadmus': 0,\n",
       " 'asbmb/cenveo': 0,\n",
       " 'publisher': 4,\n",
       " 'services': 50,\n",
       " 'asbmc': 0,\n",
       " '/cenveo': 0,\n",
       " 'asm': 2,\n",
       " '(american': 0,\n",
       " 'microbiology)': 0,\n",
       " 'research': 8,\n",
       " 'in': 0,\n",
       " 'vision': 0,\n",
       " '&': 36,\n",
       " 'ophthalmology': 0,\n",
       " 'bentham': 0,\n",
       " 'science': 286,\n",
       " 'publishers': 3,\n",
       " 'benthan': 0,\n",
       " 'berhahn': 1,\n",
       " 'books': 1,\n",
       " 'biochem': 1,\n",
       " 'journal': 33,\n",
       " 'biomed': 68,\n",
       " 'central': 70,\n",
       " 'limited': 6,\n",
       " 'ltd': 35,\n",
       " 'biophysical': 1,\n",
       " 'bioscientifica': 4,\n",
       " 'blackwell': 4,\n",
       " 'ltd/wiley': 0,\n",
       " 'bmc': 25,\n",
       " 'bmj': 55,\n",
       " 'group': 79,\n",
       " 'journals': 25,\n",
       " 'british': 2,\n",
       " 'thoracic': 0,\n",
       " 'brill': 0,\n",
       " 'medical': 1,\n",
       " 'byophysical': 0,\n",
       " 'service': 0,\n",
       " 'cambridge': 24,\n",
       " 'uni': 0,\n",
       " 'press': 163,\n",
       " 'univ': 6,\n",
       " 'university': 110,\n",
       " 'camdus': 0,\n",
       " 'cell': 2,\n",
       " 'cenveo': 1,\n",
       " 'services/asm': 0,\n",
       " 'jv1': 0,\n",
       " 'coaction': 0,\n",
       " 'cold': 6,\n",
       " 'spring': 6,\n",
       " 'habour': 0,\n",
       " 'harbor': 5,\n",
       " 'laboratory': 2,\n",
       " 'company': 26,\n",
       " 'biologist': 0,\n",
       " 'biologists': 23,\n",
       " 'copyright': 0,\n",
       " 'clearace': 0,\n",
       " 'center': 0,\n",
       " 'cshlp': 0,\n",
       " 'darmouth': 0,\n",
       " 'dartmouth': 20,\n",
       " 'elseveier': 1,\n",
       " 'elsevier': 404,\n",
       " '(cell': 1,\n",
       " 'press)': 1,\n",
       " '/': 0,\n",
       " 'b.v.': 1,\n",
       " 'elsevier/cell': 0,\n",
       " 'endocrine': 14,\n",
       " 'european': 1,\n",
       " 'respiratory': 0,\n",
       " 'endocrinolog': 0,\n",
       " 'faseb': 5,\n",
       " 'federation': 5,\n",
       " 'societies': 4,\n",
       " 'experimental': 5,\n",
       " '(faseb)': 1,\n",
       " 'the': 46,\n",
       " 'ferrata': 1,\n",
       " 'storti': 1,\n",
       " 'foundation': 2,\n",
       " 'frontiers': 31,\n",
       " 'media': 9,\n",
       " 'sa': 5,\n",
       " 'future': 5,\n",
       " 'medicine': 3,\n",
       " 'hindawi': 3,\n",
       " 'corporation': 5,\n",
       " 'humana': 0,\n",
       " '(springer': 0,\n",
       " 'imprint)': 0,\n",
       " 'impact': 1,\n",
       " 'llc': 0,\n",
       " 'informa': 1,\n",
       " 'healthcare': 1,\n",
       " 'communications': 0,\n",
       " 'physics': 1,\n",
       " 'international': 14,\n",
       " 'aids': 1,\n",
       " 'union': 11,\n",
       " 'against': 1,\n",
       " 'tuberculosis': 1,\n",
       " 'lung': 1,\n",
       " 'disease': 1,\n",
       " 'crystallography': 9,\n",
       " '(iucr)': 1,\n",
       " 'iop': 0,\n",
       " 'ios': 0,\n",
       " 'ivyspring': 0,\n",
       " 'j': 0,\n",
       " 'med': 0,\n",
       " 'internet': 0,\n",
       " 'john': 25,\n",
       " 'wiley': 204,\n",
       " 'sons': 20,\n",
       " 'inc': 7,\n",
       " 'sons,': 0,\n",
       " 'inc.': 14,\n",
       " 'johns': 0,\n",
       " 'hopkins': 0,\n",
       " 'proceedings': 2,\n",
       " 'national': 26,\n",
       " 'academy': 26,\n",
       " 'sciences': 22,\n",
       " 'visualized': 1,\n",
       " 'experiments': 1,\n",
       " 'jove': 3,\n",
       " 'jscimed': 0,\n",
       " 'karger': 4,\n",
       " 'landes': 15,\n",
       " 'bioscience': 13,\n",
       " 'biosciences': 1,\n",
       " 'lww': 0,\n",
       " 'macmillan': 1,\n",
       " 'mary': 4,\n",
       " 'ann': 4,\n",
       " 'liebert': 3,\n",
       " 'liebert,': 0,\n",
       " 'mdpi': 2,\n",
       " 'mit': 1,\n",
       " 'open': 1,\n",
       " 'access': 1,\n",
       " 'my': 2,\n",
       " 'corp': 1,\n",
       " 'myjove': 1,\n",
       " 'united': 1,\n",
       " 'states': 1,\n",
       " 'america': 2,\n",
       " 'usa': 5,\n",
       " 'sciences,': 4,\n",
       " 'nature': 79,\n",
       " 'pg': 0,\n",
       " 'npg': 0,\n",
       " 'reg': 0,\n",
       " 'optical': 0,\n",
       " 'oup': 55,\n",
       " 'oxford': 110,\n",
       " '(oup)': 4,\n",
       " 'univesity': 0,\n",
       " 'palgrave': 0,\n",
       " 'pion': 0,\n",
       " 'plos': 28,\n",
       " '(public': 3,\n",
       " 'library': 283,\n",
       " 'science)': 3,\n",
       " 'pnas': 8,\n",
       " 'author': 1,\n",
       " 'publication': 2,\n",
       " 'policy': 0,\n",
       " 'portland': 21,\n",
       " '(pnas)': 1,\n",
       " 'public.service.co.uk': 0,\n",
       " 'endocrinology': 1,\n",
       " 'pubmed': 1,\n",
       " 'royal': 36,\n",
       " 'psychiatrists': 5,\n",
       " 'chemistry': 1,\n",
       " 'rsc': 2,\n",
       " 'sage': 20,\n",
       " 'sciedu': 1,\n",
       " 'scientific': 0,\n",
       " 'sheridan': 6,\n",
       " 'general': 14,\n",
       " 'genermal': 0,\n",
       " 'leukocyte': 1,\n",
       " 'neuroscience': 11,\n",
       " 'neurosciences': 0,\n",
       " 'acta': 0,\n",
       " 'dermato-venereologica': 0,\n",
       " 'neuro': 0,\n",
       " 'springer': 85,\n",
       " '-': 1,\n",
       " 'verlag': 3,\n",
       " 'gmbh': 8,\n",
       " '+': 0,\n",
       " 'business': 0,\n",
       " 'springer-veriag': 0,\n",
       " 'springer-verlag': 6,\n",
       " 'ci': 0,\n",
       " 'gmbh,': 0,\n",
       " 'heidelberger': 0,\n",
       " 'platz': 0,\n",
       " '3,': 0,\n",
       " 'd-14197': 0,\n",
       " 'berlin': 0,\n",
       " 't&f': 0,\n",
       " 'taylor': 17,\n",
       " 'francis': 17,\n",
       " 'petroleum': 3,\n",
       " 'trust': 3,\n",
       " 'biology,': 0,\n",
       " 'pediatrics': 0,\n",
       " 'boulevard': 0,\n",
       " 'biolgists': 1,\n",
       " 'socety': 0,\n",
       " 'endrocrine': 0,\n",
       " 'transcript': 0,\n",
       " 'basque': 0,\n",
       " 'country': 0,\n",
       " 'son': 0,\n",
       " 'online': 0,\n",
       " 'subscription': 23,\n",
       " 'serviices': 0,\n",
       " 'vch': 0,\n",
       " 'wiley/blackwell': 0,\n",
       " 'wiley-blackwell': 55,\n",
       " 'wiley-blackwell,': 0,\n",
       " 'wiley-vch': 5,\n",
       " 'wliey-blackwell': 0,\n",
       " 'wolters': 11,\n",
       " 'kluwer': 10,\n",
       " 'n.v./lippinott': 0,\n",
       " 'kluwers': 0}"
      ]
     },
     "execution_count": 218,
     "metadata": {},
     "output_type": "execute_result"
    }
   ],
   "source": [
    "words"
   ]
  },
  {
   "cell_type": "code",
   "execution_count": null,
   "metadata": {},
   "outputs": [],
   "source": []
  }
 ],
 "metadata": {
  "kernelspec": {
   "display_name": "Python 3",
   "language": "python",
   "name": "python3"
  },
  "language_info": {
   "codemirror_mode": {
    "name": "ipython",
    "version": 3
   },
   "file_extension": ".py",
   "mimetype": "text/x-python",
   "name": "python",
   "nbconvert_exporter": "python",
   "pygments_lexer": "ipython3",
   "version": "3.7.1"
  },
  "toc": {
   "base_numbering": 1,
   "nav_menu": {},
   "number_sections": true,
   "sideBar": true,
   "skip_h1_title": true,
   "title_cell": "Table of Contents",
   "title_sidebar": "Contents",
   "toc_cell": true,
   "toc_position": {},
   "toc_section_display": true,
   "toc_window_display": false
  },
  "varInspector": {
   "cols": {
    "lenName": 16,
    "lenType": 16,
    "lenVar": 40
   },
   "kernels_config": {
    "python": {
     "delete_cmd_postfix": "",
     "delete_cmd_prefix": "del ",
     "library": "var_list.py",
     "varRefreshCmd": "print(var_dic_list())"
    },
    "r": {
     "delete_cmd_postfix": ") ",
     "delete_cmd_prefix": "rm(",
     "library": "var_list.r",
     "varRefreshCmd": "cat(var_dic_list()) "
    }
   },
   "types_to_exclude": [
    "module",
    "function",
    "builtin_function_or_method",
    "instance",
    "_Feature"
   ],
   "window_display": false
  }
 },
 "nbformat": 4,
 "nbformat_minor": 2
}
