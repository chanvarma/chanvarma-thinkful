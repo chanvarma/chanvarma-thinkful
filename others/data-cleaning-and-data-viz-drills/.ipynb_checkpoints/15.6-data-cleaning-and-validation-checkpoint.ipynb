{
 "cells": [
  {
   "cell_type": "markdown",
   "metadata": {
    "toc": true
   },
   "source": [
    "<h1>Table of Contents<span class=\"tocSkip\"></span></h1>\n",
    "<div class=\"toc\"><ul class=\"toc-item\"></ul></div>"
   ]
  },
  {
   "cell_type": "code",
   "execution_count": 1,
   "metadata": {
    "ExecuteTime": {
     "end_time": "2019-08-19T23:34:15.559941Z",
     "start_time": "2019-08-19T23:34:06.424309Z"
    }
   },
   "outputs": [],
   "source": [
    "import pandas as pd\n",
    "import re"
   ]
  },
  {
   "cell_type": "markdown",
   "metadata": {},
   "source": [
    "Worth noting that default `utf-8` encoding didn't work. "
   ]
  },
  {
   "cell_type": "code",
   "execution_count": 56,
   "metadata": {
    "ExecuteTime": {
     "end_time": "2019-08-20T00:02:03.647771Z",
     "start_time": "2019-08-20T00:02:03.640760Z"
    }
   },
   "outputs": [],
   "source": [
    "data = pd.DataFrame()\n",
    "\n",
    "def read_and_rename():\n",
    "    global data\n",
    "    \n",
    "    data = pd.read_csv('../datasets/WELLCOME_APCspend2013_forThinkful.csv', encoding = 'latin-1')\n",
    "\n",
    "    rename = {'Publisher': 'publisher',\n",
    "          'Journal title': 'journal', 'Article title': 'article', \n",
    "         'COST (£) charged to Wellcome (inc VAT when charged)': 'cost_in_pounds'}\n",
    "\n",
    "    data.rename(columns=rename, inplace=True)"
   ]
  },
  {
   "cell_type": "code",
   "execution_count": 57,
   "metadata": {
    "ExecuteTime": {
     "end_time": "2019-08-20T00:02:08.827403Z",
     "start_time": "2019-08-20T00:02:08.799257Z"
    }
   },
   "outputs": [
    {
     "data": {
      "text/html": [
       "<div>\n",
       "<style scoped>\n",
       "    .dataframe tbody tr th:only-of-type {\n",
       "        vertical-align: middle;\n",
       "    }\n",
       "\n",
       "    .dataframe tbody tr th {\n",
       "        vertical-align: top;\n",
       "    }\n",
       "\n",
       "    .dataframe thead th {\n",
       "        text-align: right;\n",
       "    }\n",
       "</style>\n",
       "<table border=\"1\" class=\"dataframe\">\n",
       "  <thead>\n",
       "    <tr style=\"text-align: right;\">\n",
       "      <th></th>\n",
       "      <th>PMID/PMCID</th>\n",
       "      <th>publisher</th>\n",
       "      <th>journal</th>\n",
       "      <th>article</th>\n",
       "      <th>cost_in_pounds</th>\n",
       "    </tr>\n",
       "  </thead>\n",
       "  <tbody>\n",
       "    <tr>\n",
       "      <th>0</th>\n",
       "      <td>NaN</td>\n",
       "      <td>CUP</td>\n",
       "      <td>Psychological Medicine</td>\n",
       "      <td>Reduced parahippocampal cortical thickness in ...</td>\n",
       "      <td>£0.00</td>\n",
       "    </tr>\n",
       "    <tr>\n",
       "      <th>1</th>\n",
       "      <td>PMC3679557</td>\n",
       "      <td>ACS</td>\n",
       "      <td>Biomacromolecules</td>\n",
       "      <td>Structural characterization of a Model Gram-ne...</td>\n",
       "      <td>£2381.04</td>\n",
       "    </tr>\n",
       "    <tr>\n",
       "      <th>2</th>\n",
       "      <td>23043264  PMC3506128</td>\n",
       "      <td>ACS</td>\n",
       "      <td>J Med Chem</td>\n",
       "      <td>Fumaroylamino-4,5-epoxymorphinans and related ...</td>\n",
       "      <td>£642.56</td>\n",
       "    </tr>\n",
       "    <tr>\n",
       "      <th>3</th>\n",
       "      <td>23438330 PMC3646402</td>\n",
       "      <td>ACS</td>\n",
       "      <td>J Med Chem</td>\n",
       "      <td>Orvinols with mixed kappa/mu opioid receptor a...</td>\n",
       "      <td>£669.64</td>\n",
       "    </tr>\n",
       "    <tr>\n",
       "      <th>4</th>\n",
       "      <td>23438216 PMC3601604</td>\n",
       "      <td>ACS</td>\n",
       "      <td>J Org Chem</td>\n",
       "      <td>Regioselective opening of myo-inositol orthoes...</td>\n",
       "      <td>£685.88</td>\n",
       "    </tr>\n",
       "  </tbody>\n",
       "</table>\n",
       "</div>"
      ],
      "text/plain": [
       "              PMID/PMCID publisher                 journal  \\\n",
       "0                    NaN       CUP  Psychological Medicine   \n",
       "1             PMC3679557       ACS       Biomacromolecules   \n",
       "2  23043264  PMC3506128        ACS              J Med Chem   \n",
       "3    23438330 PMC3646402       ACS              J Med Chem   \n",
       "4   23438216 PMC3601604        ACS              J Org Chem   \n",
       "\n",
       "                                             article cost_in_pounds  \n",
       "0  Reduced parahippocampal cortical thickness in ...          £0.00  \n",
       "1  Structural characterization of a Model Gram-ne...       £2381.04  \n",
       "2  Fumaroylamino-4,5-epoxymorphinans and related ...        £642.56  \n",
       "3  Orvinols with mixed kappa/mu opioid receptor a...        £669.64  \n",
       "4  Regioselective opening of myo-inositol orthoes...        £685.88  "
      ]
     },
     "execution_count": 57,
     "metadata": {},
     "output_type": "execute_result"
    }
   ],
   "source": [
    "read_and_rename()\n",
    "data.head(5)"
   ]
  },
  {
   "cell_type": "code",
   "execution_count": 23,
   "metadata": {
    "ExecuteTime": {
     "end_time": "2019-08-19T23:49:22.520080Z",
     "start_time": "2019-08-19T23:49:22.509638Z"
    }
   },
   "outputs": [
    {
     "data": {
      "text/plain": [
       "PMID/PMCID        object\n",
       "publisher         object\n",
       "journal           object\n",
       "article           object\n",
       "cost_in_pounds    object\n",
       "dtype: object"
      ]
     },
     "execution_count": 23,
     "metadata": {},
     "output_type": "execute_result"
    }
   ],
   "source": [
    "data.dtypes"
   ]
  },
  {
   "cell_type": "code",
   "execution_count": 21,
   "metadata": {
    "ExecuteTime": {
     "end_time": "2019-08-19T23:49:01.836483Z",
     "start_time": "2019-08-19T23:49:01.821515Z"
    }
   },
   "outputs": [
    {
     "data": {
      "text/plain": [
       "PMID/PMCID        1928\n",
       "publisher         2127\n",
       "journal           2126\n",
       "article           2127\n",
       "cost_in_pounds    2127\n",
       "dtype: int64"
      ]
     },
     "execution_count": 21,
     "metadata": {},
     "output_type": "execute_result"
    }
   ],
   "source": [
    "data.count()"
   ]
  },
  {
   "cell_type": "code",
   "execution_count": 22,
   "metadata": {
    "ExecuteTime": {
     "end_time": "2019-08-19T23:49:03.558442Z",
     "start_time": "2019-08-19T23:49:03.546057Z"
    }
   },
   "outputs": [
    {
     "data": {
      "text/plain": [
       "PMID/PMCID        199\n",
       "publisher           0\n",
       "journal             1\n",
       "article             0\n",
       "cost_in_pounds      0\n",
       "dtype: int64"
      ]
     },
     "execution_count": 22,
     "metadata": {},
     "output_type": "execute_result"
    }
   ],
   "source": [
    "data.isnull().sum()"
   ]
  },
  {
   "cell_type": "code",
   "execution_count": 147,
   "metadata": {
    "ExecuteTime": {
     "end_time": "2019-08-20T00:23:13.860574Z",
     "start_time": "2019-08-20T00:23:13.839168Z"
    }
   },
   "outputs": [],
   "source": [
    "read_and_rename()"
   ]
  },
  {
   "cell_type": "code",
   "execution_count": 143,
   "metadata": {
    "ExecuteTime": {
     "end_time": "2019-08-20T00:22:38.011569Z",
     "start_time": "2019-08-20T00:22:38.005929Z"
    }
   },
   "outputs": [],
   "source": [
    "USD_TO_GBP_EXCH_RATE = 0.82\n",
    "\n",
    "def currency_formatter(row):\n",
    "    if '$' in row:\n",
    "        return round(float(row.replace('$', '')) * USD_TO_GBP_EXCH_RATE, 2)\n",
    "    if '£' in row:\n",
    "        return row.replace('£', '')"
   ]
  },
  {
   "cell_type": "code",
   "execution_count": 148,
   "metadata": {
    "ExecuteTime": {
     "end_time": "2019-08-20T00:23:18.556625Z",
     "start_time": "2019-08-20T00:23:18.538507Z"
    }
   },
   "outputs": [
    {
     "data": {
      "text/plain": [
       "PMID/PMCID         object\n",
       "publisher          object\n",
       "journal            object\n",
       "article            object\n",
       "cost_in_pounds    float64\n",
       "dtype: object"
      ]
     },
     "execution_count": 148,
     "metadata": {},
     "output_type": "execute_result"
    }
   ],
   "source": [
    "data['cost_in_pounds'] = data['cost_in_pounds'].apply(currency_formatter).astype(float)\n",
    "data.dtypes"
   ]
  },
  {
   "cell_type": "code",
   "execution_count": null,
   "metadata": {},
   "outputs": [],
   "source": []
  }
 ],
 "metadata": {
  "kernelspec": {
   "display_name": "Python 3",
   "language": "python",
   "name": "python3"
  },
  "language_info": {
   "codemirror_mode": {
    "name": "ipython",
    "version": 3
   },
   "file_extension": ".py",
   "mimetype": "text/x-python",
   "name": "python",
   "nbconvert_exporter": "python",
   "pygments_lexer": "ipython3",
   "version": "3.7.1"
  },
  "toc": {
   "base_numbering": 1,
   "nav_menu": {},
   "number_sections": true,
   "sideBar": true,
   "skip_h1_title": true,
   "title_cell": "Table of Contents",
   "title_sidebar": "Contents",
   "toc_cell": true,
   "toc_position": {},
   "toc_section_display": true,
   "toc_window_display": false
  },
  "varInspector": {
   "cols": {
    "lenName": 16,
    "lenType": 16,
    "lenVar": 40
   },
   "kernels_config": {
    "python": {
     "delete_cmd_postfix": "",
     "delete_cmd_prefix": "del ",
     "library": "var_list.py",
     "varRefreshCmd": "print(var_dic_list())"
    },
    "r": {
     "delete_cmd_postfix": ") ",
     "delete_cmd_prefix": "rm(",
     "library": "var_list.r",
     "varRefreshCmd": "cat(var_dic_list()) "
    }
   },
   "types_to_exclude": [
    "module",
    "function",
    "builtin_function_or_method",
    "instance",
    "_Feature"
   ],
   "window_display": false
  }
 },
 "nbformat": 4,
 "nbformat_minor": 2
}
