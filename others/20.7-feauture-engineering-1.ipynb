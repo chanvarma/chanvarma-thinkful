{
 "cells": [
  {
   "cell_type": "markdown",
   "metadata": {},
   "source": [
    "# Module 20.7: Feature engineering 1: From variables to features"
   ]
  },
  {
   "cell_type": "markdown",
   "metadata": {
    "toc": true
   },
   "source": [
    "<h1>Table of Contents<span class=\"tocSkip\"></span></h1>\n",
    "<div class=\"toc\"><ul class=\"toc-item\"><li><span><a href=\"#Checking-for-nulls-and-outliers\" data-toc-modified-id=\"Checking-for-nulls-and-outliers-0\"><span class=\"toc-item-num\">0&nbsp;&nbsp;</span>Checking for nulls and outliers</a></span></li><li><span><a href=\"#Question-1\" data-toc-modified-id=\"Question-1-1\"><span class=\"toc-item-num\">1&nbsp;&nbsp;</span>Question 1</a></span></li><li><span><a href=\"#Question-2\" data-toc-modified-id=\"Question-2-2\"><span class=\"toc-item-num\">2&nbsp;&nbsp;</span>Question 2</a></span></li><li><span><a href=\"#Question-3\" data-toc-modified-id=\"Question-3-3\"><span class=\"toc-item-num\">3&nbsp;&nbsp;</span>Question 3</a></span></li></ul></div>"
   ]
  },
  {
   "cell_type": "code",
   "execution_count": 1,
   "metadata": {
    "ExecuteTime": {
     "end_time": "2019-10-31T21:16:05.457451Z",
     "start_time": "2019-10-31T21:16:03.527956Z"
    }
   },
   "outputs": [],
   "source": [
    "import matplotlib.pyplot as plt\n",
    "import seaborn as sns\n",
    "import numpy as np\n",
    "import pandas as pd\n",
    "import seaborn as sns\n",
    "import scipy.stats as stats\n",
    "from scipy.stats.mstats import winsorize\n",
    "from sqlalchemy import create_engine\n",
    "import warnings\n",
    "\n",
    "warnings.filterwarnings('ignore')\n",
    "sns.set(style=\"whitegrid\")"
   ]
  },
  {
   "cell_type": "code",
   "execution_count": 2,
   "metadata": {
    "ExecuteTime": {
     "end_time": "2019-10-31T21:16:28.105725Z",
     "start_time": "2019-10-31T21:16:28.102905Z"
    }
   },
   "outputs": [],
   "source": [
    "postgres_user = 'dsbc_student'\n",
    "postgres_pw = '7*.8G9QH21'\n",
    "postgres_host = '142.93.121.174'\n",
    "postgres_port = '5432'\n",
    "postgres_db = 'studentsperformance'"
   ]
  },
  {
   "cell_type": "code",
   "execution_count": 4,
   "metadata": {
    "ExecuteTime": {
     "end_time": "2019-10-31T21:16:50.632272Z",
     "start_time": "2019-10-31T21:16:49.594499Z"
    }
   },
   "outputs": [],
   "source": [
    "engine = create_engine('postgresql://{}:{}@{}:{}/{}'.format(\n",
    "    postgres_user, postgres_pw, postgres_host, postgres_port, postgres_db))\n",
    "\n",
    "data = pd.read_sql_query('select * from studentsperformance',con=engine)\n",
    "\n",
    "# no need for an open connection, \n",
    "# as we're only doing a single query\n",
    "engine.dispose()"
   ]
  },
  {
   "cell_type": "code",
   "execution_count": 5,
   "metadata": {
    "ExecuteTime": {
     "end_time": "2019-10-31T21:16:53.990117Z",
     "start_time": "2019-10-31T21:16:53.976406Z"
    }
   },
   "outputs": [
    {
     "data": {
      "text/html": [
       "<div>\n",
       "<style scoped>\n",
       "    .dataframe tbody tr th:only-of-type {\n",
       "        vertical-align: middle;\n",
       "    }\n",
       "\n",
       "    .dataframe tbody tr th {\n",
       "        vertical-align: top;\n",
       "    }\n",
       "\n",
       "    .dataframe thead th {\n",
       "        text-align: right;\n",
       "    }\n",
       "</style>\n",
       "<table border=\"1\" class=\"dataframe\">\n",
       "  <thead>\n",
       "    <tr style=\"text-align: right;\">\n",
       "      <th></th>\n",
       "      <th>gender</th>\n",
       "      <th>race/ethnicity</th>\n",
       "      <th>parental level of education</th>\n",
       "      <th>lunch</th>\n",
       "      <th>test preparation course</th>\n",
       "      <th>math score</th>\n",
       "      <th>reading score</th>\n",
       "      <th>writing score</th>\n",
       "    </tr>\n",
       "  </thead>\n",
       "  <tbody>\n",
       "    <tr>\n",
       "      <td>0</td>\n",
       "      <td>female</td>\n",
       "      <td>group B</td>\n",
       "      <td>bachelor's degree</td>\n",
       "      <td>standard</td>\n",
       "      <td>none</td>\n",
       "      <td>72</td>\n",
       "      <td>72</td>\n",
       "      <td>74</td>\n",
       "    </tr>\n",
       "    <tr>\n",
       "      <td>1</td>\n",
       "      <td>female</td>\n",
       "      <td>group C</td>\n",
       "      <td>some college</td>\n",
       "      <td>standard</td>\n",
       "      <td>completed</td>\n",
       "      <td>69</td>\n",
       "      <td>90</td>\n",
       "      <td>88</td>\n",
       "    </tr>\n",
       "    <tr>\n",
       "      <td>2</td>\n",
       "      <td>female</td>\n",
       "      <td>group B</td>\n",
       "      <td>master's degree</td>\n",
       "      <td>standard</td>\n",
       "      <td>none</td>\n",
       "      <td>90</td>\n",
       "      <td>95</td>\n",
       "      <td>93</td>\n",
       "    </tr>\n",
       "    <tr>\n",
       "      <td>3</td>\n",
       "      <td>male</td>\n",
       "      <td>group A</td>\n",
       "      <td>associate's degree</td>\n",
       "      <td>free/reduced</td>\n",
       "      <td>none</td>\n",
       "      <td>47</td>\n",
       "      <td>57</td>\n",
       "      <td>44</td>\n",
       "    </tr>\n",
       "    <tr>\n",
       "      <td>4</td>\n",
       "      <td>male</td>\n",
       "      <td>group C</td>\n",
       "      <td>some college</td>\n",
       "      <td>standard</td>\n",
       "      <td>none</td>\n",
       "      <td>76</td>\n",
       "      <td>78</td>\n",
       "      <td>75</td>\n",
       "    </tr>\n",
       "  </tbody>\n",
       "</table>\n",
       "</div>"
      ],
      "text/plain": [
       "   gender race/ethnicity parental level of education         lunch  \\\n",
       "0  female        group B           bachelor's degree      standard   \n",
       "1  female        group C                some college      standard   \n",
       "2  female        group B             master's degree      standard   \n",
       "3    male        group A          associate's degree  free/reduced   \n",
       "4    male        group C                some college      standard   \n",
       "\n",
       "  test preparation course  math score  reading score  writing score  \n",
       "0                    none          72             72             74  \n",
       "1               completed          69             90             88  \n",
       "2                    none          90             95             93  \n",
       "3                    none          47             57             44  \n",
       "4                    none          76             78             75  "
      ]
     },
     "execution_count": 5,
     "metadata": {},
     "output_type": "execute_result"
    }
   ],
   "source": [
    "data.head()"
   ]
  },
  {
   "cell_type": "code",
   "execution_count": 19,
   "metadata": {
    "ExecuteTime": {
     "end_time": "2019-10-31T21:24:08.131787Z",
     "start_time": "2019-10-31T21:24:08.127415Z"
    }
   },
   "outputs": [
    {
     "data": {
      "text/plain": [
       "gender                         object\n",
       "race/ethnicity                 object\n",
       "parental level of education    object\n",
       "lunch                          object\n",
       "test preparation course        object\n",
       "math score                      int64\n",
       "reading score                   int64\n",
       "writing score                   int64\n",
       "dtype: object"
      ]
     },
     "execution_count": 19,
     "metadata": {},
     "output_type": "execute_result"
    }
   ],
   "source": [
    "data.dtypes"
   ]
  },
  {
   "cell_type": "code",
   "execution_count": 6,
   "metadata": {
    "ExecuteTime": {
     "end_time": "2019-10-31T21:16:59.680264Z",
     "start_time": "2019-10-31T21:16:59.658300Z"
    }
   },
   "outputs": [
    {
     "data": {
      "text/html": [
       "<div>\n",
       "<style scoped>\n",
       "    .dataframe tbody tr th:only-of-type {\n",
       "        vertical-align: middle;\n",
       "    }\n",
       "\n",
       "    .dataframe tbody tr th {\n",
       "        vertical-align: top;\n",
       "    }\n",
       "\n",
       "    .dataframe thead th {\n",
       "        text-align: right;\n",
       "    }\n",
       "</style>\n",
       "<table border=\"1\" class=\"dataframe\">\n",
       "  <thead>\n",
       "    <tr style=\"text-align: right;\">\n",
       "      <th></th>\n",
       "      <th>math score</th>\n",
       "      <th>reading score</th>\n",
       "      <th>writing score</th>\n",
       "    </tr>\n",
       "  </thead>\n",
       "  <tbody>\n",
       "    <tr>\n",
       "      <td>count</td>\n",
       "      <td>1000.00000</td>\n",
       "      <td>1000.000000</td>\n",
       "      <td>1000.000000</td>\n",
       "    </tr>\n",
       "    <tr>\n",
       "      <td>mean</td>\n",
       "      <td>66.08900</td>\n",
       "      <td>69.169000</td>\n",
       "      <td>68.054000</td>\n",
       "    </tr>\n",
       "    <tr>\n",
       "      <td>std</td>\n",
       "      <td>15.16308</td>\n",
       "      <td>14.600192</td>\n",
       "      <td>15.195657</td>\n",
       "    </tr>\n",
       "    <tr>\n",
       "      <td>min</td>\n",
       "      <td>0.00000</td>\n",
       "      <td>17.000000</td>\n",
       "      <td>10.000000</td>\n",
       "    </tr>\n",
       "    <tr>\n",
       "      <td>25%</td>\n",
       "      <td>57.00000</td>\n",
       "      <td>59.000000</td>\n",
       "      <td>57.750000</td>\n",
       "    </tr>\n",
       "    <tr>\n",
       "      <td>50%</td>\n",
       "      <td>66.00000</td>\n",
       "      <td>70.000000</td>\n",
       "      <td>69.000000</td>\n",
       "    </tr>\n",
       "    <tr>\n",
       "      <td>75%</td>\n",
       "      <td>77.00000</td>\n",
       "      <td>79.000000</td>\n",
       "      <td>79.000000</td>\n",
       "    </tr>\n",
       "    <tr>\n",
       "      <td>max</td>\n",
       "      <td>100.00000</td>\n",
       "      <td>100.000000</td>\n",
       "      <td>100.000000</td>\n",
       "    </tr>\n",
       "  </tbody>\n",
       "</table>\n",
       "</div>"
      ],
      "text/plain": [
       "       math score  reading score  writing score\n",
       "count  1000.00000    1000.000000    1000.000000\n",
       "mean     66.08900      69.169000      68.054000\n",
       "std      15.16308      14.600192      15.195657\n",
       "min       0.00000      17.000000      10.000000\n",
       "25%      57.00000      59.000000      57.750000\n",
       "50%      66.00000      70.000000      69.000000\n",
       "75%      77.00000      79.000000      79.000000\n",
       "max     100.00000     100.000000     100.000000"
      ]
     },
     "execution_count": 6,
     "metadata": {},
     "output_type": "execute_result"
    }
   ],
   "source": [
    "data.describe()"
   ]
  },
  {
   "cell_type": "markdown",
   "metadata": {},
   "source": [
    "## Checking for nulls and outliers"
   ]
  },
  {
   "cell_type": "code",
   "execution_count": 7,
   "metadata": {
    "ExecuteTime": {
     "end_time": "2019-10-31T21:19:17.851115Z",
     "start_time": "2019-10-31T21:19:17.830064Z"
    }
   },
   "outputs": [
    {
     "data": {
      "text/plain": [
       "gender                         0.0\n",
       "race/ethnicity                 0.0\n",
       "parental level of education    0.0\n",
       "lunch                          0.0\n",
       "test preparation course        0.0\n",
       "math score                     0.0\n",
       "reading score                  0.0\n",
       "writing score                  0.0\n",
       "dtype: float64"
      ]
     },
     "execution_count": 7,
     "metadata": {},
     "output_type": "execute_result"
    }
   ],
   "source": [
    "data.isna().sum()/data.isna().count()"
   ]
  },
  {
   "cell_type": "markdown",
   "metadata": {},
   "source": [
    "Doesn't appear to be any null values."
   ]
  },
  {
   "cell_type": "code",
   "execution_count": 30,
   "metadata": {
    "ExecuteTime": {
     "end_time": "2019-10-31T21:26:13.912302Z",
     "start_time": "2019-10-31T21:26:13.653218Z"
    }
   },
   "outputs": [
    {
     "data": {
      "image/png": "[encoded data removed]",
      "text/plain": [
       "<Figure size 720x216 with 3 Axes>"
      ]
     },
     "metadata": {
      "needs_background": "light"
     },
     "output_type": "display_data"
    }
   ],
   "source": [
    "plt.figure(figsize = (10, 3))\n",
    "\n",
    "for index, col in enumerate(['math score', 'reading score', 'writing score']):\n",
    "    plt.subplot(1, 3, index + 1)\n",
    "    plt.boxplot(data[col])\n",
    "    plt.title(col)\n",
    "    \n",
    "plt.tight_layout()\n",
    "plt.show()"
   ]
  },
  {
   "cell_type": "markdown",
   "metadata": {},
   "source": [
    "While there are outliers present for the numerical values, we shall wait until after normalisation before dropping any observations. As such, we proceed with the assignment."
   ]
  },
  {
   "cell_type": "markdown",
   "metadata": {},
   "source": [
    "## Question 1\n",
    "Are the exam score variables normally distributed? If not, apply a Box-Cox transformation. Does anything change?"
   ]
  },
  {
   "cell_type": "code",
   "execution_count": 34,
   "metadata": {
    "ExecuteTime": {
     "end_time": "2019-10-31T21:32:46.946601Z",
     "start_time": "2019-10-31T21:32:46.943877Z"
    }
   },
   "outputs": [],
   "source": [
    "exam_scores = ['math score', 'reading score', 'writing score']"
   ]
  },
  {
   "cell_type": "code",
   "execution_count": 36,
   "metadata": {
    "ExecuteTime": {
     "end_time": "2019-10-31T21:33:09.748304Z",
     "start_time": "2019-10-31T21:33:09.166219Z"
    }
   },
   "outputs": [
    {
     "data": {
      "image/png": "[encoded data removed]",
      "text/plain": [
       "<Figure size 720x216 with 3 Axes>"
      ]
     },
     "metadata": {
      "needs_background": "light"
     },
     "output_type": "display_data"
    }
   ],
   "source": [
    "plt.figure(figsize = (10, 3))\n",
    "\n",
    "for index, col in enumerate(exam_scores):\n",
    "    plt.subplot(1, 3, index + 1)\n",
    "    plt.hist(data[col])\n",
    "    plt.title(col)\n",
    "    \n",
    "plt.tight_layout()\n",
    "plt.show()"
   ]
  },
  {
   "cell_type": "markdown",
   "metadata": {},
   "source": [
    "While the exam score variables seem to be normally distributed, we'll have to confirm this using the Jargue-Bera and Normal tests:"
   ]
  },
  {
   "cell_type": "code",
   "execution_count": 41,
   "metadata": {
    "ExecuteTime": {
     "end_time": "2019-10-31T21:37:08.978968Z",
     "start_time": "2019-10-31T21:37:08.969132Z"
    }
   },
   "outputs": [
    {
     "name": "stdout",
     "output_type": "stream",
     "text": [
      "'math score' Jarque-Bera test statistics is 15.912256686712709 and p value is 0.0003505075386818213\n",
      "'math score' Normality test statistics is 15.408960513931822 and p value is 0.00045080293869937836\n",
      "\n",
      "\n",
      "'reading score' Jarque-Bera test statistics is 11.383300575987892 and p value is 0.0033740202672214448\n",
      "'reading score' Normality test statistics is 11.11741279628622 and p value is 0.003853758403576582\n",
      "\n",
      "\n",
      "'writing score' Jarque-Bera test statistics is 13.98509448257235 and p value is 0.0009187033894586527\n",
      "'writing score' Normality test statistics is 13.606450837263859 and p value is 0.0011101885439899974\n",
      "\n",
      "\n"
     ]
    }
   ],
   "source": [
    "from scipy.stats import jarque_bera\n",
    "from scipy.stats import normaltest\n",
    "\n",
    "for col in exam_scores:\n",
    "    jb_stats = jarque_bera(data[col])\n",
    "    norm_stats = normaltest(data[col])\n",
    "    \n",
    "    print(\"'{}' Jarque-Bera test statistics is {} and p value is {}\".format(col, jb_stats[0], jb_stats[1]))\n",
    "    print(\"'{}' Normality test statistics is {} and p value is {}\".format(col, norm_stats[0], norm_stats[1]))\n",
    "    print('\\n')"
   ]
  },
  {
   "cell_type": "markdown",
   "metadata": {},
   "source": [
    "While the p-values are reasonably low, we can probably get closer to a normal distribution by applying the box-cox transformation:"
   ]
  },
  {
   "cell_type": "code",
   "execution_count": 177,
   "metadata": {
    "ExecuteTime": {
     "end_time": "2019-10-31T22:30:21.810548Z",
     "start_time": "2019-10-31T22:30:21.805862Z"
    }
   },
   "outputs": [
    {
     "data": {
      "text/plain": [
       "(112243466640, 112579585552)"
      ]
     },
     "execution_count": 177,
     "metadata": {},
     "output_type": "execute_result"
    }
   ],
   "source": [
    "data2 = data.copy()\n",
    "id(data), id(data2)"
   ]
  },
  {
   "cell_type": "markdown",
   "metadata": {},
   "source": [
    "Moreover, since the data must be positive for a box-cox transformation, we replace the 0s with 0.0001s.  "
   ]
  },
  {
   "cell_type": "code",
   "execution_count": 178,
   "metadata": {
    "ExecuteTime": {
     "end_time": "2019-10-31T22:30:31.304876Z",
     "start_time": "2019-10-31T22:30:31.298631Z"
    },
    "scrolled": true
   },
   "outputs": [
    {
     "name": "stdout",
     "output_type": "stream",
     "text": [
      "math score 1\n",
      "reading score 0\n",
      "writing score 0\n"
     ]
    }
   ],
   "source": [
    "for col in exam_scores:\n",
    "    print(col, len(data2.loc[data2[col] == 0])) "
   ]
  },
  {
   "cell_type": "code",
   "execution_count": 179,
   "metadata": {
    "ExecuteTime": {
     "end_time": "2019-10-31T22:30:31.323382Z",
     "start_time": "2019-10-31T22:30:31.306862Z"
    }
   },
   "outputs": [
    {
     "name": "stdout",
     "output_type": "stream",
     "text": [
      "math score 0\n",
      "reading score 0\n",
      "writing score 0\n"
     ]
    }
   ],
   "source": [
    "for col in exam_scores:\n",
    "    data2.loc[data2[col] == 0] = 0.0001\n",
    "    print(col, len(data2.loc[data2[col] == 0])) "
   ]
  },
  {
   "cell_type": "code",
   "execution_count": 180,
   "metadata": {
    "ExecuteTime": {
     "end_time": "2019-10-31T22:30:31.899857Z",
     "start_time": "2019-10-31T22:30:31.325617Z"
    }
   },
   "outputs": [
    {
     "data": {
      "image/png": "[encoded data removed]",
      "text/plain": [
       "<Figure size 720x216 with 3 Axes>"
      ]
     },
     "metadata": {
      "needs_background": "light"
     },
     "output_type": "display_data"
    }
   ],
   "source": [
    "from scipy.stats import boxcox\n",
    "\n",
    "plt.figure(figsize = (10, 3))\n",
    "\n",
    "for index, col in enumerate(exam_scores):\n",
    "    data2[col + '_boxcox'],_ = boxcox(data2[col])\n",
    "        \n",
    "    plt.subplot(1, 3, index + 1)\n",
    "    plt.hist(data[col], density=True)\n",
    "    plt.hist(data2[col + '_boxcox'], color= 'green', alpha = 0.5, density=True)\n",
    "    plt.title(col + '_boxcox')\n",
    "    \n",
    "plt.tight_layout()\n",
    "plt.show()"
   ]
  },
  {
   "cell_type": "markdown",
   "metadata": {},
   "source": [
    "We notice that the data is slightly transformed, so we run the Jacque-Bera tests again."
   ]
  },
  {
   "cell_type": "code",
   "execution_count": 181,
   "metadata": {
    "ExecuteTime": {
     "end_time": "2019-10-31T22:30:31.918133Z",
     "start_time": "2019-10-31T22:30:31.902719Z"
    }
   },
   "outputs": [
    {
     "name": "stdout",
     "output_type": "stream",
     "text": [
      "'math score' Jarque-Bera test statistics is 15.912185555662077 and p value is 0.00035052000488822177\n",
      "'math score' Normality test statistics is 15.408900559147664 and p value is 0.00045081645279838005\n",
      "'math score_boxcox' Jarque-Bera test statistics ARE NOW is 1.3599172827868857 and p value is 0.5066379457717509\n",
      "'math score_boxcox' Normality test statistics ARE NOW 1.2909601541333342 and p value is 0.524410724103249\n",
      "\n",
      "\n",
      "'reading score' Jarque-Bera test statistics is 17.89531404790856 and p value is 0.00013004148748074762\n",
      "'reading score' Normality test statistics is 17.43425708388516 and p value is 0.0001637567370602474\n",
      "'reading score_boxcox' Jarque-Bera test statistics ARE NOW is 3.273140756289092 and p value is 0.19464646261508922\n",
      "'reading score_boxcox' Normality test statistics ARE NOW 3.368467693850839 and p value is 0.1855865652186433\n",
      "\n",
      "\n",
      "'writing score' Jarque-Bera test statistics is 17.464730248016025 and p value is 0.00016128055626751792\n",
      "'writing score' Normality test statistics is 17.053942517229967 and p value is 0.00019805391653319952\n",
      "'writing score_boxcox' Jarque-Bera test statistics ARE NOW is 4.443112570048527 and p value is 0.10844021355407452\n",
      "'writing score_boxcox' Normality test statistics ARE NOW 4.870730015898776 and p value is 0.0875657790086858\n",
      "\n",
      "\n"
     ]
    }
   ],
   "source": [
    "for col in exam_scores:\n",
    "    \n",
    "    jb_stats = jarque_bera(data2[col])\n",
    "    norm_stats = normaltest(data2[col])\n",
    "    \n",
    "    print(\"'{}' Jarque-Bera test statistics is {} and p value is {}\".format(col, jb_stats[0], jb_stats[1]))\n",
    "    print(\"'{}' Normality test statistics is {} and p value is {}\".format(col, norm_stats[0], norm_stats[1]))\n",
    "    \n",
    "    jb_stats = jarque_bera(data2[col+ '_boxcox'])\n",
    "    norm_stats = normaltest(data2[col + '_boxcox'])\n",
    "    \n",
    "    print(\"'{}' Jarque-Bera test statistics ARE NOW is {} and p value is {}\".format(col+ '_boxcox', jb_stats[0], jb_stats[1]))\n",
    "    print(\"'{}' Normality test statistics ARE NOW {} and p value is {}\".format(col+ '_boxcox', norm_stats[0], norm_stats[1]))\n",
    "    print('\\n')"
   ]
  },
  {
   "cell_type": "markdown",
   "metadata": {},
   "source": [
    "We notice the test-statistic is much closer to 0 now, implying that the distribution is much more normal. We also check for outliers at this stage:"
   ]
  },
  {
   "cell_type": "code",
   "execution_count": 182,
   "metadata": {
    "ExecuteTime": {
     "end_time": "2019-10-31T22:30:32.211088Z",
     "start_time": "2019-10-31T22:30:31.920499Z"
    }
   },
   "outputs": [
    {
     "data": {
      "image/png": "[encoded data removed]",
      "text/plain": [
       "<Figure size 720x216 with 3 Axes>"
      ]
     },
     "metadata": {
      "needs_background": "light"
     },
     "output_type": "display_data"
    }
   ],
   "source": [
    "boxcox_exam_scores = [col + '_boxcox' for col in exam_scores]\n",
    "\n",
    "plt.figure(figsize = (10, 3))\n",
    "\n",
    "for index, col in enumerate(boxcox_exam_scores):      \n",
    "    plt.subplot(1, 3, index + 1)\n",
    "    plt.boxplot(data2[col])\n",
    "    plt.title(col)\n",
    "    \n",
    "plt.tight_layout()\n",
    "plt.show()\n"
   ]
  },
  {
   "cell_type": "markdown",
   "metadata": {},
   "source": [
    "We now apply a two-way winsorization between the 1th and 99th percentile:"
   ]
  },
  {
   "cell_type": "code",
   "execution_count": 183,
   "metadata": {
    "ExecuteTime": {
     "end_time": "2019-10-31T22:30:32.481614Z",
     "start_time": "2019-10-31T22:30:32.212465Z"
    }
   },
   "outputs": [
    {
     "data": {
      "image/png": "[encoded data removed]",
      "text/plain": [
       "<Figure size 720x216 with 3 Axes>"
      ]
     },
     "metadata": {
      "needs_background": "light"
     },
     "output_type": "display_data"
    }
   ],
   "source": [
    "plt.figure(figsize = (10, 3))\n",
    "\n",
    "for index, col in enumerate(boxcox_exam_scores):\n",
    "    data2[col + '_winsorized'] = winsorize(data2[col], limits = 0.01)\n",
    "    \n",
    "    plt.subplot(1, 3, index + 1)\n",
    "    plt.boxplot(data2[col + '_winsorized'])\n",
    "    plt.title(col + '_winsorized')\n",
    "    \n",
    "plt.tight_layout()\n",
    "plt.show()"
   ]
  },
  {
   "cell_type": "code",
   "execution_count": 184,
   "metadata": {
    "ExecuteTime": {
     "end_time": "2019-10-31T22:30:32.511030Z",
     "start_time": "2019-10-31T22:30:32.483191Z"
    }
   },
   "outputs": [
    {
     "data": {
      "text/html": [
       "<div>\n",
       "<style scoped>\n",
       "    .dataframe tbody tr th:only-of-type {\n",
       "        vertical-align: middle;\n",
       "    }\n",
       "\n",
       "    .dataframe tbody tr th {\n",
       "        vertical-align: top;\n",
       "    }\n",
       "\n",
       "    .dataframe thead th {\n",
       "        text-align: right;\n",
       "    }\n",
       "</style>\n",
       "<table border=\"1\" class=\"dataframe\">\n",
       "  <thead>\n",
       "    <tr style=\"text-align: right;\">\n",
       "      <th></th>\n",
       "      <th>math score</th>\n",
       "      <th>reading score</th>\n",
       "      <th>writing score</th>\n",
       "      <th>math score_boxcox</th>\n",
       "      <th>reading score_boxcox</th>\n",
       "      <th>writing score_boxcox</th>\n",
       "      <th>math score_boxcox_winsorized</th>\n",
       "      <th>reading score_boxcox_winsorized</th>\n",
       "      <th>writing score_boxcox_winsorized</th>\n",
       "    </tr>\n",
       "  </thead>\n",
       "  <tbody>\n",
       "    <tr>\n",
       "      <td>count</td>\n",
       "      <td>1000.00000</td>\n",
       "      <td>1000.000000</td>\n",
       "      <td>1000.000000</td>\n",
       "      <td>1000.000000</td>\n",
       "      <td>1000.000000</td>\n",
       "      <td>1000.000000</td>\n",
       "      <td>1000.000000</td>\n",
       "      <td>1000.000000</td>\n",
       "      <td>1000.000000</td>\n",
       "    </tr>\n",
       "    <tr>\n",
       "      <td>mean</td>\n",
       "      <td>66.08900</td>\n",
       "      <td>69.152000</td>\n",
       "      <td>68.044000</td>\n",
       "      <td>141.704198</td>\n",
       "      <td>178.773432</td>\n",
       "      <td>174.460985</td>\n",
       "      <td>141.822310</td>\n",
       "      <td>178.950463</td>\n",
       "      <td>174.702622</td>\n",
       "    </tr>\n",
       "    <tr>\n",
       "      <td>std</td>\n",
       "      <td>15.16308</td>\n",
       "      <td>14.670723</td>\n",
       "      <td>15.237133</td>\n",
       "      <td>39.422129</td>\n",
       "      <td>47.725809</td>\n",
       "      <td>49.015415</td>\n",
       "      <td>38.844908</td>\n",
       "      <td>47.237015</td>\n",
       "      <td>48.381385</td>\n",
       "    </tr>\n",
       "    <tr>\n",
       "      <td>min</td>\n",
       "      <td>0.00010</td>\n",
       "      <td>0.000100</td>\n",
       "      <td>0.000100</td>\n",
       "      <td>-0.812266</td>\n",
       "      <td>-0.780104</td>\n",
       "      <td>-0.780905</td>\n",
       "      <td>48.313965</td>\n",
       "      <td>65.527607</td>\n",
       "      <td>65.292888</td>\n",
       "    </tr>\n",
       "    <tr>\n",
       "      <td>25%</td>\n",
       "      <td>57.00000</td>\n",
       "      <td>59.000000</td>\n",
       "      <td>57.750000</td>\n",
       "      <td>117.050810</td>\n",
       "      <td>144.484515</td>\n",
       "      <td>139.943873</td>\n",
       "      <td>117.050810</td>\n",
       "      <td>144.484515</td>\n",
       "      <td>139.943873</td>\n",
       "    </tr>\n",
       "    <tr>\n",
       "      <td>50%</td>\n",
       "      <td>66.00000</td>\n",
       "      <td>70.000000</td>\n",
       "      <td>69.000000</td>\n",
       "      <td>140.363905</td>\n",
       "      <td>180.076221</td>\n",
       "      <td>175.965010</td>\n",
       "      <td>140.363905</td>\n",
       "      <td>180.076221</td>\n",
       "      <td>175.965010</td>\n",
       "    </tr>\n",
       "    <tr>\n",
       "      <td>75%</td>\n",
       "      <td>77.00000</td>\n",
       "      <td>79.000000</td>\n",
       "      <td>79.000000</td>\n",
       "      <td>169.866795</td>\n",
       "      <td>210.407870</td>\n",
       "      <td>209.411906</td>\n",
       "      <td>169.866795</td>\n",
       "      <td>210.407870</td>\n",
       "      <td>209.411906</td>\n",
       "    </tr>\n",
       "    <tr>\n",
       "      <td>max</td>\n",
       "      <td>100.00000</td>\n",
       "      <td>100.000000</td>\n",
       "      <td>100.000000</td>\n",
       "      <td>234.650706</td>\n",
       "      <td>284.911893</td>\n",
       "      <td>283.476651</td>\n",
       "      <td>228.866559</td>\n",
       "      <td>284.911893</td>\n",
       "      <td>283.476651</td>\n",
       "    </tr>\n",
       "  </tbody>\n",
       "</table>\n",
       "</div>"
      ],
      "text/plain": [
       "       math score  reading score  writing score  math score_boxcox  \\\n",
       "count  1000.00000    1000.000000    1000.000000        1000.000000   \n",
       "mean     66.08900      69.152000      68.044000         141.704198   \n",
       "std      15.16308      14.670723      15.237133          39.422129   \n",
       "min       0.00010       0.000100       0.000100          -0.812266   \n",
       "25%      57.00000      59.000000      57.750000         117.050810   \n",
       "50%      66.00000      70.000000      69.000000         140.363905   \n",
       "75%      77.00000      79.000000      79.000000         169.866795   \n",
       "max     100.00000     100.000000     100.000000         234.650706   \n",
       "\n",
       "       reading score_boxcox  writing score_boxcox  \\\n",
       "count           1000.000000           1000.000000   \n",
       "mean             178.773432            174.460985   \n",
       "std               47.725809             49.015415   \n",
       "min               -0.780104             -0.780905   \n",
       "25%              144.484515            139.943873   \n",
       "50%              180.076221            175.965010   \n",
       "75%              210.407870            209.411906   \n",
       "max              284.911893            283.476651   \n",
       "\n",
       "       math score_boxcox_winsorized  reading score_boxcox_winsorized  \\\n",
       "count                   1000.000000                      1000.000000   \n",
       "mean                     141.822310                       178.950463   \n",
       "std                       38.844908                        47.237015   \n",
       "min                       48.313965                        65.527607   \n",
       "25%                      117.050810                       144.484515   \n",
       "50%                      140.363905                       180.076221   \n",
       "75%                      169.866795                       210.407870   \n",
       "max                      228.866559                       284.911893   \n",
       "\n",
       "       writing score_boxcox_winsorized  \n",
       "count                      1000.000000  \n",
       "mean                        174.702622  \n",
       "std                          48.381385  \n",
       "min                          65.292888  \n",
       "25%                         139.943873  \n",
       "50%                         175.965010  \n",
       "75%                         209.411906  \n",
       "max                         283.476651  "
      ]
     },
     "execution_count": 184,
     "metadata": {},
     "output_type": "execute_result"
    }
   ],
   "source": [
    "data2.describe()"
   ]
  },
  {
   "cell_type": "markdown",
   "metadata": {},
   "source": [
    "## Question 2\n",
    "Say we want to use a single variable for the exam scores as our target. For this purpose, create a new variable by taking a weighted average of the exam scores. Check whether this new variable is normally distributed. If it's not normally distributed, apply a Box-Cox transformation and check whether or not the transformed variable is normally distributed."
   ]
  },
  {
   "cell_type": "code",
   "execution_count": 165,
   "metadata": {
    "ExecuteTime": {
     "end_time": "2019-10-31T22:27:59.919550Z",
     "start_time": "2019-10-31T22:27:59.916288Z"
    }
   },
   "outputs": [
    {
     "data": {
      "text/plain": [
       "['math score_boxcox_winsorized',\n",
       " 'reading score_boxcox_winsorized',\n",
       " 'writing score_boxcox_winsorized']"
      ]
     },
     "execution_count": 165,
     "metadata": {},
     "output_type": "execute_result"
    }
   ],
   "source": [
    "winsorized_boxcox_exam_scores = [col + '_winsorized' for col in boxcox_exam_scores]\n",
    "winsorized_boxcox_exam_scores"
   ]
  },
  {
   "cell_type": "code",
   "execution_count": 185,
   "metadata": {
    "ExecuteTime": {
     "end_time": "2019-10-31T22:30:45.142872Z",
     "start_time": "2019-10-31T22:30:44.907166Z"
    }
   },
   "outputs": [
    {
     "data": {
      "text/plain": [
       "<matplotlib.axes._subplots.AxesSubplot at 0x1a35ea4a90>"
      ]
     },
     "execution_count": 185,
     "metadata": {},
     "output_type": "execute_result"
    },
    {
     "data": {
      "image/png": "[encoded data removed]",
      "text/plain": [
       "<Figure size 432x288 with 1 Axes>"
      ]
     },
     "metadata": {
      "needs_background": "light"
     },
     "output_type": "display_data"
    }
   ],
   "source": [
    "data2['average_score'] = data2[winsorized_boxcox_exam_scores].mean(axis = 1)\n",
    "data2['average_score'].hist()"
   ]
  },
  {
   "cell_type": "code",
   "execution_count": 186,
   "metadata": {
    "ExecuteTime": {
     "end_time": "2019-10-31T22:30:47.719797Z",
     "start_time": "2019-10-31T22:30:47.713110Z"
    }
   },
   "outputs": [
    {
     "name": "stdout",
     "output_type": "stream",
     "text": [
      "'average_score' Jarque-Bera test statistics is 6.631112400051489 and p value is 0.036313845197666894\n",
      "'average_score' Normality test statistics is 9.643225950580945 and p value is 0.008053786098767871\n"
     ]
    }
   ],
   "source": [
    "jb_stats = jarque_bera(data2['average_score'])\n",
    "norm_stats = normaltest(data2['average_score'])\n",
    "    \n",
    "print(\"'{}' Jarque-Bera test statistics is {} and p value is {}\".format('average_score', jb_stats[0], jb_stats[1]))\n",
    "print(\"'{}' Normality test statistics is {} and p value is {}\".format('average_score', norm_stats[0], norm_stats[1]))"
   ]
  },
  {
   "cell_type": "markdown",
   "metadata": {},
   "source": [
    "The test-statistic seems to be reasonably distant from 0, so we run the box-cox transformation:"
   ]
  },
  {
   "cell_type": "code",
   "execution_count": 187,
   "metadata": {
    "ExecuteTime": {
     "end_time": "2019-10-31T22:30:56.142219Z",
     "start_time": "2019-10-31T22:30:55.899828Z"
    }
   },
   "outputs": [
    {
     "data": {
      "text/plain": [
       "<matplotlib.axes._subplots.AxesSubplot at 0x1a3052b3d0>"
      ]
     },
     "execution_count": 187,
     "metadata": {},
     "output_type": "execute_result"
    },
    {
     "data": {
      "image/png": "[encoded data removed]",
      "text/plain": [
       "<Figure size 432x288 with 1 Axes>"
      ]
     },
     "metadata": {
      "needs_background": "light"
     },
     "output_type": "display_data"
    }
   ],
   "source": [
    "data2['average_score_boxcox'],_ = boxcox(data2['average_score'])\n",
    "\n",
    "data2['average_score_boxcox'].hist(alpha = 0.5)\n",
    "data2['average_score'].hist(alpha = 0.5, color = 'red')"
   ]
  },
  {
   "cell_type": "code",
   "execution_count": 188,
   "metadata": {
    "ExecuteTime": {
     "end_time": "2019-10-31T22:31:01.076628Z",
     "start_time": "2019-10-31T22:31:01.070325Z"
    }
   },
   "outputs": [
    {
     "name": "stdout",
     "output_type": "stream",
     "text": [
      "'average_score_boxcox' Jarque-Bera test statistics is 6.62987188559727 and p value is 0.03633637610935292\n",
      "'average_score_boxcox' Normality test statistics is 9.65341786836076 and p value is 0.008012848732060485\n"
     ]
    }
   ],
   "source": [
    "jb_stats = jarque_bera(data2['average_score_boxcox'])\n",
    "norm_stats = normaltest(data2['average_score_boxcox'])\n",
    "    \n",
    "print(\"'{}' Jarque-Bera test statistics is {} and p value is {}\".format('average_score_boxcox', jb_stats[0], jb_stats[1]))\n",
    "print(\"'{}' Normality test statistics is {} and p value is {}\".format('average_score_boxcox', norm_stats[0], norm_stats[1]))"
   ]
  },
  {
   "cell_type": "markdown",
   "metadata": {},
   "source": [
    "Comparing the two values, it seems that there is a very small difference, and the distribution still isn't fully normal."
   ]
  },
  {
   "cell_type": "markdown",
   "metadata": {},
   "source": [
    "## Question 3\n",
    "Which variables seem related to the target variable (the newly created variable in the previous question)? If our goal is to explain the determinants of success in exams, which variables in our dataset might be useful?"
   ]
  },
  {
   "cell_type": "code",
   "execution_count": 190,
   "metadata": {
    "ExecuteTime": {
     "end_time": "2019-10-31T22:37:11.038550Z",
     "start_time": "2019-10-31T22:37:11.034550Z"
    }
   },
   "outputs": [
    {
     "data": {
      "text/plain": [
       "Index(['gender', 'race/ethnicity', 'parental level of education', 'lunch',\n",
       "       'test preparation course', 'math score', 'reading score',\n",
       "       'writing score', 'math score_boxcox', 'reading score_boxcox',\n",
       "       'writing score_boxcox', 'math score_boxcox_winsorized',\n",
       "       'reading score_boxcox_winsorized', 'writing score_boxcox_winsorized',\n",
       "       'average_score', 'average_score_boxcox'],\n",
       "      dtype='object')"
      ]
     },
     "execution_count": 190,
     "metadata": {},
     "output_type": "execute_result"
    }
   ],
   "source": [
    "data2.columns"
   ]
  },
  {
   "cell_type": "code",
   "execution_count": 223,
   "metadata": {
    "ExecuteTime": {
     "end_time": "2019-10-31T22:53:56.493175Z",
     "start_time": "2019-10-31T22:53:56.487021Z"
    }
   },
   "outputs": [
    {
     "data": {
      "text/plain": [
       "(112579585552, 112647032336)"
      ]
     },
     "execution_count": 223,
     "metadata": {},
     "output_type": "execute_result"
    }
   ],
   "source": [
    "data3 = data2[['gender', 'race/ethnicity', 'parental level of education',\n",
    "              'lunch', 'test preparation course', 'average_score_boxcox']].copy()\n",
    "\n",
    "id(data2), id(data3)"
   ]
  },
  {
   "cell_type": "markdown",
   "metadata": {},
   "source": [
    "We can answer this question by looking at a heatmap of the categorical variables, but will have to convert them to dummy first."
   ]
  },
  {
   "cell_type": "code",
   "execution_count": 224,
   "metadata": {
    "ExecuteTime": {
     "end_time": "2019-10-31T22:54:22.109065Z",
     "start_time": "2019-10-31T22:54:22.095661Z"
    }
   },
   "outputs": [],
   "source": [
    "data4 = data3.copy()\n",
    "\n",
    "cat_vars = ['gender', 'race/ethnicity', 'parental level of education',\n",
    "            'lunch', 'test preparation course']\n",
    "\n",
    "for col in cat_vars:\n",
    "    data4 = pd.concat([data4, pd.get_dummies(data4[col], drop_first = True)], axis = 1)"
   ]
  },
  {
   "cell_type": "code",
   "execution_count": 225,
   "metadata": {
    "ExecuteTime": {
     "end_time": "2019-10-31T22:54:23.759306Z",
     "start_time": "2019-10-31T22:54:23.735804Z"
    }
   },
   "outputs": [
    {
     "data": {
      "text/html": [
       "<div>\n",
       "<style scoped>\n",
       "    .dataframe tbody tr th:only-of-type {\n",
       "        vertical-align: middle;\n",
       "    }\n",
       "\n",
       "    .dataframe tbody tr th {\n",
       "        vertical-align: top;\n",
       "    }\n",
       "\n",
       "    .dataframe thead th {\n",
       "        text-align: right;\n",
       "    }\n",
       "</style>\n",
       "<table border=\"1\" class=\"dataframe\">\n",
       "  <thead>\n",
       "    <tr style=\"text-align: right;\">\n",
       "      <th></th>\n",
       "      <th>average_score_boxcox</th>\n",
       "      <th>female</th>\n",
       "      <th>male</th>\n",
       "      <th>group A</th>\n",
       "      <th>group B</th>\n",
       "      <th>group C</th>\n",
       "      <th>group D</th>\n",
       "      <th>group E</th>\n",
       "      <th>associate's degree</th>\n",
       "      <th>bachelor's degree</th>\n",
       "      <th>high school</th>\n",
       "      <th>master's degree</th>\n",
       "      <th>some college</th>\n",
       "      <th>some high school</th>\n",
       "      <th>free/reduced</th>\n",
       "      <th>standard</th>\n",
       "      <th>completed</th>\n",
       "      <th>none</th>\n",
       "    </tr>\n",
       "  </thead>\n",
       "  <tbody>\n",
       "    <tr>\n",
       "      <td>average_score_boxcox</td>\n",
       "      <td>1.000000</td>\n",
       "      <td>0.163103</td>\n",
       "      <td>-0.158174</td>\n",
       "      <td>-0.105882</td>\n",
       "      <td>-0.074340</td>\n",
       "      <td>-0.023021</td>\n",
       "      <td>0.055740</td>\n",
       "      <td>0.138312</td>\n",
       "      <td>0.065096</td>\n",
       "      <td>0.108545</td>\n",
       "      <td>-0.164898</td>\n",
       "      <td>0.106400</td>\n",
       "      <td>0.024799</td>\n",
       "      <td>-0.077343</td>\n",
       "      <td>-0.275695</td>\n",
       "      <td>0.280679</td>\n",
       "      <td>0.262096</td>\n",
       "      <td>-0.256788</td>\n",
       "    </tr>\n",
       "    <tr>\n",
       "      <td>female</td>\n",
       "      <td>0.163103</td>\n",
       "      <td>1.000000</td>\n",
       "      <td>-0.998000</td>\n",
       "      <td>-0.070371</td>\n",
       "      <td>0.029433</td>\n",
       "      <td>0.062712</td>\n",
       "      <td>-0.029372</td>\n",
       "      <td>-0.019493</td>\n",
       "      <td>0.005903</td>\n",
       "      <td>0.012369</td>\n",
       "      <td>-0.036961</td>\n",
       "      <td>0.046686</td>\n",
       "      <td>0.005541</td>\n",
       "      <td>-0.010599</td>\n",
       "      <td>0.020848</td>\n",
       "      <td>-0.018673</td>\n",
       "      <td>-0.004533</td>\n",
       "      <td>0.006687</td>\n",
       "    </tr>\n",
       "    <tr>\n",
       "      <td>male</td>\n",
       "      <td>-0.158174</td>\n",
       "      <td>-0.998000</td>\n",
       "      <td>1.000000</td>\n",
       "      <td>0.071001</td>\n",
       "      <td>-0.028466</td>\n",
       "      <td>-0.061350</td>\n",
       "      <td>0.030566</td>\n",
       "      <td>0.020302</td>\n",
       "      <td>-0.004835</td>\n",
       "      <td>-0.011638</td>\n",
       "      <td>0.037952</td>\n",
       "      <td>-0.046188</td>\n",
       "      <td>-0.004460</td>\n",
       "      <td>0.011531</td>\n",
       "      <td>-0.019368</td>\n",
       "      <td>0.021372</td>\n",
       "      <td>0.006028</td>\n",
       "      <td>-0.004013</td>\n",
       "    </tr>\n",
       "    <tr>\n",
       "      <td>group A</td>\n",
       "      <td>-0.105882</td>\n",
       "      <td>-0.070371</td>\n",
       "      <td>0.071001</td>\n",
       "      <td>1.000000</td>\n",
       "      <td>-0.151381</td>\n",
       "      <td>-0.213431</td>\n",
       "      <td>-0.186234</td>\n",
       "      <td>-0.126110</td>\n",
       "      <td>-0.048658</td>\n",
       "      <td>0.016307</td>\n",
       "      <td>0.004919</td>\n",
       "      <td>-0.033551</td>\n",
       "      <td>-0.017751</td>\n",
       "      <td>0.074900</td>\n",
       "      <td>0.033004</td>\n",
       "      <td>-0.032329</td>\n",
       "      <td>-0.006315</td>\n",
       "      <td>0.006962</td>\n",
       "    </tr>\n",
       "    <tr>\n",
       "      <td>group B</td>\n",
       "      <td>-0.074340</td>\n",
       "      <td>0.029433</td>\n",
       "      <td>-0.028466</td>\n",
       "      <td>-0.151381</td>\n",
       "      <td>1.000000</td>\n",
       "      <td>-0.330716</td>\n",
       "      <td>-0.288574</td>\n",
       "      <td>-0.195411</td>\n",
       "      <td>-0.007238</td>\n",
       "      <td>-0.019121</td>\n",
       "      <td>0.069093</td>\n",
       "      <td>-0.056363</td>\n",
       "      <td>-0.036203</td>\n",
       "      <td>0.027856</td>\n",
       "      <td>0.009275</td>\n",
       "      <td>-0.008257</td>\n",
       "      <td>-0.000106</td>\n",
       "      <td>0.001116</td>\n",
       "    </tr>\n",
       "    <tr>\n",
       "      <td>group C</td>\n",
       "      <td>-0.023021</td>\n",
       "      <td>0.062712</td>\n",
       "      <td>-0.061350</td>\n",
       "      <td>-0.213431</td>\n",
       "      <td>-0.330716</td>\n",
       "      <td>1.000000</td>\n",
       "      <td>-0.406859</td>\n",
       "      <td>-0.275509</td>\n",
       "      <td>0.038256</td>\n",
       "      <td>0.016480</td>\n",
       "      <td>0.009044</td>\n",
       "      <td>0.002169</td>\n",
       "      <td>-0.014725</td>\n",
       "      <td>-0.048300</td>\n",
       "      <td>0.001922</td>\n",
       "      <td>-0.000494</td>\n",
       "      <td>0.014136</td>\n",
       "      <td>-0.012704</td>\n",
       "    </tr>\n",
       "    <tr>\n",
       "      <td>group D</td>\n",
       "      <td>0.055740</td>\n",
       "      <td>-0.029372</td>\n",
       "      <td>0.030566</td>\n",
       "      <td>-0.186234</td>\n",
       "      <td>-0.288574</td>\n",
       "      <td>-0.406859</td>\n",
       "      <td>1.000000</td>\n",
       "      <td>-0.240402</td>\n",
       "      <td>-0.044674</td>\n",
       "      <td>-0.020556</td>\n",
       "      <td>-0.042118</td>\n",
       "      <td>0.072793</td>\n",
       "      <td>0.042347</td>\n",
       "      <td>0.020000</td>\n",
       "      <td>0.010710</td>\n",
       "      <td>-0.009458</td>\n",
       "      <td>-0.055956</td>\n",
       "      <td>0.057164</td>\n",
       "    </tr>\n",
       "    <tr>\n",
       "      <td>group E</td>\n",
       "      <td>0.138312</td>\n",
       "      <td>-0.019493</td>\n",
       "      <td>0.020302</td>\n",
       "      <td>-0.126110</td>\n",
       "      <td>-0.195411</td>\n",
       "      <td>-0.275509</td>\n",
       "      <td>-0.240402</td>\n",
       "      <td>1.000000</td>\n",
       "      <td>0.054922</td>\n",
       "      <td>0.013221</td>\n",
       "      <td>-0.039494</td>\n",
       "      <td>-0.003180</td>\n",
       "      <td>0.023153</td>\n",
       "      <td>-0.052137</td>\n",
       "      <td>-0.051587</td>\n",
       "      <td>0.052398</td>\n",
       "      <td>0.059393</td>\n",
       "      <td>-0.058515</td>\n",
       "    </tr>\n",
       "    <tr>\n",
       "      <td>associate's degree</td>\n",
       "      <td>0.065096</td>\n",
       "      <td>0.005903</td>\n",
       "      <td>-0.004835</td>\n",
       "      <td>-0.048658</td>\n",
       "      <td>-0.007238</td>\n",
       "      <td>0.038256</td>\n",
       "      <td>-0.044674</td>\n",
       "      <td>0.054922</td>\n",
       "      <td>1.000000</td>\n",
       "      <td>-0.195386</td>\n",
       "      <td>-0.263746</td>\n",
       "      <td>-0.133757</td>\n",
       "      <td>-0.288649</td>\n",
       "      <td>-0.248577</td>\n",
       "      <td>-0.007990</td>\n",
       "      <td>0.009102</td>\n",
       "      <td>0.012668</td>\n",
       "      <td>-0.011547</td>\n",
       "    </tr>\n",
       "    <tr>\n",
       "      <td>bachelor's degree</td>\n",
       "      <td>0.108545</td>\n",
       "      <td>0.012369</td>\n",
       "      <td>-0.011638</td>\n",
       "      <td>0.016307</td>\n",
       "      <td>-0.019121</td>\n",
       "      <td>0.016480</td>\n",
       "      <td>-0.020556</td>\n",
       "      <td>0.013221</td>\n",
       "      <td>-0.195386</td>\n",
       "      <td>1.000000</td>\n",
       "      <td>-0.180595</td>\n",
       "      <td>-0.091588</td>\n",
       "      <td>-0.197647</td>\n",
       "      <td>-0.170208</td>\n",
       "      <td>0.014442</td>\n",
       "      <td>-0.013668</td>\n",
       "      <td>0.024285</td>\n",
       "      <td>-0.023508</td>\n",
       "    </tr>\n",
       "    <tr>\n",
       "      <td>high school</td>\n",
       "      <td>-0.164898</td>\n",
       "      <td>-0.036961</td>\n",
       "      <td>0.037952</td>\n",
       "      <td>0.004919</td>\n",
       "      <td>0.069093</td>\n",
       "      <td>0.009044</td>\n",
       "      <td>-0.042118</td>\n",
       "      <td>-0.039494</td>\n",
       "      <td>-0.263746</td>\n",
       "      <td>-0.180595</td>\n",
       "      <td>1.000000</td>\n",
       "      <td>-0.123632</td>\n",
       "      <td>-0.266799</td>\n",
       "      <td>-0.229760</td>\n",
       "      <td>0.003245</td>\n",
       "      <td>-0.002211</td>\n",
       "      <td>-0.074446</td>\n",
       "      <td>0.075430</td>\n",
       "    </tr>\n",
       "    <tr>\n",
       "      <td>master's degree</td>\n",
       "      <td>0.106400</td>\n",
       "      <td>0.046686</td>\n",
       "      <td>-0.046188</td>\n",
       "      <td>-0.033551</td>\n",
       "      <td>-0.056363</td>\n",
       "      <td>0.002169</td>\n",
       "      <td>0.072793</td>\n",
       "      <td>-0.003180</td>\n",
       "      <td>-0.133757</td>\n",
       "      <td>-0.091588</td>\n",
       "      <td>-0.123632</td>\n",
       "      <td>1.000000</td>\n",
       "      <td>-0.135305</td>\n",
       "      <td>-0.116521</td>\n",
       "      <td>0.027636</td>\n",
       "      <td>-0.027095</td>\n",
       "      <td>-0.009933</td>\n",
       "      <td>0.010448</td>\n",
       "    </tr>\n",
       "    <tr>\n",
       "      <td>some college</td>\n",
       "      <td>0.024799</td>\n",
       "      <td>0.005541</td>\n",
       "      <td>-0.004460</td>\n",
       "      <td>-0.017751</td>\n",
       "      <td>-0.036203</td>\n",
       "      <td>-0.014725</td>\n",
       "      <td>0.042347</td>\n",
       "      <td>0.023153</td>\n",
       "      <td>-0.288649</td>\n",
       "      <td>-0.197647</td>\n",
       "      <td>-0.266799</td>\n",
       "      <td>-0.135305</td>\n",
       "      <td>1.000000</td>\n",
       "      <td>-0.251454</td>\n",
       "      <td>-0.005020</td>\n",
       "      <td>0.006146</td>\n",
       "      <td>-0.019490</td>\n",
       "      <td>0.020605</td>\n",
       "    </tr>\n",
       "    <tr>\n",
       "      <td>some high school</td>\n",
       "      <td>-0.077343</td>\n",
       "      <td>-0.010599</td>\n",
       "      <td>0.011531</td>\n",
       "      <td>0.074900</td>\n",
       "      <td>0.027856</td>\n",
       "      <td>-0.048300</td>\n",
       "      <td>0.020000</td>\n",
       "      <td>-0.052137</td>\n",
       "      <td>-0.248577</td>\n",
       "      <td>-0.170208</td>\n",
       "      <td>-0.229760</td>\n",
       "      <td>-0.116521</td>\n",
       "      <td>-0.251454</td>\n",
       "      <td>1.000000</td>\n",
       "      <td>-0.016466</td>\n",
       "      <td>0.017428</td>\n",
       "      <td>0.072396</td>\n",
       "      <td>-0.071381</td>\n",
       "    </tr>\n",
       "    <tr>\n",
       "      <td>free/reduced</td>\n",
       "      <td>-0.275695</td>\n",
       "      <td>0.020848</td>\n",
       "      <td>-0.019368</td>\n",
       "      <td>0.033004</td>\n",
       "      <td>0.009275</td>\n",
       "      <td>0.001922</td>\n",
       "      <td>0.010710</td>\n",
       "      <td>-0.051587</td>\n",
       "      <td>-0.007990</td>\n",
       "      <td>0.014442</td>\n",
       "      <td>0.003245</td>\n",
       "      <td>0.027636</td>\n",
       "      <td>-0.005020</td>\n",
       "      <td>-0.016466</td>\n",
       "      <td>1.000000</td>\n",
       "      <td>-0.997817</td>\n",
       "      <td>0.018616</td>\n",
       "      <td>-0.017062</td>\n",
       "    </tr>\n",
       "    <tr>\n",
       "      <td>standard</td>\n",
       "      <td>0.280679</td>\n",
       "      <td>-0.018673</td>\n",
       "      <td>0.021372</td>\n",
       "      <td>-0.032329</td>\n",
       "      <td>-0.008257</td>\n",
       "      <td>-0.000494</td>\n",
       "      <td>-0.009458</td>\n",
       "      <td>0.052398</td>\n",
       "      <td>0.009102</td>\n",
       "      <td>-0.013668</td>\n",
       "      <td>-0.002211</td>\n",
       "      <td>-0.027095</td>\n",
       "      <td>0.006146</td>\n",
       "      <td>0.017428</td>\n",
       "      <td>-0.997817</td>\n",
       "      <td>1.000000</td>\n",
       "      <td>-0.017044</td>\n",
       "      <td>0.019843</td>\n",
       "    </tr>\n",
       "    <tr>\n",
       "      <td>completed</td>\n",
       "      <td>0.262096</td>\n",
       "      <td>-0.004533</td>\n",
       "      <td>0.006028</td>\n",
       "      <td>-0.006315</td>\n",
       "      <td>-0.000106</td>\n",
       "      <td>0.014136</td>\n",
       "      <td>-0.055956</td>\n",
       "      <td>0.059393</td>\n",
       "      <td>0.012668</td>\n",
       "      <td>0.024285</td>\n",
       "      <td>-0.074446</td>\n",
       "      <td>-0.009933</td>\n",
       "      <td>-0.019490</td>\n",
       "      <td>0.072396</td>\n",
       "      <td>0.018616</td>\n",
       "      <td>-0.017044</td>\n",
       "      <td>1.000000</td>\n",
       "      <td>-0.997828</td>\n",
       "    </tr>\n",
       "    <tr>\n",
       "      <td>none</td>\n",
       "      <td>-0.256788</td>\n",
       "      <td>0.006687</td>\n",
       "      <td>-0.004013</td>\n",
       "      <td>0.006962</td>\n",
       "      <td>0.001116</td>\n",
       "      <td>-0.012704</td>\n",
       "      <td>0.057164</td>\n",
       "      <td>-0.058515</td>\n",
       "      <td>-0.011547</td>\n",
       "      <td>-0.023508</td>\n",
       "      <td>0.075430</td>\n",
       "      <td>0.010448</td>\n",
       "      <td>0.020605</td>\n",
       "      <td>-0.071381</td>\n",
       "      <td>-0.017062</td>\n",
       "      <td>0.019843</td>\n",
       "      <td>-0.997828</td>\n",
       "      <td>1.000000</td>\n",
       "    </tr>\n",
       "  </tbody>\n",
       "</table>\n",
       "</div>"
      ],
      "text/plain": [
       "                      average_score_boxcox    female      male   group A  \\\n",
       "average_score_boxcox              1.000000  0.163103 -0.158174 -0.105882   \n",
       "female                            0.163103  1.000000 -0.998000 -0.070371   \n",
       "male                             -0.158174 -0.998000  1.000000  0.071001   \n",
       "group A                          -0.105882 -0.070371  0.071001  1.000000   \n",
       "group B                          -0.074340  0.029433 -0.028466 -0.151381   \n",
       "group C                          -0.023021  0.062712 -0.061350 -0.213431   \n",
       "group D                           0.055740 -0.029372  0.030566 -0.186234   \n",
       "group E                           0.138312 -0.019493  0.020302 -0.126110   \n",
       "associate's degree                0.065096  0.005903 -0.004835 -0.048658   \n",
       "bachelor's degree                 0.108545  0.012369 -0.011638  0.016307   \n",
       "high school                      -0.164898 -0.036961  0.037952  0.004919   \n",
       "master's degree                   0.106400  0.046686 -0.046188 -0.033551   \n",
       "some college                      0.024799  0.005541 -0.004460 -0.017751   \n",
       "some high school                 -0.077343 -0.010599  0.011531  0.074900   \n",
       "free/reduced                     -0.275695  0.020848 -0.019368  0.033004   \n",
       "standard                          0.280679 -0.018673  0.021372 -0.032329   \n",
       "completed                         0.262096 -0.004533  0.006028 -0.006315   \n",
       "none                             -0.256788  0.006687 -0.004013  0.006962   \n",
       "\n",
       "                       group B   group C   group D   group E  \\\n",
       "average_score_boxcox -0.074340 -0.023021  0.055740  0.138312   \n",
       "female                0.029433  0.062712 -0.029372 -0.019493   \n",
       "male                 -0.028466 -0.061350  0.030566  0.020302   \n",
       "group A              -0.151381 -0.213431 -0.186234 -0.126110   \n",
       "group B               1.000000 -0.330716 -0.288574 -0.195411   \n",
       "group C              -0.330716  1.000000 -0.406859 -0.275509   \n",
       "group D              -0.288574 -0.406859  1.000000 -0.240402   \n",
       "group E              -0.195411 -0.275509 -0.240402  1.000000   \n",
       "associate's degree   -0.007238  0.038256 -0.044674  0.054922   \n",
       "bachelor's degree    -0.019121  0.016480 -0.020556  0.013221   \n",
       "high school           0.069093  0.009044 -0.042118 -0.039494   \n",
       "master's degree      -0.056363  0.002169  0.072793 -0.003180   \n",
       "some college         -0.036203 -0.014725  0.042347  0.023153   \n",
       "some high school      0.027856 -0.048300  0.020000 -0.052137   \n",
       "free/reduced          0.009275  0.001922  0.010710 -0.051587   \n",
       "standard             -0.008257 -0.000494 -0.009458  0.052398   \n",
       "completed            -0.000106  0.014136 -0.055956  0.059393   \n",
       "none                  0.001116 -0.012704  0.057164 -0.058515   \n",
       "\n",
       "                      associate's degree  bachelor's degree  high school  \\\n",
       "average_score_boxcox            0.065096           0.108545    -0.164898   \n",
       "female                          0.005903           0.012369    -0.036961   \n",
       "male                           -0.004835          -0.011638     0.037952   \n",
       "group A                        -0.048658           0.016307     0.004919   \n",
       "group B                        -0.007238          -0.019121     0.069093   \n",
       "group C                         0.038256           0.016480     0.009044   \n",
       "group D                        -0.044674          -0.020556    -0.042118   \n",
       "group E                         0.054922           0.013221    -0.039494   \n",
       "associate's degree              1.000000          -0.195386    -0.263746   \n",
       "bachelor's degree              -0.195386           1.000000    -0.180595   \n",
       "high school                    -0.263746          -0.180595     1.000000   \n",
       "master's degree                -0.133757          -0.091588    -0.123632   \n",
       "some college                   -0.288649          -0.197647    -0.266799   \n",
       "some high school               -0.248577          -0.170208    -0.229760   \n",
       "free/reduced                   -0.007990           0.014442     0.003245   \n",
       "standard                        0.009102          -0.013668    -0.002211   \n",
       "completed                       0.012668           0.024285    -0.074446   \n",
       "none                           -0.011547          -0.023508     0.075430   \n",
       "\n",
       "                      master's degree  some college  some high school  \\\n",
       "average_score_boxcox         0.106400      0.024799         -0.077343   \n",
       "female                       0.046686      0.005541         -0.010599   \n",
       "male                        -0.046188     -0.004460          0.011531   \n",
       "group A                     -0.033551     -0.017751          0.074900   \n",
       "group B                     -0.056363     -0.036203          0.027856   \n",
       "group C                      0.002169     -0.014725         -0.048300   \n",
       "group D                      0.072793      0.042347          0.020000   \n",
       "group E                     -0.003180      0.023153         -0.052137   \n",
       "associate's degree          -0.133757     -0.288649         -0.248577   \n",
       "bachelor's degree           -0.091588     -0.197647         -0.170208   \n",
       "high school                 -0.123632     -0.266799         -0.229760   \n",
       "master's degree              1.000000     -0.135305         -0.116521   \n",
       "some college                -0.135305      1.000000         -0.251454   \n",
       "some high school            -0.116521     -0.251454          1.000000   \n",
       "free/reduced                 0.027636     -0.005020         -0.016466   \n",
       "standard                    -0.027095      0.006146          0.017428   \n",
       "completed                   -0.009933     -0.019490          0.072396   \n",
       "none                         0.010448      0.020605         -0.071381   \n",
       "\n",
       "                      free/reduced  standard  completed      none  \n",
       "average_score_boxcox     -0.275695  0.280679   0.262096 -0.256788  \n",
       "female                    0.020848 -0.018673  -0.004533  0.006687  \n",
       "male                     -0.019368  0.021372   0.006028 -0.004013  \n",
       "group A                   0.033004 -0.032329  -0.006315  0.006962  \n",
       "group B                   0.009275 -0.008257  -0.000106  0.001116  \n",
       "group C                   0.001922 -0.000494   0.014136 -0.012704  \n",
       "group D                   0.010710 -0.009458  -0.055956  0.057164  \n",
       "group E                  -0.051587  0.052398   0.059393 -0.058515  \n",
       "associate's degree       -0.007990  0.009102   0.012668 -0.011547  \n",
       "bachelor's degree         0.014442 -0.013668   0.024285 -0.023508  \n",
       "high school               0.003245 -0.002211  -0.074446  0.075430  \n",
       "master's degree           0.027636 -0.027095  -0.009933  0.010448  \n",
       "some college             -0.005020  0.006146  -0.019490  0.020605  \n",
       "some high school         -0.016466  0.017428   0.072396 -0.071381  \n",
       "free/reduced              1.000000 -0.997817   0.018616 -0.017062  \n",
       "standard                 -0.997817  1.000000  -0.017044  0.019843  \n",
       "completed                 0.018616 -0.017044   1.000000 -0.997828  \n",
       "none                     -0.017062  0.019843  -0.997828  1.000000  "
      ]
     },
     "execution_count": 225,
     "metadata": {},
     "output_type": "execute_result"
    }
   ],
   "source": [
    "corr = data4.corr()\n",
    "corr"
   ]
  },
  {
   "cell_type": "code",
   "execution_count": 226,
   "metadata": {
    "ExecuteTime": {
     "end_time": "2019-10-31T22:54:27.124748Z",
     "start_time": "2019-10-31T22:54:25.907143Z"
    }
   },
   "outputs": [
    {
     "data": {
      "text/plain": [
       "<matplotlib.axes._subplots.AxesSubplot at 0x1a3ead9810>"
      ]
     },
     "execution_count": 226,
     "metadata": {},
     "output_type": "execute_result"
    },
    {
     "data": {
      "image/png": "[encoded data removed]",
      "text/plain": [
       "<Figure size 936x936 with 2 Axes>"
      ]
     },
     "metadata": {
      "needs_background": "light"
     },
     "output_type": "display_data"
    }
   ],
   "source": [
    "plt.figure(figsize=(13, 13))\n",
    "sns.heatmap(corr, square=True, annot=True, linewidths=.1, cmap=\"YlGnBu\", fmt = '.2f')"
   ]
  },
  {
   "cell_type": "markdown",
   "metadata": {},
   "source": [
    "On the whole, there is minimal correlation between any given pair of variables, except for perhaps the following:\n",
    "* `average_score_boxcox` vs. parental level of education\n",
    "* `average_score_boxcox` vs. test preparation course\n",
    "\n",
    "We can visualise this further:"
   ]
  },
  {
   "cell_type": "code",
   "execution_count": 234,
   "metadata": {
    "ExecuteTime": {
     "end_time": "2019-10-31T22:56:57.625389Z",
     "start_time": "2019-10-31T22:56:57.251994Z"
    }
   },
   "outputs": [
    {
     "data": {
      "image/png": "[encoded data removed]",
      "text/plain": [
       "<Figure size 720x216 with 1 Axes>"
      ]
     },
     "metadata": {
      "needs_background": "light"
     },
     "output_type": "display_data"
    }
   ],
   "source": [
    "plt.figure(figsize=(10, 3))\n",
    "order = ['some high school', 'high school', \"associate's degree\",\n",
    "         \"some college\", \"bachelor's degree\", \"master's degree\"]\n",
    "\n",
    "sns.barplot(data=data3, y='parental level of education',\n",
    "            x='average_score_boxcox', order=order, orient= 'h')\n",
    "plt.tight_layout()\n",
    "plt.show()"
   ]
  },
  {
   "cell_type": "code",
   "execution_count": 237,
   "metadata": {
    "ExecuteTime": {
     "end_time": "2019-10-31T22:57:51.552168Z",
     "start_time": "2019-10-31T22:57:51.289096Z"
    }
   },
   "outputs": [
    {
     "data": {
      "image/png": "[encoded data removed]",
      "text/plain": [
       "<Figure size 720x216 with 1 Axes>"
      ]
     },
     "metadata": {
      "needs_background": "light"
     },
     "output_type": "display_data"
    }
   ],
   "source": [
    "plt.figure(figsize=(10, 3))\n",
    "order = ['none', 'completed']\n",
    "\n",
    "sns.barplot(data=data3, y='test preparation course', x='average_score_boxcox', orient= 'h', order = order)\n",
    "plt.tight_layout()\n",
    "plt.show()"
   ]
  }
 ],
 "metadata": {
  "kernelspec": {
   "display_name": "Python 3",
   "language": "python",
   "name": "python3"
  },
  "language_info": {
   "codemirror_mode": {
    "name": "ipython",
    "version": 3
   },
   "file_extension": ".py",
   "mimetype": "text/x-python",
   "name": "python",
   "nbconvert_exporter": "python",
   "pygments_lexer": "ipython3",
   "version": "3.7.4"
  },
  "toc": {
   "base_numbering": "0",
   "nav_menu": {},
   "number_sections": true,
   "sideBar": true,
   "skip_h1_title": true,
   "title_cell": "Table of Contents",
   "title_sidebar": "Contents",
   "toc_cell": true,
   "toc_position": {},
   "toc_section_display": true,
   "toc_window_display": true
  }
 },
 "nbformat": 4,
 "nbformat_minor": 2
}
