{
 "cells": [
  {
   "cell_type": "markdown",
   "metadata": {
    "toc": true
   },
   "source": [
    "<h1>Table of Contents<span class=\"tocSkip\"></span></h1>\n",
    "<div class=\"toc\"><ul class=\"toc-item\"><li><span><a href=\"#Question-1\" data-toc-modified-id=\"Question-1-1\"><span class=\"toc-item-num\">1&nbsp;&nbsp;</span>Question 1</a></span><ul class=\"toc-item\"><li><span><a href=\"#Answer-1\" data-toc-modified-id=\"Answer-1-1.1\"><span class=\"toc-item-num\">1.1&nbsp;&nbsp;</span>Answer 1</a></span></li></ul></li><li><span><a href=\"#Question-2\" data-toc-modified-id=\"Question-2-2\"><span class=\"toc-item-num\">2&nbsp;&nbsp;</span>Question 2</a></span><ul class=\"toc-item\"><li><span><a href=\"#Answer-2\" data-toc-modified-id=\"Answer-2-2.1\"><span class=\"toc-item-num\">2.1&nbsp;&nbsp;</span>Answer 2</a></span></li></ul></li><li><span><a href=\"#Question-3\" data-toc-modified-id=\"Question-3-3\"><span class=\"toc-item-num\">3&nbsp;&nbsp;</span>Question 3</a></span><ul class=\"toc-item\"><li><span><a href=\"#Answer-3\" data-toc-modified-id=\"Answer-3-3.1\"><span class=\"toc-item-num\">3.1&nbsp;&nbsp;</span>Answer 3</a></span></li></ul></li><li><span><a href=\"#Question-4\" data-toc-modified-id=\"Question-4-4\"><span class=\"toc-item-num\">4&nbsp;&nbsp;</span>Question 4</a></span><ul class=\"toc-item\"><li><span><a href=\"#Answer-4\" data-toc-modified-id=\"Answer-4-4.1\"><span class=\"toc-item-num\">4.1&nbsp;&nbsp;</span>Answer 4</a></span></li></ul></li><li><span><a href=\"#Question-5\" data-toc-modified-id=\"Question-5-5\"><span class=\"toc-item-num\">5&nbsp;&nbsp;</span>Question 5</a></span><ul class=\"toc-item\"><li><span><a href=\"#Answer-5\" data-toc-modified-id=\"Answer-5-5.1\"><span class=\"toc-item-num\">5.1&nbsp;&nbsp;</span>Answer 5</a></span></li></ul></li><li><span><a href=\"#Question-6\" data-toc-modified-id=\"Question-6-6\"><span class=\"toc-item-num\">6&nbsp;&nbsp;</span>Question 6</a></span><ul class=\"toc-item\"><li><span><a href=\"#Answer-6\" data-toc-modified-id=\"Answer-6-6.1\"><span class=\"toc-item-num\">6.1&nbsp;&nbsp;</span>Answer 6</a></span></li></ul></li></ul></div>"
   ]
  },
  {
   "cell_type": "code",
   "execution_count": 2,
   "metadata": {
    "ExecuteTime": {
     "end_time": "2019-11-01T01:39:22.928457Z",
     "start_time": "2019-11-01T01:39:20.802642Z"
    }
   },
   "outputs": [],
   "source": [
    "import matplotlib.pyplot as plt\n",
    "import numpy as np\n",
    "import pandas as pd\n",
    "from sqlalchemy import create_engine\n",
    "import warnings\n",
    "\n",
    "warnings.filterwarnings('ignore')\n",
    "\n",
    "postgres_user = 'dsbc_student'\n",
    "postgres_pw = '7*.8G9QH21'\n",
    "postgres_host = '142.93.121.174'\n",
    "postgres_port = '5432'\n",
    "postgres_db = 'useducation'\n",
    "\n",
    "engine = create_engine('postgresql://{}:{}@{}:{}/{}'.format(\n",
    "    postgres_user, postgres_pw, postgres_host, postgres_port, postgres_db))\n",
    "\n",
    "data = pd.read_sql_query('select * from useducation',con=engine)\n",
    "\n",
    "# no need for an open connection, \n",
    "# as we're only doing a single query\n",
    "engine.dispose()"
   ]
  },
  {
   "cell_type": "code",
   "execution_count": 3,
   "metadata": {
    "ExecuteTime": {
     "end_time": "2019-11-01T01:39:22.983383Z",
     "start_time": "2019-11-01T01:39:22.930595Z"
    }
   },
   "outputs": [
    {
     "data": {
      "text/html": [
       "<div>\n",
       "<style scoped>\n",
       "    .dataframe tbody tr th:only-of-type {\n",
       "        vertical-align: middle;\n",
       "    }\n",
       "\n",
       "    .dataframe tbody tr th {\n",
       "        vertical-align: top;\n",
       "    }\n",
       "\n",
       "    .dataframe thead th {\n",
       "        text-align: right;\n",
       "    }\n",
       "</style>\n",
       "<table border=\"1\" class=\"dataframe\">\n",
       "  <thead>\n",
       "    <tr style=\"text-align: right;\">\n",
       "      <th></th>\n",
       "      <th>PRIMARY_KEY</th>\n",
       "      <th>STATE</th>\n",
       "      <th>YEAR</th>\n",
       "      <th>ENROLL</th>\n",
       "      <th>TOTAL_REVENUE</th>\n",
       "      <th>FEDERAL_REVENUE</th>\n",
       "      <th>STATE_REVENUE</th>\n",
       "      <th>LOCAL_REVENUE</th>\n",
       "      <th>TOTAL_EXPENDITURE</th>\n",
       "      <th>INSTRUCTION_EXPENDITURE</th>\n",
       "      <th>...</th>\n",
       "      <th>GRADES_4_G</th>\n",
       "      <th>GRADES_8_G</th>\n",
       "      <th>GRADES_12_G</th>\n",
       "      <th>GRADES_1_8_G</th>\n",
       "      <th>GRADES_9_12_G</th>\n",
       "      <th>GRADES_ALL_G</th>\n",
       "      <th>AVG_MATH_4_SCORE</th>\n",
       "      <th>AVG_MATH_8_SCORE</th>\n",
       "      <th>AVG_READING_4_SCORE</th>\n",
       "      <th>AVG_READING_8_SCORE</th>\n",
       "    </tr>\n",
       "  </thead>\n",
       "  <tbody>\n",
       "    <tr>\n",
       "      <td>0</td>\n",
       "      <td>1992_ALABAMA</td>\n",
       "      <td>ALABAMA</td>\n",
       "      <td>1992</td>\n",
       "      <td>NaN</td>\n",
       "      <td>2678885.0</td>\n",
       "      <td>304177.0</td>\n",
       "      <td>1659028.0</td>\n",
       "      <td>715680.0</td>\n",
       "      <td>2653798.0</td>\n",
       "      <td>1481703.0</td>\n",
       "      <td>...</td>\n",
       "      <td>57948.0</td>\n",
       "      <td>58025.0</td>\n",
       "      <td>41167.0</td>\n",
       "      <td>471564.0</td>\n",
       "      <td>196386.0</td>\n",
       "      <td>676174.0</td>\n",
       "      <td>208.327876</td>\n",
       "      <td>252.187522</td>\n",
       "      <td>207.963517</td>\n",
       "      <td>NaN</td>\n",
       "    </tr>\n",
       "    <tr>\n",
       "      <td>1</td>\n",
       "      <td>1992_ALASKA</td>\n",
       "      <td>ALASKA</td>\n",
       "      <td>1992</td>\n",
       "      <td>NaN</td>\n",
       "      <td>1049591.0</td>\n",
       "      <td>106780.0</td>\n",
       "      <td>720711.0</td>\n",
       "      <td>222100.0</td>\n",
       "      <td>972488.0</td>\n",
       "      <td>498362.0</td>\n",
       "      <td>...</td>\n",
       "      <td>9748.0</td>\n",
       "      <td>8789.0</td>\n",
       "      <td>6714.0</td>\n",
       "      <td>79117.0</td>\n",
       "      <td>30847.0</td>\n",
       "      <td>112335.0</td>\n",
       "      <td>NaN</td>\n",
       "      <td>NaN</td>\n",
       "      <td>NaN</td>\n",
       "      <td>258.859712</td>\n",
       "    </tr>\n",
       "    <tr>\n",
       "      <td>2</td>\n",
       "      <td>1992_ARIZONA</td>\n",
       "      <td>ARIZONA</td>\n",
       "      <td>1992</td>\n",
       "      <td>NaN</td>\n",
       "      <td>3258079.0</td>\n",
       "      <td>297888.0</td>\n",
       "      <td>1369815.0</td>\n",
       "      <td>1590376.0</td>\n",
       "      <td>3401580.0</td>\n",
       "      <td>1435908.0</td>\n",
       "      <td>...</td>\n",
       "      <td>55433.0</td>\n",
       "      <td>49081.0</td>\n",
       "      <td>37410.0</td>\n",
       "      <td>437127.0</td>\n",
       "      <td>175210.0</td>\n",
       "      <td>614881.0</td>\n",
       "      <td>215.253932</td>\n",
       "      <td>265.366278</td>\n",
       "      <td>206.212716</td>\n",
       "      <td>262.169895</td>\n",
       "    </tr>\n",
       "    <tr>\n",
       "      <td>3</td>\n",
       "      <td>1992_ARKANSAS</td>\n",
       "      <td>ARKANSAS</td>\n",
       "      <td>1992</td>\n",
       "      <td>NaN</td>\n",
       "      <td>1711959.0</td>\n",
       "      <td>178571.0</td>\n",
       "      <td>958785.0</td>\n",
       "      <td>574603.0</td>\n",
       "      <td>1743022.0</td>\n",
       "      <td>964323.0</td>\n",
       "      <td>...</td>\n",
       "      <td>34632.0</td>\n",
       "      <td>36011.0</td>\n",
       "      <td>27651.0</td>\n",
       "      <td>281338.0</td>\n",
       "      <td>123113.0</td>\n",
       "      <td>405259.0</td>\n",
       "      <td>210.206028</td>\n",
       "      <td>256.312090</td>\n",
       "      <td>208.634458</td>\n",
       "      <td>264.619665</td>\n",
       "    </tr>\n",
       "    <tr>\n",
       "      <td>4</td>\n",
       "      <td>1992_CALIFORNIA</td>\n",
       "      <td>CALIFORNIA</td>\n",
       "      <td>1992</td>\n",
       "      <td>NaN</td>\n",
       "      <td>26260025.0</td>\n",
       "      <td>2072470.0</td>\n",
       "      <td>16546514.0</td>\n",
       "      <td>7641041.0</td>\n",
       "      <td>27138832.0</td>\n",
       "      <td>14358922.0</td>\n",
       "      <td>...</td>\n",
       "      <td>418418.0</td>\n",
       "      <td>363296.0</td>\n",
       "      <td>270675.0</td>\n",
       "      <td>3286034.0</td>\n",
       "      <td>1372011.0</td>\n",
       "      <td>4717112.0</td>\n",
       "      <td>208.398961</td>\n",
       "      <td>260.892247</td>\n",
       "      <td>196.764414</td>\n",
       "      <td>NaN</td>\n",
       "    </tr>\n",
       "  </tbody>\n",
       "</table>\n",
       "<p>5 rows × 25 columns</p>\n",
       "</div>"
      ],
      "text/plain": [
       "       PRIMARY_KEY       STATE  YEAR  ENROLL  TOTAL_REVENUE  FEDERAL_REVENUE  \\\n",
       "0     1992_ALABAMA     ALABAMA  1992     NaN      2678885.0         304177.0   \n",
       "1      1992_ALASKA      ALASKA  1992     NaN      1049591.0         106780.0   \n",
       "2     1992_ARIZONA     ARIZONA  1992     NaN      3258079.0         297888.0   \n",
       "3    1992_ARKANSAS    ARKANSAS  1992     NaN      1711959.0         178571.0   \n",
       "4  1992_CALIFORNIA  CALIFORNIA  1992     NaN     26260025.0        2072470.0   \n",
       "\n",
       "   STATE_REVENUE  LOCAL_REVENUE  TOTAL_EXPENDITURE  INSTRUCTION_EXPENDITURE  \\\n",
       "0      1659028.0       715680.0          2653798.0                1481703.0   \n",
       "1       720711.0       222100.0           972488.0                 498362.0   \n",
       "2      1369815.0      1590376.0          3401580.0                1435908.0   \n",
       "3       958785.0       574603.0          1743022.0                 964323.0   \n",
       "4     16546514.0      7641041.0         27138832.0               14358922.0   \n",
       "\n",
       "   ...  GRADES_4_G  GRADES_8_G  GRADES_12_G  GRADES_1_8_G  GRADES_9_12_G  \\\n",
       "0  ...     57948.0     58025.0      41167.0      471564.0       196386.0   \n",
       "1  ...      9748.0      8789.0       6714.0       79117.0        30847.0   \n",
       "2  ...     55433.0     49081.0      37410.0      437127.0       175210.0   \n",
       "3  ...     34632.0     36011.0      27651.0      281338.0       123113.0   \n",
       "4  ...    418418.0    363296.0     270675.0     3286034.0      1372011.0   \n",
       "\n",
       "   GRADES_ALL_G  AVG_MATH_4_SCORE  AVG_MATH_8_SCORE  AVG_READING_4_SCORE  \\\n",
       "0      676174.0        208.327876        252.187522           207.963517   \n",
       "1      112335.0               NaN               NaN                  NaN   \n",
       "2      614881.0        215.253932        265.366278           206.212716   \n",
       "3      405259.0        210.206028        256.312090           208.634458   \n",
       "4     4717112.0        208.398961        260.892247           196.764414   \n",
       "\n",
       "   AVG_READING_8_SCORE  \n",
       "0                  NaN  \n",
       "1           258.859712  \n",
       "2           262.169895  \n",
       "3           264.619665  \n",
       "4                  NaN  \n",
       "\n",
       "[5 rows x 25 columns]"
      ]
     },
     "execution_count": 3,
     "metadata": {},
     "output_type": "execute_result"
    }
   ],
   "source": [
    "data.head()"
   ]
  },
  {
   "cell_type": "markdown",
   "metadata": {},
   "source": [
    "## Question 1\n",
    "\n",
    "Consider the two variables: TOTAL_REVENUE and TOTAL_EXPENDITURE. Do these variables have outlier values?\n"
   ]
  },
  {
   "cell_type": "code",
   "execution_count": 4,
   "metadata": {
    "ExecuteTime": {
     "end_time": "2019-11-01T01:39:22.991778Z",
     "start_time": "2019-11-01T01:39:22.985942Z"
    }
   },
   "outputs": [
    {
     "data": {
      "text/plain": [
       "TOTAL_REVENUE        float64\n",
       "TOTAL_EXPENDITURE    float64\n",
       "dtype: object"
      ]
     },
     "execution_count": 4,
     "metadata": {},
     "output_type": "execute_result"
    }
   ],
   "source": [
    "data[['TOTAL_REVENUE', 'TOTAL_EXPENDITURE']].dtypes"
   ]
  },
  {
   "cell_type": "code",
   "execution_count": 5,
   "metadata": {
    "ExecuteTime": {
     "end_time": "2019-11-01T01:39:23.009241Z",
     "start_time": "2019-11-01T01:39:22.994063Z"
    }
   },
   "outputs": [
    {
     "data": {
      "text/plain": [
       "TOTAL_REVENUE        0.142091\n",
       "TOTAL_EXPENDITURE    0.142091\n",
       "dtype: float64"
      ]
     },
     "execution_count": 5,
     "metadata": {},
     "output_type": "execute_result"
    }
   ],
   "source": [
    "data[['TOTAL_REVENUE', 'TOTAL_EXPENDITURE']].isnull().sum(\n",
    ")/data[['TOTAL_REVENUE', 'TOTAL_EXPENDITURE']].isnull().count()"
   ]
  },
  {
   "cell_type": "markdown",
   "metadata": {},
   "source": [
    "We notice that there are some null values that we need to address first. Since 14% of the data is a fairly substantial amount, we shall fill them up with the respective medians."
   ]
  },
  {
   "cell_type": "code",
   "execution_count": 6,
   "metadata": {
    "ExecuteTime": {
     "end_time": "2019-11-01T01:39:23.020345Z",
     "start_time": "2019-11-01T01:39:23.010811Z"
    }
   },
   "outputs": [
    {
     "data": {
      "text/plain": [
       "TOTAL_REVENUE        0.0\n",
       "TOTAL_EXPENDITURE    0.0\n",
       "dtype: float64"
      ]
     },
     "execution_count": 6,
     "metadata": {},
     "output_type": "execute_result"
    }
   ],
   "source": [
    "data2 = data.copy()\n",
    "\n",
    "data2['TOTAL_REVENUE'] = data2['TOTAL_REVENUE'].fillna(np.nanmedian(data2['TOTAL_REVENUE']))\n",
    "data2['TOTAL_EXPENDITURE'] = data2['TOTAL_EXPENDITURE'].fillna(np.nanmedian(data2['TOTAL_EXPENDITURE']))\n",
    "\n",
    "data2[['TOTAL_REVENUE', 'TOTAL_EXPENDITURE']].isnull().sum(\n",
    ")/data2[['TOTAL_REVENUE', 'TOTAL_EXPENDITURE']].isnull().count()"
   ]
  },
  {
   "cell_type": "markdown",
   "metadata": {},
   "source": [
    "The null values are filled up."
   ]
  },
  {
   "cell_type": "code",
   "execution_count": 7,
   "metadata": {
    "ExecuteTime": {
     "end_time": "2019-11-01T01:39:23.034267Z",
     "start_time": "2019-11-01T01:39:23.021812Z"
    }
   },
   "outputs": [
    {
     "data": {
      "text/html": [
       "<div>\n",
       "<style scoped>\n",
       "    .dataframe tbody tr th:only-of-type {\n",
       "        vertical-align: middle;\n",
       "    }\n",
       "\n",
       "    .dataframe tbody tr th {\n",
       "        vertical-align: top;\n",
       "    }\n",
       "\n",
       "    .dataframe thead th {\n",
       "        text-align: right;\n",
       "    }\n",
       "</style>\n",
       "<table border=\"1\" class=\"dataframe\">\n",
       "  <thead>\n",
       "    <tr style=\"text-align: right;\">\n",
       "      <th></th>\n",
       "      <th>TOTAL_REVENUE</th>\n",
       "      <th>TOTAL_EXPENDITURE</th>\n",
       "    </tr>\n",
       "  </thead>\n",
       "  <tbody>\n",
       "    <tr>\n",
       "      <td>count</td>\n",
       "      <td>1.492000e+03</td>\n",
       "      <td>1.492000e+03</td>\n",
       "    </tr>\n",
       "    <tr>\n",
       "      <td>mean</td>\n",
       "      <td>8.521936e+06</td>\n",
       "      <td>8.633691e+06</td>\n",
       "    </tr>\n",
       "    <tr>\n",
       "      <td>std</td>\n",
       "      <td>1.096808e+07</td>\n",
       "      <td>1.117990e+07</td>\n",
       "    </tr>\n",
       "    <tr>\n",
       "      <td>min</td>\n",
       "      <td>4.656500e+05</td>\n",
       "      <td>4.816650e+05</td>\n",
       "    </tr>\n",
       "    <tr>\n",
       "      <td>25%</td>\n",
       "      <td>2.546261e+06</td>\n",
       "      <td>2.523968e+06</td>\n",
       "    </tr>\n",
       "    <tr>\n",
       "      <td>50%</td>\n",
       "      <td>5.079546e+06</td>\n",
       "      <td>5.234506e+06</td>\n",
       "    </tr>\n",
       "    <tr>\n",
       "      <td>75%</td>\n",
       "      <td>9.276958e+06</td>\n",
       "      <td>9.434922e+06</td>\n",
       "    </tr>\n",
       "    <tr>\n",
       "      <td>max</td>\n",
       "      <td>8.921726e+07</td>\n",
       "      <td>8.532013e+07</td>\n",
       "    </tr>\n",
       "  </tbody>\n",
       "</table>\n",
       "</div>"
      ],
      "text/plain": [
       "       TOTAL_REVENUE  TOTAL_EXPENDITURE\n",
       "count   1.492000e+03       1.492000e+03\n",
       "mean    8.521936e+06       8.633691e+06\n",
       "std     1.096808e+07       1.117990e+07\n",
       "min     4.656500e+05       4.816650e+05\n",
       "25%     2.546261e+06       2.523968e+06\n",
       "50%     5.079546e+06       5.234506e+06\n",
       "75%     9.276958e+06       9.434922e+06\n",
       "max     8.921726e+07       8.532013e+07"
      ]
     },
     "execution_count": 7,
     "metadata": {},
     "output_type": "execute_result"
    }
   ],
   "source": [
    "data2[['TOTAL_REVENUE', 'TOTAL_EXPENDITURE']].describe()"
   ]
  },
  {
   "cell_type": "code",
   "execution_count": 8,
   "metadata": {
    "ExecuteTime": {
     "end_time": "2019-11-01T01:39:23.148778Z",
     "start_time": "2019-11-01T01:39:23.035679Z"
    }
   },
   "outputs": [
    {
     "data": {
      "text/plain": [
       "{'whiskers': [<matplotlib.lines.Line2D at 0x11aa6ee50>,\n",
       "  <matplotlib.lines.Line2D at 0x11aa4ee50>],\n",
       " 'caps': [<matplotlib.lines.Line2D at 0x11aa7f910>,\n",
       "  <matplotlib.lines.Line2D at 0x11aa7fe10>],\n",
       " 'boxes': [<matplotlib.lines.Line2D at 0x11aa6e150>],\n",
       " 'medians': [<matplotlib.lines.Line2D at 0x11aa6ef10>],\n",
       " 'fliers': [<matplotlib.lines.Line2D at 0x11aa89890>],\n",
       " 'means': []}"
      ]
     },
     "execution_count": 8,
     "metadata": {},
     "output_type": "execute_result"
    },
    {
     "data": {
      "image/png": "[encoded data removed]",
      "text/plain": [
       "<Figure size 432x288 with 1 Axes>"
      ]
     },
     "metadata": {
      "needs_background": "light"
     },
     "output_type": "display_data"
    }
   ],
   "source": [
    "plt.boxplot(data2['TOTAL_EXPENDITURE'])"
   ]
  },
  {
   "cell_type": "code",
   "execution_count": 9,
   "metadata": {
    "ExecuteTime": {
     "end_time": "2019-11-01T01:39:23.293478Z",
     "start_time": "2019-11-01T01:39:23.152294Z"
    }
   },
   "outputs": [
    {
     "data": {
      "image/png": "[encoded data removed]",
      "text/plain": [
       "<Figure size 432x288 with 1 Axes>"
      ]
     },
     "metadata": {
      "needs_background": "light"
     },
     "output_type": "display_data"
    }
   ],
   "source": [
    "plt.hist(data['TOTAL_EXPENDITURE'])\n",
    "plt.axvline(x = np.nanmean(data['TOTAL_EXPENDITURE']), c = 'red', label = \"mean\")\n",
    "plt.axvline(x = np.nanmedian(data['TOTAL_EXPENDITURE']), c = 'green', label = \"median\")\n",
    "plt.legend()\n",
    "plt.show()"
   ]
  },
  {
   "cell_type": "markdown",
   "metadata": {},
   "source": [
    "### Answer 1\n",
    "\n",
    "Both the boxplot and the histogram confirm that the data contains outliers. We'll use Tukey's method to quantify the number of outliers at each level."
   ]
  },
  {
   "cell_type": "markdown",
   "metadata": {},
   "source": [
    "## Question 2\n",
    "\n",
    "If you detect outliers in the TOTAL_REVENUE and TOTAL_EXPENDITURE variables, apply the techniques you learned in this checkpoint to eliminate them and validate that there's no outlier values after you handled them."
   ]
  },
  {
   "cell_type": "markdown",
   "metadata": {},
   "source": [
    "### Answer 2"
   ]
  },
  {
   "cell_type": "code",
   "execution_count": 10,
   "metadata": {
    "ExecuteTime": {
     "end_time": "2019-11-01T01:39:23.301984Z",
     "start_time": "2019-11-01T01:39:23.296196Z"
    }
   },
   "outputs": [],
   "source": [
    "def tukeys_visualizers(dataframe, list_of_cols):\n",
    "    \n",
    "    for col in list_of_cols:\n",
    "        #print(\"Calculating outliers for:\", col)\n",
    "        q75, q25 = np.percentile(dataframe[col], [75, 25])\n",
    "        iqr = q75 - q25\n",
    "\n",
    "        outliers = []\n",
    "        thresholds = []\n",
    "\n",
    "        for threshold in np.arange(1, 15, 0.5):\n",
    "            min_val = q25 - (iqr*threshold)\n",
    "            max_val = q75 + (iqr*threshold)\n",
    "\n",
    "            outlier_count = len((np.where((dataframe[col] > max_val) | (dataframe[col] < min_val))[0]))\n",
    "\n",
    "            #print(\"The score threshold is: {}\".format(threshold))\n",
    "            #print(\"Number of outliers is: {}\".format(outlier_count))\n",
    "\n",
    "            outliers.append(outlier_count)\n",
    "            thresholds.append(threshold)\n",
    "\n",
    "        visuals = pd.Series(outliers, thresholds)\n",
    "        visuals.plot(label = col)\n",
    "\n",
    "    plt.legend()\n",
    "    plt.xlabel('IQR Threshold')\n",
    "    plt.ylabel('Number of outliers')\n",
    "    plt.xticks(ticks = range(1, 15))\n",
    "    plt.show()"
   ]
  },
  {
   "cell_type": "code",
   "execution_count": 11,
   "metadata": {
    "ExecuteTime": {
     "end_time": "2019-11-01T01:39:23.497327Z",
     "start_time": "2019-11-01T01:39:23.303747Z"
    }
   },
   "outputs": [
    {
     "data": {
      "image/png": "[encoded data removed]",
      "text/plain": [
       "<Figure size 432x288 with 1 Axes>"
      ]
     },
     "metadata": {
      "needs_background": "light"
     },
     "output_type": "display_data"
    }
   ],
   "source": [
    "tukeys_visualizers(data2, list_of_cols = ['TOTAL_REVENUE', 'TOTAL_EXPENDITURE'])"
   ]
  },
  {
   "cell_type": "markdown",
   "metadata": {},
   "source": [
    "We notice that there's a sharp decline in the number of outliers at a threshold of 3, so we'll drop the values outside that threshold and see how the data changes. "
   ]
  },
  {
   "cell_type": "code",
   "execution_count": 12,
   "metadata": {
    "ExecuteTime": {
     "end_time": "2019-11-01T01:39:23.521472Z",
     "start_time": "2019-11-01T01:39:23.498764Z"
    }
   },
   "outputs": [
    {
     "data": {
      "text/html": [
       "<div>\n",
       "<style scoped>\n",
       "    .dataframe tbody tr th:only-of-type {\n",
       "        vertical-align: middle;\n",
       "    }\n",
       "\n",
       "    .dataframe tbody tr th {\n",
       "        vertical-align: top;\n",
       "    }\n",
       "\n",
       "    .dataframe thead th {\n",
       "        text-align: right;\n",
       "    }\n",
       "</style>\n",
       "<table border=\"1\" class=\"dataframe\">\n",
       "  <thead>\n",
       "    <tr style=\"text-align: right;\">\n",
       "      <th></th>\n",
       "      <th>PRIMARY_KEY</th>\n",
       "      <th>STATE</th>\n",
       "      <th>YEAR</th>\n",
       "      <th>ENROLL</th>\n",
       "      <th>TOTAL_REVENUE</th>\n",
       "      <th>FEDERAL_REVENUE</th>\n",
       "      <th>STATE_REVENUE</th>\n",
       "      <th>LOCAL_REVENUE</th>\n",
       "      <th>TOTAL_EXPENDITURE</th>\n",
       "      <th>INSTRUCTION_EXPENDITURE</th>\n",
       "      <th>...</th>\n",
       "      <th>GRADES_4_G</th>\n",
       "      <th>GRADES_8_G</th>\n",
       "      <th>GRADES_12_G</th>\n",
       "      <th>GRADES_1_8_G</th>\n",
       "      <th>GRADES_9_12_G</th>\n",
       "      <th>GRADES_ALL_G</th>\n",
       "      <th>AVG_MATH_4_SCORE</th>\n",
       "      <th>AVG_MATH_8_SCORE</th>\n",
       "      <th>AVG_READING_4_SCORE</th>\n",
       "      <th>AVG_READING_8_SCORE</th>\n",
       "    </tr>\n",
       "  </thead>\n",
       "  <tbody>\n",
       "    <tr>\n",
       "      <td>0</td>\n",
       "      <td>1992_ALABAMA</td>\n",
       "      <td>ALABAMA</td>\n",
       "      <td>1992</td>\n",
       "      <td>NaN</td>\n",
       "      <td>2678885.0</td>\n",
       "      <td>304177.0</td>\n",
       "      <td>1659028.0</td>\n",
       "      <td>715680.0</td>\n",
       "      <td>2653798.0</td>\n",
       "      <td>1481703.0</td>\n",
       "      <td>...</td>\n",
       "      <td>57948.0</td>\n",
       "      <td>58025.0</td>\n",
       "      <td>41167.0</td>\n",
       "      <td>471564.0</td>\n",
       "      <td>196386.0</td>\n",
       "      <td>676174.0</td>\n",
       "      <td>208.327876</td>\n",
       "      <td>252.187522</td>\n",
       "      <td>207.963517</td>\n",
       "      <td>NaN</td>\n",
       "    </tr>\n",
       "    <tr>\n",
       "      <td>1</td>\n",
       "      <td>1992_ALASKA</td>\n",
       "      <td>ALASKA</td>\n",
       "      <td>1992</td>\n",
       "      <td>NaN</td>\n",
       "      <td>1049591.0</td>\n",
       "      <td>106780.0</td>\n",
       "      <td>720711.0</td>\n",
       "      <td>222100.0</td>\n",
       "      <td>972488.0</td>\n",
       "      <td>498362.0</td>\n",
       "      <td>...</td>\n",
       "      <td>9748.0</td>\n",
       "      <td>8789.0</td>\n",
       "      <td>6714.0</td>\n",
       "      <td>79117.0</td>\n",
       "      <td>30847.0</td>\n",
       "      <td>112335.0</td>\n",
       "      <td>NaN</td>\n",
       "      <td>NaN</td>\n",
       "      <td>NaN</td>\n",
       "      <td>258.859712</td>\n",
       "    </tr>\n",
       "    <tr>\n",
       "      <td>2</td>\n",
       "      <td>1992_ARIZONA</td>\n",
       "      <td>ARIZONA</td>\n",
       "      <td>1992</td>\n",
       "      <td>NaN</td>\n",
       "      <td>3258079.0</td>\n",
       "      <td>297888.0</td>\n",
       "      <td>1369815.0</td>\n",
       "      <td>1590376.0</td>\n",
       "      <td>3401580.0</td>\n",
       "      <td>1435908.0</td>\n",
       "      <td>...</td>\n",
       "      <td>55433.0</td>\n",
       "      <td>49081.0</td>\n",
       "      <td>37410.0</td>\n",
       "      <td>437127.0</td>\n",
       "      <td>175210.0</td>\n",
       "      <td>614881.0</td>\n",
       "      <td>215.253932</td>\n",
       "      <td>265.366278</td>\n",
       "      <td>206.212716</td>\n",
       "      <td>262.169895</td>\n",
       "    </tr>\n",
       "    <tr>\n",
       "      <td>3</td>\n",
       "      <td>1992_ARKANSAS</td>\n",
       "      <td>ARKANSAS</td>\n",
       "      <td>1992</td>\n",
       "      <td>NaN</td>\n",
       "      <td>1711959.0</td>\n",
       "      <td>178571.0</td>\n",
       "      <td>958785.0</td>\n",
       "      <td>574603.0</td>\n",
       "      <td>1743022.0</td>\n",
       "      <td>964323.0</td>\n",
       "      <td>...</td>\n",
       "      <td>34632.0</td>\n",
       "      <td>36011.0</td>\n",
       "      <td>27651.0</td>\n",
       "      <td>281338.0</td>\n",
       "      <td>123113.0</td>\n",
       "      <td>405259.0</td>\n",
       "      <td>210.206028</td>\n",
       "      <td>256.312090</td>\n",
       "      <td>208.634458</td>\n",
       "      <td>264.619665</td>\n",
       "    </tr>\n",
       "    <tr>\n",
       "      <td>4</td>\n",
       "      <td>1992_CALIFORNIA</td>\n",
       "      <td>CALIFORNIA</td>\n",
       "      <td>1992</td>\n",
       "      <td>NaN</td>\n",
       "      <td>26260025.0</td>\n",
       "      <td>2072470.0</td>\n",
       "      <td>16546514.0</td>\n",
       "      <td>7641041.0</td>\n",
       "      <td>27138832.0</td>\n",
       "      <td>14358922.0</td>\n",
       "      <td>...</td>\n",
       "      <td>418418.0</td>\n",
       "      <td>363296.0</td>\n",
       "      <td>270675.0</td>\n",
       "      <td>3286034.0</td>\n",
       "      <td>1372011.0</td>\n",
       "      <td>4717112.0</td>\n",
       "      <td>208.398961</td>\n",
       "      <td>260.892247</td>\n",
       "      <td>196.764414</td>\n",
       "      <td>NaN</td>\n",
       "    </tr>\n",
       "    <tr>\n",
       "      <td>...</td>\n",
       "      <td>...</td>\n",
       "      <td>...</td>\n",
       "      <td>...</td>\n",
       "      <td>...</td>\n",
       "      <td>...</td>\n",
       "      <td>...</td>\n",
       "      <td>...</td>\n",
       "      <td>...</td>\n",
       "      <td>...</td>\n",
       "      <td>...</td>\n",
       "      <td>...</td>\n",
       "      <td>...</td>\n",
       "      <td>...</td>\n",
       "      <td>...</td>\n",
       "      <td>...</td>\n",
       "      <td>...</td>\n",
       "      <td>...</td>\n",
       "      <td>...</td>\n",
       "      <td>...</td>\n",
       "      <td>...</td>\n",
       "      <td>...</td>\n",
       "    </tr>\n",
       "    <tr>\n",
       "      <td>1487</td>\n",
       "      <td>2017_VIRGINIA</td>\n",
       "      <td>VIRGINIA</td>\n",
       "      <td>2017</td>\n",
       "      <td>NaN</td>\n",
       "      <td>5079546.0</td>\n",
       "      <td>NaN</td>\n",
       "      <td>NaN</td>\n",
       "      <td>NaN</td>\n",
       "      <td>5234505.5</td>\n",
       "      <td>NaN</td>\n",
       "      <td>...</td>\n",
       "      <td>NaN</td>\n",
       "      <td>NaN</td>\n",
       "      <td>NaN</td>\n",
       "      <td>NaN</td>\n",
       "      <td>NaN</td>\n",
       "      <td>NaN</td>\n",
       "      <td>248.041059</td>\n",
       "      <td>290.081407</td>\n",
       "      <td>227.598382</td>\n",
       "      <td>273.402640</td>\n",
       "    </tr>\n",
       "    <tr>\n",
       "      <td>1488</td>\n",
       "      <td>2017_WASHINGTON</td>\n",
       "      <td>WASHINGTON</td>\n",
       "      <td>2017</td>\n",
       "      <td>NaN</td>\n",
       "      <td>5079546.0</td>\n",
       "      <td>NaN</td>\n",
       "      <td>NaN</td>\n",
       "      <td>NaN</td>\n",
       "      <td>5234505.5</td>\n",
       "      <td>NaN</td>\n",
       "      <td>...</td>\n",
       "      <td>NaN</td>\n",
       "      <td>NaN</td>\n",
       "      <td>NaN</td>\n",
       "      <td>NaN</td>\n",
       "      <td>NaN</td>\n",
       "      <td>NaN</td>\n",
       "      <td>241.701001</td>\n",
       "      <td>289.131257</td>\n",
       "      <td>223.123409</td>\n",
       "      <td>267.744778</td>\n",
       "    </tr>\n",
       "    <tr>\n",
       "      <td>1489</td>\n",
       "      <td>2017_WEST_VIRGINIA</td>\n",
       "      <td>WEST_VIRGINIA</td>\n",
       "      <td>2017</td>\n",
       "      <td>NaN</td>\n",
       "      <td>5079546.0</td>\n",
       "      <td>NaN</td>\n",
       "      <td>NaN</td>\n",
       "      <td>NaN</td>\n",
       "      <td>5234505.5</td>\n",
       "      <td>NaN</td>\n",
       "      <td>...</td>\n",
       "      <td>NaN</td>\n",
       "      <td>NaN</td>\n",
       "      <td>NaN</td>\n",
       "      <td>NaN</td>\n",
       "      <td>NaN</td>\n",
       "      <td>NaN</td>\n",
       "      <td>236.057019</td>\n",
       "      <td>273.415854</td>\n",
       "      <td>217.316396</td>\n",
       "      <td>271.617023</td>\n",
       "    </tr>\n",
       "    <tr>\n",
       "      <td>1490</td>\n",
       "      <td>2017_WISCONSIN</td>\n",
       "      <td>WISCONSIN</td>\n",
       "      <td>2017</td>\n",
       "      <td>NaN</td>\n",
       "      <td>5079546.0</td>\n",
       "      <td>NaN</td>\n",
       "      <td>NaN</td>\n",
       "      <td>NaN</td>\n",
       "      <td>5234505.5</td>\n",
       "      <td>NaN</td>\n",
       "      <td>...</td>\n",
       "      <td>NaN</td>\n",
       "      <td>NaN</td>\n",
       "      <td>NaN</td>\n",
       "      <td>NaN</td>\n",
       "      <td>NaN</td>\n",
       "      <td>NaN</td>\n",
       "      <td>240.389213</td>\n",
       "      <td>288.143144</td>\n",
       "      <td>219.612694</td>\n",
       "      <td>258.700304</td>\n",
       "    </tr>\n",
       "    <tr>\n",
       "      <td>1491</td>\n",
       "      <td>2017_WYOMING</td>\n",
       "      <td>WYOMING</td>\n",
       "      <td>2017</td>\n",
       "      <td>NaN</td>\n",
       "      <td>5079546.0</td>\n",
       "      <td>NaN</td>\n",
       "      <td>NaN</td>\n",
       "      <td>NaN</td>\n",
       "      <td>5234505.5</td>\n",
       "      <td>NaN</td>\n",
       "      <td>...</td>\n",
       "      <td>NaN</td>\n",
       "      <td>NaN</td>\n",
       "      <td>NaN</td>\n",
       "      <td>NaN</td>\n",
       "      <td>NaN</td>\n",
       "      <td>NaN</td>\n",
       "      <td>247.820619</td>\n",
       "      <td>288.761812</td>\n",
       "      <td>226.831211</td>\n",
       "      <td>269.371456</td>\n",
       "    </tr>\n",
       "  </tbody>\n",
       "</table>\n",
       "<p>1492 rows × 25 columns</p>\n",
       "</div>"
      ],
      "text/plain": [
       "             PRIMARY_KEY          STATE  YEAR  ENROLL  TOTAL_REVENUE  \\\n",
       "0           1992_ALABAMA        ALABAMA  1992     NaN      2678885.0   \n",
       "1            1992_ALASKA         ALASKA  1992     NaN      1049591.0   \n",
       "2           1992_ARIZONA        ARIZONA  1992     NaN      3258079.0   \n",
       "3          1992_ARKANSAS       ARKANSAS  1992     NaN      1711959.0   \n",
       "4        1992_CALIFORNIA     CALIFORNIA  1992     NaN     26260025.0   \n",
       "...                  ...            ...   ...     ...            ...   \n",
       "1487       2017_VIRGINIA       VIRGINIA  2017     NaN      5079546.0   \n",
       "1488     2017_WASHINGTON     WASHINGTON  2017     NaN      5079546.0   \n",
       "1489  2017_WEST_VIRGINIA  WEST_VIRGINIA  2017     NaN      5079546.0   \n",
       "1490      2017_WISCONSIN      WISCONSIN  2017     NaN      5079546.0   \n",
       "1491        2017_WYOMING        WYOMING  2017     NaN      5079546.0   \n",
       "\n",
       "      FEDERAL_REVENUE  STATE_REVENUE  LOCAL_REVENUE  TOTAL_EXPENDITURE  \\\n",
       "0            304177.0      1659028.0       715680.0          2653798.0   \n",
       "1            106780.0       720711.0       222100.0           972488.0   \n",
       "2            297888.0      1369815.0      1590376.0          3401580.0   \n",
       "3            178571.0       958785.0       574603.0          1743022.0   \n",
       "4           2072470.0     16546514.0      7641041.0         27138832.0   \n",
       "...               ...            ...            ...                ...   \n",
       "1487              NaN            NaN            NaN          5234505.5   \n",
       "1488              NaN            NaN            NaN          5234505.5   \n",
       "1489              NaN            NaN            NaN          5234505.5   \n",
       "1490              NaN            NaN            NaN          5234505.5   \n",
       "1491              NaN            NaN            NaN          5234505.5   \n",
       "\n",
       "      INSTRUCTION_EXPENDITURE  ...  GRADES_4_G  GRADES_8_G  GRADES_12_G  \\\n",
       "0                   1481703.0  ...     57948.0     58025.0      41167.0   \n",
       "1                    498362.0  ...      9748.0      8789.0       6714.0   \n",
       "2                   1435908.0  ...     55433.0     49081.0      37410.0   \n",
       "3                    964323.0  ...     34632.0     36011.0      27651.0   \n",
       "4                  14358922.0  ...    418418.0    363296.0     270675.0   \n",
       "...                       ...  ...         ...         ...          ...   \n",
       "1487                      NaN  ...         NaN         NaN          NaN   \n",
       "1488                      NaN  ...         NaN         NaN          NaN   \n",
       "1489                      NaN  ...         NaN         NaN          NaN   \n",
       "1490                      NaN  ...         NaN         NaN          NaN   \n",
       "1491                      NaN  ...         NaN         NaN          NaN   \n",
       "\n",
       "      GRADES_1_8_G  GRADES_9_12_G  GRADES_ALL_G  AVG_MATH_4_SCORE  \\\n",
       "0         471564.0       196386.0      676174.0        208.327876   \n",
       "1          79117.0        30847.0      112335.0               NaN   \n",
       "2         437127.0       175210.0      614881.0        215.253932   \n",
       "3         281338.0       123113.0      405259.0        210.206028   \n",
       "4        3286034.0      1372011.0     4717112.0        208.398961   \n",
       "...            ...            ...           ...               ...   \n",
       "1487           NaN            NaN           NaN        248.041059   \n",
       "1488           NaN            NaN           NaN        241.701001   \n",
       "1489           NaN            NaN           NaN        236.057019   \n",
       "1490           NaN            NaN           NaN        240.389213   \n",
       "1491           NaN            NaN           NaN        247.820619   \n",
       "\n",
       "      AVG_MATH_8_SCORE  AVG_READING_4_SCORE  AVG_READING_8_SCORE  \n",
       "0           252.187522           207.963517                  NaN  \n",
       "1                  NaN                  NaN           258.859712  \n",
       "2           265.366278           206.212716           262.169895  \n",
       "3           256.312090           208.634458           264.619665  \n",
       "4           260.892247           196.764414                  NaN  \n",
       "...                ...                  ...                  ...  \n",
       "1487        290.081407           227.598382           273.402640  \n",
       "1488        289.131257           223.123409           267.744778  \n",
       "1489        273.415854           217.316396           271.617023  \n",
       "1490        288.143144           219.612694           258.700304  \n",
       "1491        288.761812           226.831211           269.371456  \n",
       "\n",
       "[1492 rows x 25 columns]"
      ]
     },
     "execution_count": 12,
     "metadata": {},
     "output_type": "execute_result"
    }
   ],
   "source": [
    "data2"
   ]
  },
  {
   "cell_type": "code",
   "execution_count": 13,
   "metadata": {
    "ExecuteTime": {
     "end_time": "2019-11-01T01:39:23.531177Z",
     "start_time": "2019-11-01T01:39:23.522903Z"
    }
   },
   "outputs": [
    {
     "name": "stdout",
     "output_type": "stream",
     "text": [
      "20192091.75\n",
      "15664978.5\n"
     ]
    }
   ],
   "source": [
    "for col in ['TOTAL_REVENUE', 'TOTAL_EXPENDITURE']:\n",
    "    q75, q25 = np.percentile(data2[col], [75, 25])\n",
    "    iqr = q75 - q25\n",
    "    threshold = 3\n",
    "    \n",
    "    cutoff = threshold * iqr\n",
    "    \n",
    "    data2 = data2.loc[data2[col] < cutoff]\n",
    "    \n",
    "    print(cutoff)"
   ]
  },
  {
   "cell_type": "markdown",
   "metadata": {
    "ExecuteTime": {
     "end_time": "2019-10-19T23:55:46.071872Z",
     "start_time": "2019-10-19T23:55:46.068668Z"
    }
   },
   "source": [
    "And compare the boxplot..."
   ]
  },
  {
   "cell_type": "code",
   "execution_count": 14,
   "metadata": {
    "ExecuteTime": {
     "end_time": "2019-11-01T01:39:23.648136Z",
     "start_time": "2019-11-01T01:39:23.532772Z"
    }
   },
   "outputs": [
    {
     "data": {
      "text/plain": [
       "{'whiskers': [<matplotlib.lines.Line2D at 0x11b613190>,\n",
       "  <matplotlib.lines.Line2D at 0x11b613750>],\n",
       " 'caps': [<matplotlib.lines.Line2D at 0x11b613c50>,\n",
       "  <matplotlib.lines.Line2D at 0x11b589250>],\n",
       " 'boxes': [<matplotlib.lines.Line2D at 0x11b592510>],\n",
       " 'medians': [<matplotlib.lines.Line2D at 0x11b61a6d0>],\n",
       " 'fliers': [<matplotlib.lines.Line2D at 0x11b61abd0>],\n",
       " 'means': []}"
      ]
     },
     "execution_count": 14,
     "metadata": {},
     "output_type": "execute_result"
    },
    {
     "data": {
      "image/png": "[encoded data removed]",
      "text/plain": [
       "<Figure size 432x288 with 1 Axes>"
      ]
     },
     "metadata": {
      "needs_background": "light"
     },
     "output_type": "display_data"
    }
   ],
   "source": [
    "plt.boxplot(data2['TOTAL_EXPENDITURE'])"
   ]
  },
  {
   "cell_type": "markdown",
   "metadata": {
    "ExecuteTime": {
     "end_time": "2019-10-19T23:57:21.028945Z",
     "start_time": "2019-10-19T23:57:21.025378Z"
    }
   },
   "source": [
    "...and windsorize everything at the 95% percentile. "
   ]
  },
  {
   "cell_type": "code",
   "execution_count": 15,
   "metadata": {
    "ExecuteTime": {
     "end_time": "2019-11-01T01:39:24.029871Z",
     "start_time": "2019-11-01T01:39:23.649772Z"
    }
   },
   "outputs": [
    {
     "data": {
      "image/png": "[encoded data removed]",
      "text/plain": [
       "<Figure size 432x288 with 1 Axes>"
      ]
     },
     "metadata": {
      "needs_background": "light"
     },
     "output_type": "display_data"
    }
   ],
   "source": [
    "from scipy.stats.mstats import winsorize\n",
    "\n",
    "data2['TOTAL_EXPENDITURE'] = winsorize(data2['TOTAL_EXPENDITURE'], (0, 0.05))\n",
    "data2['TOTAL_REVENUE'] = winsorize(data2['TOTAL_REVENUE'], (0, 0.05))\n",
    "\n",
    "plt.boxplot(data2['TOTAL_REVENUE'])\n",
    "plt.title(\"Box plot of total revenue (whis=1.5)\")\n",
    "plt.show()"
   ]
  },
  {
   "cell_type": "code",
   "execution_count": 16,
   "metadata": {
    "ExecuteTime": {
     "end_time": "2019-11-01T01:39:24.174303Z",
     "start_time": "2019-11-01T01:39:24.031365Z"
    }
   },
   "outputs": [
    {
     "data": {
      "text/plain": [
       "(array([233., 181., 127., 315.,  98.,  72.,  68.,  53.,  43., 101.]),\n",
       " array([  481665. ,  1680420.1,  2879175.2,  4077930.3,  5276685.4,\n",
       "         6475440.5,  7674195.6,  8872950.7, 10071705.8, 11270460.9,\n",
       "        12469216. ]),\n",
       " <a list of 10 Patch objects>)"
      ]
     },
     "execution_count": 16,
     "metadata": {},
     "output_type": "execute_result"
    },
    {
     "data": {
      "image/png": "[encoded data removed]",
      "text/plain": [
       "<Figure size 432x288 with 1 Axes>"
      ]
     },
     "metadata": {
      "needs_background": "light"
     },
     "output_type": "display_data"
    }
   ],
   "source": [
    "plt.hist(data2['TOTAL_EXPENDITURE'])"
   ]
  },
  {
   "cell_type": "markdown",
   "metadata": {},
   "source": [
    "## Question 3\n",
    "\n",
    "Create another variable by subtracting the original TOTAL_EXPENDITURE from TOTAL_REVENUE (before you eliminated the outliers). You can think of it as a kind of budget deficit in education. Do you find any outlier values in this new variable? If so, eliminate them using the technique you think most suitable."
   ]
  },
  {
   "cell_type": "code",
   "execution_count": 17,
   "metadata": {
    "ExecuteTime": {
     "end_time": "2019-11-01T01:39:24.182605Z",
     "start_time": "2019-11-01T01:39:24.175827Z"
    }
   },
   "outputs": [
    {
     "data": {
      "text/plain": [
       "0"
      ]
     },
     "execution_count": 17,
     "metadata": {},
     "output_type": "execute_result"
    }
   ],
   "source": [
    "data['BUDGET_DEFICIT'] = data['TOTAL_REVENUE'] - data['TOTAL_EXPENDITURE']\n",
    "\n",
    "data3 = data.copy()\n",
    "\n",
    "data3['BUDGET_DEFICIT'] = data3['BUDGET_DEFICIT'].fillna(np.nanmedian(data3['BUDGET_DEFICIT']))\n",
    "\n",
    "data3['BUDGET_DEFICIT'].isnull().sum()"
   ]
  },
  {
   "cell_type": "markdown",
   "metadata": {},
   "source": [
    "### Answer 3\n",
    "\n",
    "We notice that there are a great deal of negative outliers, which intuitively follows from the fact that states can often have budget deficits for certain years. "
   ]
  },
  {
   "cell_type": "code",
   "execution_count": 18,
   "metadata": {
    "ExecuteTime": {
     "end_time": "2019-11-01T01:39:24.273539Z",
     "start_time": "2019-11-01T01:39:24.183961Z"
    }
   },
   "outputs": [
    {
     "data": {
      "image/png": "[encoded data removed]",
      "text/plain": [
       "<Figure size 432x288 with 1 Axes>"
      ]
     },
     "metadata": {
      "needs_background": "light"
     },
     "output_type": "display_data"
    }
   ],
   "source": [
    "plt.boxplot(data3['BUDGET_DEFICIT'])\n",
    "plt.show()"
   ]
  },
  {
   "cell_type": "code",
   "execution_count": 19,
   "metadata": {
    "ExecuteTime": {
     "end_time": "2019-11-01T01:39:24.430865Z",
     "start_time": "2019-11-01T01:39:24.275232Z"
    }
   },
   "outputs": [
    {
     "data": {
      "image/png": "[encoded data removed]",
      "text/plain": [
       "<Figure size 432x288 with 1 Axes>"
      ]
     },
     "metadata": {
      "needs_background": "light"
     },
     "output_type": "display_data"
    }
   ],
   "source": [
    "plt.hist(data3['BUDGET_DEFICIT'], density=True)\n",
    "plt.show()"
   ]
  },
  {
   "cell_type": "code",
   "execution_count": 34,
   "metadata": {
    "ExecuteTime": {
     "end_time": "2019-11-01T01:39:29.431010Z",
     "start_time": "2019-11-01T01:39:29.276779Z"
    },
    "scrolled": false
   },
   "outputs": [
    {
     "data": {
      "image/png": "[encoded data removed]",
      "text/plain": [
       "<Figure size 432x288 with 1 Axes>"
      ]
     },
     "metadata": {
      "needs_background": "light"
     },
     "output_type": "display_data"
    }
   ],
   "source": [
    "\n",
    "\n",
    "tukeys_visualizers(data3, ['BUDGET_DEFICIT'])"
   ]
  },
  {
   "cell_type": "markdown",
   "metadata": {
    "ExecuteTime": {
     "end_time": "2019-10-20T00:13:56.611500Z",
     "start_time": "2019-10-20T00:13:56.462179Z"
    }
   },
   "source": [
    "\n",
    "\n",
    "We drop the datapoints outside the `threshold` = 3 cutoff, and windsorise the rest at the (5, 95) percentile. "
   ]
  },
  {
   "cell_type": "code",
   "execution_count": 21,
   "metadata": {
    "ExecuteTime": {
     "end_time": "2019-11-01T01:39:24.594500Z",
     "start_time": "2019-11-01T01:39:24.589142Z"
    }
   },
   "outputs": [
    {
     "name": "stdout",
     "output_type": "stream",
     "text": [
      "-21484.0 496983.75 -518467.75 475499.75\n"
     ]
    }
   ],
   "source": [
    "q75, q25 = np.percentile(data3['BUDGET_DEFICIT'], [75, 25])\n",
    "iqr = q75 - q25\n",
    "threshold = 3\n",
    "\n",
    "cutoff = threshold * iqr\n",
    "\n",
    "min_cutoff = np.median(data3['BUDGET_DEFICIT']) - cutoff\n",
    "max_cutoff = np.median(data3['BUDGET_DEFICIT']) + cutoff\n",
    "\n",
    "print(np.median(data3['BUDGET_DEFICIT']), cutoff, min_cutoff, max_cutoff)"
   ]
  },
  {
   "cell_type": "code",
   "execution_count": 22,
   "metadata": {
    "ExecuteTime": {
     "end_time": "2019-11-01T01:39:24.690866Z",
     "start_time": "2019-11-01T01:39:24.596391Z"
    },
    "scrolled": true
   },
   "outputs": [
    {
     "data": {
      "image/png": "[encoded data removed]",
      "text/plain": [
       "<Figure size 432x288 with 1 Axes>"
      ]
     },
     "metadata": {
      "needs_background": "light"
     },
     "output_type": "display_data"
    }
   ],
   "source": [
    "data3 = data3.loc[data3['BUDGET_DEFICIT'] < max_cutoff]\n",
    "data3 = data3.loc[data3['BUDGET_DEFICIT'] > min_cutoff]\n",
    "\n",
    "plt.boxplot(data3['BUDGET_DEFICIT'])\n",
    "plt.title(\"Box plot of budget deficit (whis=1.5)\")\n",
    "plt.show()"
   ]
  },
  {
   "cell_type": "code",
   "execution_count": 23,
   "metadata": {
    "ExecuteTime": {
     "end_time": "2019-11-01T01:39:24.798021Z",
     "start_time": "2019-11-01T01:39:24.692634Z"
    }
   },
   "outputs": [
    {
     "data": {
      "image/png": "[encoded data removed]",
      "text/plain": [
       "<Figure size 432x288 with 1 Axes>"
      ]
     },
     "metadata": {
      "needs_background": "light"
     },
     "output_type": "display_data"
    }
   ],
   "source": [
    "winsorize(data3['BUDGET_DEFICIT'], (0, 0.1), inplace= True)\n",
    "winsorize(data3['BUDGET_DEFICIT'], (0.1, 0), inplace=True)\n",
    "\n",
    "plt.boxplot(data3['BUDGET_DEFICIT'])\n",
    "plt.title(\"Box plot of budget deficit (whis=1.5)\")\n",
    "plt.show()"
   ]
  },
  {
   "cell_type": "code",
   "execution_count": 24,
   "metadata": {
    "ExecuteTime": {
     "end_time": "2019-11-01T01:39:24.980168Z",
     "start_time": "2019-11-01T01:39:24.802987Z"
    }
   },
   "outputs": [
    {
     "data": {
      "image/png": "[encoded data removed]",
      "text/plain": [
       "<Figure size 1080x288 with 1 Axes>"
      ]
     },
     "metadata": {
      "needs_background": "light"
     },
     "output_type": "display_data"
    }
   ],
   "source": [
    "plt.figure(figsize=(15, 4))\n",
    "plt.hist(data['BUDGET_DEFICIT'], label='Initial distribution', density=True, alpha = 0.6)\n",
    "plt.hist(data3['BUDGET_DEFICIT'], label = 'Modified distribution', density=True, alpha = 0.6)\n",
    "plt.legend()\n",
    "plt.show()"
   ]
  },
  {
   "cell_type": "markdown",
   "metadata": {},
   "source": [
    "## Question 4\n",
    "\n",
    "Now create another variable by subtracting the TOTAL_EXPENDITURE from TOTAL_REVENUE. This time, use the outlier eliminated versions of TOTAL_EXPENDITURE from TOTAL_REVENUE. In this newly created variable, can you find any outliers? If so, eliminate them."
   ]
  },
  {
   "cell_type": "code",
   "execution_count": 25,
   "metadata": {
    "ExecuteTime": {
     "end_time": "2019-11-01T01:39:25.091590Z",
     "start_time": "2019-11-01T01:39:24.982423Z"
    }
   },
   "outputs": [
    {
     "data": {
      "text/plain": [
       "{'whiskers': [<matplotlib.lines.Line2D at 0x1a1d9061d0>,\n",
       "  <matplotlib.lines.Line2D at 0x1a1d4b62d0>],\n",
       " 'caps': [<matplotlib.lines.Line2D at 0x1a1d906bd0>,\n",
       "  <matplotlib.lines.Line2D at 0x1a1d66d5d0>],\n",
       " 'boxes': [<matplotlib.lines.Line2D at 0x1a1d67f550>],\n",
       " 'medians': [<matplotlib.lines.Line2D at 0x1a1d90e650>],\n",
       " 'fliers': [<matplotlib.lines.Line2D at 0x1a1d90eb50>],\n",
       " 'means': []}"
      ]
     },
     "execution_count": 25,
     "metadata": {},
     "output_type": "execute_result"
    },
    {
     "data": {
      "image/png": "[encoded data removed]",
      "text/plain": [
       "<Figure size 432x288 with 1 Axes>"
      ]
     },
     "metadata": {
      "needs_background": "light"
     },
     "output_type": "display_data"
    }
   ],
   "source": [
    "data4 = data2.copy()\n",
    "\n",
    "data4['BUDGET_DEFICIT'] = data4['TOTAL_REVENUE'] - data4['TOTAL_EXPENDITURE']\n",
    "\n",
    "plt.boxplot(data4['BUDGET_DEFICIT'])"
   ]
  },
  {
   "cell_type": "markdown",
   "metadata": {},
   "source": [
    "### Answer 4\n",
    "\n",
    "Once again, we see outliers. We go through the same process to eliminate the extreme values."
   ]
  },
  {
   "cell_type": "code",
   "execution_count": 26,
   "metadata": {
    "ExecuteTime": {
     "end_time": "2019-11-01T01:39:25.250362Z",
     "start_time": "2019-11-01T01:39:25.093045Z"
    }
   },
   "outputs": [
    {
     "data": {
      "image/png": "[encoded data removed]",
      "text/plain": [
       "<Figure size 432x288 with 1 Axes>"
      ]
     },
     "metadata": {
      "needs_background": "light"
     },
     "output_type": "display_data"
    }
   ],
   "source": [
    "tukeys_visualizers(data4, ['BUDGET_DEFICIT'])"
   ]
  },
  {
   "cell_type": "markdown",
   "metadata": {
    "ExecuteTime": {
     "end_time": "2019-10-20T00:45:34.657381Z",
     "start_time": "2019-10-20T00:45:34.654170Z"
    }
   },
   "source": [
    "Here, `threshold` = 2 seems more appropriate. We eliminate everything outside the `threshold` = 2 cutoff..."
   ]
  },
  {
   "cell_type": "code",
   "execution_count": 27,
   "metadata": {
    "ExecuteTime": {
     "end_time": "2019-11-01T01:39:25.358162Z",
     "start_time": "2019-11-01T01:39:25.251949Z"
    }
   },
   "outputs": [
    {
     "name": "stdout",
     "output_type": "stream",
     "text": [
      "-21484.0 384027.0 -414688.0 353366.0\n"
     ]
    },
    {
     "data": {
      "image/png": "[encoded data removed]",
      "text/plain": [
       "<Figure size 432x288 with 1 Axes>"
      ]
     },
     "metadata": {
      "needs_background": "light"
     },
     "output_type": "display_data"
    }
   ],
   "source": [
    "q75, q25 = np.percentile(data4['BUDGET_DEFICIT'], [75, 25])\n",
    "iqr = q75 - q25\n",
    "threshold = 2\n",
    "\n",
    "cutoff = threshold * iqr\n",
    "\n",
    "min_cutoff = np.median(data4['BUDGET_DEFICIT']) - cutoff\n",
    "max_cutoff = np.median(data4['BUDGET_DEFICIT']) + cutoff\n",
    "\n",
    "print(np.median(data3['BUDGET_DEFICIT']), cutoff, min_cutoff, max_cutoff)\n",
    "\n",
    "data4 = data4.loc[data4['BUDGET_DEFICIT'] < max_cutoff]\n",
    "data4 = data4.loc[data4['BUDGET_DEFICIT'] > min_cutoff]\n",
    "\n",
    "plt.boxplot(data4['BUDGET_DEFICIT'])\n",
    "plt.title(\"Box plot of budget deficit (whis=1.5)\")\n",
    "plt.show()"
   ]
  },
  {
   "cell_type": "markdown",
   "metadata": {},
   "source": [
    "... and winsorize at 95% percentile."
   ]
  },
  {
   "cell_type": "code",
   "execution_count": 28,
   "metadata": {
    "ExecuteTime": {
     "end_time": "2019-11-01T01:39:25.453551Z",
     "start_time": "2019-11-01T01:39:25.359851Z"
    }
   },
   "outputs": [
    {
     "data": {
      "image/png": "[encoded data removed]",
      "text/plain": [
       "<Figure size 432x288 with 1 Axes>"
      ]
     },
     "metadata": {
      "needs_background": "light"
     },
     "output_type": "display_data"
    }
   ],
   "source": [
    "winsorize(data4['BUDGET_DEFICIT'], (0, 0.05), inplace= True)\n",
    "\n",
    "plt.boxplot(data4['BUDGET_DEFICIT'])\n",
    "plt.title(\"Box plot of budget deficit (whis=1.5)\")\n",
    "plt.show()"
   ]
  },
  {
   "cell_type": "markdown",
   "metadata": {},
   "source": [
    "## Question 5\n",
    "\n",
    "Compare some basic descriptive statistics of the budget variables you end up with in the 3rd and the 4th questions. Do you see any differences?"
   ]
  },
  {
   "cell_type": "code",
   "execution_count": 29,
   "metadata": {
    "ExecuteTime": {
     "end_time": "2019-11-01T01:39:25.460435Z",
     "start_time": "2019-11-01T01:39:25.454956Z"
    }
   },
   "outputs": [
    {
     "data": {
      "text/plain": [
       "count      1309.000000\n",
       "mean     -32866.178762\n",
       "std      113351.768784\n",
       "min     -243250.000000\n",
       "25%      -91782.000000\n",
       "50%      -21484.000000\n",
       "75%       24742.000000\n",
       "max      149878.000000\n",
       "Name: BUDGET_DEFICIT, dtype: float64"
      ]
     },
     "execution_count": 29,
     "metadata": {},
     "output_type": "execute_result"
    }
   ],
   "source": [
    "data3['BUDGET_DEFICIT'].describe()"
   ]
  },
  {
   "cell_type": "code",
   "execution_count": 30,
   "metadata": {
    "ExecuteTime": {
     "end_time": "2019-11-01T01:39:25.467166Z",
     "start_time": "2019-11-01T01:39:25.461825Z"
    }
   },
   "outputs": [
    {
     "data": {
      "text/plain": [
       "count      1215.000000\n",
       "mean     -40677.581893\n",
       "std      145154.991848\n",
       "min     -410877.000000\n",
       "25%     -154959.500000\n",
       "50%      -31063.000000\n",
       "75%       29520.000000\n",
       "max      260186.000000\n",
       "Name: BUDGET_DEFICIT, dtype: float64"
      ]
     },
     "execution_count": 30,
     "metadata": {},
     "output_type": "execute_result"
    }
   ],
   "source": [
    "data4['BUDGET_DEFICIT'].describe()"
   ]
  },
  {
   "cell_type": "markdown",
   "metadata": {},
   "source": [
    "And the absolute difference in calculations taking data3 as the baseline is:"
   ]
  },
  {
   "cell_type": "markdown",
   "metadata": {},
   "source": [
    "### Answer 5\n",
    "\n",
    "On comparing the variables in `data3` and `data4`:"
   ]
  },
  {
   "cell_type": "code",
   "execution_count": 31,
   "metadata": {
    "ExecuteTime": {
     "end_time": "2019-11-01T01:39:25.476230Z",
     "start_time": "2019-11-01T01:39:25.468739Z"
    }
   },
   "outputs": [
    {
     "data": {
      "text/plain": [
       "count       -94.000000\n",
       "mean      -7811.403131\n",
       "std       31803.223063\n",
       "min     -167627.000000\n",
       "25%      -63177.500000\n",
       "50%       -9579.000000\n",
       "75%        4778.000000\n",
       "max      110308.000000\n",
       "Name: BUDGET_DEFICIT, dtype: float64"
      ]
     },
     "execution_count": 31,
     "metadata": {},
     "output_type": "execute_result"
    }
   ],
   "source": [
    "(data4['BUDGET_DEFICIT'].describe() - data3['BUDGET_DEFICIT'].describe())"
   ]
  },
  {
   "cell_type": "code",
   "execution_count": 32,
   "metadata": {
    "ExecuteTime": {
     "end_time": "2019-11-01T01:39:25.488311Z",
     "start_time": "2019-11-01T01:39:25.477744Z"
    }
   },
   "outputs": [
    {
     "data": {
      "text/plain": [
       "count   -0.071811\n",
       "mean     0.237673\n",
       "std      0.280571\n",
       "min      0.689114\n",
       "25%      0.688343\n",
       "50%      0.445867\n",
       "75%      0.193113\n",
       "max      0.735985\n",
       "Name: BUDGET_DEFICIT, dtype: float64"
      ]
     },
     "execution_count": 32,
     "metadata": {},
     "output_type": "execute_result"
    }
   ],
   "source": [
    "(data4['BUDGET_DEFICIT'].describe() - data3['BUDGET_DEFICIT'].describe())/(data3['BUDGET_DEFICIT'].describe())"
   ]
  },
  {
   "cell_type": "markdown",
   "metadata": {},
   "source": [
    "The two series seem to be quite comparable. It's worth noting that even the absolute values that might seem relatively large (Eg. the difference in 25 percentile of $63,177) are actually very small in a larger economic sense. "
   ]
  },
  {
   "cell_type": "markdown",
   "metadata": {},
   "source": [
    "## Question 6\n",
    "\n",
    "If our variable of interest is the budget deficit variable, which method do you think is the appropriate in dealing with the outliers in this variable: the method in the 3rd question or the one in the 4th question?"
   ]
  },
  {
   "cell_type": "markdown",
   "metadata": {},
   "source": [
    "### Answer 6\n",
    "\n",
    "I think the the method in Question 3 (`data3`) is the more appropriate method as it preserves more of the raw data, whereas the `data4['BUDGET_DEFICIT']` is actually treated and winsorized twice. "
   ]
  },
  {
   "cell_type": "code",
   "execution_count": null,
   "metadata": {},
   "outputs": [],
   "source": []
  }
 ],
 "metadata": {
  "kernelspec": {
   "display_name": "Python 3",
   "language": "python",
   "name": "python3"
  },
  "language_info": {
   "codemirror_mode": {
    "name": "ipython",
    "version": 3
   },
   "file_extension": ".py",
   "mimetype": "text/x-python",
   "name": "python",
   "nbconvert_exporter": "python",
   "pygments_lexer": "ipython3",
   "version": "3.7.5"
  },
  "toc": {
   "base_numbering": 1,
   "nav_menu": {},
   "number_sections": true,
   "sideBar": true,
   "skip_h1_title": true,
   "title_cell": "Table of Contents",
   "title_sidebar": "Contents",
   "toc_cell": true,
   "toc_position": {
    "height": "calc(100% - 180px)",
    "left": "10px",
    "top": "150px",
    "width": "239.453px"
   },
   "toc_section_display": true,
   "toc_window_display": true
  }
 },
 "nbformat": 4,
 "nbformat_minor": 2
}
