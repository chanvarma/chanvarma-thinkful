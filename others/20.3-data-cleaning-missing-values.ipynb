{
 "cells": [
  {
   "cell_type": "markdown",
   "metadata": {
    "toc": true
   },
   "source": [
    "<h1>Table of Contents<span class=\"tocSkip\"></span></h1>\n",
    "<div class=\"toc\"><ul class=\"toc-item\"><li><span><a href=\"#Question-1\" data-toc-modified-id=\"Question-1-1\"><span class=\"toc-item-num\">1&nbsp;&nbsp;</span>Question 1</a></span></li><li><span><a href=\"#Question-2\" data-toc-modified-id=\"Question-2-2\"><span class=\"toc-item-num\">2&nbsp;&nbsp;</span>Question 2</a></span></li><li><span><a href=\"#Question-3\" data-toc-modified-id=\"Question-3-3\"><span class=\"toc-item-num\">3&nbsp;&nbsp;</span>Question 3</a></span></li><li><span><a href=\"#Question-4\" data-toc-modified-id=\"Question-4-4\"><span class=\"toc-item-num\">4&nbsp;&nbsp;</span>Question 4</a></span></li><li><span><a href=\"#Question-5\" data-toc-modified-id=\"Question-5-5\"><span class=\"toc-item-num\">5&nbsp;&nbsp;</span>Question 5</a></span></li></ul></div>"
   ]
  },
  {
   "cell_type": "code",
   "execution_count": 133,
   "metadata": {
    "ExecuteTime": {
     "end_time": "2019-10-17T01:16:44.685981Z",
     "start_time": "2019-10-17T01:16:44.683503Z"
    }
   },
   "outputs": [],
   "source": [
    "import pandas as pd\n",
    "import numpy as np\n",
    "from sqlalchemy import create_engine\n",
    "import warnings\n",
    "import matplotlib.pyplot as plt\n",
    "\n",
    "warnings.filterwarnings('ignore')"
   ]
  },
  {
   "cell_type": "code",
   "execution_count": 6,
   "metadata": {
    "ExecuteTime": {
     "end_time": "2019-10-17T00:38:44.567851Z",
     "start_time": "2019-10-17T00:38:43.325072Z"
    }
   },
   "outputs": [
    {
     "name": "stdout",
     "output_type": "stream",
     "text": [
      "Requirement already satisfied: autopep8 in /Users/chanakyavarma/opt/anaconda3/lib/python3.7/site-packages (1.4.4)\n",
      "Requirement already satisfied: pycodestyle>=2.4.0 in /Users/chanakyavarma/opt/anaconda3/lib/python3.7/site-packages (from autopep8) (2.5.0)\n",
      "Note: you may need to restart the kernel to use updated packages.\n"
     ]
    }
   ],
   "source": [
    "pip install autopep8"
   ]
  },
  {
   "cell_type": "code",
   "execution_count": 7,
   "metadata": {
    "ExecuteTime": {
     "end_time": "2019-10-17T00:38:45.735487Z",
     "start_time": "2019-10-17T00:38:44.571075Z"
    }
   },
   "outputs": [],
   "source": [
    "postgres_user = 'dsbc_student'\n",
    "postgres_pw = '7*.8G9QH21'\n",
    "postgres_host = '142.93.121.174'\n",
    "postgres_port = '5432'\n",
    "postgres_db = 'useducation'\n",
    "\n",
    "engine = create_engine('postgresql://{}:{}@{}:{}/{}'.format(\n",
    "    postgres_user, postgres_pw, postgres_host, postgres_port, postgres_db))\n",
    "\n",
    "data = pd.read_sql_query('select * from useducation', con=engine)\n",
    "\n",
    "# no need for an open connection,\n",
    "# as we're only doing a single query\n",
    "engine.dispose()"
   ]
  },
  {
   "cell_type": "code",
   "execution_count": 8,
   "metadata": {
    "ExecuteTime": {
     "end_time": "2019-10-17T00:38:45.762874Z",
     "start_time": "2019-10-17T00:38:45.737290Z"
    }
   },
   "outputs": [
    {
     "data": {
      "text/html": [
       "<div>\n",
       "<style scoped>\n",
       "    .dataframe tbody tr th:only-of-type {\n",
       "        vertical-align: middle;\n",
       "    }\n",
       "\n",
       "    .dataframe tbody tr th {\n",
       "        vertical-align: top;\n",
       "    }\n",
       "\n",
       "    .dataframe thead th {\n",
       "        text-align: right;\n",
       "    }\n",
       "</style>\n",
       "<table border=\"1\" class=\"dataframe\">\n",
       "  <thead>\n",
       "    <tr style=\"text-align: right;\">\n",
       "      <th></th>\n",
       "      <th>PRIMARY_KEY</th>\n",
       "      <th>STATE</th>\n",
       "      <th>YEAR</th>\n",
       "      <th>ENROLL</th>\n",
       "      <th>TOTAL_REVENUE</th>\n",
       "      <th>FEDERAL_REVENUE</th>\n",
       "      <th>STATE_REVENUE</th>\n",
       "      <th>LOCAL_REVENUE</th>\n",
       "      <th>TOTAL_EXPENDITURE</th>\n",
       "      <th>INSTRUCTION_EXPENDITURE</th>\n",
       "      <th>...</th>\n",
       "      <th>GRADES_4_G</th>\n",
       "      <th>GRADES_8_G</th>\n",
       "      <th>GRADES_12_G</th>\n",
       "      <th>GRADES_1_8_G</th>\n",
       "      <th>GRADES_9_12_G</th>\n",
       "      <th>GRADES_ALL_G</th>\n",
       "      <th>AVG_MATH_4_SCORE</th>\n",
       "      <th>AVG_MATH_8_SCORE</th>\n",
       "      <th>AVG_READING_4_SCORE</th>\n",
       "      <th>AVG_READING_8_SCORE</th>\n",
       "    </tr>\n",
       "  </thead>\n",
       "  <tbody>\n",
       "    <tr>\n",
       "      <td>0</td>\n",
       "      <td>1992_ALABAMA</td>\n",
       "      <td>ALABAMA</td>\n",
       "      <td>1992</td>\n",
       "      <td>NaN</td>\n",
       "      <td>2678885.0</td>\n",
       "      <td>304177.0</td>\n",
       "      <td>1659028.0</td>\n",
       "      <td>715680.0</td>\n",
       "      <td>2653798.0</td>\n",
       "      <td>1481703.0</td>\n",
       "      <td>...</td>\n",
       "      <td>57948.0</td>\n",
       "      <td>58025.0</td>\n",
       "      <td>41167.0</td>\n",
       "      <td>471564.0</td>\n",
       "      <td>196386.0</td>\n",
       "      <td>676174.0</td>\n",
       "      <td>208.327876</td>\n",
       "      <td>252.187522</td>\n",
       "      <td>207.963517</td>\n",
       "      <td>NaN</td>\n",
       "    </tr>\n",
       "    <tr>\n",
       "      <td>1</td>\n",
       "      <td>1992_ALASKA</td>\n",
       "      <td>ALASKA</td>\n",
       "      <td>1992</td>\n",
       "      <td>NaN</td>\n",
       "      <td>1049591.0</td>\n",
       "      <td>106780.0</td>\n",
       "      <td>720711.0</td>\n",
       "      <td>222100.0</td>\n",
       "      <td>972488.0</td>\n",
       "      <td>498362.0</td>\n",
       "      <td>...</td>\n",
       "      <td>9748.0</td>\n",
       "      <td>8789.0</td>\n",
       "      <td>6714.0</td>\n",
       "      <td>79117.0</td>\n",
       "      <td>30847.0</td>\n",
       "      <td>112335.0</td>\n",
       "      <td>NaN</td>\n",
       "      <td>NaN</td>\n",
       "      <td>NaN</td>\n",
       "      <td>258.859712</td>\n",
       "    </tr>\n",
       "    <tr>\n",
       "      <td>2</td>\n",
       "      <td>1992_ARIZONA</td>\n",
       "      <td>ARIZONA</td>\n",
       "      <td>1992</td>\n",
       "      <td>NaN</td>\n",
       "      <td>3258079.0</td>\n",
       "      <td>297888.0</td>\n",
       "      <td>1369815.0</td>\n",
       "      <td>1590376.0</td>\n",
       "      <td>3401580.0</td>\n",
       "      <td>1435908.0</td>\n",
       "      <td>...</td>\n",
       "      <td>55433.0</td>\n",
       "      <td>49081.0</td>\n",
       "      <td>37410.0</td>\n",
       "      <td>437127.0</td>\n",
       "      <td>175210.0</td>\n",
       "      <td>614881.0</td>\n",
       "      <td>215.253932</td>\n",
       "      <td>265.366278</td>\n",
       "      <td>206.212716</td>\n",
       "      <td>262.169895</td>\n",
       "    </tr>\n",
       "    <tr>\n",
       "      <td>3</td>\n",
       "      <td>1992_ARKANSAS</td>\n",
       "      <td>ARKANSAS</td>\n",
       "      <td>1992</td>\n",
       "      <td>NaN</td>\n",
       "      <td>1711959.0</td>\n",
       "      <td>178571.0</td>\n",
       "      <td>958785.0</td>\n",
       "      <td>574603.0</td>\n",
       "      <td>1743022.0</td>\n",
       "      <td>964323.0</td>\n",
       "      <td>...</td>\n",
       "      <td>34632.0</td>\n",
       "      <td>36011.0</td>\n",
       "      <td>27651.0</td>\n",
       "      <td>281338.0</td>\n",
       "      <td>123113.0</td>\n",
       "      <td>405259.0</td>\n",
       "      <td>210.206028</td>\n",
       "      <td>256.312090</td>\n",
       "      <td>208.634458</td>\n",
       "      <td>264.619665</td>\n",
       "    </tr>\n",
       "    <tr>\n",
       "      <td>4</td>\n",
       "      <td>1992_CALIFORNIA</td>\n",
       "      <td>CALIFORNIA</td>\n",
       "      <td>1992</td>\n",
       "      <td>NaN</td>\n",
       "      <td>26260025.0</td>\n",
       "      <td>2072470.0</td>\n",
       "      <td>16546514.0</td>\n",
       "      <td>7641041.0</td>\n",
       "      <td>27138832.0</td>\n",
       "      <td>14358922.0</td>\n",
       "      <td>...</td>\n",
       "      <td>418418.0</td>\n",
       "      <td>363296.0</td>\n",
       "      <td>270675.0</td>\n",
       "      <td>3286034.0</td>\n",
       "      <td>1372011.0</td>\n",
       "      <td>4717112.0</td>\n",
       "      <td>208.398961</td>\n",
       "      <td>260.892247</td>\n",
       "      <td>196.764414</td>\n",
       "      <td>NaN</td>\n",
       "    </tr>\n",
       "  </tbody>\n",
       "</table>\n",
       "<p>5 rows × 25 columns</p>\n",
       "</div>"
      ],
      "text/plain": [
       "       PRIMARY_KEY       STATE  YEAR  ENROLL  TOTAL_REVENUE  FEDERAL_REVENUE  \\\n",
       "0     1992_ALABAMA     ALABAMA  1992     NaN      2678885.0         304177.0   \n",
       "1      1992_ALASKA      ALASKA  1992     NaN      1049591.0         106780.0   \n",
       "2     1992_ARIZONA     ARIZONA  1992     NaN      3258079.0         297888.0   \n",
       "3    1992_ARKANSAS    ARKANSAS  1992     NaN      1711959.0         178571.0   \n",
       "4  1992_CALIFORNIA  CALIFORNIA  1992     NaN     26260025.0        2072470.0   \n",
       "\n",
       "   STATE_REVENUE  LOCAL_REVENUE  TOTAL_EXPENDITURE  INSTRUCTION_EXPENDITURE  \\\n",
       "0      1659028.0       715680.0          2653798.0                1481703.0   \n",
       "1       720711.0       222100.0           972488.0                 498362.0   \n",
       "2      1369815.0      1590376.0          3401580.0                1435908.0   \n",
       "3       958785.0       574603.0          1743022.0                 964323.0   \n",
       "4     16546514.0      7641041.0         27138832.0               14358922.0   \n",
       "\n",
       "   ...  GRADES_4_G  GRADES_8_G  GRADES_12_G  GRADES_1_8_G  GRADES_9_12_G  \\\n",
       "0  ...     57948.0     58025.0      41167.0      471564.0       196386.0   \n",
       "1  ...      9748.0      8789.0       6714.0       79117.0        30847.0   \n",
       "2  ...     55433.0     49081.0      37410.0      437127.0       175210.0   \n",
       "3  ...     34632.0     36011.0      27651.0      281338.0       123113.0   \n",
       "4  ...    418418.0    363296.0     270675.0     3286034.0      1372011.0   \n",
       "\n",
       "   GRADES_ALL_G  AVG_MATH_4_SCORE  AVG_MATH_8_SCORE  AVG_READING_4_SCORE  \\\n",
       "0      676174.0        208.327876        252.187522           207.963517   \n",
       "1      112335.0               NaN               NaN                  NaN   \n",
       "2      614881.0        215.253932        265.366278           206.212716   \n",
       "3      405259.0        210.206028        256.312090           208.634458   \n",
       "4     4717112.0        208.398961        260.892247           196.764414   \n",
       "\n",
       "   AVG_READING_8_SCORE  \n",
       "0                  NaN  \n",
       "1           258.859712  \n",
       "2           262.169895  \n",
       "3           264.619665  \n",
       "4                  NaN  \n",
       "\n",
       "[5 rows x 25 columns]"
      ]
     },
     "execution_count": 8,
     "metadata": {},
     "output_type": "execute_result"
    }
   ],
   "source": [
    "data.head()"
   ]
  },
  {
   "cell_type": "markdown",
   "metadata": {},
   "source": [
    "## Question 1\n",
    "\n",
    "Determine all the variable types and find the fraction of the missing values for each variable."
   ]
  },
  {
   "cell_type": "code",
   "execution_count": 9,
   "metadata": {
    "ExecuteTime": {
     "end_time": "2019-10-17T00:38:45.770919Z",
     "start_time": "2019-10-17T00:38:45.764290Z"
    }
   },
   "outputs": [
    {
     "name": "stdout",
     "output_type": "stream",
     "text": [
      "<class 'pandas.core.frame.DataFrame'>\n",
      "RangeIndex: 1492 entries, 0 to 1491\n",
      "Data columns (total 25 columns):\n",
      "PRIMARY_KEY                     1492 non-null object\n",
      "STATE                           1492 non-null object\n",
      "YEAR                            1492 non-null int64\n",
      "ENROLL                          1229 non-null float64\n",
      "TOTAL_REVENUE                   1280 non-null float64\n",
      "FEDERAL_REVENUE                 1280 non-null float64\n",
      "STATE_REVENUE                   1280 non-null float64\n",
      "LOCAL_REVENUE                   1280 non-null float64\n",
      "TOTAL_EXPENDITURE               1280 non-null float64\n",
      "INSTRUCTION_EXPENDITURE         1280 non-null float64\n",
      "SUPPORT_SERVICES_EXPENDITURE    1280 non-null float64\n",
      "OTHER_EXPENDITURE               1229 non-null float64\n",
      "CAPITAL_OUTLAY_EXPENDITURE      1280 non-null float64\n",
      "GRADES_PK_G                     1319 non-null float64\n",
      "GRADES_KG_G                     1360 non-null float64\n",
      "GRADES_4_G                      1361 non-null float64\n",
      "GRADES_8_G                      1361 non-null float64\n",
      "GRADES_12_G                     1361 non-null float64\n",
      "GRADES_1_8_G                    1361 non-null float64\n",
      "GRADES_9_12_G                   1361 non-null float64\n",
      "GRADES_ALL_G                    1319 non-null float64\n",
      "AVG_MATH_4_SCORE                536 non-null float64\n",
      "AVG_MATH_8_SCORE                532 non-null float64\n",
      "AVG_READING_4_SCORE             533 non-null float64\n",
      "AVG_READING_8_SCORE             498 non-null float64\n",
      "dtypes: float64(22), int64(1), object(2)\n",
      "memory usage: 291.5+ KB\n"
     ]
    }
   ],
   "source": [
    "data.info()"
   ]
  },
  {
   "cell_type": "code",
   "execution_count": 159,
   "metadata": {
    "ExecuteTime": {
     "end_time": "2019-10-17T01:22:31.352094Z",
     "start_time": "2019-10-17T01:22:31.335945Z"
    }
   },
   "outputs": [
    {
     "data": {
      "text/plain": [
       "{'PRIMARY_KEY': 0.0,\n",
       " 'STATE': 0.0,\n",
       " 'YEAR': 0.0,\n",
       " 'ENROLL': 0.17627,\n",
       " 'TOTAL_REVENUE': 0.14209,\n",
       " 'FEDERAL_REVENUE': 0.14209,\n",
       " 'STATE_REVENUE': 0.14209,\n",
       " 'LOCAL_REVENUE': 0.14209,\n",
       " 'TOTAL_EXPENDITURE': 0.14209,\n",
       " 'INSTRUCTION_EXPENDITURE': 0.14209,\n",
       " 'SUPPORT_SERVICES_EXPENDITURE': 0.14209,\n",
       " 'OTHER_EXPENDITURE': 0.17627,\n",
       " 'CAPITAL_OUTLAY_EXPENDITURE': 0.14209,\n",
       " 'GRADES_PK_G': 0.11595,\n",
       " 'GRADES_KG_G': 0.08847,\n",
       " 'GRADES_4_G': 0.0878,\n",
       " 'GRADES_8_G': 0.0878,\n",
       " 'GRADES_12_G': 0.0878,\n",
       " 'GRADES_1_8_G': 0.0878,\n",
       " 'GRADES_9_12_G': 0.0878,\n",
       " 'GRADES_ALL_G': 0.11595,\n",
       " 'AVG_MATH_4_SCORE': 0.64075,\n",
       " 'AVG_MATH_8_SCORE': 0.64343,\n",
       " 'AVG_READING_4_SCORE': 0.64276,\n",
       " 'AVG_READING_8_SCORE': 0.66622}"
      ]
     },
     "execution_count": 159,
     "metadata": {},
     "output_type": "execute_result"
    }
   ],
   "source": [
    "null_percent = {}\n",
    "with_null = []\n",
    "\n",
    "for col in data.columns:\n",
    "    null_percent[col] = round(sum(data[col].isnull()/len(data[col])), 5)\n",
    "    \n",
    "    if null_percent[col] > 0:\n",
    "       with_null.append(col) \n",
    "\n",
    "null_percent\n"
   ]
  },
  {
   "cell_type": "markdown",
   "metadata": {},
   "source": [
    "## Question 2\n",
    "\n",
    "Notice that the data has a time dimension (year). For this assignment, forget about time and treat all the observations as if they're from the same year. Choose a strategy to deal with the missing values for each variables. For which variables would filling in the missing values with some value make sense? For which might tossing out the records entirely make sense?"
   ]
  },
  {
   "cell_type": "code",
   "execution_count": 11,
   "metadata": {
    "ExecuteTime": {
     "end_time": "2019-10-17T00:38:45.800245Z",
     "start_time": "2019-10-17T00:38:45.793799Z"
    }
   },
   "outputs": [
    {
     "data": {
      "text/plain": [
       "count    1492.000000\n",
       "mean     2004.433646\n",
       "std         7.393983\n",
       "min      1992.000000\n",
       "25%      1998.000000\n",
       "50%      2004.000000\n",
       "75%      2011.000000\n",
       "max      2017.000000\n",
       "Name: YEAR, dtype: float64"
      ]
     },
     "execution_count": 11,
     "metadata": {},
     "output_type": "execute_result"
    }
   ],
   "source": [
    "data['YEAR'].describe()"
   ]
  },
  {
   "cell_type": "markdown",
   "metadata": {
    "ExecuteTime": {
     "end_time": "2019-10-17T00:17:39.896609Z",
     "start_time": "2019-10-17T00:17:39.893439Z"
    }
   },
   "source": [
    "We notice that the following variables have null values:"
   ]
  },
  {
   "cell_type": "code",
   "execution_count": 12,
   "metadata": {
    "ExecuteTime": {
     "end_time": "2019-10-17T00:38:45.805867Z",
     "start_time": "2019-10-17T00:38:45.803002Z"
    }
   },
   "outputs": [
    {
     "data": {
      "text/plain": [
       "['ENROLL',\n",
       " 'TOTAL_REVENUE',\n",
       " 'FEDERAL_REVENUE',\n",
       " 'STATE_REVENUE',\n",
       " 'LOCAL_REVENUE',\n",
       " 'TOTAL_EXPENDITURE',\n",
       " 'INSTRUCTION_EXPENDITURE',\n",
       " 'SUPPORT_SERVICES_EXPENDITURE',\n",
       " 'OTHER_EXPENDITURE',\n",
       " 'CAPITAL_OUTLAY_EXPENDITURE',\n",
       " 'GRADES_PK_G',\n",
       " 'GRADES_KG_G',\n",
       " 'GRADES_4_G',\n",
       " 'GRADES_8_G',\n",
       " 'GRADES_12_G',\n",
       " 'GRADES_1_8_G',\n",
       " 'GRADES_9_12_G',\n",
       " 'GRADES_ALL_G',\n",
       " 'AVG_MATH_4_SCORE',\n",
       " 'AVG_MATH_8_SCORE',\n",
       " 'AVG_READING_4_SCORE',\n",
       " 'AVG_READING_8_SCORE']"
      ]
     },
     "execution_count": 12,
     "metadata": {},
     "output_type": "execute_result"
    }
   ],
   "source": [
    "with_null"
   ]
  },
  {
   "cell_type": "code",
   "execution_count": 13,
   "metadata": {
    "ExecuteTime": {
     "end_time": "2019-10-17T00:38:45.830369Z",
     "start_time": "2019-10-17T00:38:45.807668Z"
    }
   },
   "outputs": [
    {
     "data": {
      "text/html": [
       "<div>\n",
       "<style scoped>\n",
       "    .dataframe tbody tr th:only-of-type {\n",
       "        vertical-align: middle;\n",
       "    }\n",
       "\n",
       "    .dataframe tbody tr th {\n",
       "        vertical-align: top;\n",
       "    }\n",
       "\n",
       "    .dataframe thead th {\n",
       "        text-align: right;\n",
       "    }\n",
       "</style>\n",
       "<table border=\"1\" class=\"dataframe\">\n",
       "  <thead>\n",
       "    <tr style=\"text-align: right;\">\n",
       "      <th></th>\n",
       "      <th>PRIMARY_KEY</th>\n",
       "      <th>STATE</th>\n",
       "      <th>YEAR</th>\n",
       "      <th>ENROLL</th>\n",
       "      <th>TOTAL_REVENUE</th>\n",
       "      <th>FEDERAL_REVENUE</th>\n",
       "      <th>STATE_REVENUE</th>\n",
       "      <th>LOCAL_REVENUE</th>\n",
       "      <th>TOTAL_EXPENDITURE</th>\n",
       "      <th>INSTRUCTION_EXPENDITURE</th>\n",
       "      <th>...</th>\n",
       "      <th>GRADES_4_G</th>\n",
       "      <th>GRADES_8_G</th>\n",
       "      <th>GRADES_12_G</th>\n",
       "      <th>GRADES_1_8_G</th>\n",
       "      <th>GRADES_9_12_G</th>\n",
       "      <th>GRADES_ALL_G</th>\n",
       "      <th>AVG_MATH_4_SCORE</th>\n",
       "      <th>AVG_MATH_8_SCORE</th>\n",
       "      <th>AVG_READING_4_SCORE</th>\n",
       "      <th>AVG_READING_8_SCORE</th>\n",
       "    </tr>\n",
       "  </thead>\n",
       "  <tbody>\n",
       "    <tr>\n",
       "      <td>1</td>\n",
       "      <td>1992_ALASKA</td>\n",
       "      <td>ALASKA</td>\n",
       "      <td>1992</td>\n",
       "      <td>NaN</td>\n",
       "      <td>1049591.0</td>\n",
       "      <td>106780.0</td>\n",
       "      <td>720711.0</td>\n",
       "      <td>222100.0</td>\n",
       "      <td>972488.0</td>\n",
       "      <td>498362.0</td>\n",
       "      <td>...</td>\n",
       "      <td>9748.0</td>\n",
       "      <td>8789.0</td>\n",
       "      <td>6714.0</td>\n",
       "      <td>79117.0</td>\n",
       "      <td>30847.0</td>\n",
       "      <td>112335.0</td>\n",
       "      <td>NaN</td>\n",
       "      <td>NaN</td>\n",
       "      <td>NaN</td>\n",
       "      <td>258.859712</td>\n",
       "    </tr>\n",
       "    <tr>\n",
       "      <td>53</td>\n",
       "      <td>1993_ALASKA</td>\n",
       "      <td>ALASKA</td>\n",
       "      <td>1993</td>\n",
       "      <td>121156.0</td>\n",
       "      <td>1191398.0</td>\n",
       "      <td>176150.0</td>\n",
       "      <td>775829.0</td>\n",
       "      <td>239419.0</td>\n",
       "      <td>1126398.0</td>\n",
       "      <td>494917.0</td>\n",
       "      <td>...</td>\n",
       "      <td>10156.0</td>\n",
       "      <td>9160.0</td>\n",
       "      <td>6975.0</td>\n",
       "      <td>80485.0</td>\n",
       "      <td>32347.0</td>\n",
       "      <td>115619.0</td>\n",
       "      <td>NaN</td>\n",
       "      <td>NaN</td>\n",
       "      <td>NaN</td>\n",
       "      <td>NaN</td>\n",
       "    </tr>\n",
       "    <tr>\n",
       "      <td>105</td>\n",
       "      <td>1994_ALASKA</td>\n",
       "      <td>ALASKA</td>\n",
       "      <td>1994</td>\n",
       "      <td>123868.0</td>\n",
       "      <td>1052282.0</td>\n",
       "      <td>134168.0</td>\n",
       "      <td>668229.0</td>\n",
       "      <td>249885.0</td>\n",
       "      <td>1116160.0</td>\n",
       "      <td>516242.0</td>\n",
       "      <td>...</td>\n",
       "      <td>10318.0</td>\n",
       "      <td>9503.0</td>\n",
       "      <td>7057.0</td>\n",
       "      <td>80817.0</td>\n",
       "      <td>33338.0</td>\n",
       "      <td>116748.0</td>\n",
       "      <td>NaN</td>\n",
       "      <td>NaN</td>\n",
       "      <td>NaN</td>\n",
       "      <td>NaN</td>\n",
       "    </tr>\n",
       "    <tr>\n",
       "      <td>158</td>\n",
       "      <td>1995_ALASKA</td>\n",
       "      <td>ALASKA</td>\n",
       "      <td>1995</td>\n",
       "      <td>125421.0</td>\n",
       "      <td>1117068.0</td>\n",
       "      <td>123037.0</td>\n",
       "      <td>710028.0</td>\n",
       "      <td>284003.0</td>\n",
       "      <td>1203817.0</td>\n",
       "      <td>515914.0</td>\n",
       "      <td>...</td>\n",
       "      <td>10222.0</td>\n",
       "      <td>9573.0</td>\n",
       "      <td>7111.0</td>\n",
       "      <td>80448.0</td>\n",
       "      <td>34184.0</td>\n",
       "      <td>117051.0</td>\n",
       "      <td>NaN</td>\n",
       "      <td>NaN</td>\n",
       "      <td>NaN</td>\n",
       "      <td>NaN</td>\n",
       "    </tr>\n",
       "    <tr>\n",
       "      <td>210</td>\n",
       "      <td>1996_ALASKA</td>\n",
       "      <td>ALASKA</td>\n",
       "      <td>1996</td>\n",
       "      <td>126189.0</td>\n",
       "      <td>1120346.0</td>\n",
       "      <td>123505.0</td>\n",
       "      <td>706116.0</td>\n",
       "      <td>290725.0</td>\n",
       "      <td>1240031.0</td>\n",
       "      <td>636959.0</td>\n",
       "      <td>...</td>\n",
       "      <td>10055.0</td>\n",
       "      <td>9627.0</td>\n",
       "      <td>7370.0</td>\n",
       "      <td>81725.0</td>\n",
       "      <td>35557.0</td>\n",
       "      <td>119468.0</td>\n",
       "      <td>223.833455</td>\n",
       "      <td>277.643071</td>\n",
       "      <td>NaN</td>\n",
       "      <td>262.100424</td>\n",
       "    </tr>\n",
       "    <tr>\n",
       "      <td>261</td>\n",
       "      <td>1997_ALASKA</td>\n",
       "      <td>ALASKA</td>\n",
       "      <td>1997</td>\n",
       "      <td>128143.0</td>\n",
       "      <td>1131950.0</td>\n",
       "      <td>145563.0</td>\n",
       "      <td>692364.0</td>\n",
       "      <td>294023.0</td>\n",
       "      <td>1237103.0</td>\n",
       "      <td>651935.0</td>\n",
       "      <td>...</td>\n",
       "      <td>10473.0</td>\n",
       "      <td>9954.0</td>\n",
       "      <td>7771.0</td>\n",
       "      <td>83217.0</td>\n",
       "      <td>36474.0</td>\n",
       "      <td>121874.0</td>\n",
       "      <td>NaN</td>\n",
       "      <td>NaN</td>\n",
       "      <td>NaN</td>\n",
       "      <td>NaN</td>\n",
       "    </tr>\n",
       "    <tr>\n",
       "      <td>313</td>\n",
       "      <td>1998_ALASKA</td>\n",
       "      <td>ALASKA</td>\n",
       "      <td>1998</td>\n",
       "      <td>130633.0</td>\n",
       "      <td>1206195.0</td>\n",
       "      <td>157335.0</td>\n",
       "      <td>745814.0</td>\n",
       "      <td>303046.0</td>\n",
       "      <td>1222893.0</td>\n",
       "      <td>680848.0</td>\n",
       "      <td>...</td>\n",
       "      <td>10555.0</td>\n",
       "      <td>10497.0</td>\n",
       "      <td>8403.0</td>\n",
       "      <td>85124.0</td>\n",
       "      <td>38394.0</td>\n",
       "      <td>125535.0</td>\n",
       "      <td>NaN</td>\n",
       "      <td>NaN</td>\n",
       "      <td>NaN</td>\n",
       "      <td>NaN</td>\n",
       "    </tr>\n",
       "    <tr>\n",
       "      <td>364</td>\n",
       "      <td>1999_ALASKA</td>\n",
       "      <td>ALASKA</td>\n",
       "      <td>1999</td>\n",
       "      <td>133508.0</td>\n",
       "      <td>1243227.0</td>\n",
       "      <td>187153.0</td>\n",
       "      <td>740163.0</td>\n",
       "      <td>315911.0</td>\n",
       "      <td>1289988.0</td>\n",
       "      <td>705069.0</td>\n",
       "      <td>...</td>\n",
       "      <td>10926.0</td>\n",
       "      <td>10575.0</td>\n",
       "      <td>8381.0</td>\n",
       "      <td>84674.0</td>\n",
       "      <td>38790.0</td>\n",
       "      <td>124808.0</td>\n",
       "      <td>NaN</td>\n",
       "      <td>NaN</td>\n",
       "      <td>NaN</td>\n",
       "      <td>NaN</td>\n",
       "    </tr>\n",
       "    <tr>\n",
       "      <td>417</td>\n",
       "      <td>2000_ALASKA</td>\n",
       "      <td>ALASKA</td>\n",
       "      <td>2000</td>\n",
       "      <td>132822.0</td>\n",
       "      <td>1313510.0</td>\n",
       "      <td>199520.0</td>\n",
       "      <td>774194.0</td>\n",
       "      <td>339796.0</td>\n",
       "      <td>1386904.0</td>\n",
       "      <td>717725.0</td>\n",
       "      <td>...</td>\n",
       "      <td>10646.0</td>\n",
       "      <td>10377.0</td>\n",
       "      <td>8335.0</td>\n",
       "      <td>83555.0</td>\n",
       "      <td>38914.0</td>\n",
       "      <td>123679.0</td>\n",
       "      <td>NaN</td>\n",
       "      <td>NaN</td>\n",
       "      <td>NaN</td>\n",
       "      <td>264.303443</td>\n",
       "    </tr>\n",
       "    <tr>\n",
       "      <td>469</td>\n",
       "      <td>2001_ALASKA</td>\n",
       "      <td>ALASKA</td>\n",
       "      <td>2001</td>\n",
       "      <td>131985.0</td>\n",
       "      <td>1325498.0</td>\n",
       "      <td>229297.0</td>\n",
       "      <td>732985.0</td>\n",
       "      <td>363216.0</td>\n",
       "      <td>1402839.0</td>\n",
       "      <td>701053.0</td>\n",
       "      <td>...</td>\n",
       "      <td>10718.0</td>\n",
       "      <td>10702.0</td>\n",
       "      <td>8340.0</td>\n",
       "      <td>83540.0</td>\n",
       "      <td>39461.0</td>\n",
       "      <td>124254.0</td>\n",
       "      <td>NaN</td>\n",
       "      <td>NaN</td>\n",
       "      <td>NaN</td>\n",
       "      <td>NaN</td>\n",
       "    </tr>\n",
       "  </tbody>\n",
       "</table>\n",
       "<p>10 rows × 25 columns</p>\n",
       "</div>"
      ],
      "text/plain": [
       "     PRIMARY_KEY   STATE  YEAR    ENROLL  TOTAL_REVENUE  FEDERAL_REVENUE  \\\n",
       "1    1992_ALASKA  ALASKA  1992       NaN      1049591.0         106780.0   \n",
       "53   1993_ALASKA  ALASKA  1993  121156.0      1191398.0         176150.0   \n",
       "105  1994_ALASKA  ALASKA  1994  123868.0      1052282.0         134168.0   \n",
       "158  1995_ALASKA  ALASKA  1995  125421.0      1117068.0         123037.0   \n",
       "210  1996_ALASKA  ALASKA  1996  126189.0      1120346.0         123505.0   \n",
       "261  1997_ALASKA  ALASKA  1997  128143.0      1131950.0         145563.0   \n",
       "313  1998_ALASKA  ALASKA  1998  130633.0      1206195.0         157335.0   \n",
       "364  1999_ALASKA  ALASKA  1999  133508.0      1243227.0         187153.0   \n",
       "417  2000_ALASKA  ALASKA  2000  132822.0      1313510.0         199520.0   \n",
       "469  2001_ALASKA  ALASKA  2001  131985.0      1325498.0         229297.0   \n",
       "\n",
       "     STATE_REVENUE  LOCAL_REVENUE  TOTAL_EXPENDITURE  INSTRUCTION_EXPENDITURE  \\\n",
       "1         720711.0       222100.0           972488.0                 498362.0   \n",
       "53        775829.0       239419.0          1126398.0                 494917.0   \n",
       "105       668229.0       249885.0          1116160.0                 516242.0   \n",
       "158       710028.0       284003.0          1203817.0                 515914.0   \n",
       "210       706116.0       290725.0          1240031.0                 636959.0   \n",
       "261       692364.0       294023.0          1237103.0                 651935.0   \n",
       "313       745814.0       303046.0          1222893.0                 680848.0   \n",
       "364       740163.0       315911.0          1289988.0                 705069.0   \n",
       "417       774194.0       339796.0          1386904.0                 717725.0   \n",
       "469       732985.0       363216.0          1402839.0                 701053.0   \n",
       "\n",
       "     ...  GRADES_4_G  GRADES_8_G  GRADES_12_G  GRADES_1_8_G  GRADES_9_12_G  \\\n",
       "1    ...      9748.0      8789.0       6714.0       79117.0        30847.0   \n",
       "53   ...     10156.0      9160.0       6975.0       80485.0        32347.0   \n",
       "105  ...     10318.0      9503.0       7057.0       80817.0        33338.0   \n",
       "158  ...     10222.0      9573.0       7111.0       80448.0        34184.0   \n",
       "210  ...     10055.0      9627.0       7370.0       81725.0        35557.0   \n",
       "261  ...     10473.0      9954.0       7771.0       83217.0        36474.0   \n",
       "313  ...     10555.0     10497.0       8403.0       85124.0        38394.0   \n",
       "364  ...     10926.0     10575.0       8381.0       84674.0        38790.0   \n",
       "417  ...     10646.0     10377.0       8335.0       83555.0        38914.0   \n",
       "469  ...     10718.0     10702.0       8340.0       83540.0        39461.0   \n",
       "\n",
       "     GRADES_ALL_G  AVG_MATH_4_SCORE  AVG_MATH_8_SCORE  AVG_READING_4_SCORE  \\\n",
       "1        112335.0               NaN               NaN                  NaN   \n",
       "53       115619.0               NaN               NaN                  NaN   \n",
       "105      116748.0               NaN               NaN                  NaN   \n",
       "158      117051.0               NaN               NaN                  NaN   \n",
       "210      119468.0        223.833455        277.643071                  NaN   \n",
       "261      121874.0               NaN               NaN                  NaN   \n",
       "313      125535.0               NaN               NaN                  NaN   \n",
       "364      124808.0               NaN               NaN                  NaN   \n",
       "417      123679.0               NaN               NaN                  NaN   \n",
       "469      124254.0               NaN               NaN                  NaN   \n",
       "\n",
       "     AVG_READING_8_SCORE  \n",
       "1             258.859712  \n",
       "53                   NaN  \n",
       "105                  NaN  \n",
       "158                  NaN  \n",
       "210           262.100424  \n",
       "261                  NaN  \n",
       "313                  NaN  \n",
       "364                  NaN  \n",
       "417           264.303443  \n",
       "469                  NaN  \n",
       "\n",
       "[10 rows x 25 columns]"
      ]
     },
     "execution_count": 13,
     "metadata": {},
     "output_type": "execute_result"
    }
   ],
   "source": [
    "data.loc[data['STATE'] == 'ALASKA'].head(10)"
   ]
  },
  {
   "cell_type": "markdown",
   "metadata": {},
   "source": [
    "If the year wasn't provided, we would have to likely have to fill in the missing variables using the __mean for a respective state.__\n",
    "\n",
    "Needless to say, average value comparisions of most of the variables associated with growth (enrollment, budget, etc.) would be meaningless. The only exceptions are `AVG_MATH_4_SCORE`, `AVG_MATH_8_SCORE`, `AVG_READING_4_SCORE`, `AVG_READING_8_SCORE`, which are presumably the average testing score on the same scale. "
   ]
  },
  {
   "cell_type": "code",
   "execution_count": 82,
   "metadata": {
    "ExecuteTime": {
     "end_time": "2019-10-17T00:59:48.914689Z",
     "start_time": "2019-10-17T00:59:48.909316Z"
    }
   },
   "outputs": [],
   "source": [
    "data2 = data.copy()\n",
    "\n",
    "to_fill_1 = ['AVG_MATH_4_SCORE', 'AVG_MATH_8_SCORE',\n",
    "             'AVG_READING_4_SCORE', 'AVG_READING_8_SCORE']\n",
    "\n",
    "for col in to_fill_1:\n",
    "    data2[col] = data2[col].fillna(data2[col].mean())"
   ]
  },
  {
   "cell_type": "code",
   "execution_count": 85,
   "metadata": {
    "ExecuteTime": {
     "end_time": "2019-10-17T00:59:57.959264Z",
     "start_time": "2019-10-17T00:59:57.950439Z"
    }
   },
   "outputs": [
    {
     "data": {
      "text/html": [
       "<div>\n",
       "<style scoped>\n",
       "    .dataframe tbody tr th:only-of-type {\n",
       "        vertical-align: middle;\n",
       "    }\n",
       "\n",
       "    .dataframe tbody tr th {\n",
       "        vertical-align: top;\n",
       "    }\n",
       "\n",
       "    .dataframe thead th {\n",
       "        text-align: right;\n",
       "    }\n",
       "</style>\n",
       "<table border=\"1\" class=\"dataframe\">\n",
       "  <thead>\n",
       "    <tr style=\"text-align: right;\">\n",
       "      <th></th>\n",
       "      <th>AVG_MATH_4_SCORE</th>\n",
       "      <th>AVG_MATH_8_SCORE</th>\n",
       "      <th>AVG_READING_4_SCORE</th>\n",
       "      <th>AVG_READING_8_SCORE</th>\n",
       "    </tr>\n",
       "  </thead>\n",
       "  <tbody>\n",
       "    <tr>\n",
       "      <td>1</td>\n",
       "      <td>NaN</td>\n",
       "      <td>NaN</td>\n",
       "      <td>NaN</td>\n",
       "      <td>258.859712</td>\n",
       "    </tr>\n",
       "    <tr>\n",
       "      <td>53</td>\n",
       "      <td>NaN</td>\n",
       "      <td>NaN</td>\n",
       "      <td>NaN</td>\n",
       "      <td>NaN</td>\n",
       "    </tr>\n",
       "    <tr>\n",
       "      <td>105</td>\n",
       "      <td>NaN</td>\n",
       "      <td>NaN</td>\n",
       "      <td>NaN</td>\n",
       "      <td>NaN</td>\n",
       "    </tr>\n",
       "    <tr>\n",
       "      <td>158</td>\n",
       "      <td>NaN</td>\n",
       "      <td>NaN</td>\n",
       "      <td>NaN</td>\n",
       "      <td>NaN</td>\n",
       "    </tr>\n",
       "    <tr>\n",
       "      <td>210</td>\n",
       "      <td>223.833455</td>\n",
       "      <td>277.643071</td>\n",
       "      <td>NaN</td>\n",
       "      <td>262.100424</td>\n",
       "    </tr>\n",
       "    <tr>\n",
       "      <td>261</td>\n",
       "      <td>NaN</td>\n",
       "      <td>NaN</td>\n",
       "      <td>NaN</td>\n",
       "      <td>NaN</td>\n",
       "    </tr>\n",
       "    <tr>\n",
       "      <td>313</td>\n",
       "      <td>NaN</td>\n",
       "      <td>NaN</td>\n",
       "      <td>NaN</td>\n",
       "      <td>NaN</td>\n",
       "    </tr>\n",
       "    <tr>\n",
       "      <td>364</td>\n",
       "      <td>NaN</td>\n",
       "      <td>NaN</td>\n",
       "      <td>NaN</td>\n",
       "      <td>NaN</td>\n",
       "    </tr>\n",
       "    <tr>\n",
       "      <td>417</td>\n",
       "      <td>NaN</td>\n",
       "      <td>NaN</td>\n",
       "      <td>NaN</td>\n",
       "      <td>264.303443</td>\n",
       "    </tr>\n",
       "    <tr>\n",
       "      <td>469</td>\n",
       "      <td>NaN</td>\n",
       "      <td>NaN</td>\n",
       "      <td>NaN</td>\n",
       "      <td>NaN</td>\n",
       "    </tr>\n",
       "  </tbody>\n",
       "</table>\n",
       "</div>"
      ],
      "text/plain": [
       "     AVG_MATH_4_SCORE  AVG_MATH_8_SCORE  AVG_READING_4_SCORE  \\\n",
       "1                 NaN               NaN                  NaN   \n",
       "53                NaN               NaN                  NaN   \n",
       "105               NaN               NaN                  NaN   \n",
       "158               NaN               NaN                  NaN   \n",
       "210        223.833455        277.643071                  NaN   \n",
       "261               NaN               NaN                  NaN   \n",
       "313               NaN               NaN                  NaN   \n",
       "364               NaN               NaN                  NaN   \n",
       "417               NaN               NaN                  NaN   \n",
       "469               NaN               NaN                  NaN   \n",
       "\n",
       "     AVG_READING_8_SCORE  \n",
       "1             258.859712  \n",
       "53                   NaN  \n",
       "105                  NaN  \n",
       "158                  NaN  \n",
       "210           262.100424  \n",
       "261                  NaN  \n",
       "313                  NaN  \n",
       "364                  NaN  \n",
       "417           264.303443  \n",
       "469                  NaN  "
      ]
     },
     "execution_count": 85,
     "metadata": {},
     "output_type": "execute_result"
    }
   ],
   "source": [
    "data[to_fill_1].loc[data['STATE'] == 'ALASKA'].head(10)"
   ]
  },
  {
   "cell_type": "code",
   "execution_count": 168,
   "metadata": {
    "ExecuteTime": {
     "end_time": "2019-10-17T01:25:04.926354Z",
     "start_time": "2019-10-17T01:25:04.816370Z"
    }
   },
   "outputs": [
    {
     "data": {
      "image/png": "[encoded data removed]",
      "text/plain": [
       "<Figure size 432x288 with 1 Axes>"
      ]
     },
     "metadata": {
      "needs_background": "light"
     },
     "output_type": "display_data"
    }
   ],
   "source": [
    "d1 = data.loc[data['STATE'] == 'ALASKA'][['YEAR', 'AVG_READING_8_SCORE']]\n",
    "g1 = plt.figure()\n",
    "plt.plot(d1['YEAR'],d1['AVG_READING_8_SCORE'], '-o')\n",
    "plt.show()"
   ]
  },
  {
   "cell_type": "code",
   "execution_count": 86,
   "metadata": {
    "ExecuteTime": {
     "end_time": "2019-10-17T01:00:03.111955Z",
     "start_time": "2019-10-17T01:00:03.101294Z"
    }
   },
   "outputs": [
    {
     "data": {
      "text/html": [
       "<div>\n",
       "<style scoped>\n",
       "    .dataframe tbody tr th:only-of-type {\n",
       "        vertical-align: middle;\n",
       "    }\n",
       "\n",
       "    .dataframe tbody tr th {\n",
       "        vertical-align: top;\n",
       "    }\n",
       "\n",
       "    .dataframe thead th {\n",
       "        text-align: right;\n",
       "    }\n",
       "</style>\n",
       "<table border=\"1\" class=\"dataframe\">\n",
       "  <thead>\n",
       "    <tr style=\"text-align: right;\">\n",
       "      <th></th>\n",
       "      <th>AVG_MATH_4_SCORE</th>\n",
       "      <th>AVG_MATH_8_SCORE</th>\n",
       "      <th>AVG_READING_4_SCORE</th>\n",
       "      <th>AVG_READING_8_SCORE</th>\n",
       "    </tr>\n",
       "  </thead>\n",
       "  <tbody>\n",
       "    <tr>\n",
       "      <td>1</td>\n",
       "      <td>234.768293</td>\n",
       "      <td>278.414711</td>\n",
       "      <td>218.866154</td>\n",
       "      <td>258.859712</td>\n",
       "    </tr>\n",
       "    <tr>\n",
       "      <td>53</td>\n",
       "      <td>234.768293</td>\n",
       "      <td>278.414711</td>\n",
       "      <td>218.866154</td>\n",
       "      <td>263.661132</td>\n",
       "    </tr>\n",
       "    <tr>\n",
       "      <td>105</td>\n",
       "      <td>234.768293</td>\n",
       "      <td>278.414711</td>\n",
       "      <td>218.866154</td>\n",
       "      <td>263.661132</td>\n",
       "    </tr>\n",
       "    <tr>\n",
       "      <td>158</td>\n",
       "      <td>234.768293</td>\n",
       "      <td>278.414711</td>\n",
       "      <td>218.866154</td>\n",
       "      <td>263.661132</td>\n",
       "    </tr>\n",
       "    <tr>\n",
       "      <td>210</td>\n",
       "      <td>223.833455</td>\n",
       "      <td>277.643071</td>\n",
       "      <td>218.866154</td>\n",
       "      <td>262.100424</td>\n",
       "    </tr>\n",
       "    <tr>\n",
       "      <td>261</td>\n",
       "      <td>234.768293</td>\n",
       "      <td>278.414711</td>\n",
       "      <td>218.866154</td>\n",
       "      <td>263.661132</td>\n",
       "    </tr>\n",
       "    <tr>\n",
       "      <td>313</td>\n",
       "      <td>234.768293</td>\n",
       "      <td>278.414711</td>\n",
       "      <td>218.866154</td>\n",
       "      <td>263.661132</td>\n",
       "    </tr>\n",
       "    <tr>\n",
       "      <td>364</td>\n",
       "      <td>234.768293</td>\n",
       "      <td>278.414711</td>\n",
       "      <td>218.866154</td>\n",
       "      <td>263.661132</td>\n",
       "    </tr>\n",
       "    <tr>\n",
       "      <td>417</td>\n",
       "      <td>234.768293</td>\n",
       "      <td>278.414711</td>\n",
       "      <td>218.866154</td>\n",
       "      <td>264.303443</td>\n",
       "    </tr>\n",
       "    <tr>\n",
       "      <td>469</td>\n",
       "      <td>234.768293</td>\n",
       "      <td>278.414711</td>\n",
       "      <td>218.866154</td>\n",
       "      <td>263.661132</td>\n",
       "    </tr>\n",
       "  </tbody>\n",
       "</table>\n",
       "</div>"
      ],
      "text/plain": [
       "     AVG_MATH_4_SCORE  AVG_MATH_8_SCORE  AVG_READING_4_SCORE  \\\n",
       "1          234.768293        278.414711           218.866154   \n",
       "53         234.768293        278.414711           218.866154   \n",
       "105        234.768293        278.414711           218.866154   \n",
       "158        234.768293        278.414711           218.866154   \n",
       "210        223.833455        277.643071           218.866154   \n",
       "261        234.768293        278.414711           218.866154   \n",
       "313        234.768293        278.414711           218.866154   \n",
       "364        234.768293        278.414711           218.866154   \n",
       "417        234.768293        278.414711           218.866154   \n",
       "469        234.768293        278.414711           218.866154   \n",
       "\n",
       "     AVG_READING_8_SCORE  \n",
       "1             258.859712  \n",
       "53            263.661132  \n",
       "105           263.661132  \n",
       "158           263.661132  \n",
       "210           262.100424  \n",
       "261           263.661132  \n",
       "313           263.661132  \n",
       "364           263.661132  \n",
       "417           264.303443  \n",
       "469           263.661132  "
      ]
     },
     "execution_count": 86,
     "metadata": {},
     "output_type": "execute_result"
    }
   ],
   "source": [
    "data2[to_fill_1].loc[data2['STATE'] == 'ALASKA'].head(10)"
   ]
  },
  {
   "cell_type": "code",
   "execution_count": 170,
   "metadata": {
    "ExecuteTime": {
     "end_time": "2019-10-17T01:25:30.516478Z",
     "start_time": "2019-10-17T01:25:30.405625Z"
    }
   },
   "outputs": [
    {
     "data": {
      "image/png": "[encoded data removed]",
      "text/plain": [
       "<Figure size 432x288 with 1 Axes>"
      ]
     },
     "metadata": {
      "needs_background": "light"
     },
     "output_type": "display_data"
    }
   ],
   "source": [
    "d2 = data2.loc[data2['STATE'] == 'ALASKA'][['YEAR', 'AVG_READING_8_SCORE']]\n",
    "g2 = plt.figure()\n",
    "plt.plot(d2['YEAR'],d2['AVG_READING_8_SCORE'], '-o')\n",
    "plt.show()"
   ]
  },
  {
   "cell_type": "markdown",
   "metadata": {},
   "source": [
    "## Question 3\n",
    "\n",
    "Now, take into account the time factor. Replicate your second answer but this time fill in the missing values by using a statistic that is calculated within the year of the observation. For example, if you want to fill a missing value for a variable with the mean of that variable, calculate the mean by using only the observations for that specific year."
   ]
  },
  {
   "cell_type": "code",
   "execution_count": 117,
   "metadata": {
    "ExecuteTime": {
     "end_time": "2019-10-17T01:10:50.330714Z",
     "start_time": "2019-10-17T01:10:49.076683Z"
    }
   },
   "outputs": [],
   "source": [
    "data3 = data.copy()\n",
    "\n",
    "for col in with_null:\n",
    "    for year in data3['YEAR'].unique():\n",
    "        data3.loc[data3[\"YEAR\"] == year, col] = data3.loc[data3[\"YEAR\"] == year, col].fillna(\n",
    "            data3[data3[\"YEAR\"] == year][col].mean())"
   ]
  },
  {
   "cell_type": "code",
   "execution_count": 112,
   "metadata": {
    "ExecuteTime": {
     "end_time": "2019-10-17T01:08:15.680318Z",
     "start_time": "2019-10-17T01:08:15.677765Z"
    }
   },
   "outputs": [],
   "source": [
    "main1 = ['PRIMARY_KEY', 'STATE', 'YEAR'] + to_fill_1"
   ]
  },
  {
   "cell_type": "code",
   "execution_count": 134,
   "metadata": {
    "ExecuteTime": {
     "end_time": "2019-10-17T01:16:48.677735Z",
     "start_time": "2019-10-17T01:16:48.665711Z"
    }
   },
   "outputs": [
    {
     "data": {
      "text/html": [
       "<div>\n",
       "<style scoped>\n",
       "    .dataframe tbody tr th:only-of-type {\n",
       "        vertical-align: middle;\n",
       "    }\n",
       "\n",
       "    .dataframe tbody tr th {\n",
       "        vertical-align: top;\n",
       "    }\n",
       "\n",
       "    .dataframe thead th {\n",
       "        text-align: right;\n",
       "    }\n",
       "</style>\n",
       "<table border=\"1\" class=\"dataframe\">\n",
       "  <thead>\n",
       "    <tr style=\"text-align: right;\">\n",
       "      <th></th>\n",
       "      <th>PRIMARY_KEY</th>\n",
       "      <th>STATE</th>\n",
       "      <th>YEAR</th>\n",
       "      <th>AVG_MATH_4_SCORE</th>\n",
       "      <th>AVG_MATH_8_SCORE</th>\n",
       "      <th>AVG_READING_4_SCORE</th>\n",
       "      <th>AVG_READING_8_SCORE</th>\n",
       "      <th>YEAR</th>\n",
       "    </tr>\n",
       "  </thead>\n",
       "  <tbody>\n",
       "    <tr>\n",
       "      <td>260</td>\n",
       "      <td>1997_ALABAMA</td>\n",
       "      <td>ALABAMA</td>\n",
       "      <td>1997</td>\n",
       "      <td>NaN</td>\n",
       "      <td>NaN</td>\n",
       "      <td>NaN</td>\n",
       "      <td>NaN</td>\n",
       "      <td>1997</td>\n",
       "    </tr>\n",
       "    <tr>\n",
       "      <td>261</td>\n",
       "      <td>1997_ALASKA</td>\n",
       "      <td>ALASKA</td>\n",
       "      <td>1997</td>\n",
       "      <td>NaN</td>\n",
       "      <td>NaN</td>\n",
       "      <td>NaN</td>\n",
       "      <td>NaN</td>\n",
       "      <td>1997</td>\n",
       "    </tr>\n",
       "    <tr>\n",
       "      <td>262</td>\n",
       "      <td>1997_ARIZONA</td>\n",
       "      <td>ARIZONA</td>\n",
       "      <td>1997</td>\n",
       "      <td>NaN</td>\n",
       "      <td>NaN</td>\n",
       "      <td>NaN</td>\n",
       "      <td>NaN</td>\n",
       "      <td>1997</td>\n",
       "    </tr>\n",
       "    <tr>\n",
       "      <td>263</td>\n",
       "      <td>1997_ARKANSAS</td>\n",
       "      <td>ARKANSAS</td>\n",
       "      <td>1997</td>\n",
       "      <td>NaN</td>\n",
       "      <td>NaN</td>\n",
       "      <td>NaN</td>\n",
       "      <td>NaN</td>\n",
       "      <td>1997</td>\n",
       "    </tr>\n",
       "    <tr>\n",
       "      <td>264</td>\n",
       "      <td>1997_CALIFORNIA</td>\n",
       "      <td>CALIFORNIA</td>\n",
       "      <td>1997</td>\n",
       "      <td>NaN</td>\n",
       "      <td>NaN</td>\n",
       "      <td>NaN</td>\n",
       "      <td>NaN</td>\n",
       "      <td>1997</td>\n",
       "    </tr>\n",
       "  </tbody>\n",
       "</table>\n",
       "</div>"
      ],
      "text/plain": [
       "         PRIMARY_KEY       STATE  YEAR  AVG_MATH_4_SCORE  AVG_MATH_8_SCORE  \\\n",
       "260     1997_ALABAMA     ALABAMA  1997               NaN               NaN   \n",
       "261      1997_ALASKA      ALASKA  1997               NaN               NaN   \n",
       "262     1997_ARIZONA     ARIZONA  1997               NaN               NaN   \n",
       "263    1997_ARKANSAS    ARKANSAS  1997               NaN               NaN   \n",
       "264  1997_CALIFORNIA  CALIFORNIA  1997               NaN               NaN   \n",
       "\n",
       "     AVG_READING_4_SCORE  AVG_READING_8_SCORE  YEAR  \n",
       "260                  NaN                  NaN  1997  \n",
       "261                  NaN                  NaN  1997  \n",
       "262                  NaN                  NaN  1997  \n",
       "263                  NaN                  NaN  1997  \n",
       "264                  NaN                  NaN  1997  "
      ]
     },
     "execution_count": 134,
     "metadata": {},
     "output_type": "execute_result"
    }
   ],
   "source": [
    "data[main1].loc[data['YEAR'] == 1997].head()"
   ]
  },
  {
   "cell_type": "code",
   "execution_count": 119,
   "metadata": {
    "ExecuteTime": {
     "end_time": "2019-10-17T01:10:55.291995Z",
     "start_time": "2019-10-17T01:10:55.279315Z"
    }
   },
   "outputs": [
    {
     "data": {
      "text/html": [
       "<div>\n",
       "<style scoped>\n",
       "    .dataframe tbody tr th:only-of-type {\n",
       "        vertical-align: middle;\n",
       "    }\n",
       "\n",
       "    .dataframe tbody tr th {\n",
       "        vertical-align: top;\n",
       "    }\n",
       "\n",
       "    .dataframe thead th {\n",
       "        text-align: right;\n",
       "    }\n",
       "</style>\n",
       "<table border=\"1\" class=\"dataframe\">\n",
       "  <thead>\n",
       "    <tr style=\"text-align: right;\">\n",
       "      <th></th>\n",
       "      <th>PRIMARY_KEY</th>\n",
       "      <th>STATE</th>\n",
       "      <th>YEAR</th>\n",
       "      <th>AVG_MATH_4_SCORE</th>\n",
       "      <th>AVG_MATH_8_SCORE</th>\n",
       "      <th>AVG_READING_4_SCORE</th>\n",
       "      <th>AVG_READING_8_SCORE</th>\n",
       "      <th>YEAR</th>\n",
       "    </tr>\n",
       "  </thead>\n",
       "  <tbody>\n",
       "    <tr>\n",
       "      <td>260</td>\n",
       "      <td>1997_ALABAMA</td>\n",
       "      <td>ALABAMA</td>\n",
       "      <td>1997</td>\n",
       "      <td>NaN</td>\n",
       "      <td>NaN</td>\n",
       "      <td>NaN</td>\n",
       "      <td>NaN</td>\n",
       "      <td>1997</td>\n",
       "    </tr>\n",
       "    <tr>\n",
       "      <td>261</td>\n",
       "      <td>1997_ALASKA</td>\n",
       "      <td>ALASKA</td>\n",
       "      <td>1997</td>\n",
       "      <td>NaN</td>\n",
       "      <td>NaN</td>\n",
       "      <td>NaN</td>\n",
       "      <td>NaN</td>\n",
       "      <td>1997</td>\n",
       "    </tr>\n",
       "    <tr>\n",
       "      <td>262</td>\n",
       "      <td>1997_ARIZONA</td>\n",
       "      <td>ARIZONA</td>\n",
       "      <td>1997</td>\n",
       "      <td>NaN</td>\n",
       "      <td>NaN</td>\n",
       "      <td>NaN</td>\n",
       "      <td>NaN</td>\n",
       "      <td>1997</td>\n",
       "    </tr>\n",
       "    <tr>\n",
       "      <td>263</td>\n",
       "      <td>1997_ARKANSAS</td>\n",
       "      <td>ARKANSAS</td>\n",
       "      <td>1997</td>\n",
       "      <td>NaN</td>\n",
       "      <td>NaN</td>\n",
       "      <td>NaN</td>\n",
       "      <td>NaN</td>\n",
       "      <td>1997</td>\n",
       "    </tr>\n",
       "    <tr>\n",
       "      <td>264</td>\n",
       "      <td>1997_CALIFORNIA</td>\n",
       "      <td>CALIFORNIA</td>\n",
       "      <td>1997</td>\n",
       "      <td>NaN</td>\n",
       "      <td>NaN</td>\n",
       "      <td>NaN</td>\n",
       "      <td>NaN</td>\n",
       "      <td>1997</td>\n",
       "    </tr>\n",
       "  </tbody>\n",
       "</table>\n",
       "</div>"
      ],
      "text/plain": [
       "         PRIMARY_KEY       STATE  YEAR  AVG_MATH_4_SCORE  AVG_MATH_8_SCORE  \\\n",
       "260     1997_ALABAMA     ALABAMA  1997               NaN               NaN   \n",
       "261      1997_ALASKA      ALASKA  1997               NaN               NaN   \n",
       "262     1997_ARIZONA     ARIZONA  1997               NaN               NaN   \n",
       "263    1997_ARKANSAS    ARKANSAS  1997               NaN               NaN   \n",
       "264  1997_CALIFORNIA  CALIFORNIA  1997               NaN               NaN   \n",
       "\n",
       "     AVG_READING_4_SCORE  AVG_READING_8_SCORE  YEAR  \n",
       "260                  NaN                  NaN  1997  \n",
       "261                  NaN                  NaN  1997  \n",
       "262                  NaN                  NaN  1997  \n",
       "263                  NaN                  NaN  1997  \n",
       "264                  NaN                  NaN  1997  "
      ]
     },
     "execution_count": 119,
     "metadata": {},
     "output_type": "execute_result"
    }
   ],
   "source": [
    "data3[main1].loc[data3['YEAR'] == 1997].head()"
   ]
  },
  {
   "cell_type": "code",
   "execution_count": 162,
   "metadata": {
    "ExecuteTime": {
     "end_time": "2019-10-17T01:23:31.535320Z",
     "start_time": "2019-10-17T01:23:31.406235Z"
    }
   },
   "outputs": [
    {
     "data": {
      "text/plain": [
       "[<matplotlib.lines.Line2D at 0x1288d07d0>]"
      ]
     },
     "execution_count": 162,
     "metadata": {},
     "output_type": "execute_result"
    },
    {
     "data": {
      "image/png": "[encoded data removed]",
      "text/plain": [
       "<Figure size 432x288 with 1 Axes>"
      ]
     },
     "metadata": {
      "needs_background": "light"
     },
     "output_type": "display_data"
    }
   ],
   "source": [
    "d3 = data3.loc[data3['STATE'] == 'ALASKA'][['YEAR', 'AVG_READING_8_SCORE']]\n",
    "plt.plot(d3['YEAR'],d3['AVG_READING_8_SCORE'], '-o')"
   ]
  },
  {
   "cell_type": "markdown",
   "metadata": {},
   "source": [
    "## Question 4\n",
    "\n",
    "This time, fill in the missing values using interpolation (extrapolation)."
   ]
  },
  {
   "cell_type": "code",
   "execution_count": 121,
   "metadata": {
    "ExecuteTime": {
     "end_time": "2019-10-17T01:13:37.843642Z",
     "start_time": "2019-10-17T01:13:37.812704Z"
    }
   },
   "outputs": [],
   "source": [
    "data4 = data.copy()\n",
    "\n",
    "for col in with_null:\n",
    "    data4.loc[:, col] = data4.loc[:, col].interpolate()\n"
   ]
  },
  {
   "cell_type": "code",
   "execution_count": 124,
   "metadata": {
    "ExecuteTime": {
     "end_time": "2019-10-17T01:14:23.630231Z",
     "start_time": "2019-10-17T01:14:23.617996Z"
    }
   },
   "outputs": [
    {
     "data": {
      "text/html": [
       "<div>\n",
       "<style scoped>\n",
       "    .dataframe tbody tr th:only-of-type {\n",
       "        vertical-align: middle;\n",
       "    }\n",
       "\n",
       "    .dataframe tbody tr th {\n",
       "        vertical-align: top;\n",
       "    }\n",
       "\n",
       "    .dataframe thead th {\n",
       "        text-align: right;\n",
       "    }\n",
       "</style>\n",
       "<table border=\"1\" class=\"dataframe\">\n",
       "  <thead>\n",
       "    <tr style=\"text-align: right;\">\n",
       "      <th></th>\n",
       "      <th>PRIMARY_KEY</th>\n",
       "      <th>STATE</th>\n",
       "      <th>YEAR</th>\n",
       "      <th>AVG_MATH_4_SCORE</th>\n",
       "      <th>AVG_MATH_8_SCORE</th>\n",
       "      <th>AVG_READING_4_SCORE</th>\n",
       "      <th>AVG_READING_8_SCORE</th>\n",
       "      <th>YEAR</th>\n",
       "    </tr>\n",
       "  </thead>\n",
       "  <tbody>\n",
       "    <tr>\n",
       "      <td>1</td>\n",
       "      <td>1992_ALASKA</td>\n",
       "      <td>ALASKA</td>\n",
       "      <td>1992</td>\n",
       "      <td>NaN</td>\n",
       "      <td>NaN</td>\n",
       "      <td>NaN</td>\n",
       "      <td>258.859712</td>\n",
       "      <td>1992</td>\n",
       "    </tr>\n",
       "    <tr>\n",
       "      <td>53</td>\n",
       "      <td>1993_ALASKA</td>\n",
       "      <td>ALASKA</td>\n",
       "      <td>1993</td>\n",
       "      <td>NaN</td>\n",
       "      <td>NaN</td>\n",
       "      <td>NaN</td>\n",
       "      <td>NaN</td>\n",
       "      <td>1993</td>\n",
       "    </tr>\n",
       "    <tr>\n",
       "      <td>105</td>\n",
       "      <td>1994_ALASKA</td>\n",
       "      <td>ALASKA</td>\n",
       "      <td>1994</td>\n",
       "      <td>NaN</td>\n",
       "      <td>NaN</td>\n",
       "      <td>NaN</td>\n",
       "      <td>NaN</td>\n",
       "      <td>1994</td>\n",
       "    </tr>\n",
       "    <tr>\n",
       "      <td>158</td>\n",
       "      <td>1995_ALASKA</td>\n",
       "      <td>ALASKA</td>\n",
       "      <td>1995</td>\n",
       "      <td>NaN</td>\n",
       "      <td>NaN</td>\n",
       "      <td>NaN</td>\n",
       "      <td>NaN</td>\n",
       "      <td>1995</td>\n",
       "    </tr>\n",
       "    <tr>\n",
       "      <td>210</td>\n",
       "      <td>1996_ALASKA</td>\n",
       "      <td>ALASKA</td>\n",
       "      <td>1996</td>\n",
       "      <td>223.833455</td>\n",
       "      <td>277.643071</td>\n",
       "      <td>NaN</td>\n",
       "      <td>262.100424</td>\n",
       "      <td>1996</td>\n",
       "    </tr>\n",
       "  </tbody>\n",
       "</table>\n",
       "</div>"
      ],
      "text/plain": [
       "     PRIMARY_KEY   STATE  YEAR  AVG_MATH_4_SCORE  AVG_MATH_8_SCORE  \\\n",
       "1    1992_ALASKA  ALASKA  1992               NaN               NaN   \n",
       "53   1993_ALASKA  ALASKA  1993               NaN               NaN   \n",
       "105  1994_ALASKA  ALASKA  1994               NaN               NaN   \n",
       "158  1995_ALASKA  ALASKA  1995               NaN               NaN   \n",
       "210  1996_ALASKA  ALASKA  1996        223.833455        277.643071   \n",
       "\n",
       "     AVG_READING_4_SCORE  AVG_READING_8_SCORE  YEAR  \n",
       "1                    NaN           258.859712  1992  \n",
       "53                   NaN                  NaN  1993  \n",
       "105                  NaN                  NaN  1994  \n",
       "158                  NaN                  NaN  1995  \n",
       "210                  NaN           262.100424  1996  "
      ]
     },
     "execution_count": 124,
     "metadata": {},
     "output_type": "execute_result"
    }
   ],
   "source": [
    "data[main1].loc[data['STATE'] == 'ALASKA'].head()"
   ]
  },
  {
   "cell_type": "code",
   "execution_count": 169,
   "metadata": {
    "ExecuteTime": {
     "end_time": "2019-10-17T01:25:10.291908Z",
     "start_time": "2019-10-17T01:25:10.199661Z"
    }
   },
   "outputs": [
    {
     "data": {
      "image/png": "[encoded data removed]",
      "text/plain": [
       "<Figure size 432x288 with 1 Axes>"
      ]
     },
     "execution_count": 169,
     "metadata": {},
     "output_type": "execute_result"
    }
   ],
   "source": [
    "g1"
   ]
  },
  {
   "cell_type": "code",
   "execution_count": 125,
   "metadata": {
    "ExecuteTime": {
     "end_time": "2019-10-17T01:14:25.766450Z",
     "start_time": "2019-10-17T01:14:25.753818Z"
    }
   },
   "outputs": [
    {
     "data": {
      "text/html": [
       "<div>\n",
       "<style scoped>\n",
       "    .dataframe tbody tr th:only-of-type {\n",
       "        vertical-align: middle;\n",
       "    }\n",
       "\n",
       "    .dataframe tbody tr th {\n",
       "        vertical-align: top;\n",
       "    }\n",
       "\n",
       "    .dataframe thead th {\n",
       "        text-align: right;\n",
       "    }\n",
       "</style>\n",
       "<table border=\"1\" class=\"dataframe\">\n",
       "  <thead>\n",
       "    <tr style=\"text-align: right;\">\n",
       "      <th></th>\n",
       "      <th>PRIMARY_KEY</th>\n",
       "      <th>STATE</th>\n",
       "      <th>YEAR</th>\n",
       "      <th>AVG_MATH_4_SCORE</th>\n",
       "      <th>AVG_MATH_8_SCORE</th>\n",
       "      <th>AVG_READING_4_SCORE</th>\n",
       "      <th>AVG_READING_8_SCORE</th>\n",
       "      <th>YEAR</th>\n",
       "    </tr>\n",
       "  </thead>\n",
       "  <tbody>\n",
       "    <tr>\n",
       "      <td>1</td>\n",
       "      <td>1992_ALASKA</td>\n",
       "      <td>ALASKA</td>\n",
       "      <td>1992</td>\n",
       "      <td>211.790904</td>\n",
       "      <td>258.776900</td>\n",
       "      <td>207.088116</td>\n",
       "      <td>258.859712</td>\n",
       "      <td>1992</td>\n",
       "    </tr>\n",
       "    <tr>\n",
       "      <td>53</td>\n",
       "      <td>1993_ALASKA</td>\n",
       "      <td>ALASKA</td>\n",
       "      <td>1993</td>\n",
       "      <td>225.203786</td>\n",
       "      <td>274.846086</td>\n",
       "      <td>221.055622</td>\n",
       "      <td>261.713626</td>\n",
       "      <td>1993</td>\n",
       "    </tr>\n",
       "    <tr>\n",
       "      <td>105</td>\n",
       "      <td>1994_ALASKA</td>\n",
       "      <td>ALASKA</td>\n",
       "      <td>1994</td>\n",
       "      <td>220.684849</td>\n",
       "      <td>268.762345</td>\n",
       "      <td>217.677337</td>\n",
       "      <td>261.234565</td>\n",
       "      <td>1994</td>\n",
       "    </tr>\n",
       "    <tr>\n",
       "      <td>158</td>\n",
       "      <td>1995_ALASKA</td>\n",
       "      <td>ALASKA</td>\n",
       "      <td>1995</td>\n",
       "      <td>216.079008</td>\n",
       "      <td>262.561609</td>\n",
       "      <td>214.234085</td>\n",
       "      <td>260.746290</td>\n",
       "      <td>1995</td>\n",
       "    </tr>\n",
       "    <tr>\n",
       "      <td>210</td>\n",
       "      <td>1996_ALASKA</td>\n",
       "      <td>ALASKA</td>\n",
       "      <td>1996</td>\n",
       "      <td>223.833455</td>\n",
       "      <td>277.643071</td>\n",
       "      <td>208.725278</td>\n",
       "      <td>262.100424</td>\n",
       "      <td>1996</td>\n",
       "    </tr>\n",
       "  </tbody>\n",
       "</table>\n",
       "</div>"
      ],
      "text/plain": [
       "     PRIMARY_KEY   STATE  YEAR  AVG_MATH_4_SCORE  AVG_MATH_8_SCORE  \\\n",
       "1    1992_ALASKA  ALASKA  1992        211.790904        258.776900   \n",
       "53   1993_ALASKA  ALASKA  1993        225.203786        274.846086   \n",
       "105  1994_ALASKA  ALASKA  1994        220.684849        268.762345   \n",
       "158  1995_ALASKA  ALASKA  1995        216.079008        262.561609   \n",
       "210  1996_ALASKA  ALASKA  1996        223.833455        277.643071   \n",
       "\n",
       "     AVG_READING_4_SCORE  AVG_READING_8_SCORE  YEAR  \n",
       "1             207.088116           258.859712  1992  \n",
       "53            221.055622           261.713626  1993  \n",
       "105           217.677337           261.234565  1994  \n",
       "158           214.234085           260.746290  1995  \n",
       "210           208.725278           262.100424  1996  "
      ]
     },
     "execution_count": 125,
     "metadata": {},
     "output_type": "execute_result"
    }
   ],
   "source": [
    "data4[main1].loc[data4['STATE'] == 'ALASKA'].head()"
   ]
  },
  {
   "cell_type": "code",
   "execution_count": 174,
   "metadata": {
    "ExecuteTime": {
     "end_time": "2019-10-17T01:26:19.336764Z",
     "start_time": "2019-10-17T01:26:19.204687Z"
    }
   },
   "outputs": [
    {
     "data": {
      "text/plain": [
       "[<matplotlib.lines.Line2D at 0x12964b710>]"
      ]
     },
     "execution_count": 174,
     "metadata": {},
     "output_type": "execute_result"
    },
    {
     "data": {
      "image/png": "[encoded data removed]",
      "text/plain": [
       "<Figure size 432x288 with 1 Axes>"
      ]
     },
     "metadata": {
      "needs_background": "light"
     },
     "output_type": "display_data"
    }
   ],
   "source": [
    "d4 = data4.loc[data4['STATE'] == 'ALASKA'][['YEAR', 'AVG_READING_8_SCORE']]\n",
    "g4 = plt.figure()\n",
    "plt.plot(d4['YEAR'], d4['AVG_READING_8_SCORE'], '-o')"
   ]
  },
  {
   "cell_type": "markdown",
   "metadata": {},
   "source": [
    "## Question 5\n",
    "\n",
    "Compare your results for the 2nd, 3rd, and 4th questions. Do you find any meaningful differences?"
   ]
  },
  {
   "cell_type": "code",
   "execution_count": 171,
   "metadata": {
    "ExecuteTime": {
     "end_time": "2019-10-17T01:26:04.257159Z",
     "start_time": "2019-10-17T01:26:04.169284Z"
    }
   },
   "outputs": [
    {
     "data": {
      "image/png": "[encoded data removed]",
      "text/plain": [
       "<Figure size 432x288 with 1 Axes>"
      ]
     },
     "execution_count": 171,
     "metadata": {},
     "output_type": "execute_result"
    }
   ],
   "source": [
    "g1"
   ]
  },
  {
   "cell_type": "code",
   "execution_count": 172,
   "metadata": {
    "ExecuteTime": {
     "end_time": "2019-10-17T01:26:07.178331Z",
     "start_time": "2019-10-17T01:26:07.086187Z"
    }
   },
   "outputs": [
    {
     "data": {
      "image/png": "[encoded data removed]",
      "text/plain": [
       "<Figure size 432x288 with 1 Axes>"
      ]
     },
     "execution_count": 172,
     "metadata": {},
     "output_type": "execute_result"
    }
   ],
   "source": [
    "g2"
   ]
  },
  {
   "cell_type": "code",
   "execution_count": 175,
   "metadata": {
    "ExecuteTime": {
     "end_time": "2019-10-17T01:26:22.372175Z",
     "start_time": "2019-10-17T01:26:22.279518Z"
    }
   },
   "outputs": [
    {
     "data": {
      "image/png": "[encoded data removed]",
      "text/plain": [
       "<Figure size 432x288 with 1 Axes>"
      ]
     },
     "execution_count": 175,
     "metadata": {},
     "output_type": "execute_result"
    }
   ],
   "source": [
    "g4"
   ]
  },
  {
   "cell_type": "code",
   "execution_count": null,
   "metadata": {},
   "outputs": [],
   "source": []
  }
 ],
 "metadata": {
  "kernelspec": {
   "display_name": "Python 3",
   "language": "python",
   "name": "python3"
  },
  "language_info": {
   "codemirror_mode": {
    "name": "ipython",
    "version": 3
   },
   "file_extension": ".py",
   "mimetype": "text/x-python",
   "name": "python",
   "nbconvert_exporter": "python",
   "pygments_lexer": "ipython3",
   "version": "3.7.4"
  },
  "toc": {
   "base_numbering": 1,
   "nav_menu": {},
   "number_sections": true,
   "sideBar": true,
   "skip_h1_title": true,
   "title_cell": "Table of Contents",
   "title_sidebar": "Contents",
   "toc_cell": true,
   "toc_position": {},
   "toc_section_display": true,
   "toc_window_display": false
  },
  "varInspector": {
   "cols": {
    "lenName": 16,
    "lenType": 16,
    "lenVar": 40
   },
   "kernels_config": {
    "python": {
     "delete_cmd_postfix": "",
     "delete_cmd_prefix": "del ",
     "library": "var_list.py",
     "varRefreshCmd": "print(var_dic_list())"
    },
    "r": {
     "delete_cmd_postfix": ") ",
     "delete_cmd_prefix": "rm(",
     "library": "var_list.r",
     "varRefreshCmd": "cat(var_dic_list()) "
    }
   },
   "types_to_exclude": [
    "module",
    "function",
    "builtin_function_or_method",
    "instance",
    "_Feature"
   ],
   "window_display": false
  }
 },
 "nbformat": 4,
 "nbformat_minor": 2
}
