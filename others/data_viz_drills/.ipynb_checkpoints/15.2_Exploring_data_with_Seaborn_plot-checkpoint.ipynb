{
 "cells": [
  {
   "cell_type": "markdown",
   "metadata": {
    "toc": true
   },
   "source": [
    "<h1>Table of Contents<span class=\"tocSkip\"></span></h1>\n",
    "<div class=\"toc\"><ul class=\"toc-item\"></ul></div>"
   ]
  },
  {
   "cell_type": "code",
   "execution_count": 7,
   "metadata": {
    "ExecuteTime": {
     "end_time": "2019-08-13T03:26:57.883675Z",
     "start_time": "2019-08-13T03:26:57.828961Z"
    }
   },
   "outputs": [],
   "source": [
    "import seaborn as sns\n",
    "import pandas as pd \n",
    "import numpy as np\n",
    "from matplotlib import pyplot as plt\n",
    "\n",
    "%matplotlib inline"
   ]
  },
  {
   "cell_type": "code",
   "execution_count": 218,
   "metadata": {
    "ExecuteTime": {
     "end_time": "2019-08-13T05:02:01.411128Z",
     "start_time": "2019-08-13T05:02:01.395955Z"
    }
   },
   "outputs": [],
   "source": [
    "sns.set_style(\"darkgrid\")\n",
    "sns.set(font_scale=100)\n",
    "\n",
    "pd.set_option('display.max_columns', 100)\n",
    "pd.set_option('display.max_rows', 100)"
   ]
  },
  {
   "cell_type": "code",
   "execution_count": 128,
   "metadata": {
    "ExecuteTime": {
     "end_time": "2019-08-13T04:21:59.239639Z",
     "start_time": "2019-08-13T04:21:59.082735Z"
    }
   },
   "outputs": [
    {
     "name": "stdout",
     "output_type": "stream",
     "text": [
      "README.md                               \u001b[1m\u001b[32mcountrywise_airtraffic_tofrom_india.csv\u001b[m\u001b[m\r\n",
      "\u001b[1m\u001b[32mairlinewise_airtraffic_tofrom_india.csv\u001b[m\u001b[m \u001b[1m\u001b[32mfifa19_players.csv\u001b[m\u001b[m\r\n",
      "\u001b[1m\u001b[32mcitywise_airtraffic_tofrom_india.csv\u001b[m\u001b[m\r\n"
     ]
    }
   ],
   "source": [
    "!ls '../datasets/' "
   ]
  },
  {
   "cell_type": "code",
   "execution_count": 131,
   "metadata": {
    "ExecuteTime": {
     "end_time": "2019-08-13T04:23:02.527122Z",
     "start_time": "2019-08-13T04:23:02.464373Z"
    },
    "scrolled": true
   },
   "outputs": [],
   "source": [
    "countrywise = pd.read_csv('../datasets/countrywise_airtraffic_tofrom_india.csv', error_bad_lines=False)\n",
    "airlinewise = pd.read_csv('../datasets/airlinewise_airtraffic_tofrom_india.csv', error_bad_lines= False)"
   ]
  },
  {
   "cell_type": "code",
   "execution_count": 133,
   "metadata": {
    "ExecuteTime": {
     "end_time": "2019-08-13T04:25:14.021476Z",
     "start_time": "2019-08-13T04:25:13.982583Z"
    }
   },
   "outputs": [
    {
     "data": {
      "text/html": [
       "<div>\n",
       "<style scoped>\n",
       "    .dataframe tbody tr th:only-of-type {\n",
       "        vertical-align: middle;\n",
       "    }\n",
       "\n",
       "    .dataframe tbody tr th {\n",
       "        vertical-align: top;\n",
       "    }\n",
       "\n",
       "    .dataframe thead th {\n",
       "        text-align: right;\n",
       "    }\n",
       "</style>\n",
       "<table border=\"1\" class=\"dataframe\">\n",
       "  <thead>\n",
       "    <tr style=\"text-align: right;\">\n",
       "      <th></th>\n",
       "      <th>YEAR</th>\n",
       "      <th>QUARTER</th>\n",
       "      <th>COUNTRY NAME</th>\n",
       "      <th>PASSENGERS TO INDIA</th>\n",
       "      <th>PASSENGERS FROM INDIA</th>\n",
       "      <th>FREIGHT TO INDIA</th>\n",
       "      <th>FREIGHT FROM INDIA</th>\n",
       "      <th>NET TRAFFIC TO INDIA</th>\n",
       "      <th>TOTAL TRAFFIC</th>\n",
       "    </tr>\n",
       "  </thead>\n",
       "  <tbody>\n",
       "    <tr>\n",
       "      <th>0</th>\n",
       "      <td>2015</td>\n",
       "      <td>Q1</td>\n",
       "      <td>AFGHANISTAN</td>\n",
       "      <td>37194</td>\n",
       "      <td>32721</td>\n",
       "      <td>96.7</td>\n",
       "      <td>676.4</td>\n",
       "      <td>4473</td>\n",
       "      <td>69915</td>\n",
       "    </tr>\n",
       "    <tr>\n",
       "      <th>1</th>\n",
       "      <td>2015</td>\n",
       "      <td>Q1</td>\n",
       "      <td>AUSTRALIA</td>\n",
       "      <td>16676</td>\n",
       "      <td>19075</td>\n",
       "      <td>89.7</td>\n",
       "      <td>423.7</td>\n",
       "      <td>-2399</td>\n",
       "      <td>35751</td>\n",
       "    </tr>\n",
       "    <tr>\n",
       "      <th>2</th>\n",
       "      <td>2015</td>\n",
       "      <td>Q1</td>\n",
       "      <td>AUSTRIA</td>\n",
       "      <td>13318</td>\n",
       "      <td>15529</td>\n",
       "      <td>563.8</td>\n",
       "      <td>707.0</td>\n",
       "      <td>-2211</td>\n",
       "      <td>28847</td>\n",
       "    </tr>\n",
       "    <tr>\n",
       "      <th>3</th>\n",
       "      <td>2015</td>\n",
       "      <td>Q1</td>\n",
       "      <td>BAHRAIN</td>\n",
       "      <td>114087</td>\n",
       "      <td>133527</td>\n",
       "      <td>585.7</td>\n",
       "      <td>1909.5</td>\n",
       "      <td>-19440</td>\n",
       "      <td>247614</td>\n",
       "    </tr>\n",
       "    <tr>\n",
       "      <th>4</th>\n",
       "      <td>2015</td>\n",
       "      <td>Q1</td>\n",
       "      <td>BANGLADESH</td>\n",
       "      <td>76357</td>\n",
       "      <td>75673</td>\n",
       "      <td>624.1</td>\n",
       "      <td>1052.9</td>\n",
       "      <td>684</td>\n",
       "      <td>152030</td>\n",
       "    </tr>\n",
       "  </tbody>\n",
       "</table>\n",
       "</div>"
      ],
      "text/plain": [
       "   YEAR QUARTER COUNTRY NAME  PASSENGERS TO INDIA  PASSENGERS FROM INDIA  \\\n",
       "0  2015      Q1  AFGHANISTAN                37194                  32721   \n",
       "1  2015      Q1    AUSTRALIA                16676                  19075   \n",
       "2  2015      Q1      AUSTRIA                13318                  15529   \n",
       "3  2015      Q1      BAHRAIN               114087                 133527   \n",
       "4  2015      Q1   BANGLADESH                76357                  75673   \n",
       "\n",
       "   FREIGHT TO INDIA  FREIGHT FROM INDIA  NET TRAFFIC TO INDIA  TOTAL TRAFFIC  \n",
       "0              96.7               676.4                  4473          69915  \n",
       "1              89.7               423.7                 -2399          35751  \n",
       "2             563.8               707.0                 -2211          28847  \n",
       "3             585.7              1909.5                -19440         247614  \n",
       "4             624.1              1052.9                   684         152030  "
      ]
     },
     "execution_count": 133,
     "metadata": {},
     "output_type": "execute_result"
    }
   ],
   "source": [
    "countrywise['NET TRAFFIC TO INDIA'] = countrywise['PASSENGERS TO INDIA'] - countrywise['PASSENGERS FROM INDIA']\n",
    "countrywise['TOTAL TRAFFIC'] = countrywise['PASSENGERS TO INDIA'] + countrywise['PASSENGERS FROM INDIA']\n",
    "countrywise.head()"
   ]
  },
  {
   "cell_type": "code",
   "execution_count": 134,
   "metadata": {
    "ExecuteTime": {
     "end_time": "2019-08-13T04:25:33.864557Z",
     "start_time": "2019-08-13T04:25:33.827005Z"
    },
    "scrolled": true
   },
   "outputs": [
    {
     "data": {
      "text/html": [
       "<div>\n",
       "<style scoped>\n",
       "    .dataframe tbody tr th:only-of-type {\n",
       "        vertical-align: middle;\n",
       "    }\n",
       "\n",
       "    .dataframe tbody tr th {\n",
       "        vertical-align: top;\n",
       "    }\n",
       "\n",
       "    .dataframe thead th {\n",
       "        text-align: right;\n",
       "    }\n",
       "</style>\n",
       "<table border=\"1\" class=\"dataframe\">\n",
       "  <thead>\n",
       "    <tr style=\"text-align: right;\">\n",
       "      <th></th>\n",
       "      <th>YEAR</th>\n",
       "      <th>MONTH</th>\n",
       "      <th>QUARTER</th>\n",
       "      <th>AIRLINE NAME</th>\n",
       "      <th>CARRIER TYPE</th>\n",
       "      <th>PASSENGERS TO INDIA</th>\n",
       "      <th>PASSENGERS FROM INDIA</th>\n",
       "      <th>FREIGHT TO INDIA</th>\n",
       "      <th>FREIGHT FROM INDIA</th>\n",
       "      <th>NET TRAFFIC TO INDIA</th>\n",
       "      <th>TOTAL TRAFFIC</th>\n",
       "    </tr>\n",
       "  </thead>\n",
       "  <tbody>\n",
       "    <tr>\n",
       "      <th>0</th>\n",
       "      <td>2015</td>\n",
       "      <td>JAN</td>\n",
       "      <td>Q1</td>\n",
       "      <td>AIR INDIA</td>\n",
       "      <td>DOMESTIC</td>\n",
       "      <td>258876.0</td>\n",
       "      <td>274220</td>\n",
       "      <td>3320.626</td>\n",
       "      <td>4186.302</td>\n",
       "      <td>-15344.0</td>\n",
       "      <td>533096.0</td>\n",
       "    </tr>\n",
       "    <tr>\n",
       "      <th>1</th>\n",
       "      <td>2015</td>\n",
       "      <td>JAN</td>\n",
       "      <td>Q1</td>\n",
       "      <td>AIR INDIA EXPRESS</td>\n",
       "      <td>DOMESTIC</td>\n",
       "      <td>95581.0</td>\n",
       "      <td>116600</td>\n",
       "      <td>0.000</td>\n",
       "      <td>0.000</td>\n",
       "      <td>-21019.0</td>\n",
       "      <td>212181.0</td>\n",
       "    </tr>\n",
       "    <tr>\n",
       "      <th>2</th>\n",
       "      <td>2015</td>\n",
       "      <td>JAN</td>\n",
       "      <td>Q1</td>\n",
       "      <td>INDIGO</td>\n",
       "      <td>DOMESTIC</td>\n",
       "      <td>68112.0</td>\n",
       "      <td>74212</td>\n",
       "      <td>320.000</td>\n",
       "      <td>1812.000</td>\n",
       "      <td>-6100.0</td>\n",
       "      <td>142324.0</td>\n",
       "    </tr>\n",
       "    <tr>\n",
       "      <th>3</th>\n",
       "      <td>2015</td>\n",
       "      <td>JAN</td>\n",
       "      <td>Q1</td>\n",
       "      <td>JET AIRWAYS</td>\n",
       "      <td>DOMESTIC</td>\n",
       "      <td>320853.0</td>\n",
       "      <td>332116</td>\n",
       "      <td>4173.874</td>\n",
       "      <td>5383.515</td>\n",
       "      <td>-11263.0</td>\n",
       "      <td>652969.0</td>\n",
       "    </tr>\n",
       "    <tr>\n",
       "      <th>4</th>\n",
       "      <td>2015</td>\n",
       "      <td>JAN</td>\n",
       "      <td>Q1</td>\n",
       "      <td>SPICEJET</td>\n",
       "      <td>DOMESTIC</td>\n",
       "      <td>37882.0</td>\n",
       "      <td>42468</td>\n",
       "      <td>0.000</td>\n",
       "      <td>115.680</td>\n",
       "      <td>-4586.0</td>\n",
       "      <td>80350.0</td>\n",
       "    </tr>\n",
       "  </tbody>\n",
       "</table>\n",
       "</div>"
      ],
      "text/plain": [
       "   YEAR MONTH QUARTER       AIRLINE NAME CARRIER TYPE  PASSENGERS TO INDIA  \\\n",
       "0  2015   JAN      Q1          AIR INDIA     DOMESTIC             258876.0   \n",
       "1  2015   JAN      Q1  AIR INDIA EXPRESS     DOMESTIC              95581.0   \n",
       "2  2015   JAN      Q1             INDIGO     DOMESTIC              68112.0   \n",
       "3  2015   JAN      Q1        JET AIRWAYS     DOMESTIC             320853.0   \n",
       "4  2015   JAN      Q1           SPICEJET     DOMESTIC              37882.0   \n",
       "\n",
       "   PASSENGERS FROM INDIA  FREIGHT TO INDIA  FREIGHT FROM INDIA  \\\n",
       "0                 274220          3320.626            4186.302   \n",
       "1                 116600             0.000               0.000   \n",
       "2                  74212           320.000            1812.000   \n",
       "3                 332116          4173.874            5383.515   \n",
       "4                  42468             0.000             115.680   \n",
       "\n",
       "   NET TRAFFIC TO INDIA  TOTAL TRAFFIC  \n",
       "0              -15344.0       533096.0  \n",
       "1              -21019.0       212181.0  \n",
       "2               -6100.0       142324.0  \n",
       "3              -11263.0       652969.0  \n",
       "4               -4586.0        80350.0  "
      ]
     },
     "execution_count": 134,
     "metadata": {},
     "output_type": "execute_result"
    }
   ],
   "source": [
    "airlinewise['NET TRAFFIC TO INDIA'] = airlinewise['PASSENGERS TO INDIA'] - airlinewise['PASSENGERS FROM INDIA']\n",
    "airlinewise['TOTAL TRAFFIC'] = airlinewise['PASSENGERS TO INDIA'] + airlinewise['PASSENGERS FROM INDIA']\n",
    "airlinewise.head()"
   ]
  },
  {
   "cell_type": "code",
   "execution_count": null,
   "metadata": {
    "ExecuteTime": {
     "start_time": "2019-08-13T05:02:04.278Z"
    }
   },
   "outputs": [
    {
     "data": {
      "text/plain": [
       "<matplotlib.axes._subplots.AxesSubplot at 0x116699cf8>"
      ]
     },
     "execution_count": 219,
     "metadata": {},
     "output_type": "execute_result"
    }
   ],
   "source": [
    "plt.figure(figsize = (12, 7))\n",
    "sns.boxplot(x = 'MONTH', y = 'TOTAL TRAFFIC', data=airlinewise, hue = 'CARRIER TYPE' )"
   ]
  },
  {
   "cell_type": "code",
   "execution_count": 212,
   "metadata": {
    "ExecuteTime": {
     "end_time": "2019-08-13T04:58:15.770544Z",
     "start_time": "2019-08-13T04:58:15.724797Z"
    }
   },
   "outputs": [
    {
     "data": {
      "text/html": [
       "<div>\n",
       "<style scoped>\n",
       "    .dataframe tbody tr th:only-of-type {\n",
       "        vertical-align: middle;\n",
       "    }\n",
       "\n",
       "    .dataframe tbody tr th {\n",
       "        vertical-align: top;\n",
       "    }\n",
       "\n",
       "    .dataframe thead th {\n",
       "        text-align: right;\n",
       "    }\n",
       "</style>\n",
       "<table border=\"1\" class=\"dataframe\">\n",
       "  <thead>\n",
       "    <tr style=\"text-align: right;\">\n",
       "      <th></th>\n",
       "      <th>AIRLINE NAME</th>\n",
       "      <th>PASSENGERS TO INDIA</th>\n",
       "      <th>PASSENGERS FROM INDIA</th>\n",
       "      <th>NET TRAFFIC TO INDIA</th>\n",
       "      <th>TOTAL TRAFFIC</th>\n",
       "    </tr>\n",
       "  </thead>\n",
       "  <tbody>\n",
       "    <tr>\n",
       "      <th>0</th>\n",
       "      <td>EMIRATES AIRLINE</td>\n",
       "      <td>5981862.0</td>\n",
       "      <td>6214850</td>\n",
       "      <td>-232988.0</td>\n",
       "      <td>12196712.0</td>\n",
       "    </tr>\n",
       "    <tr>\n",
       "      <th>1</th>\n",
       "      <td>ETIHAD AIRLINES</td>\n",
       "      <td>2715962.0</td>\n",
       "      <td>2813097</td>\n",
       "      <td>-97135.0</td>\n",
       "      <td>5529059.0</td>\n",
       "    </tr>\n",
       "    <tr>\n",
       "      <th>2</th>\n",
       "      <td>AIR ARABIA</td>\n",
       "      <td>1964928.0</td>\n",
       "      <td>2031394</td>\n",
       "      <td>-66466.0</td>\n",
       "      <td>3996322.0</td>\n",
       "    </tr>\n",
       "    <tr>\n",
       "      <th>3</th>\n",
       "      <td>OMAN AIR</td>\n",
       "      <td>1758656.0</td>\n",
       "      <td>1802529</td>\n",
       "      <td>-43873.0</td>\n",
       "      <td>3561185.0</td>\n",
       "    </tr>\n",
       "    <tr>\n",
       "      <th>4</th>\n",
       "      <td>QATAR AIRWAYS</td>\n",
       "      <td>1654189.0</td>\n",
       "      <td>1646102</td>\n",
       "      <td>8087.0</td>\n",
       "      <td>3300291.0</td>\n",
       "    </tr>\n",
       "  </tbody>\n",
       "</table>\n",
       "</div>"
      ],
      "text/plain": [
       "       AIRLINE NAME  PASSENGERS TO INDIA  PASSENGERS FROM INDIA  \\\n",
       "0  EMIRATES AIRLINE            5981862.0                6214850   \n",
       "1   ETIHAD AIRLINES            2715962.0                2813097   \n",
       "2        AIR ARABIA            1964928.0                2031394   \n",
       "3          OMAN AIR            1758656.0                1802529   \n",
       "4     QATAR AIRWAYS            1654189.0                1646102   \n",
       "\n",
       "   NET TRAFFIC TO INDIA  TOTAL TRAFFIC  \n",
       "0             -232988.0     12196712.0  \n",
       "1              -97135.0      5529059.0  \n",
       "2              -66466.0      3996322.0  \n",
       "3              -43873.0      3561185.0  \n",
       "4                8087.0      3300291.0  "
      ]
     },
     "execution_count": 212,
     "metadata": {},
     "output_type": "execute_result"
    }
   ],
   "source": [
    "only_international = airlinewise.loc[airlinewise['CARRIER TYPE'] == 'FOREIGN']\n",
    "\n",
    "airlines = only_international.groupby(by = 'AIRLINE NAME').sum()\n",
    "airlines = airlines[['PASSENGERS TO INDIA', 'PASSENGERS FROM INDIA', 'NET TRAFFIC TO INDIA', 'TOTAL TRAFFIC']]\n",
    "airlines.sort_values(by = 'TOTAL TRAFFIC', ascending = False, inplace = True)\n",
    "airlines.reset_index(inplace = True)\n",
    "airlines.head()"
   ]
  },
  {
   "cell_type": "code",
   "execution_count": 216,
   "metadata": {
    "ExecuteTime": {
     "end_time": "2019-08-13T05:00:35.335352Z",
     "start_time": "2019-08-13T05:00:34.424834Z"
    }
   },
   "outputs": [
    {
     "data": {
      "image/png": "[encoded data removed]",
      "text/plain": [
       "<Figure size 1584x720 with 1 Axes>"
      ]
     },
     "metadata": {},
     "output_type": "display_data"
    }
   ],
   "source": [
    "plt.figure(figsize=(22, 10))\n",
    "sns.barplot(x='AIRLINE NAME', y='TOTAL TRAFFIC', data=airlines.head(\n",
    "    30), label='total number of passengers shipped', palette=\"Blues_d\")\n",
    "plt.legend(fontsize = 'x-large')\n",
    "plt.xticks(fontsize = 'x-large', rotation=90)\n",
    "plt.yticks(fontsize = 'x-large')\n",
    "plt.show()"
   ]
  },
  {
   "cell_type": "code",
   "execution_count": null,
   "metadata": {},
   "outputs": [],
   "source": []
  }
 ],
 "metadata": {
  "kernelspec": {
   "display_name": "Python 3",
   "language": "python",
   "name": "python3"
  },
  "language_info": {
   "codemirror_mode": {
    "name": "ipython",
    "version": 3
   },
   "file_extension": ".py",
   "mimetype": "text/x-python",
   "name": "python",
   "nbconvert_exporter": "python",
   "pygments_lexer": "ipython3",
   "version": "3.7.1"
  },
  "toc": {
   "base_numbering": 1,
   "nav_menu": {},
   "number_sections": true,
   "sideBar": true,
   "skip_h1_title": true,
   "title_cell": "Table of Contents",
   "title_sidebar": "Contents",
   "toc_cell": true,
   "toc_position": {},
   "toc_section_display": true,
   "toc_window_display": false
  },
  "varInspector": {
   "cols": {
    "lenName": 16,
    "lenType": 16,
    "lenVar": 40
   },
   "kernels_config": {
    "python": {
     "delete_cmd_postfix": "",
     "delete_cmd_prefix": "del ",
     "library": "var_list.py",
     "varRefreshCmd": "print(var_dic_list())"
    },
    "r": {
     "delete_cmd_postfix": ") ",
     "delete_cmd_prefix": "rm(",
     "library": "var_list.r",
     "varRefreshCmd": "cat(var_dic_list()) "
    }
   },
   "types_to_exclude": [
    "module",
    "function",
    "builtin_function_or_method",
    "instance",
    "_Feature"
   ],
   "window_display": false
  }
 },
 "nbformat": 4,
 "nbformat_minor": 2
}
