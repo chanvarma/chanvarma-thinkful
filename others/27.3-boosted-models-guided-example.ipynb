{
 "cells": [
  {
   "cell_type": "markdown",
   "metadata": {
    "toc": true
   },
   "source": [
    "<h1>Table of Contents<span class=\"tocSkip\"></span></h1>\n",
    "<div class=\"toc\"><ul class=\"toc-item\"><li><span><a href=\"#Baseline-model\" data-toc-modified-id=\"Baseline-model-1\"><span class=\"toc-item-num\">1&nbsp;&nbsp;</span>Baseline model</a></span></li><li><span><a href=\"#Tuning-the-parameters\" data-toc-modified-id=\"Tuning-the-parameters-2\"><span class=\"toc-item-num\">2&nbsp;&nbsp;</span>Tuning the parameters</a></span></li></ul></div>"
   ]
  },
  {
   "cell_type": "code",
   "execution_count": 48,
   "metadata": {
    "ExecuteTime": {
     "end_time": "2020-04-04T00:42:14.954836Z",
     "start_time": "2020-04-04T00:42:14.947932Z"
    }
   },
   "outputs": [],
   "source": [
    "import itertools\n",
    "import pandas as pd\n",
    "import numpy as np\n",
    "import matplotlib.pyplot as plt\n",
    "%matplotlib inline\n",
    "\n",
    "from sklearn.metrics import confusion_matrix, precision_score, recall_score\n",
    "from sklearn.ensemble import GradientBoostingClassifier"
   ]
  },
  {
   "cell_type": "code",
   "execution_count": 2,
   "metadata": {
    "ExecuteTime": {
     "end_time": "2020-04-04T00:18:10.668498Z",
     "start_time": "2020-04-04T00:18:09.662424Z"
    }
   },
   "outputs": [
    {
     "data": {
      "text/html": [
       "<div>\n",
       "<style scoped>\n",
       "    .dataframe tbody tr th:only-of-type {\n",
       "        vertical-align: middle;\n",
       "    }\n",
       "\n",
       "    .dataframe tbody tr th {\n",
       "        vertical-align: top;\n",
       "    }\n",
       "\n",
       "    .dataframe thead th {\n",
       "        text-align: right;\n",
       "    }\n",
       "</style>\n",
       "<table border=\"1\" class=\"dataframe\">\n",
       "  <thead>\n",
       "    <tr style=\"text-align: right;\">\n",
       "      <th></th>\n",
       "      <th>cntry</th>\n",
       "      <th>idno</th>\n",
       "      <th>year</th>\n",
       "      <th>tvtot</th>\n",
       "      <th>ppltrst</th>\n",
       "      <th>pplfair</th>\n",
       "      <th>pplhlp</th>\n",
       "      <th>happy</th>\n",
       "      <th>sclmeet</th>\n",
       "      <th>sclact</th>\n",
       "      <th>gndr</th>\n",
       "      <th>agea</th>\n",
       "      <th>partner</th>\n",
       "    </tr>\n",
       "  </thead>\n",
       "  <tbody>\n",
       "    <tr>\n",
       "      <th>0</th>\n",
       "      <td>CH</td>\n",
       "      <td>5.0</td>\n",
       "      <td>6</td>\n",
       "      <td>3.0</td>\n",
       "      <td>3.0</td>\n",
       "      <td>10.0</td>\n",
       "      <td>5.0</td>\n",
       "      <td>8.0</td>\n",
       "      <td>5.0</td>\n",
       "      <td>4.0</td>\n",
       "      <td>2.0</td>\n",
       "      <td>60.0</td>\n",
       "      <td>1.0</td>\n",
       "    </tr>\n",
       "    <tr>\n",
       "      <th>1</th>\n",
       "      <td>CH</td>\n",
       "      <td>25.0</td>\n",
       "      <td>6</td>\n",
       "      <td>6.0</td>\n",
       "      <td>5.0</td>\n",
       "      <td>7.0</td>\n",
       "      <td>5.0</td>\n",
       "      <td>9.0</td>\n",
       "      <td>3.0</td>\n",
       "      <td>2.0</td>\n",
       "      <td>2.0</td>\n",
       "      <td>59.0</td>\n",
       "      <td>1.0</td>\n",
       "    </tr>\n",
       "    <tr>\n",
       "      <th>2</th>\n",
       "      <td>CH</td>\n",
       "      <td>26.0</td>\n",
       "      <td>6</td>\n",
       "      <td>1.0</td>\n",
       "      <td>8.0</td>\n",
       "      <td>8.0</td>\n",
       "      <td>8.0</td>\n",
       "      <td>7.0</td>\n",
       "      <td>6.0</td>\n",
       "      <td>3.0</td>\n",
       "      <td>1.0</td>\n",
       "      <td>24.0</td>\n",
       "      <td>2.0</td>\n",
       "    </tr>\n",
       "    <tr>\n",
       "      <th>3</th>\n",
       "      <td>CH</td>\n",
       "      <td>28.0</td>\n",
       "      <td>6</td>\n",
       "      <td>4.0</td>\n",
       "      <td>6.0</td>\n",
       "      <td>6.0</td>\n",
       "      <td>7.0</td>\n",
       "      <td>10.0</td>\n",
       "      <td>6.0</td>\n",
       "      <td>2.0</td>\n",
       "      <td>2.0</td>\n",
       "      <td>64.0</td>\n",
       "      <td>1.0</td>\n",
       "    </tr>\n",
       "    <tr>\n",
       "      <th>4</th>\n",
       "      <td>CH</td>\n",
       "      <td>29.0</td>\n",
       "      <td>6</td>\n",
       "      <td>5.0</td>\n",
       "      <td>6.0</td>\n",
       "      <td>7.0</td>\n",
       "      <td>5.0</td>\n",
       "      <td>8.0</td>\n",
       "      <td>7.0</td>\n",
       "      <td>2.0</td>\n",
       "      <td>2.0</td>\n",
       "      <td>55.0</td>\n",
       "      <td>1.0</td>\n",
       "    </tr>\n",
       "  </tbody>\n",
       "</table>\n",
       "</div>"
      ],
      "text/plain": [
       "  cntry  idno  year  tvtot  ppltrst  pplfair  pplhlp  happy  sclmeet  sclact  \\\n",
       "0    CH   5.0     6    3.0      3.0     10.0     5.0    8.0      5.0     4.0   \n",
       "1    CH  25.0     6    6.0      5.0      7.0     5.0    9.0      3.0     2.0   \n",
       "2    CH  26.0     6    1.0      8.0      8.0     8.0    7.0      6.0     3.0   \n",
       "3    CH  28.0     6    4.0      6.0      6.0     7.0   10.0      6.0     2.0   \n",
       "4    CH  29.0     6    5.0      6.0      7.0     5.0    8.0      7.0     2.0   \n",
       "\n",
       "   gndr  agea  partner  \n",
       "0   2.0  60.0      1.0  \n",
       "1   2.0  59.0      1.0  \n",
       "2   1.0  24.0      2.0  \n",
       "3   2.0  64.0      1.0  \n",
       "4   2.0  55.0      1.0  "
      ]
     },
     "execution_count": 2,
     "metadata": {},
     "output_type": "execute_result"
    }
   ],
   "source": [
    "raw_data = pd.read_csv((\n",
    "    \"https://raw.githubusercontent.com/Thinkful-Ed/data-201-resources/\"\n",
    "    \"master/ESS_practice_data/ESSdata_Thinkful.csv\")).dropna()\n",
    "\n",
    "raw_data.head()"
   ]
  },
  {
   "cell_type": "code",
   "execution_count": 35,
   "metadata": {
    "ExecuteTime": {
     "end_time": "2020-04-04T00:31:30.359053Z",
     "start_time": "2020-04-04T00:31:30.337697Z"
    }
   },
   "outputs": [
    {
     "data": {
      "text/plain": [
       "((5702, 15), (2445, 15), (5702,), (2445,))"
      ]
     },
     "execution_count": 35,
     "metadata": {},
     "output_type": "execute_result"
    }
   ],
   "source": [
    "from sklearn.model_selection import train_test_split, cross_val_score\n",
    "\n",
    "Y = raw_data['partner'] - 1\n",
    "\n",
    "X = raw_data.loc[:, ~raw_data.columns.isin(['partner'])]\n",
    "X = pd.concat([X, pd.get_dummies(raw_data['cntry'])], axis = 1)\n",
    "X.drop(columns = ['cntry', 'idno', 'year'], inplace = True)\n",
    "\n",
    "\n",
    "X_train, X_test, Y_train, Y_test = train_test_split(X, Y, test_size = 0.3, random_state = 13, stratify = Y)\n",
    "X_train.shape, X_test.shape, Y_train.shape, Y_test.shape"
   ]
  },
  {
   "cell_type": "markdown",
   "metadata": {},
   "source": [
    "## Baseline model"
   ]
  },
  {
   "cell_type": "code",
   "execution_count": 49,
   "metadata": {
    "ExecuteTime": {
     "end_time": "2020-04-04T00:42:25.575044Z",
     "start_time": "2020-04-04T00:42:21.539166Z"
    }
   },
   "outputs": [
    {
     "data": {
      "text/plain": [
       "(0.7541149721940578,\n",
       " array([0.7793345 , 0.76532399, 0.7754386 , 0.74385965, 0.75087719,\n",
       "        0.7245614 , 0.76666667, 0.75789474, 0.74561404, 0.73157895]))"
      ]
     },
     "execution_count": 49,
     "metadata": {},
     "output_type": "execute_result"
    }
   ],
   "source": [
    "clf = GradientBoostingClassifier(loss = 'deviance')\n",
    "clf.fit(X_train, Y_train)\n",
    "\n",
    "baseline_scores = cross_val_score(clf, X_train, Y_train, cv = 10)\n",
    "np.mean(baseline_scores), baseline_scores"
   ]
  },
  {
   "cell_type": "code",
   "execution_count": 50,
   "metadata": {
    "ExecuteTime": {
     "end_time": "2020-04-04T00:42:27.067257Z",
     "start_time": "2020-04-04T00:42:27.053008Z"
    }
   },
   "outputs": [
    {
     "data": {
      "text/plain": [
       "array([[0.54764826, 0.18527607],\n",
       "       [0.06748466, 0.199591  ]])"
      ]
     },
     "execution_count": 50,
     "metadata": {},
     "output_type": "execute_result"
    }
   ],
   "source": [
    "from sklearn.metrics import confusion_matrix, classification_report\n",
    "\n",
    "confusion_matrix(clf.predict(X_test), Y_test, normalize='all')"
   ]
  },
  {
   "cell_type": "code",
   "execution_count": 51,
   "metadata": {
    "ExecuteTime": {
     "end_time": "2020-04-04T00:42:28.354806Z",
     "start_time": "2020-04-04T00:42:28.336998Z"
    }
   },
   "outputs": [
    {
     "name": "stdout",
     "output_type": "stream",
     "text": [
      "              precision    recall  f1-score   support\n",
      "\n",
      "         0.0       0.89      0.75      0.81      1792\n",
      "         1.0       0.52      0.75      0.61       653\n",
      "\n",
      "    accuracy                           0.75      2445\n",
      "   macro avg       0.70      0.75      0.71      2445\n",
      "weighted avg       0.79      0.75      0.76      2445\n",
      "\n"
     ]
    }
   ],
   "source": [
    "print(classification_report(clf.predict(X_test), Y_test))"
   ]
  },
  {
   "cell_type": "code",
   "execution_count": 52,
   "metadata": {
    "ExecuteTime": {
     "end_time": "2020-04-04T00:42:29.545390Z",
     "start_time": "2020-04-04T00:42:29.537586Z"
    }
   },
   "outputs": [
    {
     "data": {
      "text/plain": [
       "[('agea', 0.7143541367440654),\n",
       " ('happy', 0.120345874533066),\n",
       " ('sclmeet', 0.040090510900615606),\n",
       " ('tvtot', 0.02310324559318136),\n",
       " ('gndr', 0.02166964125831519),\n",
       " ('sclact', 0.016779868766134742),\n",
       " ('ES', 0.016161566273129813),\n",
       " ('pplfair', 0.013003443814382733),\n",
       " ('pplhlp', 0.009353250938840476),\n",
       " ('ppltrst', 0.008209275399738123),\n",
       " ('NO', 0.00641751708168316),\n",
       " ('CZ', 0.004837202095715181),\n",
       " ('SE', 0.0035833330329723186),\n",
       " ('CH', 0.0016667345510890756),\n",
       " ('DE', 0.0004243990170709372)]"
      ]
     },
     "execution_count": 52,
     "metadata": {},
     "output_type": "execute_result"
    }
   ],
   "source": [
    "feature_imp = dict(zip(X.columns, clf.feature_importances_))\n",
    "sorted(feature_imp.items(), key = lambda x: x[1], reverse=True)"
   ]
  },
  {
   "cell_type": "markdown",
   "metadata": {},
   "source": [
    "## Tuning the parameters\n",
    "\n",
    "We start by creating a grid."
   ]
  },
  {
   "cell_type": "code",
   "execution_count": 54,
   "metadata": {
    "ExecuteTime": {
     "end_time": "2020-04-04T01:44:26.973689Z",
     "start_time": "2020-04-04T00:43:09.024048Z"
    }
   },
   "outputs": [
    {
     "name": "stdout",
     "output_type": "stream",
     "text": [
      "Fitting 5 folds for each of 2304 candidates, totalling 11520 fits\n"
     ]
    },
    {
     "name": "stderr",
     "output_type": "stream",
     "text": [
      "[Parallel(n_jobs=-1)]: Using backend LokyBackend with 12 concurrent workers.\n",
      "[Parallel(n_jobs=-1)]: Done  26 tasks      | elapsed:    1.9s\n",
      "[Parallel(n_jobs=-1)]: Done 236 tasks      | elapsed:   31.7s\n",
      "[Parallel(n_jobs=-1)]: Done 486 tasks      | elapsed:  1.2min\n",
      "[Parallel(n_jobs=-1)]: Done 836 tasks      | elapsed:  2.5min\n",
      "[Parallel(n_jobs=-1)]: Done 1286 tasks      | elapsed:  3.8min\n",
      "[Parallel(n_jobs=-1)]: Done 1836 tasks      | elapsed:  5.4min\n",
      "[Parallel(n_jobs=-1)]: Done 2486 tasks      | elapsed:  7.2min\n",
      "[Parallel(n_jobs=-1)]: Done 3236 tasks      | elapsed:  9.4min\n",
      "[Parallel(n_jobs=-1)]: Done 4086 tasks      | elapsed: 11.8min\n",
      "[Parallel(n_jobs=-1)]: Done 5036 tasks      | elapsed: 14.4min\n",
      "[Parallel(n_jobs=-1)]: Done 6086 tasks      | elapsed: 17.3min\n",
      "[Parallel(n_jobs=-1)]: Done 7236 tasks      | elapsed: 20.4min\n",
      "[Parallel(n_jobs=-1)]: Done 8486 tasks      | elapsed: 23.8min\n",
      "[Parallel(n_jobs=-1)]: Done 9836 tasks      | elapsed: 27.4min\n",
      "[Parallel(n_jobs=-1)]: Done 11286 tasks      | elapsed: 60.6min\n",
      "[Parallel(n_jobs=-1)]: Done 11520 out of 11520 | elapsed: 61.3min finished\n"
     ]
    },
    {
     "data": {
      "text/plain": [
       "GridSearchCV(cv=None, error_score=nan,\n",
       "             estimator=GradientBoostingClassifier(ccp_alpha=0.0,\n",
       "                                                  criterion='friedman_mse',\n",
       "                                                  init=None, learning_rate=0.1,\n",
       "                                                  loss='deviance', max_depth=3,\n",
       "                                                  max_features=None,\n",
       "                                                  max_leaf_nodes=None,\n",
       "                                                  min_impurity_decrease=0.0,\n",
       "                                                  min_impurity_split=None,\n",
       "                                                  min_samples_leaf=1,\n",
       "                                                  min_samples_split=2,\n",
       "                                                  min_weight_fraction_leaf=0.0,\n",
       "                                                  n_estimators=100,\n",
       "                                                  n_iter_n...\n",
       "                                                  validation_fraction=0.1,\n",
       "                                                  verbose=0, warm_start=False),\n",
       "             iid='deprecated', n_jobs=-1,\n",
       "             param_grid={'learning_rate': [0.01, 0.1, 1, 10],\n",
       "                         'loss': ['deviance', 'exponential'],\n",
       "                         'max_features': [2, 4, 6],\n",
       "                         'min_samples_split': [2, 4, 8, 16],\n",
       "                         'n_estimators': [10, 100, 1000, 2500],\n",
       "                         'subsample': [0.01, 0.1, 0.5, 1, 2, 5]},\n",
       "             pre_dispatch='2*n_jobs', refit=True, return_train_score=False,\n",
       "             scoring=None, verbose=1)"
      ]
     },
     "execution_count": 54,
     "metadata": {},
     "output_type": "execute_result"
    }
   ],
   "source": [
    "from sklearn.model_selection import GridSearchCV\n",
    "\n",
    "param_grid = {'loss' : ['deviance', 'exponential'], \n",
    "              'learning_rate': [0.01, 0.1, 1, 10], \n",
    "              'n_estimators': [10, 100, 1000, 2500],\n",
    "              'min_samples_split': [2, 4, 8, 16], \n",
    "              'max_features': [2, 4, 6],\n",
    "              'subsample': [0.01, 0.1, 0.5, 1, 2, 5]}\n",
    "              \n",
    "\n",
    "grid = GridSearchCV(GradientBoostingClassifier(), param_grid, refit=True, verbose=1, n_jobs=-1)\n",
    "\n",
    "# fitting the model for grid search\n",
    "grid.fit(X_train, Y_train)"
   ]
  },
  {
   "cell_type": "code",
   "execution_count": 55,
   "metadata": {
    "ExecuteTime": {
     "end_time": "2020-04-04T01:44:26.979375Z",
     "start_time": "2020-04-04T01:44:26.975853Z"
    }
   },
   "outputs": [
    {
     "name": "stdout",
     "output_type": "stream",
     "text": [
      "GradientBoostingClassifier(ccp_alpha=0.0, criterion='friedman_mse', init=None,\n",
      "                           learning_rate=0.01, loss='exponential', max_depth=3,\n",
      "                           max_features=4, max_leaf_nodes=None,\n",
      "                           min_impurity_decrease=0.0, min_impurity_split=None,\n",
      "                           min_samples_leaf=1, min_samples_split=2,\n",
      "                           min_weight_fraction_leaf=0.0, n_estimators=1000,\n",
      "                           n_iter_no_change=None, presort='deprecated',\n",
      "                           random_state=None, subsample=0.1, tol=0.0001,\n",
      "                           validation_fraction=0.1, verbose=0,\n",
      "                           warm_start=False)\n"
     ]
    }
   ],
   "source": [
    "print(grid.best_estimator_) "
   ]
  },
  {
   "cell_type": "code",
   "execution_count": 56,
   "metadata": {
    "ExecuteTime": {
     "end_time": "2020-04-04T01:44:27.033328Z",
     "start_time": "2020-04-04T01:44:26.982060Z"
    }
   },
   "outputs": [
    {
     "name": "stdout",
     "output_type": "stream",
     "text": [
      "              precision    recall  f1-score   support\n",
      "\n",
      "         0.0       0.75      0.90      0.82      1504\n",
      "         1.0       0.77      0.51      0.61       941\n",
      "\n",
      "    accuracy                           0.75      2445\n",
      "   macro avg       0.76      0.71      0.72      2445\n",
      "weighted avg       0.75      0.75      0.74      2445\n",
      "\n"
     ]
    }
   ],
   "source": [
    "print(classification_report(Y_test, grid.predict(X_test)))"
   ]
  },
  {
   "cell_type": "code",
   "execution_count": null,
   "metadata": {},
   "outputs": [],
   "source": []
  }
 ],
 "metadata": {
  "kernelspec": {
   "display_name": "Python 3",
   "language": "python",
   "name": "python3"
  },
  "language_info": {
   "codemirror_mode": {
    "name": "ipython",
    "version": 3
   },
   "file_extension": ".py",
   "mimetype": "text/x-python",
   "name": "python",
   "nbconvert_exporter": "python",
   "pygments_lexer": "ipython3",
   "version": "3.7.6"
  },
  "toc": {
   "base_numbering": 1,
   "nav_menu": {},
   "number_sections": true,
   "sideBar": true,
   "skip_h1_title": true,
   "title_cell": "Table of Contents",
   "title_sidebar": "Contents",
   "toc_cell": true,
   "toc_position": {},
   "toc_section_display": true,
   "toc_window_display": true
  }
 },
 "nbformat": 4,
 "nbformat_minor": 4
}
