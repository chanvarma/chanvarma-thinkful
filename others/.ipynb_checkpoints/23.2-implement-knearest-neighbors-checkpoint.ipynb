{
 "cells": [
  {
   "cell_type": "markdown",
   "metadata": {
    "toc": true
   },
   "source": [
    "<h1>Table of Contents<span class=\"tocSkip\"></span></h1>\n",
    "<div class=\"toc\"><ul class=\"toc-item\"></ul></div>"
   ]
  },
  {
   "cell_type": "code",
   "execution_count": 1,
   "metadata": {
    "ExecuteTime": {
     "end_time": "2020-01-13T06:51:00.678755Z",
     "start_time": "2020-01-13T06:50:59.631558Z"
    }
   },
   "outputs": [],
   "source": [
    "import numpy as np\n",
    "import pandas as pd\n",
    "import matplotlib.pyplot as plt\n",
    "import scipy\n",
    "%matplotlib inline"
   ]
  },
  {
   "cell_type": "code",
   "execution_count": 18,
   "metadata": {
    "ExecuteTime": {
     "end_time": "2020-01-13T06:58:58.067784Z",
     "start_time": "2020-01-13T06:58:57.875055Z"
    }
   },
   "outputs": [
    {
     "data": {
      "image/png": "[encoded data removed]",
      "text/plain": [
       "<Figure size 576x288 with 1 Axes>"
      ]
     },
     "metadata": {
      "needs_background": "light"
     },
     "output_type": "display_data"
    }
   ],
   "source": [
    "music = pd.DataFrame()\n",
    "\n",
    "# Some data to play with.\n",
    "music['duration'] = [184, 134, 243, 186, 122, 197, 294, 382, 102, 264, \n",
    "                     205, 110, 307, 110, 397, 153, 190, 192, 210, 403,\n",
    "                     164, 198, 204, 253, 234, 190, 182, 401, 376, 102]\n",
    "music['loudness'] = [18, 34, 43, 36, 22, 9, 29, 22, 10, 24, \n",
    "                     20, 10, 17, 51, 7, 13, 19, 12, 21, 22,\n",
    "                     16, 18, 4, 23, 34, 19, 14, 11, 37, 42]\n",
    "\n",
    "# We know whether the songs in our training data are jazz or not.\n",
    "music['jazz'] = [ 1, 0, 0, 0, 1, 1, 0, 1, 1, 0,\n",
    "                  0, 1, 1, 0, 1, 1, 0, 1, 1, 1,\n",
    "                  1, 1, 1, 1, 0, 0, 1, 1, 0, 0]\n",
    "\n",
    "\n",
    "# Look at our data.\n",
    "\n",
    "plt.figure(figsize=(8, 4))\n",
    "\n",
    "plt.scatter(\n",
    "    music[music['jazz'] == 1].duration,\n",
    "    music[music['jazz'] == 1].loudness,\n",
    "    color='red'\n",
    ")\n",
    "plt.scatter(\n",
    "    music[music['jazz'] == 0].duration,\n",
    "    music[music['jazz'] == 0].loudness,\n",
    "    color='green'\n",
    ")\n",
    "\n",
    "plt.scatter(222, 20, color = 'blue')\n",
    "\n",
    "#plt.plot(music['duration'].mean(), music['loudness'].mean())\n",
    "plt.legend(['Jazz', 'Rock'])\n",
    "plt.title('Jazz and Rock Characteristics')\n",
    "plt.xlabel('Duration')\n",
    "plt.ylabel('Loudness')\n",
    "\n",
    "plt.show()"
   ]
  },
  {
   "cell_type": "code",
   "execution_count": 20,
   "metadata": {
    "ExecuteTime": {
     "end_time": "2020-01-13T06:59:28.380572Z",
     "start_time": "2020-01-13T06:59:27.242891Z"
    }
   },
   "outputs": [
    {
     "data": {
      "text/plain": [
       "array([0])"
      ]
     },
     "execution_count": 20,
     "metadata": {},
     "output_type": "execute_result"
    }
   ],
   "source": [
    "from sklearn.neighbors import KNeighborsClassifier\n",
    "neighbors = KNeighborsClassifier(n_neighbors=1)\n",
    "X = music[['loudness', 'duration']]\n",
    "Y = music.jazz\n",
    "neighbors.fit(X,Y)\n",
    "\n",
    "## Predict for a song with 24 loudness that's 190 seconds long.\n",
    "neighbors.predict([[24, 190]])"
   ]
  },
  {
   "cell_type": "code",
   "execution_count": 74,
   "metadata": {
    "ExecuteTime": {
     "end_time": "2020-01-13T07:25:10.882788Z",
     "start_time": "2020-01-13T07:25:10.869429Z"
    }
   },
   "outputs": [
    {
     "data": {
      "text/plain": [
       "array([[-0.34062759, -0.42733993],\n",
       "       [ 1.05681894, -0.9756803 ],\n",
       "       [ 1.84288262,  0.21970171],\n",
       "       [ 1.23149976, -0.40540632],\n",
       "       [ 0.00873404, -1.10728199],\n",
       "       [-1.12669127, -0.28477143],\n",
       "       [ 0.6201169 ,  0.77900889],\n",
       "       [ 0.00873404,  1.74408795],\n",
       "       [-1.03935086, -1.32661814],\n",
       "       [ 0.18341486,  0.45000467],\n",
       "       [-0.16594678, -0.19703697],\n",
       "       [-1.03935086, -1.23888368],\n",
       "       [-0.427968  ,  0.92157739],\n",
       "       [ 2.54160588, -1.23888368],\n",
       "       [-1.30137208,  1.90859006],\n",
       "       [-0.77732963, -0.76731096],\n",
       "       [-0.25328718, -0.36153909],\n",
       "       [-0.86467004, -0.33960547],\n",
       "       [-0.07860637, -0.14220294],\n",
       "       [ 0.00873404,  1.9743909 ],\n",
       "       [-0.51530841, -0.64667608],\n",
       "       [-0.34062759, -0.27380463],\n",
       "       [-1.56339331, -0.20800378],\n",
       "       [ 0.09607445,  0.32936978],\n",
       "       [ 1.05681894,  0.12100044],\n",
       "       [-0.25328718, -0.36153909],\n",
       "       [-0.68998923, -0.44927355],\n",
       "       [-0.95201045,  1.95245729],\n",
       "       [ 1.31884017,  1.6782871 ],\n",
       "       [ 1.75554221, -1.32661814]])"
      ]
     },
     "execution_count": 74,
     "metadata": {},
     "output_type": "execute_result"
    }
   ],
   "source": [
    "def sampleknn(X, Y, points, n = 5):\n",
    "    \n",
    "    if len(X.columns) != len(points):\n",
    "        print('Check array sizes')\n",
    "        return\n",
    "    \n",
    "    dist = pd.DataFrame()\n",
    "    \n",
    "    dist['diff'] = ((points[1] - X['loudness'])**2 + (points[0] - X['duration'])**2)**1/2\n",
    "    dist['target'] = Y\n",
    "    \n",
    "    dist = dist.sort_values(by = 'diff')[:n]\n",
    "    \n",
    "    prob = {t: len(dist.loc[dist['target'] == t])/len(dist) for t in dist['target'].unique()}\n",
    "    \n",
    "    pred = max(prob, key=prob.get)\n",
    "    \n",
    "    return pred, prob\n",
    "    \n",
    "sampleknn(X, Y, points=[24, 190], n = 5)"
   ]
  },
  {
   "cell_type": "code",
   "execution_count": null,
   "metadata": {},
   "outputs": [],
   "source": []
  }
 ],
 "metadata": {
  "kernelspec": {
   "display_name": "Python 3",
   "language": "python",
   "name": "python3"
  },
  "language_info": {
   "codemirror_mode": {
    "name": "ipython",
    "version": 3
   },
   "file_extension": ".py",
   "mimetype": "text/x-python",
   "name": "python",
   "nbconvert_exporter": "python",
   "pygments_lexer": "ipython3",
   "version": "3.7.5"
  },
  "toc": {
   "base_numbering": 1,
   "nav_menu": {},
   "number_sections": true,
   "sideBar": false,
   "skip_h1_title": true,
   "title_cell": "Table of Contents",
   "title_sidebar": "Contents",
   "toc_cell": true,
   "toc_position": {},
   "toc_section_display": true,
   "toc_window_display": false
  }
 },
 "nbformat": 4,
 "nbformat_minor": 4
}
