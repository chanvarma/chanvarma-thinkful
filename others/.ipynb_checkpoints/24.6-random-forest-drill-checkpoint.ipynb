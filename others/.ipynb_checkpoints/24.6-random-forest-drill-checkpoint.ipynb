{
 "cells": [
  {
   "cell_type": "markdown",
   "metadata": {},
   "source": [
    "# Checkpoint 24.6 | Supervised learning: random forest models"
   ]
  },
  {
   "cell_type": "markdown",
   "metadata": {},
   "source": [
    "# Assignment\n",
    "\n",
    "We've talked about Random Forests. Now it's time to build one.\n",
    "\n",
    "Here we'll use data from Lending Club (2015) to predict the state of a loan given some information about it. You can download the dataset [here](https://www.dropbox.com/s/0so14yudedjmm5m/LoanStats3d.csv?dl=1).\n",
    "\n",
    "Get rid of as much data as possible without dropping below an average of 90% accuracy in a 10-fold cross validation.\n",
    "\n",
    "You'll want to do a few things in this process. First, dive into the data that we have and see which features are most important. This can be the raw features or the generated dummies. You may want to use PCA or correlation matrices.\n",
    "\n",
    "Can you do it without using anything related to payment amount or outstanding principal? How do you know?"
   ]
  },
  {
   "cell_type": "markdown",
   "metadata": {
    "toc": true
   },
   "source": [
    "<h1>Table of Contents<span class=\"tocSkip\"></span></h1>\n",
    "<div class=\"toc\"><ul class=\"toc-item\"><li><span><a href=\"#Set-up\" data-toc-modified-id=\"Set-up-0\"><span class=\"toc-item-num\">0&nbsp;&nbsp;</span>Set up</a></span></li><li><span><a href=\"#Loading-the-dataset\" data-toc-modified-id=\"Loading-the-dataset-1\"><span class=\"toc-item-num\">1&nbsp;&nbsp;</span>Loading the dataset</a></span></li><li><span><a href=\"#Data-cleaning\" data-toc-modified-id=\"Data-cleaning-2\"><span class=\"toc-item-num\">2&nbsp;&nbsp;</span>Data cleaning</a></span></li><li><span><a href=\"#Creating-dummies-and-splitting-data\" data-toc-modified-id=\"Creating-dummies-and-splitting-data-3\"><span class=\"toc-item-num\">3&nbsp;&nbsp;</span>Creating dummies and splitting data</a></span></li><li><span><a href=\"#Establish-baseline-RFM-scores\" data-toc-modified-id=\"Establish-baseline-RFM-scores-4\"><span class=\"toc-item-num\">4&nbsp;&nbsp;</span>Establish baseline RFM scores</a></span></li><li><span><a href=\"#Removing-features\" data-toc-modified-id=\"Removing-features-5\"><span class=\"toc-item-num\">5&nbsp;&nbsp;</span>Removing features</a></span><ul class=\"toc-item\"><li><span><a href=\"#Visualising-the-relative-feature-importances\" data-toc-modified-id=\"Visualising-the-relative-feature-importances-5.1\"><span class=\"toc-item-num\">5.1&nbsp;&nbsp;</span>Visualising the relative feature importances</a></span></li><li><span><a href=\"#Using-SelectFromModel()-to-select-factor-that-contribute-at-least-1%-to-the-variance\" data-toc-modified-id=\"Using-SelectFromModel()-to-select-factor-that-contribute-at-least-1%-to-the-variance-5.2\"><span class=\"toc-item-num\">5.2&nbsp;&nbsp;</span>Using SelectFromModel() to select factor that contribute at least 1% to the variance</a></span></li></ul></li><li><span><a href=\"#Retraining-model-with-reduced-feature-set\" data-toc-modified-id=\"Retraining-model-with-reduced-feature-set-6\"><span class=\"toc-item-num\">6&nbsp;&nbsp;</span>Retraining model with reduced feature set</a></span><ul class=\"toc-item\"><li><span><a href=\"#Dropping-as-much-data-as-possible-while-still-maintaining-90%-accuracy\" data-toc-modified-id=\"Dropping-as-much-data-as-possible-while-still-maintaining-90%-accuracy-6.1\"><span class=\"toc-item-num\">6.1&nbsp;&nbsp;</span>Dropping as much data as possible while still maintaining 90% accuracy</a></span></li></ul></li></ul></div>"
   ]
  },
  {
   "cell_type": "markdown",
   "metadata": {},
   "source": [
    "## Set up"
   ]
  },
  {
   "cell_type": "code",
   "execution_count": 1,
   "metadata": {
    "ExecuteTime": {
     "end_time": "2020-02-22T15:20:23.506064Z",
     "start_time": "2020-02-22T15:20:22.838115Z"
    }
   },
   "outputs": [
    {
     "data": {
      "text/plain": [
       "'0.25.3'"
      ]
     },
     "execution_count": 1,
     "metadata": {},
     "output_type": "execute_result"
    }
   ],
   "source": [
    "import pandas as pd_reg\n",
    "pd_reg.__version__"
   ]
  },
  {
   "cell_type": "code",
   "execution_count": 78,
   "metadata": {
    "ExecuteTime": {
     "end_time": "2020-02-22T15:54:12.438471Z",
     "start_time": "2020-02-22T15:54:12.363300Z"
    }
   },
   "outputs": [],
   "source": [
    "import modin as pd\n",
    "import numpy as np\n",
    "import matplotlib.pyplot as plt\n",
    "import pickle\n",
    "import seaborn as sns\n",
    "\n",
    "%matplotlib inline"
   ]
  },
  {
   "cell_type": "code",
   "execution_count": 3,
   "metadata": {
    "ExecuteTime": {
     "end_time": "2020-02-22T15:20:28.639835Z",
     "start_time": "2020-02-22T15:20:28.636043Z"
    }
   },
   "outputs": [
    {
     "data": {
      "text/plain": [
       "'0.7.0'"
      ]
     },
     "execution_count": 3,
     "metadata": {},
     "output_type": "execute_result"
    }
   ],
   "source": [
    "pd.__version__"
   ]
  },
  {
   "cell_type": "markdown",
   "metadata": {},
   "source": [
    "## Loading the dataset"
   ]
  },
  {
   "cell_type": "code",
   "execution_count": 10,
   "metadata": {
    "ExecuteTime": {
     "end_time": "2020-02-22T15:25:41.576930Z",
     "start_time": "2020-02-22T15:25:36.558708Z"
    }
   },
   "outputs": [
    {
     "name": "stderr",
     "output_type": "stream",
     "text": [
      "DtypeWarning: Columns (0,19,55) have mixed types. Specify dtype option on import or set low_memory=False.\n"
     ]
    }
   ],
   "source": [
    "raw = pd_reg.read_csv('/Users/chanvarma/Box/datasets-chanvarma/thinkful/lending-club-data/LoanStats3d.csv', \n",
    "                 skipinitialspace=True, header=1)"
   ]
  },
  {
   "cell_type": "code",
   "execution_count": 22,
   "metadata": {
    "ExecuteTime": {
     "end_time": "2020-02-22T15:29:04.541400Z",
     "start_time": "2020-02-22T15:29:04.325961Z"
    }
   },
   "outputs": [],
   "source": [
    "data = raw.copy()"
   ]
  },
  {
   "cell_type": "code",
   "execution_count": 23,
   "metadata": {
    "ExecuteTime": {
     "end_time": "2020-02-22T15:29:04.577588Z",
     "start_time": "2020-02-22T15:29:04.543296Z"
    }
   },
   "outputs": [
    {
     "data": {
      "text/html": [
       "<div>\n",
       "<style scoped>\n",
       "    .dataframe tbody tr th:only-of-type {\n",
       "        vertical-align: middle;\n",
       "    }\n",
       "\n",
       "    .dataframe tbody tr th {\n",
       "        vertical-align: top;\n",
       "    }\n",
       "\n",
       "    .dataframe thead th {\n",
       "        text-align: right;\n",
       "    }\n",
       "</style>\n",
       "<table border=\"1\" class=\"dataframe\">\n",
       "  <thead>\n",
       "    <tr style=\"text-align: right;\">\n",
       "      <th></th>\n",
       "      <th>id</th>\n",
       "      <th>member_id</th>\n",
       "      <th>loan_amnt</th>\n",
       "      <th>funded_amnt</th>\n",
       "      <th>funded_amnt_inv</th>\n",
       "      <th>term</th>\n",
       "      <th>int_rate</th>\n",
       "      <th>installment</th>\n",
       "      <th>grade</th>\n",
       "      <th>sub_grade</th>\n",
       "      <th>...</th>\n",
       "      <th>num_tl_90g_dpd_24m</th>\n",
       "      <th>num_tl_op_past_12m</th>\n",
       "      <th>pct_tl_nvr_dlq</th>\n",
       "      <th>percent_bc_gt_75</th>\n",
       "      <th>pub_rec_bankruptcies</th>\n",
       "      <th>tax_liens</th>\n",
       "      <th>tot_hi_cred_lim</th>\n",
       "      <th>total_bal_ex_mort</th>\n",
       "      <th>total_bc_limit</th>\n",
       "      <th>total_il_high_credit_limit</th>\n",
       "    </tr>\n",
       "  </thead>\n",
       "  <tbody>\n",
       "    <tr>\n",
       "      <th>0</th>\n",
       "      <td>68009401</td>\n",
       "      <td>72868139.0</td>\n",
       "      <td>16000.0</td>\n",
       "      <td>16000.0</td>\n",
       "      <td>16000.0</td>\n",
       "      <td>60 months</td>\n",
       "      <td>14.85%</td>\n",
       "      <td>379.39</td>\n",
       "      <td>C</td>\n",
       "      <td>C5</td>\n",
       "      <td>...</td>\n",
       "      <td>0.0</td>\n",
       "      <td>2.0</td>\n",
       "      <td>78.9</td>\n",
       "      <td>0.0</td>\n",
       "      <td>0.0</td>\n",
       "      <td>2.0</td>\n",
       "      <td>298100.0</td>\n",
       "      <td>31329.0</td>\n",
       "      <td>281300.0</td>\n",
       "      <td>13400.0</td>\n",
       "    </tr>\n",
       "    <tr>\n",
       "      <th>1</th>\n",
       "      <td>68354783</td>\n",
       "      <td>73244544.0</td>\n",
       "      <td>9600.0</td>\n",
       "      <td>9600.0</td>\n",
       "      <td>9600.0</td>\n",
       "      <td>36 months</td>\n",
       "      <td>7.49%</td>\n",
       "      <td>298.58</td>\n",
       "      <td>A</td>\n",
       "      <td>A4</td>\n",
       "      <td>...</td>\n",
       "      <td>0.0</td>\n",
       "      <td>2.0</td>\n",
       "      <td>100.0</td>\n",
       "      <td>66.7</td>\n",
       "      <td>0.0</td>\n",
       "      <td>0.0</td>\n",
       "      <td>88635.0</td>\n",
       "      <td>55387.0</td>\n",
       "      <td>12500.0</td>\n",
       "      <td>75635.0</td>\n",
       "    </tr>\n",
       "    <tr>\n",
       "      <th>2</th>\n",
       "      <td>68466916</td>\n",
       "      <td>73356753.0</td>\n",
       "      <td>25000.0</td>\n",
       "      <td>25000.0</td>\n",
       "      <td>25000.0</td>\n",
       "      <td>36 months</td>\n",
       "      <td>7.49%</td>\n",
       "      <td>777.55</td>\n",
       "      <td>A</td>\n",
       "      <td>A4</td>\n",
       "      <td>...</td>\n",
       "      <td>0.0</td>\n",
       "      <td>0.0</td>\n",
       "      <td>100.0</td>\n",
       "      <td>20.0</td>\n",
       "      <td>0.0</td>\n",
       "      <td>0.0</td>\n",
       "      <td>373572.0</td>\n",
       "      <td>68056.0</td>\n",
       "      <td>38400.0</td>\n",
       "      <td>82117.0</td>\n",
       "    </tr>\n",
       "    <tr>\n",
       "      <th>3</th>\n",
       "      <td>68466961</td>\n",
       "      <td>73356799.0</td>\n",
       "      <td>28000.0</td>\n",
       "      <td>28000.0</td>\n",
       "      <td>28000.0</td>\n",
       "      <td>36 months</td>\n",
       "      <td>6.49%</td>\n",
       "      <td>858.05</td>\n",
       "      <td>A</td>\n",
       "      <td>A2</td>\n",
       "      <td>...</td>\n",
       "      <td>0.0</td>\n",
       "      <td>0.0</td>\n",
       "      <td>91.7</td>\n",
       "      <td>22.2</td>\n",
       "      <td>0.0</td>\n",
       "      <td>0.0</td>\n",
       "      <td>304003.0</td>\n",
       "      <td>74920.0</td>\n",
       "      <td>41500.0</td>\n",
       "      <td>42503.0</td>\n",
       "    </tr>\n",
       "    <tr>\n",
       "      <th>4</th>\n",
       "      <td>68495092</td>\n",
       "      <td>73384866.0</td>\n",
       "      <td>8650.0</td>\n",
       "      <td>8650.0</td>\n",
       "      <td>8650.0</td>\n",
       "      <td>36 months</td>\n",
       "      <td>19.89%</td>\n",
       "      <td>320.99</td>\n",
       "      <td>E</td>\n",
       "      <td>E3</td>\n",
       "      <td>...</td>\n",
       "      <td>0.0</td>\n",
       "      <td>12.0</td>\n",
       "      <td>100.0</td>\n",
       "      <td>50.0</td>\n",
       "      <td>1.0</td>\n",
       "      <td>0.0</td>\n",
       "      <td>38998.0</td>\n",
       "      <td>18926.0</td>\n",
       "      <td>2750.0</td>\n",
       "      <td>18248.0</td>\n",
       "    </tr>\n",
       "  </tbody>\n",
       "</table>\n",
       "<p>5 rows × 111 columns</p>\n",
       "</div>"
      ],
      "text/plain": [
       "         id   member_id  loan_amnt  funded_amnt  funded_amnt_inv        term  \\\n",
       "0  68009401  72868139.0    16000.0      16000.0          16000.0   60 months   \n",
       "1  68354783  73244544.0     9600.0       9600.0           9600.0   36 months   \n",
       "2  68466916  73356753.0    25000.0      25000.0          25000.0   36 months   \n",
       "3  68466961  73356799.0    28000.0      28000.0          28000.0   36 months   \n",
       "4  68495092  73384866.0     8650.0       8650.0           8650.0   36 months   \n",
       "\n",
       "  int_rate  installment grade sub_grade  ... num_tl_90g_dpd_24m  \\\n",
       "0   14.85%       379.39     C        C5  ...                0.0   \n",
       "1    7.49%       298.58     A        A4  ...                0.0   \n",
       "2    7.49%       777.55     A        A4  ...                0.0   \n",
       "3    6.49%       858.05     A        A2  ...                0.0   \n",
       "4   19.89%       320.99     E        E3  ...                0.0   \n",
       "\n",
       "  num_tl_op_past_12m pct_tl_nvr_dlq  percent_bc_gt_75 pub_rec_bankruptcies  \\\n",
       "0                2.0           78.9               0.0                  0.0   \n",
       "1                2.0          100.0              66.7                  0.0   \n",
       "2                0.0          100.0              20.0                  0.0   \n",
       "3                0.0           91.7              22.2                  0.0   \n",
       "4               12.0          100.0              50.0                  1.0   \n",
       "\n",
       "  tax_liens tot_hi_cred_lim total_bal_ex_mort total_bc_limit  \\\n",
       "0       2.0        298100.0           31329.0       281300.0   \n",
       "1       0.0         88635.0           55387.0        12500.0   \n",
       "2       0.0        373572.0           68056.0        38400.0   \n",
       "3       0.0        304003.0           74920.0        41500.0   \n",
       "4       0.0         38998.0           18926.0         2750.0   \n",
       "\n",
       "  total_il_high_credit_limit  \n",
       "0                    13400.0  \n",
       "1                    75635.0  \n",
       "2                    82117.0  \n",
       "3                    42503.0  \n",
       "4                    18248.0  \n",
       "\n",
       "[5 rows x 111 columns]"
      ]
     },
     "execution_count": 23,
     "metadata": {},
     "output_type": "execute_result"
    }
   ],
   "source": [
    "data.head()"
   ]
  },
  {
   "cell_type": "markdown",
   "metadata": {},
   "source": [
    "## Data cleaning\n",
    "\n",
    "Since pd.get_dummies() is a very memory intensive function, we must first clean our categorical data and and understanding if some categorical variables are essentially unique at the scale of the df's length."
   ]
  },
  {
   "cell_type": "code",
   "execution_count": 24,
   "metadata": {
    "ExecuteTime": {
     "end_time": "2020-02-22T15:29:05.623013Z",
     "start_time": "2020-02-22T15:29:04.580083Z"
    }
   },
   "outputs": [
    {
     "data": {
      "text/plain": [
       "{'id': 421097,\n",
       " 'url': 421095,\n",
       " 'emp_title': 120812,\n",
       " 'revol_util': 1211,\n",
       " 'zip_code': 914,\n",
       " 'earliest_cr_line': 668,\n",
       " 'int_rate': 110,\n",
       " 'addr_state': 49,\n",
       " 'sub_grade': 35,\n",
       " 'desc': 34,\n",
       " 'title': 27,\n",
       " 'last_credit_pull_d': 26,\n",
       " 'last_pymnt_d': 25,\n",
       " 'purpose': 14,\n",
       " 'issue_d': 12,\n",
       " 'emp_length': 11,\n",
       " 'grade': 7,\n",
       " 'loan_status': 7,\n",
       " 'home_ownership': 4,\n",
       " 'next_pymnt_d': 4,\n",
       " 'verification_status': 3,\n",
       " 'verification_status_joint': 3,\n",
       " 'term': 2,\n",
       " 'initial_list_status': 2,\n",
       " 'application_type': 2,\n",
       " 'pymnt_plan': 1}"
      ]
     },
     "execution_count": 24,
     "metadata": {},
     "output_type": "execute_result"
    }
   ],
   "source": [
    "categorical = data.select_dtypes(include=['object'])\n",
    "unique_counts = {}\n",
    "\n",
    "for i in categorical:\n",
    "    unique_counts[i] = categorical[i].nunique()\n",
    "    \n",
    "unique_counts = {k: v for k, v in sorted(unique_counts.items(), key=lambda item: item[1], reverse = True)}\n",
    "unique_counts"
   ]
  },
  {
   "cell_type": "code",
   "execution_count": 25,
   "metadata": {
    "ExecuteTime": {
     "end_time": "2020-02-22T15:29:05.671914Z",
     "start_time": "2020-02-22T15:29:05.625060Z"
    }
   },
   "outputs": [
    {
     "data": {
      "text/html": [
       "<div>\n",
       "<style scoped>\n",
       "    .dataframe tbody tr th:only-of-type {\n",
       "        vertical-align: middle;\n",
       "    }\n",
       "\n",
       "    .dataframe tbody tr th {\n",
       "        vertical-align: top;\n",
       "    }\n",
       "\n",
       "    .dataframe thead th {\n",
       "        text-align: right;\n",
       "    }\n",
       "</style>\n",
       "<table border=\"1\" class=\"dataframe\">\n",
       "  <thead>\n",
       "    <tr style=\"text-align: right;\">\n",
       "      <th></th>\n",
       "      <th>id</th>\n",
       "      <th>emp_title</th>\n",
       "      <th>revol_util</th>\n",
       "      <th>url</th>\n",
       "      <th>earliest_cr_line</th>\n",
       "      <th>int_rate</th>\n",
       "      <th>addr_state</th>\n",
       "      <th>sub_grade</th>\n",
       "    </tr>\n",
       "  </thead>\n",
       "  <tbody>\n",
       "    <tr>\n",
       "      <th>0</th>\n",
       "      <td>68009401</td>\n",
       "      <td>Bookkeeper/Accounting</td>\n",
       "      <td>29.6%</td>\n",
       "      <td>https://lendingclub.com/browse/loanDetail.acti...</td>\n",
       "      <td>Jun-1991</td>\n",
       "      <td>14.85%</td>\n",
       "      <td>SC</td>\n",
       "      <td>C5</td>\n",
       "    </tr>\n",
       "    <tr>\n",
       "      <th>1</th>\n",
       "      <td>68354783</td>\n",
       "      <td>tech</td>\n",
       "      <td>59.4%</td>\n",
       "      <td>https://lendingclub.com/browse/loanDetail.acti...</td>\n",
       "      <td>Jun-1996</td>\n",
       "      <td>7.49%</td>\n",
       "      <td>SC</td>\n",
       "      <td>A4</td>\n",
       "    </tr>\n",
       "    <tr>\n",
       "      <th>2</th>\n",
       "      <td>68466916</td>\n",
       "      <td>Sales Manager</td>\n",
       "      <td>54.3%</td>\n",
       "      <td>https://lendingclub.com/browse/loanDetail.acti...</td>\n",
       "      <td>Dec-2001</td>\n",
       "      <td>7.49%</td>\n",
       "      <td>VA</td>\n",
       "      <td>A4</td>\n",
       "    </tr>\n",
       "    <tr>\n",
       "      <th>3</th>\n",
       "      <td>68466961</td>\n",
       "      <td>Senior Manager</td>\n",
       "      <td>64.5%</td>\n",
       "      <td>https://lendingclub.com/browse/loanDetail.acti...</td>\n",
       "      <td>May-1984</td>\n",
       "      <td>6.49%</td>\n",
       "      <td>NC</td>\n",
       "      <td>A2</td>\n",
       "    </tr>\n",
       "    <tr>\n",
       "      <th>4</th>\n",
       "      <td>68495092</td>\n",
       "      <td>Program Coordinator</td>\n",
       "      <td>46%</td>\n",
       "      <td>https://lendingclub.com/browse/loanDetail.acti...</td>\n",
       "      <td>Mar-2005</td>\n",
       "      <td>19.89%</td>\n",
       "      <td>IN</td>\n",
       "      <td>E3</td>\n",
       "    </tr>\n",
       "  </tbody>\n",
       "</table>\n",
       "</div>"
      ],
      "text/plain": [
       "         id              emp_title revol_util  \\\n",
       "0  68009401  Bookkeeper/Accounting      29.6%   \n",
       "1  68354783                   tech      59.4%   \n",
       "2  68466916          Sales Manager      54.3%   \n",
       "3  68466961         Senior Manager      64.5%   \n",
       "4  68495092   Program Coordinator         46%   \n",
       "\n",
       "                                                 url earliest_cr_line  \\\n",
       "0  https://lendingclub.com/browse/loanDetail.acti...         Jun-1991   \n",
       "1  https://lendingclub.com/browse/loanDetail.acti...         Jun-1996   \n",
       "2  https://lendingclub.com/browse/loanDetail.acti...         Dec-2001   \n",
       "3  https://lendingclub.com/browse/loanDetail.acti...         May-1984   \n",
       "4  https://lendingclub.com/browse/loanDetail.acti...         Mar-2005   \n",
       "\n",
       "  int_rate addr_state sub_grade  \n",
       "0   14.85%         SC        C5  \n",
       "1    7.49%         SC        A4  \n",
       "2    7.49%         VA        A4  \n",
       "3    6.49%         NC        A2  \n",
       "4   19.89%         IN        E3  "
      ]
     },
     "execution_count": 25,
     "metadata": {},
     "output_type": "execute_result"
    }
   ],
   "source": [
    "data[['id', 'emp_title', 'revol_util', 'url', 'earliest_cr_line', 'int_rate', 'addr_state', 'sub_grade']].head()"
   ]
  },
  {
   "cell_type": "code",
   "execution_count": 26,
   "metadata": {
    "ExecuteTime": {
     "end_time": "2020-02-22T15:29:05.701782Z",
     "start_time": "2020-02-22T15:29:05.673850Z"
    }
   },
   "outputs": [
    {
     "data": {
      "text/html": [
       "<div>\n",
       "<style scoped>\n",
       "    .dataframe tbody tr th:only-of-type {\n",
       "        vertical-align: middle;\n",
       "    }\n",
       "\n",
       "    .dataframe tbody tr th {\n",
       "        vertical-align: top;\n",
       "    }\n",
       "\n",
       "    .dataframe thead th {\n",
       "        text-align: right;\n",
       "    }\n",
       "</style>\n",
       "<table border=\"1\" class=\"dataframe\">\n",
       "  <thead>\n",
       "    <tr style=\"text-align: right;\">\n",
       "      <th></th>\n",
       "      <th>desc</th>\n",
       "      <th>title</th>\n",
       "      <th>last_credit_pull_d</th>\n",
       "      <th>last_pymnt_d</th>\n",
       "      <th>purpose</th>\n",
       "    </tr>\n",
       "  </thead>\n",
       "  <tbody>\n",
       "    <tr>\n",
       "      <th>0</th>\n",
       "      <td>NaN</td>\n",
       "      <td>Credit card refinancing</td>\n",
       "      <td>Jan-2017</td>\n",
       "      <td>Jan-2017</td>\n",
       "      <td>credit_card</td>\n",
       "    </tr>\n",
       "    <tr>\n",
       "      <th>1</th>\n",
       "      <td>NaN</td>\n",
       "      <td>Credit card refinancing</td>\n",
       "      <td>Jan-2017</td>\n",
       "      <td>Jan-2017</td>\n",
       "      <td>credit_card</td>\n",
       "    </tr>\n",
       "    <tr>\n",
       "      <th>2</th>\n",
       "      <td>NaN</td>\n",
       "      <td>Debt consolidation</td>\n",
       "      <td>Jan-2017</td>\n",
       "      <td>Sep-2016</td>\n",
       "      <td>debt_consolidation</td>\n",
       "    </tr>\n",
       "    <tr>\n",
       "      <th>3</th>\n",
       "      <td>NaN</td>\n",
       "      <td>Debt consolidation</td>\n",
       "      <td>Jan-2017</td>\n",
       "      <td>Jan-2017</td>\n",
       "      <td>debt_consolidation</td>\n",
       "    </tr>\n",
       "    <tr>\n",
       "      <th>4</th>\n",
       "      <td>NaN</td>\n",
       "      <td>Debt consolidation</td>\n",
       "      <td>Jun-2016</td>\n",
       "      <td>May-2016</td>\n",
       "      <td>debt_consolidation</td>\n",
       "    </tr>\n",
       "  </tbody>\n",
       "</table>\n",
       "</div>"
      ],
      "text/plain": [
       "  desc                    title last_credit_pull_d last_pymnt_d  \\\n",
       "0  NaN  Credit card refinancing           Jan-2017     Jan-2017   \n",
       "1  NaN  Credit card refinancing           Jan-2017     Jan-2017   \n",
       "2  NaN       Debt consolidation           Jan-2017     Sep-2016   \n",
       "3  NaN       Debt consolidation           Jan-2017     Jan-2017   \n",
       "4  NaN       Debt consolidation           Jun-2016     May-2016   \n",
       "\n",
       "              purpose  \n",
       "0         credit_card  \n",
       "1         credit_card  \n",
       "2  debt_consolidation  \n",
       "3  debt_consolidation  \n",
       "4  debt_consolidation  "
      ]
     },
     "execution_count": 26,
     "metadata": {},
     "output_type": "execute_result"
    }
   ],
   "source": [
    "data[['desc', 'title', 'last_credit_pull_d', 'last_pymnt_d', 'purpose']].head()"
   ]
  },
  {
   "cell_type": "code",
   "execution_count": 27,
   "metadata": {
    "ExecuteTime": {
     "end_time": "2020-02-22T15:29:06.677872Z",
     "start_time": "2020-02-22T15:29:05.703545Z"
    }
   },
   "outputs": [
    {
     "data": {
      "text/plain": [
       "id                            0.000000\n",
       "member_id                     0.000005\n",
       "loan_amnt                     0.000005\n",
       "funded_amnt                   0.000005\n",
       "funded_amnt_inv               0.000005\n",
       "                                ...   \n",
       "tax_liens                     0.000005\n",
       "tot_hi_cred_lim               0.000005\n",
       "total_bal_ex_mort             0.000005\n",
       "total_bc_limit                0.000005\n",
       "total_il_high_credit_limit    0.000005\n",
       "Length: 111, dtype: float64"
      ]
     },
     "execution_count": 27,
     "metadata": {},
     "output_type": "execute_result"
    }
   ],
   "source": [
    "data.isna().sum()/data.isna().count()"
   ]
  },
  {
   "cell_type": "markdown",
   "metadata": {},
   "source": [
    "Based on this: \n",
    "* we can drop the `url`, `desc`, `revol_util`, `zipcode`, `earliest_cr_line` and `emp_title` columnns because they are extremely unique\n",
    "* convert `id`, `int_rate` to numeric variables\n",
    "* drop all NaN rows\n",
    "* convert `last_credit_pull_d` and `last_pymnt_d` to quarters"
   ]
  },
  {
   "cell_type": "code",
   "execution_count": 28,
   "metadata": {
    "ExecuteTime": {
     "end_time": "2020-02-22T15:29:06.683873Z",
     "start_time": "2020-02-22T15:29:06.680022Z"
    }
   },
   "outputs": [
    {
     "data": {
      "text/plain": [
       "(421097, 111)"
      ]
     },
     "execution_count": 28,
     "metadata": {},
     "output_type": "execute_result"
    }
   ],
   "source": [
    "data.shape"
   ]
  },
  {
   "cell_type": "code",
   "execution_count": 29,
   "metadata": {
    "ExecuteTime": {
     "end_time": "2020-02-22T15:29:06.919741Z",
     "start_time": "2020-02-22T15:29:06.687835Z"
    }
   },
   "outputs": [],
   "source": [
    "data.drop(columns = ['url', 'desc', 'emp_title', 'revol_util', 'zip_code', 'earliest_cr_line'], inplace = True)"
   ]
  },
  {
   "cell_type": "code",
   "execution_count": 31,
   "metadata": {
    "ExecuteTime": {
     "end_time": "2020-02-22T15:31:40.935781Z",
     "start_time": "2020-02-22T15:31:40.451737Z"
    }
   },
   "outputs": [],
   "source": [
    "data['id'] = pd_reg.to_numeric(data['id'], errors='coerce')\n",
    "data['int_rate'] = pd_reg.to_numeric(data['int_rate'].str.strip('%'), errors='coerce')"
   ]
  },
  {
   "cell_type": "code",
   "execution_count": 32,
   "metadata": {
    "ExecuteTime": {
     "end_time": "2020-02-22T15:31:46.259483Z",
     "start_time": "2020-02-22T15:31:44.799339Z"
    },
    "scrolled": false
   },
   "outputs": [],
   "source": [
    "def date_to_quarter(date_row):\n",
    "    \n",
    "    date_row = str(date_row).lower()\n",
    "    \n",
    "    if ('jan' in date_row or 'feb' in date_row or 'mar' in date_row):\n",
    "        quarter = 'Q1'\n",
    "    elif ('apr' in date_row or 'jun' in date_row or 'may' in date_row):\n",
    "        quarter = 'Q2'\n",
    "    elif ('aug' in date_row or 'sep' in date_row or 'jul' in date_row):\n",
    "        quarter = 'Q3'\n",
    "    elif ('oct' in date_row or 'nov' in date_row or 'dec' in date_row):\n",
    "        quarter = 'Q4'\n",
    "    else:\n",
    "        return None\n",
    "             \n",
    "    year = date_row[-4:]\n",
    "    \n",
    "    return quarter + ' ' + year\n",
    "\n",
    "\n",
    "data['last_pymnt_d_quartered'] = data['last_pymnt_d'].apply(date_to_quarter)\n",
    "data['last_credit_pull_d_quartered'] = data['last_credit_pull_d'].apply(date_to_quarter)\n",
    "\n",
    "data.drop(columns = ['last_pymnt_d', 'last_credit_pull_d'], inplace = True)"
   ]
  },
  {
   "cell_type": "code",
   "execution_count": 33,
   "metadata": {
    "ExecuteTime": {
     "end_time": "2020-02-22T15:31:46.320763Z",
     "start_time": "2020-02-22T15:31:46.261960Z"
    }
   },
   "outputs": [
    {
     "data": {
      "text/plain": [
       "Q1 2017    261646\n",
       "Q4 2016     59800\n",
       "Q3 2016     26036\n",
       "Q2 2016     22573\n",
       "Q1 2016     21044\n",
       "Q4 2015     14735\n",
       "Q3 2015      9475\n",
       "Q2 2015      4411\n",
       "Q1 2015      1081\n",
       "Name: last_pymnt_d_quartered, dtype: int64"
      ]
     },
     "execution_count": 33,
     "metadata": {},
     "output_type": "execute_result"
    }
   ],
   "source": [
    "data['last_pymnt_d_quartered'].value_counts()"
   ]
  },
  {
   "cell_type": "code",
   "execution_count": 34,
   "metadata": {
    "ExecuteTime": {
     "end_time": "2020-02-22T15:31:46.992050Z",
     "start_time": "2020-02-22T15:31:46.323517Z"
    }
   },
   "outputs": [
    {
     "data": {
      "text/plain": [
       "(421095, 105)"
      ]
     },
     "execution_count": 34,
     "metadata": {},
     "output_type": "execute_result"
    }
   ],
   "source": [
    "data.dropna(how = 'all', inplace = True)\n",
    "data.shape"
   ]
  },
  {
   "cell_type": "markdown",
   "metadata": {},
   "source": [
    "As intended."
   ]
  },
  {
   "cell_type": "markdown",
   "metadata": {},
   "source": [
    "## Creating dummies and splitting data"
   ]
  },
  {
   "cell_type": "code",
   "execution_count": 35,
   "metadata": {
    "ExecuteTime": {
     "end_time": "2020-02-22T15:31:47.203483Z",
     "start_time": "2020-02-22T15:31:46.994621Z"
    }
   },
   "outputs": [],
   "source": [
    "safe = data.copy()"
   ]
  },
  {
   "cell_type": "code",
   "execution_count": 37,
   "metadata": {
    "ExecuteTime": {
     "end_time": "2020-02-22T15:33:01.758847Z",
     "start_time": "2020-02-22T15:32:59.372539Z"
    }
   },
   "outputs": [
    {
     "data": {
      "text/plain": [
       "((421095, 253), (421095,))"
      ]
     },
     "execution_count": 37,
     "metadata": {},
     "output_type": "execute_result"
    }
   ],
   "source": [
    "X = data.drop('loan_status', 1)\n",
    "Y = data['loan_status']\n",
    "X = pd_reg.get_dummies(X)\n",
    "X = X.dropna(axis = 1)\n",
    "\n",
    "X.shape, Y.shape"
   ]
  },
  {
   "cell_type": "code",
   "execution_count": 38,
   "metadata": {
    "ExecuteTime": {
     "end_time": "2020-02-22T15:33:04.177130Z",
     "start_time": "2020-02-22T15:33:03.191277Z"
    }
   },
   "outputs": [
    {
     "data": {
      "text/plain": [
       "((315821, 253), (105274, 253), (315821,), (105274,))"
      ]
     },
     "execution_count": 38,
     "metadata": {},
     "output_type": "execute_result"
    }
   ],
   "source": [
    "from sklearn.model_selection import train_test_split\n",
    "\n",
    "X_train, X_test, Y_train, Y_test = train_test_split(X, Y, random_state = 13, test_size = .25)\n",
    "X_train.shape, X_test.shape, Y_train.shape, Y_test.shape"
   ]
  },
  {
   "cell_type": "markdown",
   "metadata": {},
   "source": [
    "## Establish baseline RFM scores"
   ]
  },
  {
   "cell_type": "code",
   "execution_count": 39,
   "metadata": {
    "ExecuteTime": {
     "end_time": "2020-02-22T15:33:07.555718Z",
     "start_time": "2020-02-22T15:33:07.552789Z"
    }
   },
   "outputs": [],
   "source": [
    "models = {}"
   ]
  },
  {
   "cell_type": "code",
   "execution_count": 40,
   "metadata": {
    "ExecuteTime": {
     "end_time": "2020-02-22T15:33:53.833263Z",
     "start_time": "2020-02-22T15:33:07.558412Z"
    },
    "scrolled": true
   },
   "outputs": [
    {
     "data": {
      "text/plain": [
       "RandomForestClassifier(bootstrap=True, ccp_alpha=0.0, class_weight=None,\n",
       "                       criterion='gini', max_depth=None, max_features='auto',\n",
       "                       max_leaf_nodes=None, max_samples=None,\n",
       "                       min_impurity_decrease=0.0, min_impurity_split=None,\n",
       "                       min_samples_leaf=1, min_samples_split=2,\n",
       "                       min_weight_fraction_leaf=0.0, n_estimators=100,\n",
       "                       n_jobs=-1, oob_score=False, random_state=None, verbose=0,\n",
       "                       warm_start=False)"
      ]
     },
     "execution_count": 40,
     "metadata": {},
     "output_type": "execute_result"
    }
   ],
   "source": [
    "from sklearn import ensemble\n",
    "from sklearn.model_selection import cross_val_score\n",
    "from math import sqrt\n",
    "\n",
    "rfc = ensemble.RandomForestClassifier(n_jobs=-1)\n",
    "rfc.fit(X_train, Y_train)"
   ]
  },
  {
   "cell_type": "code",
   "execution_count": 41,
   "metadata": {
    "ExecuteTime": {
     "end_time": "2020-02-22T15:33:59.048685Z",
     "start_time": "2020-02-22T15:33:53.838193Z"
    }
   },
   "outputs": [
    {
     "data": {
      "text/plain": [
       "{RandomForestClassifier(bootstrap=True, ccp_alpha=0.0, class_weight=None,\n",
       "                        criterion='gini', max_depth=None, max_features='auto',\n",
       "                        max_leaf_nodes=None, max_samples=None,\n",
       "                        min_impurity_decrease=0.0, min_impurity_split=None,\n",
       "                        min_samples_leaf=1, min_samples_split=2,\n",
       "                        min_weight_fraction_leaf=0.0, n_estimators=100,\n",
       "                        n_jobs=-1, oob_score=False, random_state=None, verbose=0,\n",
       "                        warm_start=False): {'training_score': 0.999981001896644,\n",
       "  'test_score': 0.9682827668750119}}"
      ]
     },
     "execution_count": 41,
     "metadata": {},
     "output_type": "execute_result"
    }
   ],
   "source": [
    "models[rfc] = {'training_score': rfc.score(X_train, Y_train), \n",
    "              'test_score': rfc.score(X_test, Y_test)}\n",
    "\n",
    "models"
   ]
  },
  {
   "cell_type": "markdown",
   "metadata": {},
   "source": [
    "...I'm really unsure how to proceed from here! My model seems to be extremely accurate!"
   ]
  },
  {
   "cell_type": "markdown",
   "metadata": {},
   "source": [
    "## Removing features"
   ]
  },
  {
   "cell_type": "markdown",
   "metadata": {},
   "source": [
    "### Visualising the relative feature importances"
   ]
  },
  {
   "cell_type": "code",
   "execution_count": 42,
   "metadata": {
    "ExecuteTime": {
     "end_time": "2020-02-22T15:33:59.162931Z",
     "start_time": "2020-02-22T15:33:59.051939Z"
    }
   },
   "outputs": [
    {
     "data": {
      "text/plain": [
       "0.003952569169960474"
      ]
     },
     "execution_count": 42,
     "metadata": {},
     "output_type": "execute_result"
    }
   ],
   "source": [
    "feat_imps = dict(zip(X.columns, rfc.feature_importances_))\n",
    "feat_imps_sorted = {k: v for k, v in sorted(feat_imps.items(), key=lambda item: item[1], reverse=True)}\n",
    "\n",
    "np.mean(list(feat_imps.values()))"
   ]
  },
  {
   "cell_type": "code",
   "execution_count": 43,
   "metadata": {
    "ExecuteTime": {
     "end_time": "2020-02-22T15:34:03.360056Z",
     "start_time": "2020-02-22T15:33:59.164967Z"
    },
    "scrolled": false
   },
   "outputs": [
    {
     "data": {
      "image/png": "[encoded data removed]",
      "text/plain": [
       "<Figure size 1440x648 with 1 Axes>"
      ]
     },
     "metadata": {
      "needs_background": "light"
     },
     "output_type": "display_data"
    }
   ],
   "source": [
    "plt.figure(figsize=(20, 9))\n",
    "plt.bar(x = feat_imps_sorted.keys(), height=feat_imps_sorted.values())\n",
    "plt.grid()\n",
    "plt.axhline(y = np.mean(list(feat_imps.values())), color = 'red', label = 'mean importance score')\n",
    "plt.axhline(y = 0.01, color = 'orange', label = 'proposed 1% threshold')\n",
    "plt.legend()\n",
    "plt.show()"
   ]
  },
  {
   "cell_type": "markdown",
   "metadata": {},
   "source": [
    "Looks like a significant amount of the features are don't significantly contribute to the importance. "
   ]
  },
  {
   "cell_type": "code",
   "execution_count": 44,
   "metadata": {
    "ExecuteTime": {
     "end_time": "2020-02-22T15:34:03.376015Z",
     "start_time": "2020-02-22T15:34:03.368348Z"
    }
   },
   "outputs": [
    {
     "data": {
      "text/plain": [
       "('out_prncp_inv', 0.15818537123741555)"
      ]
     },
     "execution_count": 44,
     "metadata": {},
     "output_type": "execute_result"
    }
   ],
   "source": [
    "max(feat_imps, key=feat_imps.get), feat_imps[max(feat_imps, key=feat_imps.get)]"
   ]
  },
  {
   "cell_type": "markdown",
   "metadata": {},
   "source": [
    "`out_prncp` seems to be the the variable with the highest importance, explaining around 15% of the model. We set the threshold of SelectFromModel as 0.01 (which is roughly 3x the mean)."
   ]
  },
  {
   "cell_type": "markdown",
   "metadata": {},
   "source": [
    "### Using SelectFromModel() to select factor that contribute at least 1% to the variance"
   ]
  },
  {
   "cell_type": "code",
   "execution_count": 45,
   "metadata": {
    "ExecuteTime": {
     "end_time": "2020-02-22T15:34:49.779673Z",
     "start_time": "2020-02-22T15:34:03.381989Z"
    }
   },
   "outputs": [
    {
     "data": {
      "text/plain": [
       "SelectFromModel(estimator=RandomForestClassifier(bootstrap=True, ccp_alpha=0.0,\n",
       "                                                 class_weight=None,\n",
       "                                                 criterion='gini',\n",
       "                                                 max_depth=None,\n",
       "                                                 max_features='auto',\n",
       "                                                 max_leaf_nodes=None,\n",
       "                                                 max_samples=None,\n",
       "                                                 min_impurity_decrease=0.0,\n",
       "                                                 min_impurity_split=None,\n",
       "                                                 min_samples_leaf=1,\n",
       "                                                 min_samples_split=2,\n",
       "                                                 min_weight_fraction_leaf=0.0,\n",
       "                                                 n_estimators=100, n_jobs=-1,\n",
       "                                                 oob_score=False,\n",
       "                                                 random_state=None, verbose=0,\n",
       "                                                 warm_start=False),\n",
       "                max_features=None, norm_order=1, prefit=False, threshold=0.01)"
      ]
     },
     "execution_count": 45,
     "metadata": {},
     "output_type": "execute_result"
    }
   ],
   "source": [
    "from sklearn.feature_selection import SelectFromModel\n",
    "\n",
    "sfm = SelectFromModel(rfc, threshold=0.01)\n",
    "sfm.fit(X_train, Y_train)"
   ]
  },
  {
   "cell_type": "code",
   "execution_count": 106,
   "metadata": {
    "ExecuteTime": {
     "end_time": "2020-02-22T16:04:34.142775Z",
     "start_time": "2020-02-22T16:04:34.031588Z"
    }
   },
   "outputs": [
    {
     "data": {
      "text/plain": [
       "array([  2,   6,  15,  16,  17,  18,  19,  20,  22,  23,  24, 225, 236,\n",
       "       240, 242, 245, 252])"
      ]
     },
     "execution_count": 106,
     "metadata": {},
     "output_type": "execute_result"
    }
   ],
   "source": [
    "selected_features_indices = sfm.get_support(indices=True)\n",
    "selected_features_indices"
   ]
  },
  {
   "cell_type": "code",
   "execution_count": 107,
   "metadata": {
    "ExecuteTime": {
     "end_time": "2020-02-22T16:04:34.149930Z",
     "start_time": "2020-02-22T16:04:34.144293Z"
    }
   },
   "outputs": [
    {
     "data": {
      "text/plain": [
       "{'out_prncp_inv': 0.15818537123741555,\n",
       " 'out_prncp': 0.14860906244534436,\n",
       " 'last_pymnt_amnt': 0.12414529650203703,\n",
       " 'last_pymnt_d_quartered_Q1 2017': 0.06207008910741916,\n",
       " 'total_rec_prncp': 0.05487159841901366,\n",
       " 'next_pymnt_d_Feb-2017': 0.05322867644483027,\n",
       " 'last_credit_pull_d_quartered_Q1 2017': 0.04182609034558116,\n",
       " 'total_pymnt': 0.03317516305178339,\n",
       " 'total_pymnt_inv': 0.03095877726806675,\n",
       " 'last_pymnt_d_quartered_Q3 2016': 0.02216642449619027,\n",
       " 'recoveries': 0.015575177746147494,\n",
       " 'last_credit_pull_d_quartered_Q4 2016': 0.013887154244068098,\n",
       " 'collection_recovery_fee': 0.013220875216615736,\n",
       " 'total_rec_int': 0.0117704572497265,\n",
       " 'last_pymnt_d_quartered_Q4 2016': 0.011577924729176245,\n",
       " 'installment': 0.011119283898905964,\n",
       " 'loan_amnt': 0.007847208760325058}"
      ]
     },
     "execution_count": 107,
     "metadata": {},
     "output_type": "execute_result"
    }
   ],
   "source": [
    "selected_features = {}\n",
    "\n",
    "for index, key in enumerate(feat_imps.keys()):\n",
    "    if index in selected_features_indices:\n",
    "        selected_features[key] = feat_imps[key]\n",
    "        \n",
    "selected_features = {k: v for k, v in sorted(selected_features.items(), key=lambda item: item[1], reverse=True)}\n",
    "selected_features"
   ]
  },
  {
   "cell_type": "code",
   "execution_count": 108,
   "metadata": {
    "ExecuteTime": {
     "end_time": "2020-02-22T16:04:34.630768Z",
     "start_time": "2020-02-22T16:04:34.151846Z"
    }
   },
   "outputs": [
    {
     "data": {
      "image/png": "[encoded data removed]",
      "text/plain": [
       "<Figure size 1440x648 with 1 Axes>"
      ]
     },
     "metadata": {
      "needs_background": "light"
     },
     "output_type": "display_data"
    }
   ],
   "source": [
    "plt.figure(figsize=(20, 9))\n",
    "plt.bar(x=selected_features.keys(), height=selected_features.values())\n",
    "plt.grid()\n",
    "plt.axhline(y=np.mean(list(feat_imps.values())), color='red',\n",
    "            label='mean importance score for all 253 features')\n",
    "plt.axhline(y=0.01, color='orange', label='proposed 1% threshold')\n",
    "plt.xticks(rotation=90)\n",
    "plt.ylabel('relative importance score')\n",
    "plt.xlabel('top {} features'.format(len(selected_features)))\n",
    "plt.title('information explained by top {} features'.format(len(selected_features)))\n",
    "plt.legend()\n",
    "plt.show()"
   ]
  },
  {
   "cell_type": "markdown",
   "metadata": {},
   "source": [
    "17 features are selected. We've trimmed out feature set from 253 to 17. Let's create another copy of the data with just these 17 features."
   ]
  },
  {
   "cell_type": "code",
   "execution_count": 109,
   "metadata": {
    "ExecuteTime": {
     "end_time": "2020-02-22T16:04:34.719469Z",
     "start_time": "2020-02-22T16:04:34.633461Z"
    }
   },
   "outputs": [
    {
     "data": {
      "text/plain": [
       "(421095, 17)"
      ]
     },
     "execution_count": 109,
     "metadata": {},
     "output_type": "execute_result"
    }
   ],
   "source": [
    "X2 = X[selected_features.keys()].copy()\n",
    "X2.shape"
   ]
  },
  {
   "cell_type": "code",
   "execution_count": 110,
   "metadata": {
    "ExecuteTime": {
     "end_time": "2020-02-22T16:04:34.739854Z",
     "start_time": "2020-02-22T16:04:34.721531Z"
    }
   },
   "outputs": [
    {
     "data": {
      "text/html": [
       "<div>\n",
       "<style scoped>\n",
       "    .dataframe tbody tr th:only-of-type {\n",
       "        vertical-align: middle;\n",
       "    }\n",
       "\n",
       "    .dataframe tbody tr th {\n",
       "        vertical-align: top;\n",
       "    }\n",
       "\n",
       "    .dataframe thead th {\n",
       "        text-align: right;\n",
       "    }\n",
       "</style>\n",
       "<table border=\"1\" class=\"dataframe\">\n",
       "  <thead>\n",
       "    <tr style=\"text-align: right;\">\n",
       "      <th></th>\n",
       "      <th>out_prncp_inv</th>\n",
       "      <th>out_prncp</th>\n",
       "      <th>last_pymnt_amnt</th>\n",
       "      <th>last_pymnt_d_quartered_Q1 2017</th>\n",
       "      <th>total_rec_prncp</th>\n",
       "      <th>next_pymnt_d_Feb-2017</th>\n",
       "      <th>last_credit_pull_d_quartered_Q1 2017</th>\n",
       "      <th>total_pymnt</th>\n",
       "      <th>total_pymnt_inv</th>\n",
       "      <th>last_pymnt_d_quartered_Q3 2016</th>\n",
       "      <th>recoveries</th>\n",
       "      <th>last_credit_pull_d_quartered_Q4 2016</th>\n",
       "      <th>collection_recovery_fee</th>\n",
       "      <th>total_rec_int</th>\n",
       "      <th>last_pymnt_d_quartered_Q4 2016</th>\n",
       "      <th>installment</th>\n",
       "      <th>loan_amnt</th>\n",
       "    </tr>\n",
       "  </thead>\n",
       "  <tbody>\n",
       "    <tr>\n",
       "      <th>0</th>\n",
       "      <td>13668.88</td>\n",
       "      <td>13668.88</td>\n",
       "      <td>379.39</td>\n",
       "      <td>1</td>\n",
       "      <td>2331.12</td>\n",
       "      <td>0</td>\n",
       "      <td>1</td>\n",
       "      <td>4519.68</td>\n",
       "      <td>4519.68</td>\n",
       "      <td>0</td>\n",
       "      <td>0.0</td>\n",
       "      <td>0</td>\n",
       "      <td>0.0</td>\n",
       "      <td>2188.56</td>\n",
       "      <td>0</td>\n",
       "      <td>379.39</td>\n",
       "      <td>16000.0</td>\n",
       "    </tr>\n",
       "    <tr>\n",
       "      <th>1</th>\n",
       "      <td>6635.69</td>\n",
       "      <td>6635.69</td>\n",
       "      <td>298.58</td>\n",
       "      <td>1</td>\n",
       "      <td>2964.31</td>\n",
       "      <td>0</td>\n",
       "      <td>1</td>\n",
       "      <td>3572.97</td>\n",
       "      <td>3572.97</td>\n",
       "      <td>0</td>\n",
       "      <td>0.0</td>\n",
       "      <td>0</td>\n",
       "      <td>0.0</td>\n",
       "      <td>608.66</td>\n",
       "      <td>0</td>\n",
       "      <td>298.58</td>\n",
       "      <td>9600.0</td>\n",
       "    </tr>\n",
       "    <tr>\n",
       "      <th>2</th>\n",
       "      <td>0.00</td>\n",
       "      <td>0.00</td>\n",
       "      <td>20807.39</td>\n",
       "      <td>0</td>\n",
       "      <td>25000.00</td>\n",
       "      <td>0</td>\n",
       "      <td>1</td>\n",
       "      <td>26224.23</td>\n",
       "      <td>26224.23</td>\n",
       "      <td>1</td>\n",
       "      <td>0.0</td>\n",
       "      <td>0</td>\n",
       "      <td>0.0</td>\n",
       "      <td>1224.23</td>\n",
       "      <td>0</td>\n",
       "      <td>777.55</td>\n",
       "      <td>25000.0</td>\n",
       "    </tr>\n",
       "    <tr>\n",
       "      <th>3</th>\n",
       "      <td>19263.77</td>\n",
       "      <td>19263.77</td>\n",
       "      <td>858.05</td>\n",
       "      <td>1</td>\n",
       "      <td>8736.23</td>\n",
       "      <td>0</td>\n",
       "      <td>1</td>\n",
       "      <td>10271.36</td>\n",
       "      <td>10271.36</td>\n",
       "      <td>0</td>\n",
       "      <td>0.0</td>\n",
       "      <td>0</td>\n",
       "      <td>0.0</td>\n",
       "      <td>1535.13</td>\n",
       "      <td>0</td>\n",
       "      <td>858.05</td>\n",
       "      <td>28000.0</td>\n",
       "    </tr>\n",
       "    <tr>\n",
       "      <th>4</th>\n",
       "      <td>0.00</td>\n",
       "      <td>0.00</td>\n",
       "      <td>8251.42</td>\n",
       "      <td>0</td>\n",
       "      <td>8650.00</td>\n",
       "      <td>0</td>\n",
       "      <td>0</td>\n",
       "      <td>9190.49</td>\n",
       "      <td>9190.49</td>\n",
       "      <td>0</td>\n",
       "      <td>0.0</td>\n",
       "      <td>0</td>\n",
       "      <td>0.0</td>\n",
       "      <td>540.49</td>\n",
       "      <td>0</td>\n",
       "      <td>320.99</td>\n",
       "      <td>8650.0</td>\n",
       "    </tr>\n",
       "  </tbody>\n",
       "</table>\n",
       "</div>"
      ],
      "text/plain": [
       "   out_prncp_inv  out_prncp  last_pymnt_amnt  last_pymnt_d_quartered_Q1 2017  \\\n",
       "0       13668.88   13668.88           379.39                               1   \n",
       "1        6635.69    6635.69           298.58                               1   \n",
       "2           0.00       0.00         20807.39                               0   \n",
       "3       19263.77   19263.77           858.05                               1   \n",
       "4           0.00       0.00          8251.42                               0   \n",
       "\n",
       "   total_rec_prncp  next_pymnt_d_Feb-2017  \\\n",
       "0          2331.12                      0   \n",
       "1          2964.31                      0   \n",
       "2         25000.00                      0   \n",
       "3          8736.23                      0   \n",
       "4          8650.00                      0   \n",
       "\n",
       "   last_credit_pull_d_quartered_Q1 2017  total_pymnt  total_pymnt_inv  \\\n",
       "0                                     1      4519.68          4519.68   \n",
       "1                                     1      3572.97          3572.97   \n",
       "2                                     1     26224.23         26224.23   \n",
       "3                                     1     10271.36         10271.36   \n",
       "4                                     0      9190.49          9190.49   \n",
       "\n",
       "   last_pymnt_d_quartered_Q3 2016  recoveries  \\\n",
       "0                               0         0.0   \n",
       "1                               0         0.0   \n",
       "2                               1         0.0   \n",
       "3                               0         0.0   \n",
       "4                               0         0.0   \n",
       "\n",
       "   last_credit_pull_d_quartered_Q4 2016  collection_recovery_fee  \\\n",
       "0                                     0                      0.0   \n",
       "1                                     0                      0.0   \n",
       "2                                     0                      0.0   \n",
       "3                                     0                      0.0   \n",
       "4                                     0                      0.0   \n",
       "\n",
       "   total_rec_int  last_pymnt_d_quartered_Q4 2016  installment  loan_amnt  \n",
       "0        2188.56                               0       379.39    16000.0  \n",
       "1         608.66                               0       298.58     9600.0  \n",
       "2        1224.23                               0       777.55    25000.0  \n",
       "3        1535.13                               0       858.05    28000.0  \n",
       "4         540.49                               0       320.99     8650.0  "
      ]
     },
     "execution_count": 110,
     "metadata": {},
     "output_type": "execute_result"
    }
   ],
   "source": [
    "X2.head()"
   ]
  },
  {
   "cell_type": "markdown",
   "metadata": {},
   "source": [
    "## Retraining model with reduced feature set"
   ]
  },
  {
   "cell_type": "code",
   "execution_count": 111,
   "metadata": {
    "ExecuteTime": {
     "end_time": "2020-02-22T16:04:34.833059Z",
     "start_time": "2020-02-22T16:04:34.741821Z"
    }
   },
   "outputs": [
    {
     "data": {
      "text/plain": [
       "((315821, 17), (105274, 17), (315821,), (105274,))"
      ]
     },
     "execution_count": 111,
     "metadata": {},
     "output_type": "execute_result"
    }
   ],
   "source": [
    "X2_train, X2_test, Y2_train, Y2_test = train_test_split(X2, Y, random_state = 13, test_size = .25)\n",
    "X2_train.shape, X2_test.shape, Y2_train.shape, Y2_test.shape"
   ]
  },
  {
   "cell_type": "code",
   "execution_count": 112,
   "metadata": {
    "ExecuteTime": {
     "end_time": "2020-02-22T16:04:59.460420Z",
     "start_time": "2020-02-22T16:04:34.835226Z"
    }
   },
   "outputs": [
    {
     "data": {
      "text/plain": [
       "RandomForestClassifier(bootstrap=True, ccp_alpha=0.0, class_weight=None,\n",
       "                       criterion='gini', max_depth=None, max_features='auto',\n",
       "                       max_leaf_nodes=None, max_samples=None,\n",
       "                       min_impurity_decrease=0.0, min_impurity_split=None,\n",
       "                       min_samples_leaf=1, min_samples_split=2,\n",
       "                       min_weight_fraction_leaf=0.0, n_estimators=100,\n",
       "                       n_jobs=-1, oob_score=False, random_state=None, verbose=0,\n",
       "                       warm_start=False)"
      ]
     },
     "execution_count": 112,
     "metadata": {},
     "output_type": "execute_result"
    }
   ],
   "source": [
    "rfc2 = ensemble.RandomForestClassifier(n_jobs=-1)\n",
    "rfc2.fit(X2_train, Y2_train)"
   ]
  },
  {
   "cell_type": "code",
   "execution_count": 113,
   "metadata": {
    "ExecuteTime": {
     "end_time": "2020-02-22T16:05:02.167214Z",
     "start_time": "2020-02-22T16:04:59.464588Z"
    }
   },
   "outputs": [
    {
     "data": {
      "text/plain": [
       "({'training_score': 0.999981001896644, 'test_score': 0.9682827668750119},\n",
       " {'training_score': 0.998445321875366, 'test_score': 0.9663164694036515})"
      ]
     },
     "execution_count": 113,
     "metadata": {},
     "output_type": "execute_result"
    }
   ],
   "source": [
    "models[rfc2] = {'training_score': rfc2.score(X2_train, Y2_train), \n",
    "              'test_score': rfc2.score(X2_test, Y2_test)}\n",
    "\n",
    "models[rfc], models[rfc2]"
   ]
  },
  {
   "cell_type": "markdown",
   "metadata": {},
   "source": [
    "As demonstrated above, there is barely any drop in test-data prediction accuracy even after dropping 92% of the initial features!"
   ]
  },
  {
   "cell_type": "markdown",
   "metadata": {},
   "source": [
    "### Dropping as much data as possible while still maintaining 90% accuracy"
   ]
  },
  {
   "cell_type": "markdown",
   "metadata": {},
   "source": [
    "We implement a \"forward-selection\" algorithm where we start with the feature (from `selected_feature`) contributing the highest to prediction accuracy and then add features one-by-one, until they cross the 90% threshold. Just to make sure we're selecting in the right way, we sort the list."
   ]
  },
  {
   "cell_type": "code",
   "execution_count": 114,
   "metadata": {
    "ExecuteTime": {
     "end_time": "2020-02-22T16:05:02.176414Z",
     "start_time": "2020-02-22T16:05:02.171190Z"
    }
   },
   "outputs": [
    {
     "data": {
      "text/plain": [
       "{'out_prncp_inv': 0.15818537123741555,\n",
       " 'out_prncp': 0.14860906244534436,\n",
       " 'last_pymnt_amnt': 0.12414529650203703,\n",
       " 'last_pymnt_d_quartered_Q1 2017': 0.06207008910741916,\n",
       " 'total_rec_prncp': 0.05487159841901366,\n",
       " 'next_pymnt_d_Feb-2017': 0.05322867644483027,\n",
       " 'last_credit_pull_d_quartered_Q1 2017': 0.04182609034558116,\n",
       " 'total_pymnt': 0.03317516305178339,\n",
       " 'total_pymnt_inv': 0.03095877726806675,\n",
       " 'last_pymnt_d_quartered_Q3 2016': 0.02216642449619027,\n",
       " 'recoveries': 0.015575177746147494,\n",
       " 'last_credit_pull_d_quartered_Q4 2016': 0.013887154244068098,\n",
       " 'collection_recovery_fee': 0.013220875216615736,\n",
       " 'total_rec_int': 0.0117704572497265,\n",
       " 'last_pymnt_d_quartered_Q4 2016': 0.011577924729176245,\n",
       " 'installment': 0.011119283898905964,\n",
       " 'loan_amnt': 0.007847208760325058}"
      ]
     },
     "execution_count": 114,
     "metadata": {},
     "output_type": "execute_result"
    }
   ],
   "source": [
    "selected_features = {k: v for k, v in sorted(\n",
    "    selected_features.items(), key=lambda item: item[1], reverse=True)}\n",
    "selected_features"
   ]
  },
  {
   "cell_type": "markdown",
   "metadata": {},
   "source": [
    "We also want to make sure that we don't pick any two variables that are highly correlated, so we'll factor this into our loop. Thanks to [Chris Albon for the code](https://chrisalbon.com/machine_learning/feature_selection/drop_highly_correlated_features/)."
   ]
  },
  {
   "cell_type": "code",
   "execution_count": 115,
   "metadata": {
    "ExecuteTime": {
     "end_time": "2020-02-22T16:05:02.474667Z",
     "start_time": "2020-02-22T16:05:02.179147Z"
    }
   },
   "outputs": [
    {
     "data": {
      "text/plain": [
       "(13,\n",
       " ['out_prncp', 'total_pymnt', 'total_pymnt_inv', 'collection_recovery_fee'])"
      ]
     },
     "execution_count": 115,
     "metadata": {},
     "output_type": "execute_result"
    }
   ],
   "source": [
    "corr_matrix = X2.corr().abs()\n",
    "corr_matrix = corr_matrix.where(np.triu(np.ones(corr_matrix.shape), k=1).astype(np.bool))\n",
    "to_drop = [column for column in corr_matrix.columns if any(corr_matrix[column] > 0.95)]\n",
    "\n",
    "for key in to_drop:\n",
    "    del selected_features[key]\n",
    "        \n",
    "len(selected_features), to_drop"
   ]
  },
  {
   "cell_type": "code",
   "execution_count": 102,
   "metadata": {
    "ExecuteTime": {
     "end_time": "2020-02-22T16:02:07.458537Z",
     "start_time": "2020-02-22T16:02:07.421545Z"
    }
   },
   "outputs": [
    {
     "data": {
      "text/plain": [
       "Index(['out_prncp_inv', 'last_pymnt_amnt', 'last_pymnt_d_quartered_Q1 2017',\n",
       "       'total_rec_prncp', 'next_pymnt_d_Feb-2017',\n",
       "       'last_credit_pull_d_quartered_Q1 2017',\n",
       "       'last_pymnt_d_quartered_Q3 2016', 'recoveries',\n",
       "       'last_credit_pull_d_quartered_Q4 2016', 'total_rec_int',\n",
       "       'last_pymnt_d_quartered_Q4 2016', 'installment', 'loan_amnt'],\n",
       "      dtype='object')"
      ]
     },
     "execution_count": 102,
     "metadata": {},
     "output_type": "execute_result"
    }
   ],
   "source": [
    "keep = [col for col in X2.columns if col not in to_drop]\n",
    "X3 = X2[keep].copy()\n",
    "X3.columns"
   ]
  },
  {
   "cell_type": "code",
   "execution_count": 103,
   "metadata": {
    "ExecuteTime": {
     "end_time": "2020-02-22T16:02:14.828778Z",
     "start_time": "2020-02-22T16:02:14.739469Z"
    }
   },
   "outputs": [
    {
     "data": {
      "text/plain": [
       "((315821, 13), (105274, 13), (315821,), (105274,))"
      ]
     },
     "execution_count": 103,
     "metadata": {},
     "output_type": "execute_result"
    }
   ],
   "source": [
    "X3_train, X3_test, Y3_train, Y3_test = train_test_split(X3, Y, random_state = 13, test_size = .25)\n",
    "X3_train.shape, X3_test.shape, Y3_train.shape, Y3_test.shape"
   ]
  },
  {
   "cell_type": "code",
   "execution_count": 122,
   "metadata": {
    "ExecuteTime": {
     "end_time": "2020-02-22T16:08:48.725759Z",
     "start_time": "2020-02-22T16:08:14.031330Z"
    }
   },
   "outputs": [
    {
     "name": "stdout",
     "output_type": "stream",
     "text": [
      "Loop 0: Adding <out_prncp_inv> to feature set...\n",
      "New training score: 0.9184759721487805, and new test score: 0.8732165586944545.\n",
      "Loop 1: Adding <last_pymnt_amnt> to feature set...\n",
      "New training score: 0.9883668280450002, and new test score: 0.9445257138514733.\n"
     ]
    }
   ],
   "source": [
    "new_models = {}\n",
    "feature_set = set()\n",
    "\n",
    "for index, feature in enumerate(selected_features.keys()):\n",
    "    print(\"Loop {}: Adding <{}> to feature set...\".format(index, feature))\n",
    "\n",
    "    feature_set.add(feature)\n",
    "\n",
    "    X_temp_train = X3_train[feature_set].copy()\n",
    "    X_temp_test = X3_test[feature_set].copy()\n",
    "\n",
    "    Y_temp_train = Y_train.copy()\n",
    "    Y_temp_test = Y_test.copy()\n",
    "\n",
    "    rfc_temp = ensemble.RandomForestClassifier(n_jobs=-1)\n",
    "    rfc_temp.fit(X_temp_train, Y_temp_train)\n",
    "\n",
    "    train_score = rfc_temp.score(X_temp_train, Y_temp_train)\n",
    "    test_score = rfc_temp.score(X_temp_test, Y_temp_test)\n",
    "\n",
    "    new_models[index] = {'training_score': train_score,\n",
    "                         'test_score': test_score,\n",
    "                         'feature_set': feature_set,\n",
    "                         'model': rfc_temp}\n",
    "\n",
    "    print(\"New training score: {}, and new test score: {}.\".format(\n",
    "        train_score, test_score))\n",
    "\n",
    "    if test_score >= .9:\n",
    "        break"
   ]
  },
  {
   "cell_type": "markdown",
   "metadata": {},
   "source": [
    "Looks like we just needed 2 variables after all! "
   ]
  },
  {
   "cell_type": "code",
   "execution_count": 123,
   "metadata": {
    "ExecuteTime": {
     "end_time": "2020-02-22T16:08:53.638615Z",
     "start_time": "2020-02-22T16:08:53.633335Z"
    }
   },
   "outputs": [
    {
     "data": {
      "text/plain": [
       "{'training_score': 0.9883668280450002,\n",
       " 'test_score': 0.9445257138514733,\n",
       " 'feature_set': {'last_pymnt_amnt', 'out_prncp_inv'},\n",
       " 'model': RandomForestClassifier(bootstrap=True, ccp_alpha=0.0, class_weight=None,\n",
       "                        criterion='gini', max_depth=None, max_features='auto',\n",
       "                        max_leaf_nodes=None, max_samples=None,\n",
       "                        min_impurity_decrease=0.0, min_impurity_split=None,\n",
       "                        min_samples_leaf=1, min_samples_split=2,\n",
       "                        min_weight_fraction_leaf=0.0, n_estimators=100,\n",
       "                        n_jobs=-1, oob_score=False, random_state=None, verbose=0,\n",
       "                        warm_start=False)}"
      ]
     },
     "execution_count": 123,
     "metadata": {},
     "output_type": "execute_result"
    }
   ],
   "source": [
    "new_models[1]"
   ]
  },
  {
   "cell_type": "markdown",
   "metadata": {},
   "source": [
    "Lastly, we confirm that we're truly exceeding the 90% accuracy threshold by running a 10-fold cross validation."
   ]
  },
  {
   "cell_type": "code",
   "execution_count": 126,
   "metadata": {
    "ExecuteTime": {
     "end_time": "2020-02-22T16:19:37.773395Z",
     "start_time": "2020-02-22T16:16:09.455048Z"
    }
   },
   "outputs": [
    {
     "data": {
      "text/plain": [
       "array([0.86995963, 0.93478984, 0.91151745, 0.94326763, 0.94072667,\n",
       "       0.93552447, 0.91194282, 0.92303308, 0.93704434, 0.94036904])"
      ]
     },
     "execution_count": 126,
     "metadata": {},
     "output_type": "execute_result"
    }
   ],
   "source": [
    "from sklearn.model_selection import cross_val_score\n",
    "\n",
    "rfc_new = ensemble.RandomForestClassifier(n_jobs=-1)\n",
    "scores = cross_val_score(rfc_new, X3[new_models[1]['feature_set']], Y, cv=10)\n",
    "\n",
    "scores"
   ]
  },
  {
   "cell_type": "code",
   "execution_count": 127,
   "metadata": {
    "ExecuteTime": {
     "end_time": "2020-02-22T16:19:37.780867Z",
     "start_time": "2020-02-22T16:19:37.776305Z"
    }
   },
   "outputs": [
    {
     "data": {
      "text/plain": [
       "0.9248174968267577"
      ]
     },
     "execution_count": 127,
     "metadata": {},
     "output_type": "execute_result"
    }
   ],
   "source": [
    "scores.mean()"
   ]
  },
  {
   "cell_type": "markdown",
   "metadata": {},
   "source": [
    "Looks like we have 10-fold cv scores greater than 90%!"
   ]
  },
  {
   "cell_type": "code",
   "execution_count": null,
   "metadata": {},
   "outputs": [],
   "source": []
  }
 ],
 "metadata": {
  "kernelspec": {
   "display_name": "Python 3",
   "language": "python",
   "name": "python3"
  },
  "language_info": {
   "codemirror_mode": {
    "name": "ipython",
    "version": 3
   },
   "file_extension": ".py",
   "mimetype": "text/x-python",
   "name": "python",
   "nbconvert_exporter": "python",
   "pygments_lexer": "ipython3",
   "version": "3.7.6"
  },
  "toc": {
   "base_numbering": "0",
   "nav_menu": {},
   "number_sections": true,
   "sideBar": true,
   "skip_h1_title": true,
   "title_cell": "Table of Contents",
   "title_sidebar": "Contents",
   "toc_cell": true,
   "toc_position": {
    "height": "calc(100% - 180px)",
    "left": "10px",
    "top": "150px",
    "width": "267.5551452636719px"
   },
   "toc_section_display": true,
   "toc_window_display": true
  }
 },
 "nbformat": 4,
 "nbformat_minor": 4
}
