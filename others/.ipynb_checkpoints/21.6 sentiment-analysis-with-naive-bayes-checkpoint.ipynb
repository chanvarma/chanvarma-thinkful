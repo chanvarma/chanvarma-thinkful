{
 "cells": [
  {
   "cell_type": "markdown",
   "metadata": {},
   "source": [
    "# Module 21.6 \n",
    "\n",
    "# Sentiment analysis with Naive Bayes"
   ]
  },
  {
   "cell_type": "markdown",
   "metadata": {
    "toc": true
   },
   "source": [
    "<h1>Table of Contents<span class=\"tocSkip\"></span></h1>\n",
    "<div class=\"toc\"><ul class=\"toc-item\"><li><span><a href=\"#Prompt\" data-toc-modified-id=\"Prompt-1\"><span class=\"toc-item-num\">1&nbsp;&nbsp;</span>Prompt</a></span></li><li><span><a href=\"#Approach\" data-toc-modified-id=\"Approach-2\"><span class=\"toc-item-num\">2&nbsp;&nbsp;</span>Approach</a></span><ul class=\"toc-item\"><li><span><a href=\"#Assumptions\" data-toc-modified-id=\"Assumptions-2.1\"><span class=\"toc-item-num\">2.1&nbsp;&nbsp;</span>Assumptions</a></span></li></ul></li><li><span><a href=\"#Imports\" data-toc-modified-id=\"Imports-3\"><span class=\"toc-item-num\">3&nbsp;&nbsp;</span>Imports</a></span></li><li><span><a href=\"#Setting-up-datasets\" data-toc-modified-id=\"Setting-up-datasets-4\"><span class=\"toc-item-num\">4&nbsp;&nbsp;</span>Setting up datasets</a></span></li><li><span><a href=\"#Feature-engineering\" data-toc-modified-id=\"Feature-engineering-5\"><span class=\"toc-item-num\">5&nbsp;&nbsp;</span>Feature engineering</a></span><ul class=\"toc-item\"><li><span><a href=\"#Word-agnostic-features\" data-toc-modified-id=\"Word-agnostic-features-5.1\"><span class=\"toc-item-num\">5.1&nbsp;&nbsp;</span>Word agnostic features</a></span></li></ul></li><li><span><a href=\"#Creating-model-v1\" data-toc-modified-id=\"Creating-model-v1-6\"><span class=\"toc-item-num\">6&nbsp;&nbsp;</span>Creating model v1</a></span></li><li><span><a href=\"#Adding-new-features-to-the-dataset\" data-toc-modified-id=\"Adding-new-features-to-the-dataset-7\"><span class=\"toc-item-num\">7&nbsp;&nbsp;</span>Adding new features to the dataset</a></span></li><li><span><a href=\"#Saving-the-amazon-model\" data-toc-modified-id=\"Saving-the-amazon-model-8\"><span class=\"toc-item-num\">8&nbsp;&nbsp;</span>Saving the amazon model</a></span></li><li><span><a href=\"#Testing-the-Amazon-model-on-the-Yelp-and-IMDb-datasets\" data-toc-modified-id=\"Testing-the-Amazon-model-on-the-Yelp-and-IMDb-datasets-9\"><span class=\"toc-item-num\">9&nbsp;&nbsp;</span>Testing the Amazon model on the Yelp and IMDb datasets</a></span></li></ul></div>"
   ]
  },
  {
   "cell_type": "markdown",
   "metadata": {},
   "source": [
    "## Prompt\n",
    "\n",
    "Implement a Naive-Bayes sentiment classifier using one of the companies from the [UCI Machine Learning](https://archive.ics.uci.edu/ml/datasets/Sentiment+Labelled+Sentences) database. Test how the model performs against the comments from the other websites."
   ]
  },
  {
   "cell_type": "markdown",
   "metadata": {},
   "source": [
    "## Approach\n",
    "\n",
    "The model will incorporate for two types of features:\n",
    "1. length of comment\n",
    "2. types of words used in comment\n",
    "\n",
    "(1) will be created by binning the word count of a particular comment against the word-counts for all comments in the database, and (2) will be created by counting whether or not a particular word is used in a comment.\n",
    "\n",
    "### Assumptions\n",
    "1. The first assumption is of the naivety of the NB algorithm: the features are unrelated. This is simply not true for any of the two kinds of features, but we will still make the assumption."
   ]
  },
  {
   "cell_type": "markdown",
   "metadata": {},
   "source": [
    "## Imports"
   ]
  },
  {
   "cell_type": "code",
   "execution_count": 1,
   "metadata": {
    "ExecuteTime": {
     "end_time": "2020-01-03T13:58:56.753100Z",
     "start_time": "2020-01-03T13:58:54.875995Z"
    }
   },
   "outputs": [],
   "source": [
    "%matplotlib inline\n",
    "import numpy as np\n",
    "import pandas as pd\n",
    "import scipy\n",
    "import sklearn\n",
    "import matplotlib.pyplot as plt\n",
    "import seaborn as sns\n",
    "\n",
    "import nltk #for tokenize sentences"
   ]
  },
  {
   "cell_type": "code",
   "execution_count": 44,
   "metadata": {
    "ExecuteTime": {
     "end_time": "2020-01-03T15:13:40.397502Z",
     "start_time": "2020-01-03T15:13:36.878104Z"
    }
   },
   "outputs": [
    {
     "name": "stderr",
     "output_type": "stream",
     "text": [
      "[nltk_data] Downloading package wordnet to\n",
      "[nltk_data]     /Users/chanvarma/nltk_data...\n",
      "[nltk_data]   Unzipping corpora/wordnet.zip.\n"
     ]
    },
    {
     "data": {
      "text/plain": [
       "True"
      ]
     },
     "execution_count": 44,
     "metadata": {},
     "output_type": "execute_result"
    }
   ],
   "source": [
    "nltk.download('wordnet')"
   ]
  },
  {
   "cell_type": "code",
   "execution_count": 2,
   "metadata": {
    "ExecuteTime": {
     "end_time": "2020-01-03T13:58:58.195906Z",
     "start_time": "2020-01-03T13:58:58.193184Z"
    }
   },
   "outputs": [],
   "source": [
    "datasets_file = \"datasets/sentiment labelled sentences/\"\n",
    "imdb_t = datasets_file + 'imdb_labelled.txt'\n",
    "amazon_t = datasets_file + 'amazon_cells_labelled.txt'\n",
    "yelp_t = datasets_file + 'yelp_labelled.txt'"
   ]
  },
  {
   "cell_type": "markdown",
   "metadata": {},
   "source": [
    "## Setting up datasets"
   ]
  },
  {
   "cell_type": "code",
   "execution_count": 482,
   "metadata": {
    "ExecuteTime": {
     "end_time": "2020-01-03T17:26:32.136498Z",
     "start_time": "2020-01-03T17:26:32.122996Z"
    }
   },
   "outputs": [],
   "source": [
    "imdb = pd.read_csv(imdb_t, sep = '\\t', header = None)\n",
    "imdb.columns = ['comment', 'positive']\n",
    "\n",
    "amazon = pd.read_csv(amazon_t, sep = '\\t', header = None)\n",
    "amazon.columns = ['comment', 'positive']\n",
    "\n",
    "yelp = pd.read_csv(yelp_t, sep = '\\t', header = None)\n",
    "yelp.columns = ['comment', 'positive']\n",
    "\n",
    "datasets = {'imdb': imdb, 'amazon': amazon, 'yelp': yelp}"
   ]
  },
  {
   "cell_type": "code",
   "execution_count": 485,
   "metadata": {
    "ExecuteTime": {
     "end_time": "2020-01-03T17:27:03.742813Z",
     "start_time": "2020-01-03T17:27:03.737101Z"
    }
   },
   "outputs": [],
   "source": [
    "for website in datasets.keys():\n",
    "    datasets[website]['comment'] = datasets[website]['comment'].str.lower()"
   ]
  },
  {
   "cell_type": "code",
   "execution_count": 486,
   "metadata": {
    "ExecuteTime": {
     "end_time": "2020-01-03T17:27:05.424302Z",
     "start_time": "2020-01-03T17:27:05.417716Z"
    }
   },
   "outputs": [
    {
     "data": {
      "text/html": [
       "<div>\n",
       "<style scoped>\n",
       "    .dataframe tbody tr th:only-of-type {\n",
       "        vertical-align: middle;\n",
       "    }\n",
       "\n",
       "    .dataframe tbody tr th {\n",
       "        vertical-align: top;\n",
       "    }\n",
       "\n",
       "    .dataframe thead th {\n",
       "        text-align: right;\n",
       "    }\n",
       "</style>\n",
       "<table border=\"1\" class=\"dataframe\">\n",
       "  <thead>\n",
       "    <tr style=\"text-align: right;\">\n",
       "      <th></th>\n",
       "      <th>comment</th>\n",
       "      <th>positive</th>\n",
       "    </tr>\n",
       "  </thead>\n",
       "  <tbody>\n",
       "    <tr>\n",
       "      <th>0</th>\n",
       "      <td>so there is no way for me to plug it in here i...</td>\n",
       "      <td>0</td>\n",
       "    </tr>\n",
       "    <tr>\n",
       "      <th>1</th>\n",
       "      <td>good case, excellent value.</td>\n",
       "      <td>1</td>\n",
       "    </tr>\n",
       "    <tr>\n",
       "      <th>2</th>\n",
       "      <td>great for the jawbone.</td>\n",
       "      <td>1</td>\n",
       "    </tr>\n",
       "    <tr>\n",
       "      <th>3</th>\n",
       "      <td>tied to charger for conversations lasting more...</td>\n",
       "      <td>0</td>\n",
       "    </tr>\n",
       "    <tr>\n",
       "      <th>4</th>\n",
       "      <td>the mic is great.</td>\n",
       "      <td>1</td>\n",
       "    </tr>\n",
       "  </tbody>\n",
       "</table>\n",
       "</div>"
      ],
      "text/plain": [
       "                                             comment  positive\n",
       "0  so there is no way for me to plug it in here i...         0\n",
       "1                        good case, excellent value.         1\n",
       "2                             great for the jawbone.         1\n",
       "3  tied to charger for conversations lasting more...         0\n",
       "4                                  the mic is great.         1"
      ]
     },
     "execution_count": 486,
     "metadata": {},
     "output_type": "execute_result"
    }
   ],
   "source": [
    "amazon.head()"
   ]
  },
  {
   "cell_type": "markdown",
   "metadata": {},
   "source": [
    "## Feature engineering"
   ]
  },
  {
   "cell_type": "markdown",
   "metadata": {},
   "source": [
    "### Word agnostic features"
   ]
  },
  {
   "cell_type": "markdown",
   "metadata": {},
   "source": [
    "We start of with an extremely simple feature: the word count."
   ]
  },
  {
   "cell_type": "code",
   "execution_count": 487,
   "metadata": {
    "ExecuteTime": {
     "end_time": "2020-01-03T17:27:42.311026Z",
     "start_time": "2020-01-03T17:27:41.952929Z"
    }
   },
   "outputs": [
    {
     "data": {
      "text/html": [
       "<div>\n",
       "<style scoped>\n",
       "    .dataframe tbody tr th:only-of-type {\n",
       "        vertical-align: middle;\n",
       "    }\n",
       "\n",
       "    .dataframe tbody tr th {\n",
       "        vertical-align: top;\n",
       "    }\n",
       "\n",
       "    .dataframe thead th {\n",
       "        text-align: right;\n",
       "    }\n",
       "</style>\n",
       "<table border=\"1\" class=\"dataframe\">\n",
       "  <thead>\n",
       "    <tr style=\"text-align: right;\">\n",
       "      <th></th>\n",
       "      <th>comment</th>\n",
       "      <th>positive</th>\n",
       "      <th>word_count</th>\n",
       "    </tr>\n",
       "  </thead>\n",
       "  <tbody>\n",
       "    <tr>\n",
       "      <th>0</th>\n",
       "      <td>so there is no way for me to plug it in here i...</td>\n",
       "      <td>False</td>\n",
       "      <td>21</td>\n",
       "    </tr>\n",
       "    <tr>\n",
       "      <th>1</th>\n",
       "      <td>good case, excellent value</td>\n",
       "      <td>True</td>\n",
       "      <td>5</td>\n",
       "    </tr>\n",
       "    <tr>\n",
       "      <th>2</th>\n",
       "      <td>great for the jawbone</td>\n",
       "      <td>True</td>\n",
       "      <td>4</td>\n",
       "    </tr>\n",
       "    <tr>\n",
       "      <th>3</th>\n",
       "      <td>tied to charger for conversations lasting more...</td>\n",
       "      <td>False</td>\n",
       "      <td>13</td>\n",
       "    </tr>\n",
       "    <tr>\n",
       "      <th>4</th>\n",
       "      <td>the mic is great</td>\n",
       "      <td>True</td>\n",
       "      <td>4</td>\n",
       "    </tr>\n",
       "    <tr>\n",
       "      <th>5</th>\n",
       "      <td>i have to jiggle the plug to get it to line up...</td>\n",
       "      <td>False</td>\n",
       "      <td>17</td>\n",
       "    </tr>\n",
       "    <tr>\n",
       "      <th>6</th>\n",
       "      <td>if you have several dozen or several hundred c...</td>\n",
       "      <td>False</td>\n",
       "      <td>22</td>\n",
       "    </tr>\n",
       "    <tr>\n",
       "      <th>7</th>\n",
       "      <td>if you are razr owner   you must have this!</td>\n",
       "      <td>True</td>\n",
       "      <td>10</td>\n",
       "    </tr>\n",
       "    <tr>\n",
       "      <th>8</th>\n",
       "      <td>needless to say, i wasted my money</td>\n",
       "      <td>False</td>\n",
       "      <td>8</td>\n",
       "    </tr>\n",
       "    <tr>\n",
       "      <th>9</th>\n",
       "      <td>what a waste of money and time!</td>\n",
       "      <td>False</td>\n",
       "      <td>8</td>\n",
       "    </tr>\n",
       "  </tbody>\n",
       "</table>\n",
       "</div>"
      ],
      "text/plain": [
       "                                             comment  positive  word_count\n",
       "0  so there is no way for me to plug it in here i...     False          21\n",
       "1                        good case, excellent value       True           5\n",
       "2                             great for the jawbone       True           4\n",
       "3  tied to charger for conversations lasting more...     False          13\n",
       "4                                  the mic is great       True           4\n",
       "5  i have to jiggle the plug to get it to line up...     False          17\n",
       "6  if you have several dozen or several hundred c...     False          22\n",
       "7        if you are razr owner   you must have this!      True          10\n",
       "8                needless to say, i wasted my money      False           8\n",
       "9                   what a waste of money and time!      False           8"
      ]
     },
     "execution_count": 487,
     "metadata": {},
     "output_type": "execute_result"
    }
   ],
   "source": [
    "for website in datasets.keys():\n",
    "    datasets[website]['positive'] = (datasets[website]['positive'] == 1)\n",
    "    \n",
    "    datasets[website]['comment'] = datasets[website]['comment'].str.replace('.', ' ')\n",
    "    datasets[website]['comment'] = datasets[website]['comment'].str.replace('-', ' ')\n",
    "    datasets[website]['comment'] = datasets[website]['comment'].str.replace('/', ' ')\n",
    "    datasets[website]['comment'] = datasets[website]['comment'].str.replace(\"don't\", 'do not')\n",
    "    datasets[website]['comment'] = datasets[website]['comment'].str.replace(\"doesn't\", 'does not')\n",
    "    datasets[website]['comment'] = datasets[website]['comment'].str.replace(\"n't\", 'not')\n",
    "    datasets[website]['comment'] = datasets[website]['comment'].str.replace('\\d+', '')\n",
    "    \n",
    "    datasets[website]['word_count'] = datasets[website]['comment'].apply(word_tokenize)\n",
    "    datasets[website]['word_count'] =  datasets[website]['word_count'].str.len()\n",
    "\n",
    "amazon.head(10)"
   ]
  },
  {
   "cell_type": "code",
   "execution_count": 495,
   "metadata": {
    "ExecuteTime": {
     "end_time": "2020-01-03T17:30:44.047448Z",
     "start_time": "2020-01-03T17:30:43.333513Z"
    }
   },
   "outputs": [
    {
     "data": {
      "image/png": "[encoded data removed]",
      "text/plain": [
       "<Figure size 432x288 with 1 Axes>"
      ]
     },
     "metadata": {
      "needs_background": "light"
     },
     "output_type": "display_data"
    },
    {
     "data": {
      "image/png": "[encoded data removed]",
      "text/plain": [
       "<Figure size 432x288 with 1 Axes>"
      ]
     },
     "metadata": {
      "needs_background": "light"
     },
     "output_type": "display_data"
    },
    {
     "data": {
      "image/png": "[encoded data removed]",
      "text/plain": [
       "<Figure size 432x288 with 1 Axes>"
      ]
     },
     "metadata": {
      "needs_background": "light"
     },
     "output_type": "display_data"
    }
   ],
   "source": [
    "for website in datasets.keys():\n",
    "    plt.hist(datasets[website]['word_count'].loc[datasets[website]\n",
    "                                                 ['positive'] == True].value_counts(sort=False), label='positive words', alpha = 0.5)\n",
    "    plt.hist(datasets[website]['word_count'].loc[datasets[website]['positive']\n",
    "                                                 == False].value_counts(sort=False), label='negative words', alpha = 0.5)\n",
    "    \n",
    "    plt.title(\"Frequency of a given word-count for '{}'\".format(website))\n",
    "    plt.xlabel('word count')\n",
    "    plt.ylabel('number of comments with word count')\n",
    "    plt.legend()\n",
    "    plt.grid()\n",
    "    plt.show()"
   ]
  },
  {
   "cell_type": "code",
   "execution_count": 499,
   "metadata": {
    "ExecuteTime": {
     "end_time": "2020-01-03T17:31:49.380251Z",
     "start_time": "2020-01-03T17:31:49.371234Z"
    }
   },
   "outputs": [
    {
     "data": {
      "text/html": [
       "<div>\n",
       "<style scoped>\n",
       "    .dataframe tbody tr th:only-of-type {\n",
       "        vertical-align: middle;\n",
       "    }\n",
       "\n",
       "    .dataframe tbody tr th {\n",
       "        vertical-align: top;\n",
       "    }\n",
       "\n",
       "    .dataframe thead th {\n",
       "        text-align: right;\n",
       "    }\n",
       "</style>\n",
       "<table border=\"1\" class=\"dataframe\">\n",
       "  <thead>\n",
       "    <tr style=\"text-align: right;\">\n",
       "      <th></th>\n",
       "      <th>word_count</th>\n",
       "    </tr>\n",
       "    <tr>\n",
       "      <th>positive</th>\n",
       "      <th></th>\n",
       "    </tr>\n",
       "  </thead>\n",
       "  <tbody>\n",
       "    <tr>\n",
       "      <th>False</th>\n",
       "      <td>11.26</td>\n",
       "    </tr>\n",
       "    <tr>\n",
       "      <th>True</th>\n",
       "      <td>10.60</td>\n",
       "    </tr>\n",
       "  </tbody>\n",
       "</table>\n",
       "</div>"
      ],
      "text/plain": [
       "          word_count\n",
       "positive            \n",
       "False          11.26\n",
       "True           10.60"
      ]
     },
     "execution_count": 499,
     "metadata": {},
     "output_type": "execute_result"
    }
   ],
   "source": [
    "amazon.groupby(by = 'positive').mean()"
   ]
  },
  {
   "cell_type": "markdown",
   "metadata": {},
   "source": [
    "We notice that positive comments tend to be somewhat shorter than negative comments. "
   ]
  },
  {
   "cell_type": "code",
   "execution_count": 500,
   "metadata": {
    "ExecuteTime": {
     "end_time": "2020-01-03T17:32:02.231059Z",
     "start_time": "2020-01-03T17:32:02.216299Z"
    }
   },
   "outputs": [
    {
     "data": {
      "text/plain": [
       "(0.968, 11.333]     320\n",
       "(11.333, 21.667]    126\n",
       "(21.667, 32.0]       54\n",
       "Name: word_count, dtype: int64"
      ]
     },
     "execution_count": 500,
     "metadata": {},
     "output_type": "execute_result"
    }
   ],
   "source": [
    "amazon['word_count'].loc[amazon['positive'] == True].value_counts(sort = False, bins = 3)"
   ]
  },
  {
   "cell_type": "code",
   "execution_count": 501,
   "metadata": {
    "ExecuteTime": {
     "end_time": "2020-01-03T17:32:03.760959Z",
     "start_time": "2020-01-03T17:32:03.742079Z"
    }
   },
   "outputs": [
    {
     "data": {
      "text/html": [
       "<div>\n",
       "<style scoped>\n",
       "    .dataframe tbody tr th:only-of-type {\n",
       "        vertical-align: middle;\n",
       "    }\n",
       "\n",
       "    .dataframe tbody tr th {\n",
       "        vertical-align: top;\n",
       "    }\n",
       "\n",
       "    .dataframe thead th {\n",
       "        text-align: right;\n",
       "    }\n",
       "</style>\n",
       "<table border=\"1\" class=\"dataframe\">\n",
       "  <thead>\n",
       "    <tr style=\"text-align: right;\">\n",
       "      <th></th>\n",
       "      <th>comment</th>\n",
       "      <th>positive</th>\n",
       "      <th>word_count</th>\n",
       "      <th>short</th>\n",
       "      <th>mean_length</th>\n",
       "      <th>long</th>\n",
       "    </tr>\n",
       "  </thead>\n",
       "  <tbody>\n",
       "    <tr>\n",
       "      <th>0</th>\n",
       "      <td>so there is no way for me to plug it in here i...</td>\n",
       "      <td>False</td>\n",
       "      <td>21</td>\n",
       "      <td>0</td>\n",
       "      <td>1</td>\n",
       "      <td>0</td>\n",
       "    </tr>\n",
       "    <tr>\n",
       "      <th>1</th>\n",
       "      <td>good case, excellent value</td>\n",
       "      <td>True</td>\n",
       "      <td>5</td>\n",
       "      <td>1</td>\n",
       "      <td>0</td>\n",
       "      <td>0</td>\n",
       "    </tr>\n",
       "    <tr>\n",
       "      <th>2</th>\n",
       "      <td>great for the jawbone</td>\n",
       "      <td>True</td>\n",
       "      <td>4</td>\n",
       "      <td>1</td>\n",
       "      <td>0</td>\n",
       "      <td>0</td>\n",
       "    </tr>\n",
       "    <tr>\n",
       "      <th>3</th>\n",
       "      <td>tied to charger for conversations lasting more...</td>\n",
       "      <td>False</td>\n",
       "      <td>13</td>\n",
       "      <td>0</td>\n",
       "      <td>1</td>\n",
       "      <td>0</td>\n",
       "    </tr>\n",
       "    <tr>\n",
       "      <th>4</th>\n",
       "      <td>the mic is great</td>\n",
       "      <td>True</td>\n",
       "      <td>4</td>\n",
       "      <td>1</td>\n",
       "      <td>0</td>\n",
       "      <td>0</td>\n",
       "    </tr>\n",
       "    <tr>\n",
       "      <th>...</th>\n",
       "      <td>...</td>\n",
       "      <td>...</td>\n",
       "      <td>...</td>\n",
       "      <td>...</td>\n",
       "      <td>...</td>\n",
       "      <td>...</td>\n",
       "    </tr>\n",
       "    <tr>\n",
       "      <th>995</th>\n",
       "      <td>the screen does get smudged easily because it ...</td>\n",
       "      <td>False</td>\n",
       "      <td>13</td>\n",
       "      <td>0</td>\n",
       "      <td>1</td>\n",
       "      <td>0</td>\n",
       "    </tr>\n",
       "    <tr>\n",
       "      <th>996</th>\n",
       "      <td>what a piece of junk   i lose more calls on th...</td>\n",
       "      <td>False</td>\n",
       "      <td>12</td>\n",
       "      <td>0</td>\n",
       "      <td>1</td>\n",
       "      <td>0</td>\n",
       "    </tr>\n",
       "    <tr>\n",
       "      <th>997</th>\n",
       "      <td>item does not match picture</td>\n",
       "      <td>False</td>\n",
       "      <td>5</td>\n",
       "      <td>1</td>\n",
       "      <td>0</td>\n",
       "      <td>0</td>\n",
       "    </tr>\n",
       "    <tr>\n",
       "      <th>998</th>\n",
       "      <td>the only thing that disappoint me is the infra...</td>\n",
       "      <td>False</td>\n",
       "      <td>14</td>\n",
       "      <td>0</td>\n",
       "      <td>1</td>\n",
       "      <td>0</td>\n",
       "    </tr>\n",
       "    <tr>\n",
       "      <th>999</th>\n",
       "      <td>you can not answer calls with the unit, never ...</td>\n",
       "      <td>False</td>\n",
       "      <td>13</td>\n",
       "      <td>0</td>\n",
       "      <td>1</td>\n",
       "      <td>0</td>\n",
       "    </tr>\n",
       "  </tbody>\n",
       "</table>\n",
       "<p>1000 rows × 6 columns</p>\n",
       "</div>"
      ],
      "text/plain": [
       "                                               comment  positive  word_count  \\\n",
       "0    so there is no way for me to plug it in here i...     False          21   \n",
       "1                          good case, excellent value       True           5   \n",
       "2                               great for the jawbone       True           4   \n",
       "3    tied to charger for conversations lasting more...     False          13   \n",
       "4                                    the mic is great       True           4   \n",
       "..                                                 ...       ...         ...   \n",
       "995  the screen does get smudged easily because it ...     False          13   \n",
       "996  what a piece of junk   i lose more calls on th...     False          12   \n",
       "997                       item does not match picture      False           5   \n",
       "998  the only thing that disappoint me is the infra...     False          14   \n",
       "999  you can not answer calls with the unit, never ...     False          13   \n",
       "\n",
       "     short  mean_length  long  \n",
       "0        0            1     0  \n",
       "1        1            0     0  \n",
       "2        1            0     0  \n",
       "3        0            1     0  \n",
       "4        1            0     0  \n",
       "..     ...          ...   ...  \n",
       "995      0            1     0  \n",
       "996      0            1     0  \n",
       "997      1            0     0  \n",
       "998      0            1     0  \n",
       "999      0            1     0  \n",
       "\n",
       "[1000 rows x 6 columns]"
      ]
     },
     "execution_count": 501,
     "metadata": {},
     "output_type": "execute_result"
    }
   ],
   "source": [
    "amazon['sent_length'] = pd.cut(amazon['word_count'], bins=3, labels=[\n",
    "                               'short', 'mean_length', 'long'])\n",
    "\n",
    "amazon = pd.concat([amazon, pd.get_dummies(amazon['sent_length'])], axis=1)\n",
    "amazon.drop(columns = ['sent_length'], inplace = True)\n",
    "amazon"
   ]
  },
  {
   "cell_type": "markdown",
   "metadata": {},
   "source": [
    "## Creating model v1"
   ]
  },
  {
   "cell_type": "markdown",
   "metadata": {
    "ExecuteTime": {
     "end_time": "2019-12-31T11:26:27.521103Z",
     "start_time": "2019-12-31T11:26:27.517409Z"
    }
   },
   "source": [
    "Let's start by focussing on the Amazon model."
   ]
  },
  {
   "cell_type": "code",
   "execution_count": 502,
   "metadata": {
    "ExecuteTime": {
     "end_time": "2020-01-03T17:32:07.398481Z",
     "start_time": "2020-01-03T17:32:07.386882Z"
    }
   },
   "outputs": [
    {
     "data": {
      "text/html": [
       "<div>\n",
       "<style scoped>\n",
       "    .dataframe tbody tr th:only-of-type {\n",
       "        vertical-align: middle;\n",
       "    }\n",
       "\n",
       "    .dataframe tbody tr th {\n",
       "        vertical-align: top;\n",
       "    }\n",
       "\n",
       "    .dataframe thead th {\n",
       "        text-align: right;\n",
       "    }\n",
       "</style>\n",
       "<table border=\"1\" class=\"dataframe\">\n",
       "  <thead>\n",
       "    <tr style=\"text-align: right;\">\n",
       "      <th></th>\n",
       "      <th>word_count</th>\n",
       "      <th>short</th>\n",
       "      <th>mean_length</th>\n",
       "      <th>long</th>\n",
       "    </tr>\n",
       "  </thead>\n",
       "  <tbody>\n",
       "    <tr>\n",
       "      <th>0</th>\n",
       "      <td>21</td>\n",
       "      <td>0</td>\n",
       "      <td>1</td>\n",
       "      <td>0</td>\n",
       "    </tr>\n",
       "    <tr>\n",
       "      <th>1</th>\n",
       "      <td>5</td>\n",
       "      <td>1</td>\n",
       "      <td>0</td>\n",
       "      <td>0</td>\n",
       "    </tr>\n",
       "    <tr>\n",
       "      <th>2</th>\n",
       "      <td>4</td>\n",
       "      <td>1</td>\n",
       "      <td>0</td>\n",
       "      <td>0</td>\n",
       "    </tr>\n",
       "    <tr>\n",
       "      <th>3</th>\n",
       "      <td>13</td>\n",
       "      <td>0</td>\n",
       "      <td>1</td>\n",
       "      <td>0</td>\n",
       "    </tr>\n",
       "    <tr>\n",
       "      <th>4</th>\n",
       "      <td>4</td>\n",
       "      <td>1</td>\n",
       "      <td>0</td>\n",
       "      <td>0</td>\n",
       "    </tr>\n",
       "    <tr>\n",
       "      <th>...</th>\n",
       "      <td>...</td>\n",
       "      <td>...</td>\n",
       "      <td>...</td>\n",
       "      <td>...</td>\n",
       "    </tr>\n",
       "    <tr>\n",
       "      <th>995</th>\n",
       "      <td>13</td>\n",
       "      <td>0</td>\n",
       "      <td>1</td>\n",
       "      <td>0</td>\n",
       "    </tr>\n",
       "    <tr>\n",
       "      <th>996</th>\n",
       "      <td>12</td>\n",
       "      <td>0</td>\n",
       "      <td>1</td>\n",
       "      <td>0</td>\n",
       "    </tr>\n",
       "    <tr>\n",
       "      <th>997</th>\n",
       "      <td>5</td>\n",
       "      <td>1</td>\n",
       "      <td>0</td>\n",
       "      <td>0</td>\n",
       "    </tr>\n",
       "    <tr>\n",
       "      <th>998</th>\n",
       "      <td>14</td>\n",
       "      <td>0</td>\n",
       "      <td>1</td>\n",
       "      <td>0</td>\n",
       "    </tr>\n",
       "    <tr>\n",
       "      <th>999</th>\n",
       "      <td>13</td>\n",
       "      <td>0</td>\n",
       "      <td>1</td>\n",
       "      <td>0</td>\n",
       "    </tr>\n",
       "  </tbody>\n",
       "</table>\n",
       "<p>1000 rows × 4 columns</p>\n",
       "</div>"
      ],
      "text/plain": [
       "     word_count  short  mean_length  long\n",
       "0            21      0            1     0\n",
       "1             5      1            0     0\n",
       "2             4      1            0     0\n",
       "3            13      0            1     0\n",
       "4             4      1            0     0\n",
       "..          ...    ...          ...   ...\n",
       "995          13      0            1     0\n",
       "996          12      0            1     0\n",
       "997           5      1            0     0\n",
       "998          14      0            1     0\n",
       "999          13      0            1     0\n",
       "\n",
       "[1000 rows x 4 columns]"
      ]
     },
     "execution_count": 502,
     "metadata": {},
     "output_type": "execute_result"
    }
   ],
   "source": [
    "cols = list(amazon.columns)\n",
    "cols.remove('comment')\n",
    "cols.remove('positive')\n",
    "\n",
    "data_amazon = amazon[cols]\n",
    "target_amazon = amazon['positive']\n",
    "\n",
    "data_amazon"
   ]
  },
  {
   "cell_type": "code",
   "execution_count": 503,
   "metadata": {
    "ExecuteTime": {
     "end_time": "2020-01-03T17:32:11.119050Z",
     "start_time": "2020-01-03T17:32:11.109868Z"
    }
   },
   "outputs": [
    {
     "name": "stdout",
     "output_type": "stream",
     "text": [
      "Number of mislabeled points out of a total 1000 points : 465 or 0.465%\n"
     ]
    }
   ],
   "source": [
    "from sklearn.naive_bayes import BernoulliNB\n",
    "\n",
    "bnb_amazon = BernoulliNB()\n",
    "bnb_amazon.fit(data_amazon, target_amazon)\n",
    "y_pred_amazon = bnb_amazon.predict(data_amazon)\n",
    "\n",
    "print(\"Number of mislabeled points out of a total {} points : {} or {}%\".format(\n",
    "    data_amazon.shape[0], (target_amazon != y_pred_amazon).sum(\n",
    "    ), (target_amazon != y_pred_amazon).sum()/len(y_pred_amazon)\n",
    "))"
   ]
  },
  {
   "cell_type": "markdown",
   "metadata": {},
   "source": [
    "Not a bad start, but surely we can do better. We now do a 75/25 split on the data to get our training and test data."
   ]
  },
  {
   "cell_type": "code",
   "execution_count": 504,
   "metadata": {
    "ExecuteTime": {
     "end_time": "2020-01-03T17:32:12.859074Z",
     "start_time": "2020-01-03T17:32:12.850618Z"
    }
   },
   "outputs": [],
   "source": [
    "from sklearn.model_selection import train_test_split\n",
    "\n",
    "def create_fit_model(website, keywords = None, return_model = False):\n",
    "    \n",
    "    data = website.copy()\n",
    "    \n",
    "    #Feature engineering\n",
    "    if keywords is not None:\n",
    "        keywords = np.unique(keywords)\n",
    "        for key in keywords:\n",
    "            data[str(key)] = data['comment'].str.contains(str(key) + ' ', case = False) \n",
    "            \n",
    "    #Creating comments\n",
    "    cols = list(data.columns)\n",
    "    cols.remove('comment')\n",
    "    cols.remove('positive')\n",
    "\n",
    "    X = data[cols]\n",
    "    Y = data['positive']\n",
    "    \n",
    "    X_train, X_test, Y_train, Y_test = train_test_split(X, Y, test_size=0.25, random_state = 13, shuffle = True)\n",
    "    \n",
    "    #Creating model\n",
    "    model = BernoulliNB()\n",
    "    model.fit(X_train, Y_train)\n",
    "    \n",
    "    pred = model.predict(X_test)\n",
    "    accuracy = sum(pred == Y_test)/len(Y_test)\n",
    "    \n",
    "    if return_model:\n",
    "        print('Model with {} accuracy is returned.'.format(accuracy))\n",
    "        return model\n",
    "    else:\n",
    "        return accuracy"
   ]
  },
  {
   "cell_type": "markdown",
   "metadata": {
    "ExecuteTime": {
     "end_time": "2019-12-31T07:44:10.694778Z",
     "start_time": "2019-12-31T07:44:10.690996Z"
    }
   },
   "source": [
    "And the original model is..."
   ]
  },
  {
   "cell_type": "code",
   "execution_count": 505,
   "metadata": {
    "ExecuteTime": {
     "end_time": "2020-01-03T17:32:15.015396Z",
     "start_time": "2020-01-03T17:32:15.004796Z"
    }
   },
   "outputs": [
    {
     "data": {
      "text/plain": [
       "0.512"
      ]
     },
     "execution_count": 505,
     "metadata": {},
     "output_type": "execute_result"
    }
   ],
   "source": [
    "create_fit_model(amazon)"
   ]
  },
  {
   "cell_type": "markdown",
   "metadata": {},
   "source": [
    "Which is comparable to the a ~50% accuracy. "
   ]
  },
  {
   "cell_type": "markdown",
   "metadata": {},
   "source": [
    "## Adding new features to the dataset "
   ]
  },
  {
   "cell_type": "markdown",
   "metadata": {},
   "source": [
    "We start out by getting the word counts of the most popular words for positive and negative sentences.\n",
    "\n",
    "Since some of these comments are likely to have improper punctuation, we replace all '.'s and '--'s with spaces."
   ]
  },
  {
   "cell_type": "code",
   "execution_count": 506,
   "metadata": {
    "ExecuteTime": {
     "end_time": "2020-01-03T17:32:18.806230Z",
     "start_time": "2020-01-03T17:32:18.795780Z"
    }
   },
   "outputs": [
    {
     "data": {
      "text/html": [
       "<div>\n",
       "<style scoped>\n",
       "    .dataframe tbody tr th:only-of-type {\n",
       "        vertical-align: middle;\n",
       "    }\n",
       "\n",
       "    .dataframe tbody tr th {\n",
       "        vertical-align: top;\n",
       "    }\n",
       "\n",
       "    .dataframe thead th {\n",
       "        text-align: right;\n",
       "    }\n",
       "</style>\n",
       "<table border=\"1\" class=\"dataframe\">\n",
       "  <thead>\n",
       "    <tr style=\"text-align: right;\">\n",
       "      <th></th>\n",
       "      <th>comment</th>\n",
       "      <th>positive</th>\n",
       "      <th>word_count</th>\n",
       "      <th>short</th>\n",
       "      <th>mean_length</th>\n",
       "      <th>long</th>\n",
       "    </tr>\n",
       "  </thead>\n",
       "  <tbody>\n",
       "    <tr>\n",
       "      <th>0</th>\n",
       "      <td>so there is no way for me to plug it in here i...</td>\n",
       "      <td>False</td>\n",
       "      <td>21</td>\n",
       "      <td>0</td>\n",
       "      <td>1</td>\n",
       "      <td>0</td>\n",
       "    </tr>\n",
       "    <tr>\n",
       "      <th>1</th>\n",
       "      <td>good case, excellent value</td>\n",
       "      <td>True</td>\n",
       "      <td>5</td>\n",
       "      <td>1</td>\n",
       "      <td>0</td>\n",
       "      <td>0</td>\n",
       "    </tr>\n",
       "    <tr>\n",
       "      <th>2</th>\n",
       "      <td>great for the jawbone</td>\n",
       "      <td>True</td>\n",
       "      <td>4</td>\n",
       "      <td>1</td>\n",
       "      <td>0</td>\n",
       "      <td>0</td>\n",
       "    </tr>\n",
       "    <tr>\n",
       "      <th>3</th>\n",
       "      <td>tied to charger for conversations lasting more...</td>\n",
       "      <td>False</td>\n",
       "      <td>13</td>\n",
       "      <td>0</td>\n",
       "      <td>1</td>\n",
       "      <td>0</td>\n",
       "    </tr>\n",
       "    <tr>\n",
       "      <th>4</th>\n",
       "      <td>the mic is great</td>\n",
       "      <td>True</td>\n",
       "      <td>4</td>\n",
       "      <td>1</td>\n",
       "      <td>0</td>\n",
       "      <td>0</td>\n",
       "    </tr>\n",
       "    <tr>\n",
       "      <th>5</th>\n",
       "      <td>i have to jiggle the plug to get it to line up...</td>\n",
       "      <td>False</td>\n",
       "      <td>17</td>\n",
       "      <td>0</td>\n",
       "      <td>1</td>\n",
       "      <td>0</td>\n",
       "    </tr>\n",
       "    <tr>\n",
       "      <th>6</th>\n",
       "      <td>if you have several dozen or several hundred c...</td>\n",
       "      <td>False</td>\n",
       "      <td>22</td>\n",
       "      <td>0</td>\n",
       "      <td>0</td>\n",
       "      <td>1</td>\n",
       "    </tr>\n",
       "    <tr>\n",
       "      <th>7</th>\n",
       "      <td>if you are razr owner   you must have this!</td>\n",
       "      <td>True</td>\n",
       "      <td>10</td>\n",
       "      <td>1</td>\n",
       "      <td>0</td>\n",
       "      <td>0</td>\n",
       "    </tr>\n",
       "    <tr>\n",
       "      <th>8</th>\n",
       "      <td>needless to say, i wasted my money</td>\n",
       "      <td>False</td>\n",
       "      <td>8</td>\n",
       "      <td>1</td>\n",
       "      <td>0</td>\n",
       "      <td>0</td>\n",
       "    </tr>\n",
       "    <tr>\n",
       "      <th>9</th>\n",
       "      <td>what a waste of money and time!</td>\n",
       "      <td>False</td>\n",
       "      <td>8</td>\n",
       "      <td>1</td>\n",
       "      <td>0</td>\n",
       "      <td>0</td>\n",
       "    </tr>\n",
       "    <tr>\n",
       "      <th>10</th>\n",
       "      <td>and the sound quality is great</td>\n",
       "      <td>True</td>\n",
       "      <td>6</td>\n",
       "      <td>1</td>\n",
       "      <td>0</td>\n",
       "      <td>0</td>\n",
       "    </tr>\n",
       "    <tr>\n",
       "      <th>11</th>\n",
       "      <td>he was very impressed when going from the orig...</td>\n",
       "      <td>True</td>\n",
       "      <td>14</td>\n",
       "      <td>0</td>\n",
       "      <td>1</td>\n",
       "      <td>0</td>\n",
       "    </tr>\n",
       "    <tr>\n",
       "      <th>12</th>\n",
       "      <td>if the two were seperated by a mere + ft i sta...</td>\n",
       "      <td>False</td>\n",
       "      <td>22</td>\n",
       "      <td>0</td>\n",
       "      <td>0</td>\n",
       "      <td>1</td>\n",
       "    </tr>\n",
       "    <tr>\n",
       "      <th>13</th>\n",
       "      <td>very good quality though</td>\n",
       "      <td>True</td>\n",
       "      <td>4</td>\n",
       "      <td>1</td>\n",
       "      <td>0</td>\n",
       "      <td>0</td>\n",
       "    </tr>\n",
       "    <tr>\n",
       "      <th>14</th>\n",
       "      <td>the design is very odd, as the ear \"clip\" is n...</td>\n",
       "      <td>False</td>\n",
       "      <td>18</td>\n",
       "      <td>0</td>\n",
       "      <td>1</td>\n",
       "      <td>0</td>\n",
       "    </tr>\n",
       "  </tbody>\n",
       "</table>\n",
       "</div>"
      ],
      "text/plain": [
       "                                              comment  positive  word_count  \\\n",
       "0   so there is no way for me to plug it in here i...     False          21   \n",
       "1                         good case, excellent value       True           5   \n",
       "2                              great for the jawbone       True           4   \n",
       "3   tied to charger for conversations lasting more...     False          13   \n",
       "4                                   the mic is great       True           4   \n",
       "5   i have to jiggle the plug to get it to line up...     False          17   \n",
       "6   if you have several dozen or several hundred c...     False          22   \n",
       "7         if you are razr owner   you must have this!      True          10   \n",
       "8                 needless to say, i wasted my money      False           8   \n",
       "9                    what a waste of money and time!      False           8   \n",
       "10                    and the sound quality is great       True           6   \n",
       "11  he was very impressed when going from the orig...      True          14   \n",
       "12  if the two were seperated by a mere + ft i sta...     False          22   \n",
       "13                           very good quality though      True           4   \n",
       "14  the design is very odd, as the ear \"clip\" is n...     False          18   \n",
       "\n",
       "    short  mean_length  long  \n",
       "0       0            1     0  \n",
       "1       1            0     0  \n",
       "2       1            0     0  \n",
       "3       0            1     0  \n",
       "4       1            0     0  \n",
       "5       0            1     0  \n",
       "6       0            0     1  \n",
       "7       1            0     0  \n",
       "8       1            0     0  \n",
       "9       1            0     0  \n",
       "10      1            0     0  \n",
       "11      0            1     0  \n",
       "12      0            0     1  \n",
       "13      1            0     0  \n",
       "14      0            1     0  "
      ]
     },
     "execution_count": 506,
     "metadata": {},
     "output_type": "execute_result"
    }
   ],
   "source": [
    "amazon.head(15)"
   ]
  },
  {
   "cell_type": "code",
   "execution_count": 507,
   "metadata": {
    "ExecuteTime": {
     "end_time": "2020-01-03T17:32:21.447786Z",
     "start_time": "2020-01-03T17:32:21.399163Z"
    }
   },
   "outputs": [
    {
     "data": {
      "text/html": [
       "<div>\n",
       "<style scoped>\n",
       "    .dataframe tbody tr th:only-of-type {\n",
       "        vertical-align: middle;\n",
       "    }\n",
       "\n",
       "    .dataframe tbody tr th {\n",
       "        vertical-align: top;\n",
       "    }\n",
       "\n",
       "    .dataframe thead th {\n",
       "        text-align: right;\n",
       "    }\n",
       "</style>\n",
       "<table border=\"1\" class=\"dataframe\">\n",
       "  <thead>\n",
       "    <tr style=\"text-align: right;\">\n",
       "      <th></th>\n",
       "      <th>word</th>\n",
       "      <th>pos_count</th>\n",
       "    </tr>\n",
       "  </thead>\n",
       "  <tbody>\n",
       "    <tr>\n",
       "      <th>902</th>\n",
       "      <td>the</td>\n",
       "      <td>239</td>\n",
       "    </tr>\n",
       "    <tr>\n",
       "      <th>38</th>\n",
       "      <td>and</td>\n",
       "      <td>189</td>\n",
       "    </tr>\n",
       "    <tr>\n",
       "      <th>914</th>\n",
       "      <td>this</td>\n",
       "      <td>105</td>\n",
       "    </tr>\n",
       "    <tr>\n",
       "      <th>396</th>\n",
       "      <td>great</td>\n",
       "      <td>94</td>\n",
       "    </tr>\n",
       "    <tr>\n",
       "      <th>653</th>\n",
       "      <td>phone</td>\n",
       "      <td>88</td>\n",
       "    </tr>\n",
       "    <tr>\n",
       "      <th>976</th>\n",
       "      <td>very</td>\n",
       "      <td>69</td>\n",
       "    </tr>\n",
       "    <tr>\n",
       "      <th>357</th>\n",
       "      <td>for</td>\n",
       "      <td>66</td>\n",
       "    </tr>\n",
       "    <tr>\n",
       "      <th>391</th>\n",
       "      <td>good</td>\n",
       "      <td>65</td>\n",
       "    </tr>\n",
       "    <tr>\n",
       "      <th>1021</th>\n",
       "      <td>with</td>\n",
       "      <td>65</td>\n",
       "    </tr>\n",
       "    <tr>\n",
       "      <th>1030</th>\n",
       "      <td>works</td>\n",
       "      <td>46</td>\n",
       "    </tr>\n",
       "    <tr>\n",
       "      <th>413</th>\n",
       "      <td>have</td>\n",
       "      <td>38</td>\n",
       "    </tr>\n",
       "    <tr>\n",
       "      <th>989</th>\n",
       "      <td>was</td>\n",
       "      <td>36</td>\n",
       "    </tr>\n",
       "    <tr>\n",
       "      <th>999</th>\n",
       "      <td>well</td>\n",
       "      <td>35</td>\n",
       "    </tr>\n",
       "    <tr>\n",
       "      <th>692</th>\n",
       "      <td>product</td>\n",
       "      <td>33</td>\n",
       "    </tr>\n",
       "    <tr>\n",
       "      <th>900</th>\n",
       "      <td>that</td>\n",
       "      <td>33</td>\n",
       "    </tr>\n",
       "  </tbody>\n",
       "</table>\n",
       "</div>"
      ],
      "text/plain": [
       "         word  pos_count\n",
       "902       the        239\n",
       "38        and        189\n",
       "914      this        105\n",
       "396     great         94\n",
       "653     phone         88\n",
       "976      very         69\n",
       "357       for         66\n",
       "391      good         65\n",
       "1021     with         65\n",
       "1030    works         46\n",
       "413      have         38\n",
       "989       was         36\n",
       "999      well         35\n",
       "692   product         33\n",
       "900      that         33"
      ]
     },
     "execution_count": 507,
     "metadata": {},
     "output_type": "execute_result"
    }
   ],
   "source": [
    "from collections import Counter\n",
    "from nltk.tokenize import word_tokenize\n",
    "import operator\n",
    "\n",
    "all_positive = ' '.join(amazon['comment'].loc[amazon['positive'] == True])\n",
    "positive_words = word_tokenize(all_positive)\n",
    "positive_words = [w for w in positive_words if len(w) > 2]\n",
    "\n",
    "positive_word_count = dict()\n",
    "counts = Counter(positive_words)\n",
    "\n",
    "for word in np.unique(positive_words):\n",
    "    positive_word_count[word] = sum(counts[i] for i in [word])\n",
    "\n",
    "positive_words_df = pd.DataFrame.from_dict(positive_word_count, orient='index', columns=['pos_count'])\n",
    "positive_words_df.index.rename('word', inplace = True)\n",
    "positive_words_df.reset_index(inplace = True)\n",
    "positive_words_df.sort_values(by = 'pos_count', ascending = False, inplace = True)\n",
    "positive_words_df[:15]"
   ]
  },
  {
   "cell_type": "markdown",
   "metadata": {},
   "source": [
    "And similarly do the same for negative words."
   ]
  },
  {
   "cell_type": "code",
   "execution_count": 508,
   "metadata": {
    "ExecuteTime": {
     "end_time": "2020-01-03T17:32:24.408064Z",
     "start_time": "2020-01-03T17:32:24.364746Z"
    }
   },
   "outputs": [
    {
     "data": {
      "text/html": [
       "<div>\n",
       "<style scoped>\n",
       "    .dataframe tbody tr th:only-of-type {\n",
       "        vertical-align: middle;\n",
       "    }\n",
       "\n",
       "    .dataframe tbody tr th {\n",
       "        vertical-align: top;\n",
       "    }\n",
       "\n",
       "    .dataframe thead th {\n",
       "        text-align: right;\n",
       "    }\n",
       "</style>\n",
       "<table border=\"1\" class=\"dataframe\">\n",
       "  <thead>\n",
       "    <tr style=\"text-align: right;\">\n",
       "      <th></th>\n",
       "      <th>word</th>\n",
       "      <th>neg_count</th>\n",
       "    </tr>\n",
       "  </thead>\n",
       "  <tbody>\n",
       "    <tr>\n",
       "      <th>1022</th>\n",
       "      <td>the</td>\n",
       "      <td>280</td>\n",
       "    </tr>\n",
       "    <tr>\n",
       "      <th>698</th>\n",
       "      <td>not</td>\n",
       "      <td>143</td>\n",
       "    </tr>\n",
       "    <tr>\n",
       "      <th>40</th>\n",
       "      <td>and</td>\n",
       "      <td>122</td>\n",
       "    </tr>\n",
       "    <tr>\n",
       "      <th>1036</th>\n",
       "      <td>this</td>\n",
       "      <td>103</td>\n",
       "    </tr>\n",
       "    <tr>\n",
       "      <th>751</th>\n",
       "      <td>phone</td>\n",
       "      <td>80</td>\n",
       "    </tr>\n",
       "    <tr>\n",
       "      <th>408</th>\n",
       "      <td>for</td>\n",
       "      <td>55</td>\n",
       "    </tr>\n",
       "    <tr>\n",
       "      <th>1127</th>\n",
       "      <td>was</td>\n",
       "      <td>54</td>\n",
       "    </tr>\n",
       "    <tr>\n",
       "      <th>1020</th>\n",
       "      <td>that</td>\n",
       "      <td>49</td>\n",
       "    </tr>\n",
       "    <tr>\n",
       "      <th>1189</th>\n",
       "      <td>you</td>\n",
       "      <td>47</td>\n",
       "    </tr>\n",
       "    <tr>\n",
       "      <th>1166</th>\n",
       "      <td>with</td>\n",
       "      <td>47</td>\n",
       "    </tr>\n",
       "    <tr>\n",
       "      <th>467</th>\n",
       "      <td>have</td>\n",
       "      <td>35</td>\n",
       "    </tr>\n",
       "    <tr>\n",
       "      <th>1113</th>\n",
       "      <td>very</td>\n",
       "      <td>35</td>\n",
       "    </tr>\n",
       "    <tr>\n",
       "      <th>297</th>\n",
       "      <td>does</td>\n",
       "      <td>33</td>\n",
       "    </tr>\n",
       "    <tr>\n",
       "      <th>456</th>\n",
       "      <td>had</td>\n",
       "      <td>27</td>\n",
       "    </tr>\n",
       "    <tr>\n",
       "      <th>130</th>\n",
       "      <td>but</td>\n",
       "      <td>25</td>\n",
       "    </tr>\n",
       "  </tbody>\n",
       "</table>\n",
       "</div>"
      ],
      "text/plain": [
       "       word  neg_count\n",
       "1022    the        280\n",
       "698     not        143\n",
       "40      and        122\n",
       "1036   this        103\n",
       "751   phone         80\n",
       "408     for         55\n",
       "1127    was         54\n",
       "1020   that         49\n",
       "1189    you         47\n",
       "1166   with         47\n",
       "467    have         35\n",
       "1113   very         35\n",
       "297    does         33\n",
       "456     had         27\n",
       "130     but         25"
      ]
     },
     "execution_count": 508,
     "metadata": {},
     "output_type": "execute_result"
    }
   ],
   "source": [
    "all_negative = ' '.join(amazon['comment'].loc[amazon['positive'] != True])\n",
    "negative_words = word_tokenize(all_negative)\n",
    "negative_words = [w for w in negative_words if len(w) > 2]\n",
    "\n",
    "negative_word_count = dict()\n",
    "counts = Counter(negative_words)\n",
    "\n",
    "for word in np.unique(negative_words):\n",
    "    negative_word_count[word] = sum(counts[i] for i in [word])\n",
    "\n",
    "negative_words_df = pd.DataFrame.from_dict(negative_word_count, orient='index', columns=['neg_count'])\n",
    "negative_words_df.index.rename('word', inplace = True)\n",
    "negative_words_df.reset_index(inplace = True)\n",
    "negative_words_df.sort_values(by = 'neg_count', ascending = False, inplace = True)\n",
    "negative_words_df[:15]"
   ]
  },
  {
   "cell_type": "markdown",
   "metadata": {},
   "source": [
    "We now outer merge these dfs to understand what are the unique words."
   ]
  },
  {
   "cell_type": "code",
   "execution_count": 509,
   "metadata": {
    "ExecuteTime": {
     "end_time": "2020-01-03T17:32:27.119914Z",
     "start_time": "2020-01-03T17:32:27.108266Z"
    }
   },
   "outputs": [],
   "source": [
    "all_words = positive_words_df.merge(negative_words_df, on='word', how='outer')\n",
    "all_words.fillna(0, inplace=True)\n",
    "all_words['sentiment_score'] = (all_words['pos_count'] - all_words['neg_count'])\n",
    "\n",
    "all_words.sort_values(by='sentiment_score', inplace=True)"
   ]
  },
  {
   "cell_type": "markdown",
   "metadata": {},
   "source": [
    "We build our keyword set using the top 'n' values of the words with the highest and lowest keywords."
   ]
  },
  {
   "cell_type": "code",
   "execution_count": 510,
   "metadata": {
    "ExecuteTime": {
     "end_time": "2020-01-03T17:32:28.712653Z",
     "start_time": "2020-01-03T17:32:28.700478Z"
    }
   },
   "outputs": [
    {
     "data": {
      "text/html": [
       "<div>\n",
       "<style scoped>\n",
       "    .dataframe tbody tr th:only-of-type {\n",
       "        vertical-align: middle;\n",
       "    }\n",
       "\n",
       "    .dataframe tbody tr th {\n",
       "        vertical-align: top;\n",
       "    }\n",
       "\n",
       "    .dataframe thead th {\n",
       "        text-align: right;\n",
       "    }\n",
       "</style>\n",
       "<table border=\"1\" class=\"dataframe\">\n",
       "  <thead>\n",
       "    <tr style=\"text-align: right;\">\n",
       "      <th></th>\n",
       "      <th>word</th>\n",
       "      <th>pos_count</th>\n",
       "      <th>neg_count</th>\n",
       "      <th>sentiment_score</th>\n",
       "    </tr>\n",
       "  </thead>\n",
       "  <tbody>\n",
       "    <tr>\n",
       "      <th>22</th>\n",
       "      <td>not</td>\n",
       "      <td>23.0</td>\n",
       "      <td>143.0</td>\n",
       "      <td>-120.0</td>\n",
       "    </tr>\n",
       "    <tr>\n",
       "      <th>0</th>\n",
       "      <td>the</td>\n",
       "      <td>239.0</td>\n",
       "      <td>280.0</td>\n",
       "      <td>-41.0</td>\n",
       "    </tr>\n",
       "    <tr>\n",
       "      <th>69</th>\n",
       "      <td>does</td>\n",
       "      <td>9.0</td>\n",
       "      <td>33.0</td>\n",
       "      <td>-24.0</td>\n",
       "    </tr>\n",
       "    <tr>\n",
       "      <th>21</th>\n",
       "      <td>you</td>\n",
       "      <td>24.0</td>\n",
       "      <td>47.0</td>\n",
       "      <td>-23.0</td>\n",
       "    </tr>\n",
       "    <tr>\n",
       "      <th>11</th>\n",
       "      <td>was</td>\n",
       "      <td>36.0</td>\n",
       "      <td>54.0</td>\n",
       "      <td>-18.0</td>\n",
       "    </tr>\n",
       "    <tr>\n",
       "      <th>...</th>\n",
       "      <td>...</td>\n",
       "      <td>...</td>\n",
       "      <td>...</td>\n",
       "      <td>...</td>\n",
       "    </tr>\n",
       "    <tr>\n",
       "      <th>5</th>\n",
       "      <td>very</td>\n",
       "      <td>69.0</td>\n",
       "      <td>35.0</td>\n",
       "      <td>34.0</td>\n",
       "    </tr>\n",
       "    <tr>\n",
       "      <th>9</th>\n",
       "      <td>works</td>\n",
       "      <td>46.0</td>\n",
       "      <td>1.0</td>\n",
       "      <td>45.0</td>\n",
       "    </tr>\n",
       "    <tr>\n",
       "      <th>7</th>\n",
       "      <td>good</td>\n",
       "      <td>65.0</td>\n",
       "      <td>13.0</td>\n",
       "      <td>52.0</td>\n",
       "    </tr>\n",
       "    <tr>\n",
       "      <th>1</th>\n",
       "      <td>and</td>\n",
       "      <td>189.0</td>\n",
       "      <td>122.0</td>\n",
       "      <td>67.0</td>\n",
       "    </tr>\n",
       "    <tr>\n",
       "      <th>3</th>\n",
       "      <td>great</td>\n",
       "      <td>94.0</td>\n",
       "      <td>5.0</td>\n",
       "      <td>89.0</td>\n",
       "    </tr>\n",
       "  </tbody>\n",
       "</table>\n",
       "<p>1750 rows × 4 columns</p>\n",
       "</div>"
      ],
      "text/plain": [
       "     word  pos_count  neg_count  sentiment_score\n",
       "22    not       23.0      143.0           -120.0\n",
       "0     the      239.0      280.0            -41.0\n",
       "69   does        9.0       33.0            -24.0\n",
       "21    you       24.0       47.0            -23.0\n",
       "11    was       36.0       54.0            -18.0\n",
       "..    ...        ...        ...              ...\n",
       "5    very       69.0       35.0             34.0\n",
       "9   works       46.0        1.0             45.0\n",
       "7    good       65.0       13.0             52.0\n",
       "1     and      189.0      122.0             67.0\n",
       "3   great       94.0        5.0             89.0\n",
       "\n",
       "[1750 rows x 4 columns]"
      ]
     },
     "execution_count": 510,
     "metadata": {},
     "output_type": "execute_result"
    }
   ],
   "source": [
    "all_words"
   ]
  },
  {
   "cell_type": "code",
   "execution_count": 511,
   "metadata": {
    "ExecuteTime": {
     "end_time": "2020-01-03T17:32:31.292744Z",
     "start_time": "2020-01-03T17:32:31.284908Z"
    }
   },
   "outputs": [
    {
     "data": {
      "text/plain": [
       "array([\"'ll\", 's***', \"'re\", \"'ve\"], dtype=object)"
      ]
     },
     "execution_count": 511,
     "metadata": {},
     "output_type": "execute_result"
    }
   ],
   "source": [
    "all_words['word'].loc[(all_words['word'].str.isalpha(\n",
    ") == False) & (abs(all_words['sentiment_score']) > 0)].values"
   ]
  },
  {
   "cell_type": "code",
   "execution_count": 512,
   "metadata": {
    "ExecuteTime": {
     "end_time": "2020-01-03T17:32:34.335688Z",
     "start_time": "2020-01-03T17:32:34.331421Z"
    }
   },
   "outputs": [],
   "source": [
    "def keyword_builder(n_pos, n_neg):\n",
    "    \n",
    "    positive_key_words, negative_key_words = [], []\n",
    "    \n",
    "    if n_pos > 0:\n",
    "        positive_key_words = list(all_words['word'][-n_pos:].values)\n",
    "        \n",
    "    if n_neg > 0:\n",
    "        negative_key_words = list(all_words['word'][:n_neg].values)\n",
    "    \n",
    "    keywords = positive_key_words + negative_key_words\n",
    "    \n",
    "    return keywords"
   ]
  },
  {
   "cell_type": "code",
   "execution_count": 513,
   "metadata": {
    "ExecuteTime": {
     "end_time": "2020-01-03T17:32:36.735360Z",
     "start_time": "2020-01-03T17:32:36.679481Z"
    }
   },
   "outputs": [
    {
     "data": {
      "text/plain": [
       "0.68"
      ]
     },
     "execution_count": 513,
     "metadata": {},
     "output_type": "execute_result"
    }
   ],
   "source": [
    "keywords_amazon = keyword_builder(9, 9)\n",
    "\n",
    "create_fit_model(amazon, keywords_amazon)"
   ]
  },
  {
   "cell_type": "code",
   "execution_count": 514,
   "metadata": {
    "ExecuteTime": {
     "end_time": "2020-01-03T17:33:02.305893Z",
     "start_time": "2020-01-03T17:32:38.278023Z"
    }
   },
   "outputs": [
    {
     "name": "stdout",
     "output_type": "stream",
     "text": [
      "Accuracy: 0.696 (n_pos = 10, n_neg = 10)\n",
      "Accuracy: 0.76 (n_pos = 20, n_neg = 20)\n",
      "Accuracy: 0.764 (n_pos = 30, n_neg = 30)\n",
      "Accuracy: 0.792 (n_pos = 40, n_neg = 40)\n",
      "Accuracy: 0.816 (n_pos = 50, n_neg = 50)\n",
      "Accuracy: 0.84 (n_pos = 60, n_neg = 60)\n",
      "Accuracy: 0.832 (n_pos = 70, n_neg = 70)\n",
      "Accuracy: 0.828 (n_pos = 80, n_neg = 80)\n",
      "Accuracy: 0.824 (n_pos = 90, n_neg = 90)\n",
      "Accuracy: 0.84 (n_pos = 100, n_neg = 100)\n",
      "Accuracy: 0.844 (n_pos = 110, n_neg = 110)\n"
     ]
    }
   ],
   "source": [
    "accuracy_dict_all = dict()\n",
    "\n",
    "for i in range(1, 120):\n",
    "    accuracy_dict_all[i] = create_fit_model(amazon, keyword_builder(i, i))\n",
    "    \n",
    "    if i % 10 == 0:\n",
    "        print('Accuracy: {} (n_pos = {}, n_neg = {})'.format(accuracy_dict_all[i], i, i))"
   ]
  },
  {
   "cell_type": "code",
   "execution_count": 515,
   "metadata": {
    "ExecuteTime": {
     "end_time": "2020-01-03T17:33:27.327859Z",
     "start_time": "2020-01-03T17:33:14.417111Z"
    }
   },
   "outputs": [
    {
     "name": "stdout",
     "output_type": "stream",
     "text": [
      "Accuracy: 0.68 (n_pos = 10, n_neg = 0)\n",
      "Accuracy: 0.744 (n_pos = 20, n_neg = 0)\n",
      "Accuracy: 0.712 (n_pos = 30, n_neg = 0)\n",
      "Accuracy: 0.744 (n_pos = 40, n_neg = 0)\n",
      "Accuracy: 0.752 (n_pos = 50, n_neg = 0)\n",
      "Accuracy: 0.76 (n_pos = 60, n_neg = 0)\n",
      "Accuracy: 0.756 (n_pos = 70, n_neg = 0)\n",
      "Accuracy: 0.752 (n_pos = 80, n_neg = 0)\n",
      "Accuracy: 0.76 (n_pos = 90, n_neg = 0)\n",
      "Accuracy: 0.76 (n_pos = 100, n_neg = 0)\n",
      "Accuracy: 0.76 (n_pos = 110, n_neg = 0)\n"
     ]
    }
   ],
   "source": [
    "accuracy_dict_only_pos = dict()\n",
    "\n",
    "for i in range(1, 120):\n",
    "    accuracy_dict_only_pos[i] = create_fit_model(amazon, keyword_builder(i, 0))\n",
    "    \n",
    "    if i % 10 == 0:\n",
    "        print('Accuracy: {} (n_pos = {}, n_neg = {})'.format(accuracy_dict_only_pos[i], i, 0))"
   ]
  },
  {
   "cell_type": "code",
   "execution_count": 516,
   "metadata": {
    "ExecuteTime": {
     "end_time": "2020-01-03T17:33:39.813178Z",
     "start_time": "2020-01-03T17:33:27.329771Z"
    }
   },
   "outputs": [
    {
     "name": "stdout",
     "output_type": "stream",
     "text": [
      "Accuracy: 0.624 (n_pos = 0, n_neg = 10)\n",
      "Accuracy: 0.704 (n_pos = 0, n_neg = 20)\n",
      "Accuracy: 0.744 (n_pos = 0, n_neg = 30)\n",
      "Accuracy: 0.756 (n_pos = 0, n_neg = 40)\n",
      "Accuracy: 0.74 (n_pos = 0, n_neg = 50)\n",
      "Accuracy: 0.744 (n_pos = 0, n_neg = 60)\n",
      "Accuracy: 0.752 (n_pos = 0, n_neg = 70)\n",
      "Accuracy: 0.756 (n_pos = 0, n_neg = 80)\n",
      "Accuracy: 0.744 (n_pos = 0, n_neg = 90)\n",
      "Accuracy: 0.756 (n_pos = 0, n_neg = 100)\n",
      "Accuracy: 0.756 (n_pos = 0, n_neg = 110)\n"
     ]
    }
   ],
   "source": [
    "accuracy_dict_only_neg = dict()\n",
    "\n",
    "for i in range(1, 120):\n",
    "    accuracy_dict_only_neg[i] = create_fit_model(amazon, keyword_builder(0, i))\n",
    "    \n",
    "    if i % 10 == 0:\n",
    "        print('Accuracy: {} (n_pos = {}, n_neg = {})'.format(accuracy_dict_only_neg[i], 0, i))"
   ]
  },
  {
   "cell_type": "code",
   "execution_count": 517,
   "metadata": {
    "ExecuteTime": {
     "end_time": "2020-01-03T17:33:40.077828Z",
     "start_time": "2020-01-03T17:33:39.815307Z"
    }
   },
   "outputs": [
    {
     "data": {
      "image/png": "[encoded data removed]",
      "text/plain": [
       "<Figure size 576x360 with 1 Axes>"
      ]
     },
     "metadata": {
      "needs_background": "light"
     },
     "output_type": "display_data"
    }
   ],
   "source": [
    "plt.figure(figsize= (8, 5))\n",
    "\n",
    "x, y = zip(*accuracy_dict_all.items())\n",
    "plt.plot(x, y, label = 'positive and negative words')\n",
    "\n",
    "x_pos, y_pos = zip(*accuracy_dict_only_pos.items())\n",
    "plt.plot(x_pos, y_pos, label = 'only positive words')\n",
    "\n",
    "x_neg, y_neg = zip(*accuracy_dict_only_neg.items())\n",
    "plt.plot(x_neg, y_neg, label = 'only negative words')\n",
    "\n",
    "plt.legend()\n",
    "plt.grid()\n",
    "plt.ylabel('Accuracy on the test datasets')\n",
    "plt.xlabel('Number of words used')\n",
    "plt.show()"
   ]
  },
  {
   "cell_type": "markdown",
   "metadata": {},
   "source": [
    "We notice that the 80% accuracy threshold is broken around the ~45 positive and 45 negative word mark, and as such, we will use that as our best model."
   ]
  },
  {
   "cell_type": "code",
   "execution_count": 518,
   "metadata": {
    "ExecuteTime": {
     "end_time": "2020-01-03T17:33:40.300418Z",
     "start_time": "2020-01-03T17:33:40.080214Z"
    }
   },
   "outputs": [
    {
     "name": "stdout",
     "output_type": "stream",
     "text": [
      "Model with 0.808 accuracy is returned.\n"
     ]
    }
   ],
   "source": [
    "model_v2 = create_fit_model(amazon, keyword_builder(45, 45), return_model=True)"
   ]
  },
  {
   "cell_type": "markdown",
   "metadata": {},
   "source": [
    "We now experiment with `n_pos` and `n_neg` values around i = 45 to further fine-tune the model. Our goal is to find the least number of words that provide at least 80% sentiment prediction."
   ]
  },
  {
   "cell_type": "code",
   "execution_count": 520,
   "metadata": {
    "ExecuteTime": {
     "end_time": "2020-01-03T17:37:07.564242Z",
     "start_time": "2020-01-03T17:35:31.643651Z"
    },
    "scrolled": false
   },
   "outputs": [
    {
     "name": "stdout",
     "output_type": "stream",
     "text": [
      "Accuracy: 0.808 (n_pos = 25, n_neg = 36, word_sum = 61) **\n",
      "Accuracy: 0.808 (n_pos = 25, n_neg = 37, word_sum = 62)\n",
      "Accuracy: 0.804 (n_pos = 25, n_neg = 38, word_sum = 63)\n",
      "Accuracy: 0.808 (n_pos = 26, n_neg = 36, word_sum = 62)\n",
      "Accuracy: 0.808 (n_pos = 26, n_neg = 37, word_sum = 63)\n",
      "Accuracy: 0.804 (n_pos = 26, n_neg = 38, word_sum = 64)\n",
      "Accuracy: 0.804 (n_pos = 26, n_neg = 39, word_sum = 65)\n"
     ]
    }
   ],
   "source": [
    "accuracy_to_beat = 0.8\n",
    "\n",
    "sum_to_beat = 45 + 45\n",
    "lowest_so_far = sum_to_beat\n",
    "\n",
    "accuracy_dict_fine_tune = dict()\n",
    "\n",
    "for i in range(25, 55):\n",
    "    for j in range(25, 55):\n",
    "        if i + j >= sum_to_beat:\n",
    "            continue\n",
    "        \n",
    "        accuracy = create_fit_model(amazon, keyword_builder(i, j)) \n",
    "        word_sum = i + j\n",
    "        \n",
    "        if accuracy > accuracy_to_beat:    \n",
    "            accuracy_dict_fine_tune[i, j] = accuracy\n",
    "            \n",
    "            if (word_sum < lowest_so_far):\n",
    "                lowest_so_far = word_sum\n",
    "                print('Accuracy: {} (n_pos = {}, n_neg = {}, word_sum = {}) **'.format(accuracy, i, j, word_sum))\n",
    "            elif (abs(word_sum - lowest_so_far) <= 5):\n",
    "                print('Accuracy: {} (n_pos = {}, n_neg = {}, word_sum = {})'.format(accuracy, i, j, word_sum))"
   ]
  },
  {
   "cell_type": "markdown",
   "metadata": {},
   "source": [
    "We notice that `n_pos` = 25 and `n_neg` = 36 are provide the lowest possible number of keywords that predict the sentiment with at least 80% prediction accuracy. These are the following words:"
   ]
  },
  {
   "cell_type": "code",
   "execution_count": 521,
   "metadata": {
    "ExecuteTime": {
     "end_time": "2020-01-03T17:37:19.646052Z",
     "start_time": "2020-01-03T17:37:19.635186Z"
    }
   },
   "outputs": [
    {
     "data": {
      "text/html": [
       "<div>\n",
       "<style scoped>\n",
       "    .dataframe tbody tr th:only-of-type {\n",
       "        vertical-align: middle;\n",
       "    }\n",
       "\n",
       "    .dataframe tbody tr th {\n",
       "        vertical-align: top;\n",
       "    }\n",
       "\n",
       "    .dataframe thead th {\n",
       "        text-align: right;\n",
       "    }\n",
       "</style>\n",
       "<table border=\"1\" class=\"dataframe\">\n",
       "  <thead>\n",
       "    <tr style=\"text-align: right;\">\n",
       "      <th></th>\n",
       "      <th>word</th>\n",
       "      <th>sentiment_score</th>\n",
       "    </tr>\n",
       "  </thead>\n",
       "  <tbody>\n",
       "    <tr>\n",
       "      <th>3</th>\n",
       "      <td>great</td>\n",
       "      <td>89.0</td>\n",
       "    </tr>\n",
       "    <tr>\n",
       "      <th>1</th>\n",
       "      <td>and</td>\n",
       "      <td>67.0</td>\n",
       "    </tr>\n",
       "    <tr>\n",
       "      <th>7</th>\n",
       "      <td>good</td>\n",
       "      <td>52.0</td>\n",
       "    </tr>\n",
       "    <tr>\n",
       "      <th>9</th>\n",
       "      <td>works</td>\n",
       "      <td>45.0</td>\n",
       "    </tr>\n",
       "    <tr>\n",
       "      <th>5</th>\n",
       "      <td>very</td>\n",
       "      <td>34.0</td>\n",
       "    </tr>\n",
       "    <tr>\n",
       "      <th>12</th>\n",
       "      <td>well</td>\n",
       "      <td>28.0</td>\n",
       "    </tr>\n",
       "    <tr>\n",
       "      <th>18</th>\n",
       "      <td>excellent</td>\n",
       "      <td>25.0</td>\n",
       "    </tr>\n",
       "    <tr>\n",
       "      <th>19</th>\n",
       "      <td>price</td>\n",
       "      <td>23.0</td>\n",
       "    </tr>\n",
       "    <tr>\n",
       "      <th>25</th>\n",
       "      <td>nice</td>\n",
       "      <td>22.0</td>\n",
       "    </tr>\n",
       "    <tr>\n",
       "      <th>32</th>\n",
       "      <td>love</td>\n",
       "      <td>20.0</td>\n",
       "    </tr>\n",
       "  </tbody>\n",
       "</table>\n",
       "</div>"
      ],
      "text/plain": [
       "         word  sentiment_score\n",
       "3       great             89.0\n",
       "1         and             67.0\n",
       "7        good             52.0\n",
       "9       works             45.0\n",
       "5        very             34.0\n",
       "12       well             28.0\n",
       "18  excellent             25.0\n",
       "19      price             23.0\n",
       "25       nice             22.0\n",
       "32       love             20.0"
      ]
     },
     "execution_count": 521,
     "metadata": {},
     "output_type": "execute_result"
    }
   ],
   "source": [
    "pos_features = all_words[-25:][['word', 'sentiment_score']].sort_values(by = 'sentiment_score', ascending = False)\n",
    "pos_features[:10]"
   ]
  },
  {
   "cell_type": "code",
   "execution_count": 522,
   "metadata": {
    "ExecuteTime": {
     "end_time": "2020-01-03T17:37:19.658675Z",
     "start_time": "2020-01-03T17:37:19.648365Z"
    },
    "scrolled": false
   },
   "outputs": [
    {
     "data": {
      "text/html": [
       "<div>\n",
       "<style scoped>\n",
       "    .dataframe tbody tr th:only-of-type {\n",
       "        vertical-align: middle;\n",
       "    }\n",
       "\n",
       "    .dataframe tbody tr th {\n",
       "        vertical-align: top;\n",
       "    }\n",
       "\n",
       "    .dataframe thead th {\n",
       "        text-align: right;\n",
       "    }\n",
       "</style>\n",
       "<table border=\"1\" class=\"dataframe\">\n",
       "  <thead>\n",
       "    <tr style=\"text-align: right;\">\n",
       "      <th></th>\n",
       "      <th>word</th>\n",
       "      <th>sentiment_score</th>\n",
       "    </tr>\n",
       "  </thead>\n",
       "  <tbody>\n",
       "    <tr>\n",
       "      <th>22</th>\n",
       "      <td>not</td>\n",
       "      <td>-120.0</td>\n",
       "    </tr>\n",
       "    <tr>\n",
       "      <th>0</th>\n",
       "      <td>the</td>\n",
       "      <td>-41.0</td>\n",
       "    </tr>\n",
       "    <tr>\n",
       "      <th>69</th>\n",
       "      <td>does</td>\n",
       "      <td>-24.0</td>\n",
       "    </tr>\n",
       "    <tr>\n",
       "      <th>21</th>\n",
       "      <td>you</td>\n",
       "      <td>-23.0</td>\n",
       "    </tr>\n",
       "    <tr>\n",
       "      <th>11</th>\n",
       "      <td>was</td>\n",
       "      <td>-18.0</td>\n",
       "    </tr>\n",
       "    <tr>\n",
       "      <th>1017</th>\n",
       "      <td>money</td>\n",
       "      <td>-17.0</td>\n",
       "    </tr>\n",
       "    <tr>\n",
       "      <th>14</th>\n",
       "      <td>that</td>\n",
       "      <td>-16.0</td>\n",
       "    </tr>\n",
       "    <tr>\n",
       "      <th>70</th>\n",
       "      <td>work</td>\n",
       "      <td>-16.0</td>\n",
       "    </tr>\n",
       "    <tr>\n",
       "      <th>1044</th>\n",
       "      <td>poor</td>\n",
       "      <td>-15.0</td>\n",
       "    </tr>\n",
       "    <tr>\n",
       "      <th>397</th>\n",
       "      <td>first</td>\n",
       "      <td>-15.0</td>\n",
       "    </tr>\n",
       "  </tbody>\n",
       "</table>\n",
       "</div>"
      ],
      "text/plain": [
       "       word  sentiment_score\n",
       "22      not           -120.0\n",
       "0       the            -41.0\n",
       "69     does            -24.0\n",
       "21      you            -23.0\n",
       "11      was            -18.0\n",
       "1017  money            -17.0\n",
       "14     that            -16.0\n",
       "70     work            -16.0\n",
       "1044   poor            -15.0\n",
       "397   first            -15.0"
      ]
     },
     "execution_count": 522,
     "metadata": {},
     "output_type": "execute_result"
    }
   ],
   "source": [
    "neg_features = all_words[:36][['word', 'sentiment_score']].sort_values(by = 'sentiment_score', ascending = True)\n",
    "neg_features[:10]"
   ]
  },
  {
   "cell_type": "code",
   "execution_count": 523,
   "metadata": {
    "ExecuteTime": {
     "end_time": "2020-01-03T17:37:19.665885Z",
     "start_time": "2020-01-03T17:37:19.661140Z"
    }
   },
   "outputs": [
    {
     "data": {
      "text/plain": [
       "61"
      ]
     },
     "execution_count": 523,
     "metadata": {},
     "output_type": "execute_result"
    }
   ],
   "source": [
    "features = list(pos_features['word'].unique()) + list(neg_features['word'].unique())\n",
    "len(features)"
   ]
  },
  {
   "cell_type": "markdown",
   "metadata": {},
   "source": [
    "## Saving the amazon model"
   ]
  },
  {
   "cell_type": "code",
   "execution_count": 524,
   "metadata": {
    "ExecuteTime": {
     "end_time": "2020-01-03T17:37:19.830247Z",
     "start_time": "2020-01-03T17:37:19.668077Z"
    }
   },
   "outputs": [
    {
     "name": "stdout",
     "output_type": "stream",
     "text": [
      "Model with 0.808 accuracy is returned.\n"
     ]
    }
   ],
   "source": [
    "keywords_amazon = keyword_builder(n_pos=25, n_neg=36)\n",
    "\n",
    "final_model_amazon = create_fit_model(\n",
    "    amazon, keywords_amazon, return_model=True)"
   ]
  },
  {
   "cell_type": "markdown",
   "metadata": {},
   "source": [
    "## Testing the Amazon model on the Yelp and IMDb datasets"
   ]
  },
  {
   "cell_type": "code",
   "execution_count": 525,
   "metadata": {
    "ExecuteTime": {
     "end_time": "2020-01-03T17:37:19.840607Z",
     "start_time": "2020-01-03T17:37:19.832558Z"
    }
   },
   "outputs": [
    {
     "data": {
      "text/html": [
       "<div>\n",
       "<style scoped>\n",
       "    .dataframe tbody tr th:only-of-type {\n",
       "        vertical-align: middle;\n",
       "    }\n",
       "\n",
       "    .dataframe tbody tr th {\n",
       "        vertical-align: top;\n",
       "    }\n",
       "\n",
       "    .dataframe thead th {\n",
       "        text-align: right;\n",
       "    }\n",
       "</style>\n",
       "<table border=\"1\" class=\"dataframe\">\n",
       "  <thead>\n",
       "    <tr style=\"text-align: right;\">\n",
       "      <th></th>\n",
       "      <th>comment</th>\n",
       "      <th>positive</th>\n",
       "      <th>word_count</th>\n",
       "    </tr>\n",
       "  </thead>\n",
       "  <tbody>\n",
       "    <tr>\n",
       "      <th>0</th>\n",
       "      <td>wow    loved this place</td>\n",
       "      <td>True</td>\n",
       "      <td>4</td>\n",
       "    </tr>\n",
       "    <tr>\n",
       "      <th>1</th>\n",
       "      <td>crust is not good</td>\n",
       "      <td>False</td>\n",
       "      <td>4</td>\n",
       "    </tr>\n",
       "    <tr>\n",
       "      <th>2</th>\n",
       "      <td>not tasty and the texture was just nasty</td>\n",
       "      <td>False</td>\n",
       "      <td>8</td>\n",
       "    </tr>\n",
       "    <tr>\n",
       "      <th>3</th>\n",
       "      <td>stopped by during the late may bank holiday of...</td>\n",
       "      <td>True</td>\n",
       "      <td>15</td>\n",
       "    </tr>\n",
       "    <tr>\n",
       "      <th>4</th>\n",
       "      <td>the selection on the menu was great and so wer...</td>\n",
       "      <td>True</td>\n",
       "      <td>12</td>\n",
       "    </tr>\n",
       "  </tbody>\n",
       "</table>\n",
       "</div>"
      ],
      "text/plain": [
       "                                             comment  positive  word_count\n",
       "0                           wow    loved this place       True           4\n",
       "1                                 crust is not good      False           4\n",
       "2          not tasty and the texture was just nasty      False           8\n",
       "3  stopped by during the late may bank holiday of...      True          15\n",
       "4  the selection on the menu was great and so wer...      True          12"
      ]
     },
     "execution_count": 525,
     "metadata": {},
     "output_type": "execute_result"
    }
   ],
   "source": [
    "yelp.head()"
   ]
  },
  {
   "cell_type": "code",
   "execution_count": 526,
   "metadata": {
    "ExecuteTime": {
     "end_time": "2020-01-03T17:37:19.956349Z",
     "start_time": "2020-01-03T17:37:19.842671Z"
    },
    "code_folding": []
   },
   "outputs": [
    {
     "data": {
      "text/html": [
       "<div>\n",
       "<style scoped>\n",
       "    .dataframe tbody tr th:only-of-type {\n",
       "        vertical-align: middle;\n",
       "    }\n",
       "\n",
       "    .dataframe tbody tr th {\n",
       "        vertical-align: top;\n",
       "    }\n",
       "\n",
       "    .dataframe thead th {\n",
       "        text-align: right;\n",
       "    }\n",
       "</style>\n",
       "<table border=\"1\" class=\"dataframe\">\n",
       "  <thead>\n",
       "    <tr style=\"text-align: right;\">\n",
       "      <th></th>\n",
       "      <th>comment</th>\n",
       "      <th>good</th>\n",
       "      <th>great</th>\n",
       "      <th>not</th>\n",
       "      <th>the</th>\n",
       "    </tr>\n",
       "  </thead>\n",
       "  <tbody>\n",
       "    <tr>\n",
       "      <th>0</th>\n",
       "      <td>wow    loved this place</td>\n",
       "      <td>0</td>\n",
       "      <td>0</td>\n",
       "      <td>0</td>\n",
       "      <td>0</td>\n",
       "    </tr>\n",
       "    <tr>\n",
       "      <th>1</th>\n",
       "      <td>crust is not good</td>\n",
       "      <td>1</td>\n",
       "      <td>0</td>\n",
       "      <td>1</td>\n",
       "      <td>0</td>\n",
       "    </tr>\n",
       "    <tr>\n",
       "      <th>2</th>\n",
       "      <td>not tasty and the texture was just nasty</td>\n",
       "      <td>0</td>\n",
       "      <td>0</td>\n",
       "      <td>1</td>\n",
       "      <td>1</td>\n",
       "    </tr>\n",
       "    <tr>\n",
       "      <th>3</th>\n",
       "      <td>stopped by during the late may bank holiday of...</td>\n",
       "      <td>0</td>\n",
       "      <td>0</td>\n",
       "      <td>0</td>\n",
       "      <td>1</td>\n",
       "    </tr>\n",
       "    <tr>\n",
       "      <th>4</th>\n",
       "      <td>the selection on the menu was great and so wer...</td>\n",
       "      <td>0</td>\n",
       "      <td>1</td>\n",
       "      <td>0</td>\n",
       "      <td>3</td>\n",
       "    </tr>\n",
       "    <tr>\n",
       "      <th>...</th>\n",
       "      <td>...</td>\n",
       "      <td>...</td>\n",
       "      <td>...</td>\n",
       "      <td>...</td>\n",
       "      <td>...</td>\n",
       "    </tr>\n",
       "    <tr>\n",
       "      <th>995</th>\n",
       "      <td>i think food should have flavor and texture an...</td>\n",
       "      <td>0</td>\n",
       "      <td>0</td>\n",
       "      <td>0</td>\n",
       "      <td>0</td>\n",
       "    </tr>\n",
       "    <tr>\n",
       "      <th>996</th>\n",
       "      <td>appetite instantly gone</td>\n",
       "      <td>0</td>\n",
       "      <td>0</td>\n",
       "      <td>0</td>\n",
       "      <td>0</td>\n",
       "    </tr>\n",
       "    <tr>\n",
       "      <th>997</th>\n",
       "      <td>overall i was not impressed and would not go b...</td>\n",
       "      <td>0</td>\n",
       "      <td>0</td>\n",
       "      <td>2</td>\n",
       "      <td>0</td>\n",
       "    </tr>\n",
       "    <tr>\n",
       "      <th>998</th>\n",
       "      <td>the whole experience was underwhelming, and i ...</td>\n",
       "      <td>0</td>\n",
       "      <td>0</td>\n",
       "      <td>0</td>\n",
       "      <td>1</td>\n",
       "    </tr>\n",
       "    <tr>\n",
       "      <th>999</th>\n",
       "      <td>then, as if i hadnot wasted enough of my life ...</td>\n",
       "      <td>0</td>\n",
       "      <td>0</td>\n",
       "      <td>1</td>\n",
       "      <td>6</td>\n",
       "    </tr>\n",
       "  </tbody>\n",
       "</table>\n",
       "<p>1000 rows × 5 columns</p>\n",
       "</div>"
      ],
      "text/plain": [
       "                                               comment  good  great  not  the\n",
       "0                             wow    loved this place      0      0    0    0\n",
       "1                                   crust is not good      1      0    1    0\n",
       "2            not tasty and the texture was just nasty      0      0    1    1\n",
       "3    stopped by during the late may bank holiday of...     0      0    0    1\n",
       "4    the selection on the menu was great and so wer...     0      1    0    3\n",
       "..                                                 ...   ...    ...  ...  ...\n",
       "995  i think food should have flavor and texture an...     0      0    0    0\n",
       "996                           appetite instantly gone      0      0    0    0\n",
       "997  overall i was not impressed and would not go b...     0      0    2    0\n",
       "998  the whole experience was underwhelming, and i ...     0      0    0    1\n",
       "999  then, as if i hadnot wasted enough of my life ...     0      0    1    6\n",
       "\n",
       "[1000 rows x 5 columns]"
      ]
     },
     "execution_count": 526,
     "metadata": {},
     "output_type": "execute_result"
    }
   ],
   "source": [
    "yelp['sent_length'] = pd.cut(yelp['word_count'], bins=3, labels=[\n",
    "                               'short', 'mean_length', 'long'])\n",
    "\n",
    "yelp = pd.concat([yelp, pd.get_dummies(yelp['sent_length'])], axis=1)\n",
    "yelp.drop(columns = ['sent_length'], inplace = True)\n",
    "\n",
    "yelp = yelp.reindex(list(yelp) + features, axis= 1)\n",
    "\n",
    "for f in features:\n",
    "    yelp[f] = yelp['comment'].str.count(f)\n",
    "\n",
    "yelp[['comment', 'good', 'great', 'not', 'the']]"
   ]
  },
  {
   "cell_type": "code",
   "execution_count": 527,
   "metadata": {
    "ExecuteTime": {
     "end_time": "2020-01-03T17:37:20.079283Z",
     "start_time": "2020-01-03T17:37:19.958332Z"
    }
   },
   "outputs": [
    {
     "data": {
      "text/html": [
       "<div>\n",
       "<style scoped>\n",
       "    .dataframe tbody tr th:only-of-type {\n",
       "        vertical-align: middle;\n",
       "    }\n",
       "\n",
       "    .dataframe tbody tr th {\n",
       "        vertical-align: top;\n",
       "    }\n",
       "\n",
       "    .dataframe thead th {\n",
       "        text-align: right;\n",
       "    }\n",
       "</style>\n",
       "<table border=\"1\" class=\"dataframe\">\n",
       "  <thead>\n",
       "    <tr style=\"text-align: right;\">\n",
       "      <th></th>\n",
       "      <th>comment</th>\n",
       "      <th>good</th>\n",
       "      <th>great</th>\n",
       "      <th>not</th>\n",
       "      <th>the</th>\n",
       "    </tr>\n",
       "  </thead>\n",
       "  <tbody>\n",
       "    <tr>\n",
       "      <th>0</th>\n",
       "      <td>a very, very, very slow moving, aimless movie ...</td>\n",
       "      <td>0</td>\n",
       "      <td>0</td>\n",
       "      <td>0</td>\n",
       "      <td>0</td>\n",
       "    </tr>\n",
       "    <tr>\n",
       "      <th>1</th>\n",
       "      <td>not sure who was more lost   the flat characte...</td>\n",
       "      <td>0</td>\n",
       "      <td>0</td>\n",
       "      <td>1</td>\n",
       "      <td>2</td>\n",
       "    </tr>\n",
       "    <tr>\n",
       "      <th>2</th>\n",
       "      <td>attempting artiness with black &amp; white and cle...</td>\n",
       "      <td>0</td>\n",
       "      <td>0</td>\n",
       "      <td>0</td>\n",
       "      <td>3</td>\n",
       "    </tr>\n",
       "    <tr>\n",
       "      <th>3</th>\n",
       "      <td>very little music or anything to speak of</td>\n",
       "      <td>0</td>\n",
       "      <td>0</td>\n",
       "      <td>0</td>\n",
       "      <td>0</td>\n",
       "    </tr>\n",
       "    <tr>\n",
       "      <th>4</th>\n",
       "      <td>the best scene in the movie was when gerardo i...</td>\n",
       "      <td>0</td>\n",
       "      <td>0</td>\n",
       "      <td>0</td>\n",
       "      <td>2</td>\n",
       "    </tr>\n",
       "    <tr>\n",
       "      <th>...</th>\n",
       "      <td>...</td>\n",
       "      <td>...</td>\n",
       "      <td>...</td>\n",
       "      <td>...</td>\n",
       "      <td>...</td>\n",
       "    </tr>\n",
       "    <tr>\n",
       "      <th>743</th>\n",
       "      <td>i just got bored watching jessice lange take h...</td>\n",
       "      <td>0</td>\n",
       "      <td>0</td>\n",
       "      <td>0</td>\n",
       "      <td>1</td>\n",
       "    </tr>\n",
       "    <tr>\n",
       "      <th>744</th>\n",
       "      <td>unfortunately, any virtue in this film's produ...</td>\n",
       "      <td>0</td>\n",
       "      <td>0</td>\n",
       "      <td>0</td>\n",
       "      <td>0</td>\n",
       "    </tr>\n",
       "    <tr>\n",
       "      <th>745</th>\n",
       "      <td>in a word, it is embarrassing</td>\n",
       "      <td>0</td>\n",
       "      <td>0</td>\n",
       "      <td>0</td>\n",
       "      <td>0</td>\n",
       "    </tr>\n",
       "    <tr>\n",
       "      <th>746</th>\n",
       "      <td>exceptionally bad!</td>\n",
       "      <td>0</td>\n",
       "      <td>0</td>\n",
       "      <td>0</td>\n",
       "      <td>0</td>\n",
       "    </tr>\n",
       "    <tr>\n",
       "      <th>747</th>\n",
       "      <td>all in all its an insult to one's intelligence...</td>\n",
       "      <td>0</td>\n",
       "      <td>0</td>\n",
       "      <td>0</td>\n",
       "      <td>0</td>\n",
       "    </tr>\n",
       "  </tbody>\n",
       "</table>\n",
       "<p>748 rows × 5 columns</p>\n",
       "</div>"
      ],
      "text/plain": [
       "                                               comment  good  great  not  the\n",
       "0    a very, very, very slow moving, aimless movie ...     0      0    0    0\n",
       "1    not sure who was more lost   the flat characte...     0      0    1    2\n",
       "2    attempting artiness with black & white and cle...     0      0    0    3\n",
       "3         very little music or anything to speak of        0      0    0    0\n",
       "4    the best scene in the movie was when gerardo i...     0      0    0    2\n",
       "..                                                 ...   ...    ...  ...  ...\n",
       "743  i just got bored watching jessice lange take h...     0      0    0    1\n",
       "744  unfortunately, any virtue in this film's produ...     0      0    0    0\n",
       "745                   in a word, it is embarrassing        0      0    0    0\n",
       "746                               exceptionally bad!       0      0    0    0\n",
       "747  all in all its an insult to one's intelligence...     0      0    0    0\n",
       "\n",
       "[748 rows x 5 columns]"
      ]
     },
     "execution_count": 527,
     "metadata": {},
     "output_type": "execute_result"
    }
   ],
   "source": [
    "imdb['sent_length'] = pd.cut(imdb['word_count'], bins=3, labels=[\n",
    "                               'short', 'mean_length', 'long'])\n",
    "\n",
    "imdb = pd.concat([imdb, pd.get_dummies(imdb['sent_length'])], axis=1)\n",
    "imdb.drop(columns = ['sent_length'], inplace = True)\n",
    "\n",
    "for f in features:\n",
    "    imdb[f] = imdb['comment'].str.count(f)\n",
    "    \n",
    "imdb[['comment', 'good', 'great', 'not', 'the']]"
   ]
  },
  {
   "cell_type": "code",
   "execution_count": 528,
   "metadata": {
    "ExecuteTime": {
     "end_time": "2020-01-03T17:37:20.093144Z",
     "start_time": "2020-01-03T17:37:20.082654Z"
    }
   },
   "outputs": [
    {
     "data": {
      "text/plain": [
       "0.51"
      ]
     },
     "execution_count": 528,
     "metadata": {},
     "output_type": "execute_result"
    }
   ],
   "source": [
    "cols = list(yelp.columns)\n",
    "cols.remove('comment')\n",
    "cols.remove('positive')\n",
    "\n",
    "X_yelp = yelp[cols]\n",
    "Y_yelp = yelp['positive']\n",
    "\n",
    "pred = final_model_amazon.predict(X_yelp)\n",
    "accuracy = sum(pred == Y_yelp)/len(Y_yelp)\n",
    "accuracy"
   ]
  },
  {
   "cell_type": "code",
   "execution_count": 529,
   "metadata": {
    "ExecuteTime": {
     "end_time": "2020-01-03T17:37:20.104633Z",
     "start_time": "2020-01-03T17:37:20.095114Z"
    }
   },
   "outputs": [
    {
     "data": {
      "text/plain": [
       "0.4732620320855615"
      ]
     },
     "execution_count": 529,
     "metadata": {},
     "output_type": "execute_result"
    }
   ],
   "source": [
    "cols = list(imdb.columns)\n",
    "cols.remove('comment')\n",
    "cols.remove('positive')\n",
    "\n",
    "X_imdb = imdb[cols]\n",
    "Y_imdb = imdb['positive']\n",
    "\n",
    "pred = final_model_amazon.predict(X_imdb)\n",
    "accuracy = sum(pred == Y_imdb)/len(Y_imdb)\n",
    "accuracy"
   ]
  },
  {
   "cell_type": "markdown",
   "metadata": {},
   "source": [
    "As expected, the amazon comments sentiment classifier is highly irrelevant to the IMDb and Yelp datasets, and the prediction accuracy is no greater than the flip of a coin. "
   ]
  }
 ],
 "metadata": {
  "kernelspec": {
   "display_name": "Python 3",
   "language": "python",
   "name": "python3"
  },
  "language_info": {
   "codemirror_mode": {
    "name": "ipython",
    "version": 3
   },
   "file_extension": ".py",
   "mimetype": "text/x-python",
   "name": "python",
   "nbconvert_exporter": "python",
   "pygments_lexer": "ipython3",
   "version": "3.7.5"
  },
  "toc": {
   "base_numbering": 1,
   "nav_menu": {},
   "number_sections": true,
   "sideBar": true,
   "skip_h1_title": true,
   "title_cell": "Table of Contents",
   "title_sidebar": "Contents",
   "toc_cell": true,
   "toc_position": {},
   "toc_section_display": true,
   "toc_window_display": true
  }
 },
 "nbformat": 4,
 "nbformat_minor": 2
}
