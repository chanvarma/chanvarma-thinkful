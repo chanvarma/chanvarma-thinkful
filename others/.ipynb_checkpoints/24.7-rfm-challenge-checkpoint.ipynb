{
 "cells": [
  {
   "cell_type": "markdown",
   "metadata": {},
   "source": [
    "# Checkpoint 24.7 | Random Forest Models\n",
    "\n",
    "Now that you've learned about random forests and decision trees let's do an exercise in accuracy. You know that random forests are basically a collection of decision trees. But how do the accuracies of the two models compare?\n",
    "\n",
    "So here's what you should do. Pick a dataset. It could be one you've worked with before or it could be a new one. Then build the best decision tree you can.\n",
    "\n",
    "Now try to match that with the simplest random forest you can. For our purposes measure simplicity with runtime. Compare that to the runtime of the decision tree. This is imperfect but just go with it.\n",
    "\n",
    "Hopefully out of this you'll see the power of random forests, but also their potential costs. Remember, in the real world you won't necessarily be dealing with thousands of rows. It could be millions, billions, or even more.\n",
    "\n",
    "Submit a link to your models below."
   ]
  },
  {
   "cell_type": "markdown",
   "metadata": {
    "toc": true
   },
   "source": [
    "<h1>Table of Contents<span class=\"tocSkip\"></span></h1>\n",
    "<div class=\"toc\"><ul class=\"toc-item\"><li><span><a href=\"#Imports\" data-toc-modified-id=\"Imports-0\"><span class=\"toc-item-num\">0&nbsp;&nbsp;</span>Imports</a></span></li><li><span><a href=\"#Load-and-prepare-the-dataset\" data-toc-modified-id=\"Load-and-prepare-the-dataset-1\"><span class=\"toc-item-num\">1&nbsp;&nbsp;</span>Load and prepare the dataset</a></span></li><li><span><a href=\"#TALK-ABOUT-DATA-SET\" data-toc-modified-id=\"TALK-ABOUT-DATA-SET-2\"><span class=\"toc-item-num\">2&nbsp;&nbsp;</span>TALK ABOUT DATA SET</a></span><ul class=\"toc-item\"><li><span><a href=\"#Data-cleaning\" data-toc-modified-id=\"Data-cleaning-2.1\"><span class=\"toc-item-num\">2.1&nbsp;&nbsp;</span>Data cleaning</a></span><ul class=\"toc-item\"><li><span><a href=\"#Removing-NaN-rows\" data-toc-modified-id=\"Removing-NaN-rows-2.1.1\"><span class=\"toc-item-num\">2.1.1&nbsp;&nbsp;</span>Removing NaN rows</a></span></li></ul></li><li><span><a href=\"#Dealing-with-highly-unique-columns\" data-toc-modified-id=\"Dealing-with-highly-unique-columns-2.2\"><span class=\"toc-item-num\">2.2&nbsp;&nbsp;</span>Dealing with highly unique columns</a></span><ul class=\"toc-item\"><li><span><a href=\"#Converting-launched--and-deadline-to-datetime-variables\" data-toc-modified-id=\"Converting-launched--and-deadline-to-datetime-variables-2.2.1\"><span class=\"toc-item-num\">2.2.1&nbsp;&nbsp;</span>Converting <code>launched</code>  and <code>deadline</code> to datetime variables</a></span></li></ul></li><li><span><a href=\"#Converting-all-currencies-to-USD\" data-toc-modified-id=\"Converting-all-currencies-to-USD-2.3\"><span class=\"toc-item-num\">2.3&nbsp;&nbsp;</span>Converting all currencies to USD</a></span><ul class=\"toc-item\"><li><span><a href=\"#Converting-name-to-word,-number,-and-punctuation-count\" data-toc-modified-id=\"Converting-name-to-word,-number,-and-punctuation-count-2.3.1\"><span class=\"toc-item-num\">2.3.1&nbsp;&nbsp;</span>Converting <code>name</code> to word, number, and punctuation count</a></span></li></ul></li><li><span><a href=\"#Dropping-unnecessary-columns\" data-toc-modified-id=\"Dropping-unnecessary-columns-2.4\"><span class=\"toc-item-num\">2.4&nbsp;&nbsp;</span>Dropping unnecessary columns</a></span></li><li><span><a href=\"#Splitting-into-X-and-Y-vars\" data-toc-modified-id=\"Splitting-into-X-and-Y-vars-2.5\"><span class=\"toc-item-num\">2.5&nbsp;&nbsp;</span>Splitting into X and Y vars</a></span></li><li><span><a href=\"#Feature-generation\" data-toc-modified-id=\"Feature-generation-2.6\"><span class=\"toc-item-num\">2.6&nbsp;&nbsp;</span>Feature generation</a></span></li></ul></li></ul></div>"
   ]
  },
  {
   "cell_type": "markdown",
   "metadata": {},
   "source": [
    "## Imports"
   ]
  },
  {
   "cell_type": "code",
   "execution_count": 1,
   "metadata": {
    "ExecuteTime": {
     "end_time": "2020-02-22T18:30:55.648982Z",
     "start_time": "2020-02-22T18:30:55.014708Z"
    }
   },
   "outputs": [
    {
     "data": {
      "text/plain": [
       "'0.25.3'"
      ]
     },
     "execution_count": 1,
     "metadata": {},
     "output_type": "execute_result"
    }
   ],
   "source": [
    "import pandas as pd_reg\n",
    "pd_reg.__version__"
   ]
  },
  {
   "cell_type": "code",
   "execution_count": 2,
   "metadata": {
    "ExecuteTime": {
     "end_time": "2020-02-22T18:30:57.649985Z",
     "start_time": "2020-02-22T18:30:55.651014Z"
    }
   },
   "outputs": [],
   "source": [
    "import modin.pandas as pd\n",
    "import numpy as np\n",
    "import matplotlib.pyplot as plt\n",
    "import seaborn as sns\n",
    "\n",
    "%matplotlib inline"
   ]
  },
  {
   "cell_type": "code",
   "execution_count": 3,
   "metadata": {
    "ExecuteTime": {
     "end_time": "2020-02-22T18:30:57.666031Z",
     "start_time": "2020-02-22T18:30:57.659452Z"
    }
   },
   "outputs": [
    {
     "data": {
      "text/plain": [
       "'0.7.0'"
      ]
     },
     "execution_count": 3,
     "metadata": {},
     "output_type": "execute_result"
    }
   ],
   "source": [
    "pd.__version__"
   ]
  },
  {
   "cell_type": "markdown",
   "metadata": {},
   "source": [
    "## Load and prepare the dataset\n",
    "\n",
    "To best illustrate the complexity differences between the two models, I'm going to load a larger data set that I can hopefully compare at different row-counts.\n",
    "\n",
    "## TALK ABOUT DATA SET\n",
    "Target is whether they were state"
   ]
  },
  {
   "cell_type": "code",
   "execution_count": 4,
   "metadata": {
    "ExecuteTime": {
     "end_time": "2020-02-22T18:30:59.660468Z",
     "start_time": "2020-02-22T18:30:57.674070Z"
    }
   },
   "outputs": [
    {
     "data": {
      "text/plain": [
       "(378661, 15)"
      ]
     },
     "execution_count": 4,
     "metadata": {},
     "output_type": "execute_result"
    }
   ],
   "source": [
    "raw = pd.read_csv(\"/Users/chanvarma/Box/datasets-chanvarma/thinkful/kickstarter-projects/ks-projects-201801.csv\")\n",
    "raw.shape"
   ]
  },
  {
   "cell_type": "code",
   "execution_count": 104,
   "metadata": {
    "ExecuteTime": {
     "end_time": "2020-02-22T19:00:54.999970Z",
     "start_time": "2020-02-22T19:00:54.926808Z"
    },
    "scrolled": false
   },
   "outputs": [
    {
     "data": {
      "text/html": [
       "<div>\n",
       "<style scoped>\n",
       "    .dataframe tbody tr th:only-of-type {\n",
       "        vertical-align: middle;\n",
       "    }\n",
       "\n",
       "    .dataframe tbody tr th {\n",
       "        vertical-align: top;\n",
       "    }\n",
       "\n",
       "    .dataframe thead th {\n",
       "        text-align: right;\n",
       "    }\n",
       "</style>\n",
       "<table border=\"1\" class=\"dataframe\">\n",
       "  <thead>\n",
       "    <tr style=\"text-align: right;\">\n",
       "      <th></th>\n",
       "      <th>ID</th>\n",
       "      <th>name</th>\n",
       "      <th>category</th>\n",
       "      <th>main_category</th>\n",
       "      <th>currency</th>\n",
       "      <th>deadline</th>\n",
       "      <th>goal</th>\n",
       "      <th>launched</th>\n",
       "      <th>pledged</th>\n",
       "      <th>state</th>\n",
       "      <th>backers</th>\n",
       "      <th>country</th>\n",
       "      <th>usd pledged</th>\n",
       "      <th>usd_pledged_real</th>\n",
       "      <th>usd_goal_real</th>\n",
       "    </tr>\n",
       "  </thead>\n",
       "  <tbody>\n",
       "    <tr>\n",
       "      <th>0</th>\n",
       "      <td>1000002330</td>\n",
       "      <td>The Songs of Adelaide &amp; Abullah</td>\n",
       "      <td>Poetry</td>\n",
       "      <td>Publishing</td>\n",
       "      <td>GBP</td>\n",
       "      <td>2015-10-09</td>\n",
       "      <td>1000.0</td>\n",
       "      <td>2015-08-11 12:12:28</td>\n",
       "      <td>0.0</td>\n",
       "      <td>failed</td>\n",
       "      <td>0</td>\n",
       "      <td>GB</td>\n",
       "      <td>0.0</td>\n",
       "      <td>0.0</td>\n",
       "      <td>1533.95</td>\n",
       "    </tr>\n",
       "    <tr>\n",
       "      <th>1</th>\n",
       "      <td>1000003930</td>\n",
       "      <td>Greeting From Earth: ZGAC Arts Capsule For ET</td>\n",
       "      <td>Narrative Film</td>\n",
       "      <td>Film &amp; Video</td>\n",
       "      <td>USD</td>\n",
       "      <td>2017-11-01</td>\n",
       "      <td>30000.0</td>\n",
       "      <td>2017-09-02 04:43:57</td>\n",
       "      <td>2421.0</td>\n",
       "      <td>failed</td>\n",
       "      <td>15</td>\n",
       "      <td>US</td>\n",
       "      <td>100.0</td>\n",
       "      <td>2421.0</td>\n",
       "      <td>30000.00</td>\n",
       "    </tr>\n",
       "    <tr>\n",
       "      <th>2</th>\n",
       "      <td>1000004038</td>\n",
       "      <td>Where is Hank?</td>\n",
       "      <td>Narrative Film</td>\n",
       "      <td>Film &amp; Video</td>\n",
       "      <td>USD</td>\n",
       "      <td>2013-02-26</td>\n",
       "      <td>45000.0</td>\n",
       "      <td>2013-01-12 00:20:50</td>\n",
       "      <td>220.0</td>\n",
       "      <td>failed</td>\n",
       "      <td>3</td>\n",
       "      <td>US</td>\n",
       "      <td>220.0</td>\n",
       "      <td>220.0</td>\n",
       "      <td>45000.00</td>\n",
       "    </tr>\n",
       "    <tr>\n",
       "      <th>3</th>\n",
       "      <td>1000007540</td>\n",
       "      <td>ToshiCapital Rekordz Needs Help to Complete Album</td>\n",
       "      <td>Music</td>\n",
       "      <td>Music</td>\n",
       "      <td>USD</td>\n",
       "      <td>2012-04-16</td>\n",
       "      <td>5000.0</td>\n",
       "      <td>2012-03-17 03:24:11</td>\n",
       "      <td>1.0</td>\n",
       "      <td>failed</td>\n",
       "      <td>1</td>\n",
       "      <td>US</td>\n",
       "      <td>1.0</td>\n",
       "      <td>1.0</td>\n",
       "      <td>5000.00</td>\n",
       "    </tr>\n",
       "    <tr>\n",
       "      <th>4</th>\n",
       "      <td>1000011046</td>\n",
       "      <td>Community Film Project: The Art of Neighborhoo...</td>\n",
       "      <td>Film &amp; Video</td>\n",
       "      <td>Film &amp; Video</td>\n",
       "      <td>USD</td>\n",
       "      <td>2015-08-29</td>\n",
       "      <td>19500.0</td>\n",
       "      <td>2015-07-04 08:35:03</td>\n",
       "      <td>1283.0</td>\n",
       "      <td>canceled</td>\n",
       "      <td>14</td>\n",
       "      <td>US</td>\n",
       "      <td>1283.0</td>\n",
       "      <td>1283.0</td>\n",
       "      <td>19500.00</td>\n",
       "    </tr>\n",
       "  </tbody>\n",
       "</table>\n",
       "</div>"
      ],
      "text/plain": [
       "           ID                                               name  \\\n",
       "0  1000002330                    The Songs of Adelaide & Abullah   \n",
       "1  1000003930      Greeting From Earth: ZGAC Arts Capsule For ET   \n",
       "2  1000004038                                     Where is Hank?   \n",
       "3  1000007540  ToshiCapital Rekordz Needs Help to Complete Album   \n",
       "4  1000011046  Community Film Project: The Art of Neighborhoo...   \n",
       "\n",
       "         category main_category currency    deadline     goal  \\\n",
       "0          Poetry    Publishing      GBP  2015-10-09   1000.0   \n",
       "1  Narrative Film  Film & Video      USD  2017-11-01  30000.0   \n",
       "2  Narrative Film  Film & Video      USD  2013-02-26  45000.0   \n",
       "3           Music         Music      USD  2012-04-16   5000.0   \n",
       "4    Film & Video  Film & Video      USD  2015-08-29  19500.0   \n",
       "\n",
       "              launched  pledged     state  backers country  usd pledged  \\\n",
       "0  2015-08-11 12:12:28      0.0    failed        0      GB          0.0   \n",
       "1  2017-09-02 04:43:57   2421.0    failed       15      US        100.0   \n",
       "2  2013-01-12 00:20:50    220.0    failed        3      US        220.0   \n",
       "3  2012-03-17 03:24:11      1.0    failed        1      US          1.0   \n",
       "4  2015-07-04 08:35:03   1283.0  canceled       14      US       1283.0   \n",
       "\n",
       "   usd_pledged_real  usd_goal_real  \n",
       "0               0.0        1533.95  \n",
       "1            2421.0       30000.00  \n",
       "2             220.0       45000.00  \n",
       "3               1.0        5000.00  \n",
       "4            1283.0       19500.00  "
      ]
     },
     "execution_count": 104,
     "metadata": {},
     "output_type": "execute_result"
    }
   ],
   "source": [
    "data = raw.copy()\n",
    "data.head()"
   ]
  },
  {
   "cell_type": "code",
   "execution_count": 105,
   "metadata": {
    "ExecuteTime": {
     "end_time": "2020-02-22T19:00:55.400481Z",
     "start_time": "2020-02-22T19:00:55.001973Z"
    }
   },
   "outputs": [
    {
     "name": "stderr",
     "output_type": "stream",
     "text": [
      "UserWarning: `Series.value_counts` defaulting to pandas implementation.\n",
      "UserWarning: Distributing <class 'pandas.core.series.Series'> object. This may take some time.\n"
     ]
    },
    {
     "data": {
      "text/plain": [
       "failed        197719\n",
       "successful    133956\n",
       "canceled       38779\n",
       "undefined       3562\n",
       "live            2799\n",
       "suspended       1846\n",
       "dtype: int64"
      ]
     },
     "execution_count": 105,
     "metadata": {},
     "output_type": "execute_result"
    }
   ],
   "source": [
    "data['state'].value_counts()"
   ]
  },
  {
   "cell_type": "markdown",
   "metadata": {},
   "source": [
    "To make matters simpler, we only account for `failed` and `succesful` campaigns. "
   ]
  },
  {
   "cell_type": "code",
   "execution_count": 106,
   "metadata": {
    "ExecuteTime": {
     "end_time": "2020-02-22T19:00:55.406223Z",
     "start_time": "2020-02-22T19:00:55.403515Z"
    }
   },
   "outputs": [],
   "source": [
    "def success_or_not(state):\n",
    "    if state == 'successful':\n",
    "        return 1\n",
    "    return 0"
   ]
  },
  {
   "cell_type": "code",
   "execution_count": 107,
   "metadata": {
    "ExecuteTime": {
     "end_time": "2020-02-22T19:00:56.209264Z",
     "start_time": "2020-02-22T19:00:55.409171Z"
    }
   },
   "outputs": [
    {
     "data": {
      "text/plain": [
       "0    197719\n",
       "1    133956\n",
       "dtype: int64"
      ]
     },
     "execution_count": 107,
     "metadata": {},
     "output_type": "execute_result"
    }
   ],
   "source": [
    "data = data.loc[data['state'].isin(['failed', 'successful'])]\n",
    "data['successful'] = pd.to_numeric(data['state'].apply(success_or_not))\n",
    "data.drop(columns = 'state', inplace = True)\n",
    "data['successful'].value_counts()"
   ]
  },
  {
   "cell_type": "markdown",
   "metadata": {
    "heading_collapsed": true
   },
   "source": [
    "### Data cleaning"
   ]
  },
  {
   "cell_type": "markdown",
   "metadata": {
    "hidden": true
   },
   "source": [
    "#### Removing NaN rows"
   ]
  },
  {
   "cell_type": "code",
   "execution_count": 108,
   "metadata": {
    "ExecuteTime": {
     "end_time": "2020-02-22T19:00:59.380407Z",
     "start_time": "2020-02-22T19:00:56.211398Z"
    },
    "hidden": true
   },
   "outputs": [
    {
     "name": "stderr",
     "output_type": "stream",
     "text": [
      "UserWarning: `DataFrame.info` defaulting to pandas implementation.\n",
      "UserWarning: Distributing <class 'pandas.core.frame.DataFrame'> object. This may take some time.\n"
     ]
    },
    {
     "name": "stdout",
     "output_type": "stream",
     "text": [
      "<class 'modin.pandas.dataframe.DataFrame'>\n",
      "Int64Index: 331675 entries, 0 to 378660\n",
      "Data columns (total 15 columns):\n",
      "ID                  331675 non-null int64\n",
      "name                331672 non-null object\n",
      "category            331675 non-null object\n",
      "main_category       331675 non-null object\n",
      "currency            331675 non-null object\n",
      "deadline            331675 non-null object\n",
      "goal                331675 non-null float64\n",
      "launched            331675 non-null object\n",
      "pledged             331675 non-null float64\n",
      "backers             331675 non-null int64\n",
      "country             331675 non-null object\n",
      "usd pledged         331465 non-null float64\n",
      "usd_pledged_real    331675 non-null float64\n",
      "usd_goal_real       331675 non-null float64\n",
      "successful          331675 non-null int64\n",
      "dtypes: float64(5), int64(3), object(7)\n",
      "memory usage: 40.5+ MB\n"
     ]
    }
   ],
   "source": [
    "data.info(verbose=True)"
   ]
  },
  {
   "cell_type": "markdown",
   "metadata": {
    "hidden": true
   },
   "source": [
    "Since there are very few NaN objects, we can drop them."
   ]
  },
  {
   "cell_type": "code",
   "execution_count": 109,
   "metadata": {
    "ExecuteTime": {
     "end_time": "2020-02-22T19:00:59.988320Z",
     "start_time": "2020-02-22T19:00:59.382581Z"
    },
    "hidden": true
   },
   "outputs": [
    {
     "data": {
      "text/plain": [
       "ID                    0\n",
       "name                  3\n",
       "category              0\n",
       "main_category         0\n",
       "currency              0\n",
       "deadline              0\n",
       "goal                  0\n",
       "launched              0\n",
       "pledged               0\n",
       "backers               0\n",
       "country               0\n",
       "usd pledged         210\n",
       "usd_pledged_real      0\n",
       "usd_goal_real         0\n",
       "successful            0\n",
       "dtype: int64"
      ]
     },
     "execution_count": 109,
     "metadata": {},
     "output_type": "execute_result"
    }
   ],
   "source": [
    "data.isna().sum()"
   ]
  },
  {
   "cell_type": "code",
   "execution_count": 110,
   "metadata": {
    "ExecuteTime": {
     "end_time": "2020-02-22T19:01:03.361184Z",
     "start_time": "2020-02-22T19:00:59.990328Z"
    },
    "hidden": true
   },
   "outputs": [
    {
     "data": {
      "text/plain": [
       "(331462, 15)"
      ]
     },
     "execution_count": 110,
     "metadata": {},
     "output_type": "execute_result"
    }
   ],
   "source": [
    "data = data.dropna()\n",
    "data.shape"
   ]
  },
  {
   "cell_type": "markdown",
   "metadata": {},
   "source": [
    "### Dealing with highly unique columns "
   ]
  },
  {
   "cell_type": "code",
   "execution_count": 111,
   "metadata": {
    "ExecuteTime": {
     "end_time": "2020-02-22T19:01:07.009006Z",
     "start_time": "2020-02-22T19:01:03.365261Z"
    }
   },
   "outputs": [
    {
     "data": {
      "text/plain": [
       "{'launched': 331042,\n",
       " 'name': 329386,\n",
       " 'deadline': 3102,\n",
       " 'category': 159,\n",
       " 'country': 22,\n",
       " 'main_category': 15,\n",
       " 'currency': 14}"
      ]
     },
     "execution_count": 111,
     "metadata": {},
     "output_type": "execute_result"
    }
   ],
   "source": [
    "categorical = data.select_dtypes(include=['object'])\n",
    "unique_counts = {}\n",
    "\n",
    "for i in categorical:\n",
    "    unique_counts[i] = categorical[i].nunique()\n",
    "    \n",
    "unique_counts = {k: v for k, v in sorted(unique_counts.items(), key=lambda item: item[1], reverse = True)}\n",
    "unique_counts"
   ]
  },
  {
   "cell_type": "code",
   "execution_count": 112,
   "metadata": {
    "ExecuteTime": {
     "end_time": "2020-02-22T19:01:07.015068Z",
     "start_time": "2020-02-22T19:01:07.012222Z"
    }
   },
   "outputs": [],
   "source": [
    "categorical = list(categorical.columns)"
   ]
  },
  {
   "cell_type": "markdown",
   "metadata": {},
   "source": [
    "#### Converting `launched`  and `deadline` to datetime variables\n",
    "`launched` and `deadline` are saved as <str> objects. We will convert these to datetime objects, do some foreign exchange calculations, and then extract the month and year."
   ]
  },
  {
   "cell_type": "code",
   "execution_count": 113,
   "metadata": {
    "ExecuteTime": {
     "end_time": "2020-02-22T19:01:07.054128Z",
     "start_time": "2020-02-22T19:01:07.017667Z"
    }
   },
   "outputs": [
    {
     "data": {
      "text/html": [
       "<div>\n",
       "<style scoped>\n",
       "    .dataframe tbody tr th:only-of-type {\n",
       "        vertical-align: middle;\n",
       "    }\n",
       "\n",
       "    .dataframe tbody tr th {\n",
       "        vertical-align: top;\n",
       "    }\n",
       "\n",
       "    .dataframe thead th {\n",
       "        text-align: right;\n",
       "    }\n",
       "</style>\n",
       "<table border=\"1\" class=\"dataframe\">\n",
       "  <thead>\n",
       "    <tr style=\"text-align: right;\">\n",
       "      <th></th>\n",
       "      <th>launched</th>\n",
       "      <th>deadline</th>\n",
       "    </tr>\n",
       "  </thead>\n",
       "  <tbody>\n",
       "    <tr>\n",
       "      <th>0</th>\n",
       "      <td>2015-08-11 12:12:28</td>\n",
       "      <td>2015-10-09</td>\n",
       "    </tr>\n",
       "    <tr>\n",
       "      <th>1</th>\n",
       "      <td>2017-09-02 04:43:57</td>\n",
       "      <td>2017-11-01</td>\n",
       "    </tr>\n",
       "    <tr>\n",
       "      <th>2</th>\n",
       "      <td>2013-01-12 00:20:50</td>\n",
       "      <td>2013-02-26</td>\n",
       "    </tr>\n",
       "    <tr>\n",
       "      <th>3</th>\n",
       "      <td>2012-03-17 03:24:11</td>\n",
       "      <td>2012-04-16</td>\n",
       "    </tr>\n",
       "    <tr>\n",
       "      <th>5</th>\n",
       "      <td>2016-02-26 13:38:27</td>\n",
       "      <td>2016-04-01</td>\n",
       "    </tr>\n",
       "  </tbody>\n",
       "</table>\n",
       "</div>"
      ],
      "text/plain": [
       "              launched    deadline\n",
       "0  2015-08-11 12:12:28  2015-10-09\n",
       "1  2017-09-02 04:43:57  2017-11-01\n",
       "2  2013-01-12 00:20:50  2013-02-26\n",
       "3  2012-03-17 03:24:11  2012-04-16\n",
       "5  2016-02-26 13:38:27  2016-04-01"
      ]
     },
     "execution_count": 113,
     "metadata": {},
     "output_type": "execute_result"
    }
   ],
   "source": [
    "data[['launched', 'deadline']].head()"
   ]
  },
  {
   "cell_type": "code",
   "execution_count": 114,
   "metadata": {
    "ExecuteTime": {
     "end_time": "2020-02-22T19:01:07.060314Z",
     "start_time": "2020-02-22T19:01:07.055943Z"
    }
   },
   "outputs": [],
   "source": [
    "from datetime import datetime\n",
    "\n",
    "def get_month_year(date_object, variable):\n",
    "    if variable == 'launched':\n",
    "        date_object = datetime.strptime(date_object, \"%Y-%m-%d %H:%M:%S\")\n",
    "    elif variable == 'deadline':\n",
    "        date_object = datetime.strptime(date_object, \"%Y-%m-%d\")\n",
    "        \n",
    "    return date_object.strftime(\"%b %Y\")"
   ]
  },
  {
   "cell_type": "code",
   "execution_count": 115,
   "metadata": {
    "ExecuteTime": {
     "end_time": "2020-02-22T19:01:10.959277Z",
     "start_time": "2020-02-22T19:01:07.062778Z"
    }
   },
   "outputs": [
    {
     "data": {
      "text/html": [
       "<div>\n",
       "<style scoped>\n",
       "    .dataframe tbody tr th:only-of-type {\n",
       "        vertical-align: middle;\n",
       "    }\n",
       "\n",
       "    .dataframe tbody tr th {\n",
       "        vertical-align: top;\n",
       "    }\n",
       "\n",
       "    .dataframe thead th {\n",
       "        text-align: right;\n",
       "    }\n",
       "</style>\n",
       "<table border=\"1\" class=\"dataframe\">\n",
       "  <thead>\n",
       "    <tr style=\"text-align: right;\">\n",
       "      <th></th>\n",
       "      <th>launched</th>\n",
       "      <th>launched_month</th>\n",
       "      <th>deadline_month</th>\n",
       "    </tr>\n",
       "  </thead>\n",
       "  <tbody>\n",
       "    <tr>\n",
       "      <th>0</th>\n",
       "      <td>2015-08-11 12:12:28</td>\n",
       "      <td>Aug 2015</td>\n",
       "      <td>Oct 2015</td>\n",
       "    </tr>\n",
       "    <tr>\n",
       "      <th>1</th>\n",
       "      <td>2017-09-02 04:43:57</td>\n",
       "      <td>Sep 2017</td>\n",
       "      <td>Nov 2017</td>\n",
       "    </tr>\n",
       "    <tr>\n",
       "      <th>2</th>\n",
       "      <td>2013-01-12 00:20:50</td>\n",
       "      <td>Jan 2013</td>\n",
       "      <td>Feb 2013</td>\n",
       "    </tr>\n",
       "    <tr>\n",
       "      <th>3</th>\n",
       "      <td>2012-03-17 03:24:11</td>\n",
       "      <td>Mar 2012</td>\n",
       "      <td>Apr 2012</td>\n",
       "    </tr>\n",
       "    <tr>\n",
       "      <th>5</th>\n",
       "      <td>2016-02-26 13:38:27</td>\n",
       "      <td>Feb 2016</td>\n",
       "      <td>Apr 2016</td>\n",
       "    </tr>\n",
       "  </tbody>\n",
       "</table>\n",
       "</div>"
      ],
      "text/plain": [
       "              launched launched_month deadline_month\n",
       "0  2015-08-11 12:12:28       Aug 2015       Oct 2015\n",
       "1  2017-09-02 04:43:57       Sep 2017       Nov 2017\n",
       "2  2013-01-12 00:20:50       Jan 2013       Feb 2013\n",
       "3  2012-03-17 03:24:11       Mar 2012       Apr 2012\n",
       "5  2016-02-26 13:38:27       Feb 2016       Apr 2016"
      ]
     },
     "execution_count": 115,
     "metadata": {},
     "output_type": "execute_result"
    }
   ],
   "source": [
    "data['launched_month'] = data['launched'].apply(get_month_year, args = ('launched', ))\n",
    "data['deadline_month'] = data['deadline'].apply(get_month_year, args = ('deadline', ))\n",
    "data[['launched', 'launched_month', 'deadline_month']].head()"
   ]
  },
  {
   "cell_type": "code",
   "execution_count": 116,
   "metadata": {
    "ExecuteTime": {
     "end_time": "2020-02-22T19:01:12.431347Z",
     "start_time": "2020-02-22T19:01:10.961876Z"
    }
   },
   "outputs": [
    {
     "data": {
      "text/plain": [
       "(105, 105)"
      ]
     },
     "execution_count": 116,
     "metadata": {},
     "output_type": "execute_result"
    }
   ],
   "source": [
    "data['launched_month'].nunique(), data['deadline_month'].nunique()"
   ]
  },
  {
   "cell_type": "code",
   "execution_count": 117,
   "metadata": {
    "ExecuteTime": {
     "end_time": "2020-02-22T19:01:12.438508Z",
     "start_time": "2020-02-22T19:01:12.433362Z"
    }
   },
   "outputs": [],
   "source": [
    "data.drop(columns=['launched', 'deadline'], inplace=True)\n",
    "categorical.remove('launched')\n",
    "categorical.remove('deadline')"
   ]
  },
  {
   "cell_type": "markdown",
   "metadata": {},
   "source": [
    "#### Converting `name` to word, number, and punctuation count"
   ]
  },
  {
   "cell_type": "code",
   "execution_count": 118,
   "metadata": {
    "ExecuteTime": {
     "end_time": "2020-02-22T19:01:12.482196Z",
     "start_time": "2020-02-22T19:01:12.440527Z"
    }
   },
   "outputs": [
    {
     "data": {
      "text/plain": [
       "0                      The Songs of Adelaide & Abullah\n",
       "1        Greeting From Earth: ZGAC Arts Capsule For ET\n",
       "2                                       Where is Hank?\n",
       "3    ToshiCapital Rekordz Needs Help to Complete Album\n",
       "5                                 Monarch Espresso Bar\n",
       "Name: name, dtype: object"
      ]
     },
     "execution_count": 118,
     "metadata": {},
     "output_type": "execute_result"
    }
   ],
   "source": [
    "data['name'].head()"
   ]
  },
  {
   "cell_type": "code",
   "execution_count": 119,
   "metadata": {
    "ExecuteTime": {
     "end_time": "2020-02-22T19:01:12.489199Z",
     "start_time": "2020-02-22T19:01:12.484214Z"
    }
   },
   "outputs": [],
   "source": [
    "from nltk import RegexpTokenizer, sent_tokenize\n",
    "\n",
    "def title_counter(s, type_of_count):\n",
    "    if type_of_count == 'word':\n",
    "        tokenizer = RegexpTokenizer(r'\\w+')\n",
    "        return len(tokenizer.tokenize(s))\n",
    "    \n",
    "    if type_of_count == 'sent':\n",
    "        return len(sent_tokenize(s))\n",
    "    \n",
    "    if type_of_count == 'num':\n",
    "        tokenizer = RegexpTokenizer(\"[0-9]\")\n",
    "        return len(tokenizer.tokenize(s))"
   ]
  },
  {
   "cell_type": "code",
   "execution_count": 120,
   "metadata": {
    "ExecuteTime": {
     "end_time": "2020-02-22T19:01:17.877326Z",
     "start_time": "2020-02-22T19:01:12.491784Z"
    }
   },
   "outputs": [
    {
     "data": {
      "text/html": [
       "<div>\n",
       "<style scoped>\n",
       "    .dataframe tbody tr th:only-of-type {\n",
       "        vertical-align: middle;\n",
       "    }\n",
       "\n",
       "    .dataframe tbody tr th {\n",
       "        vertical-align: top;\n",
       "    }\n",
       "\n",
       "    .dataframe thead th {\n",
       "        text-align: right;\n",
       "    }\n",
       "</style>\n",
       "<table border=\"1\" class=\"dataframe\">\n",
       "  <thead>\n",
       "    <tr style=\"text-align: right;\">\n",
       "      <th></th>\n",
       "      <th>name</th>\n",
       "      <th>title_word_count</th>\n",
       "      <th>title_sent_count</th>\n",
       "      <th>title_num_count</th>\n",
       "    </tr>\n",
       "  </thead>\n",
       "  <tbody>\n",
       "    <tr>\n",
       "      <th>0</th>\n",
       "      <td>The Songs of Adelaide &amp; Abullah</td>\n",
       "      <td>5</td>\n",
       "      <td>1</td>\n",
       "      <td>0</td>\n",
       "    </tr>\n",
       "    <tr>\n",
       "      <th>1</th>\n",
       "      <td>Greeting From Earth: ZGAC Arts Capsule For ET</td>\n",
       "      <td>8</td>\n",
       "      <td>1</td>\n",
       "      <td>0</td>\n",
       "    </tr>\n",
       "    <tr>\n",
       "      <th>2</th>\n",
       "      <td>Where is Hank?</td>\n",
       "      <td>3</td>\n",
       "      <td>1</td>\n",
       "      <td>0</td>\n",
       "    </tr>\n",
       "    <tr>\n",
       "      <th>3</th>\n",
       "      <td>ToshiCapital Rekordz Needs Help to Complete Album</td>\n",
       "      <td>7</td>\n",
       "      <td>1</td>\n",
       "      <td>0</td>\n",
       "    </tr>\n",
       "    <tr>\n",
       "      <th>5</th>\n",
       "      <td>Monarch Espresso Bar</td>\n",
       "      <td>3</td>\n",
       "      <td>1</td>\n",
       "      <td>0</td>\n",
       "    </tr>\n",
       "  </tbody>\n",
       "</table>\n",
       "</div>"
      ],
      "text/plain": [
       "                                                name  title_word_count  \\\n",
       "0                    The Songs of Adelaide & Abullah                 5   \n",
       "1      Greeting From Earth: ZGAC Arts Capsule For ET                 8   \n",
       "2                                     Where is Hank?                 3   \n",
       "3  ToshiCapital Rekordz Needs Help to Complete Album                 7   \n",
       "5                               Monarch Espresso Bar                 3   \n",
       "\n",
       "   title_sent_count  title_num_count  \n",
       "0                 1                0  \n",
       "1                 1                0  \n",
       "2                 1                0  \n",
       "3                 1                0  \n",
       "5                 1                0  "
      ]
     },
     "execution_count": 120,
     "metadata": {},
     "output_type": "execute_result"
    }
   ],
   "source": [
    "data['title_word_count'] = data['name'].apply(title_counter, args = ('word', ))\n",
    "data['title_sent_count'] = data['name'].apply(title_counter, args = ('sent', ))\n",
    "data['title_num_count'] = data['name'].apply(title_counter, args = ('num', ))\n",
    "\n",
    "data[['name', 'title_word_count', 'title_sent_count', 'title_num_count']].head()"
   ]
  },
  {
   "cell_type": "code",
   "execution_count": 121,
   "metadata": {
    "ExecuteTime": {
     "end_time": "2020-02-22T19:01:17.887227Z",
     "start_time": "2020-02-22T19:01:17.879807Z"
    }
   },
   "outputs": [],
   "source": [
    "data.drop(columns=['name'], inplace=True)\n",
    "categorical.remove('name')"
   ]
  },
  {
   "cell_type": "markdown",
   "metadata": {},
   "source": [
    "We can work with the remaining quantity of categorical variables. "
   ]
  },
  {
   "cell_type": "markdown",
   "metadata": {},
   "source": [
    "### Dropping unnecessary columns"
   ]
  },
  {
   "cell_type": "code",
   "execution_count": 122,
   "metadata": {
    "ExecuteTime": {
     "end_time": "2020-02-22T19:01:17.895486Z",
     "start_time": "2020-02-22T19:01:17.889918Z"
    }
   },
   "outputs": [
    {
     "data": {
      "text/plain": [
       "Index(['ID', 'category', 'main_category', 'currency', 'goal', 'pledged',\n",
       "       'backers', 'country', 'usd pledged', 'usd_pledged_real',\n",
       "       'usd_goal_real', 'successful', 'launched_month', 'deadline_month',\n",
       "       'title_word_count', 'title_sent_count', 'title_num_count'],\n",
       "      dtype='object')"
      ]
     },
     "execution_count": 122,
     "metadata": {},
     "output_type": "execute_result"
    }
   ],
   "source": [
    "data.columns"
   ]
  },
  {
   "cell_type": "code",
   "execution_count": 123,
   "metadata": {
    "ExecuteTime": {
     "end_time": "2020-02-22T19:01:17.904937Z",
     "start_time": "2020-02-22T19:01:17.898247Z"
    }
   },
   "outputs": [],
   "source": [
    "data.drop(columns=['ID', 'currency', 'goal', 'pledged', 'usd pledged'], inplace=True)"
   ]
  },
  {
   "cell_type": "markdown",
   "metadata": {},
   "source": [
    "### Splitting into X and Y vars"
   ]
  },
  {
   "cell_type": "code",
   "execution_count": 146,
   "metadata": {
    "ExecuteTime": {
     "end_time": "2020-02-22T19:11:02.108762Z",
     "start_time": "2020-02-22T19:11:02.100672Z"
    }
   },
   "outputs": [
    {
     "data": {
      "text/plain": [
       "((331462, 11), (331462,))"
      ]
     },
     "execution_count": 146,
     "metadata": {},
     "output_type": "execute_result"
    }
   ],
   "source": [
    "X = data.drop(columns=['successful'])\n",
    "Y = data['successful']\n",
    "\n",
    "X.shape, Y.shape"
   ]
  },
  {
   "cell_type": "markdown",
   "metadata": {},
   "source": [
    "### Feature generation\n",
    "\n",
    "We start by creating dummies for the categorical variables."
   ]
  },
  {
   "cell_type": "code",
   "execution_count": 147,
   "metadata": {
    "ExecuteTime": {
     "end_time": "2020-02-22T19:11:04.737616Z",
     "start_time": "2020-02-22T19:11:04.343125Z"
    }
   },
   "outputs": [
    {
     "data": {
      "text/plain": [
       "category             object\n",
       "main_category        object\n",
       "backers               int64\n",
       "country              object\n",
       "usd_pledged_real    float64\n",
       "usd_goal_real       float64\n",
       "launched_month       object\n",
       "deadline_month       object\n",
       "title_word_count      int64\n",
       "title_sent_count      int64\n",
       "title_num_count       int64\n",
       "dtype: object"
      ]
     },
     "execution_count": 147,
     "metadata": {},
     "output_type": "execute_result"
    }
   ],
   "source": [
    "X.dtypes"
   ]
  },
  {
   "cell_type": "code",
   "execution_count": 150,
   "metadata": {
    "ExecuteTime": {
     "end_time": "2020-02-22T19:12:36.840585Z",
     "start_time": "2020-02-22T19:12:28.518808Z"
    }
   },
   "outputs": [
    {
     "data": {
      "text/plain": [
       "(331462, 407)"
      ]
     },
     "execution_count": 150,
     "metadata": {},
     "output_type": "execute_result"
    }
   ],
   "source": [
    "X = pd.get_dummies(X, columns=['country', 'launched_month',\n",
    "                               'deadline_month', 'category', 'main_category'], drop_first=True)\n",
    "X.shape"
   ]
  },
  {
   "cell_type": "code",
   "execution_count": null,
   "metadata": {},
   "outputs": [],
   "source": []
  }
 ],
 "metadata": {
  "kernelspec": {
   "display_name": "Python 3",
   "language": "python",
   "name": "python3"
  },
  "language_info": {
   "codemirror_mode": {
    "name": "ipython",
    "version": 3
   },
   "file_extension": ".py",
   "mimetype": "text/x-python",
   "name": "python",
   "nbconvert_exporter": "python",
   "pygments_lexer": "ipython3",
   "version": "3.7.6"
  },
  "toc": {
   "base_numbering": "0",
   "nav_menu": {},
   "number_sections": true,
   "sideBar": true,
   "skip_h1_title": true,
   "title_cell": "Table of Contents",
   "title_sidebar": "Contents",
   "toc_cell": true,
   "toc_position": {},
   "toc_section_display": true,
   "toc_window_display": true
  }
 },
 "nbformat": 4,
 "nbformat_minor": 4
}
