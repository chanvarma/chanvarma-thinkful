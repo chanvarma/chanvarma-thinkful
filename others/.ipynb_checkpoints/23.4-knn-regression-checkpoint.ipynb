{
 "cells": [
  {
   "cell_type": "markdown",
   "metadata": {},
   "source": [
    "# Checkpoint 23.4\n",
    "KNN Regression"
   ]
  },
  {
   "cell_type": "markdown",
   "metadata": {
    "toc": true
   },
   "source": [
    "<h1>Table of Contents<span class=\"tocSkip\"></span></h1>\n",
    "<div class=\"toc\"><ul class=\"toc-item\"><li><span><a href=\"#Assignment\" data-toc-modified-id=\"Assignment-1\"><span class=\"toc-item-num\">1&nbsp;&nbsp;</span>Assignment</a></span></li><li><span><a href=\"#Start-here\" data-toc-modified-id=\"Start-here-2\"><span class=\"toc-item-num\">2&nbsp;&nbsp;</span>Start here</a></span></li></ul></div>"
   ]
  },
  {
   "cell_type": "markdown",
   "metadata": {},
   "source": [
    "## Assignment\n",
    "Improve on the provided model."
   ]
  },
  {
   "cell_type": "code",
   "execution_count": 5,
   "metadata": {
    "ExecuteTime": {
     "end_time": "2020-01-13T08:00:25.363584Z",
     "start_time": "2020-01-13T08:00:25.359266Z"
    }
   },
   "outputs": [],
   "source": [
    "import pandas as pd\n",
    "import numpy as np\n",
    "import scipy\n",
    "import matplotlib.pyplot as plt\n",
    "%matplotlib inline"
   ]
  },
  {
   "cell_type": "code",
   "execution_count": 6,
   "metadata": {
    "ExecuteTime": {
     "end_time": "2020-01-13T08:00:30.331403Z",
     "start_time": "2020-01-13T08:00:30.321356Z"
    }
   },
   "outputs": [],
   "source": [
    "music = pd.DataFrame()\n",
    "music['duration'] = [184, 134, 243, 186, 122, 197, 294, 382, 102, 264, \n",
    "                     205, 110, 307, 110, 397, 153, 190, 192, 210, 403,\n",
    "                     164, 198, 204, 253, 234, 190, 182, 401, 376, 102]\n",
    "music['loudness'] = [18, 34, 43, 36, 22, 9, 29, 22, 10, 24, \n",
    "                     20, 10, 17, 51, 7, 13, 19, 12, 21, 22,\n",
    "                     16, 18, 4, 23, 34, 19, 14, 11, 37, 42]\n",
    "music['bpm'] = [ 105, 90, 78, 75, 120, 110, 80, 100, 105, 60,\n",
    "                  70, 105, 95, 70, 90, 105, 70, 75, 102, 100,\n",
    "                  100, 95, 90, 80, 90, 80, 100, 105, 70, 65]"
   ]
  },
  {
   "cell_type": "code",
   "execution_count": 7,
   "metadata": {
    "ExecuteTime": {
     "end_time": "2020-01-13T08:00:35.376461Z",
     "start_time": "2020-01-13T08:00:35.204264Z"
    }
   },
   "outputs": [
    {
     "data": {
      "image/png": "[encoded data removed]",
      "text/plain": [
       "<Figure size 432x288 with 1 Axes>"
      ]
     },
     "metadata": {
      "needs_background": "light"
     },
     "output_type": "display_data"
    }
   ],
   "source": [
    "# Run the same model, this time with weights.\n",
    "knn_w = neighbors.KNeighborsRegressor(n_neighbors=10, weights='distance')\n",
    "X = pd.DataFrame(music.loudness)\n",
    "Y = music.bpm\n",
    "knn_w.fit(X, Y)\n",
    "\n",
    "# Set up our prediction line.\n",
    "T = np.arange(0, 50, 0.1)[:, np.newaxis]\n",
    "\n",
    "Y_ = knn_w.predict(T)\n",
    "\n",
    "plt.scatter(X, Y, c='k', label='data')\n",
    "plt.plot(T, Y_, c='g', label='prediction')\n",
    "plt.legend()\n",
    "plt.title('K=10, Weighted')\n",
    "plt.show()"
   ]
  },
  {
   "cell_type": "code",
   "execution_count": 4,
   "metadata": {
    "ExecuteTime": {
     "end_time": "2020-01-13T07:59:47.613434Z",
     "start_time": "2020-01-13T07:59:47.563136Z"
    }
   },
   "outputs": [
    {
     "name": "stdout",
     "output_type": "stream",
     "text": [
      "Unweighted Accuracy: -0.18 (+/- 0.66)\n",
      "Weighted Accuracy: 0.11 (+/- 0.94)\n"
     ]
    }
   ],
   "source": [
    "from sklearn.model_selection import cross_val_score\n",
    "score = cross_val_score(knn, X, Y, cv=5)\n",
    "print(\"Unweighted Accuracy: %0.2f (+/- %0.2f)\" % (score.mean(), score.std() * 2))\n",
    "score_w = cross_val_score(knn_w, X, Y, cv=5)\n",
    "print(\"Weighted Accuracy: %0.2f (+/- %0.2f)\" % (score_w.mean(), score_w.std() * 2))"
   ]
  },
  {
   "cell_type": "markdown",
   "metadata": {},
   "source": [
    "## Start here"
   ]
  },
  {
   "cell_type": "markdown",
   "metadata": {},
   "source": [
    "We start by including the `duration` variable."
   ]
  },
  {
   "cell_type": "code",
   "execution_count": 157,
   "metadata": {
    "ExecuteTime": {
     "end_time": "2020-01-13T09:17:09.291219Z",
     "start_time": "2020-01-13T09:17:09.288609Z"
    }
   },
   "outputs": [],
   "source": [
    "from scipy.stats import zscore"
   ]
  },
  {
   "cell_type": "code",
   "execution_count": 193,
   "metadata": {
    "ExecuteTime": {
     "end_time": "2020-01-13T09:30:06.535778Z",
     "start_time": "2020-01-13T09:30:06.366403Z"
    },
    "scrolled": false
   },
   "outputs": [
    {
     "data": {
      "text/plain": [
       "{1: -1.7335895364580742,\n",
       " 2: -1.0646377949370094,\n",
       " 3: -0.6232147798733184,\n",
       " 4: -0.44046032607339847,\n",
       " 5: -0.4297019771805012,\n",
       " 6: -0.38133179158879815,\n",
       " 7: -0.3698910995007979,\n",
       " 8: -0.22891709399008725,\n",
       " 9: -0.16871901305385512,\n",
       " 10: -0.11440584993834739,\n",
       " 11: -0.11310603992841803,\n",
       " 12: -0.11530378678403248,\n",
       " 13: -0.10211356470833526,\n",
       " 14: -0.10016590502388889,\n",
       " 15: -0.11006996463342807,\n",
       " 16: -0.11108510251994823,\n",
       " 17: -0.12009265785683385,\n",
       " 18: -0.11213849718131655,\n",
       " 19: -0.1250924462142906,\n",
       " 20: -0.13101972778700552,\n",
       " 21: -0.12829586429996082,\n",
       " 22: -0.12972941113076983}"
      ]
     },
     "execution_count": 193,
     "metadata": {},
     "output_type": "execute_result"
    }
   ],
   "source": [
    "n_neighbors = 10\n",
    "prediction_scores = {}\n",
    "\n",
    "X = zscore(music[['duration', 'loudness']])\n",
    "Y = zscore(music.bpm)\n",
    "\n",
    "for i in range(22):\n",
    "    knn_w = neighbors.KNeighborsRegressor(n_neighbors=i + 1, weights='distance')\n",
    "\n",
    "    knn_w.fit(X, Y)\n",
    "    \n",
    "    score = cross_val_score(knn_w, X, Y, cv=5)\n",
    "    \n",
    "    prediction_scores[i + 1] = score.mean()\n",
    "    \n",
    "prediction_scores"
   ]
  },
  {
   "cell_type": "code",
   "execution_count": 194,
   "metadata": {
    "ExecuteTime": {
     "end_time": "2020-01-13T09:30:10.348837Z",
     "start_time": "2020-01-13T09:30:10.344759Z"
    }
   },
   "outputs": [
    {
     "data": {
      "text/plain": [
       "14"
      ]
     },
     "execution_count": 194,
     "metadata": {},
     "output_type": "execute_result"
    }
   ],
   "source": [
    "max(prediction_scores, key=prediction_scores.get)"
   ]
  },
  {
   "cell_type": "code",
   "execution_count": 198,
   "metadata": {
    "ExecuteTime": {
     "end_time": "2020-01-13T09:31:16.287086Z",
     "start_time": "2020-01-13T09:31:16.279399Z"
    }
   },
   "outputs": [
    {
     "data": {
      "text/plain": [
       "KNeighborsRegressor(algorithm='auto', leaf_size=30, metric='minkowski',\n",
       "                    metric_params=None, n_jobs=None, n_neighbors=14, p=2,\n",
       "                    weights='distance')"
      ]
     },
     "execution_count": 198,
     "metadata": {},
     "output_type": "execute_result"
    }
   ],
   "source": [
    "knn_w = neighbors.KNeighborsRegressor(n_neighbors=14, weights='distance')\n",
    "X = music[['duration', 'loudness']]\n",
    "Y = music.bpm\n",
    "\n",
    "knn_w.fit(X, Y)"
   ]
  },
  {
   "cell_type": "code",
   "execution_count": 199,
   "metadata": {
    "ExecuteTime": {
     "end_time": "2020-01-13T09:31:17.880510Z",
     "start_time": "2020-01-13T09:31:17.871206Z"
    }
   },
   "outputs": [],
   "source": [
    "T = pd.DataFrame()\n",
    "T['duration'] = np.linspace(music['duration'].min() + .1, music['duration'].max(), num=30)\n",
    "T['loudness'] = np.linspace(music['loudness'].min() + .1, music['loudness'].max(), num=30)\n",
    "\n",
    "Y_ = knn_w.predict(T)"
   ]
  },
  {
   "cell_type": "code",
   "execution_count": 200,
   "metadata": {
    "ExecuteTime": {
     "end_time": "2020-01-13T09:31:19.163475Z",
     "start_time": "2020-01-13T09:31:18.864639Z"
    }
   },
   "outputs": [
    {
     "data": {
      "image/png": "[encoded data removed]",
      "text/plain": [
       "<Figure size 432x288 with 2 Axes>"
      ]
     },
     "metadata": {
      "needs_background": "light"
     },
     "output_type": "display_data"
    }
   ],
   "source": [
    "plt.subplot(2, 1, 1)\n",
    "plt.scatter(X['loudness'], Y, c='k', label='data')\n",
    "plt.plot(T['loudness'], Y_, c='g', label='prediction')\n",
    "plt.xlabel('loudness')\n",
    "plt.ylabel('bpm')\n",
    "plt.legend()\n",
    "\n",
    "plt.subplot(2, 1, 2)\n",
    "plt.scatter(X['duration'], Y, c='k', label='data')\n",
    "plt.plot(T['duration'], Y_, c='g', label='prediction')\n",
    "plt.xlabel('duration')\n",
    "plt.ylabel('bpm')\n",
    "plt.legend()\n",
    "\n",
    "plt.tight_layout()\n",
    "plt.show()"
   ]
  },
  {
   "cell_type": "code",
   "execution_count": 208,
   "metadata": {
    "ExecuteTime": {
     "end_time": "2020-01-13T09:34:21.890502Z",
     "start_time": "2020-01-13T09:34:21.648633Z"
    }
   },
   "outputs": [
    {
     "data": {
      "image/png": "[encoded data removed]",
      "text/plain": [
       "<Figure size 432x288 with 1 Axes>"
      ]
     },
     "metadata": {
      "needs_background": "light"
     },
     "output_type": "display_data"
    },
    {
     "name": "stdout",
     "output_type": "stream",
     "text": [
      "Weighted Accuracy: -29.94 (+/- 101.49)\n"
     ]
    }
   ],
   "source": [
    "Y_train_pred = knn_w.predict(X)\n",
    "\n",
    "plt.scatter(Y, Y_train_pred, color = 'green', label = 'predicted')\n",
    "plt.grid()\n",
    "plt.plot(Y, Y)\n",
    "plt.legend()\n",
    "plt.show()\n",
    "\n",
    "score = cross_val_score(knn_w, X, Y, cv=15)\n",
    "print(\"Weighted Accuracy: %0.2f (+/- %0.2f)\" % (score.mean(), score.std() * 2))"
   ]
  },
  {
   "cell_type": "markdown",
   "metadata": {},
   "source": [
    "I'm not quite sure what's the issue here: there appears to be a pretty good overlap in the y-values and the y-predicted values, but the score seems to be negative?"
   ]
  },
  {
   "cell_type": "code",
   "execution_count": null,
   "metadata": {},
   "outputs": [],
   "source": []
  }
 ],
 "metadata": {
  "kernelspec": {
   "display_name": "Python 3",
   "language": "python",
   "name": "python3"
  },
  "language_info": {
   "codemirror_mode": {
    "name": "ipython",
    "version": 3
   },
   "file_extension": ".py",
   "mimetype": "text/x-python",
   "name": "python",
   "nbconvert_exporter": "python",
   "pygments_lexer": "ipython3",
   "version": "3.7.5"
  },
  "toc": {
   "base_numbering": 1,
   "nav_menu": {},
   "number_sections": true,
   "sideBar": false,
   "skip_h1_title": true,
   "title_cell": "Table of Contents",
   "title_sidebar": "Contents",
   "toc_cell": true,
   "toc_position": {},
   "toc_section_display": true,
   "toc_window_display": false
  }
 },
 "nbformat": 4,
 "nbformat_minor": 4
}
