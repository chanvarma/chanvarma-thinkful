{
 "cells": [
  {
   "cell_type": "code",
   "execution_count": 477,
   "metadata": {
    "ExecuteTime": {
     "end_time": "2019-07-09T07:20:52.567985Z",
     "start_time": "2019-07-09T07:20:52.554526Z"
    }
   },
   "outputs": [],
   "source": [
    "import numpy as np\n",
    "import pandas as pd\n",
    "import matplotlib.pyplot as plt\n",
    "import datetime as dt\n",
    "plt.style.use('ggplot')\n",
    "%matplotlib inline"
   ]
  },
  {
   "cell_type": "code",
   "execution_count": 159,
   "metadata": {
    "ExecuteTime": {
     "end_time": "2019-07-09T02:16:12.376557Z",
     "start_time": "2019-07-09T02:16:12.371164Z"
    }
   },
   "outputs": [],
   "source": [
    "GREEN = '#1dab16'\n",
    "PURPLE = '#ab167c'"
   ]
  },
  {
   "cell_type": "markdown",
   "metadata": {},
   "source": [
    "## Introduction"
   ]
  },
  {
   "cell_type": "markdown",
   "metadata": {},
   "source": [
    "The anonymised trip data is from Lyft's bike rental program, Bay Wheels, currently being piloted in the Bay Area. More information can be found [here](https://www.lyft.com/bikes/bay-wheels/system-data).\n",
    "\n",
    "I wanted to put on my Marketing hat on and answer a few advertising related questions:\n",
    "1. What are the key demographics amongst the users?\n",
    "2. How do the usage trends differ by gender?\n",
    "3. What stations reflect ideal locations for print advertising?\n",
    "4. If possible, how can trip data guide advertising copy?\n"
   ]
  },
  {
   "cell_type": "markdown",
   "metadata": {},
   "source": [
    "## Reading the data"
   ]
  },
  {
   "cell_type": "code",
   "execution_count": 522,
   "metadata": {
    "ExecuteTime": {
     "end_time": "2019-07-09T07:34:05.884830Z",
     "start_time": "2019-07-09T07:33:52.661888Z"
    },
    "scrolled": true
   },
   "outputs": [
    {
     "data": {
      "text/plain": [
       "duration_sec                 int64\n",
       "start_time                  object\n",
       "end_time                    object\n",
       "start_station_id             int64\n",
       "start_station_name          object\n",
       "start_station_latitude     float64\n",
       "start_station_longitude    float64\n",
       "end_station_id               int64\n",
       "end_station_name            object\n",
       "end_station_latitude       float64\n",
       "end_station_longitude      float64\n",
       "bike_id                      int64\n",
       "user_type                   object\n",
       "member_birth_year          float64\n",
       "member_gender               object\n",
       "dtype: object"
      ]
     },
     "execution_count": 522,
     "metadata": {},
     "output_type": "execute_result"
    }
   ],
   "source": [
    "data = pd.read_csv('https://s3.amazonaws.com/baywheels-data/2017-fordgobike-tripdata.csv')\n",
    "data_copy = data.copy()\n",
    "data.dtypes"
   ]
  },
  {
   "cell_type": "code",
   "execution_count": 528,
   "metadata": {
    "ExecuteTime": {
     "end_time": "2019-07-09T07:35:34.023348Z",
     "start_time": "2019-07-09T07:35:33.780235Z"
    }
   },
   "outputs": [],
   "source": [
    "# RUN ONLY WHEN NECESSARY\n",
    "data = data_copy.copy()"
   ]
  },
  {
   "cell_type": "code",
   "execution_count": 529,
   "metadata": {
    "ExecuteTime": {
     "end_time": "2019-07-09T07:35:37.309677Z",
     "start_time": "2019-07-09T07:35:36.065054Z"
    }
   },
   "outputs": [
    {
     "data": {
      "text/plain": [
       "duration_sec                 int64\n",
       "start_time                  object\n",
       "end_time                    object\n",
       "start_station_id             int64\n",
       "start_station_name          object\n",
       "start_station_latitude     float64\n",
       "start_station_longitude    float64\n",
       "end_station_id               int64\n",
       "end_station_name            object\n",
       "end_station_latitude       float64\n",
       "end_station_longitude      float64\n",
       "bike_id                      int64\n",
       "user_type                   object\n",
       "member_birth_year          float64\n",
       "member_gender               object\n",
       "start_day_of_week            int64\n",
       "start_date                  object\n",
       "end_date                    object\n",
       "dtype: object"
      ]
     },
     "execution_count": 529,
     "metadata": {},
     "output_type": "execute_result"
    }
   ],
   "source": [
    "#Convert time variables to date_time format.\n",
    "data[['start_time', 'end_time']] = data[['start_time', 'end_time']].apply(pd.to_datetime)\n",
    "\n",
    "data['start_day_of_week'] = data['start_time'].dt.dayofweek\n",
    "data['start_date'] = data['start_time'].dt.date\n",
    "data['end_date'] = data['end_time'].dt.date\n",
    "data['start_time'] = data['start_time'].dt.time\n",
    "data['end_time'] = data['end_time'].dt.time\n",
    "\n",
    "data.dtypes"
   ]
  },
  {
   "cell_type": "code",
   "execution_count": 530,
   "metadata": {
    "ExecuteTime": {
     "end_time": "2019-07-09T07:35:41.184051Z",
     "start_time": "2019-07-09T07:35:41.152615Z"
    },
    "scrolled": true
   },
   "outputs": [
    {
     "data": {
      "text/html": [
       "<div>\n",
       "<style scoped>\n",
       "    .dataframe tbody tr th:only-of-type {\n",
       "        vertical-align: middle;\n",
       "    }\n",
       "\n",
       "    .dataframe tbody tr th {\n",
       "        vertical-align: top;\n",
       "    }\n",
       "\n",
       "    .dataframe thead th {\n",
       "        text-align: right;\n",
       "    }\n",
       "</style>\n",
       "<table border=\"1\" class=\"dataframe\">\n",
       "  <thead>\n",
       "    <tr style=\"text-align: right;\">\n",
       "      <th></th>\n",
       "      <th>duration_sec</th>\n",
       "      <th>start_time</th>\n",
       "      <th>end_time</th>\n",
       "      <th>start_station_id</th>\n",
       "      <th>start_station_name</th>\n",
       "      <th>start_station_latitude</th>\n",
       "      <th>start_station_longitude</th>\n",
       "      <th>end_station_id</th>\n",
       "      <th>end_station_name</th>\n",
       "      <th>end_station_latitude</th>\n",
       "      <th>end_station_longitude</th>\n",
       "      <th>bike_id</th>\n",
       "      <th>user_type</th>\n",
       "      <th>member_birth_year</th>\n",
       "      <th>member_gender</th>\n",
       "      <th>start_day_of_week</th>\n",
       "      <th>start_date</th>\n",
       "      <th>end_date</th>\n",
       "    </tr>\n",
       "  </thead>\n",
       "  <tbody>\n",
       "    <tr>\n",
       "      <th>0</th>\n",
       "      <td>80110</td>\n",
       "      <td>16:57:39.654000</td>\n",
       "      <td>15:12:50.245000</td>\n",
       "      <td>74</td>\n",
       "      <td>Laguna St at Hayes St</td>\n",
       "      <td>37.776435</td>\n",
       "      <td>-122.426244</td>\n",
       "      <td>43</td>\n",
       "      <td>San Francisco Public Library (Grove St at Hyde...</td>\n",
       "      <td>37.778768</td>\n",
       "      <td>-122.415929</td>\n",
       "      <td>96</td>\n",
       "      <td>Customer</td>\n",
       "      <td>1987.0</td>\n",
       "      <td>Male</td>\n",
       "      <td>6</td>\n",
       "      <td>2017-12-31</td>\n",
       "      <td>2018-01-01</td>\n",
       "    </tr>\n",
       "    <tr>\n",
       "      <th>1</th>\n",
       "      <td>78800</td>\n",
       "      <td>15:56:34.842000</td>\n",
       "      <td>13:49:55.617000</td>\n",
       "      <td>284</td>\n",
       "      <td>Yerba Buena Center for the Arts (Howard St at ...</td>\n",
       "      <td>37.784872</td>\n",
       "      <td>-122.400876</td>\n",
       "      <td>96</td>\n",
       "      <td>Dolores St at 15th St</td>\n",
       "      <td>37.766210</td>\n",
       "      <td>-122.426614</td>\n",
       "      <td>88</td>\n",
       "      <td>Customer</td>\n",
       "      <td>1965.0</td>\n",
       "      <td>Female</td>\n",
       "      <td>6</td>\n",
       "      <td>2017-12-31</td>\n",
       "      <td>2018-01-01</td>\n",
       "    </tr>\n",
       "    <tr>\n",
       "      <th>2</th>\n",
       "      <td>45768</td>\n",
       "      <td>22:45:48.411000</td>\n",
       "      <td>11:28:36.883000</td>\n",
       "      <td>245</td>\n",
       "      <td>Downtown Berkeley BART</td>\n",
       "      <td>37.870348</td>\n",
       "      <td>-122.267764</td>\n",
       "      <td>245</td>\n",
       "      <td>Downtown Berkeley BART</td>\n",
       "      <td>37.870348</td>\n",
       "      <td>-122.267764</td>\n",
       "      <td>1094</td>\n",
       "      <td>Customer</td>\n",
       "      <td>NaN</td>\n",
       "      <td>NaN</td>\n",
       "      <td>6</td>\n",
       "      <td>2017-12-31</td>\n",
       "      <td>2018-01-01</td>\n",
       "    </tr>\n",
       "    <tr>\n",
       "      <th>3</th>\n",
       "      <td>62172</td>\n",
       "      <td>17:31:10.636000</td>\n",
       "      <td>10:47:23.531000</td>\n",
       "      <td>60</td>\n",
       "      <td>8th St at Ringold St</td>\n",
       "      <td>37.774520</td>\n",
       "      <td>-122.409449</td>\n",
       "      <td>5</td>\n",
       "      <td>Powell St BART Station (Market St at 5th St)</td>\n",
       "      <td>37.783899</td>\n",
       "      <td>-122.408445</td>\n",
       "      <td>2831</td>\n",
       "      <td>Customer</td>\n",
       "      <td>NaN</td>\n",
       "      <td>NaN</td>\n",
       "      <td>6</td>\n",
       "      <td>2017-12-31</td>\n",
       "      <td>2018-01-01</td>\n",
       "    </tr>\n",
       "    <tr>\n",
       "      <th>4</th>\n",
       "      <td>43603</td>\n",
       "      <td>14:23:14.001000</td>\n",
       "      <td>02:29:57.571000</td>\n",
       "      <td>239</td>\n",
       "      <td>Bancroft Way at Telegraph Ave</td>\n",
       "      <td>37.868813</td>\n",
       "      <td>-122.258764</td>\n",
       "      <td>247</td>\n",
       "      <td>Fulton St at Bancroft Way</td>\n",
       "      <td>37.867789</td>\n",
       "      <td>-122.265896</td>\n",
       "      <td>3167</td>\n",
       "      <td>Subscriber</td>\n",
       "      <td>1997.0</td>\n",
       "      <td>Female</td>\n",
       "      <td>6</td>\n",
       "      <td>2017-12-31</td>\n",
       "      <td>2018-01-01</td>\n",
       "    </tr>\n",
       "  </tbody>\n",
       "</table>\n",
       "</div>"
      ],
      "text/plain": [
       "   duration_sec       start_time         end_time  start_station_id  \\\n",
       "0         80110  16:57:39.654000  15:12:50.245000                74   \n",
       "1         78800  15:56:34.842000  13:49:55.617000               284   \n",
       "2         45768  22:45:48.411000  11:28:36.883000               245   \n",
       "3         62172  17:31:10.636000  10:47:23.531000                60   \n",
       "4         43603  14:23:14.001000  02:29:57.571000               239   \n",
       "\n",
       "                                  start_station_name  start_station_latitude  \\\n",
       "0                              Laguna St at Hayes St               37.776435   \n",
       "1  Yerba Buena Center for the Arts (Howard St at ...               37.784872   \n",
       "2                             Downtown Berkeley BART               37.870348   \n",
       "3                               8th St at Ringold St               37.774520   \n",
       "4                      Bancroft Way at Telegraph Ave               37.868813   \n",
       "\n",
       "   start_station_longitude  end_station_id  \\\n",
       "0              -122.426244              43   \n",
       "1              -122.400876              96   \n",
       "2              -122.267764             245   \n",
       "3              -122.409449               5   \n",
       "4              -122.258764             247   \n",
       "\n",
       "                                    end_station_name  end_station_latitude  \\\n",
       "0  San Francisco Public Library (Grove St at Hyde...             37.778768   \n",
       "1                              Dolores St at 15th St             37.766210   \n",
       "2                             Downtown Berkeley BART             37.870348   \n",
       "3       Powell St BART Station (Market St at 5th St)             37.783899   \n",
       "4                          Fulton St at Bancroft Way             37.867789   \n",
       "\n",
       "   end_station_longitude  bike_id   user_type  member_birth_year  \\\n",
       "0            -122.415929       96    Customer             1987.0   \n",
       "1            -122.426614       88    Customer             1965.0   \n",
       "2            -122.267764     1094    Customer                NaN   \n",
       "3            -122.408445     2831    Customer                NaN   \n",
       "4            -122.265896     3167  Subscriber             1997.0   \n",
       "\n",
       "  member_gender  start_day_of_week  start_date    end_date  \n",
       "0          Male                  6  2017-12-31  2018-01-01  \n",
       "1        Female                  6  2017-12-31  2018-01-01  \n",
       "2           NaN                  6  2017-12-31  2018-01-01  \n",
       "3           NaN                  6  2017-12-31  2018-01-01  \n",
       "4        Female                  6  2017-12-31  2018-01-01  "
      ]
     },
     "execution_count": 530,
     "metadata": {},
     "output_type": "execute_result"
    }
   ],
   "source": [
    "data.head()"
   ]
  },
  {
   "cell_type": "code",
   "execution_count": 531,
   "metadata": {
    "ExecuteTime": {
     "end_time": "2019-07-09T07:35:51.404316Z",
     "start_time": "2019-07-09T07:35:50.844230Z"
    },
    "scrolled": true
   },
   "outputs": [
    {
     "data": {
      "text/html": [
       "<div>\n",
       "<style scoped>\n",
       "    .dataframe tbody tr th:only-of-type {\n",
       "        vertical-align: middle;\n",
       "    }\n",
       "\n",
       "    .dataframe tbody tr th {\n",
       "        vertical-align: top;\n",
       "    }\n",
       "\n",
       "    .dataframe thead th {\n",
       "        text-align: right;\n",
       "    }\n",
       "</style>\n",
       "<table border=\"1\" class=\"dataframe\">\n",
       "  <thead>\n",
       "    <tr style=\"text-align: right;\">\n",
       "      <th></th>\n",
       "      <th>duration_sec</th>\n",
       "      <th>start_station_id</th>\n",
       "      <th>start_station_latitude</th>\n",
       "      <th>start_station_longitude</th>\n",
       "      <th>end_station_id</th>\n",
       "      <th>end_station_latitude</th>\n",
       "      <th>end_station_longitude</th>\n",
       "      <th>bike_id</th>\n",
       "      <th>member_birth_year</th>\n",
       "      <th>start_day_of_week</th>\n",
       "    </tr>\n",
       "  </thead>\n",
       "  <tbody>\n",
       "    <tr>\n",
       "      <th>count</th>\n",
       "      <td>519700.000000</td>\n",
       "      <td>519700.000000</td>\n",
       "      <td>519700.000000</td>\n",
       "      <td>519700.000000</td>\n",
       "      <td>519700.000000</td>\n",
       "      <td>519700.000000</td>\n",
       "      <td>519700.000000</td>\n",
       "      <td>519700.000000</td>\n",
       "      <td>453159.000000</td>\n",
       "      <td>519700.000000</td>\n",
       "    </tr>\n",
       "    <tr>\n",
       "      <th>mean</th>\n",
       "      <td>1099.009521</td>\n",
       "      <td>95.034245</td>\n",
       "      <td>37.771653</td>\n",
       "      <td>-122.363927</td>\n",
       "      <td>92.184041</td>\n",
       "      <td>37.771844</td>\n",
       "      <td>-122.363236</td>\n",
       "      <td>1672.533079</td>\n",
       "      <td>1980.404787</td>\n",
       "      <td>2.637048</td>\n",
       "    </tr>\n",
       "    <tr>\n",
       "      <th>std</th>\n",
       "      <td>3444.146451</td>\n",
       "      <td>86.083078</td>\n",
       "      <td>0.086305</td>\n",
       "      <td>0.105573</td>\n",
       "      <td>84.969491</td>\n",
       "      <td>0.086224</td>\n",
       "      <td>0.105122</td>\n",
       "      <td>971.356959</td>\n",
       "      <td>10.513488</td>\n",
       "      <td>1.859312</td>\n",
       "    </tr>\n",
       "    <tr>\n",
       "      <th>min</th>\n",
       "      <td>61.000000</td>\n",
       "      <td>3.000000</td>\n",
       "      <td>37.317298</td>\n",
       "      <td>-122.444293</td>\n",
       "      <td>3.000000</td>\n",
       "      <td>37.317298</td>\n",
       "      <td>-122.444293</td>\n",
       "      <td>10.000000</td>\n",
       "      <td>1886.000000</td>\n",
       "      <td>0.000000</td>\n",
       "    </tr>\n",
       "    <tr>\n",
       "      <th>25%</th>\n",
       "      <td>382.000000</td>\n",
       "      <td>24.000000</td>\n",
       "      <td>37.773492</td>\n",
       "      <td>-122.411726</td>\n",
       "      <td>23.000000</td>\n",
       "      <td>37.774520</td>\n",
       "      <td>-122.410345</td>\n",
       "      <td>787.000000</td>\n",
       "      <td>1974.000000</td>\n",
       "      <td>1.000000</td>\n",
       "    </tr>\n",
       "    <tr>\n",
       "      <th>50%</th>\n",
       "      <td>596.000000</td>\n",
       "      <td>67.000000</td>\n",
       "      <td>37.783521</td>\n",
       "      <td>-122.398870</td>\n",
       "      <td>66.000000</td>\n",
       "      <td>37.783830</td>\n",
       "      <td>-122.398525</td>\n",
       "      <td>1728.500000</td>\n",
       "      <td>1983.000000</td>\n",
       "      <td>3.000000</td>\n",
       "    </tr>\n",
       "    <tr>\n",
       "      <th>75%</th>\n",
       "      <td>938.000000</td>\n",
       "      <td>139.000000</td>\n",
       "      <td>37.795392</td>\n",
       "      <td>-122.391034</td>\n",
       "      <td>134.000000</td>\n",
       "      <td>37.795392</td>\n",
       "      <td>-122.391034</td>\n",
       "      <td>2520.000000</td>\n",
       "      <td>1988.000000</td>\n",
       "      <td>4.000000</td>\n",
       "    </tr>\n",
       "    <tr>\n",
       "      <th>max</th>\n",
       "      <td>86369.000000</td>\n",
       "      <td>340.000000</td>\n",
       "      <td>37.880222</td>\n",
       "      <td>-121.874119</td>\n",
       "      <td>340.000000</td>\n",
       "      <td>37.880222</td>\n",
       "      <td>-121.874119</td>\n",
       "      <td>3733.000000</td>\n",
       "      <td>1999.000000</td>\n",
       "      <td>6.000000</td>\n",
       "    </tr>\n",
       "  </tbody>\n",
       "</table>\n",
       "</div>"
      ],
      "text/plain": [
       "        duration_sec  start_station_id  start_station_latitude  \\\n",
       "count  519700.000000     519700.000000           519700.000000   \n",
       "mean     1099.009521         95.034245               37.771653   \n",
       "std      3444.146451         86.083078                0.086305   \n",
       "min        61.000000          3.000000               37.317298   \n",
       "25%       382.000000         24.000000               37.773492   \n",
       "50%       596.000000         67.000000               37.783521   \n",
       "75%       938.000000        139.000000               37.795392   \n",
       "max     86369.000000        340.000000               37.880222   \n",
       "\n",
       "       start_station_longitude  end_station_id  end_station_latitude  \\\n",
       "count            519700.000000   519700.000000         519700.000000   \n",
       "mean               -122.363927       92.184041             37.771844   \n",
       "std                   0.105573       84.969491              0.086224   \n",
       "min                -122.444293        3.000000             37.317298   \n",
       "25%                -122.411726       23.000000             37.774520   \n",
       "50%                -122.398870       66.000000             37.783830   \n",
       "75%                -122.391034      134.000000             37.795392   \n",
       "max                -121.874119      340.000000             37.880222   \n",
       "\n",
       "       end_station_longitude        bike_id  member_birth_year  \\\n",
       "count          519700.000000  519700.000000      453159.000000   \n",
       "mean             -122.363236    1672.533079        1980.404787   \n",
       "std                 0.105122     971.356959          10.513488   \n",
       "min              -122.444293      10.000000        1886.000000   \n",
       "25%              -122.410345     787.000000        1974.000000   \n",
       "50%              -122.398525    1728.500000        1983.000000   \n",
       "75%              -122.391034    2520.000000        1988.000000   \n",
       "max              -121.874119    3733.000000        1999.000000   \n",
       "\n",
       "       start_day_of_week  \n",
       "count      519700.000000  \n",
       "mean            2.637048  \n",
       "std             1.859312  \n",
       "min             0.000000  \n",
       "25%             1.000000  \n",
       "50%             3.000000  \n",
       "75%             4.000000  \n",
       "max             6.000000  "
      ]
     },
     "execution_count": 531,
     "metadata": {},
     "output_type": "execute_result"
    }
   ],
   "source": [
    "data.describe()"
   ]
  },
  {
   "cell_type": "markdown",
   "metadata": {},
   "source": [
    "## Basic EDA and data cleaning"
   ]
  },
  {
   "cell_type": "markdown",
   "metadata": {},
   "source": [
    "We introduce a `duration_min` column to more intuitively understand trip duration times."
   ]
  },
  {
   "cell_type": "code",
   "execution_count": 532,
   "metadata": {
    "ExecuteTime": {
     "end_time": "2019-07-09T07:35:55.993569Z",
     "start_time": "2019-07-09T07:35:55.955171Z"
    }
   },
   "outputs": [
    {
     "data": {
      "text/plain": [
       "count    519700.000000\n",
       "mean         18.316825\n",
       "std          57.402441\n",
       "min           1.016667\n",
       "25%           6.366667\n",
       "50%           9.933333\n",
       "75%          15.633333\n",
       "max        1439.483333\n",
       "Name: duration_min, dtype: float64"
      ]
     },
     "execution_count": 532,
     "metadata": {},
     "output_type": "execute_result"
    }
   ],
   "source": [
    "data['duration_min'] = data['duration_sec']/60\n",
    "data['duration_min'].describe()"
   ]
  },
  {
   "cell_type": "code",
   "execution_count": 533,
   "metadata": {
    "ExecuteTime": {
     "end_time": "2019-07-09T07:35:57.960182Z",
     "start_time": "2019-07-09T07:35:57.534399Z"
    },
    "scrolled": false
   },
   "outputs": [
    {
     "data": {
      "image/png": "[encoded data removed]",
      "text/plain": [
       "<Figure size 720x720 with 1 Axes>"
      ]
     },
     "metadata": {
      "needs_background": "light"
     },
     "output_type": "display_data"
    }
   ],
   "source": [
    "plt.figure(figsize=(10, 10))\n",
    "plt.boxplot(data['duration_min'])\n",
    "plt.title('Box plot of trip duration (in mins)')\n",
    "plt.xlabel('')\n",
    "plt.ylabel('mins')\n",
    "plt.show()"
   ]
  },
  {
   "cell_type": "markdown",
   "metadata": {},
   "source": [
    "As suspected, there are outliers in the data, and these outliers are skewing our mean and median estimates. We remove all values that are outside the 95th percentile for `duration_min`. "
   ]
  },
  {
   "cell_type": "code",
   "execution_count": 534,
   "metadata": {
    "ExecuteTime": {
     "end_time": "2019-07-09T07:36:00.389658Z",
     "start_time": "2019-07-09T07:36:00.145027Z"
    }
   },
   "outputs": [
    {
     "data": {
      "text/plain": [
       "count    493714.000000\n",
       "mean         11.186364\n",
       "std           6.798796\n",
       "min           1.016667\n",
       "25%           6.200000\n",
       "50%           9.533333\n",
       "75%          14.433333\n",
       "max          37.300000\n",
       "Name: duration_min, dtype: float64"
      ]
     },
     "execution_count": 534,
     "metadata": {},
     "output_type": "execute_result"
    }
   ],
   "source": [
    "outliers_removed = data[data['duration_min'] < data['duration_min'].quantile(.95)]\n",
    "outliers_removed['duration_min'].describe()"
   ]
  },
  {
   "cell_type": "code",
   "execution_count": 535,
   "metadata": {
    "ExecuteTime": {
     "end_time": "2019-07-09T07:36:02.244370Z",
     "start_time": "2019-07-09T07:36:01.902417Z"
    },
    "scrolled": false
   },
   "outputs": [
    {
     "data": {
      "image/png": "[encoded data removed]",
      "text/plain": [
       "<Figure size 720x720 with 1 Axes>"
      ]
     },
     "metadata": {
      "needs_background": "light"
     },
     "output_type": "display_data"
    }
   ],
   "source": [
    "plt.figure(figsize=(10, 10))\n",
    "plt.boxplot(outliers_removed['duration_min'])\n",
    "plt.title('Box plot of trip duration (in mins) -- outliers removed')\n",
    "plt.xlabel('')\n",
    "plt.ylabel('mins')\n",
    "plt.show()"
   ]
  },
  {
   "cell_type": "markdown",
   "metadata": {},
   "source": [
    "There still are outliers, but at least the means and modes are more reflective of the data. We plot a histogram of `duration_min` to see if we need to further splice the data."
   ]
  },
  {
   "cell_type": "code",
   "execution_count": 536,
   "metadata": {
    "ExecuteTime": {
     "end_time": "2019-07-09T07:36:04.997683Z",
     "start_time": "2019-07-09T07:36:04.361169Z"
    },
    "scrolled": false
   },
   "outputs": [
    {
     "data": {
      "image/png": "[encoded data removed]",
      "text/plain": [
       "<Figure size 1440x576 with 1 Axes>"
      ]
     },
     "metadata": {
      "needs_background": "light"
     },
     "output_type": "display_data"
    }
   ],
   "source": [
    "plt.figure(figsize=(20, 8))\n",
    "\n",
    "plt.hist(outliers_removed['duration_min'], bins = 80, color='#3396FF')\n",
    "plt.title('Histogram of trip duration (in min)')\n",
    "plt.ylabel('Number of rides')\n",
    "plt.xlabel('Trip duration (in mins)')\n",
    "plt.show()"
   ]
  },
  {
   "cell_type": "markdown",
   "metadata": {},
   "source": [
    "The data is right-skewed, but doesn't seem to contain too many drastic outliers. A max trip duration of ~40 minutes seems plausible. \n",
    "\n",
    "Moving on: we count the number of NaNs in the sample..."
   ]
  },
  {
   "cell_type": "code",
   "execution_count": 537,
   "metadata": {
    "ExecuteTime": {
     "end_time": "2019-07-09T07:36:07.996538Z",
     "start_time": "2019-07-09T07:36:07.645144Z"
    },
    "scrolled": true
   },
   "outputs": [
    {
     "data": {
      "text/plain": [
       "duration_sec                   0\n",
       "start_time                     0\n",
       "end_time                       0\n",
       "start_station_id               0\n",
       "start_station_name             0\n",
       "start_station_latitude         0\n",
       "start_station_longitude        0\n",
       "end_station_id                 0\n",
       "end_station_name               0\n",
       "end_station_latitude           0\n",
       "end_station_longitude          0\n",
       "bike_id                        0\n",
       "user_type                      0\n",
       "member_birth_year          50996\n",
       "member_gender              50917\n",
       "start_day_of_week              0\n",
       "start_date                     0\n",
       "end_date                       0\n",
       "duration_min                   0\n",
       "dtype: int64"
      ]
     },
     "execution_count": 537,
     "metadata": {},
     "output_type": "execute_result"
    }
   ],
   "source": [
    "outliers_removed.isna().sum()"
   ]
  },
  {
   "cell_type": "code",
   "execution_count": 538,
   "metadata": {
    "ExecuteTime": {
     "end_time": "2019-07-09T07:36:11.883308Z",
     "start_time": "2019-07-09T07:36:09.649615Z"
    }
   },
   "outputs": [
    {
     "name": "stderr",
     "output_type": "stream",
     "text": [
      "/Users/chan/anaconda3/lib/python3.7/site-packages/ipykernel_launcher.py:1: SettingWithCopyWarning: \n",
      "A value is trying to be set on a copy of a slice from a DataFrame\n",
      "\n",
      "See the caveats in the documentation: http://pandas.pydata.org/pandas-docs/stable/indexing.html#indexing-view-versus-copy\n",
      "  \"\"\"Entry point for launching an IPython kernel.\n"
     ]
    },
    {
     "data": {
      "text/plain": [
       "0"
      ]
     },
     "execution_count": 538,
     "metadata": {},
     "output_type": "execute_result"
    }
   ],
   "source": [
    "outliers_removed.dropna(inplace=True)\n",
    "outliers_removed.isna().sum().sum()"
   ]
  },
  {
   "cell_type": "markdown",
   "metadata": {},
   "source": [
    "...and drop all NaN rows. \n",
    "\n",
    "Finally, we box-plot the `member_birth_year` to make sure data doesn't have anomalous values. Before that, we create a `member_age` column to more intuitively understand the age."
   ]
  },
  {
   "cell_type": "code",
   "execution_count": 539,
   "metadata": {
    "ExecuteTime": {
     "end_time": "2019-07-09T07:36:15.609862Z",
     "start_time": "2019-07-09T07:36:14.187142Z"
    },
    "scrolled": false
   },
   "outputs": [
    {
     "name": "stderr",
     "output_type": "stream",
     "text": [
      "/Users/chan/anaconda3/lib/python3.7/site-packages/ipykernel_launcher.py:1: SettingWithCopyWarning: \n",
      "A value is trying to be set on a copy of a slice from a DataFrame.\n",
      "Try using .loc[row_indexer,col_indexer] = value instead\n",
      "\n",
      "See the caveats in the documentation: http://pandas.pydata.org/pandas-docs/stable/indexing.html#indexing-view-versus-copy\n",
      "  \"\"\"Entry point for launching an IPython kernel.\n"
     ]
    },
    {
     "data": {
      "image/png": "[encoded data removed]",
      "text/plain": [
       "<Figure size 360x360 with 1 Axes>"
      ]
     },
     "metadata": {
      "needs_background": "light"
     },
     "output_type": "display_data"
    }
   ],
   "source": [
    "outliers_removed['member_age'] = 2019 - outliers_removed['member_birth_year']\n",
    "\n",
    "plt.figure(figsize=(5, 5))\n",
    "plt.boxplot(outliers_removed['member_age'])\n",
    "plt.title('Box plot of member ages')\n",
    "plt.xlabel('')\n",
    "plt.ylabel('years')\n",
    "plt.show()"
   ]
  },
  {
   "cell_type": "markdown",
   "metadata": {},
   "source": [
    "Clearly, outliers exist. We remove all people above the age of 90. "
   ]
  },
  {
   "cell_type": "code",
   "execution_count": 540,
   "metadata": {
    "ExecuteTime": {
     "end_time": "2019-07-09T07:36:18.095865Z",
     "start_time": "2019-07-09T07:36:17.922095Z"
    },
    "scrolled": true
   },
   "outputs": [
    {
     "data": {
      "text/plain": [
       "count    442246.000000\n",
       "mean         38.513205\n",
       "std          10.197904\n",
       "min          20.000000\n",
       "25%          31.000000\n",
       "50%          36.000000\n",
       "75%          45.000000\n",
       "max          86.000000\n",
       "Name: member_age, dtype: float64"
      ]
     },
     "execution_count": 540,
     "metadata": {},
     "output_type": "execute_result"
    }
   ],
   "source": [
    "outliers_removed = outliers_removed.loc[outliers_removed['member_age'] < 90]\n",
    "outliers_removed['member_age'].describe()"
   ]
  },
  {
   "cell_type": "code",
   "execution_count": 541,
   "metadata": {
    "ExecuteTime": {
     "end_time": "2019-07-09T07:36:19.779501Z",
     "start_time": "2019-07-09T07:36:19.539064Z"
    }
   },
   "outputs": [
    {
     "data": {
      "image/png": "[encoded data removed]",
      "text/plain": [
       "<Figure size 360x360 with 1 Axes>"
      ]
     },
     "metadata": {
      "needs_background": "light"
     },
     "output_type": "display_data"
    }
   ],
   "source": [
    "plt.figure(figsize=(5, 5))\n",
    "plt.boxplot(outliers_removed['member_age'])\n",
    "plt.title('Box plot of member ages -- outliers above the age of 90 removed')\n",
    "plt.xlabel('')\n",
    "plt.ylabel('years')\n",
    "plt.ylim(0, 100)\n",
    "plt.show()"
   ]
  },
  {
   "cell_type": "code",
   "execution_count": null,
   "metadata": {},
   "outputs": [],
   "source": []
  },
  {
   "cell_type": "markdown",
   "metadata": {},
   "source": [
    "Everything looks good. We can proceed with EDA."
   ]
  },
  {
   "cell_type": "markdown",
   "metadata": {},
   "source": [
    "## EDA "
   ]
  },
  {
   "cell_type": "markdown",
   "metadata": {},
   "source": [
    "### Gender composition of sample"
   ]
  },
  {
   "cell_type": "markdown",
   "metadata": {},
   "source": [
    "Since we're interested in the demographics of the bikers, we group by `member_gender`."
   ]
  },
  {
   "cell_type": "code",
   "execution_count": 542,
   "metadata": {
    "ExecuteTime": {
     "end_time": "2019-07-09T07:36:27.495744Z",
     "start_time": "2019-07-09T07:36:27.442951Z"
    }
   },
   "outputs": [
    {
     "data": {
      "text/html": [
       "<div>\n",
       "<style scoped>\n",
       "    .dataframe tbody tr th:only-of-type {\n",
       "        vertical-align: middle;\n",
       "    }\n",
       "\n",
       "    .dataframe tbody tr th {\n",
       "        vertical-align: top;\n",
       "    }\n",
       "\n",
       "    .dataframe thead th {\n",
       "        text-align: right;\n",
       "    }\n",
       "</style>\n",
       "<table border=\"1\" class=\"dataframe\">\n",
       "  <thead>\n",
       "    <tr style=\"text-align: right;\">\n",
       "      <th></th>\n",
       "      <th>count</th>\n",
       "    </tr>\n",
       "    <tr>\n",
       "      <th>member_gender</th>\n",
       "      <th></th>\n",
       "    </tr>\n",
       "  </thead>\n",
       "  <tbody>\n",
       "    <tr>\n",
       "      <th>Female</th>\n",
       "      <td>95088</td>\n",
       "    </tr>\n",
       "    <tr>\n",
       "      <th>Male</th>\n",
       "      <td>341203</td>\n",
       "    </tr>\n",
       "    <tr>\n",
       "      <th>Other</th>\n",
       "      <td>5955</td>\n",
       "    </tr>\n",
       "  </tbody>\n",
       "</table>\n",
       "</div>"
      ],
      "text/plain": [
       "                count\n",
       "member_gender        \n",
       "Female          95088\n",
       "Male           341203\n",
       "Other            5955"
      ]
     },
     "execution_count": 542,
     "metadata": {},
     "output_type": "execute_result"
    }
   ],
   "source": [
    "gender_groupby = pd.Series.to_frame(outliers_removed.groupby(by=['member_gender']).size())\n",
    "gender_groupby.rename(columns={0:'count'}, inplace=True)\n",
    "gender_groupby"
   ]
  },
  {
   "cell_type": "markdown",
   "metadata": {},
   "source": [
    "And this gender-composition can be better represented by a pie chart. "
   ]
  },
  {
   "cell_type": "code",
   "execution_count": 543,
   "metadata": {
    "ExecuteTime": {
     "end_time": "2019-07-09T07:36:29.611566Z",
     "start_time": "2019-07-09T07:36:29.489875Z"
    }
   },
   "outputs": [
    {
     "data": {
      "image/png": "[encoded data removed]",
      "text/plain": [
       "<Figure size 360x360 with 1 Axes>"
      ]
     },
     "metadata": {},
     "output_type": "display_data"
    }
   ],
   "source": [
    "plt.figure(figsize=(5, 5))\n",
    "plt.pie(x = gender_groupby['count'], labels=gender_groupby.index, autopct='%1.1f%%')\n",
    "plt.show()"
   ]
  },
  {
   "cell_type": "markdown",
   "metadata": {
    "ExecuteTime": {
     "end_time": "2019-07-09T04:20:53.278183Z",
     "start_time": "2019-07-09T04:20:53.268833Z"
    }
   },
   "source": [
    "Since it comprises less than 2% of our results, we will omit the 'Other' category for convenience in analysis."
   ]
  },
  {
   "cell_type": "code",
   "execution_count": 544,
   "metadata": {
    "ExecuteTime": {
     "end_time": "2019-07-09T07:36:32.448208Z",
     "start_time": "2019-07-09T07:36:32.220575Z"
    }
   },
   "outputs": [],
   "source": [
    "male_cust = outliers_removed.loc[outliers_removed['member_gender'] == 'Male']\n",
    "female_cust = outliers_removed.loc[outliers_removed['member_gender'] == 'Female']"
   ]
  },
  {
   "cell_type": "markdown",
   "metadata": {},
   "source": [
    "### Comparing trip duration across gender groups"
   ]
  },
  {
   "cell_type": "code",
   "execution_count": 545,
   "metadata": {
    "ExecuteTime": {
     "end_time": "2019-07-09T07:36:34.556866Z",
     "start_time": "2019-07-09T07:36:33.547356Z"
    }
   },
   "outputs": [
    {
     "data": {
      "image/png": "[encoded data removed]",
      "text/plain": [
       "<Figure size 1440x576 with 1 Axes>"
      ]
     },
     "metadata": {
      "needs_background": "light"
     },
     "output_type": "display_data"
    }
   ],
   "source": [
    "plt.figure(figsize=(20, 8))\n",
    "\n",
    "plt.hist(male_cust['duration_min'], bins=150, density=True, color=GREEN, alpha=0.5)\n",
    "plt.hist(female_cust['duration_min'], bins=150, density=True, color=PURPLE, alpha=0.5)\n",
    "\n",
    "plt.show()"
   ]
  },
  {
   "cell_type": "code",
   "execution_count": 546,
   "metadata": {
    "ExecuteTime": {
     "end_time": "2019-07-09T07:36:37.228403Z",
     "start_time": "2019-07-09T07:36:36.527442Z"
    }
   },
   "outputs": [
    {
     "data": {
      "image/png": "[encoded data removed]",
      "text/plain": [
       "<Figure size 1440x576 with 1 Axes>"
      ]
     },
     "metadata": {
      "needs_background": "light"
     },
     "output_type": "display_data"
    }
   ],
   "source": [
    "plt.figure(figsize=(20, 8))\n",
    "\n",
    "plt.hist(male_cust['member_age'], bins=60, density=True, color=GREEN, alpha=0.5)\n",
    "plt.hist(female_cust['member_age'], bins=60, density=True, color=PURPLE, alpha=0.5)\n",
    "\n",
    "plt.show()"
   ]
  },
  {
   "cell_type": "code",
   "execution_count": 547,
   "metadata": {
    "ExecuteTime": {
     "end_time": "2019-07-09T07:36:40.661894Z",
     "start_time": "2019-07-09T07:36:39.590659Z"
    },
    "scrolled": false
   },
   "outputs": [
    {
     "data": {
      "text/plain": [
       "<matplotlib.axes._subplots.AxesSubplot at 0x1401c07b8>"
      ]
     },
     "execution_count": 547,
     "metadata": {},
     "output_type": "execute_result"
    },
    {
     "data": {
      "image/png": "[encoded data removed]",
      "text/plain": [
       "<Figure size 1440x576 with 1 Axes>"
      ]
     },
     "metadata": {
      "needs_background": "light"
     },
     "output_type": "display_data"
    }
   ],
   "source": [
    "male1 = pd.Series.to_frame(male_cust['start_station_name'].value_counts())\n",
    "male1.rename_axis('station', inplace = True)\n",
    "\n",
    "male2 = pd.Series.to_frame(male_cust['end_station_name'].value_counts())\n",
    "male2.rename_axis('station', inplace = True)\n",
    "\n",
    "male_endpoints = pd.concat([male1, male2], axis=1, sort=False)\n",
    "\n",
    "male_endpoints.fillna(0, inplace=True)\n",
    "male_endpoints['total'] = male_endpoints['start_station_name'] + male_endpoints['end_station_name']\n",
    "male_endpoints.sort_values(by='total', inplace=True, ascending=False)\n",
    "\n",
    "male_endpoints[:15].plot.bar(figsize=(20, 8))"
   ]
  },
  {
   "cell_type": "code",
   "execution_count": 548,
   "metadata": {
    "ExecuteTime": {
     "end_time": "2019-07-09T07:36:44.959041Z",
     "start_time": "2019-07-09T07:36:44.095533Z"
    }
   },
   "outputs": [
    {
     "data": {
      "text/plain": [
       "<matplotlib.axes._subplots.AxesSubplot at 0x1401bc0b8>"
      ]
     },
     "execution_count": 548,
     "metadata": {},
     "output_type": "execute_result"
    },
    {
     "data": {
      "image/png": "[encoded data removed]",
      "text/plain": [
       "<Figure size 1440x576 with 1 Axes>"
      ]
     },
     "metadata": {
      "needs_background": "light"
     },
     "output_type": "display_data"
    }
   ],
   "source": [
    "female1 = pd.Series.to_frame(female_cust['start_station_name'].value_counts())\n",
    "female1.rename_axis('station', inplace = True)\n",
    "\n",
    "female2 = pd.Series.to_frame(female_cust['end_station_name'].value_counts())\n",
    "female2.rename_axis('station', inplace = True)\n",
    "\n",
    "female_endpoints = pd.concat([female1, female2], axis=1, sort=False)\n",
    "\n",
    "female_endpoints.fillna(0, inplace=True)\n",
    "female_endpoints['total'] = female_endpoints['start_station_name'] + female_endpoints['end_station_name']\n",
    "female_endpoints.sort_values(by='total', inplace=True, ascending=False)\n",
    "\n",
    "female_endpoints[:15].plot.bar(figsize=(20, 8))"
   ]
  },
  {
   "cell_type": "code",
   "execution_count": 563,
   "metadata": {
    "ExecuteTime": {
     "end_time": "2019-07-09T07:43:18.412445Z",
     "start_time": "2019-07-09T07:43:15.469599Z"
    }
   },
   "outputs": [
    {
     "data": {
      "image/png": "[encoded data removed]",
      "text/plain": [
       "<Figure size 720x576 with 2 Axes>"
      ]
     },
     "metadata": {
      "needs_background": "light"
     },
     "output_type": "display_data"
    }
   ],
   "source": [
    "plt.figure(figsize=(10, 8))\n",
    "\n",
    "plt.subplot(2, 1, 1)\n",
    "plt.hist(male_cust['start_time'], bins=576, density=True, color=GREEN, alpha=0.5)\n",
    "plt.hist(female_cust['start_time'], bins=576, density=True, color=PURPLE, alpha=0.5)\n",
    "\n",
    "plt.subplot(2, 1, 2)\n",
    "plt.hist(male_cust['start_date'], bins=50, density=True, color=GREEN, alpha=0.5)\n",
    "plt.hist(female_cust['start_date'], bins=50, density=True, color=PURPLE, alpha=0.5)\n",
    "plt.show()"
   ]
  },
  {
   "cell_type": "code",
   "execution_count": 557,
   "metadata": {
    "ExecuteTime": {
     "end_time": "2019-07-09T07:40:05.078961Z",
     "start_time": "2019-07-09T07:40:04.805700Z"
    }
   },
   "outputs": [
    {
     "data": {
      "text/plain": [
       "<matplotlib.axes._subplots.AxesSubplot at 0x170985710>"
      ]
     },
     "execution_count": 557,
     "metadata": {},
     "output_type": "execute_result"
    },
    {
     "data": {
      "image/png": "[encoded data removed]",
      "text/plain": [
       "<Figure size 432x288 with 1 Axes>"
      ]
     },
     "metadata": {
      "needs_background": "light"
     },
     "output_type": "display_data"
    }
   ],
   "source": [
    "day_of_week_groupby = pd.Series.to_frame(outliers_removed.groupby(by=['start_day_of_week']).size())\n",
    "day_of_week_groupby.rename(columns={0:'count'}, inplace=True)\n",
    "day_of_week_groupby.plot(kind='bar')"
   ]
  },
  {
   "cell_type": "code",
   "execution_count": 572,
   "metadata": {
    "ExecuteTime": {
     "end_time": "2019-07-09T07:47:12.153770Z",
     "start_time": "2019-07-09T07:47:12.107726Z"
    }
   },
   "outputs": [
    {
     "data": {
      "text/html": [
       "<div>\n",
       "<style scoped>\n",
       "    .dataframe tbody tr th:only-of-type {\n",
       "        vertical-align: middle;\n",
       "    }\n",
       "\n",
       "    .dataframe tbody tr th {\n",
       "        vertical-align: top;\n",
       "    }\n",
       "\n",
       "    .dataframe thead th {\n",
       "        text-align: right;\n",
       "    }\n",
       "</style>\n",
       "<table border=\"1\" class=\"dataframe\">\n",
       "  <thead>\n",
       "    <tr style=\"text-align: right;\">\n",
       "      <th></th>\n",
       "      <th>start_station_name</th>\n",
       "      <th>end_station_name</th>\n",
       "      <th>total</th>\n",
       "      <th>start_station_name</th>\n",
       "      <th>end_station_name</th>\n",
       "      <th>total</th>\n",
       "    </tr>\n",
       "  </thead>\n",
       "  <tbody>\n",
       "    <tr>\n",
       "      <th>San Francisco Caltrain (Townsend St at 4th St)</th>\n",
       "      <td>9719</td>\n",
       "      <td>13483</td>\n",
       "      <td>23202</td>\n",
       "      <td>1988.0</td>\n",
       "      <td>2956.0</td>\n",
       "      <td>4944.0</td>\n",
       "    </tr>\n",
       "    <tr>\n",
       "      <th>San Francisco Caltrain Station 2  (Townsend St at 4th St)</th>\n",
       "      <td>9290</td>\n",
       "      <td>10985</td>\n",
       "      <td>20275</td>\n",
       "      <td>2053.0</td>\n",
       "      <td>1875.0</td>\n",
       "      <td>3928.0</td>\n",
       "    </tr>\n",
       "    <tr>\n",
       "      <th>Montgomery St BART Station (Market St at 2nd St)</th>\n",
       "      <td>8260</td>\n",
       "      <td>9980</td>\n",
       "      <td>18240</td>\n",
       "      <td>1596.0</td>\n",
       "      <td>2116.0</td>\n",
       "      <td>3712.0</td>\n",
       "    </tr>\n",
       "    <tr>\n",
       "      <th>San Francisco Ferry Building (Harry Bridges Plaza)</th>\n",
       "      <td>8362</td>\n",
       "      <td>9858</td>\n",
       "      <td>18220</td>\n",
       "      <td>2689.0</td>\n",
       "      <td>3273.0</td>\n",
       "      <td>5962.0</td>\n",
       "    </tr>\n",
       "    <tr>\n",
       "      <th>Market St at 10th St</th>\n",
       "      <td>8904</td>\n",
       "      <td>8543</td>\n",
       "      <td>17447</td>\n",
       "      <td>1833.0</td>\n",
       "      <td>1638.0</td>\n",
       "      <td>3471.0</td>\n",
       "    </tr>\n",
       "    <tr>\n",
       "      <th>Berry St at 4th St</th>\n",
       "      <td>7657</td>\n",
       "      <td>7786</td>\n",
       "      <td>15443</td>\n",
       "      <td>2256.0</td>\n",
       "      <td>1895.0</td>\n",
       "      <td>4151.0</td>\n",
       "    </tr>\n",
       "    <tr>\n",
       "      <th>The Embarcadero at Sansome St</th>\n",
       "      <td>7131</td>\n",
       "      <td>7606</td>\n",
       "      <td>14737</td>\n",
       "      <td>1784.0</td>\n",
       "      <td>2037.0</td>\n",
       "      <td>3821.0</td>\n",
       "    </tr>\n",
       "    <tr>\n",
       "      <th>Howard St at Beale St</th>\n",
       "      <td>7451</td>\n",
       "      <td>6083</td>\n",
       "      <td>13534</td>\n",
       "      <td>1913.0</td>\n",
       "      <td>1313.0</td>\n",
       "      <td>3226.0</td>\n",
       "    </tr>\n",
       "    <tr>\n",
       "      <th>Powell St BART Station (Market St at 4th St)</th>\n",
       "      <td>5961</td>\n",
       "      <td>6942</td>\n",
       "      <td>12903</td>\n",
       "      <td>1720.0</td>\n",
       "      <td>1790.0</td>\n",
       "      <td>3510.0</td>\n",
       "    </tr>\n",
       "    <tr>\n",
       "      <th>Steuart St at Market St</th>\n",
       "      <td>6404</td>\n",
       "      <td>6255</td>\n",
       "      <td>12659</td>\n",
       "      <td>1702.0</td>\n",
       "      <td>1760.0</td>\n",
       "      <td>3462.0</td>\n",
       "    </tr>\n",
       "    <tr>\n",
       "      <th>Powell St BART Station (Market St at 5th St)</th>\n",
       "      <td>5121</td>\n",
       "      <td>5419</td>\n",
       "      <td>10540</td>\n",
       "      <td>1345.0</td>\n",
       "      <td>1505.0</td>\n",
       "      <td>2850.0</td>\n",
       "    </tr>\n",
       "    <tr>\n",
       "      <th>2nd St at Townsend St - Coming Soon</th>\n",
       "      <td>4904</td>\n",
       "      <td>5370</td>\n",
       "      <td>10274</td>\n",
       "      <td>993.0</td>\n",
       "      <td>1146.0</td>\n",
       "      <td>2139.0</td>\n",
       "    </tr>\n",
       "    <tr>\n",
       "      <th>Townsend St at 7th St</th>\n",
       "      <td>4810</td>\n",
       "      <td>5132</td>\n",
       "      <td>9942</td>\n",
       "      <td>1093.0</td>\n",
       "      <td>1204.0</td>\n",
       "      <td>2297.0</td>\n",
       "    </tr>\n",
       "    <tr>\n",
       "      <th>Embarcadero BART Station (Beale St at Market St)</th>\n",
       "      <td>5431</td>\n",
       "      <td>4474</td>\n",
       "      <td>9905</td>\n",
       "      <td>1343.0</td>\n",
       "      <td>1143.0</td>\n",
       "      <td>2486.0</td>\n",
       "    </tr>\n",
       "    <tr>\n",
       "      <th>3rd St at Townsend St</th>\n",
       "      <td>4724</td>\n",
       "      <td>4413</td>\n",
       "      <td>9137</td>\n",
       "      <td>878.0</td>\n",
       "      <td>943.0</td>\n",
       "      <td>1821.0</td>\n",
       "    </tr>\n",
       "    <tr>\n",
       "      <th>Howard St at 2nd St</th>\n",
       "      <td>4576</td>\n",
       "      <td>4468</td>\n",
       "      <td>9044</td>\n",
       "      <td>626.0</td>\n",
       "      <td>749.0</td>\n",
       "      <td>1375.0</td>\n",
       "    </tr>\n",
       "    <tr>\n",
       "      <th>The Embarcadero at Steuart St</th>\n",
       "      <td>4431</td>\n",
       "      <td>4251</td>\n",
       "      <td>8682</td>\n",
       "      <td>810.0</td>\n",
       "      <td>917.0</td>\n",
       "      <td>1727.0</td>\n",
       "    </tr>\n",
       "    <tr>\n",
       "      <th>2nd St at S Park St</th>\n",
       "      <td>4344</td>\n",
       "      <td>4120</td>\n",
       "      <td>8464</td>\n",
       "      <td>1012.0</td>\n",
       "      <td>1009.0</td>\n",
       "      <td>2021.0</td>\n",
       "    </tr>\n",
       "    <tr>\n",
       "      <th>Spear St at Folsom St</th>\n",
       "      <td>3704</td>\n",
       "      <td>4324</td>\n",
       "      <td>8028</td>\n",
       "      <td>637.0</td>\n",
       "      <td>683.0</td>\n",
       "      <td>1320.0</td>\n",
       "    </tr>\n",
       "    <tr>\n",
       "      <th>19th Street BART Station</th>\n",
       "      <td>3760</td>\n",
       "      <td>4075</td>\n",
       "      <td>7835</td>\n",
       "      <td>1292.0</td>\n",
       "      <td>999.0</td>\n",
       "      <td>2291.0</td>\n",
       "    </tr>\n",
       "    <tr>\n",
       "      <th>Civic Center/UN Plaza BART Station (Market St at McAllister St)</th>\n",
       "      <td>3313</td>\n",
       "      <td>4211</td>\n",
       "      <td>7524</td>\n",
       "      <td>880.0</td>\n",
       "      <td>1088.0</td>\n",
       "      <td>1968.0</td>\n",
       "    </tr>\n",
       "    <tr>\n",
       "      <th>Mechanics Monument Plaza (Market St at Bush St)</th>\n",
       "      <td>3450</td>\n",
       "      <td>3717</td>\n",
       "      <td>7167</td>\n",
       "      <td>704.0</td>\n",
       "      <td>775.0</td>\n",
       "      <td>1479.0</td>\n",
       "    </tr>\n",
       "    <tr>\n",
       "      <th>S Van Ness Ave at Market St</th>\n",
       "      <td>3654</td>\n",
       "      <td>3367</td>\n",
       "      <td>7021</td>\n",
       "      <td>705.0</td>\n",
       "      <td>779.0</td>\n",
       "      <td>1484.0</td>\n",
       "    </tr>\n",
       "    <tr>\n",
       "      <th>5th St at Howard St</th>\n",
       "      <td>3271</td>\n",
       "      <td>3573</td>\n",
       "      <td>6844</td>\n",
       "      <td>680.0</td>\n",
       "      <td>820.0</td>\n",
       "      <td>1500.0</td>\n",
       "    </tr>\n",
       "    <tr>\n",
       "      <th>Post St at Kearny St</th>\n",
       "      <td>3137</td>\n",
       "      <td>3655</td>\n",
       "      <td>6792</td>\n",
       "      <td>825.0</td>\n",
       "      <td>1227.0</td>\n",
       "      <td>2052.0</td>\n",
       "    </tr>\n",
       "    <tr>\n",
       "      <th>Beale St at Harrison St</th>\n",
       "      <td>3093</td>\n",
       "      <td>3195</td>\n",
       "      <td>6288</td>\n",
       "      <td>801.0</td>\n",
       "      <td>862.0</td>\n",
       "      <td>1663.0</td>\n",
       "    </tr>\n",
       "    <tr>\n",
       "      <th>2nd St at Folsom St</th>\n",
       "      <td>3614</td>\n",
       "      <td>2426</td>\n",
       "      <td>6040</td>\n",
       "      <td>656.0</td>\n",
       "      <td>524.0</td>\n",
       "      <td>1180.0</td>\n",
       "    </tr>\n",
       "    <tr>\n",
       "      <th>Valencia St at 16th St</th>\n",
       "      <td>2769</td>\n",
       "      <td>3036</td>\n",
       "      <td>5805</td>\n",
       "      <td>673.0</td>\n",
       "      <td>764.0</td>\n",
       "      <td>1437.0</td>\n",
       "    </tr>\n",
       "    <tr>\n",
       "      <th>The Embarcadero at Bryant St</th>\n",
       "      <td>2958</td>\n",
       "      <td>2749</td>\n",
       "      <td>5707</td>\n",
       "      <td>710.0</td>\n",
       "      <td>650.0</td>\n",
       "      <td>1360.0</td>\n",
       "    </tr>\n",
       "    <tr>\n",
       "      <th>Broadway at Battery St</th>\n",
       "      <td>3047</td>\n",
       "      <td>2581</td>\n",
       "      <td>5628</td>\n",
       "      <td>565.0</td>\n",
       "      <td>479.0</td>\n",
       "      <td>1044.0</td>\n",
       "    </tr>\n",
       "    <tr>\n",
       "      <th>...</th>\n",
       "      <td>...</td>\n",
       "      <td>...</td>\n",
       "      <td>...</td>\n",
       "      <td>...</td>\n",
       "      <td>...</td>\n",
       "      <td>...</td>\n",
       "    </tr>\n",
       "    <tr>\n",
       "      <th>Marston Campbell Park</th>\n",
       "      <td>46</td>\n",
       "      <td>59</td>\n",
       "      <td>105</td>\n",
       "      <td>16.0</td>\n",
       "      <td>12.0</td>\n",
       "      <td>28.0</td>\n",
       "    </tr>\n",
       "    <tr>\n",
       "      <th>Ninth St at Parker St</th>\n",
       "      <td>46</td>\n",
       "      <td>56</td>\n",
       "      <td>102</td>\n",
       "      <td>9.0</td>\n",
       "      <td>8.0</td>\n",
       "      <td>17.0</td>\n",
       "    </tr>\n",
       "    <tr>\n",
       "      <th>Vine St at Shattuck Ave</th>\n",
       "      <td>42</td>\n",
       "      <td>40</td>\n",
       "      <td>82</td>\n",
       "      <td>6.0</td>\n",
       "      <td>5.0</td>\n",
       "      <td>11.0</td>\n",
       "    </tr>\n",
       "    <tr>\n",
       "      <th>Fruitvale Ave at International Blvd</th>\n",
       "      <td>44</td>\n",
       "      <td>35</td>\n",
       "      <td>79</td>\n",
       "      <td>11.0</td>\n",
       "      <td>22.0</td>\n",
       "      <td>33.0</td>\n",
       "    </tr>\n",
       "    <tr>\n",
       "      <th>13th St at Franklin St</th>\n",
       "      <td>43</td>\n",
       "      <td>32</td>\n",
       "      <td>75</td>\n",
       "      <td>9.0</td>\n",
       "      <td>3.0</td>\n",
       "      <td>12.0</td>\n",
       "    </tr>\n",
       "    <tr>\n",
       "      <th>Dolores St at 22nd St</th>\n",
       "      <td>31</td>\n",
       "      <td>42</td>\n",
       "      <td>73</td>\n",
       "      <td>3.0</td>\n",
       "      <td>9.0</td>\n",
       "      <td>12.0</td>\n",
       "    </tr>\n",
       "    <tr>\n",
       "      <th>Delmas Ave and San Fernando St</th>\n",
       "      <td>39</td>\n",
       "      <td>33</td>\n",
       "      <td>72</td>\n",
       "      <td>8.0</td>\n",
       "      <td>4.0</td>\n",
       "      <td>12.0</td>\n",
       "    </tr>\n",
       "    <tr>\n",
       "      <th>Telegraph Ave at Carleton St</th>\n",
       "      <td>35</td>\n",
       "      <td>32</td>\n",
       "      <td>67</td>\n",
       "      <td>16.0</td>\n",
       "      <td>11.0</td>\n",
       "      <td>27.0</td>\n",
       "    </tr>\n",
       "    <tr>\n",
       "      <th>San Pablo Ave at 27th St</th>\n",
       "      <td>33</td>\n",
       "      <td>30</td>\n",
       "      <td>63</td>\n",
       "      <td>24.0</td>\n",
       "      <td>17.0</td>\n",
       "      <td>41.0</td>\n",
       "    </tr>\n",
       "    <tr>\n",
       "      <th>Webster St at 19th St</th>\n",
       "      <td>24</td>\n",
       "      <td>35</td>\n",
       "      <td>59</td>\n",
       "      <td>8.0</td>\n",
       "      <td>9.0</td>\n",
       "      <td>17.0</td>\n",
       "    </tr>\n",
       "    <tr>\n",
       "      <th>College Ave at Bryant Ave</th>\n",
       "      <td>23</td>\n",
       "      <td>24</td>\n",
       "      <td>47</td>\n",
       "      <td>19.0</td>\n",
       "      <td>20.0</td>\n",
       "      <td>39.0</td>\n",
       "    </tr>\n",
       "    <tr>\n",
       "      <th>Channing Way at San Pablo Ave</th>\n",
       "      <td>16</td>\n",
       "      <td>26</td>\n",
       "      <td>42</td>\n",
       "      <td>4.0</td>\n",
       "      <td>7.0</td>\n",
       "      <td>11.0</td>\n",
       "    </tr>\n",
       "    <tr>\n",
       "      <th>Fruitvale BART Station</th>\n",
       "      <td>19</td>\n",
       "      <td>20</td>\n",
       "      <td>39</td>\n",
       "      <td>2.0</td>\n",
       "      <td>7.0</td>\n",
       "      <td>9.0</td>\n",
       "    </tr>\n",
       "    <tr>\n",
       "      <th>University Ave at Oxford St</th>\n",
       "      <td>15</td>\n",
       "      <td>22</td>\n",
       "      <td>37</td>\n",
       "      <td>3.0</td>\n",
       "      <td>3.0</td>\n",
       "      <td>6.0</td>\n",
       "    </tr>\n",
       "    <tr>\n",
       "      <th>14th St at Filbert St</th>\n",
       "      <td>17</td>\n",
       "      <td>19</td>\n",
       "      <td>36</td>\n",
       "      <td>42.0</td>\n",
       "      <td>45.0</td>\n",
       "      <td>87.0</td>\n",
       "    </tr>\n",
       "    <tr>\n",
       "      <th>Locust St at Grant St</th>\n",
       "      <td>16</td>\n",
       "      <td>18</td>\n",
       "      <td>34</td>\n",
       "      <td>72.0</td>\n",
       "      <td>78.0</td>\n",
       "      <td>150.0</td>\n",
       "    </tr>\n",
       "    <tr>\n",
       "      <th>21st Ave at International Blvd</th>\n",
       "      <td>11</td>\n",
       "      <td>20</td>\n",
       "      <td>31</td>\n",
       "      <td>13.0</td>\n",
       "      <td>14.0</td>\n",
       "      <td>27.0</td>\n",
       "    </tr>\n",
       "    <tr>\n",
       "      <th>26th Ave at International Blvd</th>\n",
       "      <td>13</td>\n",
       "      <td>16</td>\n",
       "      <td>29</td>\n",
       "      <td>4.0</td>\n",
       "      <td>5.0</td>\n",
       "      <td>9.0</td>\n",
       "    </tr>\n",
       "    <tr>\n",
       "      <th>Derby St at College Ave</th>\n",
       "      <td>11</td>\n",
       "      <td>13</td>\n",
       "      <td>24</td>\n",
       "      <td>1.0</td>\n",
       "      <td>2.0</td>\n",
       "      <td>3.0</td>\n",
       "    </tr>\n",
       "    <tr>\n",
       "      <th>Willow St at Vine St</th>\n",
       "      <td>11</td>\n",
       "      <td>13</td>\n",
       "      <td>24</td>\n",
       "      <td>8.0</td>\n",
       "      <td>4.0</td>\n",
       "      <td>12.0</td>\n",
       "    </tr>\n",
       "    <tr>\n",
       "      <th>Bestor Art Park</th>\n",
       "      <td>7</td>\n",
       "      <td>13</td>\n",
       "      <td>20</td>\n",
       "      <td>4.0</td>\n",
       "      <td>1.0</td>\n",
       "      <td>5.0</td>\n",
       "    </tr>\n",
       "    <tr>\n",
       "      <th>Foothill Blvd at 42nd Ave</th>\n",
       "      <td>8</td>\n",
       "      <td>12</td>\n",
       "      <td>20</td>\n",
       "      <td>13.0</td>\n",
       "      <td>6.0</td>\n",
       "      <td>19.0</td>\n",
       "    </tr>\n",
       "    <tr>\n",
       "      <th>Palm St at Willow St</th>\n",
       "      <td>6</td>\n",
       "      <td>13</td>\n",
       "      <td>19</td>\n",
       "      <td>4.0</td>\n",
       "      <td>1.0</td>\n",
       "      <td>5.0</td>\n",
       "    </tr>\n",
       "    <tr>\n",
       "      <th>W St John St at Guadalupe River Trail</th>\n",
       "      <td>7</td>\n",
       "      <td>7</td>\n",
       "      <td>14</td>\n",
       "      <td>2.0</td>\n",
       "      <td>2.0</td>\n",
       "      <td>4.0</td>\n",
       "    </tr>\n",
       "    <tr>\n",
       "      <th>Pierce Ave at Market St</th>\n",
       "      <td>4</td>\n",
       "      <td>4</td>\n",
       "      <td>8</td>\n",
       "      <td>3.0</td>\n",
       "      <td>0.0</td>\n",
       "      <td>3.0</td>\n",
       "    </tr>\n",
       "    <tr>\n",
       "      <th>Foothill Blvd at Harrington Ave</th>\n",
       "      <td>3</td>\n",
       "      <td>5</td>\n",
       "      <td>8</td>\n",
       "      <td>5.0</td>\n",
       "      <td>4.0</td>\n",
       "      <td>9.0</td>\n",
       "    </tr>\n",
       "    <tr>\n",
       "      <th>Empire St at 1st St</th>\n",
       "      <td>3</td>\n",
       "      <td>2</td>\n",
       "      <td>5</td>\n",
       "      <td>NaN</td>\n",
       "      <td>NaN</td>\n",
       "      <td>NaN</td>\n",
       "    </tr>\n",
       "    <tr>\n",
       "      <th>Harmon St at Adeline St</th>\n",
       "      <td>1</td>\n",
       "      <td>2</td>\n",
       "      <td>3</td>\n",
       "      <td>2.0</td>\n",
       "      <td>1.0</td>\n",
       "      <td>3.0</td>\n",
       "    </tr>\n",
       "    <tr>\n",
       "      <th>Ellsworth St at Russell St</th>\n",
       "      <td>1</td>\n",
       "      <td>2</td>\n",
       "      <td>3</td>\n",
       "      <td>NaN</td>\n",
       "      <td>NaN</td>\n",
       "      <td>NaN</td>\n",
       "    </tr>\n",
       "    <tr>\n",
       "      <th>Jackson St at 11th St</th>\n",
       "      <td>1</td>\n",
       "      <td>2</td>\n",
       "      <td>3</td>\n",
       "      <td>NaN</td>\n",
       "      <td>NaN</td>\n",
       "      <td>NaN</td>\n",
       "    </tr>\n",
       "  </tbody>\n",
       "</table>\n",
       "<p>272 rows × 6 columns</p>\n",
       "</div>"
      ],
      "text/plain": [
       "                                                    start_station_name  \\\n",
       "San Francisco Caltrain (Townsend St at 4th St)                    9719   \n",
       "San Francisco Caltrain Station 2  (Townsend St ...                9290   \n",
       "Montgomery St BART Station (Market St at 2nd St)                  8260   \n",
       "San Francisco Ferry Building (Harry Bridges Plaza)                8362   \n",
       "Market St at 10th St                                              8904   \n",
       "Berry St at 4th St                                                7657   \n",
       "The Embarcadero at Sansome St                                     7131   \n",
       "Howard St at Beale St                                             7451   \n",
       "Powell St BART Station (Market St at 4th St)                      5961   \n",
       "Steuart St at Market St                                           6404   \n",
       "Powell St BART Station (Market St at 5th St)                      5121   \n",
       "2nd St at Townsend St - Coming Soon                               4904   \n",
       "Townsend St at 7th St                                             4810   \n",
       "Embarcadero BART Station (Beale St at Market St)                  5431   \n",
       "3rd St at Townsend St                                             4724   \n",
       "Howard St at 2nd St                                               4576   \n",
       "The Embarcadero at Steuart St                                     4431   \n",
       "2nd St at S Park St                                               4344   \n",
       "Spear St at Folsom St                                             3704   \n",
       "19th Street BART Station                                          3760   \n",
       "Civic Center/UN Plaza BART Station (Market St a...                3313   \n",
       "Mechanics Monument Plaza (Market St at Bush St)                   3450   \n",
       "S Van Ness Ave at Market St                                       3654   \n",
       "5th St at Howard St                                               3271   \n",
       "Post St at Kearny St                                              3137   \n",
       "Beale St at Harrison St                                           3093   \n",
       "2nd St at Folsom St                                               3614   \n",
       "Valencia St at 16th St                                            2769   \n",
       "The Embarcadero at Bryant St                                      2958   \n",
       "Broadway at Battery St                                            3047   \n",
       "...                                                                ...   \n",
       "Marston Campbell Park                                               46   \n",
       "Ninth St at Parker St                                               46   \n",
       "Vine St at Shattuck Ave                                             42   \n",
       "Fruitvale Ave at International Blvd                                 44   \n",
       "13th St at Franklin St                                              43   \n",
       "Dolores St at 22nd St                                               31   \n",
       "Delmas Ave and San Fernando St                                      39   \n",
       "Telegraph Ave at Carleton St                                        35   \n",
       "San Pablo Ave at 27th St                                            33   \n",
       "Webster St at 19th St                                               24   \n",
       "College Ave at Bryant Ave                                           23   \n",
       "Channing Way at San Pablo Ave                                       16   \n",
       "Fruitvale BART Station                                              19   \n",
       "University Ave at Oxford St                                         15   \n",
       "14th St at Filbert St                                               17   \n",
       "Locust St at Grant St                                               16   \n",
       "21st Ave at International Blvd                                      11   \n",
       "26th Ave at International Blvd                                      13   \n",
       "Derby St at College Ave                                             11   \n",
       "Willow St at Vine St                                                11   \n",
       "Bestor Art Park                                                      7   \n",
       "Foothill Blvd at 42nd Ave                                            8   \n",
       "Palm St at Willow St                                                 6   \n",
       "W St John St at Guadalupe River Trail                                7   \n",
       "Pierce Ave at Market St                                              4   \n",
       "Foothill Blvd at Harrington Ave                                      3   \n",
       "Empire St at 1st St                                                  3   \n",
       "Harmon St at Adeline St                                              1   \n",
       "Ellsworth St at Russell St                                           1   \n",
       "Jackson St at 11th St                                                1   \n",
       "\n",
       "                                                    end_station_name  total  \\\n",
       "San Francisco Caltrain (Townsend St at 4th St)                 13483  23202   \n",
       "San Francisco Caltrain Station 2  (Townsend St ...             10985  20275   \n",
       "Montgomery St BART Station (Market St at 2nd St)                9980  18240   \n",
       "San Francisco Ferry Building (Harry Bridges Plaza)              9858  18220   \n",
       "Market St at 10th St                                            8543  17447   \n",
       "Berry St at 4th St                                              7786  15443   \n",
       "The Embarcadero at Sansome St                                   7606  14737   \n",
       "Howard St at Beale St                                           6083  13534   \n",
       "Powell St BART Station (Market St at 4th St)                    6942  12903   \n",
       "Steuart St at Market St                                         6255  12659   \n",
       "Powell St BART Station (Market St at 5th St)                    5419  10540   \n",
       "2nd St at Townsend St - Coming Soon                             5370  10274   \n",
       "Townsend St at 7th St                                           5132   9942   \n",
       "Embarcadero BART Station (Beale St at Market St)                4474   9905   \n",
       "3rd St at Townsend St                                           4413   9137   \n",
       "Howard St at 2nd St                                             4468   9044   \n",
       "The Embarcadero at Steuart St                                   4251   8682   \n",
       "2nd St at S Park St                                             4120   8464   \n",
       "Spear St at Folsom St                                           4324   8028   \n",
       "19th Street BART Station                                        4075   7835   \n",
       "Civic Center/UN Plaza BART Station (Market St a...              4211   7524   \n",
       "Mechanics Monument Plaza (Market St at Bush St)                 3717   7167   \n",
       "S Van Ness Ave at Market St                                     3367   7021   \n",
       "5th St at Howard St                                             3573   6844   \n",
       "Post St at Kearny St                                            3655   6792   \n",
       "Beale St at Harrison St                                         3195   6288   \n",
       "2nd St at Folsom St                                             2426   6040   \n",
       "Valencia St at 16th St                                          3036   5805   \n",
       "The Embarcadero at Bryant St                                    2749   5707   \n",
       "Broadway at Battery St                                          2581   5628   \n",
       "...                                                              ...    ...   \n",
       "Marston Campbell Park                                             59    105   \n",
       "Ninth St at Parker St                                             56    102   \n",
       "Vine St at Shattuck Ave                                           40     82   \n",
       "Fruitvale Ave at International Blvd                               35     79   \n",
       "13th St at Franklin St                                            32     75   \n",
       "Dolores St at 22nd St                                             42     73   \n",
       "Delmas Ave and San Fernando St                                    33     72   \n",
       "Telegraph Ave at Carleton St                                      32     67   \n",
       "San Pablo Ave at 27th St                                          30     63   \n",
       "Webster St at 19th St                                             35     59   \n",
       "College Ave at Bryant Ave                                         24     47   \n",
       "Channing Way at San Pablo Ave                                     26     42   \n",
       "Fruitvale BART Station                                            20     39   \n",
       "University Ave at Oxford St                                       22     37   \n",
       "14th St at Filbert St                                             19     36   \n",
       "Locust St at Grant St                                             18     34   \n",
       "21st Ave at International Blvd                                    20     31   \n",
       "26th Ave at International Blvd                                    16     29   \n",
       "Derby St at College Ave                                           13     24   \n",
       "Willow St at Vine St                                              13     24   \n",
       "Bestor Art Park                                                   13     20   \n",
       "Foothill Blvd at 42nd Ave                                         12     20   \n",
       "Palm St at Willow St                                              13     19   \n",
       "W St John St at Guadalupe River Trail                              7     14   \n",
       "Pierce Ave at Market St                                            4      8   \n",
       "Foothill Blvd at Harrington Ave                                    5      8   \n",
       "Empire St at 1st St                                                2      5   \n",
       "Harmon St at Adeline St                                            2      3   \n",
       "Ellsworth St at Russell St                                         2      3   \n",
       "Jackson St at 11th St                                              2      3   \n",
       "\n",
       "                                                    start_station_name  \\\n",
       "San Francisco Caltrain (Townsend St at 4th St)                  1988.0   \n",
       "San Francisco Caltrain Station 2  (Townsend St ...              2053.0   \n",
       "Montgomery St BART Station (Market St at 2nd St)                1596.0   \n",
       "San Francisco Ferry Building (Harry Bridges Plaza)              2689.0   \n",
       "Market St at 10th St                                            1833.0   \n",
       "Berry St at 4th St                                              2256.0   \n",
       "The Embarcadero at Sansome St                                   1784.0   \n",
       "Howard St at Beale St                                           1913.0   \n",
       "Powell St BART Station (Market St at 4th St)                    1720.0   \n",
       "Steuart St at Market St                                         1702.0   \n",
       "Powell St BART Station (Market St at 5th St)                    1345.0   \n",
       "2nd St at Townsend St - Coming Soon                              993.0   \n",
       "Townsend St at 7th St                                           1093.0   \n",
       "Embarcadero BART Station (Beale St at Market St)                1343.0   \n",
       "3rd St at Townsend St                                            878.0   \n",
       "Howard St at 2nd St                                              626.0   \n",
       "The Embarcadero at Steuart St                                    810.0   \n",
       "2nd St at S Park St                                             1012.0   \n",
       "Spear St at Folsom St                                            637.0   \n",
       "19th Street BART Station                                        1292.0   \n",
       "Civic Center/UN Plaza BART Station (Market St a...               880.0   \n",
       "Mechanics Monument Plaza (Market St at Bush St)                  704.0   \n",
       "S Van Ness Ave at Market St                                      705.0   \n",
       "5th St at Howard St                                              680.0   \n",
       "Post St at Kearny St                                             825.0   \n",
       "Beale St at Harrison St                                          801.0   \n",
       "2nd St at Folsom St                                              656.0   \n",
       "Valencia St at 16th St                                           673.0   \n",
       "The Embarcadero at Bryant St                                     710.0   \n",
       "Broadway at Battery St                                           565.0   \n",
       "...                                                                ...   \n",
       "Marston Campbell Park                                             16.0   \n",
       "Ninth St at Parker St                                              9.0   \n",
       "Vine St at Shattuck Ave                                            6.0   \n",
       "Fruitvale Ave at International Blvd                               11.0   \n",
       "13th St at Franklin St                                             9.0   \n",
       "Dolores St at 22nd St                                              3.0   \n",
       "Delmas Ave and San Fernando St                                     8.0   \n",
       "Telegraph Ave at Carleton St                                      16.0   \n",
       "San Pablo Ave at 27th St                                          24.0   \n",
       "Webster St at 19th St                                              8.0   \n",
       "College Ave at Bryant Ave                                         19.0   \n",
       "Channing Way at San Pablo Ave                                      4.0   \n",
       "Fruitvale BART Station                                             2.0   \n",
       "University Ave at Oxford St                                        3.0   \n",
       "14th St at Filbert St                                             42.0   \n",
       "Locust St at Grant St                                             72.0   \n",
       "21st Ave at International Blvd                                    13.0   \n",
       "26th Ave at International Blvd                                     4.0   \n",
       "Derby St at College Ave                                            1.0   \n",
       "Willow St at Vine St                                               8.0   \n",
       "Bestor Art Park                                                    4.0   \n",
       "Foothill Blvd at 42nd Ave                                         13.0   \n",
       "Palm St at Willow St                                               4.0   \n",
       "W St John St at Guadalupe River Trail                              2.0   \n",
       "Pierce Ave at Market St                                            3.0   \n",
       "Foothill Blvd at Harrington Ave                                    5.0   \n",
       "Empire St at 1st St                                                NaN   \n",
       "Harmon St at Adeline St                                            2.0   \n",
       "Ellsworth St at Russell St                                         NaN   \n",
       "Jackson St at 11th St                                              NaN   \n",
       "\n",
       "                                                    end_station_name   total  \n",
       "San Francisco Caltrain (Townsend St at 4th St)                2956.0  4944.0  \n",
       "San Francisco Caltrain Station 2  (Townsend St ...            1875.0  3928.0  \n",
       "Montgomery St BART Station (Market St at 2nd St)              2116.0  3712.0  \n",
       "San Francisco Ferry Building (Harry Bridges Plaza)            3273.0  5962.0  \n",
       "Market St at 10th St                                          1638.0  3471.0  \n",
       "Berry St at 4th St                                            1895.0  4151.0  \n",
       "The Embarcadero at Sansome St                                 2037.0  3821.0  \n",
       "Howard St at Beale St                                         1313.0  3226.0  \n",
       "Powell St BART Station (Market St at 4th St)                  1790.0  3510.0  \n",
       "Steuart St at Market St                                       1760.0  3462.0  \n",
       "Powell St BART Station (Market St at 5th St)                  1505.0  2850.0  \n",
       "2nd St at Townsend St - Coming Soon                           1146.0  2139.0  \n",
       "Townsend St at 7th St                                         1204.0  2297.0  \n",
       "Embarcadero BART Station (Beale St at Market St)              1143.0  2486.0  \n",
       "3rd St at Townsend St                                          943.0  1821.0  \n",
       "Howard St at 2nd St                                            749.0  1375.0  \n",
       "The Embarcadero at Steuart St                                  917.0  1727.0  \n",
       "2nd St at S Park St                                           1009.0  2021.0  \n",
       "Spear St at Folsom St                                          683.0  1320.0  \n",
       "19th Street BART Station                                       999.0  2291.0  \n",
       "Civic Center/UN Plaza BART Station (Market St a...            1088.0  1968.0  \n",
       "Mechanics Monument Plaza (Market St at Bush St)                775.0  1479.0  \n",
       "S Van Ness Ave at Market St                                    779.0  1484.0  \n",
       "5th St at Howard St                                            820.0  1500.0  \n",
       "Post St at Kearny St                                          1227.0  2052.0  \n",
       "Beale St at Harrison St                                        862.0  1663.0  \n",
       "2nd St at Folsom St                                            524.0  1180.0  \n",
       "Valencia St at 16th St                                         764.0  1437.0  \n",
       "The Embarcadero at Bryant St                                   650.0  1360.0  \n",
       "Broadway at Battery St                                         479.0  1044.0  \n",
       "...                                                              ...     ...  \n",
       "Marston Campbell Park                                           12.0    28.0  \n",
       "Ninth St at Parker St                                            8.0    17.0  \n",
       "Vine St at Shattuck Ave                                          5.0    11.0  \n",
       "Fruitvale Ave at International Blvd                             22.0    33.0  \n",
       "13th St at Franklin St                                           3.0    12.0  \n",
       "Dolores St at 22nd St                                            9.0    12.0  \n",
       "Delmas Ave and San Fernando St                                   4.0    12.0  \n",
       "Telegraph Ave at Carleton St                                    11.0    27.0  \n",
       "San Pablo Ave at 27th St                                        17.0    41.0  \n",
       "Webster St at 19th St                                            9.0    17.0  \n",
       "College Ave at Bryant Ave                                       20.0    39.0  \n",
       "Channing Way at San Pablo Ave                                    7.0    11.0  \n",
       "Fruitvale BART Station                                           7.0     9.0  \n",
       "University Ave at Oxford St                                      3.0     6.0  \n",
       "14th St at Filbert St                                           45.0    87.0  \n",
       "Locust St at Grant St                                           78.0   150.0  \n",
       "21st Ave at International Blvd                                  14.0    27.0  \n",
       "26th Ave at International Blvd                                   5.0     9.0  \n",
       "Derby St at College Ave                                          2.0     3.0  \n",
       "Willow St at Vine St                                             4.0    12.0  \n",
       "Bestor Art Park                                                  1.0     5.0  \n",
       "Foothill Blvd at 42nd Ave                                        6.0    19.0  \n",
       "Palm St at Willow St                                             1.0     5.0  \n",
       "W St John St at Guadalupe River Trail                            2.0     4.0  \n",
       "Pierce Ave at Market St                                          0.0     3.0  \n",
       "Foothill Blvd at Harrington Ave                                  4.0     9.0  \n",
       "Empire St at 1st St                                              NaN     NaN  \n",
       "Harmon St at Adeline St                                          1.0     3.0  \n",
       "Ellsworth St at Russell St                                       NaN     NaN  \n",
       "Jackson St at 11th St                                            NaN     NaN  \n",
       "\n",
       "[272 rows x 6 columns]"
      ]
     },
     "execution_count": 572,
     "metadata": {},
     "output_type": "execute_result"
    }
   ],
   "source": [
    "endpoints = pd.concat([male_endpoints, female_endpoints], axis=1, sort=False)\n",
    "endpoints"
   ]
  },
  {
   "cell_type": "code",
   "execution_count": null,
   "metadata": {},
   "outputs": [],
   "source": []
  }
 ],
 "metadata": {
  "hide_input": false,
  "kernelspec": {
   "display_name": "Python 3",
   "language": "python",
   "name": "python3"
  },
  "language_info": {
   "codemirror_mode": {
    "name": "ipython",
    "version": 3
   },
   "file_extension": ".py",
   "mimetype": "text/x-python",
   "name": "python",
   "nbconvert_exporter": "python",
   "pygments_lexer": "ipython3",
   "version": "3.7.1"
  },
  "toc": {
   "base_numbering": 1,
   "nav_menu": {},
   "number_sections": true,
   "sideBar": true,
   "skip_h1_title": false,
   "title_cell": "Table of Contents",
   "title_sidebar": "Contents",
   "toc_cell": false,
   "toc_position": {},
   "toc_section_display": true,
   "toc_window_display": false
  },
  "varInspector": {
   "cols": {
    "lenName": 16,
    "lenType": 16,
    "lenVar": 40
   },
   "kernels_config": {
    "python": {
     "delete_cmd_postfix": "",
     "delete_cmd_prefix": "del ",
     "library": "var_list.py",
     "varRefreshCmd": "print(var_dic_list())"
    },
    "r": {
     "delete_cmd_postfix": ") ",
     "delete_cmd_prefix": "rm(",
     "library": "var_list.r",
     "varRefreshCmd": "cat(var_dic_list()) "
    }
   },
   "types_to_exclude": [
    "module",
    "function",
    "builtin_function_or_method",
    "instance",
    "_Feature"
   ],
   "window_display": false
  }
 },
 "nbformat": 4,
 "nbformat_minor": 2
}
