{
 "cells": [
  {
   "cell_type": "markdown",
   "metadata": {
    "toc": true
   },
   "source": [
    "<h1>Table of Contents<span class=\"tocSkip\"></span></h1>\n",
    "<div class=\"toc\"><ul class=\"toc-item\"></ul></div>"
   ]
  },
  {
   "cell_type": "markdown",
   "metadata": {},
   "source": [
    "https://towardsdatascience.com/exploring-reddits-ask-me-anything-using-the-praw-api-wrapper-129cf64c5d65"
   ]
  },
  {
   "cell_type": "code",
   "execution_count": 25,
   "metadata": {
    "ExecuteTime": {
     "end_time": "2020-04-06T00:49:39.072843Z",
     "start_time": "2020-04-06T00:49:39.068795Z"
    }
   },
   "outputs": [
    {
     "data": {
      "text/plain": [
       "'6.5.1'"
      ]
     },
     "execution_count": 25,
     "metadata": {},
     "output_type": "execute_result"
    }
   ],
   "source": [
    "from skimage import io\n",
    "import json \n",
    "import praw\n",
    "\n",
    "praw.__version__"
   ]
  },
  {
   "cell_type": "code",
   "execution_count": 90,
   "metadata": {
    "ExecuteTime": {
     "end_time": "2020-04-06T07:16:05.155422Z",
     "start_time": "2020-04-06T07:16:05.152747Z"
    }
   },
   "outputs": [],
   "source": [
    "import pandas as pd\n",
    "import numpy as np"
   ]
  },
  {
   "cell_type": "code",
   "execution_count": 26,
   "metadata": {
    "ExecuteTime": {
     "end_time": "2020-04-06T00:49:43.083152Z",
     "start_time": "2020-04-06T00:49:43.079389Z"
    }
   },
   "outputs": [],
   "source": [
    "url = 'https://www.reddit.com/'\n",
    "with open('/Users/chanvarma/projects/thinkful-capstones/sunset-rater/.secret/credentials.json') as f:\n",
    "    params = json.load(f)"
   ]
  },
  {
   "cell_type": "code",
   "execution_count": 27,
   "metadata": {
    "ExecuteTime": {
     "end_time": "2020-04-06T00:49:46.621236Z",
     "start_time": "2020-04-06T00:49:46.617521Z"
    }
   },
   "outputs": [],
   "source": [
    "reddit = praw.Reddit(client_id=params['client_id'], \n",
    "                     client_secret=params['api_key'],\n",
    "                     password=params['password'], \n",
    "                     user_agent='sunset-rater by u/greyshirtbrownguy',\n",
    "                     username=params['username'])"
   ]
  },
  {
   "cell_type": "code",
   "execution_count": 38,
   "metadata": {
    "ExecuteTime": {
     "end_time": "2020-04-06T00:55:34.318926Z",
     "start_time": "2020-04-06T00:55:33.315753Z"
    }
   },
   "outputs": [
    {
     "name": "stdout",
     "output_type": "stream",
     "text": [
      "Sunset 23360\n"
     ]
    }
   ],
   "source": [
    "subreddit = reddit.subreddit('sunset')\n",
    "print(subreddit.title, subreddit.subscribers) "
   ]
  },
  {
   "cell_type": "code",
   "execution_count": 85,
   "metadata": {
    "ExecuteTime": {
     "end_time": "2020-04-06T02:11:25.078973Z",
     "start_time": "2020-04-06T02:11:25.073478Z"
    },
    "scrolled": false
   },
   "outputs": [],
   "source": [
    "def add_thread(thread):\n",
    "    threads[thread.id] = {'title': thread.title,\n",
    "                          'score': thread.score,\n",
    "                          'upvote_ratio': thread.upvote_ratio,\n",
    "                          'url': thread.url,\n",
    "                          'num_comments': thread.num_comments,\n",
    "                          'time_created': thread.created_utc,\n",
    "                          'edited': thread.edited,\n",
    "                          'link_flair_text': thread.link_flair_text,\n",
    "                          'self_text': thread.selftext,\n",
    "                          'permalink': 'https://reddit.com' + thread.permalink\n",
    "                          }"
   ]
  },
  {
   "cell_type": "code",
   "execution_count": 86,
   "metadata": {
    "ExecuteTime": {
     "end_time": "2020-04-06T03:08:53.789632Z",
     "start_time": "2020-04-06T02:13:16.729925Z"
    }
   },
   "outputs": [
    {
     "name": "stdout",
     "output_type": "stream",
     "text": [
      "200 top entries added.\n",
      "400 top entries added.\n",
      "600 top entries added.\n",
      "800 top entries added.\n",
      "200 hot entries added.\n",
      "400 hot entries added.\n",
      "600 hot entries added.\n",
      "800 hot entries added.\n"
     ]
    }
   ],
   "source": [
    "threads = dict()\n",
    "\n",
    "#iterating through the 10,000 submissions marked top, hot and rising. \n",
    "#The dictionary will prevent duplicate keys. \n",
    "\n",
    "for index, submission in enumerate(subreddit.top(limit = 10000)): \n",
    "    add_thread(submission)  \n",
    "    \n",
    "    if (index % 200 == 0) & (index > 0):\n",
    "        print(index, \"top entries added.\")\n",
    "        \n",
    "for index, submission in enumerate(subreddit.rising(limit = 10000)): \n",
    "    add_thread(submission)  \n",
    "    \n",
    "    if (index % 200 == 0) & (index > 0):\n",
    "        print(index, \"rising entries added.\")\n",
    "        \n",
    "for index, submission in enumerate(subreddit.hot(limit = 10000)): \n",
    "    add_thread(submission)  \n",
    "    \n",
    "    if (index % 200 == 0) & (index > 0):\n",
    "        print(index, \"hot entries added.\")"
   ]
  },
  {
   "cell_type": "code",
   "execution_count": 87,
   "metadata": {
    "ExecuteTime": {
     "end_time": "2020-04-06T07:14:46.450490Z",
     "start_time": "2020-04-06T07:14:46.446494Z"
    }
   },
   "outputs": [
    {
     "data": {
      "text/plain": [
       "1850"
      ]
     },
     "execution_count": 87,
     "metadata": {},
     "output_type": "execute_result"
    }
   ],
   "source": [
    "len(threads)"
   ]
  },
  {
   "cell_type": "code",
   "execution_count": 92,
   "metadata": {
    "ExecuteTime": {
     "end_time": "2020-04-06T07:16:14.971326Z",
     "start_time": "2020-04-06T07:16:14.917102Z"
    }
   },
   "outputs": [
    {
     "data": {
      "text/html": [
       "<div>\n",
       "<style scoped>\n",
       "    .dataframe tbody tr th:only-of-type {\n",
       "        vertical-align: middle;\n",
       "    }\n",
       "\n",
       "    .dataframe tbody tr th {\n",
       "        vertical-align: top;\n",
       "    }\n",
       "\n",
       "    .dataframe thead th {\n",
       "        text-align: right;\n",
       "    }\n",
       "</style>\n",
       "<table border=\"1\" class=\"dataframe\">\n",
       "  <thead>\n",
       "    <tr style=\"text-align: right;\">\n",
       "      <th></th>\n",
       "      <th>title</th>\n",
       "      <th>score</th>\n",
       "      <th>upvote_ratio</th>\n",
       "      <th>url</th>\n",
       "      <th>num_comments</th>\n",
       "      <th>time_created</th>\n",
       "      <th>edited</th>\n",
       "      <th>link_flair_text</th>\n",
       "      <th>self_text</th>\n",
       "      <th>permalink</th>\n",
       "    </tr>\n",
       "  </thead>\n",
       "  <tbody>\n",
       "    <tr>\n",
       "      <th>f3ijp9</th>\n",
       "      <td>Sunset after a rainy day</td>\n",
       "      <td>434</td>\n",
       "      <td>1.00</td>\n",
       "      <td>https://i.redd.it/k6egzva4urg41.jpg</td>\n",
       "      <td>17</td>\n",
       "      <td>1.581635e+09</td>\n",
       "      <td>False</td>\n",
       "      <td>None</td>\n",
       "      <td></td>\n",
       "      <td>https://reddit.com/r/sunset/comments/f3ijp9/su...</td>\n",
       "    </tr>\n",
       "    <tr>\n",
       "      <th>e9xj7q</th>\n",
       "      <td>My dad took this departing JFK this evening</td>\n",
       "      <td>390</td>\n",
       "      <td>1.00</td>\n",
       "      <td>https://i.redd.it/gtrbu2my7b441.jpg</td>\n",
       "      <td>8</td>\n",
       "      <td>1.576203e+09</td>\n",
       "      <td>False</td>\n",
       "      <td>[OC]</td>\n",
       "      <td></td>\n",
       "      <td>https://reddit.com/r/sunset/comments/e9xj7q/my...</td>\n",
       "    </tr>\n",
       "    <tr>\n",
       "      <th>emrba1</th>\n",
       "      <td>My boyfriend recently passed away and this was...</td>\n",
       "      <td>367</td>\n",
       "      <td>0.99</td>\n",
       "      <td>https://i.redd.it/6o521f50ky941.jpg</td>\n",
       "      <td>9</td>\n",
       "      <td>1.578665e+09</td>\n",
       "      <td>False</td>\n",
       "      <td>None</td>\n",
       "      <td></td>\n",
       "      <td>https://reddit.com/r/sunset/comments/emrba1/my...</td>\n",
       "    </tr>\n",
       "    <tr>\n",
       "      <th>ffxwj5</th>\n",
       "      <td>-</td>\n",
       "      <td>360</td>\n",
       "      <td>0.99</td>\n",
       "      <td>https://i.redd.it/sm8gyn1biol41.jpg</td>\n",
       "      <td>9</td>\n",
       "      <td>1.583774e+09</td>\n",
       "      <td>False</td>\n",
       "      <td>[OC]</td>\n",
       "      <td></td>\n",
       "      <td>https://reddit.com/r/sunset/comments/ffxwj5/_/</td>\n",
       "    </tr>\n",
       "    <tr>\n",
       "      <th>fo8ep2</th>\n",
       "      <td>Kauai sunset, take me back please 😭</td>\n",
       "      <td>359</td>\n",
       "      <td>1.00</td>\n",
       "      <td>https://v.redd.it/j15l7czahno41</td>\n",
       "      <td>8</td>\n",
       "      <td>1.585069e+09</td>\n",
       "      <td>False</td>\n",
       "      <td>None</td>\n",
       "      <td></td>\n",
       "      <td>https://reddit.com/r/sunset/comments/fo8ep2/ka...</td>\n",
       "    </tr>\n",
       "  </tbody>\n",
       "</table>\n",
       "</div>"
      ],
      "text/plain": [
       "                                                    title  score  \\\n",
       "f3ijp9                           Sunset after a rainy day    434   \n",
       "e9xj7q        My dad took this departing JFK this evening    390   \n",
       "emrba1  My boyfriend recently passed away and this was...    367   \n",
       "ffxwj5                                                  -    360   \n",
       "fo8ep2                Kauai sunset, take me back please 😭    359   \n",
       "\n",
       "        upvote_ratio                                  url  num_comments  \\\n",
       "f3ijp9          1.00  https://i.redd.it/k6egzva4urg41.jpg            17   \n",
       "e9xj7q          1.00  https://i.redd.it/gtrbu2my7b441.jpg             8   \n",
       "emrba1          0.99  https://i.redd.it/6o521f50ky941.jpg             9   \n",
       "ffxwj5          0.99  https://i.redd.it/sm8gyn1biol41.jpg             9   \n",
       "fo8ep2          1.00      https://v.redd.it/j15l7czahno41             8   \n",
       "\n",
       "        time_created  edited link_flair_text self_text  \\\n",
       "f3ijp9  1.581635e+09   False            None             \n",
       "e9xj7q  1.576203e+09   False            [OC]             \n",
       "emrba1  1.578665e+09   False            None             \n",
       "ffxwj5  1.583774e+09   False            [OC]             \n",
       "fo8ep2  1.585069e+09   False            None             \n",
       "\n",
       "                                                permalink  \n",
       "f3ijp9  https://reddit.com/r/sunset/comments/f3ijp9/su...  \n",
       "e9xj7q  https://reddit.com/r/sunset/comments/e9xj7q/my...  \n",
       "emrba1  https://reddit.com/r/sunset/comments/emrba1/my...  \n",
       "ffxwj5     https://reddit.com/r/sunset/comments/ffxwj5/_/  \n",
       "fo8ep2  https://reddit.com/r/sunset/comments/fo8ep2/ka...  "
      ]
     },
     "execution_count": 92,
     "metadata": {},
     "output_type": "execute_result"
    }
   ],
   "source": [
    "data = pd.DataFrame.from_dict(threads, orient = 'index')\n",
    "data.head()"
   ]
  },
  {
   "cell_type": "code",
   "execution_count": 99,
   "metadata": {
    "ExecuteTime": {
     "end_time": "2020-04-06T07:19:20.750294Z",
     "start_time": "2020-04-06T07:19:20.722227Z"
    }
   },
   "outputs": [],
   "source": [
    "data.to_csv(\"/Users/chanvarma/projects/thinkful-capstones/sunset-rater/raw_data.csv\")"
   ]
  },
  {
   "cell_type": "code",
   "execution_count": 102,
   "metadata": {
    "ExecuteTime": {
     "end_time": "2020-04-06T07:20:18.525166Z",
     "start_time": "2020-04-06T07:20:18.310923Z"
    }
   },
   "outputs": [
    {
     "data": {
      "text/plain": [
       "<matplotlib.axes._subplots.AxesSubplot at 0x139bf59d0>"
      ]
     },
     "execution_count": 102,
     "metadata": {},
     "output_type": "execute_result"
    },
    {
     "data": {
      "image/png": "[encoded data removed]",
      "text/plain": [
       "<Figure size 432x288 with 1 Axes>"
      ]
     },
     "metadata": {
      "needs_background": "light"
     },
     "output_type": "display_data"
    }
   ],
   "source": [
    "data['score'].hist(bins = 50)"
   ]
  },
  {
   "cell_type": "code",
   "execution_count": 110,
   "metadata": {
    "ExecuteTime": {
     "end_time": "2020-04-06T07:21:59.259249Z",
     "start_time": "2020-04-06T07:21:59.068620Z"
    }
   },
   "outputs": [
    {
     "data": {
      "text/plain": [
       "<matplotlib.axes._subplots.AxesSubplot at 0x13ae9ddd0>"
      ]
     },
     "execution_count": 110,
     "metadata": {},
     "output_type": "execute_result"
    },
    {
     "data": {
      "image/png": "[encoded data removed]",
      "text/plain": [
       "<Figure size 432x288 with 1 Axes>"
      ]
     },
     "metadata": {
      "needs_background": "light"
     },
     "output_type": "display_data"
    }
   ],
   "source": [
    "data['num_comments'].hist()"
   ]
  },
  {
   "cell_type": "code",
   "execution_count": null,
   "metadata": {},
   "outputs": [],
   "source": []
  }
 ],
 "metadata": {
  "kernelspec": {
   "display_name": "Python 3",
   "language": "python",
   "name": "python3"
  },
  "language_info": {
   "codemirror_mode": {
    "name": "ipython",
    "version": 3
   },
   "file_extension": ".py",
   "mimetype": "text/x-python",
   "name": "python",
   "nbconvert_exporter": "python",
   "pygments_lexer": "ipython3",
   "version": "3.7.6"
  },
  "toc": {
   "base_numbering": 1,
   "nav_menu": {},
   "number_sections": true,
   "sideBar": true,
   "skip_h1_title": true,
   "title_cell": "Table of Contents",
   "title_sidebar": "Contents",
   "toc_cell": true,
   "toc_position": {
    "height": "47.05882263183594px",
    "left": "439.9815979003906px",
    "top": "132.9889678955078px",
    "width": "158.06985473632812px"
   },
   "toc_section_display": true,
   "toc_window_display": true
  }
 },
 "nbformat": 4,
 "nbformat_minor": 4
}
