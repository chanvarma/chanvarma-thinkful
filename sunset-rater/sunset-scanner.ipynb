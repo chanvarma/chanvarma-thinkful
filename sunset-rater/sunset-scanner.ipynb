{
 "cells": [
  {
   "cell_type": "markdown",
   "metadata": {
    "toc": true
   },
   "source": [
    "<h1>Table of Contents<span class=\"tocSkip\"></span></h1>\n",
    "<div class=\"toc\"><ul class=\"toc-item\"></ul></div>"
   ]
  },
  {
   "cell_type": "markdown",
   "metadata": {},
   "source": [
    "https://towardsdatascience.com/exploring-reddits-ask-me-anything-using-the-praw-api-wrapper-129cf64c5d65"
   ]
  },
  {
   "cell_type": "code",
   "execution_count": 16,
   "metadata": {
    "ExecuteTime": {
     "end_time": "2020-02-19T06:59:24.733425Z",
     "start_time": "2020-02-19T06:59:24.727192Z"
    }
   },
   "outputs": [],
   "source": [
    "import json \n",
    "url = 'https://www.reddit.com/'\n",
    "with open('/Users/chanvarma/projects/thinkful-capstones/sunset-rater/.secret/credentials.json') as f:\n",
    "    params = json.load(f)"
   ]
  },
  {
   "cell_type": "code",
   "execution_count": 17,
   "metadata": {
    "ExecuteTime": {
     "end_time": "2020-02-19T07:00:24.050663Z",
     "start_time": "2020-02-19T07:00:23.187801Z"
    }
   },
   "outputs": [],
   "source": [
    "import praw \n",
    "reddit = praw.Reddit(client_id=params['client_id'], \n",
    "                     client_secret=params['api_key'],\n",
    "                     password=params['password'], \n",
    "                     user_agent='sunset-rater by u/greyshirtbrownguy',\n",
    "                     username=params['username'])"
   ]
  },
  {
   "cell_type": "code",
   "execution_count": 22,
   "metadata": {
    "ExecuteTime": {
     "end_time": "2020-02-19T07:01:37.266835Z",
     "start_time": "2020-02-19T07:01:37.066467Z"
    }
   },
   "outputs": [
    {
     "name": "stdout",
     "output_type": "stream",
     "text": [
      "##### Pretty photos of the sun setting.\n",
      "---\n",
      "#Rules\n",
      "###1 No ads, promotions, or marketing.\n",
      "\n",
      "###2 Be kind to others.\n",
      "\n",
      "###3 Include the location in the title.\n",
      "\n",
      "###4 Include the photographer name in the title. If you are submitting your own work tag it with the [OC] tag.\n",
      "\n",
      "###5 Posts which abuse the [OC] tag will be removed and the poster will be temporarily banned.\n",
      "\n",
      "###6 Do not repost content that has been posted in the past 3 months\n",
      "\n",
      "###7 Only submit static images (no videos, gifs, interactive images or articles)\n",
      "\n",
      "##### **[If you have any questions please message the moderators.](https://www.reddit.com/message/compose?to=%2Fr%2Fsunset)**\n",
      "\n",
      "---\n",
      "###Places You Might Like\n",
      "\n",
      "###[Our Twitter](https://twitter.com/sunset_reddit)\n",
      "\n",
      "###[/r/Tropical](https://reddit.com/r/tropical)\n",
      "\n",
      "###[/r/GloriousSunRays](https://www.reddit.com/r/glorioussunrays)\n",
      "\n",
      "###[/r/SunriseSunset](https://www.reddit.com/r/sunrisesunset)\n",
      "\n",
      "###[/r/Sunrise](https://www.reddit.com/r/sunrise)\n",
      "\n",
      "###[/r/FoggyPics](https://reddit.com/r/foggypics)\n"
     ]
    }
   ],
   "source": [
    "subreddit = reddit.subreddit('sunset')\n",
    "print(subreddit.description) "
   ]
  },
  {
   "cell_type": "code",
   "execution_count": 26,
   "metadata": {
    "ExecuteTime": {
     "end_time": "2020-02-19T07:02:21.159327Z",
     "start_time": "2020-02-19T07:02:21.155638Z"
    }
   },
   "outputs": [
    {
     "data": {
      "text/plain": [
       "20843"
      ]
     },
     "execution_count": 26,
     "metadata": {},
     "output_type": "execute_result"
    }
   ],
   "source": [
    "subreddit.subscribers"
   ]
  },
  {
   "cell_type": "code",
   "execution_count": 31,
   "metadata": {
    "ExecuteTime": {
     "end_time": "2020-02-19T07:05:37.460080Z",
     "start_time": "2020-02-19T07:05:30.066038Z"
    }
   },
   "outputs": [
    {
     "name": "stdout",
     "output_type": "stream",
     "text": [
      "Sunset after a rainy day\n",
      "371\n",
      "1.0\n",
      "https://i.redd.it/k6egzva4urg41.jpg\n",
      "16\n",
      "My dad took this departing JFK this evening\n",
      "372\n",
      "1.0\n",
      "https://i.redd.it/gtrbu2my7b441.jpg\n",
      "8\n",
      "My boyfriend recently passed away and this was the sunset during his wake. He’s been painting beautiful skies ever since.\n",
      "357\n",
      "0.99\n",
      "https://i.redd.it/6o521f50ky941.jpg\n",
      "9\n",
      ":)\n",
      "327\n",
      "1.0\n",
      "https://i.redd.it/gzg1lhggwcw31.png\n",
      "4\n",
      "Snow on the trees in Finland over the sunset (from r/oddlysatisfying)\n",
      "327\n",
      "1.0\n",
      "https://i.redd.it/rnnl452yvqd41.jpg\n",
      "6\n",
      "In spain\n",
      "325\n",
      "1.0\n",
      "https://i.redd.it/ezuh74rur2741.jpg\n",
      "8\n",
      "Colorful Colorado\n",
      "310\n",
      "0.99\n",
      "https://i.redd.it/gezfru5q74p31.jpg\n",
      "11\n",
      "Winter Park,Colorado 😍\n",
      "294\n",
      "1.0\n",
      "https://v.redd.it/yaivy9o1mke41\n",
      "4\n",
      "Arizonan showstopper\n",
      "288\n",
      "1.0\n",
      "https://v.redd.it/znv7tecgghb41\n",
      "12\n",
      "On my way to London Stansted Airport.\n",
      "274\n",
      "1.0\n",
      "https://v.redd.it/8qzxt34u9nq21\n",
      "16\n"
     ]
    }
   ],
   "source": [
    "#iterating through the 10 submissions marked hot\n",
    "for submission in subreddit.top(limit=10):\n",
    "    print(submission.title)  # Output: the submission's title\n",
    "    print(submission.score)  # Output: the submission's upvotes\n",
    "    print(submission.upvote_ratio)     # Output: the submission's ID\n",
    "    print(submission.url)    # Output: the URL'\n",
    "    print(submission.num_comments)"
   ]
  },
  {
   "cell_type": "code",
   "execution_count": null,
   "metadata": {},
   "outputs": [],
   "source": []
  }
 ],
 "metadata": {
  "kernelspec": {
   "display_name": "Python 3",
   "language": "python",
   "name": "python3"
  },
  "language_info": {
   "codemirror_mode": {
    "name": "ipython",
    "version": 3
   },
   "file_extension": ".py",
   "mimetype": "text/x-python",
   "name": "python",
   "nbconvert_exporter": "python",
   "pygments_lexer": "ipython3",
   "version": "3.7.6"
  },
  "toc": {
   "base_numbering": 1,
   "nav_menu": {},
   "number_sections": true,
   "sideBar": false,
   "skip_h1_title": true,
   "title_cell": "Table of Contents",
   "title_sidebar": "Contents",
   "toc_cell": true,
   "toc_position": {
    "height": "47.05882263183594px",
    "left": "439.99627685546875px",
    "top": "134.00733947753906px",
    "width": "158.06985473632812px"
   },
   "toc_section_display": false,
   "toc_window_display": true
  }
 },
 "nbformat": 4,
 "nbformat_minor": 4
}
